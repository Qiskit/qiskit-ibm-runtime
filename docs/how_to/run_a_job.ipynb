{
 "cells": [
  {
   "cell_type": "markdown",
   "metadata": {},
   "source": [
    "# Run a job\n",
    "\n",
    "This guide shows you how to run a job using a Qiskit Runtime program.\n",
    "\n",
    "## Before you begin\n",
    "\n",
    "Throughout this guide, we will assume that you have [setup the Qiskit Runtime service instance](../getting_started.rst) and initialize it as `service`:"
   ]
  },
  {
   "cell_type": "code",
   "execution_count": 1,
   "metadata": {},
   "outputs": [],
   "source": [
    "from qiskit_ibm_runtime import QiskitRuntimeService\n",
    "\n",
    "service = QiskitRuntimeService()"
   ]
  },
  {
   "cell_type": "markdown",
   "metadata": {},
   "source": [
    "## Program parameters\n",
    "\n",
    "You can use the [QiskitRuntimeService.run()](https://qiskit.org/documentation/partners/qiskit_ibm_runtime/stubs/qiskit_ibm_runtime.QiskitRuntimeService.run.html) method to invoke a runtime program. This method takes the following parameters:\n",
    "\n",
    "- `program_id`: ID of the program to run.\n",
    "- `inputs`: Program input parameters. These input values are passed to the runtime program.\n",
    "- `options`: Runtime options. These options control the execution environment. Currently the only available option is `backend_name`, which is required for IBM Quantum but it's optional for IBM Cloud. If you do not specify one, the job is sent to the least busy device that you have access to.\n",
    "- `callback`: Callback function to be invoked for any interim results and final result. The callback function will receive two positional parameters: job ID and result.\n",
    "- `result_decoder`: Optional class used to decode the job result.\n",
    "\n",
    "\n",
    "## Example: `hello-world` program\n",
    "\n",
    "Here is an example of running the `hello-world` program:"
   ]
  },
  {
   "cell_type": "code",
   "execution_count": 2,
   "metadata": {},
   "outputs": [
    {
     "name": "stdout",
     "output_type": "stream",
     "text": [
      "job id: c9t1en0ersc7jd7ejfm0\n",
      "Hello, World!\n"
     ]
    }
   ],
   "source": [
    "# Specify the program inputs here.\n",
    "program_inputs = {\"iterations\": 3}\n",
    "\n",
    "# Specify the backend name.\n",
    "options = {\"backend_name\": \"ibmq_qasm_simulator\"}\n",
    "\n",
    "job = service.run(\n",
    "    program_id=\"hello-world\",\n",
    "    inputs=program_inputs,\n",
    "    options=options\n",
    ")\n",
    "\n",
    "# Printing the job ID in case we need to retrieve it later.\n",
    "print(f\"job id: {job.job_id()}\")\n",
    "\n",
    "# Get the job result - this is blocking and control may not return immediately.\n",
    "result = job.result()\n",
    "print(result)"
   ]
  }
 ],
 "metadata": {
  "interpreter": {
   "hash": "af6556707e0232a0c39475efb4530ef467b63dfdff76af32a65872041f483d9d"
  },
  "kernelspec": {
   "display_name": "Python 3.9.7 ('primitives')",
   "language": "python",
   "name": "python3"
  },
  "language_info": {
   "codemirror_mode": {
    "name": "ipython",
    "version": 3
   },
   "file_extension": ".py",
   "mimetype": "text/x-python",
   "name": "python",
   "nbconvert_exporter": "python",
   "pygments_lexer": "ipython3",
   "version": "3.9.7"
  },
  "orig_nbformat": 4
 },
 "nbformat": 4,
 "nbformat_minor": 2
}
