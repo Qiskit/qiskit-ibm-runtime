{
 "cells": [
  {
   "cell_type": "markdown",
   "metadata": {},
   "source": [
    "# Filter backends\n",
    "\n",
    "This guide shows you how to apply filters for selecting backends.\n",
    "\n",
    "## Before you begin\n",
    "\n",
    "Throughout this guide, we will assume that you have [setup the Qiskit Runtime service instance](../getting_started.rst) and initialize it as `service`:"
   ]
  },
  {
   "cell_type": "code",
   "execution_count": 1,
   "metadata": {},
   "outputs": [],
   "source": [
    "from qiskit_ibm_runtime import QiskitRuntimeService\n",
    "\n",
    "service = QiskitRuntimeService()"
   ]
  },
  {
   "cell_type": "markdown",
   "metadata": {},
   "source": [
    "## Filtering options\n",
    "\n",
    "You can apply filters for choosing backends including the following options: `name`, `min_num_qubits`, `instance`, `filters` and `**kwargs`. See [the API reference](https://qiskit.org/documentation/partners/qiskit_ibm_runtime/stubs/qiskit_ibm_runtime.QiskitRuntimeService.backends.html) for more details. Code examples for each option are shown in the following sections."
   ]
  },
  {
   "cell_type": "markdown",
   "metadata": {},
   "source": [
    "<div class=\"alert alert-info\">\n",
    "\n",
    "Note\n",
    "\n",
    "The output of the following cells will depend on the channel (IBM Quantum or IBM Cloud) you are accessing Qiskit Runtime, the hub/group/project (for IBM Quantum) or the plan (for IBM Cloud).\n",
    "\n",
    "</div>"
   ]
  },
  {
   "cell_type": "markdown",
   "metadata": {},
   "source": [
    "## Filter by backend name\n",
    "\n",
    "You can choose a backend by specifying the backend name. Here is an example to get the ``ibmq_qasm_simulator`` backend:"
   ]
  },
  {
   "cell_type": "code",
   "execution_count": 2,
   "metadata": {},
   "outputs": [
    {
     "data": {
      "text/plain": [
       "[<IBMBackend('ibmq_qasm_simulator')>]"
      ]
     },
     "execution_count": 2,
     "metadata": {},
     "output_type": "execute_result"
    }
   ],
   "source": [
    "service.backends(name='ibmq_qasm_simulator')"
   ]
  },
  {
   "cell_type": "markdown",
   "metadata": {},
   "source": [
    "## Filter by minimum number of qubits\n",
    "\n",
    "You can filter backends by specifying the minimum number of qubits. Here is an example to get backends that has at least 20 qubits:"
   ]
  },
  {
   "cell_type": "code",
   "execution_count": 3,
   "metadata": {},
   "outputs": [
    {
     "data": {
      "text/plain": [
       "[<IBMBackend('ibmq_qasm_simulator')>,\n",
       " <IBMBackend('simulator_stabilizer')>,\n",
       " <IBMBackend('simulator_mps')>,\n",
       " <IBMBackend('simulator_extended_stabilizer')>,\n",
       " <IBMBackend('simulator_statevector')>]"
      ]
     },
     "execution_count": 3,
     "metadata": {},
     "output_type": "execute_result"
    }
   ],
   "source": [
    "service.backends(min_num_qubits=20)"
   ]
  },
  {
   "cell_type": "markdown",
   "metadata": {},
   "source": [
    "## Filter by IBM Quantum hub/group/project\n",
    "\n",
    "If you are accessing Qiskit Runtime service from IBM Quantum platform, you can filter backends using the `hub/group/project` format. See [IBM Quantum account page](https://quantum-computing.ibm.com/account) for the list of hub/group/project you have access to. Here is an example to get backends that are available to the default IBM Quantum open access hub/group/project:"
   ]
  },
  {
   "cell_type": "code",
   "execution_count": 4,
   "metadata": {},
   "outputs": [
    {
     "data": {
      "text/plain": [
       "[<IBMBackend('ibmq_qasm_simulator')>,\n",
       " <IBMBackend('ibmq_armonk')>,\n",
       " <IBMBackend('ibmq_santiago')>,\n",
       " <IBMBackend('ibmq_bogota')>,\n",
       " <IBMBackend('ibmq_lima')>,\n",
       " <IBMBackend('ibmq_belem')>,\n",
       " <IBMBackend('ibmq_quito')>,\n",
       " <IBMBackend('simulator_statevector')>,\n",
       " <IBMBackend('simulator_mps')>,\n",
       " <IBMBackend('simulator_extended_stabilizer')>,\n",
       " <IBMBackend('simulator_stabilizer')>,\n",
       " <IBMBackend('ibmq_manila')>]"
      ]
     },
     "execution_count": 4,
     "metadata": {},
     "output_type": "execute_result"
    }
   ],
   "source": [
    "service = QiskitRuntimeService(channel='ibm_quantum')\n",
    "service.backends(instance='ibm-q/open/main')"
   ]
  },
  {
   "cell_type": "markdown",
   "metadata": {},
   "source": [
    "## Filter by complex filters\n",
    "\n",
    "You can also apply more complex filters such as lambda functions. Here is an example to get backends that has quantum volume of 32 or above:"
   ]
  },
  {
   "cell_type": "code",
   "execution_count": 5,
   "metadata": {},
   "outputs": [
    {
     "data": {
      "text/plain": [
       "[<IBMBackend('ibmq_montreal')>,\n",
       " <IBMBackend('ibmq_toronto')>,\n",
       " <IBMBackend('ibmq_bogota')>,\n",
       " <IBMBackend('ibmq_mumbai')>,\n",
       " <IBMBackend('ibmq_guadalupe')>,\n",
       " <IBMBackend('ibmq_brooklyn')>,\n",
       " <IBMBackend('ibmq_manila')>,\n",
       " <IBMBackend('ibm_hanoi')>,\n",
       " <IBMBackend('ibm_lagos')>,\n",
       " <IBMBackend('ibm_cairo')>,\n",
       " <IBMBackend('ibm_auckland')>,\n",
       " <IBMBackend('ibm_perth')>,\n",
       " <IBMBackend('ibm_washington')>,\n",
       " <IBMBackend('ibmq_santiago')>,\n",
       " <IBMBackend('ibm_nairobi')>]"
      ]
     },
     "execution_count": 5,
     "metadata": {},
     "output_type": "execute_result"
    }
   ],
   "source": [
    "service.backends(\n",
    "    simulator=False, # simulators do not have Quantum Volume\n",
    "    filters=lambda b: b.configuration().quantum_volume >= 32\n",
    "    )"
   ]
  }
 ],
 "metadata": {
  "interpreter": {
   "hash": "af6556707e0232a0c39475efb4530ef467b63dfdff76af32a65872041f483d9d"
  },
  "kernelspec": {
   "display_name": "primitives",
   "language": "python",
   "name": "primitives"
  },
  "language_info": {
   "codemirror_mode": {
    "name": "ipython",
    "version": 3
   },
   "file_extension": ".py",
   "mimetype": "text/x-python",
   "name": "python",
   "nbconvert_exporter": "python",
   "pygments_lexer": "ipython3",
   "version": "3.9.7"
  },
  "orig_nbformat": 4
 },
 "nbformat": 4,
 "nbformat_minor": 2
}
