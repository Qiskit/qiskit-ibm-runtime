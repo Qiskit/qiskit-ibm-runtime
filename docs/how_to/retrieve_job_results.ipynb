{
 "cells": [
  {
   "cell_type": "markdown",
   "metadata": {},
   "source": [
    "# Retrieve job and job results\n",
    "\n",
    "This guide shows you how to retrieve a previously run job and its final results.\n",
    "\n",
    "## Before you begin\n",
    "\n",
    "If you haven't already, check out the guide on [running a job using QiskitRuntimeService.run().](run_a_job.ipynb)\n",
    "\n",
    "We will retrieve an old job with job id in this guide."
   ]
  },
  {
   "cell_type": "markdown",
   "metadata": {
    "nbsphinx": "hidden",
    "tags": []
   },
   "source": [
    "## Retrieve a job\n",
    "\n",
    "If you have the job ID, you can use the [QiskitRuntimeService.job()](https://qiskit.org/documentation/partners/qiskit_ibm_runtime/stubs/qiskit_ibm_runtime.QiskitRuntimeService.job.html#qiskit_ibm_runtime.QiskitRuntimeService.job) method to retrieve a job you ran previously:"
   ]
  },
  {
   "cell_type": "code",
   "execution_count": 1,
   "metadata": {},
   "outputs": [],
   "source": [
    "from qiskit_ibm_runtime import QiskitRuntimeService\n",
    "\n",
    "service = QiskitRuntimeService()\n",
    "\n",
    "# Replace with your own job id\n",
    "job = service.job(job_id='c9toiikmmabqh8vm2iag')"
   ]
  },
  {
   "cell_type": "markdown",
   "metadata": {},
   "source": [
    "If you don't have the job ID, or if you want to retrieve multiple jobs, you can instead use the [QiskitRuntimeService.jobs()](https://qiskit.org/documentation/partners/qiskit_ibm_runtime/stubs/qiskit_ibm_runtime.QiskitRuntimeService.jobs.html#qiskit_ibm_runtime.QiskitRuntimeService.jobs) method. This method has several filters that allow you to narrow down your search. The API documentation provides a list of all the filters and their descriptions. "
   ]
  },
  {
   "cell_type": "code",
   "execution_count": null,
   "metadata": {},
   "outputs": [],
   "source": [
    "# This example retrieves the last 5 jobs using the 'sampler' program.\n",
    "jobs = service.jobs(program_id=\"sampler\", limit=5)"
   ]
  },
  {
   "cell_type": "markdown",
   "metadata": {},
   "source": [
    "The `jobs()` method returns a list of [RuntimeJob](https://qiskit.org/documentation/partners/qiskit_ibm_runtime/stubs/qiskit_ibm_runtime.RuntimeJob.html#qiskit_ibm_runtime.RuntimeJob) instances. The `job` variable used in this guide is of the same type."
   ]
  },
  {
   "cell_type": "markdown",
   "metadata": {},
   "source": [
    "\n",
    "\n",
    "## Check job status\n",
    "\n",
    "You can retrieve a job any time after running it. But you can only retrieve job results after the job has been completed. To check the job status, you can run:"
   ]
  },
  {
   "cell_type": "code",
   "execution_count": 2,
   "metadata": {},
   "outputs": [
    {
     "data": {
      "text/plain": [
       "<JobStatus.DONE: 'job has successfully run'>"
      ]
     },
     "execution_count": 2,
     "metadata": {},
     "output_type": "execute_result"
    }
   ],
   "source": [
    "job.status()"
   ]
  },
  {
   "cell_type": "markdown",
   "metadata": {},
   "source": [
    "If it returns `<JobStatus.DONE: 'job has successfully run'>`, the job has been completed.\n",
    "\n",
    "## Retrieve job results\n",
    "\n",
    "You can retrieve job results using the [RuntimeJob.result](https://qiskit.org/documentation/partners/qiskit_ibm_runtime/stubs/qiskit_ibm_runtime.RuntimeJob.result.html#qiskit_ibm_runtime.RuntimeJob.result) method. \n",
    "\n",
    "You don't have to wait for the job to complete before calling this method, but the method will block until the job is completed and results retrieved. "
   ]
  },
  {
   "cell_type": "code",
   "execution_count": 3,
   "metadata": {},
   "outputs": [
    {
     "data": {
      "text/plain": [
       "'Hello, World!'"
      ]
     },
     "execution_count": 3,
     "metadata": {},
     "output_type": "execute_result"
    }
   ],
   "source": [
    "job.result()"
   ]
  }
 ],
 "metadata": {
  "interpreter": {
   "hash": "aee8b7b246df8f9039afb4144a1f6fd8d2ca17a180786b69acc140d282b71a49"
  },
  "kernelspec": {
   "display_name": "Python 3 (ipykernel)",
   "language": "python",
   "name": "python3"
  },
  "language_info": {
   "codemirror_mode": {
    "name": "ipython",
    "version": 3
   },
   "file_extension": ".py",
   "mimetype": "text/x-python",
   "name": "python",
   "nbconvert_exporter": "python",
   "pygments_lexer": "ipython3",
   "version": "3.8.8"
  }
 },
 "nbformat": 4,
 "nbformat_minor": 4
}
