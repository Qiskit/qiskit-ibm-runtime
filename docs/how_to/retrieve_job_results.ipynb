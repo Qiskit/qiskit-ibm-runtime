{
 "cells": [
  {
   "cell_type": "markdown",
   "metadata": {},
   "source": [
    "# Retrieve job results\n",
    "\n",
    "This guide shows you how to view final job results after running a job.\n",
    "\n",
    "## Before you begin\n",
    "\n",
    "Throughout this guide we will assume that you have set the job you want to retrieve results as variable `job` by any of the following methods:\n",
    "\n",
    "1. [run a job using QiskitRuntimeService.run().](run_a_job.ipynb)\n",
    "2. retrieve a job that has been ran before.\n",
    "\n",
    "We will retrieve an old job with job id in this guide."
   ]
  },
  {
   "cell_type": "markdown",
   "metadata": {
    "nbsphinx": "hidden",
    "tags": []
   },
   "source": [
    "(Hidden cell)\n",
    "TODO: link to how to retrieve job"
   ]
  },
  {
   "cell_type": "code",
   "execution_count": 1,
   "metadata": {},
   "outputs": [],
   "source": [
    "from qiskit_ibm_runtime import QiskitRuntimeService\n",
    "\n",
    "service = QiskitRuntimeService()\n",
    "\n",
    "# Replace with your own job id\n",
    "job = service.job(job_id='c9toiikmmabqh8vm2iag')"
   ]
  },
  {
   "cell_type": "markdown",
   "metadata": {},
   "source": [
    "\n",
    "\n",
    "## Check job status\n",
    "\n",
    "You can only retrieve job results afer the job has been completed. To check the job status, you can run:"
   ]
  },
  {
   "cell_type": "code",
   "execution_count": 2,
   "metadata": {},
   "outputs": [
    {
     "data": {
      "text/plain": [
       "<JobStatus.DONE: 'job has successfully run'>"
      ]
     },
     "execution_count": 2,
     "metadata": {},
     "output_type": "execute_result"
    }
   ],
   "source": [
    "job.status()"
   ]
  },
  {
   "cell_type": "markdown",
   "metadata": {},
   "source": [
    "If it returns `<JobStatus.DONE: 'job has successfully run'>`, the job has been completed and you can proceed to retrieve job results.\n",
    "\n",
    "## Retrieve job results\n",
    "\n",
    "You can retrieve job results using:"
   ]
  },
  {
   "cell_type": "code",
   "execution_count": 3,
   "metadata": {},
   "outputs": [
    {
     "data": {
      "text/plain": [
       "'Hello, World!'"
      ]
     },
     "execution_count": 3,
     "metadata": {},
     "output_type": "execute_result"
    }
   ],
   "source": [
    "job.result()"
   ]
  }
 ],
 "metadata": {
  "interpreter": {
   "hash": "aee8b7b246df8f9039afb4144a1f6fd8d2ca17a180786b69acc140d282b71a49"
  },
  "kernelspec": {
   "display_name": "Python 3 (ipykernel)",
   "language": "python",
   "name": "python3"
  },
  "language_info": {
   "codemirror_mode": {
    "name": "ipython",
    "version": 3
   },
   "file_extension": ".py",
   "mimetype": "text/x-python",
   "name": "python",
   "nbconvert_exporter": "python",
   "pygments_lexer": "ipython3",
   "version": "3.8.8"
  }
 },
 "nbformat": 4,
 "nbformat_minor": 4
}
