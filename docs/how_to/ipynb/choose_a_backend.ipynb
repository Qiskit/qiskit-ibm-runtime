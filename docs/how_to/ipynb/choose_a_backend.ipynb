{
 "cells": [
  {
   "cell_type": "markdown",
   "metadata": {},
   "source": [
    "# Choose a backend\n",
    "\n",
    "This guide shows you how to specify the backend and how to see the list of available backends (physical quantum systems or simulators) and apply filters to choose a backend to run a runtime programs.\n",
    "\n",
    "## Before you begin\n",
    "\n",
    "Throughout this guide, we will assume that you have [setup the Qiskit Runtime service instance](https://qiskit.org/documentation/partners/qiskit_ibm_runtime/getting_started.html) and initialize it as `service`:"
   ]
  },
  {
   "cell_type": "code",
   "execution_count": null,
   "metadata": {},
   "outputs": [],
   "source": [
    "from qiskit_ibm_runtime import QiskitRuntimeService\n",
    "service = QiskitRuntimeService()"
   ]
  },
  {
   "cell_type": "markdown",
   "metadata": {},
   "source": [
    "## Specify the backend\n",
    "\n",
    "You can specify the backend to run a runtime program by specifying the `backend_name` option and pass to the program:\n"
   ]
  },
  {
   "cell_type": "code",
   "execution_count": null,
   "metadata": {},
   "outputs": [],
   "source": [
    "options = {\"backend_name\": \"ibmq_qasm_simulator\"}\n",
    "job = service.run(\n",
    "    program_id=\"hello-world\",\n",
    "    options=options\n",
    ")"
   ]
  },
  {
   "cell_type": "markdown",
   "metadata": {},
   "source": [
    "## See the list of available backends\n",
    "\n",
    "You can see the list of available backends by calling `QiskitRuntimeService.backends()`:"
   ]
  },
  {
   "cell_type": "code",
   "execution_count": null,
   "metadata": {},
   "outputs": [],
   "source": [
    "service.backends()"
   ]
  },
  {
   "cell_type": "markdown",
   "metadata": {},
   "source": [
    "## Apply filters for choosing backends\n",
    "\n",
    "You can apply filters for choosing backends including the following options. See [the API reference](https://qiskit.org/documentation/partners/qiskit_ibm_runtime/stubs/qiskit_ibm_runtime.QiskitRuntimeService.backends.html#qiskit_ibm_runtime.QiskitRuntimeService.backends) for more details.\n",
    "\n",
    "### Filter by backend name\n",
    "\n",
    "You can choose a backend by specifying the backend name. Here is an example to get the `ibmq_qasm_simulator` backend:"
   ]
  },
  {
   "cell_type": "code",
   "execution_count": null,
   "metadata": {},
   "outputs": [],
   "source": [
    "service.backends(name='ibmq_qasm_simulator')"
   ]
  },
  {
   "cell_type": "markdown",
   "metadata": {},
   "source": [
    "### Filter by minimum number of qubits\n",
    "\n",
    "You can filter backends by specifying the minimum number of qubits. Here is an example to get backends that has at least 20 qubits:"
   ]
  },
  {
   "cell_type": "code",
   "execution_count": null,
   "metadata": {},
   "outputs": [],
   "source": [
    "service.backends(min_num_qubits=20)"
   ]
  },
  {
   "cell_type": "markdown",
   "metadata": {},
   "source": [
    "### Filter by IBM Quantum provider hub/group/project\n",
    "\n",
    "If you are accessing Qiskit Runtime service from IBM Quantum platform, you can filter backends using the `hub/group/project` format of IBM Quantum provider. See [IBM Quantum account page](https://quantum-computing.ibm.com/account) for the list of providers you have access to. Here is an example to get backends that are availabe to the default IBM Quantum open provider:"
   ]
  },
  {
   "cell_type": "code",
   "execution_count": null,
   "metadata": {},
   "outputs": [],
   "source": [
    "service.backends(instance='ibm-q/open/main')"
   ]
  },
  {
   "cell_type": "markdown",
   "metadata": {},
   "source": [
    "### Filter by backend configuration or status\n",
    "\n",
    "You can specify ``True``/``False`` criteria in the backend configuration or status using optional keyword arguments `**kwargs`. Here is an example to get the operational real backends:"
   ]
  },
  {
   "cell_type": "code",
   "execution_count": null,
   "metadata": {},
   "outputs": [],
   "source": [
    "service.backends(simulator=False, operational=True)"
   ]
  },
  {
   "cell_type": "markdown",
   "metadata": {},
   "source": [
    "### Filter by complex filters\n",
    "\n",
    "You can also apply more complex filters such as lambda functions. Here is an example to get backends that has quantum volume larger than 16:"
   ]
  },
  {
   "cell_type": "code",
   "execution_count": null,
   "metadata": {},
   "outputs": [],
   "source": [
    "service.backends(\n",
    "    simulator=False,\n",
    "    filters=lambda b: b.configuration().quantum_volume > 16)"
   ]
  }
 ],
 "metadata": {
  "language_info": {
   "name": "python"
  },
  "orig_nbformat": 4
 },
 "nbformat": 4,
 "nbformat_minor": 2
}
