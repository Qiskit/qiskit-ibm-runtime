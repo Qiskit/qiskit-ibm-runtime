{
 "cells": [
  {
   "cell_type": "markdown",
   "id": "7f409f1f",
   "metadata": {},
   "source": [
    "# Acceptance Criteria for Runtime 0.1 release"
   ]
  },
  {
   "cell_type": "code",
   "execution_count": null,
   "id": "3d039414",
   "metadata": {},
   "outputs": [],
   "source": [
    "from qiskit_ibm_runtime import IBMRuntimeService"
   ]
  },
  {
   "cell_type": "markdown",
   "id": "a7300dad",
   "metadata": {},
   "source": [
    "# Authentication\n",
    "\n",
    "## Legacy\n",
    "Using IBM Quantum API token.\n",
    "\n",
    "### Save Legacy Account"
   ]
  },
  {
   "cell_type": "code",
   "execution_count": null,
   "id": "0326e78b-b3df-40ad-9adb-db7a03a29f9c",
   "metadata": {},
   "outputs": [],
   "source": [
    "# Save default legacy account\n",
    "IBMRuntimeService.save_account(\n",
    "    token=\"xyz\",  # optional\n",
    "    url=\"https://auth.quantum-computing.ibm.com/api\",  # optional\n",
    "    instance=\"qiskit-hub/qiskit-group/qiskit-project\",  # optional\n",
    "    auth=\"legacy\"\n",
    ")"
   ]
  },
  {
   "cell_type": "code",
   "execution_count": null,
   "id": "ca5c496d",
   "metadata": {},
   "outputs": [],
   "source": [
    "# Save legacy account with a name\n",
    "# Note: if there is already an account saved with same name then it will be updated\n",
    "IBMRuntimeService.save_account(\n",
    "    token=\"abc\",  # optional\n",
    "    url=\"https://auth.quantum-computing.ibm.com/api\",  # optional\n",
    "    instance=\"qiskit-hub-1/qiskit-group-1/qiskit-project-1\",  # optional\n",
    "    auth=\"legacy\",\n",
    "    name=\"my-legacy-account\"\n",
    ")"
   ]
  },
  {
   "cell_type": "markdown",
   "id": "5232022a",
   "metadata": {},
   "source": [
    "### Load Legacy Account from Saved Account"
   ]
  },
  {
   "cell_type": "code",
   "execution_count": null,
   "id": "2f45dccc",
   "metadata": {},
   "outputs": [],
   "source": [
    "# Load default legacy account\n",
    "service = IBMRuntimeService(auth=\"legacy\")"
   ]
  },
  {
   "cell_type": "code",
   "execution_count": null,
   "id": "bfcc2cec",
   "metadata": {},
   "outputs": [],
   "source": [
    "# Load legacy account with name\n",
    "service = IBMRuntimeService(name=\"my-legacy-account\")"
   ]
  },
  {
   "cell_type": "markdown",
   "id": "76d4c05a",
   "metadata": {},
   "source": [
    "### Enable Legacy Account for current session without saving"
   ]
  },
  {
   "cell_type": "code",
   "execution_count": null,
   "id": "ec0980d9",
   "metadata": {},
   "outputs": [],
   "source": [
    "# Enable legacy account with auth, token and url (optional) parameters\n",
    "service = IBMRuntimeService(auth=\"legacy\", token=\"xyz\", url=\"https://auth.quantum-computing.ibm.com/api\")"
   ]
  },
  {
   "cell_type": "markdown",
   "id": "4bf082bf",
   "metadata": {},
   "source": [
    "### Enable Legacy Account using Env variables"
   ]
  },
  {
   "cell_type": "code",
   "execution_count": null,
   "id": "7c81d66c",
   "metadata": {},
   "outputs": [],
   "source": [
    "# Env variables take preference over saved credentials\n",
    "QISKIT_IBM_API_TOKEN=xyz\n",
    "QISKIT_IBM_API_URL=https://auth.quantum-computing.ibm.com/api\n",
    "QISKIT_IBM_INSTANCE=qiskit-hub-1/qiskit-group-1/qiskit-project-1\n",
    "\n",
    "# Load legacy account from environment variables\n",
    "service = IBMRuntimeService()"
   ]
  },
  {
   "cell_type": "markdown",
   "id": "11908543",
   "metadata": {},
   "source": [
    "### Delete Legacy Account"
   ]
  },
  {
   "cell_type": "code",
   "execution_count": null,
   "id": "056dafef",
   "metadata": {},
   "outputs": [],
   "source": [
    "# Delete default legacy account\n",
    "IBMRuntimeService.delete_account(auth=\"legacy\")"
   ]
  },
  {
   "cell_type": "code",
   "execution_count": null,
   "id": "cb530615",
   "metadata": {},
   "outputs": [],
   "source": [
    "# Delete legacy account with name\n",
    "IBMRuntimeService.delete_account(name=\"my-legacy-account\")"
   ]
  },
  {
   "cell_type": "markdown",
   "id": "471e1741",
   "metadata": {},
   "source": [
    "## Cloud\n",
    "Using IBM Cloud API key and CRN.\n",
    "\n",
    "### Save Cloud Account"
   ]
  },
  {
   "cell_type": "code",
   "execution_count": null,
   "id": "4e63a883",
   "metadata": {},
   "outputs": [],
   "source": [
    "# Save default cloud account\n",
    "IBMRuntimeService.save_account(\n",
    "    auth=\"cloud\", \n",
    "    token=\"xyz\", \n",
    "    url=\"https://cloud.ibm.com\",\n",
    "    instance=\"<crn:v1:bluemix:public:quantum-computing:us-east:a/...> or <Quantum Services-bg>\" # full CRN or service instance name\n",
    ")"
   ]
  },
  {
   "cell_type": "code",
   "execution_count": null,
   "id": "361fbf7b",
   "metadata": {},
   "outputs": [],
   "source": [
    "# Save cloud account with a name\n",
    "# Note: if there is already an account saved with same name then it will be updated\n",
    "IBMRuntimeService.save_account(\n",
    "    name=\"my-cloud-account\"\n",
    "    auth=\"cloud\", \n",
    "    token=\"xyz\", \n",
    "    url=\"https://cloud.ibm.com\",\n",
    "    instance=\"<crn:v1:bluemix:public:quantum-computing:us-east:a/...> or <Quantum Services-bg>\" # full CRN or service instance name\n",
    ")"
   ]
  },
  {
   "cell_type": "markdown",
   "id": "e1daafd6",
   "metadata": {},
   "source": [
    "### Load Cloud Account from Saved Account"
   ]
  },
  {
   "cell_type": "code",
   "execution_count": null,
   "id": "5ee3ac49",
   "metadata": {},
   "outputs": [],
   "source": [
    "# Load default cloud account\n",
    "# Note: if there is only legacy account saved, this should return the default legacy account\n",
    "service = IBMRuntimeService()"
   ]
  },
  {
   "cell_type": "code",
   "execution_count": null,
   "id": "286dcf5a",
   "metadata": {},
   "outputs": [],
   "source": [
    "# Load default cloud account\n",
    "service = IBMRuntimeService(auth=\"cloud\")"
   ]
  },
  {
   "cell_type": "code",
   "execution_count": null,
   "id": "25a7923c",
   "metadata": {},
   "outputs": [],
   "source": [
    "# Load cloud account with name\n",
    "service = IBMRuntimeService(name=\"my-cloud-account\")"
   ]
  },
  {
   "cell_type": "code",
   "execution_count": null,
   "id": "6e9a4280",
   "metadata": {},
   "outputs": [],
   "source": [
    "# Load cloud account with full CRN or service instance name\n",
    "service = IBMRuntimeService(instance=\"crn:v1:bluemix:public:quantum-computing:us-east:a/...\") # full CRN\n",
    "service = IBMRuntimeService(instance=\"Quantum Services-bg\") # service instance name"
   ]
  },
  {
   "cell_type": "markdown",
   "id": "a59f2c90",
   "metadata": {},
   "source": [
    "### Enable Cloud Account for current session without saving"
   ]
  },
  {
   "cell_type": "code",
   "execution_count": null,
   "id": "b57fe754",
   "metadata": {},
   "outputs": [],
   "source": [
    "# Enable cloud account with auth, token, url (optional) and instance parameters\n",
    "service = IBMRuntimeService(auth=\"cloud\", token=\"xyz\", url=\"https://cloud.ibm.com\", instance=\"<crn:v1:bluemix:public:quantum-computing:us-east:a/...> or <Quantum Services-bg>\") # full CRN or service instance name"
   ]
  },
  {
   "cell_type": "markdown",
   "id": "65704f5b",
   "metadata": {},
   "source": [
    "### Enable Cloud Account using Env variables"
   ]
  },
  {
   "cell_type": "code",
   "execution_count": null,
   "id": "a69d93d6",
   "metadata": {},
   "outputs": [],
   "source": [
    "# Env variables take preference over saved credentials\n",
    "QISKIT_IBM_API_TOKEN=xyz\n",
    "QISKIT_IBM_API_URL=https://cloud.ibm.com\n",
    "QISKIT_IBM_INSTANCE=<crn:v1:bluemix:public:quantum-computing:us-east:a/...> or <Quantum Services-bg> # full CRN or service instance name\n",
    "\n",
    "# Load cloud account from environment variables\n",
    "service = IBMRuntimeService()"
   ]
  },
  {
   "cell_type": "markdown",
   "id": "2b616b77",
   "metadata": {},
   "source": [
    "### Delete Cloud Account"
   ]
  },
  {
   "cell_type": "code",
   "execution_count": null,
   "id": "63980cb1",
   "metadata": {},
   "outputs": [],
   "source": [
    "# Delete default cloud account\n",
    "IBMRuntimeService.delete_account(auth=\"cloud\")"
   ]
  },
  {
   "cell_type": "code",
   "execution_count": null,
   "id": "52d20714",
   "metadata": {},
   "outputs": [],
   "source": [
    "# Delete default cloud account\n",
    "IBMRuntimeService.delete_account()"
   ]
  },
  {
   "cell_type": "code",
   "execution_count": null,
   "id": "39f2e2a0",
   "metadata": {},
   "outputs": [],
   "source": [
    "# Delete cloud account with name\n",
    "IBMRuntimeService.delete_account(name=\"my-cloud-account\")"
   ]
  },
  {
   "cell_type": "markdown",
   "id": "5c9b579d",
   "metadata": {},
   "source": [
    "## Common\n",
    "### Show active account"
   ]
  },
  {
   "cell_type": "code",
   "execution_count": null,
   "id": "eb3f8045",
   "metadata": {},
   "outputs": [],
   "source": [
    "# Get account currently in use for the session\n",
    "service.active_account()"
   ]
  },
  {
   "cell_type": "markdown",
   "id": "74ddc4d4",
   "metadata": {},
   "source": [
    "### Show saved accounts"
   ]
  },
  {
   "cell_type": "code",
   "execution_count": null,
   "id": "212eb615",
   "metadata": {},
   "outputs": [],
   "source": [
    "# Show all saved accounts\n",
    "IBMRuntimeService.saved_accounts()"
   ]
  },
  {
   "cell_type": "code",
   "execution_count": null,
   "id": "d3e80285",
   "metadata": {},
   "outputs": [],
   "source": [
    "# Show default saved accounts\n",
    "IBMRuntimeService.saved_accounts(default=True)"
   ]
  },
  {
   "cell_type": "code",
   "execution_count": null,
   "id": "d3a73d3b",
   "metadata": {},
   "outputs": [],
   "source": [
    "# Show all legacy saved accounts\n",
    "IBMRuntimeService.saved_accounts(auth=\"legacy\")"
   ]
  },
  {
   "cell_type": "code",
   "execution_count": null,
   "id": "dccdee27",
   "metadata": {},
   "outputs": [],
   "source": [
    "# Show all cloud saved accounts\n",
    "IBMRuntimeService.saved_accounts(auth=\"cloud\")"
   ]
  },
  {
   "cell_type": "code",
   "execution_count": null,
   "id": "c3ff7b0f",
   "metadata": {},
   "outputs": [],
   "source": [
    "# Show saved accounts by name\n",
    "IBMRuntimeService.saved_accounts(name=\"my-cloud-account\")"
   ]
  },
  {
   "cell_type": "markdown",
   "id": "12a965ac",
   "metadata": {},
   "source": [
    "### Logout"
   ]
  },
  {
   "cell_type": "code",
   "execution_count": null,
   "id": "4a036899",
   "metadata": {},
   "outputs": [],
   "source": [
    "# Clears authorization cache on the server\n",
    "service.logout()"
   ]
  },
  {
   "cell_type": "markdown",
   "id": "a4e89ca7",
   "metadata": {},
   "source": [
    "# Programs"
   ]
  },
  {
   "cell_type": "code",
   "execution_count": null,
   "id": "24a5d9a8",
   "metadata": {},
   "outputs": [],
   "source": [
    "TODO"
   ]
  },
  {
   "cell_type": "markdown",
   "id": "43476307",
   "metadata": {},
   "source": [
    "# Jobs"
   ]
  },
  {
   "cell_type": "code",
   "execution_count": null,
   "id": "e98f475b",
   "metadata": {},
   "outputs": [],
   "source": [
    "TODO"
   ]
  },
  {
   "cell_type": "markdown",
   "id": "bde58337",
   "metadata": {},
   "source": [
    "# Backends"
   ]
  },
  {
   "cell_type": "code",
   "execution_count": null,
   "id": "6b8ae744",
   "metadata": {},
   "outputs": [],
   "source": [
    "TODO"
   ]
  }
 ],
 "metadata": {
  "kernelspec": {
   "display_name": "qiskit-ibm-test",
   "language": "python",
   "name": "qiskit-ibm-test"
  },
  "language_info": {
   "codemirror_mode": {
    "name": "ipython",
    "version": 3
   },
   "file_extension": ".py",
   "mimetype": "text/x-python",
   "name": "python",
   "nbconvert_exporter": "python",
   "pygments_lexer": "ipython3",
   "version": "3.7.11"
  }
 },
 "nbformat": 4,
 "nbformat_minor": 5
}
