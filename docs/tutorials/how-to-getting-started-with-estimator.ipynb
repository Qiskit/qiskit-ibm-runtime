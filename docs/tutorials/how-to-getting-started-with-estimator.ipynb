{
 "cells": [
  {
   "cell_type": "markdown",
   "id": "a4477909",
   "metadata": {},
   "source": [
    "# Get started with the Estimator primitive\n",
    "\n",
    "Learn how to set up and use the Estimator primitive program.\n",
    "\n",
    "\n",
    "## Overview\n",
    "\n",
    "The Estimator primitive lets you efficiently calculate and interpret expectation values of quantum operators required for many algorithms. You can specify a list of circuits and observables, then evaluate expectation values and variances for a given parameter input.  \n",
    "\n",
    "\n",
    "## Prepare the environment\n",
    "\n",
    "1. Follow the steps in the [getting started guide](https://qiskit.org/documentation/partners/qiskit_ibm_runtime/getting_started.html) to get your quantum service instance ready to use.\n",
    "\n",
    "2. You'll need at least one circuit to submit to the program. Our examples all have circuits in them, but if you want to submit your own circuit, you can use Qiskit to create one. To learn how to create circuits by using Qiskit, see the [Circuit basics tutorial](https://qiskit.org/documentation/tutorials/circuits/01_circuit_basics.html).\n",
    "\n",
    "3. Create a list of observables. Observables let you define the properties of the circuit that are relevant to your problem and enable you to efficiently measure their expectation value. For simplicity, you can use the [PauliSumOp class](https://qiskit.org/documentation/stubs/qiskit.opflow.primitive_ops.html#module-qiskit.opflow.primitive_ops) in Qiskit to define them, as illustrated in the example below.\n",
    "\n",
    "\n",
    "## Start a session\n",
    "\n",
    "With Qiskit Runtime primitives, we introduce the concept of a session or a factory that allows you to define a job as a collection of iterative calls to the quantum computer. When you start a session, it caches the data you send so it doesn't have to be transmitted to the Quantum Datacenter on each iteration.\n",
    "\n",
    "### Create an Estimator instance\n",
    "\n",
    "The `Estimator` class takes in a `session` object that represents the session to use, and an `options` variable to control the execution environment.\n",
    "\n",
    "`options` can be either a dictionary or a `qiskit_ibm_runtime.Options` class instance. Initializing it as an `Options` class allows you to do auto-complete. \n",
    "\n",
    "Some of the settings you can specify using `options`:\n",
    "\n",
    "* **backend**: Optional string name of backend. If not specified a backend will be selected\n",
    "    automatically (IBM Cloud only).\n",
    "* **log_level**: logging level to set in the execution environment. The valid\n",
    "        log levels are: `DEBUG`, `INFO`, `WARNING`, `ERROR`, and `CRITICAL`.\n",
    "        The default level is `WARNING`.\n",
    "* **optimization_level**: How much optimization to perform on the circuits. The default is 1.\n",
    "* **resilience_level**: How much resilience to build against errors. Higher levels generate more accurate results, at the expense of longer processing times.\n",
    "\n",
    "You can find more details in [the Options API reference](https://qiskit.org/documentation/partners/qiskit_ibm_runtime/stubs/qiskit_ibm_runtime.Options.html).\n",
    "\n",
    "With these arguments, you can create a `Estimator` instance with the desired options. Example:"
   ]
  },
  {
   "cell_type": "code",
   "execution_count": 1,
   "id": "4021b684",
   "metadata": {},
   "outputs": [],
   "source": [
    "from qiskit_ibm_runtime import QiskitRuntimeService, Session, Estimator, Options\n",
    "from qiskit.circuit.library import RealAmplitudes\n",
    "from qiskit.quantum_info import SparsePauliOp\n",
    "\n",
    "service = QiskitRuntimeService()\n",
    "options = Options(backend=\"ibmq_qasm_simulator\", optimization_level=1)\n",
    "\n",
    "with Session(service) as session:\n",
    "    estimator = Estimator(session=session, options=options)"
   ]
  },
  {
   "cell_type": "markdown",
   "id": "c8803a0e",
   "metadata": {},
   "source": [
    "## Invoke the Estimator primitive\n",
    "\n",
    "You can invoke the `Estimator` primitive program using the `run()` method of the `Estimator` instance you just created. The method returns a `IBMRuntimeJob` instance which you can use to query for things like job ID and status. The `result()` method of the job will return the result. \n",
    "\n",
    "You can invoke the `run()` method multiple times with the different inputs within a session.\n",
    "\n",
    "### Specify program inputs\n",
    "\n",
    "The `Estimator.run()` method takes in the following arguments:\n",
    "\n",
    "- **circuits**: A list of (parameterized) circuits that you want to investigate.\n",
    "- **observables**: A list of observables to measure the expectation values.\n",
    "- **parameters**: A list of parameters for the parameterized circuits. It should be omitted if the circuits provided are not parameterized.\n",
    "- **parameter_values**: An optional list of concrete parameters to be bound.\n",
    "- **kwargs**: Additional options to overwrite the default values. \n",
    "\n",
    "You can find more details in [the Estimator API reference](https://qiskit.org/documentation/partners/qiskit_ibm_runtime/stubs/qiskit_ibm_runtime.Estimator.html).\n",
    "\n",
    "### Run the job & print results\n",
    "\n",
    "Run the job, specifying your previously defined inputs and options.  Use `circuits`, `observables`, and `parameter_values` to use a specific parameter and observable with the specified circuit.\n",
    "\n",
    "For example, this line `psi1_H23_result = estimator.run(circuits=[psi1, psi1], observables=[H2, H3], parameter_values=[theta1]*2).result()` specifies the following:\n",
    "\n",
    "- Return the value for using observable `H2` and parameter `theta1` with the circuit `psi1`.\n",
    "- Return the value for using observable `H3` and parameter `theta1` with the circuit `psi1`.\n"
   ]
  },
  {
   "cell_type": "code",
   "execution_count": null,
   "id": "786b8037",
   "metadata": {},
   "outputs": [
    {
     "name": "stdout",
     "output_type": "stream",
     "text": [
      "EstimatorResult(values=array([1.59570312]), metadata=[{'variance': 8.661632537841797, 'shots': 1024}])\n",
      "EstimatorResult(values=array([-0.5390625 ,  0.07421875]), metadata=[{'variance': 0.70941162109375, 'shots': 1024}, {'variance': 1.9894332885742188, 'shots': 1024}])\n",
      "EstimatorResult(values=array([0.17773438]), metadata=[{'variance': 0.9684104919433594, 'shots': 1024}])\n"
     ]
    }
   ],
   "source": [
    "with Session(service) as session:\n",
    "    estimator = Estimator(session=session, options=options)\n",
    "\n",
    "    theta1 = [0, 1, 1, 2, 3, 5]\n",
    "    theta2 = [0, 1, 1, 2, 3, 5, 8, 13]\n",
    "    theta3 = [1, 2, 3, 4, 5, 6]\n",
    "\n",
    "    # calculate [ <psi1(theta1)|H1|psi1(theta1)> ]\n",
    "    psi1_H1 = estimator.run(circuits=[psi1], observables=[H1], parameter_values=[theta1])\n",
    "    print(psi1_H1.result())\n",
    "\n",
    "    # calculate [ <psi1(theta1)|H2|psi1(theta1)>, <psi1(theta1)|H3|psi1(theta1)> ]\n",
    "    psi1_H23 = estimator.run(circuits=[psi1, psi1], observables=[H2, H3], parameter_values=[theta1]*2)\n",
    "    print(psi1_H23.result())\n",
    "\n",
    "    # calculate [ <psi2(theta2)|H2|psi2(theta2)> ]\n",
    "    psi2_H2 = estimator.run(circuits=[psi2], observables=[H2], parameter_values=[theta2])\n",
    "    print(psi2_H2.result())\n",
    "\n",
    "    # calculate [ <psi1(theta1)|H1|psi1(theta1)>, <psi1(theta3)|H1|psi1(theta3)> ]\n",
    "    psi1_H1_job = estimator.run(circuits=[psi1, psi1], observables=[H1, H1], parameter_values=[theta1, theta3])\n",
    "    print(psi1_H1_job.result())\n",
    "\n",
    "    # calculate [ <psi1(theta1)|H1|psi1(theta1)>,\n",
    "    #             <psi2(theta2)|H2|psi2(theta2)>,\n",
    "    #             <psi1(theta3)|H3|psi1(theta3)> ]\n",
    "    psi12_H23 = estimator.run(circuits=[psi1, psi2, psi1], observables=[H1, H2, H3], parameter_values=[theta1, theta2, theta3])\n",
    "    print(psi12_H23.result())"
   ]
  },
  {
   "cell_type": "markdown",
   "id": "4baad90e",
   "metadata": {},
   "source": [
    "The results align with the parameter - circuit - observable tuples specified previously.  For example, the first result: `EstimatorResult(values=array([1.53710938]), metadata=[{'variance': 9.249675750732422, 'shots': 1024}])` is the output of the parameter labeled `theta1` and observable `H1` being sent to the first circuit."
   ]
  }
 ],
 "metadata": {
  "kernelspec": {
   "display_name": "Python 3.8.1 64-bit ('qiskit-ibm-runtime')",
   "language": "python",
   "name": "python3"
  },
  "language_info": {
   "codemirror_mode": {
    "name": "ipython",
    "version": 3
   },
   "file_extension": ".py",
   "mimetype": "text/x-python",
   "name": "python",
   "nbconvert_exporter": "python",
   "pygments_lexer": "ipython3",
   "version": "3.8.1"
  },
  "vscode": {
   "interpreter": {
    "hash": "fd361434a97303db55f7feadeb0d1409e986034dc8706e65a70496723772e70a"
   }
  }
 },
 "nbformat": 4,
 "nbformat_minor": 5
}
