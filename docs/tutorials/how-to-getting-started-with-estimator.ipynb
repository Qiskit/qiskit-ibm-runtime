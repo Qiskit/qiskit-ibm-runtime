{
 "cells": [
  {
   "cell_type": "markdown",
   "id": "a4477909",
   "metadata": {},
   "source": [
    "# Get started with the Estimator primitive\n",
    "\n",
    "Learn how to set up and use the Estimator primitive program.\n",
    "\n",
    "\n",
    "## Overview\n",
    "\n",
    "The Estimator primitive lets you efficiently calculate and interpret expectation values of quantum operators required for many algorithms. You can specify a list of circuits and observables, then evaluate expectation values and variances for a given parameter input.  \n",
    "\n",
    "\n",
    "## Prepare the environment\n",
    "\n",
    "1. Follow the steps in the [getting started guide](https://qiskit.org/documentation/partners/qiskit_ibm_runtime/getting_started.html) to get your quantum service instance ready to use.\n",
    "\n",
    "2. You'll need at least one circuit to submit to the program. Our examples all have circuits in them, but if you want to submit your own circuit, you can use Qiskit to create one. To learn how to create circuits by using Qiskit, see the [Circuit basics tutorial](https://qiskit.org/documentation/tutorials/circuits/01_circuit_basics.html).\n",
    "\n",
    "3. Create a list of observables. Observables let you define the properties of the circuit that are relevant to your problem and enable you to efficiently measure their expectation value. For simplicity, you can use the [PauliSumOp class](https://qiskit.org/documentation/stubs/qiskit.opflow.primitive_ops.html#module-qiskit.opflow.primitive_ops) in Qiskit to define them, as illustrated in the example below.\n",
    "\n",
    "\n",
    "## Start a session\n",
    "\n",
    "With Qiskit Runtime primitives, we introduce the concept of a session or a factory that allows you to define a job as a collection of iterative calls to the quantum computer. When you start a session, it caches the data you send so it doesn't have to be transmitted to the Quantum Datacenter on each iteration.\n",
    "\n",
    "\n",
    "### Specify program inputs\n",
    "\n",
    "The Estimator.run() method takes in the following arguments:\n",
    "\n",
    "- **circuits**: a list of (parameterized) circuits that you want to investigate.\n",
    "- **observables**: a list of observables to measure the expectation values.\n",
    "- **parameter_values**: an optional list of concrete parameters to be bound.\n",
    "- **skip_transpilation**: circuit transpilation is skipped if set to `True`. Default value is `False`.\n",
    "- **service**: the `QiskitRuntimeService` instance to run the program on. If not specified, the default saved account for `QiskitRuntimeService` is initialized.\n",
    "- **run_options**: A collection of kwargs passed to `backend.run()`.\n",
    "    - **shots**: Number of repetitions of each circuit, for sampling.\n",
    "    - **qubit_lo_freq**: List of default qubit LO frequencies in Hz.\n",
    "    - **meas_lo_freq**: List of default measurement LO frequencies in Hz.\n",
    "    - **schedule_los**: Experiment LO configurations, frequencies are given in Hz.\n",
    "    - **rep_delay**: Delay between programs in seconds. Only supported on certain\n",
    "        backends (if ``backend.configuration().dynamic_reprate_enabled=True``).\n",
    "    - **init_qubits**: Whether to reset the qubits to the ground state for each shot.\n",
    "    - **use_measure_esp**: Whether to use excited state promoted (ESP) readout for measurements\n",
    "        which are the terminal instruction to a qubit. ESP readout can offer higher fidelity\n",
    "        than standard measurement sequences.\n",
    "\n",
    "You can find more details in [the Estimator API reference](https://qiskit.org/documentation/partners/qiskit_ibm_runtime/stubs/qiskit_ibm_runtime.Estimator.html).\n",
    "\n",
    "Example:"
   ]
  },
  {
   "cell_type": "code",
   "execution_count": 1,
   "id": "4021b684",
   "metadata": {},
   "outputs": [],
   "source": [
    "from qiskit_ibm_runtime import QiskitRuntimeService, Session\n",
    "from qiskit.circuit.library import RealAmplitudes\n",
    "from qiskit.quantum_info import SparsePauliOp\n",
    "\n",
    "service = QiskitRuntimeService()\n",
    "\n",
    "psi1 = RealAmplitudes(num_qubits=2, reps=2)\n",
    "psi2 = RealAmplitudes(num_qubits=2, reps=3)\n",
    "\n",
    "H1 = SparsePauliOp.from_list([(\"II\", 1), (\"IZ\", 2), (\"XI\", 3)])\n",
    "H2 = SparsePauliOp.from_list([(\"IZ\", 1)])\n",
    "H3 = SparsePauliOp.from_list([(\"ZI\", 1), (\"ZZ\", 1)])"
   ]
  },
  {
   "cell_type": "markdown",
   "id": "c8803a0e",
   "metadata": {},
   "source": [
    "## Write to & read from a session\n",
    "\n",
    "Running a job and returning the results are done by writing to and reading from the session. After the results are returned, the session is automatically closed.\n",
    "\n",
    "\n",
    "### Run the job & print results\n",
    "\n",
    "Run the job, specifying your previously defined inputs and options.  Use `circuits`, `observables`, and `parameter_values` to use a specific parameter and observable with the specified circuit.\n",
    "\n",
    "For example, this line `psi1_H23_result = estimator(circuits=[0, 0], observables=[1, 2], parameter_values=[theta1]*2)` specifies the following:\n",
    "\n",
    "- Return the value for using observable `H2` and parameter `theta1` with the circuit `psi1`.\n",
    "- Return the value for using observable `H3` and parameter `theta1` with the circuit `psi1`.\n",
    "\n",
    "You can also pass circuits and observables as objects.\n",
    "For example, `psi1_H23_result = estimator(circuits=[ps1, ps1], observables=[H2, H3], parameter_values=[theta1]*2)`"
   ]
  },
  {
   "cell_type": "code",
   "execution_count": 5,
   "id": "786b8037",
   "metadata": {},
   "outputs": [
    {
     "name": "stdout",
     "output_type": "stream",
     "text": [
      "EstimatorResult(values=array([1.53710938]), metadata=[{'variance': 9.249675750732422, 'shots': 1024}])\n",
      "EstimatorResult(values=array([-0.54492188,  0.06835938]), metadata=[{'variance': 0.7030601501464844, 'shots': 1024}, {'variance': 1.9969749450683594, 'shots': 1024}])\n",
      "EstimatorResult(values=array([0.12890625]), metadata=[{'variance': 0.9833831787109375, 'shots': 1024}])\n",
      "EstimatorResult(values=array([1.56445312, 1.15234375]), metadata=[{'variance': 8.791683197021484, 'shots': 1024}, {'variance': 12.287948608398438, 'shots': 1024}])\n",
      "EstimatorResult(values=array([ 1.50976562,  0.1171875 , -1.09179688]), metadata=[{'variance': 9.621807098388672, 'shots': 1024}, {'variance': 0.98626708984375, 'shots': 1024}, {'variance': 1.2446861267089844, 'shots': 1024}])\n"
     ]
    }
   ],
   "source": [
    "with Session(service) as session:\n",
    "    estimator = session.estimator()\n",
    "    estimator.options.backend = 'ibmq_qasm_simulator'\n",
    "    estimator.settings.transpilation.optimization_level = 1\n",
    "\n",
    "    theta1 = [0, 1, 1, 2, 3, 5]\n",
    "    theta2 = [0, 1, 1, 2, 3, 5, 8, 13]\n",
    "    theta3 = [1, 2, 3, 4, 5, 6]\n",
    "\n",
    "    # calculate [ <psi1(theta1)|H1|psi1(theta1)> ]\n",
    "    psi1_H1 = estimator.run(circuits=[psi1], observables=[H1], parameter_values=[theta1])\n",
    "    print(psi1_H1.result())\n",
    "\n",
    "    # calculate [ <psi1(theta1)|H2|psi1(theta1)>, <psi1(theta1)|H3|psi1(theta1)> ]\n",
    "    psi1_H23 = estimator.run(circuits=[psi1, psi1], observables=[H2, H3], parameter_values=[theta1]*2)\n",
    "    print(psi1_H23.result())\n",
    "\n",
    "    # calculate [ <psi2(theta2)|H2|psi2(theta2)> ]\n",
    "    psi2_H2 = estimator.run(circuits=[psi2], observables=[H2], parameter_values=[theta2])\n",
    "    print(psi2_H2.result())\n",
    "\n",
    "    # calculate [ <psi1(theta1)|H1|psi1(theta1)>, <psi1(theta3)|H1|psi1(theta3)> ]\n",
    "    psi1_H1_job = estimator.run(circuits=[psi1, psi1], observables=[H1, H1], parameter_values=[theta1, theta3])\n",
    "    print(psi1_H1_job.result())\n",
    "\n",
    "    # calculate [ <psi1(theta1)|H1|psi1(theta1)>,\n",
    "    #             <psi2(theta2)|H2|psi2(theta2)>,\n",
    "    #             <psi1(theta3)|H3|psi1(theta3)> ]\n",
    "    psi12_H23 = estimator.run(circuits=[psi1, psi2, psi1], observables=[H1, H2, H3], parameter_values=[theta1, theta2, theta3])\n",
    "    print(psi12_H23.result())"
   ]
  },
  {
   "cell_type": "markdown",
   "id": "4baad90e",
   "metadata": {},
   "source": [
    "The results align with the parameter - circuit - observable tuples specified previously.  For example, the first result: `EstimatorResult(values=array([1.53710938]), metadata=[{'variance': 9.249675750732422, 'shots': 1024}])` is the output of the parameter labeled `theta1` and observable `H1` being sent to the first circuit."
   ]
  },
  {
   "cell_type": "code",
   "execution_count": null,
   "id": "a0a4eec1",
   "metadata": {},
   "outputs": [],
   "source": []
  }
 ],
 "metadata": {
  "kernelspec": {
   "display_name": "Python 3 (ipykernel)",
   "language": "python",
   "name": "python3"
  },
  "language_info": {
   "codemirror_mode": {
    "name": "ipython",
    "version": 3
   },
   "file_extension": ".py",
   "mimetype": "text/x-python",
   "name": "python",
   "nbconvert_exporter": "python",
   "pygments_lexer": "ipython3",
   "version": "3.9.12"
  }
 },
 "nbformat": 4,
 "nbformat_minor": 5
}
