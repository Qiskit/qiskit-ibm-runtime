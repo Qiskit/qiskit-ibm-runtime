{
 "cells": [
  {
   "cell_type": "markdown",
   "id": "6196753d",
   "metadata": {
    "slideshow": {
     "slide_type": "slide"
    }
   },
   "source": [
    "# Get started with the Estimator primitive"
   ]
  },
  {
   "cell_type": "markdown",
   "id": "53a52064",
   "metadata": {
    "slideshow": {
     "slide_type": "skip"
    }
   },
   "source": [
    "In this tutorial we will show you how to set up the Qiskit Runtime `Estimator` primitive, explore the different options you can use to configure it, and invoke the primitive efficiently inside a session."
   ]
  },
  {
   "cell_type": "markdown",
   "id": "2eb6cb78",
   "metadata": {
    "slideshow": {
     "slide_type": "slide"
    }
   },
   "source": [
    "## Primitives"
   ]
  },
  {
   "cell_type": "markdown",
   "id": "5a7c5911",
   "metadata": {
    "slideshow": {
     "slide_type": "fragment"
    }
   },
   "source": [
    "Primitives are core functions that make it easier to build modular algorithms and applications. \n",
    "\n",
    "Rather than simply returning counts, they return more immediately meaningful information. \n",
    "\n",
    "Additionally, they provide a seamless way to access the latest advancements in IBM Quantum hardware and software."
   ]
  },
  {
   "cell_type": "markdown",
   "id": "1e937e1f",
   "metadata": {
    "slideshow": {
     "slide_type": "subslide"
    }
   },
   "source": [
    "The initial release of Qiskit Runtime includes two primitives:\n",
    "\n",
    "**Sampler:** Generates quasi-probabilities from input circuits.\n",
    "\n",
    "**Estimator:** Calculates expectation values from input circuits and observables."
   ]
  },
  {
   "cell_type": "markdown",
   "id": "ceab7fb3",
   "metadata": {
    "slideshow": {
     "slide_type": "skip"
    }
   },
   "source": [
    "In this tutorial we will focus on the `Estimator` primitive. There is a separate tutorial on [Getting started with the Sampler primitive](how-to-getting-started-with-sampler.ipynb)."
   ]
  },
  {
   "cell_type": "markdown",
   "id": "fe7dcba0",
   "metadata": {
    "slideshow": {
     "slide_type": "subslide"
    }
   },
   "source": [
    "## Using the Estimator primitive"
   ]
  },
  {
   "cell_type": "markdown",
   "id": "951745b5",
   "metadata": {
    "slideshow": {
     "slide_type": "skip"
    }
   },
   "source": [
    "Similar to the `Backend` base class, there is an `Estimator` base class defined in Qiskit Terra that standardizes the way users interact with all `Estimator` implementations.\n",
    "This allows users to easily change their choice of simulator or device for performing expectation value calculations, even if the underlying implementation is different. \n",
    "\n",
    "In this section we will be using the default implementation in Qiskit Terra, which uses a local state vector simulator."
   ]
  },
  {
   "cell_type": "markdown",
   "id": "cb6af164",
   "metadata": {
    "slideshow": {
     "slide_type": "subslide"
    }
   },
   "source": [
    "### 1. Create a circuit"
   ]
  },
  {
   "cell_type": "markdown",
   "id": "3bf12609",
   "metadata": {
    "slideshow": {
     "slide_type": "skip"
    }
   },
   "source": [
    "For a basic expectation value calculation you will need at least one quantum circuit to prepare our system in a precise quantum state for study. Our examples all have circuits in them, but you can use Qiskit to create your own. To learn how to create circuits by using Qiskit, see the [Circuit basics tutorial](https://qiskit.org/documentation/tutorials/circuits/01_circuit_basics.html)."
   ]
  },
  {
   "cell_type": "code",
   "execution_count": 1,
   "id": "c7f1c0fb",
   "metadata": {
    "slideshow": {
     "slide_type": "fragment"
    }
   },
   "outputs": [
    {
     "data": {
      "image/png": "[encoded data removed]",
      "text/plain": [
       "<Figure size 447.652x144.48 with 1 Axes>"
      ]
     },
     "metadata": {},
     "output_type": "display_data"
    }
   ],
   "source": [
    "from qiskit.circuit.random import random_circuit\n",
    "\n",
    "circuit = random_circuit(2, 2, seed=0).decompose(reps=1)\n",
    "display(circuit.draw(\"mpl\"))"
   ]
  },
  {
   "cell_type": "markdown",
   "id": "969d38bc",
   "metadata": {
    "slideshow": {
     "slide_type": "subslide"
    }
   },
   "source": [
    "### 2. Create an observable to measure"
   ]
  },
  {
   "cell_type": "markdown",
   "id": "93a2da02",
   "metadata": {
    "slideshow": {
     "slide_type": "skip"
    }
   },
   "source": [
    "You will also need at least one observable to measure. Observables represent physical properties of a quantum system (such as energy or spin), and allow said properties to be measured (such as their expectation values) for a given state of our system. For simplicity, you can use the [SparsePauliOp class](https://qiskit.org/documentation/stubs/qiskit.quantum_info.SparsePauliOp.html#qiskit.quantum_info.SparsePauliOp) in Qiskit to define them, as illustrated in the following example."
   ]
  },
  {
   "cell_type": "code",
   "execution_count": 2,
   "id": "0c87ed3e",
   "metadata": {
    "slideshow": {
     "slide_type": "fragment"
    }
   },
   "outputs": [
    {
     "name": "stdout",
     "output_type": "stream",
     "text": [
      ">>> Observable: ['XZ']\n"
     ]
    }
   ],
   "source": [
    "from qiskit.quantum_info import SparsePauliOp\n",
    "\n",
    "observable = SparsePauliOp(\"XZ\")\n",
    "print(f\">>> Observable: {observable.paulis}\")"
   ]
  },
  {
   "cell_type": "markdown",
   "id": "4a66c1f7",
   "metadata": {
    "slideshow": {
     "slide_type": "subslide"
    }
   },
   "source": [
    "### 3. Initialize an Estimator class"
   ]
  },
  {
   "cell_type": "markdown",
   "id": "d73c27f1",
   "metadata": {
    "slideshow": {
     "slide_type": "skip"
    }
   },
   "source": [
    "<!-- vale IBMQuantum.Spelling = NO -->\n",
    "The next step is to create an instance of an `Estimator` class. This can be any `Estimator` class that complies with the `Estimator` primitive specification. For simplicity, we will use Qiskit Terra's `qiskit.primitives.Estimator` class, based on the [Statevector construct](https://qiskit.org/documentation/stubs/qiskit.quantum_info.Statevector.html?highlight=statevector#qiskit.quantum_info.Statevector) (algebraic simulation).\n",
    "<!-- vale IBMQuantum.Spelling = YES -->"
   ]
  },
  {
   "cell_type": "code",
   "execution_count": 3,
   "id": "0b101c57",
   "metadata": {
    "slideshow": {
     "slide_type": "fragment"
    }
   },
   "outputs": [],
   "source": [
    "from qiskit.primitives import Estimator\n",
    "\n",
    "estimator = Estimator()"
   ]
  },
  {
   "cell_type": "markdown",
   "id": "b4f21eaa",
   "metadata": {
    "slideshow": {
     "slide_type": "subslide"
    }
   },
   "source": [
    "### 4. Invoke the Estimator and get results"
   ]
  },
  {
   "cell_type": "markdown",
   "id": "c5022466",
   "metadata": {
    "slideshow": {
     "slide_type": "skip"
    }
   },
   "source": [
    "To calculate the expectation values, invoke the `run()` method of the `Estimator` instance you just created and pass in the circuit and observable as input parameters. This method call is asynchronous, and you will get a `Job` object back. You can use this object to query for information like `job_id()` and `status()`."
   ]
  },
  {
   "cell_type": "code",
   "execution_count": 4,
   "id": "2deaa129",
   "metadata": {
    "slideshow": {
     "slide_type": "fragment"
    }
   },
   "outputs": [
    {
     "name": "stdout",
     "output_type": "stream",
     "text": [
      ">>> Job ID: 85a54b84-7ce2-49f8-b614-cc39ef8eafcc\n",
      ">>> Job Status: JobStatus.DONE\n"
     ]
    }
   ],
   "source": [
    "job = estimator.run(circuit, observable)\n",
    "print(f\">>> Job ID: {job.job_id()}\")\n",
    "print(f\">>> Job Status: {job.status()}\")"
   ]
  },
  {
   "cell_type": "markdown",
   "id": "f706e8ba",
   "metadata": {
    "slideshow": {
     "slide_type": "skip"
    }
   },
   "source": [
    "The `result()` method of the job will return the `EstimatorResult`, which includes both the expectation values and job metadata. "
   ]
  },
  {
   "cell_type": "code",
   "execution_count": 5,
   "id": "ea844ef5",
   "metadata": {
    "slideshow": {
     "slide_type": "fragment"
    }
   },
   "outputs": [
    {
     "name": "stdout",
     "output_type": "stream",
     "text": [
      ">>> EstimatorResult(values=array([0.85347811]), metadata=[{}])\n",
      "  > Expectation value: 0.8534781134132173\n"
     ]
    }
   ],
   "source": [
    "result = job.result()\n",
    "print(f\">>> {result}\")\n",
    "print(f\"  > Expectation value: {result.values[0]}\")"
   ]
  },
  {
   "cell_type": "markdown",
   "id": "0c814234",
   "metadata": {
    "slideshow": {
     "slide_type": "subslide"
    }
   },
   "source": [
    "You can keep invoking the `run()` method again with the different inputs:"
   ]
  },
  {
   "cell_type": "code",
   "execution_count": 6,
   "id": "5d1a9325",
   "metadata": {
    "slideshow": {
     "slide_type": "fragment"
    }
   },
   "outputs": [
    {
     "data": {
      "image/png": "[encoded data removed]",
      "text/plain": [
       "<Figure size 929.252x144.48 with 1 Axes>"
      ]
     },
     "metadata": {},
     "output_type": "display_data"
    },
    {
     "name": "stdout",
     "output_type": "stream",
     "text": [
      ">>> Observable: ['IY']\n",
      ">>> Expectation value: -1.582539029327245e-16\n"
     ]
    }
   ],
   "source": [
    "circuit = random_circuit(2, 2, seed=1).decompose(reps=1)\n",
    "observable = SparsePauliOp(\"IY\")\n",
    "\n",
    "job = estimator.run(circuit, observable)\n",
    "result = job.result()\n",
    "\n",
    "display(circuit.draw(\"mpl\"))\n",
    "print(f\">>> Observable: {observable.paulis}\")\n",
    "print(f\">>> Expectation value: {result.values[0]}\")"
   ]
  },
  {
   "cell_type": "markdown",
   "id": "c1b5def8",
   "metadata": {
    "slideshow": {
     "slide_type": "subslide"
    }
   },
   "source": [
    "You can also provide compound inputs to the `run()` method:"
   ]
  },
  {
   "cell_type": "code",
   "execution_count": 7,
   "id": "24b08980",
   "metadata": {
    "slideshow": {
     "slide_type": "fragment"
    }
   },
   "outputs": [
    {
     "data": {
      "image/png": "[encoded data removed]",
      "text/plain": [
       "<Figure size 447.652x144.48 with 1 Axes>"
      ]
     },
     "metadata": {},
     "output_type": "display_data"
    },
    {
     "data": {
      "image/png": "[encoded data removed]",
      "text/plain": [
       "<Figure size 929.252x144.48 with 1 Axes>"
      ]
     },
     "metadata": {},
     "output_type": "display_data"
    },
    {
     "name": "stdout",
     "output_type": "stream",
     "text": [
      ">>> Observables: [PauliList(['XZ']), PauliList(['IY'])]\n",
      ">>> Expectation values: [0.8534781134132173, -1.582539029327245e-16]\n"
     ]
    }
   ],
   "source": [
    "circuits = (\n",
    "    random_circuit(2, 2, seed=0).decompose(reps=1),\n",
    "    random_circuit(2, 2, seed=1).decompose(reps=1),\n",
    ")\n",
    "observables = (\n",
    "    SparsePauliOp(\"XZ\"),\n",
    "    SparsePauliOp(\"IY\"),\n",
    ")\n",
    "\n",
    "job = estimator.run(circuits, observables)\n",
    "result = job.result()\n",
    "\n",
    "[display(cir.draw(\"mpl\")) for cir in circuits]\n",
    "print(f\">>> Observables: {[obs.paulis for obs in observables]}\")\n",
    "print(f\">>> Expectation values: {result.values.tolist()}\")"
   ]
  },
  {
   "cell_type": "markdown",
   "id": "d04e4225",
   "metadata": {
    "slideshow": {
     "slide_type": "subslide"
    }
   },
   "source": [
    "Or use parameterized circuits:"
   ]
  },
  {
   "cell_type": "code",
   "execution_count": 8,
   "id": "1456518e",
   "metadata": {
    "slideshow": {
     "slide_type": "fragment"
    }
   },
   "outputs": [
    {
     "data": {
      "image/png": "[encoded data removed]",
      "text/plain": [
       "<Figure size 387.452x144.48 with 1 Axes>"
      ]
     },
     "metadata": {},
     "output_type": "display_data"
    },
    {
     "name": "stdout",
     "output_type": "stream",
     "text": [
      ">>> Observable: ['ZI']\n",
      ">>> Parameter values: [0, 1, 2, 3, 4, 5]\n",
      ">>> Expectation value: -0.6485568434766461\n"
     ]
    }
   ],
   "source": [
    "from qiskit.circuit.library import RealAmplitudes\n",
    "\n",
    "circuit = RealAmplitudes(num_qubits=2, reps=2).decompose(reps=1)\n",
    "observable = SparsePauliOp(\"ZI\")\n",
    "parameter_values = [0, 1, 2, 3, 4, 5]\n",
    "\n",
    "job = estimator.run(circuit, observable, parameter_values)\n",
    "result = job.result()\n",
    "\n",
    "display(circuit.draw(\"mpl\"))\n",
    "print(f\">>> Observable: {observable.paulis}\")\n",
    "print(f\">>> Parameter values: {parameter_values}\")\n",
    "print(f\">>> Expectation value: {result.values[0]}\")"
   ]
  },
  {
   "cell_type": "markdown",
   "id": "11cdc73b",
   "metadata": {
    "slideshow": {
     "slide_type": "slide"
    }
   },
   "source": [
    "## Using Qiskit Runtime Estimator"
   ]
  },
  {
   "cell_type": "markdown",
   "id": "a290530f",
   "metadata": {
    "slideshow": {
     "slide_type": "skip"
    }
   },
   "source": [
    "In this section we will go over how to use Qiskit Runtime's implementation of the `Estimator` primitive."
   ]
  },
  {
   "cell_type": "markdown",
   "id": "3710db96",
   "metadata": {
    "slideshow": {
     "slide_type": "subslide"
    }
   },
   "source": [
    "### 1. Initialize the account"
   ]
  },
  {
   "cell_type": "markdown",
   "id": "65d92215",
   "metadata": {
    "slideshow": {
     "slide_type": "skip"
    }
   },
   "source": [
    "Since Qiskit Runtime `Estimator` is a managed service, you will first need to initialize your account. You can then select the simulator or real backend you want to use to calculate the expectation value.\n",
    "\n",
    "Follow the steps in the [getting started guide](https://qiskit.org/documentation/partners/qiskit_ibm_runtime/getting_started.html) if you don't already have an account set up."
   ]
  },
  {
   "cell_type": "code",
   "execution_count": 9,
   "id": "dac21228",
   "metadata": {
    "slideshow": {
     "slide_type": "fragment"
    }
   },
   "outputs": [],
   "source": [
    "from qiskit_ibm_runtime import QiskitRuntimeService\n",
    "\n",
    "service = QiskitRuntimeService(channel=\"ibm_quantum\")\n",
    "backend = service.backend(\"ibmq_qasm_simulator\")"
   ]
  },
  {
   "cell_type": "markdown",
   "id": "00356482",
   "metadata": {
    "slideshow": {
     "slide_type": "subslide"
    }
   },
   "source": [
    "### 2. Create a circuit and an observable"
   ]
  },
  {
   "cell_type": "markdown",
   "id": "5c7c2bc5",
   "metadata": {
    "slideshow": {
     "slide_type": "skip"
    }
   },
   "source": [
    "Just like the section before, you will need at least one circuit and one observable as inputs to the `Estimator` primitive."
   ]
  },
  {
   "cell_type": "code",
   "execution_count": 10,
   "id": "820a1bc7",
   "metadata": {
    "slideshow": {
     "slide_type": "fragment"
    }
   },
   "outputs": [
    {
     "data": {
      "image/png": "[encoded data removed]",
      "text/plain": [
       "<Figure size 447.652x144.48 with 1 Axes>"
      ]
     },
     "metadata": {},
     "output_type": "display_data"
    },
    {
     "name": "stdout",
     "output_type": "stream",
     "text": [
      ">>> Observable: ['XZ']\n"
     ]
    }
   ],
   "source": [
    "from qiskit.circuit.random import random_circuit\n",
    "from qiskit.quantum_info import SparsePauliOp\n",
    "\n",
    "circuit = random_circuit(2, 2, seed=0).decompose(reps=1)\n",
    "display(circuit.draw(\"mpl\"))\n",
    "\n",
    "observable = SparsePauliOp(\"XZ\")\n",
    "print(f\">>> Observable: {observable.paulis}\")"
   ]
  },
  {
   "cell_type": "markdown",
   "id": "c1fc88d3",
   "metadata": {
    "slideshow": {
     "slide_type": "subslide"
    }
   },
   "source": [
    "### 3. Initialize the Qiskit Runtime Estimator"
   ]
  },
  {
   "attachments": {},
   "cell_type": "markdown",
   "id": "c04fb0c1",
   "metadata": {
    "slideshow": {
     "slide_type": "skip"
    }
   },
   "source": [
    "Here we are initializing an instance of `qiskit_ibm_runtime.Estimator` rather than `qiskit.primitives.Estimator` to use Qiskit Runtime's implementation of the `Estimator`. \n",
    "\n",
    "When you initialize the `Estimator`, you'll need to pass in the backend you previously selected as the target device (or simulator), using the `backend` parameter."
   ]
  },
  {
   "cell_type": "code",
   "execution_count": 11,
   "id": "2756a944",
   "metadata": {
    "slideshow": {
     "slide_type": "fragment"
    }
   },
   "outputs": [],
   "source": [
    "from qiskit_ibm_runtime import Estimator\n",
    "\n",
    "estimator = Estimator(backend=backend)"
   ]
  },
  {
   "cell_type": "markdown",
   "id": "617bbd25",
   "metadata": {
    "slideshow": {
     "slide_type": "subslide"
    }
   },
   "source": [
    "### 4. Invoke the Estimator and get results"
   ]
  },
  {
   "cell_type": "markdown",
   "id": "42a5f73b",
   "metadata": {
    "slideshow": {
     "slide_type": "skip"
    }
   },
   "source": [
    "You can then invoke the `run()` method to calculate expectation values for the input circuit(s) and observable(s)."
   ]
  },
  {
   "cell_type": "code",
   "execution_count": 12,
   "id": "b474b4ea",
   "metadata": {
    "slideshow": {
     "slide_type": "fragment"
    }
   },
   "outputs": [
    {
     "name": "stdout",
     "output_type": "stream",
     "text": [
      ">>> Job ID: cdkrlhian60ka16e78dg\n",
      ">>> Job Status: JobStatus.RUNNING\n"
     ]
    }
   ],
   "source": [
    "job = estimator.run(circuit, observable)\n",
    "print(f\">>> Job ID: {job.job_id()}\")\n",
    "print(f\">>> Job Status: {job.status()}\")"
   ]
  },
  {
   "cell_type": "code",
   "execution_count": 13,
   "id": "19a1b861",
   "metadata": {
    "slideshow": {
     "slide_type": "fragment"
    }
   },
   "outputs": [
    {
     "name": "stdout",
     "output_type": "stream",
     "text": [
      ">>> EstimatorResult(values=array([0.859]), metadata=[{'variance': 0.262119, 'shots': 4000}])\n",
      "  > Expectation value: 0.859\n",
      "  > Metadata: {'variance': 0.262119, 'shots': 4000}\n"
     ]
    }
   ],
   "source": [
    "result = job.result()\n",
    "print(f\">>> {result}\")\n",
    "print(f\"  > Expectation value: {result.values[0]}\")\n",
    "print(f\"  > Metadata: {result.metadata[0]}\")"
   ]
  },
  {
   "cell_type": "markdown",
   "id": "d8ccef83",
   "metadata": {
    "slideshow": {
     "slide_type": "subslide"
    }
   },
   "source": [
    "## Options"
   ]
  },
  {
   "cell_type": "markdown",
   "id": "af7a2b4b",
   "metadata": {
    "slideshow": {
     "slide_type": "subslide"
    }
   },
   "source": [
    "Primitives come with several options that are grouped into different categories. Commonly used options, such as `resilience_level`, are at the first level.\n",
    "\n",
    "![options](images/options.png)"
   ]
  },
  {
   "cell_type": "markdown",
   "id": "3e2d2ab7",
   "metadata": {
    "slideshow": {
     "slide_type": "subslide"
    }
   },
   "source": [
    "You can use the [Options](https://qiskit.org/documentation/partners/qiskit_ibm_runtime/stubs/qiskit_ibm_runtime.options.Options.html#qiskit_ibm_runtime.options.Options) class to specify different options."
   ]
  },
  {
   "cell_type": "markdown",
   "id": "d20deaec",
   "metadata": {
    "slideshow": {
     "slide_type": "skip"
    }
   },
   "source": [
    "In the following example, we create an instance of the `Options` class. `optimization_level` is a first level option and can be passed as an input parameter. Options related to the execution environment are passed using the `environment` parameter."
   ]
  },
  {
   "cell_type": "code",
   "execution_count": 14,
   "id": "4092d615",
   "metadata": {
    "slideshow": {
     "slide_type": "fragment"
    }
   },
   "outputs": [],
   "source": [
    "from qiskit_ibm_runtime import Options\n",
    "\n",
    "options = Options(optimization_level=3, environment={\"log_level\": \"INFO\"})"
   ]
  },
  {
   "cell_type": "markdown",
   "id": "32c30b6c",
   "metadata": {
    "slideshow": {
     "slide_type": "skip"
    }
   },
   "source": [
    "`Options` supports auto-complete. Once you create an instance of the `Options` class, you can use auto-complete to see what options are available. If you choose one of the categories, you can use auto-complete again to see what options are available under that category. "
   ]
  },
  {
   "cell_type": "code",
   "execution_count": 15,
   "id": "7101fabf",
   "metadata": {
    "slideshow": {
     "slide_type": "fragment"
    }
   },
   "outputs": [],
   "source": [
    "from qiskit_ibm_runtime import Options\n",
    "\n",
    "options = Options()\n",
    "options.resilience_level = 1\n",
    "options.execution.shots = 2048"
   ]
  },
  {
   "cell_type": "markdown",
   "id": "16b1fae4",
   "metadata": {
    "slideshow": {
     "slide_type": "skip"
    }
   },
   "source": [
    "When creating an instance of the `Estimator` class, you can pass in the `options` you just created. Those options will then be applied when you use `run()` to perform the calculation. "
   ]
  },
  {
   "cell_type": "code",
   "execution_count": 16,
   "id": "507b64a3",
   "metadata": {
    "slideshow": {
     "slide_type": "fragment"
    }
   },
   "outputs": [
    {
     "name": "stdout",
     "output_type": "stream",
     "text": [
      ">>> Metadata: {'variance': 0.2847862243652344, 'shots': 2048, 'readout_mitigation_num_twirled_circuits': 16, 'readout_mitigation_shots_calibration': 8192}\n"
     ]
    }
   ],
   "source": [
    "estimator = Estimator(backend=backend, options=options)\n",
    "result = estimator.run(circuit, observable).result()\n",
    "print(f\">>> Metadata: {result.metadata[0]}\")"
   ]
  },
  {
   "cell_type": "markdown",
   "id": "682fb618",
   "metadata": {
    "slideshow": {
     "slide_type": "skip"
    }
   },
   "source": [
    "You can also pass options to the `run()` method. This will overwrite the options you specified when creating the `Estimator` instance for that particular execution. \n",
    "\n",
    "Since most users will only overwrite a handful of options at the job level, it is not necessary to specify the category the options are in. The following code, for example, specifies `shots=1024` rather than `execution={\"shots\": 1024}` (which is also valid). "
   ]
  },
  {
   "cell_type": "code",
   "execution_count": 17,
   "id": "3e5e24ae",
   "metadata": {
    "slideshow": {
     "slide_type": "fragment"
    }
   },
   "outputs": [
    {
     "name": "stdout",
     "output_type": "stream",
     "text": [
      ">>> Metadata: {'variance': 0.2814788818359375, 'shots': 1024, 'readout_mitigation_num_twirled_circuits': 16, 'readout_mitigation_shots_calibration': 8192}\n"
     ]
    }
   ],
   "source": [
    "estimator = Estimator(backend=backend, options=options)\n",
    "result = estimator.run(circuit, observable, shots=1024).result()\n",
    "print(f\">>> Metadata: {result.metadata[0]}\")"
   ]
  },
  {
   "cell_type": "markdown",
   "id": "c928cbd6",
   "metadata": {
    "slideshow": {
     "slide_type": "subslide"
    }
   },
   "source": [
    "### Error suppression and mitigation"
   ]
  },
  {
   "cell_type": "markdown",
   "id": "bc0e936b",
   "metadata": {
    "slideshow": {
     "slide_type": "subslide"
    }
   },
   "source": [
    "`optimization_level` and `resilience_level` are used to configure error suppress and mitigation.\n",
    "\n",
    "`Estimator` supports `optimization_level` 0-3 and `resilience_level` 0-3.\n",
    "\n",
    "Advanced mitigation options can be specified under `resilience`."
   ]
  },
  {
   "cell_type": "code",
   "execution_count": 18,
   "id": "51d0d6b9",
   "metadata": {
    "slideshow": {
     "slide_type": "fragment"
    }
   },
   "outputs": [],
   "source": [
    "from qiskit_ibm_runtime import Options\n",
    "\n",
    "# optimization_level=3 adds dynamical decoupling\n",
    "# resilience_level=1 adds readout error mitigation\n",
    "options = Options(optimization_level=3, resilience_level=1)"
   ]
  },
  {
   "cell_type": "code",
   "execution_count": 19,
   "id": "d3989416",
   "metadata": {
    "slideshow": {
     "slide_type": "subslide"
    }
   },
   "outputs": [
    {
     "name": "stdout",
     "output_type": "stream",
     "text": [
      ">>> Expectation value: 0.8485\n",
      ">>> Metadata: {'variance': 0.28004774999999993, 'shots': 4000, 'readout_mitigation_num_twirled_circuits': 16, 'readout_mitigation_shots_calibration': 8192}\n"
     ]
    }
   ],
   "source": [
    "estimator = Estimator(backend=backend, options=options)\n",
    "result = estimator.run(circuit, observable).result()\n",
    "print(f\">>> Expectation value: {result.values[0]}\")\n",
    "print(f\">>> Metadata: {result.metadata[0]}\")"
   ]
  },
  {
   "cell_type": "markdown",
   "id": "d1bf8e48",
   "metadata": {
    "slideshow": {
     "slide_type": "slide"
    }
   },
   "source": [
    "## Session"
   ]
  },
  {
   "cell_type": "markdown",
   "id": "cd816b63",
   "metadata": {
    "slideshow": {
     "slide_type": "subslide"
    }
   },
   "source": [
    "A Qiskit Runtime _session_ allows you to group a collection of iterative calls to the quantum computer. A session is started when the first job within the session is started. If the session is active, subsequent jobs within the session are prioritized by the scheduler to minimize artificial delay within an iterative algorithm. Data used within a session, such as transpiled circuits, is also cached to avoid unnecessary overhead."
   ]
  },
  {
   "cell_type": "markdown",
   "id": "f55db9ee",
   "metadata": {
    "slideshow": {
     "slide_type": "subslide"
    }
   },
   "source": [
    "### Session timing"
   ]
  },
  {
   "cell_type": "markdown",
   "id": "c6ba827e",
   "metadata": {
    "slideshow": {
     "slide_type": "fragment"
    }
   },
   "source": [
    "When a session is started, it is assigned a maximum session timeout value. You can set this value by using the `max_time` parameter.\n",
    "\n",
    "If you don't specify a timeout value, it is set to the initial job's maximum execution time and is the smaller of these values:\n",
    "\n",
    "- The system limit (see [What is the maximum execution time for a Qiskit Runtime job?](https://qiskit.org/documentation/partners/qiskit_ibm_runtime/faqs/max_execution_time.html)).\n",
    "- The `max_execution_time` defined by the program.\n",
    "\n",
    "After this time limit is reached, the session is permanently closed."
   ]
  },
  {
   "cell_type": "markdown",
   "id": "46078ee4",
   "metadata": {
    "slideshow": {
     "slide_type": "subslide"
    }
   },
   "source": [
    "A session also has an _interactive_ timeout value. If there are no session jobs queued within that window, the session is temporarily deactivated and normal job selection resumes. This interactive timeout value is set by the system and cannot be overwritten."
   ]
  },
  {
   "cell_type": "markdown",
   "id": "41170d11",
   "metadata": {
    "slideshow": {
     "slide_type": "subslide"
    }
   },
   "source": [
    "### Invoking Estimator.run within a session"
   ]
  },
  {
   "cell_type": "markdown",
   "id": "9123437e",
   "metadata": {
    "slideshow": {
     "slide_type": "skip"
    }
   },
   "source": [
    "You can create a Qiskit Runtime session using the context manager (`with ...:`), which automatically opens and closes the session for you. You can invoke `Estimator.run` one or more times within a session:"
   ]
  },
  {
   "cell_type": "code",
   "execution_count": 20,
   "id": "7932c40f",
   "metadata": {
    "slideshow": {
     "slide_type": "fragment"
    }
   },
   "outputs": [
    {
     "name": "stdout",
     "output_type": "stream",
     "text": [
      ">>> Expectation value from the first run: 0.858\n",
      ">>> Expectation value from the second run: 0.85\n"
     ]
    }
   ],
   "source": [
    "from qiskit_ibm_runtime import Session, Estimator\n",
    "\n",
    "with Session(backend=backend, max_time=\"1h\"):\n",
    "    estimator = Estimator()\n",
    "\n",
    "    result = estimator.run(circuit, observable).result()\n",
    "    print(f\">>> Expectation value from the first run: {result.values[0]}\")\n",
    "\n",
    "    result = estimator.run(circuit, observable).result()\n",
    "    print(f\">>> Expectation value from the second run: {result.values[0]}\")"
   ]
  },
  {
   "cell_type": "markdown",
   "id": "f1ddb414",
   "metadata": {
    "slideshow": {
     "slide_type": "subslide"
    }
   },
   "source": [
    "### Invoke multiple primitives in a session"
   ]
  },
  {
   "cell_type": "markdown",
   "id": "8520a2ce",
   "metadata": {
    "slideshow": {
     "slide_type": "skip"
    }
   },
   "source": [
    "You are not restricted to a single primitive function within a session. In this section we will show you an example of using multiple primitives. "
   ]
  },
  {
   "cell_type": "markdown",
   "id": "fa78369c",
   "metadata": {
    "slideshow": {
     "slide_type": "subslide"
    }
   },
   "source": [
    "First we prepare a circuit for the sampler primitive."
   ]
  },
  {
   "cell_type": "code",
   "execution_count": 21,
   "id": "bedafb1e",
   "metadata": {
    "slideshow": {
     "slide_type": "fragment"
    }
   },
   "outputs": [
    {
     "data": {
      "image/png": "[encoded data removed]",
      "text/plain": [
       "<Figure size 447.652x144.48 with 1 Axes>"
      ]
     },
     "metadata": {},
     "output_type": "display_data"
    }
   ],
   "source": [
    "from qiskit.circuit.random import random_circuit\n",
    "\n",
    "sampler_circuit = random_circuit(2, 2, seed=0).decompose(reps=1)\n",
    "sampler_circuit.measure_all()\n",
    "display(circuit.draw(\"mpl\"))"
   ]
  },
  {
   "cell_type": "markdown",
   "id": "c6f98049",
   "metadata": {
    "slideshow": {
     "slide_type": "skip"
    }
   },
   "source": [
    "The following example shows how you can create both an instance of the `Sampler` class and one of the `Estimator` class and invoke their `run()` methods within a session. "
   ]
  },
  {
   "cell_type": "code",
   "execution_count": 22,
   "id": "e1d788ed",
   "metadata": {
    "slideshow": {
     "slide_type": "subslide"
    }
   },
   "outputs": [
    {
     "name": "stdout",
     "output_type": "stream",
     "text": [
      ">>> Quasi Distribution from the sampler job: {2: 0.50125, 0: 0.49875}\n",
      ">>> Expectation value from the estimator job: 0.8525\n"
     ]
    }
   ],
   "source": [
    "from qiskit_ibm_runtime import Session, Sampler, Estimator\n",
    "\n",
    "with Session(backend=backend):\n",
    "    sampler = Sampler()\n",
    "    estimator = Estimator()\n",
    "\n",
    "    result = sampler.run(sampler_circuit).result()\n",
    "    print(f\">>> Quasi Distribution from the sampler job: {result.quasi_dists[0]}\")\n",
    "\n",
    "    result = estimator.run(circuit, observable).result()\n",
    "    print(f\">>> Expectation value from the estimator job: {result.values[0]}\")"
   ]
  },
  {
   "cell_type": "markdown",
   "id": "743987f6",
   "metadata": {
    "slideshow": {
     "slide_type": "subslide"
    }
   },
   "source": [
    "The calls can also be asynchronous. You don't need to wait for the result of a previous job before submitting another one. "
   ]
  },
  {
   "cell_type": "code",
   "execution_count": 23,
   "id": "034bc913",
   "metadata": {
    "slideshow": {
     "slide_type": "fragment"
    }
   },
   "outputs": [
    {
     "name": "stdout",
     "output_type": "stream",
     "text": [
      ">>> Quasi Distribution from the sampler job: {2: 0.49025, 0: 0.50975}\n",
      ">>> Expectation value from the estimator job: 0.8475\n"
     ]
    }
   ],
   "source": [
    "from qiskit_ibm_runtime import Session, Sampler, Estimator\n",
    "\n",
    "with Session(backend=backend):\n",
    "    sampler = Sampler()\n",
    "    estimator = Estimator()\n",
    "\n",
    "    sampler_job = sampler.run(sampler_circuit)\n",
    "    estimator_job = estimator.run(circuit, observable)\n",
    "\n",
    "    print(\n",
    "        f\">>> Quasi Distribution from the sampler job: {sampler_job.result().quasi_dists[0]}\"\n",
    "    )\n",
    "    print(\n",
    "        f\">>> Expectation value from the estimator job: {estimator_job.result().values[0]}\"\n",
    "    )"
   ]
  },
  {
   "cell_type": "markdown",
   "id": "7bc801c0",
   "metadata": {
    "slideshow": {
     "slide_type": "slide"
    }
   },
   "source": [
    "## Summary"
   ]
  },
  {
   "cell_type": "markdown",
   "id": "2acd2deb",
   "metadata": {
    "slideshow": {
     "slide_type": "skip"
    }
   },
   "source": [
    "The following code recaps using Qiskit Runtime primitives, options, and session."
   ]
  },
  {
   "cell_type": "code",
   "execution_count": 24,
   "id": "709d52da",
   "metadata": {
    "slideshow": {
     "slide_type": "subslide"
    }
   },
   "outputs": [
    {
     "name": "stdout",
     "output_type": "stream",
     "text": [
      ">>> Quasi Distribution from the sampler job: {0: 0.49575, 2: 0.50425}\n",
      ">>> Expectation value from the estimator job: 0.8315\n"
     ]
    }
   ],
   "source": [
    "from qiskit_ibm_runtime import (\n",
    "    QiskitRuntimeService,\n",
    "    Session,\n",
    "    Sampler,\n",
    "    Estimator,\n",
    "    Options,\n",
    ")\n",
    "\n",
    "# 1. Initialize account\n",
    "service = QiskitRuntimeService(channel=\"ibm_quantum\")\n",
    "\n",
    "# 2. Specify options, such as enabling error mitigation\n",
    "options = Options(resilience_level=1)\n",
    "\n",
    "# 3. Select a backend.\n",
    "backend = service.backend(\"ibmq_qasm_simulator\")\n",
    "\n",
    "# 4. Create a session\n",
    "with Session(backend=backend):\n",
    "    # 5. Create primitive instances\n",
    "    sampler = Sampler(options=options)\n",
    "    estimator = Estimator(options=options)\n",
    "\n",
    "    # 6. Submit jobs\n",
    "    sampler_job = sampler.run(sampler_circuit)\n",
    "    estimator_job = estimator.run(circuit, observable)\n",
    "\n",
    "    # 7. Get results\n",
    "    print(\n",
    "        f\">>> Quasi Distribution from the sampler job: {sampler_job.result().quasi_dists[0]}\"\n",
    "    )\n",
    "    print(\n",
    "        f\">>> Expectation value from the estimator job: {estimator_job.result().values[0]}\"\n",
    "    )"
   ]
  },
  {
   "cell_type": "markdown",
   "id": "4524b0a4",
   "metadata": {},
   "source": [
    "## Reference"
   ]
  },
  {
   "cell_type": "markdown",
   "id": "bf0fe74a",
   "metadata": {},
   "source": [
    "You can find more details about the ``Estimator`` methods in the [Estimator API reference](https://qiskit.org/documentation/partners/qiskit_ibm_runtime/stubs/qiskit_ibm_runtime.Estimator.html#qiskit_ibm_runtime.Estimator).\n",
    "\n",
    "And all the available options in the [Options API reference](https://qiskit.org/documentation/partners/qiskit_ibm_runtime/stubs/qiskit_ibm_runtime.options.Options.html#qiskit_ibm_runtime.options.Options)."
   ]
  },
  {
   "cell_type": "code",
   "execution_count": 25,
   "id": "79e3b158",
   "metadata": {},
   "outputs": [
    {
     "data": {
      "text/plain": [
       "'0.8.0'"
      ]
     },
     "execution_count": 25,
     "metadata": {},
     "output_type": "execute_result"
    }
   ],
   "source": [
    "import qiskit_ibm_runtime\n",
    "\n",
    "qiskit_ibm_runtime.version.get_version_info()"
   ]
  },
  {
   "cell_type": "code",
   "execution_count": 26,
   "id": "eb2e7ff2",
   "metadata": {},
   "outputs": [
    {
     "data": {
      "text/html": [
       "<h3>Version Information</h3><table><tr><th>Qiskit Software</th><th>Version</th></tr><tr><td><code>qiskit-terra</code></td><td>0.22.2</td></tr><tr><td><code>qiskit-aer</code></td><td>0.11.0</td></tr><tr><td><code>qiskit-ibmq-provider</code></td><td>0.19.2</td></tr><tr><td><code>qiskit-nature</code></td><td>0.5.0</td></tr><tr><th>System information</th></tr><tr><td>Python version</td><td>3.8.1</td></tr><tr><td>Python compiler</td><td>Clang 11.0.3 (clang-1103.0.32.62)</td></tr><tr><td>Python build</td><td>default, Jul 15 2020 18:48:27</td></tr><tr><td>OS</td><td>Darwin</td></tr><tr><td>CPUs</td><td>8</td></tr><tr><td>Memory (Gb)</td><td>16.0</td></tr><tr><td colspan='2'>Mon Nov 07 21:11:54 2022 EST</td></tr></table>"
      ],
      "text/plain": [
       "<IPython.core.display.HTML object>"
      ]
     },
     "metadata": {},
     "output_type": "display_data"
    },
    {
     "data": {
      "text/html": [
       "<div style='width: 100%; background-color:#d5d9e0;padding-left: 10px; padding-bottom: 10px; padding-right: 10px; padding-top: 5px'><h3>This code is a part of Qiskit</h3><p>&copy; Copyright IBM 2017, 2022.</p><p>This code is licensed under the Apache License, Version 2.0. You may<br>obtain a copy of this license in the LICENSE.txt file in the root directory<br> of this source tree or at http://www.apache.org/licenses/LICENSE-2.0.<p>Any modifications or derivative works of this code must retain this<br>copyright notice, and modified files need to carry a notice indicating<br>that they have been altered from the originals.</p></div>"
      ],
      "text/plain": [
       "<IPython.core.display.HTML object>"
      ]
     },
     "metadata": {},
     "output_type": "display_data"
    }
   ],
   "source": [
    "from qiskit.tools.jupyter import *\n",
    "\n",
    "%qiskit_version_table\n",
    "%qiskit_copyright"
   ]
  }
 ],
 "metadata": {
  "kernelspec": {
   "display_name": "Python 3 (ipykernel)",
   "language": "python",
   "name": "python3"
  },
  "language_info": {
   "codemirror_mode": {
    "name": "ipython",
    "version": 3
   },
   "file_extension": ".py",
   "mimetype": "text/x-python",
   "name": "python",
   "nbconvert_exporter": "python",
   "pygments_lexer": "ipython3",
   "version": "3.8.13"
  },
  "widgets": {
   "application/vnd.jupyter.widget-state+json": {
    "state": {},
    "version_major": 2,
    "version_minor": 0
   }
  }
 },
 "nbformat": 4,
 "nbformat_minor": 5
}
