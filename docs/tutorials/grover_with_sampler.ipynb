{
 "cells": [
  {
   "cell_type": "markdown",
   "id": "9b234e4a-273d-4a5b-9977-b11877c169f9",
   "metadata": {},
   "source": [
    "# Database search with Grover's algorithm using the Sampler primitive\n",
    "\n",
    "In this tutorial, we will solve an unstructured search problem using Grover's algorithm with the Sampler primitive Qiskit Runtime program."
   ]
  },
  {
   "cell_type": "markdown",
   "id": "d9f2cf85-7cab-4182-8642-e212bb6ac9e0",
   "metadata": {},
   "source": [
    "## 1. Set up your local development environment\n",
    "\n",
    "This tutorial requires a Qiskit Runtime service instance. If you haven't done so already, follow [these steps](https://cloud.ibm.com/docs/quantum-computing?topic=quantum-computing-quickstart) to set one up."
   ]
  },
  {
   "cell_type": "markdown",
   "id": "836c122c-47f7-4c23-8371-5a890c0fe858",
   "metadata": {},
   "source": [
    "## 2. Background information\n",
    "\n",
    "### 2.1 Unstructured search problem\n",
    "\n",
    "In the olden days, you looked up a person's phone number in a phone book. That is an easy task if you know the person's name because a phone book is orded alphabetically by name. However, the opposite task, that is, you are given a phone number and want to find out who it belongs to, is much more difficult. That is because a phone book is not orded by phone numbers. This is an example of an unstructured search problem. To solve this problem with a classical computer, your best trick is to randomly pick an entry. On average, you will need to look up half of the entires ($N/2$, if $N$ is the total number of entries) to find the owner. If you have a quantum computer, however, you can use Grover's algorithm to find the owner in $\\sqrt N$ tries. That means to identify the owner in a phone book that has 1 million numbers, you only need to do 1000 tries instead of 500,000!\n",
    "\n",
    "### 2.2 Grover's algorithm\n",
    "\n",
    "In a nutshell, Grover's algorithm uses a nice quantum trick called amplitude amplification to dramatically increase the chances of finding the correct answer - the owner of a phone number - in each try (iteration). That's all we need to know now. We don't have to understand the details about how Grover's algorithm works to apply it, because Qiskit does it for us! However, if you are interested, you can read the chapter about Grover's algorighm in [the Qiskit textbook](https://qiskit.org/textbook/ch-algorithms/grover.html).\n",
    "\n",
    "Next, let's look at a concrete example."
   ]
  },
  {
   "cell_type": "markdown",
   "id": "805646c9-5176-42bd-ba3e-68a9b1efe0ef",
   "metadata": {},
   "source": [
    "## 3. Create Grover's circuit\n",
    "\n",
    "### 3.1 Define an unstructured search problem in Qiskit\n",
    "\n",
    "In this simple example, you are given a small phone book that has 8 entries, person 0 to person 7, and we want to find the owner of a certain phone number. However, we are not allowed to look at the phone book directly. We are only allowed to consult an 'oracle': a black-box circuit that immediately tells us if our guess is right or wrong (like the Oracle in \"The Matrix\")."
   ]
  },
  {
   "cell_type": "code",
   "execution_count": 1,
   "id": "306b0d20-ac48-45a8-a45f-b79236ba90c8",
   "metadata": {
    "execution": {
     "iopub.execute_input": "2022-04-07T11:01:45.451706Z",
     "iopub.status.busy": "2022-04-07T11:01:45.451235Z",
     "iopub.status.idle": "2022-04-07T11:01:45.902022Z",
     "shell.execute_reply": "2022-04-07T11:01:45.901609Z",
     "shell.execute_reply.started": "2022-04-07T11:01:45.451640Z"
    },
    "tags": []
   },
   "outputs": [],
   "source": [
    "import random\n",
    "from qiskit.quantum_info import Statevector\n",
    "\n",
    "secret = random.randint(0,7)  # the owner is randomly picked\n",
    "secret_string = format(secret, '03b')  # format the owner in 3-bit string\n",
    "oracle = Statevector.from_label(secret_string)  # let the oracle know the owner"
   ]
  },
  {
   "cell_type": "markdown",
   "id": "ab38ee5a-a0f4-4dc7-bdef-a733cf3ce153",
   "metadata": {},
   "source": [
    "Once we have the oracle, we can define the unstractured search problem using the `AmplificationProblem` class in Qiskit. "
   ]
  },
  {
   "cell_type": "code",
   "execution_count": 2,
   "id": "251d140c-daf7-4d74-a188-a3398873e321",
   "metadata": {
    "execution": {
     "iopub.execute_input": "2022-04-07T11:01:45.902937Z",
     "iopub.status.busy": "2022-04-07T11:01:45.902830Z",
     "iopub.status.idle": "2022-04-07T11:01:46.362233Z",
     "shell.execute_reply": "2022-04-07T11:01:46.361831Z",
     "shell.execute_reply.started": "2022-04-07T11:01:45.902922Z"
    },
    "tags": []
   },
   "outputs": [],
   "source": [
    "from qiskit.algorithms import AmplificationProblem\n",
    "\n",
    "problem = AmplificationProblem(oracle, is_good_state=secret_string)"
   ]
  },
  {
   "cell_type": "markdown",
   "id": "d4a3a225-a08f-4fea-978a-fcb29fae7ded",
   "metadata": {},
   "source": [
    "### 3.2 Construct Grover's circuit for the problem\n",
    "\n",
    "Now we are ready to construct the quantum circuits for Grover's algorithm for this problem. Grover's algorithm's accuracy in finding the correct answer increases with the number of iterations. Let's create a circuit with one and two iterations to see this effect."
   ]
  },
  {
   "cell_type": "code",
   "execution_count": 3,
   "id": "5bd28cde-3b06-4755-9e93-962f4c88ecad",
   "metadata": {
    "execution": {
     "iopub.execute_input": "2022-04-07T11:01:46.364756Z",
     "iopub.status.busy": "2022-04-07T11:01:46.364489Z",
     "iopub.status.idle": "2022-04-07T11:01:46.413996Z",
     "shell.execute_reply": "2022-04-07T11:01:46.413479Z",
     "shell.execute_reply.started": "2022-04-07T11:01:46.364734Z"
    },
    "tags": []
   },
   "outputs": [],
   "source": [
    "from qiskit.algorithms import Grover\n",
    "\n",
    "grover_circuits = []\n",
    "grover_circuits_decomposed = []\n",
    "for iteration in range(1,3):\n",
    "    grover = Grover(iterations=iteration)\n",
    "    circuit = grover.construct_circuit(problem)\n",
    "    circuit.measure_all()\n",
    "    grover_circuits.append(circuit)\n",
    "    \n",
    "    # decomposed circuits are easier for submitting to the cloud later\n",
    "    circuit_decomposed = circuit.decompose().decompose().decompose().decompose()\n",
    "    grover_circuits_decomposed.append(circuit_decomposed)"
   ]
  },
  {
   "cell_type": "markdown",
   "id": "dd6d2066-073f-4d20-836a-c2690946a53b",
   "metadata": {},
   "source": [
    "Let's look at the circuits:"
   ]
  },
  {
   "cell_type": "code",
   "execution_count": 4,
   "id": "d08e6a6f-1cb0-4f41-a047-e18bb4da0975",
   "metadata": {
    "execution": {
     "iopub.execute_input": "2022-04-07T11:01:46.415100Z",
     "iopub.status.busy": "2022-04-07T11:01:46.414902Z",
     "iopub.status.idle": "2022-04-07T11:01:47.573739Z",
     "shell.execute_reply": "2022-04-07T11:01:47.573175Z",
     "shell.execute_reply.started": "2022-04-07T11:01:46.415077Z"
    },
    "tags": []
   },
   "outputs": [
    {
     "data": {
      "image/png": "[encoded data removed]",
      "text/plain": [
       "<Figure size 478.079x264.88 with 1 Axes>"
      ]
     },
     "execution_count": 4,
     "metadata": {},
     "output_type": "execute_result"
    }
   ],
   "source": [
    "# With 1 iteration\n",
    "grover_circuits[0].draw()"
   ]
  },
  {
   "cell_type": "code",
   "execution_count": 5,
   "id": "32e03d82-ca98-47b5-8510-07a601c4b730",
   "metadata": {
    "execution": {
     "iopub.execute_input": "2022-04-07T11:01:47.575139Z",
     "iopub.status.busy": "2022-04-07T11:01:47.574714Z",
     "iopub.status.idle": "2022-04-07T11:01:47.738404Z",
     "shell.execute_reply": "2022-04-07T11:01:47.737796Z",
     "shell.execute_reply.started": "2022-04-07T11:01:47.575117Z"
    },
    "tags": []
   },
   "outputs": [
    {
     "data": {
      "image/png": "[encoded data removed]",
      "text/plain": [
       "<Figure size 538.279x264.88 with 1 Axes>"
      ]
     },
     "execution_count": 5,
     "metadata": {},
     "output_type": "execute_result"
    }
   ],
   "source": [
    "# With 2 iterations\n",
    "grover_circuits[1].draw()"
   ]
  },
  {
   "cell_type": "markdown",
   "id": "ed5a7c5f-5f21-40d4-b4d1-37f8bb46337e",
   "metadata": {},
   "source": [
    "## 4. Submit the circuits to IBM Cloud\n",
    "\n",
    "Now that the Grover's circuits are created, let's submit them to a quantum computer on IBM Cloud by using the Sampler program."
   ]
  },
  {
   "cell_type": "markdown",
   "id": "74e6f4f2-7a46-4113-a805-cda77190a057",
   "metadata": {
    "execution": {
     "iopub.execute_input": "2022-03-23T10:17:50.782217Z",
     "iopub.status.busy": "2022-03-23T10:17:50.781990Z",
     "iopub.status.idle": "2022-03-23T10:18:01.486321Z",
     "shell.execute_reply": "2022-03-23T10:18:01.485520Z",
     "shell.execute_reply.started": "2022-03-23T10:17:50.782194Z"
    },
    "tags": []
   },
   "source": [
    "### 4.1 Connect to the Qiskit Runtime service \n",
    "\n",
    "First, connect to the Qiskit Runtime service instance that you created in [Step 1](#1.-Set-up-your-local-development-environment)."
   ]
  },
  {
   "cell_type": "code",
   "execution_count": 6,
   "id": "f17447de-a718-45e9-b535-b06a66135ad7",
   "metadata": {
    "execution": {
     "iopub.execute_input": "2022-04-07T11:01:47.739570Z",
     "iopub.status.busy": "2022-04-07T11:01:47.739374Z",
     "iopub.status.idle": "2022-04-07T11:01:53.282812Z",
     "shell.execute_reply": "2022-04-07T11:01:53.281893Z",
     "shell.execute_reply.started": "2022-04-07T11:01:47.739546Z"
    },
    "tags": []
   },
   "outputs": [],
   "source": [
    "from qiskit_ibm_runtime import QiskitRuntimeService\n",
    "\n",
    "service = QiskitRuntimeService()"
   ]
  },
  {
   "cell_type": "markdown",
   "id": "17d8307f-f3ff-4371-9286-611def049a8b",
   "metadata": {},
   "source": [
    "Grover's algorithm determines the correct answer based on the highest probability of measurement outcomes. The Sampler program is perfect for getting probabilities, so we will use that."
   ]
  },
  {
   "cell_type": "code",
   "execution_count": 7,
   "id": "02779126-9875-4aec-987b-cb5331ed71ba",
   "metadata": {
    "execution": {
     "iopub.execute_input": "2022-04-07T11:01:53.284234Z",
     "iopub.status.busy": "2022-04-07T11:01:53.283886Z",
     "iopub.status.idle": "2022-04-07T11:02:07.736095Z",
     "shell.execute_reply": "2022-04-07T11:02:07.734888Z",
     "shell.execute_reply.started": "2022-04-07T11:01:53.284206Z"
    },
    "tags": []
   },
   "outputs": [
    {
     "name": "stdout",
     "output_type": "stream",
     "text": [
      "SamplerResult(quasi_dists=[{'010': 0.023, '100': 0.026, '110': 0.803, '111': 0.029, '000': 0.029, '011': 0.039, '101': 0.027, '001': 0.024}, {'010': 0.007, '001': 0.009, '101': 0.002, '000': 0.007, '011': 0.007, '111': 0.007, '110': 0.951, '100': 0.01}], metadata=[{'header_metadata': None, 'shots': 1000}, {'header_metadata': None, 'shots': 1000}])\n"
     ]
    }
   ],
   "source": [
    "from qiskit_ibm_runtime import Sampler\n",
    "\n",
    "with Sampler(circuits=grover_circuits_decomposed) as sampler:\n",
    "    result = sampler(circuit_indices=[0,1], shots=1000)\n",
    "    print(result)"
   ]
  },
  {
   "cell_type": "markdown",
   "id": "aa59463a",
   "metadata": {},
   "source": [
    "Let's look at the results:"
   ]
  },
  {
   "cell_type": "code",
   "execution_count": 8,
   "id": "2688a776-3c46-4262-9666-871a1869af28",
   "metadata": {
    "execution": {
     "iopub.execute_input": "2022-04-07T11:02:07.737882Z",
     "iopub.status.busy": "2022-04-07T11:02:07.737495Z",
     "iopub.status.idle": "2022-04-07T11:02:07.935310Z",
     "shell.execute_reply": "2022-04-07T11:02:07.934604Z",
     "shell.execute_reply.started": "2022-04-07T11:02:07.737836Z"
    },
    "tags": []
   },
   "outputs": [
    {
     "name": "stdout",
     "output_type": "stream",
     "text": [
      "As you can see, the quantum computer returned '110' as the answer with highest probability.  \n"
     ]
    },
    {
     "data": {
      "image/png": "[encoded data removed]",
      "text/plain": [
       "<Figure size 504x360 with 1 Axes>"
      ]
     },
     "execution_count": 8,
     "metadata": {},
     "output_type": "execute_result"
    }
   ],
   "source": [
    "# Plot the results\n",
    "from qiskit.tools.visualization import plot_histogram\n",
    "\n",
    "result_dict = result.quasi_dists[1]\n",
    "answer = max(result_dict, key=result_dict.get)\n",
    "\n",
    "print(f\"As you can see, the quantum computer returned '{answer}' as the answer with highest probability.  \")\n",
    "\n",
    "plot_histogram(result.quasi_dists, legend=['1 iteration', '2 iterations'])"
   ]
  },
  {
   "cell_type": "markdown",
   "id": "d6758558",
   "metadata": {},
   "source": [
    "We will print out the quantum result, along with the secret string:"
   ]
  },
  {
   "cell_type": "code",
   "execution_count": 9,
   "id": "35e73404-5e5d-4e62-997d-d817d270dd82",
   "metadata": {
    "execution": {
     "iopub.execute_input": "2022-04-07T11:02:07.936824Z",
     "iopub.status.busy": "2022-04-07T11:02:07.936505Z",
     "iopub.status.idle": "2022-04-07T11:02:07.940839Z",
     "shell.execute_reply": "2022-04-07T11:02:07.940120Z",
     "shell.execute_reply.started": "2022-04-07T11:02:07.936805Z"
    },
    "tags": []
   },
   "outputs": [
    {
     "name": "stdout",
     "output_type": "stream",
     "text": [
      "Quantum answer: 110\n",
      "Correct answer: 110\n",
      "Success!\n"
     ]
    }
   ],
   "source": [
    "# Print the result and the correct answer.\n",
    "print(f\"Quantum answer: {answer}\")\n",
    "print(f\"Correct answer: {secret_string}\")\n",
    "print('Success!' if answer == secret_string else 'Failure!')"
   ]
  },
  {
   "cell_type": "markdown",
   "id": "df5f9b81-3480-43ad-9193-73796abee7e0",
   "metadata": {},
   "source": [
    "You can re-run the tutorials a few times to generate other random secret strings to see that we are not cheating! The quantum computer finds the correct answer every time."
   ]
  },
  {
   "cell_type": "code",
   "execution_count": 10,
   "id": "9fe73193-9cba-433e-acbb-893eb3ebbcd3",
   "metadata": {
    "execution": {
     "iopub.execute_input": "2022-04-07T11:02:07.942394Z",
     "iopub.status.busy": "2022-04-07T11:02:07.942132Z",
     "iopub.status.idle": "2022-04-07T11:02:07.947152Z",
     "shell.execute_reply": "2022-04-07T11:02:07.946260Z",
     "shell.execute_reply.started": "2022-04-07T11:02:07.942372Z"
    },
    "tags": []
   },
   "outputs": [
    {
     "data": {
      "text/plain": [
       "'0.3.0'"
      ]
     },
     "execution_count": 10,
     "metadata": {},
     "output_type": "execute_result"
    }
   ],
   "source": [
    "import qiskit_ibm_runtime\n",
    "qiskit_ibm_runtime.version.get_version_info()"
   ]
  },
  {
   "cell_type": "code",
   "execution_count": 11,
   "id": "d0447c5f-29d7-425a-b4d2-ac93c5e4f69d",
   "metadata": {
    "execution": {
     "iopub.execute_input": "2022-04-07T11:02:07.948393Z",
     "iopub.status.busy": "2022-04-07T11:02:07.948034Z",
     "iopub.status.idle": "2022-04-07T11:02:08.286802Z",
     "shell.execute_reply": "2022-04-07T11:02:08.286299Z",
     "shell.execute_reply.started": "2022-04-07T11:02:07.948372Z"
    },
    "tags": []
   },
   "outputs": [
    {
     "data": {
      "text/html": [
       "<h3>Version Information</h3><table><tr><th>Qiskit Software</th><th>Version</th></tr><tr><td><code>qiskit-terra</code></td><td>0.20.0</td></tr><tr><td><code>qiskit-aer</code></td><td>0.10.4</td></tr><tr><td><code>qiskit-ignis</code></td><td>0.7.0</td></tr><tr><td><code>qiskit-ibmq-provider</code></td><td>0.19.0</td></tr><tr><td><code>qiskit</code></td><td>0.36.0</td></tr><tr><td><code>qiskit-nature</code></td><td>0.3.1</td></tr><tr><th>System information</th></tr><tr><td>Python version</td><td>3.9.7</td></tr><tr><td>Python compiler</td><td>Clang 10.0.0 </td></tr><tr><td>Python build</td><td>default, Sep 16 2021 08:50:36</td></tr><tr><td>OS</td><td>Darwin</td></tr><tr><td>CPUs</td><td>8</td></tr><tr><td>Memory (Gb)</td><td>16.0</td></tr><tr><td colspan='2'>Thu Apr 07 13:02:08 2022 CEST</td></tr></table>"
      ],
      "text/plain": [
       "<IPython.core.display.HTML object>"
      ]
     },
     "metadata": {},
     "output_type": "display_data"
    },
    {
     "data": {
      "text/html": [
       "<div style='width: 100%; background-color:#d5d9e0;padding-left: 10px; padding-bottom: 10px; padding-right: 10px; padding-top: 5px'><h3>This code is a part of Qiskit</h3><p>&copy; Copyright IBM 2017, 2022.</p><p>This code is licensed under the Apache License, Version 2.0. You may<br>obtain a copy of this license in the LICENSE.txt file in the root directory<br> of this source tree or at http://www.apache.org/licenses/LICENSE-2.0.<p>Any modifications or derivative works of this code must retain this<br>copyright notice, and modified files need to carry a notice indicating<br>that they have been altered from the originals.</p></div>"
      ],
      "text/plain": [
       "<IPython.core.display.HTML object>"
      ]
     },
     "metadata": {},
     "output_type": "display_data"
    }
   ],
   "source": [
    "from qiskit.tools.jupyter import *\n",
    "\n",
    "%qiskit_version_table\n",
    "%qiskit_copyright"
   ]
  },
  {
   "cell_type": "code",
   "execution_count": null,
   "id": "c0739770-97dd-43f1-8bd3-f8b6da8bd185",
   "metadata": {},
   "outputs": [],
   "source": []
  }
 ],
 "metadata": {
  "kernelspec": {
   "display_name": "primitives",
   "language": "python",
   "name": "primitives"
  },
  "language_info": {
   "codemirror_mode": {
    "name": "ipython",
    "version": 3
   },
   "file_extension": ".py",
   "mimetype": "text/x-python",
   "name": "python",
   "nbconvert_exporter": "python",
   "pygments_lexer": "ipython3",
   "version": "3.9.7"
  }
 },
 "nbformat": 4,
 "nbformat_minor": 5
}
