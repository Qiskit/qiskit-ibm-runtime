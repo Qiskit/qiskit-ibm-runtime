{
 "cells": [
  {
   "cell_type": "markdown",
   "id": "9b234e4a-273d-4a5b-9977-b11877c169f9",
   "metadata": {},
   "source": [
    "# Database search with Grover's algorithm using Sampler primitive\n",
    "\n",
    "In this tutorial, you will solve an unstructure search problem using Grover's algorithm with sampler primitive runtime program."
   ]
  },
  {
   "cell_type": "markdown",
   "id": "d9f2cf85-7cab-4182-8642-e212bb6ac9e0",
   "metadata": {},
   "source": [
    "## 1. Set up local development environment\n",
    "\n",
    "This tutorial requires Qiskit Runtime Service. If you haven't done so already, please follow the steps to set up your [Qiskit Runtime service instance](https://cloud.ibm.com/docs/quantum-computing?topic=quantum-computing-quickstart)."
   ]
  },
  {
   "cell_type": "code",
   "execution_count": 3,
   "id": "ccacaaa7-1b7a-4229-b89c-c6b9c28bc85a",
   "metadata": {
    "execution": {
     "iopub.execute_input": "2022-03-24T09:30:57.712567Z",
     "iopub.status.busy": "2022-03-24T09:30:57.712315Z",
     "iopub.status.idle": "2022-03-24T09:31:02.692532Z",
     "shell.execute_reply": "2022-03-24T09:31:02.691512Z",
     "shell.execute_reply.started": "2022-03-24T09:30:57.712543Z"
    },
    "tags": []
   },
   "outputs": [],
   "source": [
    "from qiskit_ibm_runtime import IBMRuntimeService\n",
    "\n",
    "service = IBMRuntimeService()"
   ]
  },
  {
   "cell_type": "markdown",
   "id": "836c122c-47f7-4c23-8371-5a890c0fe858",
   "metadata": {},
   "source": [
    "## 2. Background information\n",
    "\n",
    "### 2.1 Unstructured search problem\n",
    "\n",
    "In the olden days, you can look up a person's phone number in a phone book. That is an easy task if you know the person's name because a phone book is orded alphabetically by the owner's name. However, the opposite task, that is you are given a phone number and want to find out who it belongs to, is much more difficult. That is because a phone book is not orded by phone numbers. This is an example of an unstructured search problem. To solve this problem with a classical computer, your best trick is to randomly pick an entry and on average you will need to look up half of the entires ($N/2$, if $N$ is the total number of entries) to find the owner. If you have a quantum computer, however, you can use Grover's algorithm to find the owner in $\\sqrt N$ tries. That means to identify the owner in a phone book that has 1 million numbers, you only need to do 1000 tries instead of 500,000 tries!\n",
    "\n",
    "### 2.2 Grover's algorithm\n",
    "\n",
    "Classically, the best algorithm solve the unstructured search problem in O(N) steps. The Grover's algorithm improves the the problem to O(sqart N) step. \n",
    "\n",
    "\n",
    "Link to textbook?"
   ]
  },
  {
   "cell_type": "markdown",
   "id": "805646c9-5176-42bd-ba3e-68a9b1efe0ef",
   "metadata": {},
   "source": [
    "## 3. Create Grover's circuit"
   ]
  },
  {
   "cell_type": "code",
   "execution_count": 120,
   "id": "306b0d20-ac48-45a8-a45f-b79236ba90c8",
   "metadata": {
    "execution": {
     "iopub.execute_input": "2022-03-23T10:16:33.340004Z",
     "iopub.status.busy": "2022-03-23T10:16:33.339598Z",
     "iopub.status.idle": "2022-03-23T10:16:33.342978Z",
     "shell.execute_reply": "2022-03-23T10:16:33.342378Z",
     "shell.execute_reply.started": "2022-03-23T10:16:33.339978Z"
    },
    "tags": []
   },
   "outputs": [],
   "source": [
    "# 3.1 Set up an unstrcutred search problem with a random secret string\n",
    "# Generate a random secret answer for the quantum computer to search for\n",
    "\n",
    "import random\n",
    "secret = random.randint(0,7)\n",
    "secret_string = format(secret, '03b')"
   ]
  },
  {
   "cell_type": "code",
   "execution_count": 121,
   "id": "251d140c-daf7-4d74-a188-a3398873e321",
   "metadata": {
    "execution": {
     "iopub.execute_input": "2022-03-23T10:16:33.594565Z",
     "iopub.status.busy": "2022-03-23T10:16:33.594311Z",
     "iopub.status.idle": "2022-03-23T10:16:33.598515Z",
     "shell.execute_reply": "2022-03-23T10:16:33.597792Z",
     "shell.execute_reply.started": "2022-03-23T10:16:33.594537Z"
    },
    "tags": []
   },
   "outputs": [],
   "source": [
    "# We will reveal the secrect anwser at the end to check whether the quantum computer can find it successfully\n",
    "# Next, set up the unstructrued search problem using AmplificationProblem class in Qiskit\n",
    "\n",
    "from qiskit.quantum_info import Statevector\n",
    "from qiskit.algorithms import AmplificationProblem, Grover\n",
    "\n",
    "oracle = Statevector.from_label(secret_string)\n",
    "problem = AmplificationProblem(oracle, is_good_state=secret_string)"
   ]
  },
  {
   "cell_type": "code",
   "execution_count": 122,
   "id": "5bd28cde-3b06-4755-9e93-962f4c88ecad",
   "metadata": {
    "execution": {
     "iopub.execute_input": "2022-03-23T10:16:33.864990Z",
     "iopub.status.busy": "2022-03-23T10:16:33.864731Z",
     "iopub.status.idle": "2022-03-23T10:16:33.938104Z",
     "shell.execute_reply": "2022-03-23T10:16:33.937491Z",
     "shell.execute_reply.started": "2022-03-23T10:16:33.864967Z"
    },
    "tags": []
   },
   "outputs": [],
   "source": [
    "# 3.2 Construct Grover's circuit for the problem\n",
    "# Grover's algorithm's accuracy in finding the correct answer increases with the number of iterations\n",
    "# Let's create a circuit with 1 and 2 iterations to see the effect\n",
    "grover_circuits = []\n",
    "for iteration in range(1,3):\n",
    "    grover = Grover(iterations=iteration)\n",
    "    grover_circuit = grover.construct_circuit(problem)\n",
    "    # the circuit needs to decomposed to a certain level otherwise IBMSampler will complain\n",
    "    # it's probably a bug\n",
    "    grover_circuit = grover_circuit.decompose().decompose().decompose().decompose().decompose().decompose().decompose()\n",
    "    grover_circuit.measure_all()\n",
    "    grover_circuits.append(grover_circuit)"
   ]
  },
  {
   "cell_type": "code",
   "execution_count": 123,
   "id": "d08e6a6f-1cb0-4f41-a047-e18bb4da0975",
   "metadata": {
    "execution": {
     "iopub.execute_input": "2022-03-23T10:16:34.303636Z",
     "iopub.status.busy": "2022-03-23T10:16:34.303404Z",
     "iopub.status.idle": "2022-03-23T10:16:34.306125Z",
     "shell.execute_reply": "2022-03-23T10:16:34.305506Z",
     "shell.execute_reply.started": "2022-03-23T10:16:34.303615Z"
    },
    "tags": []
   },
   "outputs": [],
   "source": [
    "# Let's look at the circuits\n",
    "#grover_circuits[0].draw()"
   ]
  },
  {
   "cell_type": "code",
   "execution_count": 124,
   "id": "32e03d82-ca98-47b5-8510-07a601c4b730",
   "metadata": {
    "execution": {
     "iopub.execute_input": "2022-03-23T10:16:34.652866Z",
     "iopub.status.busy": "2022-03-23T10:16:34.652595Z",
     "iopub.status.idle": "2022-03-23T10:16:34.655842Z",
     "shell.execute_reply": "2022-03-23T10:16:34.655086Z",
     "shell.execute_reply.started": "2022-03-23T10:16:34.652840Z"
    },
    "tags": []
   },
   "outputs": [],
   "source": [
    "#grover_circuits[1].draw()"
   ]
  },
  {
   "cell_type": "markdown",
   "id": "ed5a7c5f-5f21-40d4-b4d1-37f8bb46337e",
   "metadata": {},
   "source": [
    "## 4. Submit to IBM Cloud"
   ]
  },
  {
   "cell_type": "code",
   "execution_count": 130,
   "id": "2435f89f-c289-40b0-8fc8-ec2482cc1209",
   "metadata": {
    "execution": {
     "iopub.execute_input": "2022-03-23T10:17:50.782217Z",
     "iopub.status.busy": "2022-03-23T10:17:50.781990Z",
     "iopub.status.idle": "2022-03-23T10:18:01.486321Z",
     "shell.execute_reply": "2022-03-23T10:18:01.485520Z",
     "shell.execute_reply.started": "2022-03-23T10:17:50.782194Z"
    },
    "tags": []
   },
   "outputs": [],
   "source": [
    "# Now that the grover circuit is created, let's submit it to IBM Cloud using the latest Sampler problem\n",
    "# 4.1 first we will connect the service we have setup in step 1"
   ]
  },
  {
   "cell_type": "code",
   "execution_count": 134,
   "id": "f17447de-a718-45e9-b535-b06a66135ad7",
   "metadata": {
    "execution": {
     "iopub.execute_input": "2022-03-23T10:25:16.658484Z",
     "iopub.status.busy": "2022-03-23T10:25:16.658215Z",
     "iopub.status.idle": "2022-03-23T10:25:21.197533Z",
     "shell.execute_reply": "2022-03-23T10:25:21.196850Z",
     "shell.execute_reply.started": "2022-03-23T10:25:16.658460Z"
    },
    "tags": []
   },
   "outputs": [],
   "source": [
    "from qiskit_ibm_runtime import IBMRuntimeService\n",
    "service = IBMRuntimeService()"
   ]
  },
  {
   "cell_type": "code",
   "execution_count": 132,
   "id": "02779126-9875-4aec-987b-cb5331ed71ba",
   "metadata": {
    "execution": {
     "iopub.execute_input": "2022-03-23T10:18:01.492592Z",
     "iopub.status.busy": "2022-03-23T10:18:01.492322Z",
     "iopub.status.idle": "2022-03-23T10:18:37.116925Z",
     "shell.execute_reply": "2022-03-23T10:18:37.115830Z",
     "shell.execute_reply.started": "2022-03-23T10:18:01.492567Z"
    },
    "tags": []
   },
   "outputs": [
    {
     "name": "stdout",
     "output_type": "stream",
     "text": [
      "SamplerResult(quasi_dists=[{'000': 0.073, '001': 0.076, '010': 0.076, '011': 0.063, '100': 0.448, '101': 0.097, '110': 0.092, '111': 0.075}, {'000': 0.095, '001': 0.067, '010': 0.067, '011': 0.06, '100': 0.481, '101': 0.085, '110': 0.077, '111': 0.068}], metadata=[{'header_metadata': {}, 'shots': 1000}, {'header_metadata': {}, 'shots': 1000}])\n"
     ]
    }
   ],
   "source": [
    "# Grover's algorithm determines the correct answer based on the highest probability of measurement outcome\n",
    "# The Sampler program is perfect for getting probabilities, so we will use that.\n",
    "\n",
    "# highlight the session model\n",
    "# and batch\n",
    "\n",
    "from qiskit_ibm_runtime import IBMSampler\n",
    "\n",
    "sampler_factory = IBMSampler(service=service)\n",
    "\n",
    "with sampler_factory(circuits=grover_circuits) as sampler:\n",
    "    result = sampler(circuit_indices=[0,1], shots=1000)\n",
    "    print(result)"
   ]
  },
  {
   "cell_type": "code",
   "execution_count": 133,
   "id": "2688a776-3c46-4262-9666-871a1869af28",
   "metadata": {
    "execution": {
     "iopub.execute_input": "2022-03-23T10:18:37.119912Z",
     "iopub.status.busy": "2022-03-23T10:18:37.119534Z",
     "iopub.status.idle": "2022-03-23T10:18:37.292560Z",
     "shell.execute_reply": "2022-03-23T10:18:37.291891Z",
     "shell.execute_reply.started": "2022-03-23T10:18:37.119881Z"
    },
    "tags": []
   },
   "outputs": [
    {
     "data": {
      "image/png": "[encoded data removed]",
      "text/plain": [
       "<Figure size 504x360 with 1 Axes>"
      ]
     },
     "execution_count": 133,
     "metadata": {},
     "output_type": "execute_result"
    }
   ],
   "source": [
    "# Let's look at the results\n",
    "from qiskit.tools.visualization import plot_histogram\n",
    "plot_histogram(result.quasi_dists, legend=['iteration 1', 'iteration 2'])"
   ]
  },
  {
   "cell_type": "code",
   "execution_count": 129,
   "id": "35e73404-5e5d-4e62-997d-d817d270dd82",
   "metadata": {
    "execution": {
     "iopub.execute_input": "2022-03-23T10:16:56.947180Z",
     "iopub.status.busy": "2022-03-23T10:16:56.946937Z",
     "iopub.status.idle": "2022-03-23T10:16:56.952256Z",
     "shell.execute_reply": "2022-03-23T10:16:56.951273Z",
     "shell.execute_reply.started": "2022-03-23T10:16:56.947140Z"
    },
    "tags": []
   },
   "outputs": [
    {
     "name": "stdout",
     "output_type": "stream",
     "text": [
      "Quantum answer: 100\n",
      "Correct answer: 100\n",
      "Success!\n"
     ]
    }
   ],
   "source": [
    "# As you can see, \"110\"\n",
    "# Did the quantum computer find the correct answer? Let's now reveal our secret string. \n",
    "d = result.quasi_dists[1]\n",
    "highest_prob = max(d, key=d.get)\n",
    "print(f\"Quantum answer: {highest_prob}\")\n",
    "print(f\"Correct answer: {secret_string}\")\n",
    "print('Success!' if highest_prob == secret_string else 'Failure!')"
   ]
  },
  {
   "cell_type": "markdown",
   "id": "df5f9b81-3480-43ad-9193-73796abee7e0",
   "metadata": {},
   "source": [
    "You can re-run the tutorials a few times to generate other random secret strings to see that we are not cheating :D The quantum computer finds the correct answer every time."
   ]
  }
 ],
 "metadata": {
  "kernelspec": {
   "display_name": "primitives",
   "language": "python",
   "name": "primitives"
  },
  "language_info": {
   "codemirror_mode": {
    "name": "ipython",
    "version": 3
   },
   "file_extension": ".py",
   "mimetype": "text/x-python",
   "name": "python",
   "nbconvert_exporter": "python",
   "pygments_lexer": "ipython3",
   "version": "3.9.7"
  }
 },
 "nbformat": 4,
 "nbformat_minor": 5
}
