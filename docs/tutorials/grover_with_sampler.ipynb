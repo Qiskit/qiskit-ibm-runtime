{
 "cells": [
  {
   "cell_type": "markdown",
   "id": "9b234e4a-273d-4a5b-9977-b11877c169f9",
   "metadata": {},
   "source": [
    "# Database search with Grover's algorithm using Sampler primitive\n",
    "\n",
    "In this tutorial, you will solve an unstructure search problem using Grover's algorithm with sampler primitive runtime program."
   ]
  },
  {
   "cell_type": "markdown",
   "id": "d9f2cf85-7cab-4182-8642-e212bb6ac9e0",
   "metadata": {},
   "source": [
    "## 1. Set up local development environment\n",
    "\n",
    "This tutorial requires IBM Runtime Service. If you haven't done so already, please follow the steps to set up your [Qiskit Runtime service instance](https://cloud.ibm.com/docs/quantum-computing?topic=quantum-computing-quickstart)."
   ]
  },
  {
   "cell_type": "markdown",
   "id": "836c122c-47f7-4c23-8371-5a890c0fe858",
   "metadata": {},
   "source": [
    "## 2. Background information\n",
    "\n",
    "### 2.1 Unstructured search problem\n",
    "\n",
    "In the olden days, you can look up a person's phone number in a phone book. That is an easy task if you know the person's name because a phone book is orded alphabetically by the owner's name. However, the opposite task, that is you are given a phone number and want to find out who it belongs to, is much more difficult. That is because a phone book is not orded by phone numbers. This is an example of an unstructured search problem. To solve this problem with a classical computer, your best trick is to randomly pick an entry and on average you will need to look up half of the entires ($N/2$, if $N$ is the total number of entries) to find the owner. If you have a quantum computer, however, you can use Grover's algorithm to find the owner in $\\sqrt N$ tries. That means to identify the owner in a phone book that has 1 million numbers, you only need to do 1000 tries instead of 500,000 tries!\n",
    "\n",
    "### 2.2 Grover's algorithm\n",
    "\n",
    "In a nutshell, Grover's algorithm uses a nice quantum trick called amplitude amplification to increase dramatically the chances of finding the correct answer - the owner of a phone number - in each try (iteration). That's all we need to know now. We don't have to understand the nitty-gritty of how Grover's algorithm works to apply it, because Qiskit does it for us! Of course you are welcome to read [the Qiskit textbook chapter](https://qiskit.org/textbook/ch-algorithms/grover.html) to learn the theory behind.\n",
    "\n",
    "Let's look at a concrete example."
   ]
  },
  {
   "cell_type": "markdown",
   "id": "805646c9-5176-42bd-ba3e-68a9b1efe0ef",
   "metadata": {},
   "source": [
    "## 3. Create Grover's circuit\n",
    "\n",
    "### 3.1 Define unstructured search problem in Qiskit\n",
    "\n",
    "In this simple example, you are given a small phone book that has 8 entries, person 0 to person 7. And we want to find out the owner of a certain phone number. However, we are not allowed to look at the phone book directly. We are only allowed to consult an 'oracle': a black-box circuit that immediately tells us if our guess is right or wrong (like the Oracle in the Matrix movie)."
   ]
  },
  {
   "cell_type": "code",
   "execution_count": 1,
   "id": "306b0d20-ac48-45a8-a45f-b79236ba90c8",
   "metadata": {
    "execution": {
     "iopub.execute_input": "2022-03-29T09:47:25.074758Z",
     "iopub.status.busy": "2022-03-29T09:47:25.074489Z",
     "iopub.status.idle": "2022-03-29T09:47:26.161194Z",
     "shell.execute_reply": "2022-03-29T09:47:26.160697Z",
     "shell.execute_reply.started": "2022-03-29T09:47:25.074701Z"
    },
    "tags": []
   },
   "outputs": [],
   "source": [
    "import random\n",
    "from qiskit.quantum_info import Statevector\n",
    "\n",
    "secret = random.randint(0,7)  # the owner is randomly picked\n",
    "secret_string = format(secret, '03b')  # format the owner in 3-bit string\n",
    "oracle = Statevector.from_label(secret_string)  # let the oracle know the owner"
   ]
  },
  {
   "cell_type": "markdown",
   "id": "ab38ee5a-a0f4-4dc7-bdef-a733cf3ce153",
   "metadata": {},
   "source": [
    "Once we have the oracle, we can define the unstractured search problem using `AmplificationProblem` class in Qiskit. "
   ]
  },
  {
   "cell_type": "code",
   "execution_count": 2,
   "id": "251d140c-daf7-4d74-a188-a3398873e321",
   "metadata": {
    "execution": {
     "iopub.execute_input": "2022-03-29T09:47:27.959414Z",
     "iopub.status.busy": "2022-03-29T09:47:27.959130Z",
     "iopub.status.idle": "2022-03-29T09:47:28.260631Z",
     "shell.execute_reply": "2022-03-29T09:47:28.260182Z",
     "shell.execute_reply.started": "2022-03-29T09:47:27.959384Z"
    },
    "tags": []
   },
   "outputs": [],
   "source": [
    "from qiskit.algorithms import AmplificationProblem\n",
    "\n",
    "problem = AmplificationProblem(oracle, is_good_state=secret_string)"
   ]
  },
  {
   "cell_type": "markdown",
   "id": "d4a3a225-a08f-4fea-978a-fcb29fae7ded",
   "metadata": {},
   "source": [
    "### 3.2 Construct Grover's circuit for the problem\n",
    "\n",
    "Now we are ready to construct the quantum circuits for Grover's algorithm for this problem. Grover's algorithm's accuracy in finding the correct answer increases with the number of iterations. Let's create a circuit with 1 and 2 iterations to see the effect."
   ]
  },
  {
   "cell_type": "code",
   "execution_count": 3,
   "id": "5bd28cde-3b06-4755-9e93-962f4c88ecad",
   "metadata": {
    "execution": {
     "iopub.execute_input": "2022-03-29T09:47:29.915640Z",
     "iopub.status.busy": "2022-03-29T09:47:29.915010Z",
     "iopub.status.idle": "2022-03-29T09:47:30.038545Z",
     "shell.execute_reply": "2022-03-29T09:47:30.037851Z",
     "shell.execute_reply.started": "2022-03-29T09:47:29.915614Z"
    },
    "tags": []
   },
   "outputs": [],
   "source": [
    "from qiskit.algorithms import Grover\n",
    "\n",
    "grover_circuits = []\n",
    "for iteration in range(1,3):\n",
    "    grover = Grover(iterations=iteration)\n",
    "    circuit = grover.construct_circuit(problem)\n",
    "    # the circuit needs to decomposed to a certain level otherwise IBMSampler will complain\n",
    "    # it's probably a bug\n",
    "    circuit = circuit.decompose().decompose().decompose().decompose().decompose().decompose().decompose()\n",
    "    circuit.measure_all()\n",
    "    grover_circuits.append(circuit)"
   ]
  },
  {
   "cell_type": "markdown",
   "id": "dd6d2066-073f-4d20-836a-c2690946a53b",
   "metadata": {},
   "source": [
    "Let's look at the circuits"
   ]
  },
  {
   "cell_type": "code",
   "execution_count": 4,
   "id": "d08e6a6f-1cb0-4f41-a047-e18bb4da0975",
   "metadata": {
    "execution": {
     "iopub.execute_input": "2022-03-29T09:47:36.203244Z",
     "iopub.status.busy": "2022-03-29T09:47:36.202987Z",
     "iopub.status.idle": "2022-03-29T09:47:36.206390Z",
     "shell.execute_reply": "2022-03-29T09:47:36.205471Z",
     "shell.execute_reply.started": "2022-03-29T09:47:36.203217Z"
    },
    "tags": []
   },
   "outputs": [],
   "source": [
    "# With 1 iteration\n",
    "#grover_circuits[0].draw()"
   ]
  },
  {
   "cell_type": "code",
   "execution_count": 5,
   "id": "32e03d82-ca98-47b5-8510-07a601c4b730",
   "metadata": {
    "execution": {
     "iopub.execute_input": "2022-03-29T09:47:36.954374Z",
     "iopub.status.busy": "2022-03-29T09:47:36.954120Z",
     "iopub.status.idle": "2022-03-29T09:47:36.957501Z",
     "shell.execute_reply": "2022-03-29T09:47:36.956463Z",
     "shell.execute_reply.started": "2022-03-29T09:47:36.954349Z"
    },
    "tags": []
   },
   "outputs": [],
   "source": [
    "# With 2 iterations\n",
    "#grover_circuits[1].draw()"
   ]
  },
  {
   "cell_type": "markdown",
   "id": "ed5a7c5f-5f21-40d4-b4d1-37f8bb46337e",
   "metadata": {},
   "source": [
    "## 4. Submit circuits to IBM Cloud\n",
    "\n",
    "Now that the Grover's circuits are created, let's submit them to IBM Cloud using the Sampler program."
   ]
  },
  {
   "cell_type": "markdown",
   "id": "74e6f4f2-7a46-4113-a805-cda77190a057",
   "metadata": {
    "execution": {
     "iopub.execute_input": "2022-03-23T10:17:50.782217Z",
     "iopub.status.busy": "2022-03-23T10:17:50.781990Z",
     "iopub.status.idle": "2022-03-23T10:18:01.486321Z",
     "shell.execute_reply": "2022-03-23T10:18:01.485520Z",
     "shell.execute_reply.started": "2022-03-23T10:17:50.782194Z"
    },
    "tags": []
   },
   "source": [
    "### 4.1 Connect to IBM Runtime Service \n",
    "\n",
    "First connect to IBM Runtime Service as mentioned in [Step 1](#1.-Set-up-local-development-environment)"
   ]
  },
  {
   "cell_type": "code",
   "execution_count": 6,
   "id": "f17447de-a718-45e9-b535-b06a66135ad7",
   "metadata": {
    "execution": {
     "iopub.execute_input": "2022-03-29T09:47:38.358220Z",
     "iopub.status.busy": "2022-03-29T09:47:38.357963Z",
     "iopub.status.idle": "2022-03-29T09:47:47.355902Z",
     "shell.execute_reply": "2022-03-29T09:47:47.355045Z",
     "shell.execute_reply.started": "2022-03-29T09:47:38.358193Z"
    },
    "tags": []
   },
   "outputs": [],
   "source": [
    "from qiskit_ibm_runtime import IBMRuntimeService\n",
    "\n",
    "service = IBMRuntimeService()"
   ]
  },
  {
   "cell_type": "markdown",
   "id": "17d8307f-f3ff-4371-9286-611def049a8b",
   "metadata": {},
   "source": [
    "Grover's algorithm determines the correct answer based on the highest probability of measurement outcome. The Sampler program is perfect for getting probabilities, so we will use that."
   ]
  },
  {
   "cell_type": "code",
   "execution_count": 7,
   "id": "02779126-9875-4aec-987b-cb5331ed71ba",
   "metadata": {
    "execution": {
     "iopub.execute_input": "2022-03-29T09:47:50.537029Z",
     "iopub.status.busy": "2022-03-29T09:47:50.536786Z",
     "iopub.status.idle": "2022-03-29T09:48:02.468462Z",
     "shell.execute_reply": "2022-03-29T09:48:02.467598Z",
     "shell.execute_reply.started": "2022-03-29T09:47:50.537005Z"
    },
    "tags": []
   },
   "outputs": [
    {
     "name": "stdout",
     "output_type": "stream",
     "text": [
      "SamplerResult(quasi_dists=[{'010': 0.034, '101': 0.032, '001': 0.032, '100': 0.024, '110': 0.028, '111': 0.786, '000': 0.027, '011': 0.037}, {'001': 0.005, '010': 0.009, '000': 0.01, '111': 0.94, '011': 0.012, '110': 0.003, '100': 0.011, '101': 0.01}], metadata=[{'header_metadata': None, 'shots': 1000}, {'header_metadata': None, 'shots': 1000}])\n"
     ]
    }
   ],
   "source": [
    "from qiskit_ibm_runtime import IBMSampler\n",
    "\n",
    "sampler_factory = IBMSampler(service=service)\n",
    "\n",
    "with sampler_factory(circuits=grover_circuits) as sampler:\n",
    "    result = sampler(circuit_indices=[0,1], shots=1000)\n",
    "    print(result)"
   ]
  },
  {
   "cell_type": "code",
   "execution_count": 8,
   "id": "2688a776-3c46-4262-9666-871a1869af28",
   "metadata": {
    "execution": {
     "iopub.execute_input": "2022-03-29T09:48:07.215101Z",
     "iopub.status.busy": "2022-03-29T09:48:07.214840Z",
     "iopub.status.idle": "2022-03-29T09:48:08.126334Z",
     "shell.execute_reply": "2022-03-29T09:48:08.125536Z",
     "shell.execute_reply.started": "2022-03-29T09:48:07.215074Z"
    },
    "tags": []
   },
   "outputs": [
    {
     "data": {
      "image/png": "[encoded data removed]",
      "text/plain": [
       "<Figure size 504x360 with 1 Axes>"
      ]
     },
     "execution_count": 8,
     "metadata": {},
     "output_type": "execute_result"
    }
   ],
   "source": [
    "# Let's look at the results\n",
    "from qiskit.tools.visualization import plot_histogram\n",
    "plot_histogram(result.quasi_dists, legend=['1 iteration', '2 iterations'])"
   ]
  },
  {
   "cell_type": "code",
   "execution_count": 9,
   "id": "35e73404-5e5d-4e62-997d-d817d270dd82",
   "metadata": {
    "execution": {
     "iopub.execute_input": "2022-03-29T09:48:08.769086Z",
     "iopub.status.busy": "2022-03-29T09:48:08.768840Z",
     "iopub.status.idle": "2022-03-29T09:48:08.773748Z",
     "shell.execute_reply": "2022-03-29T09:48:08.772976Z",
     "shell.execute_reply.started": "2022-03-29T09:48:08.769063Z"
    },
    "tags": []
   },
   "outputs": [
    {
     "name": "stdout",
     "output_type": "stream",
     "text": [
      "Quantum answer: 111\n",
      "Correct answer: 111\n",
      "Success!\n"
     ]
    }
   ],
   "source": [
    "# As you can see, \"110\"\n",
    "# Did the quantum computer find the correct answer? Let's now reveal our secret string. \n",
    "d = result.quasi_dists[1]\n",
    "highest_prob = max(d, key=d.get)\n",
    "print(f\"Quantum answer: {highest_prob}\")\n",
    "print(f\"Correct answer: {secret_string}\")\n",
    "print('Success!' if highest_prob == secret_string else 'Failure!')"
   ]
  },
  {
   "cell_type": "markdown",
   "id": "df5f9b81-3480-43ad-9193-73796abee7e0",
   "metadata": {},
   "source": [
    "You can re-run the tutorials a few times to generate other random secret strings to see that we are not cheating! The quantum computer finds the correct answer every time."
   ]
  },
  {
   "cell_type": "code",
   "execution_count": 12,
   "id": "9fe73193-9cba-433e-acbb-893eb3ebbcd3",
   "metadata": {
    "execution": {
     "iopub.execute_input": "2022-03-29T09:51:11.554674Z",
     "iopub.status.busy": "2022-03-29T09:51:11.554413Z",
     "iopub.status.idle": "2022-03-29T09:51:11.559244Z",
     "shell.execute_reply": "2022-03-29T09:51:11.558475Z",
     "shell.execute_reply.started": "2022-03-29T09:51:11.554646Z"
    }
   },
   "outputs": [
    {
     "data": {
      "text/plain": [
       "'0.2.0'"
      ]
     },
     "execution_count": 12,
     "metadata": {},
     "output_type": "execute_result"
    }
   ],
   "source": [
    "import qiskit_ibm_runtime\n",
    "qiskit_ibm_runtime.version.get_version_info()"
   ]
  },
  {
   "cell_type": "code",
   "execution_count": 11,
   "id": "d0447c5f-29d7-425a-b4d2-ac93c5e4f69d",
   "metadata": {
    "execution": {
     "iopub.execute_input": "2022-03-29T09:50:46.347809Z",
     "iopub.status.busy": "2022-03-29T09:50:46.347522Z",
     "iopub.status.idle": "2022-03-29T09:50:46.358824Z",
     "shell.execute_reply": "2022-03-29T09:50:46.358191Z",
     "shell.execute_reply.started": "2022-03-29T09:50:46.347782Z"
    },
    "tags": []
   },
   "outputs": [
    {
     "data": {
      "text/html": [
       "<h3>Version Information</h3><table><tr><th>Qiskit Software</th><th>Version</th></tr><tr><td><code>qiskit-terra</code></td><td>0.19.2</td></tr><tr><td><code>qiskit-aer</code></td><td>0.10.3</td></tr><tr><td><code>qiskit-ignis</code></td><td>0.7.0</td></tr><tr><td><code>qiskit-ibmq-provider</code></td><td>0.18.3</td></tr><tr><td><code>qiskit</code></td><td>0.34.2</td></tr><tr><th>System information</th></tr><tr><td>Python version</td><td>3.9.7</td></tr><tr><td>Python compiler</td><td>Clang 10.0.0 </td></tr><tr><td>Python build</td><td>default, Sep 16 2021 08:50:36</td></tr><tr><td>OS</td><td>Darwin</td></tr><tr><td>CPUs</td><td>8</td></tr><tr><td>Memory (Gb)</td><td>16.0</td></tr><tr><td colspan='2'>Tue Mar 29 11:50:46 2022 CEST</td></tr></table>"
      ],
      "text/plain": [
       "<IPython.core.display.HTML object>"
      ]
     },
     "metadata": {},
     "output_type": "display_data"
    },
    {
     "data": {
      "text/html": [
       "<div style='width: 100%; background-color:#d5d9e0;padding-left: 10px; padding-bottom: 10px; padding-right: 10px; padding-top: 5px'><h3>This code is a part of Qiskit</h3><p>&copy; Copyright IBM 2017, 2022.</p><p>This code is licensed under the Apache License, Version 2.0. You may<br>obtain a copy of this license in the LICENSE.txt file in the root directory<br> of this source tree or at http://www.apache.org/licenses/LICENSE-2.0.<p>Any modifications or derivative works of this code must retain this<br>copyright notice, and modified files need to carry a notice indicating<br>that they have been altered from the originals.</p></div>"
      ],
      "text/plain": [
       "<IPython.core.display.HTML object>"
      ]
     },
     "metadata": {},
     "output_type": "display_data"
    }
   ],
   "source": [
    "from qiskit.tools.jupyter import *\n",
    "\n",
    "%qiskit_version_table\n",
    "%qiskit_copyright"
   ]
  },
  {
   "cell_type": "code",
   "execution_count": null,
   "id": "c0739770-97dd-43f1-8bd3-f8b6da8bd185",
   "metadata": {},
   "outputs": [],
   "source": []
  }
 ],
 "metadata": {
  "kernelspec": {
   "display_name": "primitives",
   "language": "python",
   "name": "primitives"
  },
  "language_info": {
   "codemirror_mode": {
    "name": "ipython",
    "version": 3
   },
   "file_extension": ".py",
   "mimetype": "text/x-python",
   "name": "python",
   "nbconvert_exporter": "python",
   "pygments_lexer": "ipython3",
   "version": "3.9.7"
  }
 },
 "nbformat": 4,
 "nbformat_minor": 5
}
