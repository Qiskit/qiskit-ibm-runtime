{
 "cells": [
  {
   "attachments": {},
   "cell_type": "markdown",
   "id": "9b234e4a-273d-4a5b-9977-b11877c169f9",
   "metadata": {},
   "source": [
    "# Database search with Grover's using Sampler\n",
    "\n",
    "In this tutorial, you will solve a small database search problem using Grover's algorithm with the Sampler primitive in Qiskit Runtime."
   ]
  },
  {
   "attachments": {},
   "cell_type": "markdown",
   "id": "d9f2cf85-7cab-4182-8642-e212bb6ac9e0",
   "metadata": {},
   "source": [
    "## Before you begin\n",
    "\n",
    "This tutorial requires a Qiskit Runtime service instance. If you haven't done so already, follow the [Getting started guide](https://qiskit.org/documentation/partners/qiskit_ibm_runtime/getting_started.html) to set one up."
   ]
  },
  {
   "attachments": {},
   "cell_type": "markdown",
   "id": "836c122c-47f7-4c23-8371-5a890c0fe858",
   "metadata": {},
   "source": [
    "## Background information\n",
    "\n",
    "### Unstructured search problem\n",
    "\n",
    "In the olden days, you looked up a person's phone number in a phone book. That is an easy task if you know the person's name because a phone book is ordered alphabetically by name. However, the opposite task, that is, you are given a phone number and want to find out who it belongs to, is much more difficult. That is because a phone book is not ordered by phone numbers. This is an example of an unstructured search problem. To solve this problem with a classical computer, your best trick is to randomly pick an entry. On average, you will need to look up half of the entries ($N/2$, if $N$ is the total number of entries) to find the owner. If you have a quantum computer, however, you can use Grover's algorithm to find the owner in $\\sqrt N$ tries. That means to identify the owner in a phone book that has 1 million numbers, you only need to access 1000 entries, rather than 500,000!\n",
    "\n",
    "### Grover's algorithm\n",
    "\n",
    "In a nutshell, Grover's algorithm uses a nice quantum trick called amplitude amplification to dramatically increase the chances of finding the correct answer - the owner of a phone number - in each try (iteration). That's all you need to know now. You don't have to understand the details about how Grover's algorithm works to apply it, because Qiskit does it for you! However, if you are interested, you can read the chapter about Grover's algorithm in [the Qiskit textbook](https://qiskit.org/textbook/ch-algorithms/grover.html).\n",
    "\n",
    "Next, let's look at a concrete example."
   ]
  },
  {
   "attachments": {},
   "cell_type": "markdown",
   "id": "cd19d04f",
   "metadata": {},
   "source": [
    "## Overview\n",
    "\n",
    "In this tutorial, you are going to look for the owner of a small phone book using Grover's algorithm following these steps:\n",
    "\n",
    "1. Create Grover's circuit for the phone book search problem.\n",
    "2. Submit the circuits to a quantum computer on the cloud using Qiskit Runtime service and the Sampler primitive.\n",
    "3. Analyze the results and identify the owner of the phone number."
   ]
  },
  {
   "attachments": {},
   "cell_type": "markdown",
   "id": "805646c9-5176-42bd-ba3e-68a9b1efe0ef",
   "metadata": {},
   "source": [
    "## Step 1: Create Grover's circuit\n",
    "\n",
    "### Define an unstructured search problem in Qiskit\n",
    "\n",
    "In this simple example, you are given a small phone book that has 8 entries, person 0 to person 7, and you want to find the owner of a certain phone number. However, you are not allowed to look at the phone book directly. You are only allowed to consult an 'oracle': a black-box circuit that immediately tells you if your guess is right or wrong (like the Oracle in \"The Matrix\")."
   ]
  },
  {
   "cell_type": "code",
   "execution_count": 1,
   "id": "306b0d20-ac48-45a8-a45f-b79236ba90c8",
   "metadata": {
    "execution": {
     "iopub.execute_input": "2022-04-07T13:46:51.379939Z",
     "iopub.status.busy": "2022-04-07T13:46:51.379670Z",
     "iopub.status.idle": "2022-04-07T13:46:51.962979Z",
     "shell.execute_reply": "2022-04-07T13:46:51.962527Z",
     "shell.execute_reply.started": "2022-04-07T13:46:51.379884Z"
    },
    "tags": []
   },
   "outputs": [],
   "source": [
    "import random\n",
    "from qiskit.quantum_info import Statevector\n",
    "\n",
    "secret = random.randint(0, 7)  # the owner is randomly picked\n",
    "secret_string = format(secret, \"03b\")  # format the owner in 3-bit string\n",
    "oracle = Statevector.from_label(secret_string)  # let the oracle know the owner"
   ]
  },
  {
   "attachments": {},
   "cell_type": "markdown",
   "id": "ab38ee5a-a0f4-4dc7-bdef-a733cf3ce153",
   "metadata": {},
   "source": [
    "Once you have the oracle, you can define the unstructured search problem using the `AmplificationProblem` class in Qiskit. "
   ]
  },
  {
   "cell_type": "code",
   "execution_count": 2,
   "id": "251d140c-daf7-4d74-a188-a3398873e321",
   "metadata": {
    "execution": {
     "iopub.execute_input": "2022-04-07T13:46:51.964869Z",
     "iopub.status.busy": "2022-04-07T13:46:51.964646Z",
     "iopub.status.idle": "2022-04-07T13:46:52.504705Z",
     "shell.execute_reply": "2022-04-07T13:46:52.504239Z",
     "shell.execute_reply.started": "2022-04-07T13:46:51.964826Z"
    },
    "tags": []
   },
   "outputs": [],
   "source": [
    "from qiskit.algorithms import AmplificationProblem\n",
    "\n",
    "problem = AmplificationProblem(oracle, is_good_state=secret_string)"
   ]
  },
  {
   "attachments": {},
   "cell_type": "markdown",
   "id": "d4a3a225-a08f-4fea-978a-fcb29fae7ded",
   "metadata": {},
   "source": [
    "### Construct Grover's circuit for the problem\n",
    "\n",
    "Now you are ready to construct the quantum circuits for Grover's algorithm for this problem. Grover's algorithm's accuracy in finding the correct answer increases with the number of iterations. Let's create two circuits with one and two iterations each to see this effect."
   ]
  },
  {
   "cell_type": "code",
   "execution_count": 3,
   "id": "5bd28cde-3b06-4755-9e93-962f4c88ecad",
   "metadata": {
    "execution": {
     "iopub.execute_input": "2022-04-07T13:46:52.505858Z",
     "iopub.status.busy": "2022-04-07T13:46:52.505583Z",
     "iopub.status.idle": "2022-04-07T13:46:52.552647Z",
     "shell.execute_reply": "2022-04-07T13:46:52.551834Z",
     "shell.execute_reply.started": "2022-04-07T13:46:52.505837Z"
    },
    "tags": []
   },
   "outputs": [],
   "source": [
    "from qiskit.algorithms import Grover\n",
    "\n",
    "grover_circuits = []\n",
    "for iteration in range(1, 3):\n",
    "    grover = Grover(iterations=iteration)\n",
    "    circuit = grover.construct_circuit(problem)\n",
    "    circuit.measure_all()\n",
    "    grover_circuits.append(circuit)"
   ]
  },
  {
   "attachments": {},
   "cell_type": "markdown",
   "id": "dd6d2066-073f-4d20-836a-c2690946a53b",
   "metadata": {},
   "source": [
    "Let's look at the circuits:"
   ]
  },
  {
   "cell_type": "code",
   "execution_count": 4,
   "id": "d08e6a6f-1cb0-4f41-a047-e18bb4da0975",
   "metadata": {
    "execution": {
     "iopub.execute_input": "2022-04-07T13:46:52.554077Z",
     "iopub.status.busy": "2022-04-07T13:46:52.553774Z",
     "iopub.status.idle": "2022-04-07T13:46:53.834618Z",
     "shell.execute_reply": "2022-04-07T13:46:53.834022Z",
     "shell.execute_reply.started": "2022-04-07T13:46:52.554035Z"
    },
    "tags": []
   },
   "outputs": [
    {
     "data": {
      "image/png": "[encoded data removed]",
      "text/plain": [
       "<Figure size 478.079x264.88 with 1 Axes>"
      ]
     },
     "execution_count": 4,
     "metadata": {},
     "output_type": "execute_result"
    }
   ],
   "source": [
    "# Grover's circuit with 1 iteration\n",
    "grover_circuits[0].draw()"
   ]
  },
  {
   "cell_type": "code",
   "execution_count": 5,
   "id": "32e03d82-ca98-47b5-8510-07a601c4b730",
   "metadata": {
    "execution": {
     "iopub.execute_input": "2022-04-07T13:46:53.835832Z",
     "iopub.status.busy": "2022-04-07T13:46:53.835551Z",
     "iopub.status.idle": "2022-04-07T13:46:54.014196Z",
     "shell.execute_reply": "2022-04-07T13:46:54.013202Z",
     "shell.execute_reply.started": "2022-04-07T13:46:53.835814Z"
    },
    "tags": []
   },
   "outputs": [
    {
     "data": {
      "image/png": "[encoded data removed]",
      "text/plain": [
       "<Figure size 538.279x264.88 with 1 Axes>"
      ]
     },
     "execution_count": 5,
     "metadata": {},
     "output_type": "execute_result"
    }
   ],
   "source": [
    "# Grover's circuit with 2 iterations\n",
    "grover_circuits[1].draw()"
   ]
  },
  {
   "attachments": {},
   "cell_type": "markdown",
   "id": "ed5a7c5f-5f21-40d4-b4d1-37f8bb46337e",
   "metadata": {},
   "source": [
    "## Step 2: Submit the circuits to a quantum computer on the cloud\n",
    "\n",
    "Now that the Grover's circuits are created, let's submit them to a quantum computer on the cloud by using the Sampler primitive."
   ]
  },
  {
   "attachments": {},
   "cell_type": "markdown",
   "id": "74e6f4f2-7a46-4113-a805-cda77190a057",
   "metadata": {
    "execution": {
     "iopub.execute_input": "2022-03-23T10:17:50.782217Z",
     "iopub.status.busy": "2022-03-23T10:17:50.781990Z",
     "iopub.status.idle": "2022-03-23T10:18:01.486321Z",
     "shell.execute_reply": "2022-03-23T10:18:01.485520Z",
     "shell.execute_reply.started": "2022-03-23T10:17:50.782194Z"
    },
    "tags": []
   },
   "source": [
    "### Connect to the Qiskit Runtime service \n",
    "\n",
    "First, connect to the Qiskit Runtime service instance that you created in [Before you begin](#Before-you-begin)."
   ]
  },
  {
   "cell_type": "code",
   "execution_count": 6,
   "id": "f17447de-a718-45e9-b535-b06a66135ad7",
   "metadata": {
    "execution": {
     "iopub.execute_input": "2022-04-07T13:46:54.015376Z",
     "iopub.status.busy": "2022-04-07T13:46:54.015076Z",
     "iopub.status.idle": "2022-04-07T13:47:01.094462Z",
     "shell.execute_reply": "2022-04-07T13:47:01.092957Z",
     "shell.execute_reply.started": "2022-04-07T13:46:54.015354Z"
    },
    "tags": []
   },
   "outputs": [],
   "source": [
    "from qiskit_ibm_runtime import QiskitRuntimeService\n",
    "\n",
    "service = QiskitRuntimeService()\n",
    "backend = \"ibmq_qasm_simulator\"  # use the simulator"
   ]
  },
  {
   "attachments": {},
   "cell_type": "markdown",
   "id": "17d8307f-f3ff-4371-9286-611def049a8b",
   "metadata": {},
   "source": [
    "Grover's algorithm determines the correct answer based on the highest probability of measurement outcomes. The `Sampler` primitive is perfect for getting probabilities, so you will use that. In the following cell, you create an instance of the `Sampler` primitive, and start a Runtime session using the context manager (`with ...:`), which automatically opens and closes the session for you. \n",
    "\n",
    "The `Sampler` primitive allows a batch submission of circuits in a job. Here you are passing a list of two circuits (Grover with 1 iteration and 2 iterations) to the Sampler but only one call is needed to sample the probability of measurement outcomes of both circuits."
   ]
  },
  {
   "cell_type": "code",
   "execution_count": 7,
   "id": "02779126-9875-4aec-987b-cb5331ed71ba",
   "metadata": {
    "execution": {
     "iopub.execute_input": "2022-04-07T13:47:01.098324Z",
     "iopub.status.busy": "2022-04-07T13:47:01.097723Z",
     "iopub.status.idle": "2022-04-07T13:47:27.175219Z",
     "shell.execute_reply": "2022-04-07T13:47:27.174465Z",
     "shell.execute_reply.started": "2022-04-07T13:47:01.098232Z"
    },
    "tags": []
   },
   "outputs": [
    {
     "name": "stdout",
     "output_type": "stream",
     "text": [
      "SamplerResult(quasi_dists=[{1: 0.029, 2: 0.026, 5: 0.032, 3: 0.808, 0: 0.029, 7: 0.029, 6: 0.023, 4: 0.024}, {5: 0.011, 2: 0.012, 0: 0.007, 3: 0.936, 7: 0.005, 6: 0.015, 4: 0.006, 1: 0.008}], metadata=[{'header_metadata': {}, 'shots': 1000}, {'header_metadata': {}, 'shots': 1000}])\n"
     ]
    }
   ],
   "source": [
    "from qiskit_ibm_runtime import Sampler, Session\n",
    "\n",
    "with Session(service=service, backend=backend):\n",
    "    sampler = Sampler()\n",
    "    job = sampler.run(circuits=grover_circuits, shots=1000)\n",
    "    result = job.result()\n",
    "    print(result)"
   ]
  },
  {
   "attachments": {},
   "cell_type": "markdown",
   "id": "aa59463a",
   "metadata": {},
   "source": [
    "## Step 3: Analyze the results\n",
    "\n",
    "Let's look at the results:"
   ]
  },
  {
   "cell_type": "code",
   "execution_count": 8,
   "id": "2688a776-3c46-4262-9666-871a1869af28",
   "metadata": {
    "execution": {
     "iopub.execute_input": "2022-04-07T13:47:27.202209Z",
     "iopub.status.busy": "2022-04-07T13:47:27.201970Z",
     "iopub.status.idle": "2022-04-07T13:47:27.497722Z",
     "shell.execute_reply": "2022-04-07T13:47:27.497048Z",
     "shell.execute_reply.started": "2022-04-07T13:47:27.202182Z"
    },
    "tags": []
   },
   "outputs": [
    {
     "name": "stdout",
     "output_type": "stream",
     "text": [
      "As you can see, the quantum computer returned `3` as the answer with highest probability.\n",
      "And the results with 2 iterations have higher probability than the results with 1 iteration.\n"
     ]
    },
    {
     "data": {
      "image/png": "[encoded data removed]",
      "text/plain": [
       "<Figure size 504x360 with 1 Axes>"
      ]
     },
     "execution_count": 8,
     "metadata": {},
     "output_type": "execute_result"
    }
   ],
   "source": [
    "from qiskit.tools.visualization import plot_histogram\n",
    "\n",
    "# Extract bit string with highest probability from results as the answer\n",
    "result_dict = result.quasi_dists[1].binary_probabilities()\n",
    "answer = max(result_dict, key=result_dict.get)\n",
    "print(\n",
    "    f\"As you can see, the quantum computer returned '{answer}' as the answer with highest probability.\\n\"\n",
    "    \"And the results with 2 iterations have higher probability than the results with 1 iteration.\"\n",
    ")\n",
    "\n",
    "# Plot the results\n",
    "plot_histogram(result.quasi_dists, legend=[\"1 iteration\", \"2 iterations\"])"
   ]
  },
  {
   "attachments": {},
   "cell_type": "markdown",
   "id": "d6758558",
   "metadata": {},
   "source": [
    "Let's print out the quantum result, along with the secret string, to check the quantum computer found the correct answer."
   ]
  },
  {
   "cell_type": "code",
   "execution_count": 9,
   "id": "35e73404-5e5d-4e62-997d-d817d270dd82",
   "metadata": {
    "execution": {
     "iopub.execute_input": "2022-04-07T13:47:27.498848Z",
     "iopub.status.busy": "2022-04-07T13:47:27.498635Z",
     "iopub.status.idle": "2022-04-07T13:47:27.502330Z",
     "shell.execute_reply": "2022-04-07T13:47:27.501584Z",
     "shell.execute_reply.started": "2022-04-07T13:47:27.498830Z"
    },
    "tags": []
   },
   "outputs": [
    {
     "name": "stdout",
     "output_type": "stream",
     "text": [
      "Quantum answer: 011\n",
      "Correct answer: 011\n",
      "Success!\n"
     ]
    }
   ],
   "source": [
    "# Print the results and the correct answer.\n",
    "print(f\"Quantum answer: {answer}\")\n",
    "print(f\"Correct answer: {secret_string}\")\n",
    "print(\"Success!\" if answer == secret_string else \"Failure!\")"
   ]
  },
  {
   "attachments": {},
   "cell_type": "markdown",
   "id": "28704413",
   "metadata": {},
   "source": [
    "Congratulations! You have successfully found the owner of the phone number. \n",
    "\n",
    "You can re-run the tutorial a few times to generate other random secret strings to check that we are not cheating! The quantum computer will find the correct answer every time."
   ]
  },
  {
   "attachments": {},
   "cell_type": "markdown",
   "id": "df5f9b81-3480-43ad-9193-73796abee7e0",
   "metadata": {},
   "source": [
    "## Summary\n",
    "\n",
    "In this tutorial, you have solved a small database search problem using a quantum computer. You have constructed Grover's circuits by defining a phone book search problem using the `AmplificationProblem` class in Qiskit and then submitted the circuits to run using the Sampler primitive through Qiskit Runtime service. "
   ]
  },
  {
   "attachments": {},
   "cell_type": "markdown",
   "id": "626e8535",
   "metadata": {},
   "source": [
    "## References\n",
    "\n",
    "1. Harkins, F., Grover's search algorithm. In A. Abbas, et al. Learn Quantum Computation Using Qiskit. URL: https://learn.qiskit.org/course/introduction/grovers-search-algorithm (accessed 09/01/2022) (2020)."
   ]
  },
  {
   "attachments": {},
   "cell_type": "markdown",
   "id": "0777cd54",
   "metadata": {},
   "source": [
    "### Qiskit versions and copyright"
   ]
  },
  {
   "cell_type": "code",
   "execution_count": 10,
   "id": "9fe73193-9cba-433e-acbb-893eb3ebbcd3",
   "metadata": {
    "execution": {
     "iopub.execute_input": "2022-04-07T13:47:27.503464Z",
     "iopub.status.busy": "2022-04-07T13:47:27.503281Z",
     "iopub.status.idle": "2022-04-07T13:47:27.507110Z",
     "shell.execute_reply": "2022-04-07T13:47:27.506544Z",
     "shell.execute_reply.started": "2022-04-07T13:47:27.503446Z"
    },
    "tags": []
   },
   "outputs": [
    {
     "data": {
      "text/plain": [
       "'0.7.0'"
      ]
     },
     "execution_count": 10,
     "metadata": {},
     "output_type": "execute_result"
    }
   ],
   "source": [
    "import qiskit_ibm_runtime\n",
    "\n",
    "qiskit_ibm_runtime.version.get_version_info()"
   ]
  },
  {
   "cell_type": "code",
   "execution_count": 11,
   "id": "d0447c5f-29d7-425a-b4d2-ac93c5e4f69d",
   "metadata": {
    "execution": {
     "iopub.execute_input": "2022-04-07T13:47:27.508323Z",
     "iopub.status.busy": "2022-04-07T13:47:27.508115Z",
     "iopub.status.idle": "2022-04-07T13:47:27.910360Z",
     "shell.execute_reply": "2022-04-07T13:47:27.909157Z",
     "shell.execute_reply.started": "2022-04-07T13:47:27.508302Z"
    },
    "tags": []
   },
   "outputs": [
    {
     "data": {
      "text/html": [
       "<h3>Version Information</h3><table><tr><th>Qiskit Software</th><th>Version</th></tr><tr><td><code>qiskit-terra</code></td><td>0.21.1</td></tr><tr><td><code>qiskit-aer</code></td><td>0.10.4</td></tr><tr><td><code>qiskit-ibmq-provider</code></td><td>0.19.2</td></tr><tr><th>System information</th></tr><tr><td>Python version</td><td>3.10.5</td></tr><tr><td>Python compiler</td><td>Clang 13.0.1 </td></tr><tr><td>Python build</td><td>main, Jun 14 2022 07:05:37</td></tr><tr><td>OS</td><td>Darwin</td></tr><tr><td>CPUs</td><td>8</td></tr><tr><td>Memory (Gb)</td><td>16.0</td></tr><tr><td colspan='2'>Tue Aug 23 13:55:53 2022 CEST</td></tr></table>"
      ],
      "text/plain": [
       "<IPython.core.display.HTML object>"
      ]
     },
     "metadata": {},
     "output_type": "display_data"
    },
    {
     "data": {
      "text/html": [
       "<div style='width: 100%; background-color:#d5d9e0;padding-left: 10px; padding-bottom: 10px; padding-right: 10px; padding-top: 5px'><h3>This code is a part of Qiskit</h3><p>&copy; Copyright IBM 2017, 2022.</p><p>This code is licensed under the Apache License, Version 2.0. You may<br>obtain a copy of this license in the LICENSE.txt file in the root directory<br> of this source tree or at http://www.apache.org/licenses/LICENSE-2.0.<p>Any modifications or derivative works of this code must retain this<br>copyright notice, and modified files need to carry a notice indicating<br>that they have been altered from the originals.</p></div>"
      ],
      "text/plain": [
       "<IPython.core.display.HTML object>"
      ]
     },
     "metadata": {},
     "output_type": "display_data"
    }
   ],
   "source": [
    "import qiskit.tools.jupyter\n",
    "\n",
    "%qiskit_version_table\n",
    "%qiskit_copyright"
   ]
  }
 ],
 "metadata": {
  "kernelspec": {
   "display_name": "Python 3.10.5 ('qiskit-ibm-runtime-dev')",
   "language": "python",
   "name": "python3"
  },
  "language_info": {
   "codemirror_mode": {
    "name": "ipython",
    "version": 3
   },
   "file_extension": ".py",
   "mimetype": "text/x-python",
   "name": "python",
   "nbconvert_exporter": "python",
   "pygments_lexer": "ipython3",
   "version": "3.10.5"
  },
  "vscode": {
   "interpreter": {
    "hash": "cc844467c6cda8d9a2fa77409198df8dff1239931436dfda6dcae5790e79be65"
   }
  }
 },
 "nbformat": 4,
 "nbformat_minor": 5
}
