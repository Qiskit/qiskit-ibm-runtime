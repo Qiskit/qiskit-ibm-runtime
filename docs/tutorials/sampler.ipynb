{
 "cells": [
  {
   "cell_type": "markdown",
   "id": "1de4634b",
   "metadata": {},
   "source": [
    "# Sampler"
   ]
  },
  {
   "cell_type": "markdown",
   "id": "d25b1f4d",
   "metadata": {},
   "source": [
    "The Sampler primitive lets you more accurately contextualize counts. It takes a user circuit as an input and generates an error mitigated readout of quasi-probabilities. This enables you to more efficiently evaluate the possibility of multiple relevant data points in the context of destructive interference."
   ]
  },
  {
   "cell_type": "markdown",
   "id": "8a6f1f0d",
   "metadata": {},
   "source": [
    "`qiskit-ibm-runtime` now provides a simple `IBMSampler` class which allows access to the Sampler primitive service."
   ]
  },
  {
   "cell_type": "markdown",
   "id": "aab6395d",
   "metadata": {},
   "source": [
    "Instantiate the `IBMRuntimeService` from one of the saved accounts like below."
   ]
  },
  {
   "cell_type": "code",
   "execution_count": 1,
   "id": "233c286a",
   "metadata": {},
   "outputs": [],
   "source": [
    "from qiskit_ibm_runtime import IBMRuntimeService\n",
    "\n",
    "# Save cloud account on disk.\n",
    "# IBMRuntimeService.save_account(auth=\"cloud\", token=<IBM Cloud API key>, instance=<IBM Cloud CRN> or <IBM Cloud service name>)\n",
    "\n",
    "# Or save legacy account on disk.\n",
    "# IBMRuntimeService.save_account(auth=\"legacy\", token=<IBM Quantum API key>)\n",
    "\n",
    "service = IBMRuntimeService()"
   ]
  },
  {
   "cell_type": "markdown",
   "id": "207168c6",
   "metadata": {},
   "source": [
    "Instantiate the `IBMSampler` class by (optionally) passing the `service` instance instantiated above and also an optional backend name or `IBMBackend` object. \n",
    "\n",
    "Note:\n",
    "- If `service` parameter is not set, it defaults to `IBMRuntimeService()` which means it will use your saved `cloud` or `legacy` accounts (in that order).\n",
    "- If `backend` parameter is not set, then a least busy backend is automatically selected (IBM Cloud only)."
   ]
  },
  {
   "cell_type": "code",
   "execution_count": 2,
   "id": "92e9ff73",
   "metadata": {},
   "outputs": [],
   "source": [
    "from qiskit_ibm_runtime import IBMSampler\n",
    "\n",
    "sampler_factory = IBMSampler(service=service)"
   ]
  },
  {
   "cell_type": "markdown",
   "id": "64db3d08",
   "metadata": {},
   "source": [
    "Instantiating `IBMSampler` returns a factory which can be used to open a session with the Sampler primitive service and pass an initial list of `circuits` and `parameters` (optional). Let's prepare the quantum circuits as shown below."
   ]
  },
  {
   "cell_type": "code",
   "execution_count": 3,
   "id": "2927157f",
   "metadata": {
    "scrolled": true
   },
   "outputs": [
    {
     "name": "stdout",
     "output_type": "stream",
     "text": [
      "        ┌───┐      ░ ┌─┐   \n",
      "   q_0: ┤ H ├──■───░─┤M├───\n",
      "        └───┘┌─┴─┐ ░ └╥┘┌─┐\n",
      "   q_1: ─────┤ X ├─░──╫─┤M├\n",
      "             └───┘ ░  ║ └╥┘\n",
      "meas: 2/══════════════╩══╩═\n",
      "                      0  1 \n"
     ]
    }
   ],
   "source": [
    "from qiskit import QuantumCircuit\n",
    "\n",
    "bell = QuantumCircuit(2)\n",
    "bell.h(0)\n",
    "bell.cx(0, 1)\n",
    "bell.measure_all()\n",
    "\n",
    "print(bell.draw())"
   ]
  },
  {
   "cell_type": "markdown",
   "id": "0e5d88e4",
   "metadata": {},
   "source": [
    "The quantum circuits can then be passed as lists to the `sampler_factory`, which instantiates and opens a session with the Sampler primitive service and returns a handle to the session, `sampler`. `sampler` is an instance of `Sampler` class in `qiskit-ibm-runtime` which implements the `BaseSampler` interface in `qiskit-terra`.\n",
    "\n",
    "`sampler` can then be called multiple times to write different `circuit_indices` (a list of circuit indices) and `parameter_values` (an optional list of concrete parameters to be bound) to the session and read the calculated quasi-probabilities. The result is an instance of `SamplerResult` class in `qiskit-terra` and it contains quasi-probabilities and metadata."
   ]
  },
  {
   "cell_type": "code",
   "execution_count": 4,
   "id": "0ee5fa14",
   "metadata": {},
   "outputs": [
    {
     "name": "stdout",
     "output_type": "stream",
     "text": [
      "SamplerResult(quasi_dists=[{'00': 0.5155, '11': 0.4845}, {'11': 0.5175, '00': 0.4825}, {'00': 0.4915, '11': 0.5085}], metadata=[{'header_metadata': None, 'shots': 2000}, {'header_metadata': None, 'shots': 2000}, {'header_metadata': None, 'shots': 2000}])\n",
      "SamplerResult(quasi_dists=[{'11': 0.5043333333333333, '00': 0.49566666666666664}, {'00': 0.501, '11': 0.499}, {'00': 0.493, '11': 0.507}], metadata=[{'header_metadata': None, 'shots': 3000}, {'header_metadata': None, 'shots': 3000}, {'header_metadata': None, 'shots': 3000}])\n",
      "SamplerResult(quasi_dists=[{'00': 0.495, '11': 0.505}, {'11': 0.50075, '00': 0.49925}, {'11': 0.49825, '00': 0.50175}], metadata=[{'header_metadata': None, 'shots': 4000}, {'header_metadata': None, 'shots': 4000}, {'header_metadata': None, 'shots': 4000}])\n"
     ]
    }
   ],
   "source": [
    "with sampler_factory(circuits=[bell]*3) as sampler:\n",
    "    result1 = sampler(circuit_indices=[0, 1, 2], shots=2000)\n",
    "    print(result1)\n",
    "    \n",
    "    result2 = sampler(circuit_indices=[0, 1, 2], shots=3000)\n",
    "    print(result2)\n",
    "    \n",
    "    result3 = sampler(circuit_indices=[0, 1, 2], shots=4000)\n",
    "    print(result3)"
   ]
  },
  {
   "cell_type": "code",
   "execution_count": 5,
   "id": "4d69df82",
   "metadata": {},
   "outputs": [
    {
     "data": {
      "text/html": [
       "<div style='width: 100%; background-color:#d5d9e0;padding-left: 10px; padding-bottom: 10px; padding-right: 10px; padding-top: 5px'><h3>This code is a part of Qiskit</h3><p>&copy; Copyright IBM 2017, 2022.</p><p>This code is licensed under the Apache License, Version 2.0. You may<br>obtain a copy of this license in the LICENSE.txt file in the root directory<br> of this source tree or at http://www.apache.org/licenses/LICENSE-2.0.<p>Any modifications or derivative works of this code must retain this<br>copyright notice, and modified files need to carry a notice indicating<br>that they have been altered from the originals.</p></div>"
      ],
      "text/plain": [
       "<IPython.core.display.HTML object>"
      ]
     },
     "metadata": {},
     "output_type": "display_data"
    }
   ],
   "source": [
    "from qiskit.tools.jupyter import *\n",
    "\n",
    "%qiskit_copyright"
   ]
  },
  {
   "cell_type": "code",
   "execution_count": null,
   "id": "a1289e9d",
   "metadata": {},
   "outputs": [],
   "source": []
  }
 ],
 "metadata": {
  "kernelspec": {
   "display_name": "qiskit-ibm-runtime",
   "language": "python",
   "name": "qiskit-ibm-runtime"
  },
  "language_info": {
   "codemirror_mode": {
    "name": "ipython",
    "version": 3
   },
   "file_extension": ".py",
   "mimetype": "text/x-python",
   "name": "python",
   "nbconvert_exporter": "python",
   "pygments_lexer": "ipython3",
   "version": "3.9.7"
  }
 },
 "nbformat": 4,
 "nbformat_minor": 5
}
