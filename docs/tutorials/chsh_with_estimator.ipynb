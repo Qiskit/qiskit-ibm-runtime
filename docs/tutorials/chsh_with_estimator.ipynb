{
 "cells": [
  {
   "cell_type": "markdown",
   "id": "bf7f865a",
   "metadata": {},
   "source": [
    "<!-- vale IBMQuantum.Definitions = NO -->\n",
    "\n",
    "# Demonstrate the violation of the CHSH inequality with the Estimator primitive"
   ]
  },
  {
   "cell_type": "markdown",
   "id": "5dc3c063",
   "metadata": {},
   "source": [
    "In this tutorial, you will run an experiment on a quantum computer to demonstrate the violation of the CHSH inequality with the Estimator primitive. \n",
    "\n",
    "The violation of the CHSH inequality is used to show that quantum mechanics is incompatible with local hidden-variable theories. This is an important experiment for understanding the foundation of quantum mechanics. Demonstrating this on a quantum computer was a major scientific breakthrough worthy of a high impact journal publication just a few years ago. [1] It's truly incredible that you can conduct this experiment at the comfort of your home using Qiskit and an IBM Quantum system."
   ]
  },
  {
   "cell_type": "markdown",
   "id": "5116c372",
   "metadata": {},
   "source": [
    "## Before you begin\n",
    "\n",
    "This tutorial requires a Qiskit Runtime service instance. If you haven't done so already, follow the instructions in the Qiskit [Getting started guide](https://qiskit.org/documentation/partners/qiskit_ibm_runtime/getting_started.html) to set one up."
   ]
  },
  {
   "cell_type": "markdown",
   "id": "98fa28f0",
   "metadata": {},
   "source": [
    "## Background information"
   ]
  },
  {
   "cell_type": "markdown",
   "id": "36669708",
   "metadata": {},
   "source": [
    "### CHSH inequality\n",
    "\n",
    "The CHSH inequality, named after the authors Clauser, Horne, Shimony, and Holt, is used to experimentally prove Bell's theorem.  This theorem asserts that local hidden variable theories cannot account for some consequences of entanglement in quantum mechanics. \n",
    "\n",
    "For this experiment, we will create an entangled pair on which we measure each qubit on two different bases. We will label the bases for the first qubit $A$ and $a$ and the bases for the second qubit $B$ and $b$.  This allows us to compute the CHSH quantity $S_1$:\n",
    "\n",
    "$$S_1 = A(B-b) + a(B+b).$$\n",
    "\n",
    "Each observable is either $+1$ or $-1$. Clearly, one of the terms $B\\pm b$ must be $0$, and the other must be $\\pm 2$.  Therefore, $S_1 = \\pm 2$. The average value of $S_1$ must satisfy the inequality:\n",
    "\n",
    "$$|\\langle S_1 \\rangle|\\leq 2.$$\n",
    "\n",
    "Expanding $S_1$ in terms of $A$, $a$, $B$, and $b$ results in:\n",
    "\n",
    "$$|\\langle S_1 \\rangle| = |\\langle AB \\rangle - \\langle Ab \\rangle + \\langle aB \\rangle + \\langle ab \\rangle| \\leq 2$$\n",
    "\n",
    "You can define another CHSH quantity $S_2$:\n",
    "\n",
    "$$S_2 = A(B+b) - a(B-b),$$\n",
    "\n",
    "This leads to another inequality:\n",
    "\n",
    "$$|\\langle S_2 \\rangle| = |\\langle AB \\rangle + \\langle Ab \\rangle - \\langle aB \\rangle + \\langle ab \\rangle| \\leq 2$$\n",
    "\n",
    "If quantum mechanics can be described by local hidden variable theories, the previous inequalities must hold true. However, as you are going to demonstrate in this notebook, these inequalities can be violated in a quantum computer.  Therefore, quantum mechanics is not compatible with local hidden variable theories.\n",
    "\n",
    "If you want to learn more, you can read the chapter about the CHSH inequality in [the Qiskit textbook](https://qiskit.org/textbook/ch-demos/chsh.html).\n",
    "\n"
   ]
  },
  {
   "cell_type": "markdown",
   "id": "d4cec8d8",
   "metadata": {},
   "source": [
    "## Overview\n",
    "\n",
    "You will create an entangled pair between two qubits in a quantum computer by creating the Bell state $|\\Phi^+\\rangle = \\frac{|00\\rangle + |11\\rangle}{\\sqrt{2}}$. Using the Estimator primitive, you can directly obtain the expectation values needed ($\\langle AB \\rangle, \\langle Ab \\rangle, \\langle aB \\rangle$, and $\\langle ab \\rangle$) to calculate the expectation values of the two CHSH quantities $\\langle S_1\\rangle$ and $\\langle S_2\\rangle$. Before the introduction of the Estimator primitive, you would have to construct the expectation values from the measurement outcomes.\n",
    "\n",
    "You will measure the second qubit in the $Z$ and $X$ bases.  The first qubit will be measured also in orthogonal bases, but with an angle with respect to the second qubit, which we are going to sweep between $0$ and $2\\pi$. As you will see, the Estimator primitive makes running parameterized circuits very easy. Rather than creating a series of CHSH circuits, you only need to create *one* CHSH circuit with a parameter specifying the measurement angle and a series of phase values for the parameter.\n",
    "\n",
    "Finally, you will analyze the results and plot them against the measurement angle. You will see that for certain range of measurement angles, the expectation values of CHSH quantities $|\\langle S_1\\rangle| > 2$ or $|\\langle S_2\\rangle| > 2$, which demonstrates the violation of the CHSH inequality.\n",
    "\n",
    "<div class=\"alert alert-info\">\n",
    "Note\n",
    "\n",
    "For expert users out there, we should mention there are several loopholes that must be closed when violating the inequality to claim that either locality or realism have been disproven. See the last paragraph (right before the \"Exercise\" section) in the CHSH chapter in [the Qiskit textbook](https://qiskit.org/textbook/ch-demos/chsh.html) for discussions.\n",
    "\n",
    "</div>"
   ]
  },
  {
   "cell_type": "markdown",
   "id": "66d5e2e2",
   "metadata": {},
   "source": [
    "## Step 1: Create CHSH circuits"
   ]
  },
  {
   "cell_type": "markdown",
   "id": "1ab329f2",
   "metadata": {},
   "source": [
    "### Create a parameterized CHSH circuit \n",
    "\n",
    "First, we write the circuit with the parameter $\\theta$, which we call `theta`. The `Estimator` primitive can enormously simplify circuit building and output analysis by directly providing expectation values of observables. Many problems of interest, especially for near-term applications on noisy systems, can be formulated in terms of expectation values. For maximum generalization, the `Estimator` primitive requires circuits with no measurements."
   ]
  },
  {
   "cell_type": "code",
   "execution_count": 1,
   "id": "6c77e40a",
   "metadata": {},
   "outputs": [
    {
     "data": {
      "image/png": "[encoded data removed]",
      "text/plain": [
       "<Figure size 267.052x144.48 with 1 Axes>"
      ]
     },
     "execution_count": 1,
     "metadata": {},
     "output_type": "execute_result"
    }
   ],
   "source": [
    "from qiskit.circuit import Parameter\n",
    "from qiskit import QuantumCircuit\n",
    "\n",
    "theta = Parameter(\"$\\\\theta$\")\n",
    "\n",
    "chsh_circuits_no_meas = QuantumCircuit(2)\n",
    "chsh_circuits_no_meas.h(0)\n",
    "chsh_circuits_no_meas.cx(0, 1)\n",
    "chsh_circuits_no_meas.ry(theta, 0)\n",
    "chsh_circuits_no_meas.draw(\"mpl\")"
   ]
  },
  {
   "cell_type": "markdown",
   "id": "de760250",
   "metadata": {},
   "source": [
    "### Create a list of phase values to be assigned later\n",
    "\n",
    "After creating the parameterized CHSH circuit, you will create a list of phase values to be assigned to the circuit in the next step. You can use the following code to create a list of 21 phase values range from $0$ to $2 \\pi$ with equal spacing, that is, $0$, $0.1 \\pi$, $0.2 \\pi$, ..., $1.9 \\pi$, $2 \\pi$."
   ]
  },
  {
   "cell_type": "code",
   "execution_count": 2,
   "id": "bcb3b32b",
   "metadata": {},
   "outputs": [],
   "source": [
    "import numpy as np\n",
    "\n",
    "number_of_phases = 21\n",
    "phases = np.linspace(0, 2 * np.pi, number_of_phases)\n",
    "# Phases need to be expressed as list of lists in order to work\n",
    "individual_phases = [[ph] for ph in phases]"
   ]
  },
  {
   "cell_type": "markdown",
   "id": "b7194399",
   "metadata": {},
   "source": [
    "## Step 2: Submit the circuits to a quantum computer on the cloud\n"
   ]
  },
  {
   "cell_type": "markdown",
   "id": "05bacc8f",
   "metadata": {},
   "source": [
    "\n",
    "### Connect to the Qiskit Runtime service  \n",
    "\n",
    "Before running circuits, you need to connect to the Qiskit Runtime service instance that you created in [the first step](#before-you-begin). We will run this tutorial on a simulator."
   ]
  },
  {
   "cell_type": "code",
   "execution_count": 3,
   "id": "16f323fb",
   "metadata": {},
   "outputs": [],
   "source": [
    "from qiskit_ibm_runtime import QiskitRuntimeService\n",
    "\n",
    "service = QiskitRuntimeService()\n",
    "backend = \"ibmq_qasm_simulator\"  # use the simulator"
   ]
  },
  {
   "cell_type": "markdown",
   "id": "6e559aed",
   "metadata": {},
   "source": [
    "### Run the parameterized circuits using the Estimator primitive \n",
    "\n",
    "Now we need observables from which to compute the expectation values.  In our case we are looking at orthogonal bases for each qubit, letting the parameterized $Y-$ rotation for the first qubit sweep the measurement basis nearly continuously with respect to the second qubit basis. We will therefore choose the observables $ZZ$, $ZX$, $XZ$, and $XX$."
   ]
  },
  {
   "cell_type": "code",
   "execution_count": 4,
   "id": "e73db51f",
   "metadata": {},
   "outputs": [],
   "source": [
    "from qiskit_ibm_runtime import Estimator, Session\n",
    "from qiskit.quantum_info import SparsePauliOp\n",
    "\n",
    "ZZ = SparsePauliOp.from_list([(\"ZZ\", 1)])\n",
    "ZX = SparsePauliOp.from_list([(\"ZX\", 1)])\n",
    "XZ = SparsePauliOp.from_list([(\"XZ\", 1)])\n",
    "XX = SparsePauliOp.from_list([(\"XX\", 1)])\n",
    "\n",
    "ops = [ZZ, ZX, XZ, XX]\n",
    "chsh_est_sim = []\n",
    "\n",
    "# Simulator\n",
    "with Session(service=service, backend=backend):\n",
    "    estimator = Estimator()\n",
    "    for op in ops:\n",
    "        job = estimator.run(\n",
    "            circuits=[chsh_circuits_no_meas] * len(individual_phases),\n",
    "            observables=[op] * len(individual_phases),\n",
    "            parameter_values=individual_phases,\n",
    "        )\n",
    "        est_result = job.result()\n",
    "        chsh_est_sim.append(est_result)"
   ]
  },
  {
   "cell_type": "markdown",
   "id": "ace7dc90",
   "metadata": {},
   "source": [
    "## Step 3: Analyze the results\n",
    "\n",
    "After running the circuits, we need to build the CHSH witness functions. We first build the quantities $\\langle AB \\rangle$, $\\langle Ab \\rangle$, $\\langle aB \\rangle$, and $\\langle ab \\rangle$, by looking at the parity of the outcomes for the four families of circuits we built (two measurement bases for each of the two qubits). Then we use those quantities to build the witness functions as defined previously."
   ]
  },
  {
   "cell_type": "code",
   "execution_count": 5,
   "id": "3c3c0229",
   "metadata": {},
   "outputs": [],
   "source": [
    "# <CHSH1> = <AB> - <Ab> + <aB> + <ab>\n",
    "chsh1_est_sim = (\n",
    "    chsh_est_sim[0].values\n",
    "    - chsh_est_sim[1].values\n",
    "    + chsh_est_sim[2].values\n",
    "    + chsh_est_sim[3].values\n",
    ")\n",
    "\n",
    "# <CHSH2> = <AB> + <Ab> - <aB> + <ab>\n",
    "chsh2_est_sim = (\n",
    "    chsh_est_sim[0].values\n",
    "    + chsh_est_sim[1].values\n",
    "    - chsh_est_sim[2].values\n",
    "    + chsh_est_sim[3].values\n",
    ")"
   ]
  },
  {
   "cell_type": "markdown",
   "id": "a772c534",
   "metadata": {},
   "source": [
    "Note that now we do not have to build the observables ourselves because they are returned to us! The computed expectation values are given in `result.values`. What comes back is a very small payload of data."
   ]
  },
  {
   "cell_type": "code",
   "execution_count": 6,
   "id": "f6267448",
   "metadata": {},
   "outputs": [
    {
     "data": {
      "text/plain": [
       "<matplotlib.legend.Legend at 0x7f9a93cabeb0>"
      ]
     },
     "execution_count": 6,
     "metadata": {},
     "output_type": "execute_result"
    },
    {
     "data": {
      "image/png": "[encoded data removed]",
      "text/plain": [
       "<Figure size 720x432 with 1 Axes>"
      ]
     },
     "metadata": {
      "needs_background": "light"
     },
     "output_type": "display_data"
    }
   ],
   "source": [
    "import matplotlib.pyplot as plt\n",
    "import matplotlib.ticker as tck\n",
    "\n",
    "fig, ax = plt.subplots(figsize=(10, 6))\n",
    "# results from a simulator\n",
    "ax.plot(phases / np.pi, chsh1_est_sim, \"o-\", label=\"CHSH1 Simulation\")\n",
    "ax.plot(phases / np.pi, chsh2_est_sim, \"o-\", label=\"CHSH2 Simulation\")\n",
    "# classical bound +-2\n",
    "ax.axhline(y=2, color=\"r\", linestyle=\"--\")\n",
    "ax.axhline(y=-2, color=\"r\", linestyle=\"--\")\n",
    "# quantum bound, +-2√2\n",
    "ax.axhline(y=np.sqrt(2) * 2, color=\"b\", linestyle=\"-.\")\n",
    "ax.axhline(y=-np.sqrt(2) * 2, color=\"b\", linestyle=\"-.\")\n",
    "# set x tick labels to the unit of pi\n",
    "ax.xaxis.set_major_formatter(tck.FormatStrFormatter(\"%g $\\pi$\"))\n",
    "ax.xaxis.set_major_locator(tck.MultipleLocator(base=0.5))\n",
    "# set title, labels, and legend\n",
    "plt.title(\"Violation of CHSH Inequality\")\n",
    "plt.xlabel(\"Theta\")\n",
    "plt.ylabel(\"CHSH witness\")\n",
    "plt.legend()"
   ]
  },
  {
   "cell_type": "markdown",
   "id": "63e63853",
   "metadata": {},
   "source": [
    "In the figure, the red dashed lines delimit the classical bounds ($\\pm 2$) and the dash-dotted blue lines delimit the quantum bounds ($\\pm 2\\sqrt{2}$). You can see that the experimental results resemble the general trend of the simulated results and there are regions where the CHSH witness quantities exceeds the classical bounds. Congratulations! You have successfully demonstrated the violation of CHSH inequality in a real quantum system!"
   ]
  },
  {
   "cell_type": "markdown",
   "id": "0509bac4",
   "metadata": {},
   "source": [
    "## Summary\n",
    "\n",
    "In this tutorial, you have created a parameterized CHSH circuit, run it using the Estimator primitive, analyzed the results and demonstrated the violation of CHSH inequality. You can see that the Estimator primitive not only makes running parameterized circuits very easy but also greatly simplifies the workflow for obtaining expectation values for observables."
   ]
  },
  {
   "cell_type": "markdown",
   "id": "55585908",
   "metadata": {},
   "source": [
    "## References\n",
    "\n",
    "1. Córcoles, A. (n.d.), Local Reality and the CHSH Inequality. In A. Abbas, et al. Learn Quantum Computation Using Qiskit. URL: https://qiskit.org/textbook/ch-demos/chsh.html (accessed 07/13/2022) (2020)."
   ]
  },
  {
   "cell_type": "markdown",
   "id": "21bab2e1",
   "metadata": {},
   "source": [
    "## Qiskit versions and copyright"
   ]
  },
  {
   "cell_type": "code",
   "execution_count": 7,
   "id": "3eaa8f60",
   "metadata": {},
   "outputs": [
    {
     "data": {
      "text/plain": [
       "'0.7.0'"
      ]
     },
     "execution_count": 7,
     "metadata": {},
     "output_type": "execute_result"
    }
   ],
   "source": [
    "import qiskit_ibm_runtime\n",
    "\n",
    "qiskit_ibm_runtime.version.get_version_info()"
   ]
  },
  {
   "cell_type": "code",
   "execution_count": 8,
   "id": "eb75a5c8",
   "metadata": {},
   "outputs": [
    {
     "data": {
      "text/html": [
       "<h3>Version Information</h3><table><tr><th>Qiskit Software</th><th>Version</th></tr><tr><td><code>qiskit-terra</code></td><td>0.21.0</td></tr><tr><td><code>qiskit-aer</code></td><td>0.10.4</td></tr><tr><td><code>qiskit-ibmq-provider</code></td><td>0.19.2</td></tr><tr><td><code>qiskit</code></td><td>0.37.0</td></tr><tr><th>System information</th></tr><tr><td>Python version</td><td>3.9.12</td></tr><tr><td>Python compiler</td><td>Clang 12.0.0 </td></tr><tr><td>Python build</td><td>main, Apr  5 2022 01:53:17</td></tr><tr><td>OS</td><td>Darwin</td></tr><tr><td>CPUs</td><td>8</td></tr><tr><td>Memory (Gb)</td><td>16.0</td></tr><tr><td colspan='2'>Thu Jul 14 14:27:57 2022 CEST</td></tr></table>"
      ],
      "text/plain": [
       "<IPython.core.display.HTML object>"
      ]
     },
     "metadata": {},
     "output_type": "display_data"
    },
    {
     "data": {
      "text/html": [
       "<div style='width: 100%; background-color:#d5d9e0;padding-left: 10px; padding-bottom: 10px; padding-right: 10px; padding-top: 5px'><h3>This code is a part of Qiskit</h3><p>&copy; Copyright IBM 2017, 2022.</p><p>This code is licensed under the Apache License, Version 2.0. You may<br>obtain a copy of this license in the LICENSE.txt file in the root directory<br> of this source tree or at http://www.apache.org/licenses/LICENSE-2.0.<p>Any modifications or derivative works of this code must retain this<br>copyright notice, and modified files need to carry a notice indicating<br>that they have been altered from the originals.</p></div>"
      ],
      "text/plain": [
       "<IPython.core.display.HTML object>"
      ]
     },
     "metadata": {},
     "output_type": "display_data"
    }
   ],
   "source": [
    "import qiskit.tools.jupyter\n",
    "\n",
    "%qiskit_version_table\n",
    "%qiskit_copyright"
   ]
  }
 ],
 "metadata": {
  "kernelspec": {
   "display_name": "Python 3 (ipykernel)",
   "language": "python",
   "name": "python3"
  },
  "language_info": {
   "codemirror_mode": {
    "name": "ipython",
    "version": 3
   },
   "file_extension": ".py",
   "mimetype": "text/x-python",
   "name": "python",
   "nbconvert_exporter": "python",
   "pygments_lexer": "ipython3",
   "version": "3.9.12"
  },
  "vscode": {
   "interpreter": {
    "hash": "1910f834ba40d1043b9ae723a4d216fb6c2faf55822807adca52e5ece8e3f1c8"
   }
  }
 },
 "nbformat": 4,
 "nbformat_minor": 5
}
