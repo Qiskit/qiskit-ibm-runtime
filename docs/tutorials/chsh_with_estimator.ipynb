{
 "cells": [
  {
   "cell_type": "markdown",
   "id": "bf7f865a",
   "metadata": {},
   "source": [
    "# Demonstrate the Violation of the CHSH Inequality with the Estimator primitive"
   ]
  },
  {
   "cell_type": "markdown",
   "id": "5dc3c063",
   "metadata": {},
   "source": [
    "TODO:\n",
    "- Add intro\n",
    "- Add before you begin section"
   ]
  },
  {
   "cell_type": "markdown",
   "id": "5116c372",
   "metadata": {},
   "source": [
    "## Before you begin"
   ]
  },
  {
   "cell_type": "markdown",
   "id": "98fa28f0",
   "metadata": {},
   "source": [
    "## Background Information"
   ]
  },
  {
   "cell_type": "markdown",
   "id": "36669708",
   "metadata": {},
   "source": [
    "\n",
    "\n",
    "### CHSH Inequality\n",
    "\n",
    "As an example for using the Sampler and the Estimator primitives from Qiskit Runtime, we are going to demonstrate the violation of the CHSH (named after Clauser, Horne, Shimony, and Holt) inequality. The basis of this experiment is the creation of a entangled pair (we will use a Bell state) on which we measure each qubit on two different bases. If we call the bases for the first qubit $A$ and $a$, and the bases for the second qubit $B$ and $b$, we can then compute the quantity $\\langle CHSH \\rangle = \\langle AB \\rangle - \\langle Ab \\rangle + \\langle aB \\rangle + \\langle ab \\rangle$. As we have seen, since each qubit measurement in any of the bases can only yield the result $\\pm 1$, we should find that the quantity above is bounded, $|\\langle CHSH \\rangle| =|\\langle AB \\rangle - \\langle Ab \\rangle + \\langle aB \\rangle + \\langle ab \\rangle| \\leq 2$, if local realism held.\n",
    "\n",
    "\n",
    "We are going to define two such CHSH quantities, or witnesses: $\\langle CHSH1 \\rangle = \\langle AB \\rangle - \\langle Ab \\rangle + \\langle aB \\rangle + \\langle ab \\rangle$ and $\\langle CHSH2 \\rangle = \\langle AB \\rangle + \\langle Ab \\rangle - \\langle aB \\rangle + \\langle ab \\rangle$. Then, without losing generality, we will measure the second qubit in the $Z$ and $X$ bases, whereas the first qubit will be measured also in orthogonal bases, but with an angle with respect to the second qubit, which we are going to sweep between $0$ and $2\\pi$. **This will also highlight the benefit of using these Runtime primitives for parameterized circuits.**"
   ]
  },
  {
   "cell_type": "markdown",
   "id": "d4cec8d8",
   "metadata": {},
   "source": [
    "## Plan\n",
    "\n",
    "TODO: Add description of the plan for the tutorial"
   ]
  },
  {
   "cell_type": "markdown",
   "id": "66d5e2e2",
   "metadata": {},
   "source": [
    "## Step 1: Create CHSH circuits"
   ]
  },
  {
   "cell_type": "markdown",
   "id": "1ab329f2",
   "metadata": {},
   "source": [
    "### Create a parameterized CHSH circuit \n",
    "\n",
    "First, we write the circuit with the parameter $\\theta$, which we call `theta`."
   ]
  },
  {
   "cell_type": "code",
   "execution_count": 15,
   "id": "6c77e40a",
   "metadata": {},
   "outputs": [
    {
     "data": {
      "image/png": "[encoded data removed]",
      "text/plain": [
       "<Figure size 267.052x144.48 with 1 Axes>"
      ]
     },
     "execution_count": 15,
     "metadata": {},
     "output_type": "execute_result"
    }
   ],
   "source": [
    "from qiskit.circuit import Parameter\n",
    "from qiskit import QuantumCircuit\n",
    "\n",
    "theta = Parameter('$\\\\theta$')\n",
    "\n",
    "chsh_circuits_no_meas = QuantumCircuit(2)\n",
    "chsh_circuits_no_meas.h(0)\n",
    "chsh_circuits_no_meas.cx(0, 1)\n",
    "chsh_circuits_no_meas.ry(theta, 0)\n",
    "chsh_circuits_no_meas.draw()"
   ]
  },
  {
   "cell_type": "markdown",
   "id": "de760250",
   "metadata": {},
   "source": [
    "### Create a list of phase values to be assigned later "
   ]
  },
  {
   "cell_type": "code",
   "execution_count": 3,
   "id": "bcb3b32b",
   "metadata": {},
   "outputs": [],
   "source": [
    "import numpy as np\n",
    "\n",
    "number_of_phases = 50\n",
    "phases = np.linspace(0, 2*np.pi, number_of_phases)\n",
    "# Phases need to be expressed as list of lists in order to work\n",
    "individual_phases = [[ph] for ph in phases]"
   ]
  },
  {
   "cell_type": "markdown",
   "id": "b7194399",
   "metadata": {},
   "source": [
    "## Step 2: Submit the circuits to a quantum computer on the cloud\n"
   ]
  },
  {
   "cell_type": "markdown",
   "id": "05bacc8f",
   "metadata": {},
   "source": [
    "\n",
    "### Connect to the Qiskit Runtime service  \n",
    "\n",
    "First, you will connect to the Qiskit Runtime service instance that you created in [the first step](#before-you-begin). We will use `ibmq_qasm_simulator` to run this tutorial."
   ]
  },
  {
   "cell_type": "code",
   "execution_count": 4,
   "id": "16f323fb",
   "metadata": {},
   "outputs": [],
   "source": [
    "from qiskit_ibm_runtime import QiskitRuntimeService\n",
    "\n",
    "service = QiskitRuntimeService()\n",
    "options = {'backend_name': 'ibmq_qasm_simulator'}  # use the simulator"
   ]
  },
  {
   "cell_type": "markdown",
   "id": "a0a17999",
   "metadata": {},
   "source": [
    "After running the circuits, we need to build the CHSH witness functions. We first build the quantities $\\langle AB \\rangle$, $\\langle Ab \\rangle$, $\\langle aB \\rangle$, and $\\langle ab \\rangle$, by looking at the parity of the outcomes for the four families of circuits we built (two measurement bases for each of the two qubits). Then we use those quantities to build the witness functions as defined above."
   ]
  },
  {
   "cell_type": "markdown",
   "id": "6e559aed",
   "metadata": {},
   "source": [
    "### Estimator\n",
    "\n",
    "The `Estimator` primitive can enormously simplify circuit building and output analysis by directly providing expectation values of observables. Many problems of interest, especially for near-term applications on noisy systems, can be formulated in terms of expectation values. For maximum generalization, the `Estimator` primitive requires circuits with no measurements:"
   ]
  },
  {
   "cell_type": "markdown",
   "id": "b2498bda",
   "metadata": {},
   "source": [
    "Now we need observables from which to compute the expectation values.  In our case we are looking at orthogonal bases for each qubit, letting the parameterized $Y-$rotation for the first qubit sweep the measurement basis nearly continuously with respect to the second qubit basis. We will therefore choose the observables $ZZ$, $ZX$, $XZ$, and $XX$."
   ]
  },
  {
   "cell_type": "markdown",
   "id": "8222ef9d",
   "metadata": {},
   "source": [
    "**Important** - This currently works for Pauli operators only.  Also, because there are no measurements from which to infer the number of qubits in the observable, one must pad the observable with identity (`I`) operators. "
   ]
  },
  {
   "cell_type": "code",
   "execution_count": 9,
   "id": "e73db51f",
   "metadata": {},
   "outputs": [],
   "source": [
    "from qiskit_ibm_runtime import Estimator\n",
    "from qiskit.quantum_info import SparsePauliOp\n",
    "\n",
    "ZZ = SparsePauliOp.from_list([(\"ZZ\", 1)])\n",
    "ZX = SparsePauliOp.from_list([(\"ZX\", 1)])\n",
    "XZ = SparsePauliOp.from_list([(\"XZ\", 1)])\n",
    "XX = SparsePauliOp.from_list([(\"XX\", 1)])\n",
    "\n",
    "ops = [ZZ, ZX, XZ, XX]\n",
    "chsh_est_sim = []\n",
    "chsh_est_exp = []\n",
    "\n",
    "for op in ops:\n",
    "    # Simulator\n",
    "    with Estimator(circuits=[chsh_circuits_no_meas], observables=[op],\n",
    "                   service=service, options=options) as estimator:\n",
    "        est_result = estimator(circuits=[0]*len(phases),\n",
    "                           observables=[0]*len(phases),\n",
    "                           parameter_values=individual_phases)\n",
    "        chsh_est_sim.append(est_result)\n",
    "        \n",
    "    # Real device\n",
    "    with Estimator(circuits=[chsh_circuits_no_meas], observables=[op],\n",
    "                   service=service, options=options) as estimator:\n",
    "        est_result = estimator(circuits=[0]*len(phases),\n",
    "                           observables=[0]*len(phases),\n",
    "                           parameter_values=individual_phases)\n",
    "        chsh_est_exp.append(est_result)"
   ]
  },
  {
   "cell_type": "markdown",
   "id": "ace7dc90",
   "metadata": {},
   "source": [
    "## Step 3: Analyze the results"
   ]
  },
  {
   "cell_type": "code",
   "execution_count": null,
   "id": "3c3c0229",
   "metadata": {},
   "outputs": [],
   "source": [
    "chsh1_est_sim = chsh_est_sim[0].values - chsh_est_sim[1].values + chsh_est_sim[2].values + chsh_est_sim[3].values\n",
    "chsh2_est_sim = chsh_est_sim[0].values + chsh_est_sim[1].values - chsh_est_sim[2].values + chsh_est_sim[3].values\n",
    "\n",
    "chsh1_est_exp = chsh_est_exp[0].values - chsh_est_exp[1].values + chsh_est_exp[2].values + chsh_est_exp[3].values\n",
    "chsh2_est_exp = chsh_est_exp[0].values + chsh_est_exp[1].values - chsh_est_exp[2].values + chsh_est_exp[3].values"
   ]
  },
  {
   "cell_type": "markdown",
   "id": "a772c534",
   "metadata": {},
   "source": [
    "Note that now we do not have to build the observables ourselves because they are returned to us! The computed expectation values are given in `result.values`. What comes back is a very small payload of data."
   ]
  },
  {
   "cell_type": "code",
   "execution_count": 12,
   "id": "f6267448",
   "metadata": {},
   "outputs": [
    {
     "data": {
      "text/plain": [
       "<matplotlib.legend.Legend at 0x7fd0eb278040>"
      ]
     },
     "execution_count": 12,
     "metadata": {},
     "output_type": "execute_result"
    },
    {
     "data": {
      "image/png": "[encoded data removed]",
      "text/plain": [
       "<Figure size 720x432 with 1 Axes>"
      ]
     },
     "metadata": {
      "needs_background": "light"
     },
     "output_type": "display_data"
    }
   ],
   "source": [
    "import matplotlib.pyplot as plt\n",
    "\n",
    "fig = plt.figure(figsize=(10, 6))\n",
    "plt.plot(phases, chsh1_est_sim, 'o-', label='CHSH1 Noiseless')\n",
    "plt.plot(phases, chsh2_est_sim, 'o-', label='CHSH2 Noiseless')\n",
    "plt.plot(phases, chsh1_est_exp, 'o-', label='CHSH1 Kolkata')\n",
    "plt.plot(phases, chsh2_est_exp, 'o-', label='CHSH2 Kolkata')\n",
    "plt.axhline(y=2, color='r', linestyle='-')\n",
    "plt.axhline(y=-2, color='r', linestyle='-')\n",
    "plt.axhline(y=np.sqrt(2)*2, color='b', linestyle='-.')\n",
    "plt.axhline(y=-np.sqrt(2)*2, color='b', linestyle='-.')\n",
    "plt.xlabel('Theta')\n",
    "plt.ylabel('CHSH witness')\n",
    "plt.legend()"
   ]
  },
  {
   "cell_type": "markdown",
   "id": "63e63853",
   "metadata": {},
   "source": [
    "In the figure above, the red lines delimit the classical bound and the dash-dotted blue lines delimit the quantum bound. We indeed observe a violation of the $CHSH$ inequality in our real device!"
   ]
  }
 ],
 "metadata": {
  "kernelspec": {
   "display_name": "Python 3.9.12 ('qiskit-ibm-runtime-dev')",
   "language": "python",
   "name": "python3"
  },
  "language_info": {
   "codemirror_mode": {
    "name": "ipython",
    "version": 3
   },
   "file_extension": ".py",
   "mimetype": "text/x-python",
   "name": "python",
   "nbconvert_exporter": "python",
   "pygments_lexer": "ipython3",
   "version": "3.9.12"
  },
  "vscode": {
   "interpreter": {
    "hash": "1910f834ba40d1043b9ae723a4d216fb6c2faf55822807adca52e5ece8e3f1c8"
   }
  }
 },
 "nbformat": 4,
 "nbformat_minor": 5
}
