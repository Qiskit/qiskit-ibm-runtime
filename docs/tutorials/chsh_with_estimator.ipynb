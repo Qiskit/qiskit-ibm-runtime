{
 "cells": [
  {
   "cell_type": "markdown",
   "id": "5dc3c063",
   "metadata": {},
   "source": [
    "## Introduction\n",
    "\n",
    "In this tutorial, you will run an experiment on a quantum computer to demonstrate the violation of the CHSH inequality with the Estimator primitive.\n",
    "\n",
    "The violation of the CHSH inequality is used to show that quantum mechanics is incompatible with local hidden-variable theories. This is an important experiment for understanding the foundation of quantum mechanics. The 2022 Nobel Prize for Physics was awarded to Alain Aspect, John Clauser and Anton Zeilinger in part for their pioneering work in quantum information science, and in particular, their experiments with entangled photons demonstrating violation of Bell’s inequalities. An experimental method by which one can test Bell’s inequality was put forth by Clauser, Horne, Shimony, and Holt (CHSH) in 1969, and forms the basis for the experiment conducted here. It's truly incredible that you can use Qiskit and an IBM Quantum system to conduct this experiment from the comfort of your home!\n"
   ]
  },
  {
   "cell_type": "markdown",
   "id": "98fa28f0",
   "metadata": {},
   "source": [
    "## Background\n"
   ]
  },
  {
   "cell_type": "markdown",
   "id": "36669708",
   "metadata": {},
   "source": [
    "### CHSH inequality\n",
    "\n",
    "The CHSH inequality, named after the authors Clauser, Horne, Shimony, and Holt, is used to experimentally prove Bell's theorem. This theorem asserts that local hidden variable theories cannot account for some consequences of entanglement in quantum mechanics.\n",
    "\n",
    "For this experiment, we will create an entangled pair on which we measure each qubit on two different bases. We will label the bases for the first qubit $A$ and $a$ and the bases for the second qubit $B$ and $b$. This allows us to compute the CHSH quantity $S_1$:\n",
    "\n",
    "$$\n",
    "S_1 = A(B-b) + a(B+b).\n",
    "$$\n",
    "\n",
    "Each observable is either $+1$ or $-1$. Clearly, one of the terms $B\\pm b$ must be $0$, and the other must be $\\pm 2$. Therefore, $S_1 = \\pm 2$. The average value of $S_1$ must satisfy the inequality:\n",
    "\n",
    "$$\n",
    "|\\langle S_1 \\rangle|\\leq 2.\n",
    "$$\n",
    "\n",
    "Expanding $S_1$ in terms of $A$, $a$, $B$, and $b$ results in:\n",
    "\n",
    "$$\n",
    "|\\langle S_1 \\rangle| = |\\langle AB \\rangle - \\langle Ab \\rangle + \\langle aB \\rangle + \\langle ab \\rangle| \\leq 2\n",
    "$$\n",
    "\n",
    "You can define another CHSH quantity $S_2$:\n",
    "\n",
    "$$\n",
    "S_2 = A(B+b) - a(B-b),\n",
    "$$\n",
    "\n",
    "This leads to another inequality:\n",
    "\n",
    "$$\n",
    "|\\langle S_2 \\rangle| = |\\langle AB \\rangle + \\langle Ab \\rangle - \\langle aB \\rangle + \\langle ab \\rangle| \\leq 2\n",
    "$$\n",
    "\n",
    "If quantum mechanics can be described by local hidden variable theories, the previous inequalities must hold true. However, as you are going to demonstrate in this notebook, these inequalities can be violated in a quantum computer. Therefore, quantum mechanics is not compatible with local hidden variable theories.\n",
    "\n",
    "If you want to learn more, read the section on [IBM Quantum Learning](https://learning.quantum-computing.ibm.com/course/basics-of-quantum-information/entanglement-in-action#the-chsh-game) or watch John Watrous explain the CHSH Inequality below:\n",
    "\n",
    "<iframe width=\"560\" height=\"315\" src=\"https://www.youtube.com/embed/GSsElSQgMbU?start=2426\" title=\"YouTube video player\" frameborder=\"0\" allow=\"accelerometer; autoplay; clipboard-write; encrypted-media; gyroscope; picture-in-picture; web-share\" allowfullscreen></iframe>\n"
   ]
  },
  {
   "cell_type": "markdown",
   "id": "d4cec8d8",
   "metadata": {},
   "source": [
    "## Overview\n",
    "\n",
    "You will create an entangled pair between two qubits in a quantum computer by creating the Bell state $|\\Phi^+\\rangle = \\frac{|00\\rangle + |11\\rangle}{\\sqrt{2}}$. Using the Estimator primitive, you can directly obtain the expectation values needed ($\\langle AB \\rangle, \\langle Ab \\rangle, \\langle aB \\rangle$, and $\\langle ab \\rangle$) to calculate the expectation values of the two CHSH quantities $\\langle S_1\\rangle$ and $\\langle S_2\\rangle$. Before the introduction of the Estimator primitive, you would have to construct the expectation values from the measurement outcomes.\n",
    "\n",
    "You will measure the second qubit in the $Z$ and $X$ bases. The first qubit will be measured also in orthogonal bases, but with an angle with respect to the second qubit, which we are going to sweep between $0$ and $2\\pi$. As you will see, the Estimator primitive makes running parameterized circuits very easy. Rather than creating a series of CHSH circuits, you only need to create _one_ CHSH circuit with a parameter specifying the measurement angle and a series of phase values for the parameter.\n",
    "\n",
    "Finally, you will analyze the results and plot them against the measurement angle. You will see that for certain range of measurement angles, the expectation values of CHSH quantities $|\\langle S_1\\rangle| > 2$ or $|\\langle S_2\\rangle| > 2$, which demonstrates the violation of the CHSH inequality.\n"
   ]
  },
  {
   "cell_type": "markdown",
   "id": "9c7dcf81",
   "metadata": {},
   "source": [
    "## Setup\n"
   ]
  },
  {
   "cell_type": "code",
   "execution_count": 20,
   "id": "53cb74e3",
   "metadata": {},
   "outputs": [],
   "source": [
    "# General\n",
    "import numpy as np\n",
    "\n",
    "# Qiskit imports\n",
    "from qiskit import QuantumCircuit\n",
    "from qiskit.circuit import Parameter\n",
    "from qiskit.quantum_info import SparsePauliOp\n",
    "\n",
    "# Runtime imports\n",
    "from qiskit_ibm_runtime import QiskitRuntimeService, Estimator, Session\n",
    "\n",
    "# Plotting routines\n",
    "import matplotlib.pyplot as plt\n",
    "import matplotlib.ticker as tck"
   ]
  },
  {
   "cell_type": "markdown",
   "id": "05bacc8f",
   "metadata": {},
   "source": [
    "### Connect to the Qiskit Runtime service\n",
    "\n",
    "Before running circuits, you need to connect to the Qiskit Runtime service instance, and select a target backend:\n"
   ]
  },
  {
   "cell_type": "code",
   "execution_count": 18,
   "id": "16f323fb",
   "metadata": {},
   "outputs": [
    {
     "data": {
      "text/plain": [
       "'ibmq_belem'"
      ]
     },
     "execution_count": 18,
     "metadata": {},
     "output_type": "execute_result"
    }
   ],
   "source": [
    "# Add your token below\n",
    "service = QiskitRuntimeService(channel=\"ibm_quantum\")\n",
    "# Select the system with the fewest number of jobs in the queue\n",
    "backend = service.least_busy(simulator=False, operational=True)\n",
    "\n",
    "# Initialize your session\n",
    "session = Session(backend=backend)\n",
    "backend.name"
   ]
  },
  {
   "cell_type": "markdown",
   "id": "66d5e2e2",
   "metadata": {},
   "source": [
    "## Step 1: Create CHSH circuits\n"
   ]
  },
  {
   "cell_type": "markdown",
   "id": "1ab329f2",
   "metadata": {},
   "source": [
    "### Create a parameterized CHSH circuit\n",
    "\n",
    "First, we write the circuit with the parameter $\\theta$, which we call `theta`. The `Estimator` primitive can enormously simplify circuit building and output analysis by directly providing expectation values of observables. Many problems of interest, especially for near-term applications on noisy systems, can be formulated in terms of expectation values. For maximum generalization, the `Estimator` primitive requires circuits with no measurements.\n"
   ]
  },
  {
   "cell_type": "code",
   "execution_count": 2,
   "id": "6c77e40a",
   "metadata": {},
   "outputs": [
    {
     "data": {
      "image/png": "[encoded data removed]",
      "text/plain": [
       "<Figure size 370.906x200.667 with 1 Axes>"
      ]
     },
     "execution_count": 2,
     "metadata": {},
     "output_type": "execute_result"
    }
   ],
   "source": [
    "theta = Parameter(\"$\\\\theta$\")\n",
    "\n",
    "chsh_circuit_no_meas = QuantumCircuit(2)\n",
    "chsh_circuit_no_meas.h(0)\n",
    "chsh_circuit_no_meas.cx(0, 1)\n",
    "chsh_circuit_no_meas.ry(theta, 0)\n",
    "chsh_circuit_no_meas.draw(\"mpl\")"
   ]
  },
  {
   "cell_type": "markdown",
   "id": "de760250",
   "metadata": {},
   "source": [
    "### Create a list of phase values to be assigned later\n",
    "\n",
    "After creating the parameterized CHSH circuit, you will create a list of phase values to be assigned to the circuit in the next step. You can use the following code to create a list of 21 phase values range from $0$ to $2 \\pi$ with equal spacing, that is, $0$, $0.1 \\pi$, $0.2 \\pi$, ..., $1.9 \\pi$, $2 \\pi$.\n"
   ]
  },
  {
   "cell_type": "code",
   "execution_count": 3,
   "id": "bcb3b32b",
   "metadata": {},
   "outputs": [],
   "source": [
    "number_of_phases = 21\n",
    "phases = np.linspace(0, 2 * np.pi, number_of_phases)\n",
    "# Phases need to be expressed as list of lists in order to work\n",
    "individual_phases = [[ph] for ph in phases]"
   ]
  },
  {
   "cell_type": "markdown",
   "id": "6e559aed",
   "metadata": {},
   "source": [
    "### Observables\n",
    "\n",
    "Now we need observables from which to compute the expectation values. In our case we are looking at orthogonal bases for each qubit, letting the parameterized $Y-$ rotation for the first qubit sweep the measurement basis nearly continuously with respect to the second qubit basis. We will therefore choose the observables $ZZ$, $ZX$, $XZ$, and $XX$.\n"
   ]
  },
  {
   "cell_type": "code",
   "execution_count": 4,
   "id": "5873398f",
   "metadata": {},
   "outputs": [],
   "source": [
    "ZZ = SparsePauliOp.from_list([(\"ZZ\", 1)])\n",
    "ZX = SparsePauliOp.from_list([(\"ZX\", 1)])\n",
    "XZ = SparsePauliOp.from_list([(\"XZ\", 1)])\n",
    "XX = SparsePauliOp.from_list([(\"XX\", 1)])\n",
    "\n",
    "ops = [ZZ, ZX, XZ, XX]\n",
    "num_ops = len(ops)"
   ]
  },
  {
   "cell_type": "markdown",
   "id": "b7194399",
   "metadata": {},
   "source": [
    "## Step 2: Submit the circuits to a quantum computer on the cloud\n"
   ]
  },
  {
   "cell_type": "markdown",
   "id": "f2e83672",
   "metadata": {},
   "source": [
    "In order to execute the entire experiment in one call to the `Estimator` we need to batch the circuit and operators together, repeating each for the requested `number_of_phases` points.\n"
   ]
  },
  {
   "cell_type": "code",
   "execution_count": 5,
   "id": "a3201a66",
   "metadata": {},
   "outputs": [],
   "source": [
    "batch_circuits = [chsh_circuit_no_meas] * number_of_phases * num_ops\n",
    "batch_ops = [op for op in ops for _ in individual_phases]"
   ]
  },
  {
   "cell_type": "markdown",
   "id": "2d8ad9e1",
   "metadata": {},
   "source": [
    "We can now create an `Estimator` instance using our selected backend, and execute our batched circuits and observables:\n"
   ]
  },
  {
   "cell_type": "code",
   "execution_count": 10,
   "id": "e73db51f",
   "metadata": {},
   "outputs": [],
   "source": [
    "estimator = Estimator(session=session)\n",
    "\n",
    "batch_expvals = (\n",
    "    estimator.run(\n",
    "        batch_circuits, batch_ops, parameter_values=individual_phases * num_ops, shots=int(1e4)\n",
    "    )\n",
    "    .result()\n",
    "    .values\n",
    ")"
   ]
  },
  {
   "cell_type": "markdown",
   "id": "ae4830b3",
   "metadata": {},
   "source": [
    "The individual expectation values can then be extracted from the batched results:\n"
   ]
  },
  {
   "cell_type": "code",
   "execution_count": 11,
   "id": "f478b954",
   "metadata": {},
   "outputs": [],
   "source": [
    "ZZ_expval, ZX_expval, XZ_expval, XX_expval = [\n",
    "    batch_expvals[kk * number_of_phases : (kk + 1) * number_of_phases] for kk in range(num_ops)\n",
    "]"
   ]
  },
  {
   "cell_type": "markdown",
   "id": "ace7dc90",
   "metadata": {},
   "source": [
    "## Step 3: Analyze the results\n",
    "\n",
    "After running the circuits, we need to build the CHSH witness functions. We first build the quantities $\\langle AB \\rangle$, $\\langle Ab \\rangle$, $\\langle aB \\rangle$, and $\\langle ab \\rangle$, by looking at the parity of the outcomes for the four families of circuits we built (two measurement bases for each of the two qubits). Then we use those quantities to build the witness functions as defined previously.\n"
   ]
  },
  {
   "cell_type": "code",
   "execution_count": 12,
   "id": "3c3c0229",
   "metadata": {},
   "outputs": [],
   "source": [
    "# <CHSH1> = <AB> - <Ab> + <aB> + <ab>\n",
    "chsh1_est = ZZ_expval - ZX_expval + XZ_expval + XX_expval\n",
    "\n",
    "# <CHSH2> = <AB> + <Ab> - <aB> + <ab>\n",
    "chsh2_est = ZZ_expval + ZX_expval - XZ_expval + XX_expval"
   ]
  },
  {
   "cell_type": "markdown",
   "id": "a772c534",
   "metadata": {},
   "source": [
    "Note that now we do not have to build the observables ourselves because they are returned to us! The computed expectation values are given in `result.values`. What comes back is a very small payload of data.\n"
   ]
  },
  {
   "cell_type": "code",
   "execution_count": 15,
   "id": "f6267448",
   "metadata": {},
   "outputs": [
    {
     "data": {
      "text/plain": [
       "<matplotlib.legend.Legend at 0x17ce40f70>"
      ]
     },
     "execution_count": 15,
     "metadata": {},
     "output_type": "execute_result"
    },
    {
     "data": {
      "image/png": "[encoded data removed]",
      "text/plain": [
       "<Figure size 1000x600 with 1 Axes>"
      ]
     },
     "metadata": {},
     "output_type": "display_data"
    }
   ],
   "source": [
    "fig, ax = plt.subplots(figsize=(10, 6))\n",
    "# results from hardware\n",
    "ax.plot(phases / np.pi, chsh1_est, \"o-\", label=\"CHSH1\", zorder=3)\n",
    "ax.plot(phases / np.pi, chsh2_est, \"o-\", label=\"CHSH2\", zorder=3)\n",
    "# classical bound +-2\n",
    "ax.axhline(y=2, color=\"0.9\", linestyle=\"--\")\n",
    "ax.axhline(y=-2, color=\"0.9\", linestyle=\"--\")\n",
    "# quantum bound, +-2√2\n",
    "ax.axhline(y=np.sqrt(2) * 2, color=\"0.9\", linestyle=\"-.\")\n",
    "ax.axhline(y=-np.sqrt(2) * 2, color=\"0.9\", linestyle=\"-.\")\n",
    "ax.fill_between(phases / np.pi, 2, 2 * np.sqrt(2), color=\"0.6\", alpha=0.7)\n",
    "ax.fill_between(phases / np.pi, -2, -2 * np.sqrt(2), color=\"0.6\", alpha=0.7)\n",
    "# set x tick labels to the unit of pi\n",
    "ax.xaxis.set_major_formatter(tck.FormatStrFormatter(\"%g $\\pi$\"))\n",
    "ax.xaxis.set_major_locator(tck.MultipleLocator(base=0.5))\n",
    "# set title, labels, and legend\n",
    "plt.title(f\"Violation of CHSH Inequality\")\n",
    "plt.xlabel(\"Theta\")\n",
    "plt.ylabel(\"CHSH witness\")\n",
    "plt.legend()"
   ]
  },
  {
   "cell_type": "markdown",
   "id": "63e63853",
   "metadata": {},
   "source": [
    "In the figure, the red dashed lines delimit the classical bounds ($\\pm 2$) and the dash-dotted blue lines delimit the quantum bounds ($\\pm 2\\sqrt{2}$). You can see that the experimental results resemble the general trend of the simulated results and there are regions where the CHSH witness quantities exceeds the classical bounds. Congratulations! You have successfully demonstrated the violation of CHSH inequality in a real quantum system!\n"
   ]
  },
  {
   "cell_type": "code",
   "execution_count": null,
   "id": "50a5da86",
   "metadata": {},
   "outputs": [],
   "source": [
    "# Close session\n",
    "\n",
    "session.close()"
   ]
  },
  {
   "cell_type": "markdown",
   "id": "0509bac4",
   "metadata": {},
   "source": [
    "## Summary\n",
    "\n",
    "In this tutorial, you have created a parameterized CHSH circuit, run it using the Estimator primitive, analyzed the results and demonstrated the violation of CHSH inequality. You can see that the Estimator primitive not only makes running parameterized circuits very easy but also greatly simplifies the workflow for obtaining expectation values for observables.\n"
   ]
  },
  {
   "cell_type": "code",
   "execution_count": 16,
   "id": "3eaa8f60",
   "metadata": {},
   "outputs": [
    {
     "data": {
      "text/plain": [
       "'0.11.3'"
      ]
     },
     "execution_count": 16,
     "metadata": {},
     "output_type": "execute_result"
    }
   ],
   "source": [
    "import qiskit_ibm_runtime\n",
    "\n",
    "qiskit_ibm_runtime.version.get_version_info()"
   ]
  },
  {
   "cell_type": "code",
   "execution_count": 19,
   "id": "09dfa941",
   "metadata": {},
   "outputs": [
    {
     "data": {
      "text/plain": [
       "'0.25.0'"
      ]
     },
     "execution_count": 19,
     "metadata": {},
     "output_type": "execute_result"
    }
   ],
   "source": [
    "import qiskit\n",
    "\n",
    "qiskit.version.get_version_info()"
   ]
  }
 ],
 "metadata": {
  "kernelspec": {
   "display_name": "Python 3 (ipykernel)",
   "language": "python",
   "name": "python3"
  },
  "language_info": {
   "codemirror_mode": {
    "name": "ipython",
    "version": 3
   },
   "file_extension": ".py",
   "mimetype": "text/x-python",
   "name": "python",
   "nbconvert_exporter": "python",
   "pygments_lexer": "ipython3",
   "version": "3.9.6"
  },
  "vscode": {
   "interpreter": {
    "hash": "1910f834ba40d1043b9ae723a4d216fb6c2faf55822807adca52e5ece8e3f1c8"
   }
  }
 },
 "nbformat": 4,
 "nbformat_minor": 5
}
