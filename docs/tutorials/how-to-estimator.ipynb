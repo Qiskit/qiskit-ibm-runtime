{
 "cells": [
  {
   "cell_type": "markdown",
   "id": "d2db03d0",
   "metadata": {},
   "source": [
    "# Get started with the Estimator primitive\n",
    "\n",
    "Learn how to set up and use the Estimator primitive program.\n",
    "\n",
    "\n",
    "## Overview\n",
    "\n",
    "The Estimator primitive lets you efficiently calculate and interpret expectation values of quantum operators required for many algorithms. You can specify a list of circuits and observables, then evaluate expectation values and variances for a given parameter input.  \n",
    "\n",
    "\n",
    "## Prepare the environment\n",
    "\n",
    "1. Follow the steps in the [getting started guide](/docs/quantum-computing?topic=quantum-computing-quickstart) to get your quantum service instance ready to use.\n",
    "\n",
    "2. You'll need at least one circuit to submit to the program. Our examples all have circuits in them, but if you want to submit your own circuit, you can use Qiskit to create one. To learn how to create circuits by using Qiskit, see the [Circuit basics tutorial](https://qiskit.org/documentation/tutorials/circuits/01_circuit_basics.html).\n",
    "\n",
    "3. Create a list of observables. Observables let you define the properties of the circuit that are relevant to your problem and enable you to efficiently measure their expectation value. For simplicity, you can use the [PauliSumOp class](https://qiskit.org/documentation/stubs/qiskit.opflow.primitive_ops.html#module-qiskit.opflow.primitive_ops) in Qiskit to define them, as illustrated in the example below.\n",
    "\n",
    "\n",
    "## Start a session\n",
    "\n",
    "With Qiskit Runtime primitives, we introduce the concept of a session or a factory that allows you to define a job as a collection of iterative calls to the quantum computer. When you start a session, it caches the data you send so it doesn't have to be transmitted to the Quantum Datacenter on each iteration.\n",
    "\n",
    "\n",
    "### Specify program inputs\n",
    "\n",
    "The Estimator takes in:\n",
    "* The **circuits** you want to investigate.\n",
    "* The **parameters** input to evaluate the circuits.\n",
    "* The **observables** (Hamiltonians) to be evaluated.\n",
    "* Optional: The **backend** to run on. If one is not specified, the least busy backend is used. To learn about choosing a backend, see [Choose a backend](/docs/quantum-computing?topic=quantum-computing-choose-backend).\n",
    "* Optional: The instruction to **skip_transpilation**.\n",
    "\n",
    "Example:"
   ]
  },
  {
   "cell_type": "code",
   "execution_count": null,
   "id": "c06d690e",
   "metadata": {},
   "outputs": [],
   "source": [
    "from qiskit_ibm_runtime import QiskitRuntimeService, Estimator\n",
    "from qiskit.circuit.library import RealAmplitudes\n",
    "from qiskit.quantum_info import SparsePauliOp\n",
    "\n",
    "service = QiskitRuntimeService(channel=\"ibm_cloud\", token=\"<api-token>\", instance=\"<IBM Cloud CRN>\")\n",
    "\n",
    "psi1 = RealAmplitudes(num_qubits=2, reps=2)\n",
    "psi2 = RealAmplitudes(num_qubits=2, reps=3)\n",
    "\n",
    "H1 = SparsePauliOp.from_list([(\"II\", 1), (\"IZ\", 2), (\"XI\", 3)])\n",
    "H2 = SparsePauliOp.from_list([(\"IZ\", 1)])\n",
    "H3 = SparsePauliOp.from_list([(\"ZI\", 1), (\"ZZ\", 1)])"
   ]
  },
  {
   "cell_type": "markdown",
   "id": "502f2581",
   "metadata": {},
   "source": [
    "## Write to & read from a session\n",
    "\n",
    "Running a job and returning the results are done by writing to and reading from the session. After the results are returned, the session is automatically closed.\n",
    "\n",
    "\n",
    "### Run the job & print results\n",
    "\n",
    "Run the job, specifying your previously defined inputs and options.  Use `circuit_indices`, `observable_indices`, and `parameter_values` to use a specific parameter and observable with the specified circuit.\n",
    "\n",
    "For example, this line `psi1_H23_result = estimator(circuit_indices=[0, 0], observable_indices=[1, 2], parameter_values=[theta1]*2)` specifies the following:\n",
    "\n",
    "- Return the value for using observable `H2` and parameter `theta1` with the circuit `psi1`.\n",
    "- Return the value for using observable `H3` and parameter `theta1` with the circuit `psi1`."
   ]
  },
  {
   "cell_type": "code",
   "execution_count": null,
   "id": "0ead6f51",
   "metadata": {},
   "outputs": [],
   "source": [
    "with Estimator(\n",
    "    circuits=[psi1, psi2],\n",
    "    observables=[H1, H2, H3],\n",
    "    service=service, \n",
    "    options={ \"backend\": \"ibmq_qasm_simulator\" }\n",
    ") as estimator:\n",
    "    theta1 = [0, 1, 1, 2, 3, 5]\n",
    "    theta2 = [0, 1, 1, 2, 3, 5, 8, 13]\n",
    "    theta3 = [1, 2, 3, 4, 5, 6]\n",
    "\n",
    "    # calculate [ <psi1(theta1)|H1|psi1(theta1)> ]\n",
    "    psi1_H1_result = estimator(circuit_indices=[0], observable_indices=[0], parameter_values=[theta1])\n",
    "    print(psi1_H1_result)\n",
    "\n",
    "    # calculate [ <psi1(theta1)|H2|psi1(theta1)>, <psi1(theta1)|H3|psi1(theta1)> ]\n",
    "    psi1_H23_result = estimator(circuit_indices=[0, 0], observable_indices=[1, 2], parameter_values=[theta1]*2)\n",
    "    print(psi1_H23_result)\n",
    "\n",
    "    # calculate [ <psi2(theta2)|H2|psi2(theta2)> ]\n",
    "    # Note that you don't need to specify the labels \"circuit_indices\", \"observable_indices\", or \"parameter_values\", as long as they are specified in that order.\n",
    "    psi2_H2_result = estimator([1], [1], [theta2])\n",
    "    print(psi2_H2_result)\n",
    "\n",
    "    # calculate [ <psi1(theta1)|H1|psi1(theta1)>, <psi1(theta3)|H1|psi1(theta3)> ]\n",
    "    psi1_H1_result2 = estimator([0, 0], [0, 0], [theta1, theta3])\n",
    "    print(psi1_H1_result2)\n",
    "\n",
    "    # calculate [ <psi1(theta1)|H1|psi1(theta1)>,\n",
    "    #             <psi2(theta2)|H2|psi2(theta2)>,\n",
    "    #             <psi1(theta3)|H3|psi1(theta3)> ]\n",
    "    psi12_H23_result = estimator([0, 1, 0], [0, 1, 2], [theta1, theta2, theta3])\n",
    "    print(psi12_H23_result)"
   ]
  },
  {
   "cell_type": "markdown",
   "id": "4baad90e",
   "metadata": {},
   "source": [
    "The results align with the parameter - circuit - observable tuples specified previously.  For example, the first result: `EstimatorResult(values=array([1.55273438]), metadata=[{'variance': 8.897655487060547, 'shots': 1024}])` is the output of the parameter labeled `theta1` and observable `H1` being sent to the first circuit.\n",
    "\n",
    "Output:\n",
    "```text\n",
    "EstimatorResult(values=array([1.55273438]), metadata=[{'variance': 8.897655487060547, 'shots': 1024}])\n",
    "EstimatorResult(values=array([-0.55664062, 0.07421875]), metadata=[{'variance': 0.6901512145996094, 'shots': 1024}, {'variance': 1.9938812255859375, 'shots': 1024}])\n",
    "EstimatorResult(values=array([0.19921875]), metadata=[{'variance': 0.9603118896484375, 'shots': 1024}])\n",
    "EstimatorResult(values=array([1.515625 , 0.97460938]), metadata=[{'variance': 9.603851318359375, 'shots': 1024}, {'variance': 11.997127532958984, 'shots': 1024}])\n",
    "EstimatorResult(values=array([ 1.55078125, 0.13085938, -1.04101562]), metadata=[{'variance': 9.120590209960938, 'shots': 1024}, {'variance': 0.9828758239746094, 'shots': 1024}, {'variance': 1.2807121276855469, 'shots': 1024}])\n",
    "```"
   ]
  }
 ],
 "metadata": {
  "kernelspec": {
   "display_name": "Python 3 (ipykernel)",
   "language": "python",
   "name": "python3"
  },
  "language_info": {
   "codemirror_mode": {
    "name": "ipython",
    "version": 3
   },
   "file_extension": ".py",
   "mimetype": "text/x-python",
   "name": "python",
   "nbconvert_exporter": "python",
   "pygments_lexer": "ipython3",
   "version": "3.9.10"
  }
 },
 "nbformat": 4,
 "nbformat_minor": 5
}
