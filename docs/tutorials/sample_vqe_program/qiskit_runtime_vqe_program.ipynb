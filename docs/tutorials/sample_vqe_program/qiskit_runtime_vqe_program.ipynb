{
 "cells": [
  {
   "cell_type": "markdown",
   "id": "98d4d396",
   "metadata": {},
   "source": [
    "# Creating Custom Programs for Qiskit Runtime\n",
    "\n",
    "<p>\n",
    "<font size=\"4\" color=\"#0f62fe\">Paul Nation</font>\n",
    "</p>\n",
    "<p>\n",
    "<font size=\"3\" color=\"#0f62fe\">IBM Quantum Partners Technical Enablement Team</font>\n",
    "</p>\n",
    "\n",
    "Here we will demonstrate how to create, upload, and use a custom Program for Qiskit Runtime.  As the utility of the Runtime execution engine lies in its ability to execute many quantum circuits with low latencies, this tutorial will show how to create your own Variational Quantum Eigensolver (VQE) program from scratch."
   ]
  },
  {
   "cell_type": "markdown",
   "id": "96b86d47",
   "metadata": {},
   "source": [
    "## Prerequisites\n",
    "\n",
    "- You must have the latest Qiskit installed.\n",
    "- You must have either an IBM Cloud or an IBM Quantum account that can access Qiskit Runtime."
   ]
  },
  {
   "cell_type": "markdown",
   "id": "46817643",
   "metadata": {},
   "source": [
    "## Current limitations\n",
    "\n",
    "The runtime execution engine currently has the following limitations that must be kept in mind:\n",
    "\n",
    "- The Docker images used by the runtime include only Qiskit and its dependencies, with few exceptions.  One exception is the inclusion of the `mthree` measurement mitigation package.\n",
    "\n",
    "\n",
    "- For security reasons, the runtime cannot make internet calls outside of the environment.\n",
    "\n",
    "As Qiskit Runtime matures, these limitations will be removed."
   ]
  },
  {
   "cell_type": "markdown",
   "id": "98e4b3ac",
   "metadata": {},
   "source": [
    "## Simple VQE\n",
    "\n",
    "VQE is an hybrid quantum-classical optimization procedure that finds the lowest eigenstate and eigenenergy of a linear system defined by a given Hamiltonian of Pauli operators.  For example, consider the following two-qubit Hamiltonian:\n",
    "\n",
    "\n",
    "$$\n",
    "H = A X_{1}\\otimes X_{0} + A Y_{1}\\otimes Y_{0} + A Z_{1}\\otimes Z_{0},\n",
    "$$\n",
    "\n",
    "where $A$ is numerical coefficient and the subscripts label the qubits on which the operators act.  The zero index being farthest right is the ordering used in Qiskit.  The Pauli operators tell us which measurement basis to to use when measuring each of the qubits.\n",
    "\n",
    "We want to find the ground state (lowest energy state) of this Hamiltonian, and the associated eigenvector.  To do this we must start at a given initial state and iteratively vary the parameters that define this state using a classical optimizer, such that the computed energies of subsequent steps are nominally lower than those previously.  The parameterized state of the system is defined by an ansatz quantum circuit that should have non-zero support in the direction of the ground state.  Because in general we do not know the solution, the choice of ansatz circuit can be highly problem-specific with a form dictated by additional information. For further information about variational algorithms, we point the reader to [Nature Reviews Physics volume 3, 625 (2021)](https://doi.org/10.1038/s42254-021-00348-9).\n",
    "\n",
    "\n",
    "Thus we need at least the following inputs to create our VQE quantum program:\n",
    "\n",
    "1. A representation of the Hamiltonian that specifies the problem.\n",
    "\n",
    "\n",
    "2. A choice of parameterized ansatz circuit, and the ability to pass configuration options, if any.\n",
    "\n",
    "\n",
    "However, the following are also beneficial inputs that users might want to have:\n",
    "\n",
    "3. Add the ability to pass an initial state.\n",
    "\n",
    "\n",
    "4. Vary the number of shots that are taken.\n",
    "\n",
    "\n",
    "5. Ability to select which classical optimizer is used, and set configuraton values, if any. \n",
    "\n",
    "\n",
    "6. Ability to turn on and off measurement mitigation.\n"
   ]
  },
  {
   "cell_type": "markdown",
   "id": "d15ad0da",
   "metadata": {},
   "source": [
    "## Specifying the form of the input values\n",
    "\n",
    "All inputs to runtime programs must be serializable objects.  That is to say, whatever you pass into a runtime program must be able to be converted to JSON format.  It is thus beneficial to keep inputs limited to basic data types and structures unless you have experience with custom object serialization, or they are common Qiskit types such as ``QuantumCircuit`` etc that the built-in `RuntimeEncoder` can handle.  Fortunately, the VQE program described above can be made out of simple Python components.\n",
    "\n",
    "First, it is possible to represent any Hamiltonian using a list of values with each containing the numerical coefficeint for each term and the string representation for the Pauli operators.  For the above example, the ground state energy with $A=1$ is $-3$ and we can write it as:"
   ]
  },
  {
   "cell_type": "code",
   "execution_count": 1,
   "id": "78b7a519",
   "metadata": {},
   "outputs": [],
   "source": [
    "H = [(1, \"XX\"), (1, \"YY\"), (1, \"ZZ\")]"
   ]
  },
  {
   "cell_type": "markdown",
   "id": "fca6d7c5",
   "metadata": {},
   "source": [
    "Next we have to provide the ability to specify the parameterized Ansatz circuit.  Here we will take advange of the fact that many ansatz circuits are pre-defined in the Qiskit Circuit Library.  Examples can be found in the [N-local circuits section](https://qiskit.org/documentation/apidoc/circuit_library.html#n-local-circuits).\n",
    "\n",
    "We would like the user to be able to select between ansatz options such as: `NLocal`, `TwoLocal`, and `EfficientSU2`.  We could have the user pass the whole ansatz circuit to the program; however, in order to reduce the size of the upload we will pass the ansatz by name.  In the runtime program, we can take this name and get the class that it corresponds to from the library using, for example,  "
   ]
  },
  {
   "cell_type": "code",
   "execution_count": 2,
   "id": "421f2f51",
   "metadata": {},
   "outputs": [],
   "source": [
    "import qiskit.circuit.library.n_local as lib_local\n",
    "\n",
    "ansatz = getattr(lib_local, \"EfficientSU2\")"
   ]
  },
  {
   "cell_type": "markdown",
   "id": "48c7ebae",
   "metadata": {},
   "source": [
    "For the ansatz configuration, we will pass a simple `dict` of values."
   ]
  },
  {
   "cell_type": "markdown",
   "id": "a592ac05",
   "metadata": {},
   "source": [
    "### Optionals \n",
    "\n",
    "- If we want to add the ability to pass an initial state, then we will need to add the ability to pass a 1D list/ NumPy array.  Because the number of parameters depends on the ansatz and its configuration, the user would have to know what ansatz they are doing ahead of time.\n",
    "\n",
    "\n",
    "- Selecting a number of shots requires simply passing an integer value.\n",
    "\n",
    "\n",
    "- Here we will allow selecting a classical optimizer by name from those in SciPy, and a `dict` of configuration parameters.  Note that for execution on an actual system, the noise inherent in today's quantum systems makes having a stochastic optimizer crucial to success.  SciPy does not have such a choice, and the one built into Qiskit is wrapped in such a manner as to make it difficult to use elsewhere.  As such, here we will use an SPSA optimizer written to match the style of those in SciPy.  This function is given in [Appendix A](#Appendix-A)."
   ]
  },
  {
   "cell_type": "markdown",
   "id": "8c5964c1",
   "metadata": {},
   "source": [
    "- Finally, for measurement error mitigation we can simply pass a boolean (True/False) value."
   ]
  },
  {
   "cell_type": "markdown",
   "id": "00df4e79",
   "metadata": {},
   "source": [
    "## Main program\n",
    "\n",
    "We are now in a position to start building our main program.  However, before doing so we point out that it makes the code cleaner to make a separate function that takes strings of Pauli operators that define our Hamiltonian and convert them to a list of circuits with single-qubit gates that change the measurement basis for each qubit, if needed. This function is given in [Appendix B](#Appendix-B)."
   ]
  },
  {
   "cell_type": "markdown",
   "id": "3ddbadd8",
   "metadata": {},
   "source": [
    "### Required signature\n",
    "\n",
    "Every runtime program is defined via the `main` function, and must have the following input signature:\n",
    "\n",
    "```\n",
    "main(backend, user_message, *args, **kwargs)\n",
    "```\n",
    "\n",
    "where `backend` is the backend that the program is to be executed on, and `user_message` is the class by which interim (and possibly final) results are communicated back to the user.  After these two items, we add our program-specific arguments and keyword arguments."
   ]
  },
  {
   "cell_type": "markdown",
   "id": "28ba84cc",
   "metadata": {},
   "source": [
    "### The main VQE program\n",
    "\n",
    "Here is the main program for our sample VQE.  What each element of the function does is written in the comments before the element appears.\n",
    "\n",
    "This program uses the `mthree` measurement mitigation package. You can install the package via `pip install mthree`. "
   ]
  },
  {
   "cell_type": "code",
   "execution_count": 3,
   "id": "96bb7811",
   "metadata": {},
   "outputs": [],
   "source": [
    "# Grab functions and modules from dependencies\n",
    "import numpy as np\n",
    "import scipy.optimize as opt\n",
    "from scipy.optimize import OptimizeResult\n",
    "import mthree\n",
    "\n",
    "# Grab functions and modules from Qiskit needed\n",
    "from qiskit import QuantumCircuit, transpile\n",
    "import qiskit.circuit.library.n_local as lib_local\n",
    "\n",
    "# The entrypoint for our Runtime Program\n",
    "def main(\n",
    "    backend,\n",
    "    user_messenger,\n",
    "    hamiltonian,\n",
    "    ansatz=\"EfficientSU2\",\n",
    "    ansatz_config={},\n",
    "    x0=None,\n",
    "    optimizer=\"SPSA\",\n",
    "    optimizer_config={\"maxiter\": 100},\n",
    "    shots=8192,\n",
    "    use_measurement_mitigation=False,\n",
    "):\n",
    "\n",
    "    \"\"\"\n",
    "    The main sample VQE program.\n",
    "\n",
    "    Parameters:\n",
    "        backend (ProgramBackend): Qiskit backend instance.\n",
    "        user_messenger (UserMessenger): Used to communicate with the\n",
    "                                        program user.\n",
    "        hamiltonian (list): Hamiltonian whose ground state we want to find.\n",
    "        ansatz (str): Optional, name of ansatz quantum circuit to use,\n",
    "                      default='EfficientSU2'\n",
    "        ansatz_config (dict): Optional, configuration parameters for the\n",
    "                              ansatz circuit.\n",
    "        x0 (array_like): Optional, initial vector of parameters.\n",
    "        optimizer (str): Optional, string specifying classical optimizer,\n",
    "                         default='SPSA'.\n",
    "        optimizer_config (dict): Optional, configuration parameters for the\n",
    "                                 optimizer.\n",
    "        shots (int): Optional, number of shots to take per circuit.\n",
    "        use_measurement_mitigation (bool): Optional, use measurement mitigation,\n",
    "                                           default=False.\n",
    "\n",
    "    Returns:\n",
    "        OptimizeResult: The result in SciPy optimization format.\n",
    "    \"\"\"\n",
    "\n",
    "    # Split the Hamiltonian into two arrays, one for coefficients, the other for\n",
    "    # operator strings\n",
    "    coeffs = np.array([item[0] for item in hamiltonian], dtype=complex)\n",
    "    op_strings = [item[1] for item in hamiltonian]\n",
    "    # The number of qubits needed is given by the number of elements in the strings\n",
    "    # the defiune the Hamiltonian. Here we grab this data from the first element.\n",
    "    num_qubits = len(op_strings[0])\n",
    "\n",
    "    # We grab the requested ansatz circuit class from the Qiskit circuit library\n",
    "    # n_local module and configure it using the number of qubits and options\n",
    "    # passed in the ansatz_config.\n",
    "    ansatz_instance = getattr(lib_local, ansatz)\n",
    "    ansatz_circuit = ansatz_instance(num_qubits, **ansatz_config)\n",
    "\n",
    "    # Here we use our convenence function from Appendix B to get measurement circuits\n",
    "    # with the correct single-qubit rotation gates.\n",
    "    meas_circs = opstr_to_meas_circ(op_strings)\n",
    "\n",
    "    # When computing the expectation value for the energy, we need to know if we\n",
    "    # evaluate a Z measurement or and identity measurement.  Here we take and X and Y\n",
    "    # operator in the strings and convert it to a Z since we added the rotations\n",
    "    # with the meas_circs.\n",
    "    meas_strings = [string.replace(\"X\", \"Z\").replace(\"Y\", \"Z\") for string in op_strings]\n",
    "\n",
    "    # Take the ansatz circuits, add the single-qubit measurement basis rotations from\n",
    "    # meas_circs, and finally append the measurements themselves.\n",
    "    full_circs = [\n",
    "        ansatz_circuit.compose(mcirc).measure_all(inplace=False) for mcirc in meas_circs\n",
    "    ]\n",
    "\n",
    "    # Get the number of parameters in the ansatz circuit.\n",
    "    num_params = ansatz_circuit.num_parameters\n",
    "\n",
    "    # Use a given initial state, if any, or do random initial state.\n",
    "    if x0:\n",
    "        x0 = np.asarray(x0, dtype=float)\n",
    "        if x0.shape[0] != num_params:\n",
    "            raise ValueError(\n",
    "                \"Number of params in x0 ({}) does not match number \\\n",
    "                              of ansatz parameters ({})\".format(\n",
    "                    x0.shape[0], num_params\n",
    "                )\n",
    "            )\n",
    "    else:\n",
    "        x0 = 2 * np.pi * np.random.rand(num_params)\n",
    "\n",
    "    # Because we are in general targeting a real quantum system, our circuits must be transpiled\n",
    "    # to match the system topology and, hopefully, optimize them.\n",
    "    # Here we will set the transpiler to the most optimal settings where 'sabre' layout and\n",
    "    # routing are used, along with full O3 optimization.\n",
    "\n",
    "    # This works around a bug in Qiskit where Sabre routing fails for simulators (Issue #7098)\n",
    "    trans_dict = {}\n",
    "    if not backend.configuration().simulator:\n",
    "        trans_dict = {\"layout_method\": \"sabre\", \"routing_method\": \"sabre\"}\n",
    "    trans_circs = transpile(full_circs, backend, optimization_level=3, **trans_dict)\n",
    "\n",
    "    # If using measurement mitigation we need to find out which physical qubits our transpiled\n",
    "    # circuits actually measure, construct a mitigation object targeting our backend, and\n",
    "    # finally calibrate our mitgation by running calibration circuits on the backend.\n",
    "    if use_measurement_mitigation:\n",
    "        maps = mthree.utils.final_measurement_mapping(trans_circs)\n",
    "        mit = mthree.M3Mitigation(backend)\n",
    "        mit.cals_from_system(maps)\n",
    "\n",
    "    # Here we define a callback function that will stream the optimizer parameter vector\n",
    "    # back to the user after each iteration.  This uses the `user_messenger` object.\n",
    "    # Here we convert to a list so that the return is user readable locally, but\n",
    "    # this is not required.\n",
    "    def callback(xk):\n",
    "        user_messenger.publish(list(xk))\n",
    "\n",
    "    # This is the primary VQE function executed by the optimizer. This function takes the\n",
    "    # parameter vector as input and returns the energy evaluated using an ansatz circuit\n",
    "    # bound with those parameters.\n",
    "    def vqe_func(params):\n",
    "        # Attach (bind) parameters in params vector to the transpiled circuits.\n",
    "        bound_circs = [circ.bind_parameters(params) for circ in trans_circs]\n",
    "\n",
    "        # Submit the job and get the resultant counts back\n",
    "        counts = backend.run(bound_circs, shots=shots).result().get_counts()\n",
    "\n",
    "        # If using measurement mitigation apply the correction and\n",
    "        # compute expectation values from the resultant quasiprobabilities\n",
    "        # using the measurement strings.\n",
    "        if use_measurement_mitigation:\n",
    "            quasi_collection = mit.apply_correction(counts, maps)\n",
    "            expvals = quasi_collection.expval(meas_strings)\n",
    "        # If not doing any mitigation just compute expectation values\n",
    "        # from the raw counts using the measurement strings.\n",
    "        # Since Qiskit does not have such functionality we use the convenence\n",
    "        # function from the mthree mitigation module.\n",
    "        else:\n",
    "            expvals = mthree.utils.expval(counts, meas_strings)\n",
    "\n",
    "        # The energy is computed by simply taking the product of the coefficients\n",
    "        # and the computed expectation values and summing them. Here we also\n",
    "        # take just the real part as the coefficients can possibly be complex,\n",
    "        # but the energy (eigenvalue) of a Hamiltonian is always real.\n",
    "        energy = np.sum(coeffs * expvals).real\n",
    "        return energy\n",
    "\n",
    "    # Here is where we actually perform the computation.  We begin by seeing what\n",
    "    # optimization routine the user has requested, eg. SPSA verses SciPy ones,\n",
    "    # and dispatch to the correct optimizer.  The selected optimizer starts at\n",
    "    # x0 and calls 'vqe_func' everytime the optimizer needs to evaluate the cost\n",
    "    # function.  The result is returned as a SciPy OptimizerResult object.\n",
    "    # Additionally, after every iteration, we use the 'callback' function to\n",
    "    # publish the interim results back to the user. This is important to do\n",
    "    # so that if the Program terminates unexpectedly, the user can start where they\n",
    "    # left off.\n",
    "\n",
    "    # Since SPSA is not in SciPy need if statement\n",
    "    if optimizer == \"SPSA\":\n",
    "        res = fmin_spsa(vqe_func, x0, args=(), **optimizer_config, callback=callback)\n",
    "    # All other SciPy optimizers here\n",
    "    else:\n",
    "        res = opt.minimize(\n",
    "            vqe_func, x0, method=optimizer, options=optimizer_config, callback=callback\n",
    "        )\n",
    "    # Return result. OptimizeResult is a subclass of dict.\n",
    "    return res"
   ]
  },
  {
   "cell_type": "markdown",
   "id": "8ab3432a",
   "metadata": {},
   "source": [
    "## Local testing\n",
    "\n",
    "<div class=\"alert alert-block alert-info\">\n",
    "<b>Important:</b> You need to execute the code blocks in Appendices A and B before continuing.\n",
    "</div>\n",
    "\n",
    "We can test whether our routine works by simply calling the `main` function with a backend instance, a `UserMessenger`, and sample arguments."
   ]
  },
  {
   "cell_type": "code",
   "execution_count": 6,
   "id": "c146a02e",
   "metadata": {},
   "outputs": [],
   "source": [
    "from qiskit_ibm_runtime.program import UserMessenger\n",
    "\n",
    "msg = UserMessenger()"
   ]
  },
  {
   "cell_type": "code",
   "execution_count": 7,
   "id": "ea291c28",
   "metadata": {},
   "outputs": [],
   "source": [
    "# Use the local Aer simulator\n",
    "from qiskit import Aer\n",
    "\n",
    "backend = Aer.backend(\"qasm_simulator\")"
   ]
  },
  {
   "cell_type": "code",
   "execution_count": 8,
   "id": "3f071e0f",
   "metadata": {
    "scrolled": false
   },
   "outputs": [
    {
     "name": "stdout",
     "output_type": "stream",
     "text": [
      "[2.5999598313051693, 2.0022895184595497, 4.1443691045470725, 1.8766140406393257, 0.9651373061302296, -0.506671485310807, 0.9101090756597013, -0.2828877478731248, 3.320525264153237, 3.3748302795485885, 3.32638811773525, 4.209570379303731, 2.7300154722181795, 6.467708832870941, 0.18091944802832982, 3.148148576085024]\n",
      "[2.5952007153266448, 2.0070486344380742, 4.149128220525597, 1.8718549246608014, 0.9603781901517052, -0.5019123693322826, 0.9053499596811769, -0.2876468638516492, 3.3157661481747125, 3.370071163570064, 3.3216290017567256, 4.204811263325206, 2.734774588196704, 6.472467948849466, 0.1761603320498054, 3.1433894601064996]\n",
      "[2.3777276911399334, 2.2245216586247856, 3.9316551963388857, 1.65438190047409, 0.7429051659649939, -0.719385393518994, 0.6878769354944656, -0.07017383966493784, 3.533239172361424, 3.1525981393833526, 3.539102025943437, 4.422284287511918, 2.9522476123834154, 6.689940973036177, 0.3936333562365168, 2.9259164359197882]\n",
      "[2.977308422656524, 2.824102390141376, 3.3320744648222953, 2.2539626319906807, 0.14332443444840337, -0.11980466200240347, 0.08829620397787508, -0.6697545711815284, 4.132819903878015, 2.5530174078667622, 2.9395212944268465, 5.021865019028509, 3.551828343900006, 6.090360241519586, -0.20594737528007373, 3.5254971674363786]\n",
      "[3.203990035001531, 2.5974207777963687, 3.5587560771673026, 2.0272810196456734, 0.37000604679341076, -0.34648627434741086, 0.31497781632288246, -0.8964361835265358, 4.359501516223022, 2.326335795521755, 2.7128396820818392, 5.248546631373516, 3.3251467315549985, 6.317041853864594, 0.02073423706493363, 3.2988155550913714]\n"
     ]
    },
    {
     "data": {
      "text/plain": [
       "     fun: -2.513916015625\n",
       " message: 'Optimization terminated successfully.'\n",
       "    nfev: 10\n",
       "     nit: 5\n",
       " success: True\n",
       "       x: array([ 3.20399004,  2.59742078,  3.55875608,  2.02728102,  0.37000605,\n",
       "       -0.34648627,  0.31497782, -0.89643618,  4.35950152,  2.3263358 ,\n",
       "        2.71283968,  5.24854663,  3.32514673,  6.31704185,  0.02073424,\n",
       "        3.29881556])"
      ]
     },
     "execution_count": 8,
     "metadata": {},
     "output_type": "execute_result"
    }
   ],
   "source": [
    "# Execute the main routine for our simple two-qubit Hamiltonian H, and perform 5 iterations of the SPSA solver.\n",
    "main(backend, msg, H, optimizer_config={\"maxiter\": 5})"
   ]
  },
  {
   "cell_type": "markdown",
   "id": "1460bc50",
   "metadata": {},
   "source": [
    "Having executed the above, we see that there are 5 parameter arrays returned, one for each callback, along with the final optimization result.  The parameter arrays are the interim results, and the `UserMessenger` object prints these values to the cell output.  The output itself is the answer we obtained, expressed as a SciPy `OptimizerResult` object."
   ]
  },
  {
   "cell_type": "markdown",
   "id": "d5d0151f",
   "metadata": {},
   "source": [
    "## Program metadata\n",
    "\n",
    "Program metadata is essentially the docstring for a runtime program.  It describes overall program information such as the program `name`, `description`, and the `max_execution_time` the program is allowed to run, as well as details the inputs and the outputs the program expects.  At a bare minimum the values described above are required"
   ]
  },
  {
   "cell_type": "code",
   "execution_count": 9,
   "id": "2b3aa8f2",
   "metadata": {},
   "outputs": [],
   "source": [
    "meta = {\n",
    "    \"name\": \"sample-vqe\",\n",
    "    \"description\": \"A sample VQE program.\",\n",
    "    \"max_execution_time\": 100000,\n",
    "    \"spec\": {},\n",
    "}"
   ]
  },
  {
   "cell_type": "markdown",
   "id": "be4e4dd2",
   "metadata": {},
   "source": [
    "It is important to set the `max_execution_time` high enough so that your program does not get terminated unexpectedly.  Additionally, one should make sure that interim results are sent back to the user so that, if something does happen, the user can start where they left off.\n",
    "\n",
    "It is, however, good form to detail the parameters and return types, as well as interim results.  That being said, if making a runtime intended to be used by others, this information would also likely be mirrored in the signature of a function or class that the user would interact with directly; end users should not directly call runtime programs.  We will see why below.  Nevertheless, let us add to our metadata.  First, the `parameters` section details the inputs the user is able to pass:"
   ]
  },
  {
   "cell_type": "code",
   "execution_count": 10,
   "id": "d10c1b1a",
   "metadata": {},
   "outputs": [],
   "source": [
    "meta[\"spec\"][\"parameters\"] = {\n",
    "    \"$schema\": \"https://json-schema.org/draft/2019-09/schema\",\n",
    "    \"properties\": {\n",
    "        \"hamiltonian\": {\n",
    "            \"description\": \"Hamiltonian whose ground state we want to find.\",\n",
    "            \"type\": \"array\",\n",
    "        },\n",
    "        \"ansatz\": {\n",
    "            \"description\": \"Name of ansatz quantum circuit to use, default='EfficientSU2'\",\n",
    "            \"type\": \"string\",\n",
    "            \"default\": \"EfficientSU2\",\n",
    "        },\n",
    "        \"ansatz_config\": {\n",
    "            \"description\": \"Configuration parameters for the ansatz circuit.\",\n",
    "            \"type\": \"object\",\n",
    "        },\n",
    "        \"optimizer\": {\n",
    "            \"description\": \"Classical optimizer to use, default='SPSA'.\",\n",
    "            \"type\": \"string\",\n",
    "            \"default\": \"SPSA\",\n",
    "        },\n",
    "        \"x0\": {\n",
    "            \"description\": \"Initial vector of parameters. This is a numpy array.\",\n",
    "            \"type\": \"array\",\n",
    "        },\n",
    "        \"optimizer_config\": {\n",
    "            \"description\": \"Configuration parameters for the optimizer.\",\n",
    "            \"type\": \"object\",\n",
    "        },\n",
    "        \"shots\": {\n",
    "            \"description\": \"The number of shots used for each circuit evaluation.\",\n",
    "            \"type\": \"integer\",\n",
    "        },\n",
    "        \"use_measurement_mitigation\": {\n",
    "            \"description\": \"Use measurement mitigation, default=False.\",\n",
    "            \"type\": \"boolean\",\n",
    "            \"default\": False,\n",
    "        },\n",
    "    },\n",
    "    \"required\": [\"hamiltonian\"],\n",
    "}"
   ]
  },
  {
   "cell_type": "markdown",
   "id": "0ee9bb79",
   "metadata": {},
   "source": [
    "Next, the `return_values` section tells about the return types:"
   ]
  },
  {
   "cell_type": "code",
   "execution_count": 11,
   "id": "404e6d1b",
   "metadata": {},
   "outputs": [],
   "source": [
    "meta[\"spec\"][\"return_values\"] = {\n",
    "    \"$schema\": \"https://json-schema.org/draft/2019-09/schema\",\n",
    "    \"description\": \"Final result in SciPy optimizer format\",\n",
    "    \"type\": \"object\",\n",
    "}"
   ]
  },
  {
   "cell_type": "markdown",
   "id": "affde208",
   "metadata": {},
   "source": [
    "and finally let us specify what comes back when an interim result is returned:"
   ]
  },
  {
   "cell_type": "code",
   "execution_count": 12,
   "id": "99a56745",
   "metadata": {},
   "outputs": [],
   "source": [
    "meta[\"spec\"][\"interim_results\"] = {\n",
    "    \"$schema\": \"https://json-schema.org/draft/2019-09/schema\",\n",
    "    \"description\": \"Parameter vector at current optimization step. This is a numpy array.\",\n",
    "    \"type\": \"array\",\n",
    "}"
   ]
  },
  {
   "cell_type": "markdown",
   "id": "c55bbf04",
   "metadata": {},
   "source": [
    "## Uploading the program\n",
    "\n",
    "We now have all the ingredients needed to upload our program.  To do so we need to collect all of our code in one file, here called `sample_vqe.py` for uploading.  This limitation will be removed in later versions of Qiskit Runtime.  Alternatively, if the entire code is contained within a single Jupyter notebook cell, this can be done using the magic function\n",
    "\n",
    "```\n",
    "%%writefile my_program.py\n",
    "```\n",
    "\n",
    "To actually upload the program we need to initialize a Qiskit Runtime service:"
   ]
  },
  {
   "cell_type": "code",
   "execution_count": 13,
   "id": "9166cb5a",
   "metadata": {},
   "outputs": [],
   "source": [
    "from qiskit_ibm_runtime import QiskitRuntimeService\n",
    "\n",
    "service = QiskitRuntimeService()"
   ]
  },
  {
   "cell_type": "markdown",
   "id": "cf539336",
   "metadata": {},
   "source": [
    "### Program upload\n",
    "\n",
    "The call to `program_upload` takes the target Python file as `data` and the metadata as inputs."
   ]
  },
  {
   "cell_type": "code",
   "execution_count": 14,
   "id": "46ce62a5",
   "metadata": {},
   "outputs": [
    {
     "data": {
      "text/plain": [
       "'sample-vqe-E3DO04qqoQ'"
      ]
     },
     "execution_count": 14,
     "metadata": {},
     "output_type": "execute_result"
    }
   ],
   "source": [
    "program_id = service.upload_program(data=\"sample_vqe.py\", metadata=meta)\n",
    "program_id"
   ]
  },
  {
   "cell_type": "markdown",
   "id": "0d73dc6e",
   "metadata": {},
   "source": [
    "Here the `upload_program()` method returns a `program_id`, which is how you should reference your program."
   ]
  },
  {
   "cell_type": "markdown",
   "id": "375651ac",
   "metadata": {},
   "source": [
    "### Program information\n",
    "\n",
    "We can query the program for information and see that our metadata is correctly being attached:"
   ]
  },
  {
   "cell_type": "code",
   "execution_count": 15,
   "id": "0e08a4d0",
   "metadata": {},
   "outputs": [
    {
     "name": "stdout",
     "output_type": "stream",
     "text": [
      "sample-vqe-E3DO04qqoQ:\n",
      "  Name: sample-vqe\n",
      "  Description: A sample VQE program.\n",
      "  Creation date: 2022-01-12T16:04:15.806869Z\n",
      "  Update date: 2022-01-12T16:04:15.806869Z\n",
      "  Max execution time: 100000\n",
      "  Input parameters:\n",
      "    Properties:\n",
      "        - ansatz:\n",
      "            Default: EfficientSU2\n",
      "            Description: Name of ansatz quantum circuit to use, default='EfficientSU2'\n",
      "            Type: string\n",
      "            Required: False\n",
      "        - ansatz_config:\n",
      "            Description: Configuration parameters for the ansatz circuit.\n",
      "            Type: object\n",
      "            Required: False\n",
      "        - hamiltonian:\n",
      "            Description: Hamiltonian whose ground state we want to find.\n",
      "            Type: array\n",
      "            Required: True\n",
      "        - optimizer:\n",
      "            Default: SPSA\n",
      "            Description: Classical optimizer to use, default='SPSA'.\n",
      "            Type: string\n",
      "            Required: False\n",
      "        - optimizer_config:\n",
      "            Description: Configuration parameters for the optimizer.\n",
      "            Type: object\n",
      "            Required: False\n",
      "        - shots:\n",
      "            Description: The number of shots used for each circuit evaluation.\n",
      "            Type: integer\n",
      "            Required: False\n",
      "        - use_measurement_mitigation:\n",
      "            Default: False\n",
      "            Description: Use measurement mitigation, default=False.\n",
      "            Type: boolean\n",
      "            Required: False\n",
      "        - x0:\n",
      "            Description: Initial vector of parameters. This is a numpy array.\n",
      "            Type: array\n",
      "            Required: False\n",
      "  Interim results:\n",
      "    Description: Parameter vector at current optimization step. This is a numpy array.\n",
      "    Type: array\n",
      "  Returns:\n",
      "    Description: Final result in SciPy optimizer format\n",
      "    Type: object\n"
     ]
    }
   ],
   "source": [
    "prog = service.program(program_id)\n",
    "print(prog)"
   ]
  },
  {
   "cell_type": "markdown",
   "id": "70a9e564",
   "metadata": {},
   "source": [
    "### Deleting a program\n",
    "\n",
    "If you make a mistake and need to delete and/or re-upload the program, you can run the following, passing the `program_id`:"
   ]
  },
  {
   "cell_type": "code",
   "execution_count": 16,
   "id": "ec56e36b",
   "metadata": {},
   "outputs": [],
   "source": [
    "# service.delete_program(program_id)"
   ]
  },
  {
   "cell_type": "markdown",
   "id": "4025eb01",
   "metadata": {},
   "source": [
    "## Running the program\n",
    "\n",
    "### Specify parameters\n",
    "\n",
    "To run the program we need to specify the `options` that are used in the runtime environment (not the program variables).  The target backend is defined via the `backend_name` field."
   ]
  },
  {
   "cell_type": "code",
   "execution_count": 17,
   "id": "2efca1b3",
   "metadata": {},
   "outputs": [],
   "source": [
    "options = {\"backend_name\": \"ibmq_qasm_simulator\"}"
   ]
  },
  {
   "cell_type": "markdown",
   "id": "c8b0b300",
   "metadata": {},
   "source": [
    "The `inputs` dictionary is used to pass arguments to the `main` function itself.  For example:"
   ]
  },
  {
   "cell_type": "code",
   "execution_count": 18,
   "id": "381794fa",
   "metadata": {},
   "outputs": [],
   "source": [
    "inputs = {}\n",
    "inputs[\"hamiltonian\"] = H\n",
    "inputs[\"optimizer_config\"] = {\"maxiter\": 10}"
   ]
  },
  {
   "cell_type": "markdown",
   "id": "8443e1ae",
   "metadata": {},
   "source": [
    "### Execute the program\n",
    "\n",
    "We now can execute the program and grab the result."
   ]
  },
  {
   "cell_type": "code",
   "execution_count": 19,
   "id": "3b419193",
   "metadata": {},
   "outputs": [],
   "source": [
    "job = service.run(program_id, options=options, inputs=inputs)"
   ]
  },
  {
   "cell_type": "code",
   "execution_count": 20,
   "id": "0addcac0",
   "metadata": {},
   "outputs": [
    {
     "data": {
      "text/plain": [
       "{'fun': -2.949462890625,\n",
       " 'x': array([2.5318168 , 0.49480149, 5.00109975, 3.70277244, 4.20642682,\n",
       "        7.36485888, 5.06392524, 3.84919527, 3.84548761, 7.1476062 ,\n",
       "        4.87591204, 3.81509087, 1.10323387, 6.93862146, 2.90764433,\n",
       "        2.17991845]),\n",
       " 'nit': 10,\n",
       " 'nfev': 20,\n",
       " 'message': 'Optimization terminated successfully.',\n",
       " 'success': True}"
      ]
     },
     "execution_count": 20,
     "metadata": {},
     "output_type": "execute_result"
    }
   ],
   "source": [
    "job.result()"
   ]
  },
  {
   "cell_type": "markdown",
   "id": "9e6e0ec0",
   "metadata": {},
   "source": [
    "A few things need to be pointed out. First, we did not get back any interim results, and second, the return object is a plain dictionary.  This is because we did not listen for the return results, and we did not tell the job how to format the return result."
   ]
  },
  {
   "cell_type": "markdown",
   "id": "917857da",
   "metadata": {},
   "source": [
    "### Listening for interim results and final result\n",
    "\n",
    "To listen for interim results and final result we need to pass a callback function to `service.run` that stores the results.  The callback takes two arguments `job_id` and the returned data:"
   ]
  },
  {
   "cell_type": "code",
   "execution_count": 21,
   "id": "358bdc84",
   "metadata": {},
   "outputs": [],
   "source": [
    "interim_results = []\n",
    "\n",
    "\n",
    "def vqe_callback(job_id, data):\n",
    "    interim_results.append(data)"
   ]
  },
  {
   "cell_type": "markdown",
   "id": "9ed2dabd",
   "metadata": {},
   "source": [
    "Executing again we get:"
   ]
  },
  {
   "cell_type": "code",
   "execution_count": 22,
   "id": "34b61c28",
   "metadata": {},
   "outputs": [],
   "source": [
    "job2 = service.run(program_id, options=options, inputs=inputs, callback=vqe_callback)"
   ]
  },
  {
   "cell_type": "code",
   "execution_count": 23,
   "id": "8d331f69",
   "metadata": {},
   "outputs": [
    {
     "data": {
      "text/plain": [
       "{'fun': -1.093017578125,\n",
       " 'x': array([ 3.02333056,  4.50664166,  5.81302828,  7.29337359, -0.1059841 ,\n",
       "         5.63644887,  4.85551666,  1.08600079,  2.43038435, -0.44482119,\n",
       "         3.57615685,  4.55828624,  3.88114462,  2.39233825,  2.44894464,\n",
       "        -0.54914487]),\n",
       " 'nit': 10,\n",
       " 'nfev': 20,\n",
       " 'message': 'Optimization terminated successfully.',\n",
       " 'success': True}"
      ]
     },
     "execution_count": 23,
     "metadata": {},
     "output_type": "execute_result"
    }
   ],
   "source": [
    "job2.result()"
   ]
  },
  {
   "cell_type": "code",
   "execution_count": 25,
   "id": "e83bf7ba",
   "metadata": {},
   "outputs": [
    {
     "name": "stdout",
     "output_type": "stream",
     "text": [
      "[[2.6226514863095396, 5.853032658380542, 6.509858654413924, 6.507245447857467, 0.5942894562887755, 3.79956161425515, 3.6960116623043113, 1.96793326187455, 2.8807692270500427, -0.2725407393367527, 3.1327517130311757, 2.997229503101964, 4.55015337012571, 2.4196404687436326, 1.5251463004377124, -0.2649036387111905], [3.078139836547118, 5.3975443081429635, 6.054370304176346, 6.962733798095045, 0.13880110605119705, 4.255049964492729, 4.15150001254189, 1.5124449116369716, 2.4252808768124643, -0.7280290895743311, 2.6772633627935973, 3.4527178533395424, 4.094665019888132, 1.9641521185060542, 1.9806346506752908, 0.19058471152638795], [3.04818345917541, 5.427500685514672, 6.084326681548054, 6.992690175466754, 0.16875748342290509, 4.2250935871210205, 4.121543635170181, 1.4824885342652636, 2.4552372541841723, -0.7579854669460392, 2.6473069854218894, 3.4227614759678344, 4.1246213972598404, 1.9341957411343462, 2.0105910280469987, 0.22054108889809598], [3.003445259194044, 5.472238885496037, 6.039588481566689, 7.037428375448119, 0.21349568340427083, 4.269831787102386, 4.166281835151547, 1.437750334283898, 2.4104990542028064, -0.8027236669274049, 2.692045185403255, 3.4674996759492003, 4.169359597241206, 1.9789339411157119, 1.965852828065633, 0.2652792888794617], [2.633926747429298, 5.102720373731291, 6.409106993331435, 7.406946887212865, 0.5830141951690169, 4.639350298867132, 4.535800346916293, 1.807268846048644, 2.0409805424380605, -0.43320515516265895, 3.061563697168001, 3.837018187713946, 3.79984108547646, 2.348452452880458, 2.3353713398303793, -0.10423922288528426], [2.8344366723450003, 5.303230298646993, 6.609616918247138, 7.607456812128568, 0.3825042702533148, 4.839860223782834, 4.736310271831995, 2.0077787709643458, 2.2414904673537626, -0.6337150800783611, 3.262073622083703, 3.636508262798244, 4.000351010392162, 2.147942527964756, 2.134861414914677, -0.30474914780098633], [2.530589294860351, 4.9993829211623435, 6.305769540762489, 7.911304189613217, 0.07865689276866544, 5.143707601267483, 5.040157649316644, 1.7039313934796965, 1.9376430898691133, -0.9375624575630104, 2.9582262445990537, 3.9403556402828936, 3.6965036329075125, 2.4517899054494054, 1.8310140374300279, -0.6085965252856357], [2.869280422196153, 4.660691793826541, 5.9670784134266865, 7.572613062277415, -0.2600342345671368, 5.482398728603285, 4.701466521980842, 1.3652402661438943, 2.2763342172049157, -0.5988713302272082, 3.296917371934856, 4.279046767618696, 4.035194760243315, 2.1130987781136032, 2.1697051647658303, -0.2699053979498334], [2.8066857530033054, 4.723286463019389, 6.029673082619534, 7.510018393084567, -0.32262890375998443, 5.4198040594104375, 4.638871852787994, 1.3026455969510466, 2.213739548012068, -0.6614659994200558, 3.3595120411277035, 4.3416414368115435, 4.097789429436163, 2.175693447306451, 2.232299833958678, -0.33250006714268104], [3.023330559942476, 4.506641656080218, 5.813028275680363, 7.293373586145396, -0.10598409682081364, 5.636448866349609, 4.855516659727165, 1.0860007900118758, 2.4303843549512387, -0.44482119248088503, 3.576156848066874, 4.558286243750715, 3.881144622496992, 2.3923382542456215, 2.4489446408978486, -0.5491448740818519]]\n"
     ]
    }
   ],
   "source": [
    "print(interim_results)"
   ]
  },
  {
   "cell_type": "markdown",
   "id": "43f69e8a",
   "metadata": {},
   "source": [
    "### Formatting the returned results\n",
    "\n",
    "In order to format the return results into the desired format, we need to specify a decoder.  This decoder must have a `decode` method that gets called to do the actual conversion.  In our case `OptimizeResult` is a simple sub-class of `dict` so the formatting is simple."
   ]
  },
  {
   "cell_type": "code",
   "execution_count": 26,
   "id": "ccdc7af3",
   "metadata": {},
   "outputs": [],
   "source": [
    "from qiskit_ibm_runtime.program import ResultDecoder\n",
    "from scipy.optimize import OptimizeResult\n",
    "\n",
    "\n",
    "class VQEResultDecoder(ResultDecoder):\n",
    "    @classmethod\n",
    "    def decode(cls, data):\n",
    "        data = super().decode(data)  # This is required to preformat the data returned.\n",
    "        return OptimizeResult(data)"
   ]
  },
  {
   "cell_type": "markdown",
   "id": "5e0f0aae",
   "metadata": {},
   "source": [
    "We can then use this when returning the job result:"
   ]
  },
  {
   "cell_type": "code",
   "execution_count": 27,
   "id": "951eed95",
   "metadata": {},
   "outputs": [
    {
     "data": {
      "text/plain": [
       "     fun: 0.796630859375\n",
       " message: 'Optimization terminated successfully.'\n",
       "    nfev: 20\n",
       "     nit: 10\n",
       " success: True\n",
       "       x: array([ 5.15928009,  2.08106352,  3.54177277,  4.6777056 , -0.02584765,\n",
       "        5.68333129,  3.63600881,  3.11541328,  0.49660675,  4.0718595 ,\n",
       "        1.79637632,  0.64611396,  3.64174244,  5.66668821,  0.98273154,\n",
       "        1.33338277])"
      ]
     },
     "execution_count": 27,
     "metadata": {},
     "output_type": "execute_result"
    }
   ],
   "source": [
    "job3 = service.run(program_id, options=options, inputs=inputs)\n",
    "job3.result(decoder=VQEResultDecoder)"
   ]
  },
  {
   "cell_type": "markdown",
   "id": "5ca7d039",
   "metadata": {},
   "source": [
    "## Simplifying program execution with wrapping functions\n",
    "\n",
    "While runtime programs are powerful and flexible, they are not the most friendly things to interact with.  Therefore, if your program is intended to be used by others, it is best to make wrapper functions and/or classes that simplify the user experience.  Moreover, such wrappers allow for validation of user inputs on the client side, which can quickly find errors that would otherwise be raised later during the execution process - something that might have taken hours waiting in queue to get to.\n",
    "\n",
    "Here we will make two helper routines.  First, a job wrapper that allows us to attach and retrieve the interim results directly from the job object itself, as well as decodes for us so that the end user need not worry about formatting the results themselves."
   ]
  },
  {
   "cell_type": "code",
   "execution_count": 28,
   "id": "c3460583",
   "metadata": {},
   "outputs": [],
   "source": [
    "class RuntimeJobWrapper:\n",
    "    \"\"\"A simple Job wrapper that attaches interim results directly to the job object itself\n",
    "    in the `interim_results attribute` via the `_callback` function.\n",
    "    \"\"\"\n",
    "\n",
    "    def __init__(self):\n",
    "        self._job = None\n",
    "        self._decoder = VQEResultDecoder\n",
    "        self.interim_results = []\n",
    "\n",
    "    def _callback(self, job_id, xk):\n",
    "        \"\"\"The callback function that attaches interim results:\n",
    "\n",
    "        Parameters:\n",
    "            job_id (str): The job ID.\n",
    "            xk (array_like): A list or NumPy array to attach.\n",
    "        \"\"\"\n",
    "        self.interim_results.append(xk)\n",
    "\n",
    "    def __getattr__(self, attr):\n",
    "        if attr == \"result\":\n",
    "            return self.result\n",
    "        else:\n",
    "            if attr in dir(self._job):\n",
    "                return getattr(self._job, attr)\n",
    "            raise AttributeError(\"Class does not have {}.\".format(attr))\n",
    "\n",
    "    def result(self):\n",
    "        \"\"\"Get the result of the job as a SciPy OptimizerResult object.\n",
    "\n",
    "        This blocks until job is done, cancelled, or errors.\n",
    "\n",
    "        Returns:\n",
    "            OptimizerResult: A SciPy optimizer result object.\n",
    "        \"\"\"\n",
    "        return self._job.result(decoder=self._decoder)"
   ]
  },
  {
   "cell_type": "markdown",
   "id": "0f336b6d",
   "metadata": {},
   "source": [
    "Next, we create the actual function we want users to call to execute our program.  To this function we will add a series of simple validation checks (not all checks will be done for simplicity), as well as use the job wrapper defined above to simply the output."
   ]
  },
  {
   "cell_type": "code",
   "execution_count": 29,
   "id": "aa386027",
   "metadata": {},
   "outputs": [],
   "source": [
    "import qiskit.circuit.library.n_local as lib_local\n",
    "\n",
    "\n",
    "def vqe_runner(\n",
    "    backend,\n",
    "    hamiltonian,\n",
    "    ansatz=\"EfficientSU2\",\n",
    "    ansatz_config={},\n",
    "    x0=None,\n",
    "    optimizer=\"SPSA\",\n",
    "    optimizer_config={\"maxiter\": 100},\n",
    "    shots=8192,\n",
    "    use_measurement_mitigation=False,\n",
    "):\n",
    "\n",
    "    \"\"\"Routine that executes a given VQE problem via the sample-vqe program on the target backend.\n",
    "\n",
    "    Parameters:\n",
    "        backend (ProgramBackend): Qiskit backend instance.\n",
    "        hamiltonian (list): Hamiltonian whose ground state we want to find.\n",
    "        ansatz (str): Optional, name of ansatz quantum circuit to use, default='EfficientSU2'\n",
    "        ansatz_config (dict): Optional, configuration parameters for the ansatz circuit.\n",
    "        x0 (array_like): Optional, initial vector of parameters.\n",
    "        optimizer (str): Optional, string specifying classical optimizer, default='SPSA'.\n",
    "        optimizer_config (dict): Optional, configuration parameters for the optimizer.\n",
    "        shots (int): Optional, number of shots to take per circuit.\n",
    "        use_measurement_mitigation (bool): Optional, use measurement mitigation, default=False.\n",
    "\n",
    "    Returns:\n",
    "        OptimizeResult: The result in SciPy optimization format.\n",
    "    \"\"\"\n",
    "    options = {\"backend_name\": backend.name}\n",
    "\n",
    "    inputs = {}\n",
    "\n",
    "    # Validate Hamiltonian is correct\n",
    "    num_qubits = len(H[0][1])\n",
    "    for idx, ham in enumerate(hamiltonian):\n",
    "        if len(ham[1]) != num_qubits:\n",
    "            raise ValueError(\n",
    "                \"Number of qubits in Hamiltonian term {} does not match {}\".format(\n",
    "                    idx, num_qubits\n",
    "                )\n",
    "            )\n",
    "    inputs[\"hamiltonian\"] = hamiltonian\n",
    "\n",
    "    # Validate ansatz is in the module\n",
    "    ansatz_circ = getattr(lib_local, ansatz, None)\n",
    "    if not ansatz_circ:\n",
    "        raise ValueError(\"Ansatz {} not in n_local circuit library.\".format(ansatz))\n",
    "\n",
    "    inputs[\"ansatz\"] = ansatz\n",
    "    inputs[\"ansatz_config\"] = ansatz_config\n",
    "\n",
    "    # If given x0, validate its length against num_params in ansatz:\n",
    "    if x0:\n",
    "        x0 = np.asarray(x0)\n",
    "        ansatz_circ = ansatz_circ(num_qubits, **ansatz_config)\n",
    "        num_params = ansatz_circ.num_parameters\n",
    "        if x0.shape[0] != num_params:\n",
    "            raise ValueError(\n",
    "                \"Length of x0 {} does not match number of params in ansatz {}\".format(\n",
    "                    x0.shape[0], num_params\n",
    "                )\n",
    "            )\n",
    "    inputs[\"x0\"] = x0\n",
    "\n",
    "    # Set the rest of the inputs\n",
    "    inputs[\"optimizer\"] = optimizer\n",
    "    inputs[\"optimizer_config\"] = optimizer_config\n",
    "    inputs[\"shots\"] = shots\n",
    "    inputs[\"use_measurement_mitigation\"] = use_measurement_mitigation\n",
    "\n",
    "    rt_job = RuntimeJobWrapper()\n",
    "    job = service.run(\n",
    "        program_id, options=options, inputs=inputs, callback=rt_job._callback\n",
    "    )\n",
    "    rt_job._job = job\n",
    "\n",
    "    return rt_job"
   ]
  },
  {
   "cell_type": "markdown",
   "id": "d4c8982f",
   "metadata": {},
   "source": [
    "We can now execute our runtime program via this runner function:"
   ]
  },
  {
   "cell_type": "code",
   "execution_count": 30,
   "id": "8e81851d",
   "metadata": {},
   "outputs": [],
   "source": [
    "backend = service.backend(\"ibmq_qasm_simulator\")\n",
    "job4 = vqe_runner(backend, H, optimizer_config={\"maxiter\": 15})"
   ]
  },
  {
   "cell_type": "code",
   "execution_count": 31,
   "id": "9bf5499c",
   "metadata": {},
   "outputs": [
    {
     "data": {
      "text/plain": [
       "     fun: -0.34814453125\n",
       " message: 'Optimization terminated successfully.'\n",
       "    nfev: 30\n",
       "     nit: 15\n",
       " success: True\n",
       "       x: array([4.17997325, 2.0676416 , 0.26748687, 1.66069543, 1.7689056 ,\n",
       "       4.61847717, 0.34955838, 1.5071607 , 0.29674753, 3.37945792,\n",
       "       1.25076358, 2.91525347, 4.75856526, 7.1439898 , 2.5695465 ,\n",
       "       2.67008381])"
      ]
     },
     "execution_count": 31,
     "metadata": {},
     "output_type": "execute_result"
    }
   ],
   "source": [
    "job4.result()"
   ]
  },
  {
   "cell_type": "markdown",
   "id": "ef281bc5",
   "metadata": {},
   "source": [
    "The interim results are now attached to the job `interim_results` attribute and, as expected, we see that the length matches the number of iterations performed."
   ]
  },
  {
   "cell_type": "code",
   "execution_count": 32,
   "id": "958dbc84",
   "metadata": {},
   "outputs": [
    {
     "data": {
      "text/plain": [
       "15"
      ]
     },
     "execution_count": 32,
     "metadata": {},
     "output_type": "execute_result"
    }
   ],
   "source": [
    "len(job4.interim_results)"
   ]
  },
  {
   "cell_type": "markdown",
   "id": "dd78b903",
   "metadata": {},
   "source": [
    "## Conclusion\n",
    "\n",
    "We have demonstrated how to create, upload, and use a custom Qiskit Runtime by creating our own VQE solver from scratch.  This tutorial was meant to touch upon every aspect of the process for a real-world example.  Within the current limitations of the runtime environment, this example should enable readers to develop their own single-file runtime program.  This program is also a good starting point for exploring additional flavors of VQE runtime.  For example, it is straightforward to vary the number of shots per iteration, increasing shots as the number of iterations increases.  Those looking to go deeper can consider implimenting an [adaptive VQE](https://doi.org/10.1038/s41467-019-10988-2), where the ansatz is not fixed at initialization."
   ]
  },
  {
   "cell_type": "markdown",
   "id": "0a7a50d4",
   "metadata": {},
   "source": [
    "## Appendix A\n",
    "\n",
    "Here we code a simple simultaneous perturbation stochastic approximation (SPSA) optimizer for use on noisy quantum systems.  Most optimizers do not handle fluctuating cost functions well, so this is a needed addition for executing on real quantum hardware."
   ]
  },
  {
   "cell_type": "code",
   "execution_count": 4,
   "id": "9d8788af",
   "metadata": {},
   "outputs": [],
   "source": [
    "import numpy as np\n",
    "from scipy.optimize import OptimizeResult\n",
    "\n",
    "\n",
    "def fmin_spsa(\n",
    "    func,\n",
    "    x0,\n",
    "    args=(),\n",
    "    maxiter=100,\n",
    "    a=1.0,\n",
    "    alpha=0.602,\n",
    "    c=1.0,\n",
    "    gamma=0.101,\n",
    "    callback=None,\n",
    "):\n",
    "    \"\"\"\n",
    "    Minimization of scalar function of one or more variables using simultaneous\n",
    "    perturbation stochastic approximation (SPSA).\n",
    "\n",
    "    Parameters:\n",
    "        func (callable): The objective function to be minimized.\n",
    "\n",
    "                          ``fun(x, *args) -> float``\n",
    "\n",
    "                          where x is an 1-D array with shape (n,) and args is a\n",
    "                          tuple of the fixed parameters needed to completely\n",
    "                          specify the function.\n",
    "\n",
    "        x0 (ndarray): Initial guess. Array of real elements of size (n,),\n",
    "                      where ‘n’ is the number of independent variables.\n",
    "\n",
    "        maxiter (int): Maximum number of iterations.  The number of function\n",
    "                       evaluations is twice as many. Optional.\n",
    "\n",
    "        a (float): SPSA gradient scaling parameter. Optional.\n",
    "\n",
    "        alpha (float): SPSA gradient scaling exponent. Optional.\n",
    "\n",
    "        c (float):  SPSA step size scaling parameter. Optional.\n",
    "\n",
    "        gamma (float): SPSA step size scaling exponent. Optional.\n",
    "\n",
    "        callback (callable): Function that accepts the current parameter vector\n",
    "                             as input.\n",
    "\n",
    "    Returns:\n",
    "        OptimizeResult: Solution in SciPy Optimization format.\n",
    "\n",
    "    Notes:\n",
    "        See the `SPSA homepage <https://www.jhuapl.edu/SPSA/>`_ for usage and\n",
    "        additional extentions to the basic version implimented here.\n",
    "    \"\"\"\n",
    "    A = 0.01 * maxiter\n",
    "    x0 = np.asarray(x0)\n",
    "    x = x0\n",
    "\n",
    "    for kk in range(maxiter):\n",
    "        ak = a * (kk + 1.0 + A) ** -alpha\n",
    "        ck = c * (kk + 1.0) ** -gamma\n",
    "        # Bernoulli distribution for randoms\n",
    "        deltak = 2 * np.random.randint(2, size=x.shape[0]) - 1\n",
    "        grad = (func(x + ck * deltak, *args) - func(x - ck * deltak, *args)) / (\n",
    "            2 * ck * deltak\n",
    "        )\n",
    "        x -= ak * grad\n",
    "\n",
    "        if callback is not None:\n",
    "            callback(x)\n",
    "\n",
    "    return OptimizeResult(\n",
    "        fun=func(x, *args),\n",
    "        x=x,\n",
    "        nit=maxiter,\n",
    "        nfev=2 * maxiter,\n",
    "        message=\"Optimization terminated successfully.\",\n",
    "        success=True,\n",
    "    )"
   ]
  },
  {
   "cell_type": "markdown",
   "id": "40b4d8c2",
   "metadata": {},
   "source": [
    "## Appendix B\n",
    "\n",
    "This is a helper function that converts the Pauli operators in the strings that define the Hamiltonian operators into the appropriate measurements at the end of the circuits.  For $X$ operators this involves adding an $H$ gate to the qubits to be measured, whereas a $Y$ operator needs $S^{+}$ followed by a $H$.  Other choices of Pauli operators require no additional gates prior to measurement."
   ]
  },
  {
   "cell_type": "code",
   "execution_count": 5,
   "id": "15654ed8",
   "metadata": {},
   "outputs": [],
   "source": [
    "def opstr_to_meas_circ(op_str):\n",
    "    \"\"\"Takes a list of operator strings and makes circuit with the correct post-rotations for measurements.\n",
    "\n",
    "    Parameters:\n",
    "        op_str (list): List of strings representing the operators needed for measurements.\n",
    "\n",
    "    Returns:\n",
    "        list: List of circuits for measurement post-rotations\n",
    "    \"\"\"\n",
    "    num_qubits = len(op_str[0])\n",
    "    circs = []\n",
    "    for op in op_str:\n",
    "        qc = QuantumCircuit(num_qubits)\n",
    "        for idx, item in enumerate(op):\n",
    "            if item == \"X\":\n",
    "                qc.h(num_qubits - idx - 1)\n",
    "            elif item == \"Y\":\n",
    "                qc.sdg(num_qubits - idx - 1)\n",
    "                qc.h(num_qubits - idx - 1)\n",
    "        circs.append(qc)\n",
    "    return circs"
   ]
  },
  {
   "cell_type": "code",
   "execution_count": 6,
   "id": "715a3fec",
   "metadata": {},
   "outputs": [
    {
     "data": {
      "text/html": [
       "<div style='width: 100%; background-color:#d5d9e0;padding-left: 10px; padding-bottom: 10px; padding-right: 10px; padding-top: 5px'><h3>This code is a part of Qiskit</h3><p>&copy; Copyright IBM 2017, 2021.</p><p>This code is licensed under the Apache License, Version 2.0. You may<br>obtain a copy of this license in the LICENSE.txt file in the root directory<br> of this source tree or at http://www.apache.org/licenses/LICENSE-2.0.<p>Any modifications or derivative works of this code must retain this<br>copyright notice, and modified files need to carry a notice indicating<br>that they have been altered from the originals.</p></div>"
      ],
      "text/plain": [
       "<IPython.core.display.HTML object>"
      ]
     },
     "metadata": {},
     "output_type": "display_data"
    }
   ],
   "source": [
    "from qiskit.tools.jupyter import *\n",
    "\n",
    "%qiskit_copyright"
   ]
  }
 ],
 "metadata": {
  "kernelspec": {
   "display_name": "Python 3 (ipykernel)",
   "language": "python",
   "name": "python3"
  },
  "language_info": {
   "codemirror_mode": {
    "name": "ipython",
    "version": 3
   },
   "file_extension": ".py",
   "mimetype": "text/x-python",
   "name": "python",
   "nbconvert_exporter": "python",
   "pygments_lexer": "ipython3",
   "version": "3.8.1"
  }
 },
 "nbformat": 4,
 "nbformat_minor": 5
}
