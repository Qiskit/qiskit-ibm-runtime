{
 "cells": [
  {
   "cell_type": "markdown",
   "id": "1de4634b",
   "metadata": {},
   "source": [
    "# Estimator"
   ]
  },
  {
   "cell_type": "markdown",
   "id": "d25b1f4d",
   "metadata": {},
   "source": [
    "The Estimator primitive service on Qiskit Runtime lets you efficiently calculate and interpret expectation values of quantum operators required for many algorithms. You can specify a list of circuits and observables, then evaluate expectation values and variances for a given parameter input."
   ]
  },
  {
   "cell_type": "markdown",
   "id": "8a6f1f0d",
   "metadata": {},
   "source": [
    "`qiskit-ibm-runtime` now provides a simple `IBMEstimator` class which allows access to the Estimator primitive service."
   ]
  },
  {
   "cell_type": "markdown",
   "id": "aab6395d",
   "metadata": {},
   "source": [
    "Instantiate the `IBMRuntimeService` from one of the saved accounts like below."
   ]
  },
  {
   "cell_type": "code",
   "execution_count": 1,
   "id": "233c286a",
   "metadata": {},
   "outputs": [],
   "source": [
    "from qiskit_ibm_runtime import IBMRuntimeService\n",
    "\n",
    "# Save cloud account on disk.\n",
    "# IBMRuntimeService.save_account(auth=\"cloud\", token=<IBM Cloud API key>, instance=<IBM Cloud CRN> or <IBM Cloud service name>)\n",
    "\n",
    "# Or save legacy account on disk.\n",
    "# IBMRuntimeService.save_account(auth=\"legacy\", token=<IBM Quantum API key>)\n",
    "\n",
    "service = IBMRuntimeService()"
   ]
  },
  {
   "cell_type": "markdown",
   "id": "207168c6",
   "metadata": {},
   "source": [
    "Instantiate the `IBMEstimator` class by (optionally) passing the `service` instance instantiated above and also an optional backend name or `IBMBackend` object. \n",
    "\n",
    "Note:\n",
    "- If `service` parameter is not set, it defaults to `IBMRuntimeService()` which means it will use your saved `cloud` or `legacy` accounts (in that order).\n",
    "- If `backend` parameter is not set, then a least busy backend is automatically selected (IBM Cloud only)."
   ]
  },
  {
   "cell_type": "code",
   "execution_count": 2,
   "id": "92e9ff73",
   "metadata": {},
   "outputs": [],
   "source": [
    "from qiskit_ibm_runtime import IBMEstimator\n",
    "\n",
    "estimator_factory = IBMEstimator(service=service, backend=\"ibmq_qasm_simulator\")"
   ]
  },
  {
   "cell_type": "markdown",
   "id": "64db3d08",
   "metadata": {},
   "source": [
    "Instantiating `IBMEstimator` returns a factory which can be used to open a session with the Estimator primitive service and pass an initial list of `circuits`, `observables` and `parameters` (optional). Let's prepare the quantum circuits and observables as shown below."
   ]
  },
  {
   "cell_type": "code",
   "execution_count": 3,
   "id": "2927157f",
   "metadata": {
    "scrolled": true
   },
   "outputs": [
    {
     "name": "stdout",
     "output_type": "stream",
     "text": [
      "     ┌────────────────────────────────────────────────┐\n",
      "q_0: ┤0                                               ├\n",
      "     │  RealAmplitudes(θ[0],θ[1],θ[2],θ[3],θ[4],θ[5]) │\n",
      "q_1: ┤1                                               ├\n",
      "     └────────────────────────────────────────────────┘\n",
      "     ┌──────────────────────────────────────────────────────────┐\n",
      "q_0: ┤0                                                         ├\n",
      "     │  RealAmplitudes(θ[0],θ[1],θ[2],θ[3],θ[4],θ[5],θ[6],θ[7]) │\n",
      "q_1: ┤1                                                         ├\n",
      "     └──────────────────────────────────────────────────────────┘\n"
     ]
    }
   ],
   "source": [
    "from qiskit.circuit.library import RealAmplitudes\n",
    "from qiskit.quantum_info import SparsePauliOp\n",
    "\n",
    "psi1 = RealAmplitudes(num_qubits=2, reps=2)\n",
    "psi2 = RealAmplitudes(num_qubits=2, reps=3)\n",
    "\n",
    "H1 = SparsePauliOp.from_list([(\"II\", 1), (\"IZ\", 2), (\"XI\", 3)])\n",
    "H2 = SparsePauliOp.from_list([(\"IZ\", 1)])\n",
    "H3 = SparsePauliOp.from_list([(\"ZI\", 1), (\"ZZ\", 1)])\n",
    "\n",
    "print(psi1.draw())\n",
    "print(psi2.draw())"
   ]
  },
  {
   "cell_type": "markdown",
   "id": "0e5d88e4",
   "metadata": {},
   "source": [
    "The quantum circuits and observables can then be passed as lists to the `estimator_factory`, which instantiates and opens a session with the Estimator primitive service and returns a handle to the session, `estimator`. `estimator` is an instance of `Estimator` class in `qiskit-ibm-runtime` which implements the `BaseEstimator` interface in `qiskit-terra`.\n",
    "\n",
    "`estimator` can then be called multiple times to write different `circuit_indices` (a list of circuit indices), `observable_indices` (a list of observable indices) and `parameter_values` (an optional list of concrete parameters to be bound) to the session and read the calculated expectation values. The result is an instance of `EstimatorResult` class in `qiskit-terra` and it contains expectation values and metadata."
   ]
  },
  {
   "cell_type": "code",
   "execution_count": 4,
   "id": "0ee5fa14",
   "metadata": {},
   "outputs": [
    {
     "name": "stdout",
     "output_type": "stream",
     "text": [
      "EstimatorResult(values=array([1.55078125]), metadata=[{'variance': 9.184310913085938, 'shots': 1024}])\n",
      "EstimatorResult(values=array([-0.57226562,  0.09960938]), metadata=[{'variance': 0.6725120544433594, 'shots': 1024}, {'variance': 1.9837303161621094, 'shots': 1024}])\n",
      "EstimatorResult(values=array([0.18554688]), metadata=[{'variance': 0.9655723571777344, 'shots': 1024}])\n",
      "EstimatorResult(values=array([1.546875  , 1.06835938]), metadata=[{'variance': 9.175872802734375, 'shots': 1024}, {'variance': 12.271556854248047, 'shots': 1024}])\n",
      "EstimatorResult(values=array([ 1.55078125,  0.19921875, -1.13085938]), metadata=[{'variance': 9.120590209960938, 'shots': 1024}, {'variance': 0.9603118896484375, 'shots': 1024}, {'variance': 1.2225608825683594, 'shots': 1024}])\n"
     ]
    }
   ],
   "source": [
    "with estimator_factory(circuits=[psi1, psi2], observables=[H1, H2, H3]) as estimator:\n",
    "    # parameter values\n",
    "    theta1 = [0, 1, 1, 2, 3, 5]\n",
    "    theta2 = [0, 1, 1, 2, 3, 5, 8, 13]\n",
    "    theta3 = [1, 2, 3, 4, 5, 6]\n",
    "\n",
    "    # calculate [ <psi1(theta1)|H1|psi1(theta1)> ]\n",
    "    result1 = estimator(circuit_indices=[0], observable_indices=[0], parameter_values=[theta1])\n",
    "    print(result1)\n",
    "\n",
    "    # calculate [ <psi1(theta1)|H2|psi1(theta1)>, <psi1(theta1)|H3|psi1(theta1)> ]\n",
    "    result2 = estimator(circuit_indices=[0, 0], observable_indices=[1, 2], parameter_values=[theta1]*2)\n",
    "    print(result2)\n",
    "\n",
    "    # calculate [ <psi2(theta2)|H2|psi2(theta2)> ]\n",
    "    result3 = estimator(circuit_indices=[1], observable_indices=[1], parameter_values=[theta2])\n",
    "    print(result3)\n",
    "\n",
    "    # calculate [ <psi1(theta1)|H1|psi1(theta1)>, <psi1(theta3)|H1|psi1(theta3)> ]\n",
    "    result4 = estimator(circuit_indices=[0, 0], observable_indices=[0, 0], parameter_values=[theta1, theta3])\n",
    "    print(result4)\n",
    "\n",
    "    # calculate [ <psi1(theta1)|H1|psi1(theta1)>,\n",
    "    #             <psi2(theta2)|H2|psi2(theta2)>,\n",
    "    #             <psi1(theta3)|H3|psi1(theta3)> ]\n",
    "    result5 = estimator(circuit_indices=[0, 1, 0], observable_indices=[0, 1, 2], parameter_values=[theta1, theta2, theta3])\n",
    "    print(result5)"
   ]
  },
  {
   "cell_type": "code",
   "execution_count": 5,
   "id": "4d69df82",
   "metadata": {},
   "outputs": [
    {
     "data": {
      "text/html": [
       "<div style='width: 100%; background-color:#d5d9e0;padding-left: 10px; padding-bottom: 10px; padding-right: 10px; padding-top: 5px'><h3>This code is a part of Qiskit</h3><p>&copy; Copyright IBM 2017, 2022.</p><p>This code is licensed under the Apache License, Version 2.0. You may<br>obtain a copy of this license in the LICENSE.txt file in the root directory<br> of this source tree or at http://www.apache.org/licenses/LICENSE-2.0.<p>Any modifications or derivative works of this code must retain this<br>copyright notice, and modified files need to carry a notice indicating<br>that they have been altered from the originals.</p></div>"
      ],
      "text/plain": [
       "<IPython.core.display.HTML object>"
      ]
     },
     "metadata": {},
     "output_type": "display_data"
    }
   ],
   "source": [
    "from qiskit.tools.jupyter import *\n",
    "\n",
    "%qiskit_copyright"
   ]
  },
  {
   "cell_type": "code",
   "execution_count": null,
   "id": "a8438b5e",
   "metadata": {},
   "outputs": [],
   "source": []
  }
 ],
 "metadata": {
  "kernelspec": {
   "display_name": "qiskit-ibm-runtime",
   "language": "python",
   "name": "qiskit-ibm-runtime"
  },
  "language_info": {
   "codemirror_mode": {
    "name": "ipython",
    "version": 3
   },
   "file_extension": ".py",
   "mimetype": "text/x-python",
   "name": "python",
   "nbconvert_exporter": "python",
   "pygments_lexer": "ipython3",
   "version": "3.9.7"
  }
 },
 "nbformat": 4,
 "nbformat_minor": 5
}
