{
 "cells": [
  {
   "cell_type": "markdown",
   "metadata": {},
   "source": [
    "# Quantum Kernel Alignment with Qiskit Runtime\n",
    "\n",
    "<br>\n",
    "\n",
    "**Classification with Support Vector Machines**<br>\n",
    "Classification problems are widespread in machine learning applications. Examples include credit card risk, handwriting recognition, and medical diagnosis. One approach to tackling classification problems is the support vector machine (SVM) [1,2]. This supervised learning algorithm uses labeled data samples to train a model that can predict to which class a test sample belongs. It does this by finding a separating hyperplane maximizing the margin between data classes. Often, data is not linearly separable in the original space. In these cases, the kernel trick is used to implicitly encode a transformation of the data into a higher-dimensional feature space, through the inner product between pairs of data points, where the data may become separable.\n",
    "\n",
    "**Quantum Kernels**<br>\n",
    "Quantum computers can be used to encode classical data in a quantum-enhanced feature space. In 2019, IBM introduced an algorithm called the quantum kernel estimator (QKE) for computing quantum kernels [3]. This algorithm uses quantum circuits with data provided classically and offers an efficient way to evaluate inner products between data in a quantum feature space. For two data samples $\\theta$ and $\\theta'$, the kernel matrix is given as\n",
    "\n",
    "$$\n",
    "    K(\\theta, \\theta') = \\lvert\\langle 0^n \\rvert U^\\dagger(\\theta) U(\\theta') \\lvert 0^n \\rangle \\rvert^2,\n",
    "$$\n",
    "\n",
    "where $U(\\theta)$ prepares the quantum feature state. Quantum kernels used in a classification framework inherit the convex optimization program of the SVM and avoid common limitations of variational quantum classifiers. A key observation of this paper was that a necessary condition for a computational advantage requires quantum circuits for the kernel that are hard to simulate classically. More recently, IBM proved that quantum kernels can offer superpolynomial speedups over any classical learner on a learning problem based on the hardness of the discrete logarithm problem [4]. This means that quantum kernels can someday offer quantum advantage on suitable problems. \n",
    "\n",
    "\n",
    "**Quantum Kernels that Exploit Structure in Data**<br>\n",
    "An important approach in the search for practical quantum advantage in machine learning is to identify quantum kernels for learning problems that have underlying structure in the data. We've taken a step in this direction in our recent paper [5], where we introduced a broad class of quantum kernels that exploit group structure in data. Examples of learning problems for data with group structure could include learning permutations or classifying translations. We call this new class of kernels _covariant quantum kernels_ as they are related to covariant quantum measurements. The quantum feature map is defined by a unitary representation $D(\\theta)$ of a group $G$ for some element $\\theta \\in G$, and a fiducial reference state $\\lvert\\psi\\rangle = V\\lvert0^n\\rangle$ prepared by a unitary circuit $V$. The kernel matrix is given as\n",
    "\n",
    "$$\n",
    "    K(\\theta, \\theta') = \\vert\\langle 0^n \\rvert V^\\dagger D^\\dagger(\\theta) D(\\theta') V \\lvert 0^n \\rangle \\rvert^2. \\qquad (1)\n",
    "$$\n",
    "\n",
    "In general, the choice of the fiducial state is not known _a priori_ and can significantly impact the performance of the classifier. Here, we use a method called quantum kernel alignment (QKA) to find a good fiducial state for a given group.\n",
    "\n",
    "**Aligning Quantum Kernels on a Dataset**<br>\n",
    "In practice, SVMs require a choice of the kernel function. Sometimes, symmetries in the data can inform this selection, other times it is chosen in an ad hoc manner. Kernel alignment is one approach to learning a kernel on a given dataset by iteratively adapting it to have high similarity to a target kernel informed from the underlying data distribution [6]. As a result, the SVM with an aligned kernel will likely generalize better to new data than with an unaligned kernel. Using this concept, we introduced in [5] an algorithm for quantum kernel alignment, which provides a way to learn a quantum kernel from a family of kernels. Specifically, the algorithm optimizes the parameters in a quantum circuit to maximize the alignment of a kernel while converging to the maximum SVM margin. In the context of covariant quantum kernels, we extend Eq. $(1)$ to\n",
    "\n",
    "$$\n",
    "    K_\\lambda(\\theta,\\theta') = \\lvert\\langle 0^n \\rvert V^\\dagger_\\lambda D^\\dagger(\\theta) D(\\theta') V_\\lambda \\lvert 0^n \\rangle \\rvert^2, \\qquad (2)\n",
    "$$\n",
    "\n",
    "and use QKA to learn a good fiducial state parametrized by $\\lambda$ for a given group. \n",
    "\n",
    "\n",
    "**Covariant Quantum Kernels on a Specific Learning Problem**<br>\n",
    "Let's try out QKA on a learning problem. In the following, we'll consider a binary classification problem we call _labeling cosets with error_ [5]. In this problem, we will use a group and a subgroup to form two cosets, which will represent our data classes. We take the group $G = SU(2)^{\\otimes n}$ for $n$ qubits, which is the special unitary group of $2\\times2$ matrices and has wide applicability in nature, for example, the Standard Model of particle physics and in many condensed matter systems. We take the graph-stabilizer subgroup $S_{\\mathrm{graph}} \\in G$ with $S_{\\mathrm{graph}} = \\langle \\{ X_i \\otimes_{k:(k,i) \\in \\mathcal{E}} Z_k \\}_{i \\in \\mathcal{V}} \\rangle$ for a graph $(\\mathcal{E},\\mathcal{V})$ with edges $\\mathcal{E}$ and vertices $\\mathcal{V}$. Note that the stabilizers fix a stabilizer state such that $D_s \\lvert \\psi\\rangle = \\lvert \\psi\\rangle$. This observation will be useful a bit later. \n",
    "\n",
    "To generate the dataset, we write the rotations of the group as $D(\\theta_1, \\theta_2, 0)=\\exp(i \\theta_1 X) \\exp(i \\theta_2 Z) \\in SU(2)$, so that each qubit is parametrized by the first two Euler angles (the third we set to zero). Then, we draw randomly two sets of angles $\\mathbf{\\theta}_\\pm \\in [-\\pi/4, \\pi/4]^{2n}$ for the $n$-qubit problem. From these two sets, we construct a binary classification problem by forming two left-cosets (representing the two classes) with those angles, $C_\\pm = D(\\mathbf{\\theta}_\\pm) S_{\\mathrm{graph}}$ where $D(\\mathbf{\\theta}_\\pm) = \\otimes_{k=1}^n D(\\theta_\\pm^{2k-1}, \\theta_\\pm^{2k}, 0)$. Note that the elements of the cosets can again be written in terms of Euler angles. We build training and testing sets by randomly drawing elements from $C_\\pm$ such that the dataset has samples $i=1,...,m$ containing the first two Euler angles for each qubit $\\mathbf{\\theta}_{y_i} = (\\theta_{y_i}^{1}, \\theta_{y_i}^{2}, \\theta_{y_i}^{3}, \\theta_{y_i}^{4}, ..., \\theta_{y_i}^{2n-1}, \\theta_{y_i}^{2n})$ and labels $y_i \\in \\{-1,1\\}$ that indicate to which coset a sample belongs.\n",
    "\n",
    "Next, we select a fiducial state. A natural candidate is the stabilizer state we encountered above. Why? Because this is a subgroup invariant state, $D_s\\lvert\\psi\\rangle = \\lvert\\psi\\rangle$, which causes the data for a given coset to be mapped to a unique state: $D(\\mathbf{\\theta}_\\pm)D_s \\lvert\\psi\\rangle = D(\\mathbf{\\theta}_\\pm) \\lvert\\psi\\rangle$. This means the classifier only needs to distinguish the _two_ states $D(\\mathbf{\\theta}_\\pm) \\lvert\\psi\\rangle \\langle \\psi\\rvert D^\\dagger(\\mathbf{\\theta}_\\pm)$ for every element of the coset. In this tutorial, we will add a small Gaussian error with variance $0.01$ to the Euler angles of the dataset. This noise will perturb these two states, but if the variance is sufficiently small, we expect the states will still be classified correctly. Let's consider a parametrized version of the stabilizer state, associated with the coupling graph $(\\mathcal{E},\\mathcal{V})$ given by the device connectivity, as our fiducial state and then use kernel alignment to find its optimal parameters. Specifically, we'll replace the initial layers of Hadamards in the graph state with $y$-rotations by an angle $\\lambda$,\n",
    "\n",
    "$$\n",
    "\\lvert \\psi_\\lambda\\rangle = V_\\lambda \\lvert 0^n\\rangle = \\prod_{(k,t) \\in \\mathcal{E}} CZ_{k,t} \\prod_{k \\in \\mathcal{V}} \\exp\\left(i \\frac{\\lambda}{2} Y_k\\right)\\lvert 0^n\\rangle,\n",
    "$$\n",
    "\n",
    "where $CZ=\\mathrm{diag}(1,1,1,-1)$. Then, given two samples from our dataset, $\\mathbf{\\theta}$ and $\\mathbf{\\theta}'$, the kernel matrix is evaluated as in Eq. $(2)$. If we initialize the kernel with $\\lambda \\approx 0$, we expect the quantum kernel alignment algorithm to converge towards the optimal $\\lambda = \\pi/2$ and the classifier to yield 100\\% test accuracy.\n",
    "\n",
    "Let's define two specific problem instances to test these ideas out. We'll be using the quantum device `ibmq_montreal`, with coupling map shown below:\n",
    "\n",
    "<br>\n",
    "<img src=\"images/chip.png\" width=\"500\">\n",
    "<br>\n",
    "\n",
    "We'll pick two different subgraphs, one for 7 qubits and one for 10, to define our problem instances. Using these subgraphs, we'll generate the corresponding datasets as described above, and then align the quantum kernel with QKA to learn a good fiducial state.\n",
    "\n",
    "<br>\n",
    "<img src=\"images/subgraphs.png\" width=\"550\">\n",
    "<br>\n",
    "\n",
    "**Speeding up Algorithms with Qiskit Runtime**<br>\n",
    "QKA is an iterative quantum-classical algorithm, in which quantum hardware is used to execute parametrized quantum circuits for evaluating the quantum kernel matrices with QKE, while a classical optimizer tunes the parameters of those circuits to maximize the alignment. Iterative algorithms of this type can be slow due to latency between the quantum and classical calculations. Qiskit Runtime is a new architecture that can speed up iterative algorithms like QKA by co-locating classical computations with the quantum hardware executions. In this tutorial, we'll use QKA with Qiskit Runtime to learn a good quantum kernel for the _labeling cosets with error_ problem defined above.\n",
    "\n",
    "<br>\n",
    "\n",
    "**References**<br>\n",
    "[1] B. E. Boser, I. M. Guyon,  and V. N. Vapnik, Proceedings of the Fifth Annual Workshop on Computational Learning Theory, COLT ’92 (Association for Computing Machinery, New York, NY, USA, 1992) pp. 144-152 [link](https://doi.org/10.1145/130385.130401) <br>\n",
    "[2] V. Vapnik, The Nature of Statistical Learning Theory, Information Science and Statistics (Springer New York, 2013) [link](https://books.google.com/books?id=EqgACAAAQBAJ) <br>\n",
    "[3] V. Havlíček, A. D. Córcoles, K. Temme, A. W. Harrow, A. Kandala, J. M. Chow, and J. M. Gambetta, Nature 567, 209-212 (2019) [link](https://doi.org/10.1038/s41586-019-0980-2) <br>\n",
    "[4] Y. Liu, S. Arunachalam, and K. Temme, arXiv:2010.02174 (2020) [link](https://arxiv.org/abs/2010.02174) <br>\n",
    "[5] J. R. Glick, T. P. Gujarati, A. D. Córcoles, Y. Kim, A. Kandala, J. M. Gambetta, K. Temme, arXiv:2105.03406 (2021) [link](https://arxiv.org/abs/2105.03406)<br>\n",
    "[6] N. Cristianini, J. Shawe-taylor, A. Elisseeff, and J. Kandola, Advances in Neural Information Processing Systems 14 (2001) [link](https://proceedings.neurips.cc/paper/2001/file/1f71e393b3809197ed66df836fe833e5-Paper.pdf) <br>\n"
   ]
  },
  {
   "cell_type": "markdown",
   "metadata": {},
   "source": [
    "# Load your account and get the quantum backend\n",
    "\n",
    "We'll be using the 27-qubit device `ibmq_montreal` for this tutorial in Qiskit Runtime on IBM Quantum."
   ]
  },
  {
   "cell_type": "code",
   "execution_count": 1,
   "metadata": {
    "slideshow": {
     "slide_type": "fragment"
    }
   },
   "outputs": [],
   "source": [
    "import sys\n",
    "\n",
    "sys.path.insert(0, \"..\")  # Add program_source directory to the path\n",
    "\n",
    "from qiskit_ibm_runtime import QiskitRuntimeService\n",
    "\n",
    "service = QiskitRuntimeService(channel=\"ibm_quantum\")\n",
    "backend = service.backend(\"ibmq_montreal\")"
   ]
  },
  {
   "cell_type": "markdown",
   "metadata": {},
   "source": [
    "# Invoke the Quantum Kernel Alignment program\n",
    "\n",
    "Before executing the runtime program for QKA, we need to prepare the dataset and configure the input parameters for the algorithm.\n",
    "\n",
    "### 1. Prepare the dataset\n",
    "\n",
    "First, we load the dataset from the `csv` file and then extract the labeled training and test samples. Here, we'll look at the 7-qubit problem, shown above in subfigure a). A second dataset is also available for the 10-qubit problem in b)."
   ]
  },
  {
   "cell_type": "code",
   "execution_count": 2,
   "metadata": {},
   "outputs": [],
   "source": [
    "import pandas as pd\n",
    "\n",
    "df = pd.read_csv(\n",
    "    \"../../program_source/qka/aux_file/dataset_graph7.csv\", sep=\",\", header=None\n",
    ")  # alterative problem: dataset_graph10.csv\n",
    "data = df.values"
   ]
  },
  {
   "cell_type": "markdown",
   "metadata": {},
   "source": [
    "Let's take a look at the data to see how it's formatted. Each row of the dataset contains a list of Euler angles, followed by the class label $\\pm1$ in the last column. For an $n$-qubit problem, there are $2n$ features corresponding to the first two Euler angles for each qubit (recall discussion above). The rows alternate between class labels."
   ]
  },
  {
   "cell_type": "code",
   "execution_count": 3,
   "metadata": {},
   "outputs": [
    {
     "name": "stdout",
     "output_type": "stream",
     "text": [
      "         0         1         2         3         4         5         6   \\\n",
      "0 -0.193574  0.113979 -0.005927  0.300957 -0.358603 -0.087866 -0.156226   \n",
      "1 -0.100006  0.002431  0.244218  0.126870 -0.063891 -0.085588  0.072490   \n",
      "2 -1.774448 -0.047642 -0.025880  0.252708 -0.350689 -1.604509 -0.114874   \n",
      "3 -0.211585 -0.043782 -1.560226  0.018510 -0.051867 -0.128508  0.218609   \n",
      "\n",
      "         7         8         9         10        11        12        13   14  \n",
      "0  0.342442 -0.016003  0.143113  0.256422 -0.164125 -0.136743  0.014674  1.0  \n",
      "1  0.042986 -0.052714  0.019754 -0.159314 -0.409991 -0.199615  0.053845 -1.0  \n",
      "2  0.347631  0.059501 -0.168956  0.351014 -0.128586  0.098897 -0.047799  1.0  \n",
      "3 -0.075632 -0.183656 -1.715292 -0.105361 -0.300758 -0.566431  0.046542 -1.0  \n"
     ]
    }
   ],
   "source": [
    "print(df.head(4))"
   ]
  },
  {
   "cell_type": "markdown",
   "metadata": {},
   "source": [
    "Now, let's explicitly construct the training and test samples (denoted `x`) and their labels (denoted `y`)."
   ]
  },
  {
   "cell_type": "code",
   "execution_count": 4,
   "metadata": {
    "scrolled": false
   },
   "outputs": [],
   "source": [
    "import numpy as np\n",
    "\n",
    "# choose number of training and test samples per class:\n",
    "num_train = 10\n",
    "num_test = 10\n",
    "\n",
    "# extract training and test sets and sort them by class label\n",
    "train = data[: 2 * num_train, :]\n",
    "test = data[2 * num_train : 2 * (num_train + num_test), :]\n",
    "\n",
    "ind = np.argsort(train[:, -1])\n",
    "x_train = train[ind][:, :-1]\n",
    "y_train = train[ind][:, -1]\n",
    "\n",
    "ind = np.argsort(test[:, -1])\n",
    "x_test = test[ind][:, :-1]\n",
    "y_test = test[ind][:, -1]"
   ]
  },
  {
   "cell_type": "markdown",
   "metadata": {},
   "source": [
    "### 2. Configure the QKA algorithm\n",
    "\n",
    "The first task is to set up the feature map and its entangler map, which specifies the arrangement of $CZ$ gates in the fiducial state. We will choose this to match the connectivity of the problem subgraph, pictured above. We also initialize the fiducial state parameter $\\lambda$ with `initial_point`."
   ]
  },
  {
   "cell_type": "code",
   "execution_count": 5,
   "metadata": {},
   "outputs": [],
   "source": [
    "from program_source.qka import FeatureMap\n",
    "\n",
    "d = np.shape(data)[1] - 1  # feature dimension is twice the qubit number\n",
    "\n",
    "em = [\n",
    "    [0, 2],\n",
    "    [3, 4],\n",
    "    [2, 5],\n",
    "    [1, 4],\n",
    "    [2, 3],\n",
    "    [4, 6],\n",
    "]  # we'll match this to the 7-qubit graph\n",
    "# em = [[0,1],[2,3],[4,5],[6,7],[8,9],[1,2],[3,4],[5,6],[7,8]]  # we'll match this to the 10-qubit graph\n",
    "\n",
    "fm = FeatureMap(feature_dimension=d, entangler_map=em)  # define the feature map\n",
    "initial_point = [0.1]  # set the initial parameter for the feature map"
   ]
  },
  {
   "cell_type": "markdown",
   "metadata": {},
   "source": [
    "Let's print out the circuit for the feature map (the circuit for the kernel will be a feature map for one data sample composed with an inverse feature map for a second sample). The first part of the feature map is the fiducial state, which is prepared with a layer of $y$ rotations followed by $CZ$s. Then, the last two layers of $z$ and $x$ rotations in the circuit denote the group representation $D(\\theta)$ for a data sample $\\theta$. Note that a single-qubit rotation is defined as $RP(\\phi) = \\exp(- i [\\phi/2] P)$ for $P \\in {X, Y, Z}$."
   ]
  },
  {
   "cell_type": "code",
   "execution_count": 6,
   "metadata": {},
   "outputs": [
    {
     "data": {
      "text/html": [
       "<pre style=\"word-wrap: normal;white-space: pre;background: #fff0;line-height: 1.1;font-family: &quot;Courier New&quot;,Courier,monospace\">     ┌──────────┐   ┌──────────────┐ ┌────────────┐                                                 \n",
       "q_0: ┤ Ry(-0.1) ├─■─┤ Rz(-0.38383) ├─┤ Rx(3.3378) ├─────────────────────────────────────────────────\n",
       "     ├──────────┤ │ └──────────────┘ └────────────┘┌──────────────┐ ┌──────────────┐                \n",
       "q_1: ┤ Ry(-0.1) ├─┼────────────────────────■───────┤ Rz(-0.11811) ├─┤ Rx(-0.20449) ├────────────────\n",
       "     ├──────────┤ │                        │       └──────────────┘ └┬────────────┬┘┌─────────────┐ \n",
       "q_2: ┤ Ry(-0.1) ├─■────────■───────────────┼──────────────■──────────┤ Rz(3.4802) ├─┤ Rx(0.15495) ├─\n",
       "     ├──────────┤          │               │              │         ┌┴────────────┤ ├─────────────┴┐\n",
       "q_3: ┤ Ry(-0.1) ├─■────────┼───────────────┼──────────────■─────────┤ Rz(0.34764) ├─┤ Rx(-0.54085) ├\n",
       "     ├──────────┤ │        │               │                        ├─────────────┤ ├──────────────┤\n",
       "q_4: ┤ Ry(-0.1) ├─■────────┼───────────────■──────────────■─────────┤ Rz(0.34312) ├─┤ Rx(-0.14015) ├\n",
       "     ├──────────┤          │        ┌─────────────┐       │        ┌┴─────────────┴┐└──────────────┘\n",
       "q_5: ┤ Ry(-0.1) ├──────────■────────┤ Rz(0.51497) ├───────┼────────┤ Rx(-0.029293) ├────────────────\n",
       "     ├──────────┤                   └─────────────┘       │        └┬──────────────┤┌─────────────┐ \n",
       "q_6: ┤ Ry(-0.1) ├─────────────────────────────────────────■─────────┤ Rz(-0.42725) ├┤ Rx(0.44115) ├─\n",
       "     └──────────┘                                                   └──────────────┘└─────────────┘ </pre>"
      ],
      "text/plain": [
       "     ┌──────────┐   ┌──────────────┐ ┌────────────┐                                                 \n",
       "q_0: ┤ Ry(-0.1) ├─■─┤ Rz(-0.38383) ├─┤ Rx(3.3378) ├─────────────────────────────────────────────────\n",
       "     ├──────────┤ │ └──────────────┘ └────────────┘┌──────────────┐ ┌──────────────┐                \n",
       "q_1: ┤ Ry(-0.1) ├─┼────────────────────────■───────┤ Rz(-0.11811) ├─┤ Rx(-0.20449) ├────────────────\n",
       "     ├──────────┤ │                        │       └──────────────┘ └┬────────────┬┘┌─────────────┐ \n",
       "q_2: ┤ Ry(-0.1) ├─■────────■───────────────┼──────────────■──────────┤ Rz(3.4802) ├─┤ Rx(0.15495) ├─\n",
       "     ├──────────┤          │               │              │         ┌┴────────────┤ ├─────────────┴┐\n",
       "q_3: ┤ Ry(-0.1) ├─■────────┼───────────────┼──────────────■─────────┤ Rz(0.34764) ├─┤ Rx(-0.54085) ├\n",
       "     ├──────────┤ │        │               │                        ├─────────────┤ ├──────────────┤\n",
       "q_4: ┤ Ry(-0.1) ├─■────────┼───────────────■──────────────■─────────┤ Rz(0.34312) ├─┤ Rx(-0.14015) ├\n",
       "     ├──────────┤          │        ┌─────────────┐       │        ┌┴─────────────┴┐└──────────────┘\n",
       "q_5: ┤ Ry(-0.1) ├──────────■────────┤ Rz(0.51497) ├───────┼────────┤ Rx(-0.029293) ├────────────────\n",
       "     ├──────────┤                   └─────────────┘       │        └┬──────────────┤┌─────────────┐ \n",
       "q_6: ┤ Ry(-0.1) ├─────────────────────────────────────────■─────────┤ Rz(-0.42725) ├┤ Rx(0.44115) ├─\n",
       "     └──────────┘                                                   └──────────────┘└─────────────┘ "
      ]
     },
     "execution_count": 6,
     "metadata": {},
     "output_type": "execute_result"
    }
   ],
   "source": [
    "from qiskit.tools.visualization import circuit_drawer\n",
    "\n",
    "circuit_drawer(\n",
    "    fm.construct_circuit(x=x_train[0], parameters=initial_point),\n",
    "    output=\"text\",\n",
    "    fold=200,\n",
    ")"
   ]
  },
  {
   "cell_type": "markdown",
   "metadata": {},
   "source": [
    "Next, we set the values for the SVM soft-margin penalty `C` and the number of SPSA iterations `maxiters` we use to align the quantum kernel."
   ]
  },
  {
   "cell_type": "code",
   "execution_count": 7,
   "metadata": {
    "slideshow": {
     "slide_type": "fragment"
    }
   },
   "outputs": [],
   "source": [
    "C = 1  # SVM soft-margin penalty\n",
    "maxiters = 10  # number of SPSA iterations"
   ]
  },
  {
   "cell_type": "markdown",
   "metadata": {},
   "source": [
    "Finally, we decide how to map the virtual qubits of our problem graph to the physical qubits of the hardware. For example, in the 7-qubit problem, we can directly map the virtual qubits `[0, 1, 2, 3, 4, 5, 6]` to the physical qubits `[10, 11, 12, 13, 14, 15, 16]` of the device. This allows us to avoid introducing SWAP gates for qubits that are not connected, which can increase the circuit depth. "
   ]
  },
  {
   "cell_type": "code",
   "execution_count": 8,
   "metadata": {},
   "outputs": [],
   "source": [
    "initial_layout = [10, 11, 12, 13, 14, 15, 16]  # see figure above for the 7-qubit graph\n",
    "# initial_layout = [9, 8, 11, 14, 16, 19, 22, 25, 24, 23]       # see figure above for the 10-qubit graph"
   ]
  },
  {
   "cell_type": "markdown",
   "metadata": {},
   "source": [
    "### 3. Set up and run the program\n",
    "\n",
    "We're almost ready to run the program. First, let's take a look at the program metadata, which includes a description of the input parameters and their default values."
   ]
  },
  {
   "cell_type": "code",
   "execution_count": 9,
   "metadata": {},
   "outputs": [
    {
     "name": "stdout",
     "output_type": "stream",
     "text": [
      "quantum-kernel-alignment:\n",
      "  Name: quantum-kernel-alignment\n",
      "  Description: Quantum kernel alignment algorithm that learns, on a given dataset, a quantum kernel maximizing the SVM classification margin.\n",
      "  Creation date: 2021-05-06T14:56:53Z\n",
      "  Update date: 2021-11-10T17:10:19.159734Z\n",
      "  Max execution time: 28800\n",
      "  Input parameters:\n",
      "    Properties:\n",
      "        - feature_map:\n",
      "            Type: object\n",
      "            Description: An instance of FeatureMap in dictionary format used to map classical data into a quantum state space.\n",
      "            Required: True\n",
      "        - initial_layout:\n",
      "            Type: ['null', 'array', 'object']\n",
      "            Default: null\n",
      "            Description: Initial position of virtual qubits on the physical qubits of the quantum device. Default is None.\n",
      "            Required: False\n",
      "        - initial_kernel_parameters:\n",
      "            Type: array\n",
      "            Description: Initial parameters of the quantum kernel. If not specified, an array of randomly generated numbers is used. This is a numpy array.\n",
      "            Required: False\n",
      "        - C:\n",
      "            Type: number\n",
      "            Default: 1\n",
      "            Description: Penalty parameter for the soft-margin support vector machine. Default is 1.\n",
      "            Required: False\n",
      "        - data:\n",
      "            Type: array\n",
      "            Description: NxD array of training data, where N is the number of samples and D is the feature dimension. This is a numpy array.\n",
      "            Required: True\n",
      "        - labels:\n",
      "            Type: array\n",
      "            Description: Nx1 array of +/-1 labels of the N training samples. This is a numpy array.\n",
      "            Required: True\n",
      "        - maxiters:\n",
      "            Type: integer\n",
      "            Default: 1\n",
      "            Description: Number of SPSA optimization steps. Default is 1.\n",
      "            Required: False\n",
      "  Interim results:\n",
      "    none\n",
      "  Returns:\n",
      "    Properties:\n",
      "        - aligned_kernel_matrix:\n",
      "            Type: array\n",
      "            Description: The aligned quantum kernel matrix evaluated with the optimized kernel parameters on the training data. This is a numpy array.\n",
      "            Required: False\n",
      "        - aligned_kernel_parameters:\n",
      "            Type: array\n",
      "            Description: The optimized kernel parameters found from quantum kernel alignment. This is a numpy array.\n",
      "            Required: False\n"
     ]
    }
   ],
   "source": [
    "print(service.program(\"quantum-kernel-alignment\"))"
   ]
  },
  {
   "cell_type": "markdown",
   "metadata": {},
   "source": [
    "We see that this program has several input parameters, which we'll configure below. To run the program, we'll set up its two main components: `inputs` (the input parameters from the program metadata) and `options` (the quantum backend). We'll also define a callback function so that the intermediate results of the algorithm will be printed as the program runs. Note that each step of the algorithm for the settings we've selected here takes approximately 11 minutes."
   ]
  },
  {
   "cell_type": "code",
   "execution_count": 10,
   "metadata": {
    "slideshow": {
     "slide_type": "fragment"
    }
   },
   "outputs": [],
   "source": [
    "def interim_result_callback(job_id, interim_result):\n",
    "    print(f\"interim result: {interim_result}\\n\")"
   ]
  },
  {
   "cell_type": "code",
   "execution_count": 12,
   "metadata": {
    "scrolled": false,
    "slideshow": {
     "slide_type": "slide"
    }
   },
   "outputs": [
    {
     "name": "stdout",
     "output_type": "stream",
     "text": [
      "c7ffvf20jbtu2e0f4ckg\n",
      "interim result: {'cost': 10.638621575044311, 'kernel_parameters': array([0.14377543])}\n",
      "\n",
      "interim result: {'cost': 10.607880279846587, 'kernel_parameters': array([0.23459471])}\n",
      "\n",
      "interim result: {'cost': 10.354563275777544, 'kernel_parameters': array([0.33656085])}\n",
      "\n",
      "interim result: {'cost': 9.918023227764865, 'kernel_parameters': array([0.45528513])}\n",
      "\n",
      "interim result: {'cost': 9.160734304693074, 'kernel_parameters': array([0.58508042])}\n",
      "\n",
      "interim result: {'cost': 8.256924450332054, 'kernel_parameters': array([0.70784733])}\n",
      "\n",
      "interim result: {'cost': 7.331773657686416, 'kernel_parameters': array([0.81852789])}\n",
      "\n",
      "interim result: {'cost': 6.578431435591056, 'kernel_parameters': array([0.91250701])}\n",
      "\n",
      "interim result: {'cost': 6.015379867635877, 'kernel_parameters': array([0.97653913])}\n",
      "\n",
      "interim result: {'cost': 5.691687363255383, 'kernel_parameters': array([1.03604491])}\n",
      "\n"
     ]
    }
   ],
   "source": [
    "program_inputs = {\n",
    "    \"feature_map\": fm,\n",
    "    \"data\": x_train,\n",
    "    \"labels\": y_train,\n",
    "    \"initial_kernel_parameters\": initial_point,\n",
    "    \"maxiters\": maxiters,\n",
    "    \"C\": C,\n",
    "    \"initial_layout\": initial_layout,\n",
    "}\n",
    "\n",
    "options = {\"backend_name\": backend.name}\n",
    "\n",
    "job = service.run(\n",
    "    program_id=\"quantum-kernel-alignment\",\n",
    "    options=options,\n",
    "    inputs=program_inputs,\n",
    "    callback=interim_result_callback,\n",
    ")\n",
    "\n",
    "print(job.job_id)\n",
    "result = job.result()"
   ]
  },
  {
   "cell_type": "markdown",
   "metadata": {},
   "source": [
    "### 4. Retrieve the results of the program\n",
    "\n",
    "Now that we've run the program, we can retrieve the output, which is the aligned kernel parameter and the aligned kernel matrix. Let's also plot this kernel matrix (we'll subtract off the diagonal to show the contrast between the remaining entries). The kernel matrix is expected to have a block-diagonal structure. This reflects the fact that the kernel maps the input data effectively to just two states (modulo the small noise we added to the data; recall the discussion above). That is, data in the same coset (same class label) have a larger overlap than do data from different cosets."
   ]
  },
  {
   "cell_type": "code",
   "execution_count": 13,
   "metadata": {
    "scrolled": true
   },
   "outputs": [
    {
     "name": "stdout",
     "output_type": "stream",
     "text": [
      "aligned_kernel_parameters: [1.03604491]\n"
     ]
    },
    {
     "data": {
      "image/png": "[encoded data removed]",
      "text/plain": [
       "<Figure size 432x288 with 1 Axes>"
      ]
     },
     "metadata": {
      "needs_background": "light"
     },
     "output_type": "display_data"
    }
   ],
   "source": [
    "print(f\"aligned_kernel_parameters: {result['aligned_kernel_parameters']}\")\n",
    "\n",
    "from matplotlib import pyplot as plt\n",
    "from pylab import cm\n",
    "\n",
    "plt.rcParams[\"font.size\"] = 20\n",
    "plt.imshow(\n",
    "    result[\"aligned_kernel_matrix\"] - np.identity(2 * num_train),\n",
    "    cmap=cm.get_cmap(\"bwr\", 20),\n",
    ")\n",
    "plt.show()"
   ]
  },
  {
   "cell_type": "code",
   "execution_count": 18,
   "metadata": {},
   "outputs": [
    {
     "data": {
      "text/html": [
       "<div style='width: 100%; background-color:#d5d9e0;padding-left: 10px; padding-bottom: 10px; padding-right: 10px; padding-top: 5px'><h3>This code is a part of Qiskit</h3><p>&copy; Copyright IBM 2017, 2022.</p><p>This code is licensed under the Apache License, Version 2.0. You may<br>obtain a copy of this license in the LICENSE.txt file in the root directory<br> of this source tree or at http://www.apache.org/licenses/LICENSE-2.0.<p>Any modifications or derivative works of this code must retain this<br>copyright notice, and modified files need to carry a notice indicating<br>that they have been altered from the originals.</p></div>"
      ],
      "text/plain": [
       "<IPython.core.display.HTML object>"
      ]
     },
     "metadata": {},
     "output_type": "display_data"
    }
   ],
   "source": [
    "import qiskit.tools.jupyter\n",
    "\n",
    "%qiskit_copyright"
   ]
  }
 ],
 "metadata": {
  "kernelspec": {
   "display_name": "Python 3 (ipykernel)",
   "language": "python",
   "name": "python3"
  },
  "language_info": {
   "codemirror_mode": {
    "name": "ipython",
    "version": 3
   },
   "file_extension": ".py",
   "mimetype": "text/x-python",
   "name": "python",
   "nbconvert_exporter": "python",
   "pygments_lexer": "ipython3",
   "version": "3.8.1"
  }
 },
 "nbformat": 4,
 "nbformat_minor": 4
}
