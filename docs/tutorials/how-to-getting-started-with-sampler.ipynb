{
 "cells": [
  {
   "cell_type": "markdown",
   "id": "1d6b29b2",
   "metadata": {},
   "source": [
    "# Get started with the Sampler primitive\n",
    "\n",
    "Learn how to set up and use the Sampler primitive program.\n",
    "\n",
    "\n",
    "## Overview\n",
    "\n",
    "The Sampler primitive lets you more accurately contextualize counts. It takes a user circuit as an input and generates an error-mitigated readout of quasiprobabilities. This enables you to more efficiently evaluate the possibility of multiple relevant data points in the context of destructive interference.  \n",
    "\n",
    "\n",
    "## Prepare the environment\n",
    "\n",
    "1. Follow the steps in the [getting started guide](https://qiskit.org/documentation/partners/qiskit_ibm_runtime/getting_started.html) to get your Quantum Service instance ready to use.\n",
    "2. You'll need at least one circuit to submit to the program. Our examples all have circuits in them, but if you want to submit your own circuit, you can use Qiskit to create one. To learn how to create circuits by using Qiskit, see the [Circuit basics tutorial](https://qiskit.org/documentation/tutorials/circuits/01_circuit_basics.html).\n",
    "\n",
    "\n",
    "## Start a session\n",
    "\n",
    "With Qiskit Runtime primitives, we introduce the concept of a session or a factory that allows you to define a job as a collection of iterative calls to the quantum computer. When you start a session, it caches the data you send so it doesn't have to be transmitted to the Quantum Datacenter on each iteration.\n",
    "\n",
    "\n",
    "### Create a Sampler instance\n",
    "\n",
    "The Sampler class takes in a runtime options dictionary to control the execution environment.\n",
    "\n",
    "- **options**: Runtime options dictionary that control the execution environment.\n",
    "    * **backend**: Optional instance of :class:`qiskit_ibm_runtime.IBMBackend` class or\n",
    "        string name of backend, if not specified a backend will be selected\n",
    "        automatically (IBM Cloud only).\n",
    "    * **image**: the runtime image used to execute the program, specified in\n",
    "        the form of ``image_name:tag``. Not all accounts are\n",
    "        authorized to select a different image.\n",
    "    * **log_level**: logging level to set in the execution environment. The valid\n",
    "        log levels are: ``DEBUG``, ``INFO``, ``WARNING``, ``ERROR``, and ``CRITICAL``.\n",
    "        The default level is ``WARNING``.\n",
    "\n",
    "The Sampler class also takes in the following arguments as settings:\n",
    "\n",
    "- **transpilation_settings**: (EXPERIMENTAL setting, can break between releases without warning)\n",
    "    Qiskit transpiler settings. The transpilation process converts\n",
    "    operations in the circuit to those supported by the backend, swaps qubits with the\n",
    "    circuit to overcome limited qubit connectivity and some optimizations to reduce the\n",
    "    circuit's gate count where it can.\n",
    "\n",
    "    * **skip_transpilation**: Transpilation is skipped if set to True.\n",
    "        False by default.\n",
    "\n",
    "    * **optimization_settings**:\n",
    "        * **level**: How much optimization to perform on the circuits.\n",
    "            Higher levels generate more optimized circuits,\n",
    "            at the expense of longer transpilation times.\n",
    "            * 0: no optimization\n",
    "            * 1: light optimization\n",
    "            * 2: heavy optimization\n",
    "            * 3: even heavier optimization\n",
    "            If ``None``, level 1 will be chosen as default.\n",
    "\n",
    "- **resilience_settings**: (EXPERIMENTAL setting, can break between releases without warning)\n",
    "    Using these settings allows you to build resilient algorithms by\n",
    "    leveraging the state of the art error suppression, mitigation and correction techniques.\n",
    "\n",
    "    * **level**: How much resilience to build against errors.\n",
    "        Higher levels generate more accurate results,\n",
    "        at the expense of longer processing times.\n",
    "        * 0: no resilience\n",
    "        * 1: light resilience\n",
    "        If ``None``, level 0 will be chosen as default.\n",
    "\n",
    "\n",
    "With these arguments, you can create a Sampler instance with the desired settings. Example:"
   ]
  },
  {
   "cell_type": "code",
   "execution_count": 1,
   "id": "ff4e5c44",
   "metadata": {},
   "outputs": [],
   "source": [
    "from qiskit_ibm_runtime import QiskitRuntimeService, Session\n",
    "from qiskit import QuantumCircuit\n",
    "\n",
    "service = QiskitRuntimeService()\n",
    "\n",
    "options = { \"backend\": \"ibmq_qasm_simulator\" }\n",
    "transpilation_settings = { \"optimization_level\": 1 }\n",
    "\n",
    "bell = QuantumCircuit(2)\n",
    "bell.h(0)\n",
    "bell.cx(0, 1)\n",
    "bell.measure_all()\n",
    "\n",
    "with Session(service=service) as session:\n",
    "    sampler = session.sampler(options=options, transpilation_settings=transpilation_settings)"
   ]
  },
  {
   "cell_type": "markdown",
   "id": "0403b43e",
   "metadata": {},
   "source": [
    "## Write to & read from a session\n",
    "\n",
    "Running a job and returning the results are done by writing to and reading from the session. The session closes when the code exits the `with` block.\n",
    "\n",
    "### Specify program inputs\n",
    "\n",
    "The Sampler.run takes in the following arguments:\n",
    "\n",
    "- **circuits**: A list of (parameterized) circuits that you want to investigate.\n",
    "- **parameters**: A list of parameters for the parameterized circuits. It should be omitted if the circuits provided are not parameterized.\n",
    "- **parameter_values**: An optional list of concrete parameters to be bound.\n",
    "- **run_options**: Runtime options dictionary that control the execution environment.\n",
    "    - **shots**: Number of repetitions of each circuit, for sampling.\n",
    "    - **qubit_lo_freq**: List of default qubit LO frequencies in Hz.\n",
    "    - **meas_lo_freq**: List of default measurement LO frequencies in Hz.\n",
    "    - **schedule_los**: Experiment LO configurations, frequencies are given in Hz.\n",
    "    - **rep_delay**: Delay between programs in seconds. Only supported on certain\n",
    "        backends (if ``backend.configuration().dynamic_reprate_enabled=True``).\n",
    "    - **init_qubits**: Whether to reset the qubits to the ground state for each shot.\n",
    "    - **use_measure_esp**: Whether to use excited state promoted (ESP) readout for measurements\n",
    "        which are the terminal instruction to a qubit. ESP readout can offer higher fidelity\n",
    "        than standard measurement sequences.\n",
    "  \n",
    "You can find more details in [the Sampler API reference](https://qiskit.org/documentation/partners/qiskit_ibm_runtime/stubs/qiskit_ibm_runtime.Sampler.html).\n",
    "\n",
    "Example:\n",
    "\n",
    "### Run the job & print results\n",
    "\n",
    "Run the job, specifying your previously defined inputs and options. In this simple example, there is only one circuit and it does not have parameters.\n",
    "\n",
    "In each Sampler.run() call, you will use `circuits` to specify which circuits to run and, if applicable,  `parameter_values` specifies which parameter to use with the specified circuit."
   ]
  },
  {
   "cell_type": "code",
   "execution_count": 2,
   "id": "57065347",
   "metadata": {},
   "outputs": [
    {
     "name": "stdout",
     "output_type": "stream",
     "text": [
      "SamplerResult(quasi_dists=[{'11': 0.486328125, '00': 0.513671875}], metadata=[{'header_metadata': {}, 'shots': 1024}])\n"
     ]
    }
   ],
   "source": [
    "# executes a Bell circuit\n",
    "with Session(service=service) as session:\n",
    "    sampler = session.sampler()\n",
    "    sampler.options.backend = \"ibmq_qasm_simulator\"\n",
    "    sampler.settings.transpilation.optimization_level = 1\n",
    "    job = sampler.run(circuits=bell)\n",
    "    print(job.result())"
   ]
  },
  {
   "cell_type": "markdown",
   "id": "436e6de2",
   "metadata": {},
   "source": [
    "## Multiple circuit example\n",
    "\n",
    "In this example, we specify three circuits, but they have no parameters:"
   ]
  },
  {
   "cell_type": "code",
   "execution_count": 3,
   "id": "d51903c2",
   "metadata": {},
   "outputs": [
    {
     "name": "stdout",
     "output_type": "stream",
     "text": [
      "SamplerResult(quasi_dists=[{'11': 0.484375, '00': 0.515625}, {'00': 0.5029296875, '11': 0.4970703125}, {'00': 0.4794921875, '11': 0.5205078125}], metadata=[{'header_metadata': {}, 'shots': 1024}, {'header_metadata': {}, 'shots': 1024}, {'header_metadata': {}, 'shots': 1024}])\n"
     ]
    }
   ],
   "source": [
    "from qiskit_ibm_runtime import QiskitRuntimeService, Session\n",
    "from qiskit import QuantumCircuit\n",
    "\n",
    "service = QiskitRuntimeService()\n",
    "\n",
    "bell = QuantumCircuit(2)\n",
    "bell.h(0)\n",
    "bell.cx(0, 1)\n",
    "bell.measure_all()\n",
    "\n",
    "# executes three Bell circuits\n",
    "with Session(service=service) as session:\n",
    "    sampler = session.sampler()\n",
    "    sampler.options.backend = \"ibmq_qasm_simulator\"\n",
    "    sampler.settings.transpilation.optimization_level = 1\n",
    "    job = sampler.run(circuits=[bell]*3)\n",
    "    print(job.result())"
   ]
  },
  {
   "cell_type": "markdown",
   "id": "96b0db80",
   "metadata": {},
   "source": [
    "## Multiple parameterized circuits example\n",
    "\n",
    "In this example, we run multiple parameterized circuits. When it is run, this line `result = sampler(circuits=[0, 0, 1], parameter_values=[theta1, theta2, theta3])` specifies which parameter to send to each circuit.  \n",
    "\n",
    "In our example, the parameter labeled `theta1` is sent to the first circuit, `theta2` is sent to the first circuit, and `theta3` is sent to the second circuit."
   ]
  },
  {
   "cell_type": "code",
   "execution_count": 4,
   "id": "d213627d",
   "metadata": {},
   "outputs": [
    {
     "name": "stdout",
     "output_type": "stream",
     "text": [
      "SamplerResult(quasi_dists=[{'01': 0.3828125, '11': 0.4150390625, '00': 0.1171875, '10': 0.0849609375}, {'01': 0.0419921875, '11': 0.3095703125, '00': 0.0751953125, '10': 0.5732421875}, {'01': 0.7080078125, '11': 0.03515625, '10': 0.08203125, '00': 0.1748046875}], metadata=[{'header_metadata': {}, 'shots': 1024}, {'header_metadata': {}, 'shots': 1024}, {'header_metadata': {}, 'shots': 1024}])\n"
     ]
    }
   ],
   "source": [
    "from qiskit_ibm_runtime import QiskitRuntimeService, Session\n",
    "from qiskit import QuantumCircuit\n",
    "from qiskit.circuit.library import RealAmplitudes\n",
    "\n",
    "service = QiskitRuntimeService()\n",
    "\n",
    "# parameterized circuit\n",
    "pqc = RealAmplitudes(num_qubits=2, reps=2)\n",
    "pqc.measure_all()\n",
    "pqc2 = RealAmplitudes(num_qubits=2, reps=3)\n",
    "pqc2.measure_all()\n",
    "\n",
    "theta1 = [0, 1, 1, 2, 3, 5]\n",
    "theta2 = [1, 2, 3, 4, 5, 6]\n",
    "theta3 = [0, 1, 2, 3, 4, 5, 6, 7]\n",
    "    \n",
    "with Session(service) as session:\n",
    "    sampler = session.sampler()\n",
    "    sampler.options.backend = \"ibmq_qasm_simulator\"\n",
    "    sampler.settings.transpilation.optimization_level = 1\n",
    "\n",
    "    job = sampler.run(circuits=[pqc, pqc, pqc2], parameter_values=[theta1, theta2, theta3])\n",
    "    print(job.result())"
   ]
  },
  {
   "cell_type": "markdown",
   "id": "c1c6c769",
   "metadata": {},
   "source": [
    "### Result\n",
    "\n",
    "The results align with the parameter - circuit pairs specified previously.  For example, the first result (`{'00': 0.1376953125, '10': 0.095703125, '01': 0.359375, '11': 0.4072265625}`) is the output of the parameter labeled `theta1` being sent to the first circuit."
   ]
  },
  {
   "cell_type": "code",
   "execution_count": null,
   "id": "2c755e88",
   "metadata": {},
   "outputs": [],
   "source": []
  }
 ],
 "metadata": {
  "kernelspec": {
   "display_name": "Python 3 (ipykernel)",
   "language": "python",
   "name": "python3"
  },
  "language_info": {
   "codemirror_mode": {
    "name": "ipython",
    "version": 3
   },
   "file_extension": ".py",
   "mimetype": "text/x-python",
   "name": "python",
   "nbconvert_exporter": "python",
   "pygments_lexer": "ipython3",
   "version": "3.9.12"
  }
 },
 "nbformat": 4,
 "nbformat_minor": 5
}
