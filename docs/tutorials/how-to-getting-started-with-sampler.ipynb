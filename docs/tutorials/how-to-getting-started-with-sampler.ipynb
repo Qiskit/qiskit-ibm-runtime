{
 "cells": [
  {
   "cell_type": "markdown",
   "id": "6196753d",
   "metadata": {
    "slideshow": {
     "slide_type": "slide"
    }
   },
   "source": [
    "# Get started with the Sampler primitive"
   ]
  },
  {
   "cell_type": "markdown",
   "id": "8969879a",
   "metadata": {
    "slideshow": {
     "slide_type": "skip"
    }
   },
   "source": [
    "In this tutorial we will show you how to set up the Qiskit Rumtime `Sampler` primitive, explore the different options you can use to configure it, and invoke the primitive efficiently inside a session."
   ]
  },
  {
   "cell_type": "markdown",
   "id": "2eb6cb78",
   "metadata": {
    "slideshow": {
     "slide_type": "slide"
    }
   },
   "source": [
    "## Primitives"
   ]
  },
  {
   "cell_type": "markdown",
   "id": "5a7c5911",
   "metadata": {
    "slideshow": {
     "slide_type": "fragment"
    }
   },
   "source": [
    "_Primitives_ are meant to serve as foundational, elementary, building blocks for users to perform quantum computations, developers to implement quantum algorithms, and researchers to solve complex problems and deliver new applications."
   ]
  },
  {
   "cell_type": "markdown",
   "id": "fe7dcba0",
   "metadata": {
    "slideshow": {
     "slide_type": "subslide"
    }
   },
   "source": [
    "## Using the Sampler primitive"
   ]
  },
  {
   "cell_type": "markdown",
   "id": "f50dd361",
   "metadata": {
    "slideshow": {
     "slide_type": "skip"
    }
   },
   "source": [
    "Similar to the `Backend` base class, there is an `Sampler` base class defined in Qiskit Terra that standardizes the way users interact with all `Sampler` implementations.\n",
    "This allows users to easily change their choice of simulator or device for performing expectation value calculations, even if the underlying implementation is different. \n",
    "\n",
    "In this section we will be using the default implementation in Qiskit Terra, which uses a local statevector simulator."
   ]
  },
  {
   "cell_type": "markdown",
   "id": "cb6af164",
   "metadata": {
    "slideshow": {
     "slide_type": "subslide"
    }
   },
   "source": [
    "### Run an isolated experiment\n"
   ]
  },
  {
   "cell_type": "code",
   "execution_count": 1,
   "id": "c7f1c0fb",
   "metadata": {
    "slideshow": {
     "slide_type": "fragment"
    }
   },
   "outputs": [
    {
     "data": {
      "image/png": "[encoded data removed]",
      "text/plain": [
       "<Figure size 568.052x204.68 with 1 Axes>"
      ]
     },
     "metadata": {},
     "output_type": "display_data"
    }
   ],
   "source": [
    "from qiskit.circuit.random import random_circuit\n",
    "from qiskit.primitives import Sampler\n",
    "\n",
    "circuit=random_circuit(2,2, seed=1).decompose(reps=1)\n",
    "circuit.measure_all()\n",
    "\n",
    "sampler = Sampler()\n",
    "job = sampler.run(circuit)\n",
    "result = job.result()\n",
    "\n",
    "display(circuit.draw(\"mpl\"))\n",
    "print(f\" > Quasi probability distribution: {result.quasi_dists[0]}\")\n",
    "print(f\" > Metadata: {result.metadata[0]}\")"
   ]
  },
  {
   "cell_type": "markdown",
   "id": "4a66c1f7",
   "metadata": {
    "slideshow": {
     "slide_type": "subslide"
    }
   },
   "source": [
    "### Run experiment bundles\n"
   ]
  },
  {
   "cell_type": "code",
   "execution_count": null,
   "id": "63a1cd7a",
   "metadata": {},
   "outputs": [],
   "source": [
    "from qiskit.circuit.random import random_circuit\n",
    "from qiskit.primitives import Sampler\n",
    "\n",
    "circuits = (\n",
    "        random_circuit(2,2, seed=0).decompose(reps=1),\n",
    "        random_circuit(2,2, seed=1).decompose(reps=1),\n",
    ")\n",
    "[c.measure_all()forcincircuits]\n",
    "\n",
    "sampler = Sampler()\n",
    "job = sampler.run(circuits)\n",
    "result = job.result()\n",
    "\n",
    "[display(cir.draw(\"mpl\")) for cir in circuits]\n",
    "print(f\" > Quasi probability distributions: {result.quasi_dists}\")\n",
    "print(f\" > Metadata: {result.metadata}\") "
   ]
  },
  {
   "cell_type": "markdown",
   "id": "532724a6",
   "metadata": {},
   "source": [
    "### Input parameterized circuits\n",
    "\n",
    "Many real world applications of quantum computers depend on preparing quantum states according to certain parametrization or _ansatz_. The Sampler primitive offers support for these scenarios by accepting parametrized circuits as inputs, along with one extra argument to bind them: `parameter_values`."
   ]
  },
  {
   "cell_type": "code",
   "execution_count": null,
   "id": "fb135925",
   "metadata": {},
   "outputs": [],
   "source": [
    "from qiskit.circuit.library import RealAmplitudes\n",
    "from qiskit.primitives import Sampler\n",
    "\n",
    "circuit = RealAmplitudes(num_qubits=2, reps=2).decompose(reps=1)\n",
    "circuit.measure_all()\n",
    "parameter_values = [0, 1, 2, 3, 4, 5]\n",
    "\n",
    "sampler = Sampler()\n",
    "job = sampler.run(circuit, parameter_values)\n",
    "result = job.result()\n",
    "\n",
    "display(circuit.draw(\"mpl\"))\n",
    "print(f\" > Parameter values: {parameter_values}\")\n",
    "print(f\" > Quasi probability distributions: {result.quasi_dists[0]}\")\n",
    "print(f\" > Metadata: {result.metadata[0]}\") "
   ]
  },
  {
   "cell_type": "markdown",
   "id": "7adbc1ae",
   "metadata": {},
   "source": [
    "## Getting started with Sampler on the runtime service \n",
    "\n",
    "Follow the steps in the [getting started guide](../getting_started.rst) to get your quantum service instance ready to use.\n",
    "\n",
    "## Start a session\n",
    "\n",
    "A Qiskit Runtime session allows you to group a collection of iterative calls to the timeshare quantum computer. A session is started when the first job of the program is dequeued. Subsequent jobs within the session are prioritized by the scheduler to minimize artificial delay within an iterative algorithm. Data used within a session, such as transpiled circuits, is also cached to avoid unnecessary overhead. You can create a Runtime session using the context manager `(with ...:)`, which automatically opens and closes the session for you.\n",
    "\n",
    "    with Session(service) as session:\n",
    "        sampler = Sampler(session=session, options=options) #primitive constructor\n",
    "\t     sampler.run(circuit, parameters, observable) #job call\n",
    "\n",
    "### Create a Sampler instance\n",
    "\n",
    "You can make one or more calls to the Sampler primitive within a session, by first creating a _Sampler_ instance. The _Sampler_ class takes in an _options_ variable to control the execution environment.\n",
    "\n",
    "The _options_ can be either a dictionary or a _qiskit_ibm_runtime.Options_ class instance. Initializing it as an _Options_ class allows you to use auto complete.\n",
    "\n",
    "Some of the settings you can specify using options:\n",
    "\n",
    "* optimization_level: How much optimization to perform on the circuits. The default is 3.\n",
    "\n",
    "* resilience_level: How much resilience to build against errors. Higher levels generate more accurate results, at the expense of longer processing times. The default is 1.\n",
    "\n",
    "You can find full details in the [Options API reference](https://qiskit.org/documentation/partners/qiskit_ibm_runtime/stubs/qiskit_ibm_runtime.options.Options.html#qiskit_ibm_runtime.options.Options).\n",
    "\n",
    "With these arguments, you can create an _Sampler_ instance with the desired options. \n",
    "\n",
    "#### Example:\n",
    "\n"
   ]
  },
  {
   "cell_type": "code",
   "execution_count": null,
   "id": "7d90a8de",
   "metadata": {},
   "outputs": [],
   "source": [
    "    from qiskit_ibm_runtime import QiskitRuntimeService, Session, Sampler, Options\n",
    "\n",
    "    service = QiskitRuntimeService()\n",
    "    options = Options(optimization_level=3)\n",
    "\n",
    "    with Session(service=service, backend=\"ibmq_qasm_simulator\"):\n",
    "        sampler = Sampler(options=options)"
   ]
  }
 ],
 "metadata": {
  "kernelspec": {
   "display_name": "Python 3 (ipykernel)",
   "language": "python",
   "name": "python3"
  },
  "language_info": {
   "codemirror_mode": {
    "name": "ipython",
    "version": 3
   },
   "file_extension": ".py",
   "mimetype": "text/x-python",
   "name": "python",
   "nbconvert_exporter": "python",
   "pygments_lexer": "ipython3",
   "version": "3.8.1"
  }
 },
 "nbformat": 4,
 "nbformat_minor": 5
}
