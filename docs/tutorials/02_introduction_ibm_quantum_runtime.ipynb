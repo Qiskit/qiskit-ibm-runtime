{
 "cells": [
  {
   "attachments": {
    "qiskit_header.png": {
     "image/png": "[encoded data removed]"
    }
   },
   "cell_type": "markdown",
   "id": "b4dbe185",
   "metadata": {},
   "source": [
    "![qiskit_header.png](attachment:qiskit_header.png)"
   ]
  },
  {
   "cell_type": "markdown",
   "id": "1de4634b",
   "metadata": {},
   "source": [
    "# Qiskit Runtime on IBM Quantum"
   ]
  },
  {
   "cell_type": "markdown",
   "id": "5affe56b",
   "metadata": {},
   "source": [
    "Prior to becoming an IBM Cloud service, Qiskit Runtime was offered on IBM Quantum. If you have an existing IBM Quantum account, you can continue using Qiskit Runtime on IBM Quantum. \n"
   ]
  },
  {
   "cell_type": "markdown",
   "id": "661260c9",
   "metadata": {},
   "source": [
    "# qiskit-ibm-runtime"
   ]
  },
  {
   "cell_type": "markdown",
   "id": "78c52686",
   "metadata": {},
   "source": [
    "`qiskit-ibm-runtime` provides the interface to interact with Qiskit Runtime. You can, for example, use it to query and execute runtime programs."
   ]
  },
  {
   "cell_type": "markdown",
   "id": "f493dc34",
   "metadata": {},
   "source": [
    "## Installation"
   ]
  },
  {
   "cell_type": "markdown",
   "id": "45361f05",
   "metadata": {},
   "source": [
    "You can install the `qiskit-ibm-runtime` package using pip:\n",
    "\n",
    "```\n",
    "pip install qiskit-ibm-runtime\n",
    "```"
   ]
  },
  {
   "cell_type": "markdown",
   "id": "95e7183a",
   "metadata": {},
   "source": [
    "## Account initialization"
   ]
  },
  {
   "cell_type": "markdown",
   "id": "df516fd9",
   "metadata": {},
   "source": [
    "Before you can start using Qiskit Runtime, you need to initialize your account. You can do this by calling `QiskitRuntimeService` with your IBM Quantum API token, which can be found on the [IBM Quantum accounts page](https://quantum-computing.ibm.com/account).\n",
    "\n",
    "You can also choose to save your credentials on disk (in the `$HOME/.qiskit/qiskit-ibm.json` file). By doing so, you only need to use `QiskitRuntimeService(channel=\"ibm_quantum\")` in the future to initialize your account.\n",
    "\n",
    "For more information about account management, such as how to delete or view an account, see [04_account_management.ipynb](04_account_management.ipynb)."
   ]
  },
  {
   "cell_type": "code",
   "execution_count": 1,
   "id": "233c286a",
   "metadata": {},
   "outputs": [],
   "source": [
    "from qiskit_ibm_runtime import QiskitRuntimeService\n",
    "\n",
    "# Save account on disk.\n",
    "# QiskitRuntimeService.save_account(channel=\"ibm_quantum\", token=<IBM Quantun API token>)\n",
    "\n",
    "# The \"channel\" keyword is not needed if you have only 1 type (ibm_quantum or ibm_cloud) of account saved.\n",
    "service = QiskitRuntimeService(channel=\"ibm_quantum\")"
   ]
  },
  {
   "cell_type": "markdown",
   "id": "61d9f293",
   "metadata": {},
   "source": [
    "## Listing programs <a name='listing_program'>"
   ]
  },
  {
   "cell_type": "markdown",
   "id": "2ed6ce38",
   "metadata": {},
   "source": [
    "There are three methods that can be used to find metadata of available programs:\n",
    "\n",
    "- `pprint_programs()`: pretty prints summary metadata of available programs\n",
    "- `programs()`: returns a list of `RuntimeProgram` instances\n",
    "- `program()`: returns a single `RuntimeProgram` instance\n",
    "\n",
    "The metadata of a runtime program includes its ID, name, description, maximum execution time, backend requirements, input parameters, return values, and interim results. Maximum execution time is the maximum amount of time, in seconds, a program can run before being forcibly terminated."
   ]
  },
  {
   "cell_type": "markdown",
   "id": "2abfb988",
   "metadata": {},
   "source": [
    "To print the summary metadata of the programs (by default first 20 programs are displayed):"
   ]
  },
  {
   "cell_type": "code",
   "execution_count": 2,
   "id": "a420f91c",
   "metadata": {},
   "outputs": [
    {
     "name": "stdout",
     "output_type": "stream",
     "text": [
      "==================================================\n",
      "hello-world:\n",
      "  Name: hello-world\n",
      "  Description: A sample runtime program.\n",
      "==================================================\n",
      "qaoa:\n",
      "  Name: qaoa\n",
      "  Description: Qiskit Runtime QAOA program.\n",
      "==================================================\n",
      "torch-train:\n",
      "  Name: torch-train\n",
      "  Description: (DEPRECATED) A runtime program to train hybrid QNN models with Pytorch.\n",
      "==================================================\n",
      "torch-infer:\n",
      "  Name: torch-infer\n",
      "  Description: (DEPRECATED) A runtime program to run inference and calculate the scores of Hybrid QNN models with Pytorch.\n",
      "==================================================\n",
      "qasm3-runner:\n",
      "  Name: qasm3-runner\n",
      "  Description: A runtime program that takes one or more circuits, converts them to OpenQASM3, compiles them, executes them, and optionally applies measurement error mitigation. This program can also take and execute one or more OpenQASM3 strings. Note that this program can only run on a backend that supports OpenQASM3.\n",
      "==================================================\n",
      "sampler:\n",
      "  Name: sampler\n",
      "  Description: Generates quasi-probabilities by sampling quantum circuits.\n",
      "==================================================\n",
      "estimator:\n",
      "  Name: estimator\n",
      "  Description: Calculates expectation values of quantum operators.\n",
      "==================================================\n",
      "sample-expval:\n",
      "  Name: sample-expval\n",
      "  Description: (DEPRECATED) A sample expectation value program.\n",
      "==================================================\n",
      "vqe:\n",
      "  Name: vqe\n",
      "  Description: Variational Quantum Eigensolver (VQE) to find the minimal eigenvalue of a Hamiltonian.\n",
      "==================================================\n",
      "circuit-runner:\n",
      "  Name: circuit-runner\n",
      "  Description: A runtime program that takes one or more circuits, compiles them, executes them, and optionally applies measurement error mitigation.\n",
      "==================================================\n",
      "sample-program:\n",
      "  Name: sample-program\n",
      "  Description: (DEPRECATED) A sample runtime program. This runtime program is deprecated, please use hello-world instead.\n",
      "==================================================\n",
      "quantum-kernel-alignment:\n",
      "  Name: quantum-kernel-alignment\n",
      "  Description: (DEPRECATED) Quantum kernel alignment algorithm that learns, on a given dataset, a quantum kernel maximizing the SVM classification margin.\n"
     ]
    }
   ],
   "source": [
    "service.pprint_programs(limit=None)"
   ]
  },
  {
   "cell_type": "markdown",
   "id": "0a5ca5f5",
   "metadata": {},
   "source": [
    "You can use the `limit` and `skip` parameters in `pprint_programs()` and `programs()` to page through all programs. \n",
    "\n",
    "You can pass `detailed=True` parameter to `pprint_programs()` to view all the metadata for the programs. \n",
    "\n",
    "The program metadata, once fetched, is cached for performance reasons. But you can pass the `refresh=True` parameter  to get the latest data from the server. "
   ]
  },
  {
   "cell_type": "markdown",
   "id": "b1983145",
   "metadata": {},
   "source": [
    "To print the metadata of the program `hello-world`:"
   ]
  },
  {
   "cell_type": "code",
   "execution_count": 3,
   "id": "f8302b63",
   "metadata": {},
   "outputs": [
    {
     "name": "stdout",
     "output_type": "stream",
     "text": [
      "hello-world:\n",
      "  Name: hello-world\n",
      "  Description: A sample runtime program.\n",
      "  Creation date: 2022-01-05T20:42:53.722892Z\n",
      "  Update date: 2022-09-27T18:46:45.704881Z\n",
      "  Max execution time: 600\n",
      "  Backend requirements:\n",
      "    Minimum number of qubits: 5\n",
      "  Input parameters:\n",
      "    Properties:\n",
      "        - iterations:\n",
      "            Default: 1\n",
      "            Description: Number of iterations to run. Each iteration generates and runs a random circuit.\n",
      "            Minimum: 0\n",
      "            Type: integer\n",
      "            Required: False\n",
      "  Interim results:\n",
      "    Properties:\n",
      "        - counts:\n",
      "            Description: Histogram data of the circuit result.\n",
      "            Type: object\n",
      "            Required: False\n",
      "        - iteration:\n",
      "            Description: Iteration number.\n",
      "            Type: integer\n",
      "            Required: False\n",
      "  Returns:\n",
      "    Description: A string that says 'Hello, World!'.\n",
      "    Type: string\n"
     ]
    }
   ],
   "source": [
    "program = service.program(\"hello-world\")\n",
    "print(program)"
   ]
  },
  {
   "cell_type": "markdown",
   "id": "ec37a66c",
   "metadata": {},
   "source": [
    "As you can see from above, the program `hello-world` is a simple program that has only 1 input parameter `iterations`, which indicates how many iterations to run. For each iteration it generates and runs a random 5-qubit circuit and returns the counts as well as the iteration number as the interim results. When the program finishes, it returns the sentence `Hello, World!`. This program can only run for 300 seconds (5 minutes), and requires a backend that has at least 5 qubits."
   ]
  },
  {
   "cell_type": "markdown",
   "id": "8097db3a",
   "metadata": {},
   "source": [
    "## Invoking a runtime program <a name='invoking_program'>"
   ]
  },
  {
   "cell_type": "markdown",
   "id": "b6d680a3",
   "metadata": {},
   "source": [
    "You can use the [QiskitRuntimeService.run()](https://qiskit.org/documentation/partners/qiskit_ibm_runtime/stubs/qiskit_ibm_runtime.QiskitRuntimeService.html#qiskit_ibm_runtime.QiskitRuntimeService.run) method to invoke a runtime program. This method takes the following parameters:\n",
    "\n",
    "- `program_id`: ID of the program to run.\n",
    "- `inputs`: Program input parameters. These input values are passed to the runtime program.\n",
    "- `options`: Runtime options. These options control the execution environment. Currently the only available option is `backend_name`, which is required.\n",
    "- `callback`: Callback function to be invoked for any interim results and final result. The callback function will receive two positional parameters: job ID and result.\n",
    "- `result_decoder`: Optional class used to decode the job result."
   ]
  },
  {
   "cell_type": "markdown",
   "id": "abe247c4",
   "metadata": {},
   "source": [
    "Before we run a quantum program, we may want to define a callback function that would process interim results, which are intermediate data provided by a program while it's still running and also the final result. \n",
    "\n",
    "As we saw earlier, the metadata of `hello-world` says that its interim results are the iteration number and the counts of the randomly generated circuit. Here we define a simple callback function that just prints these results:"
   ]
  },
  {
   "cell_type": "code",
   "execution_count": 4,
   "id": "92f46214",
   "metadata": {},
   "outputs": [],
   "source": [
    "def result_callback(job_id, result):\n",
    "    print(f\"result: {result}\")"
   ]
  },
  {
   "cell_type": "markdown",
   "id": "3f9e793f",
   "metadata": {},
   "source": [
    "The following example runs the `hello-world` program with 3 iterations and waits for its result:"
   ]
  },
  {
   "cell_type": "code",
   "execution_count": 5,
   "id": "d622e53c",
   "metadata": {},
   "outputs": [
    {
     "name": "stdout",
     "output_type": "stream",
     "text": [
      "job id: c7f3i9a0jbtu2e0bc440\n",
      "result: {'iteration': 0, 'counts': {'00000': 1024}}\n",
      "result: {'iteration': 1, 'counts': {'01111': 119, '01101': 129, '00111': 381, '00101': 395}}\n",
      "result: {'iteration': 2, 'counts': {'01001': 52, '00001': 44, '01000': 462, '00000': 466}}\n",
      "result: Hello, World!\n",
      "Hello, World!\n"
     ]
    }
   ],
   "source": [
    "# Specify the program inputs here.\n",
    "program_inputs = {\"iterations\": 3}\n",
    "\n",
    "# Specify the backend name.\n",
    "options = {\"backend\": \"ibmq_qasm_simulator\"}\n",
    "\n",
    "job = service.run(\n",
    "    program_id=\"hello-world\",\n",
    "    options=options,\n",
    "    inputs=program_inputs,\n",
    "    callback=result_callback,\n",
    ")\n",
    "\n",
    "# Printing the job ID in case we need to retrieve it later.\n",
    "print(f\"job id: {job.job_id()}\")\n",
    "\n",
    "# Get the job result - this is blocking and control may not return immediately.\n",
    "result = job.result()\n",
    "print(result)"
   ]
  },
  {
   "cell_type": "markdown",
   "id": "0d7284f8",
   "metadata": {},
   "source": [
    "In the example above, we ran `hello-world` on the backend `ibmq_qasm_simulator`. A **backend** is a quantum device or simulator capable of running quantum circuits or pulse schedules, and you can use any backend that you have access to. \n",
    "\n",
    "If the backend you choose can be accessed from more than one hub/group/project, the first one that meets the following criteria is selected:\n",
    "\n",
    "1. The `instance` parameter specified when calling the `run()` method.\n",
    "2. The default `instance` set when saving the account.\n",
    "3. A non-open hub/group/project in your account. This is chosen at random if you have multiple. \n",
    "4. The open access hub/group/project.\n",
    "\n",
    "For more information about listing backends and their data see [03_backends.ipynb](03_backends.ipynb)."
   ]
  },
  {
   "cell_type": "markdown",
   "id": "237e2dd1",
   "metadata": {},
   "source": [
    "### Runtime job"
   ]
  },
  {
   "cell_type": "markdown",
   "id": "1cb7b160",
   "metadata": {},
   "source": [
    "The `run()` method returns a [RuntimeJob](https://qiskit.org/documentation/partners/qiskit_ibm_runtime/stubs/qiskit_ibm_runtime.RuntimeJob.html#qiskit_ibm_runtime.RuntimeJob) instance, which represents the asynchronous execution instance of the program. \n",
    "\n",
    "Some of the `RuntimeJob` methods:\n",
    "\n",
    "- `status()`: Return job status.\n",
    "- `result()`: Wait for the job to finish and return the final result.\n",
    "- `cancel()`: Cancel the job.\n",
    "- `wait_for_final_state()`: Wait for the job to finish.\n",
    "- `stream_results()`: Stream interim results and final result. This can be used to start streaming the results if a `callback` function was not passed to the `run()` method. This method can also be used to reconnect a lost websocket connection.\n",
    "- `logs()`: Return job logs.\n",
    "- `error_message()`: Returns the reason if the job failed and `None` otherwise.\n",
    "- `job_id()`: Unique identifier of the job.\n",
    "- `backend()`: The backend where the job is run.\n",
    "\n",
    "Some of the `RuntimeJob` attributes:\n",
    "\n",
    "- `program_id`: ID of the program the execution is for.\n",
    "\n",
    "\n",
    "Refer to the [RuntimeJob API documentation](https://qiskit.org/documentation/partners/qiskit_ibm_runtime/stubs/qiskit_ibm_runtime.RuntimeJob.html#qiskit_ibm_runtime.RuntimeJob) for a full list of methods and usage. "
   ]
  },
  {
   "cell_type": "markdown",
   "id": "present-creature",
   "metadata": {},
   "source": [
    "<div class=\"alert alert-block alert-info\">\n",
    "<b>Note:</b> To ensure fairness, there is a maximum execution time for each Qiskit Runtime job. Refer to <a href=\"https://qiskit.org/documentation/partners/qiskit_ibm_runtime/max_time.html#qiskit-runtime-on-ibm-quantum-ibm-quantum\">this documentation</a> on what the time limit is.\n",
    "</div>"
   ]
  },
  {
   "cell_type": "markdown",
   "id": "821630b0",
   "metadata": {},
   "source": [
    "## Retrieving previously run jobs"
   ]
  },
  {
   "cell_type": "markdown",
   "id": "ed6efcd4",
   "metadata": {},
   "source": [
    "You can use the [QiskitRuntimeService.job()](https://qiskit.org/documentation/partners/qiskit_ibm_runtime/stubs/qiskit_ibm_runtime.QiskitRuntimeService.html#qiskit_ibm_runtime.QiskitRuntimeService.job) method to retrieve a previously executed runtime job. Attributes of this [RuntimeJob](https://qiskit.org/documentation/partners/qiskit_ibm_runtime/stubs/qiskit_ibm_runtime.RuntimeJob.html#qiskit_ibm_runtime.RuntimeJob) instance can tell you about the execution:"
   ]
  },
  {
   "cell_type": "code",
   "execution_count": 6,
   "id": "4336b881",
   "metadata": {},
   "outputs": [
    {
     "name": "stdout",
     "output_type": "stream",
     "text": [
      "Job c7f3i9a0jbtu2e0bc440 is an execution instance of runtime program hello-world.\n",
      "This job ran on backend ibmq_qasm_simulator and had input parameters {'iterations': 3}\n"
     ]
    }
   ],
   "source": [
    "retrieved_job = service.job(job.job_id())\n",
    "print(\n",
    "    f\"Job {retrieved_job.job_id()} is an execution instance of runtime program {retrieved_job.program_id}.\"\n",
    ")\n",
    "print(\n",
    "    f\"This job ran on backend {retrieved_job.backend()} and had input parameters {retrieved_job.inputs}\"\n",
    ")"
   ]
  },
  {
   "cell_type": "markdown",
   "id": "5c00514e",
   "metadata": {},
   "source": [
    "Similarly, you can use [QiskitRuntimeService.jobs()](https://qiskit.org/documentation/partners/qiskit_ibm_runtime/stubs/qiskit_ibm_runtime.QiskitRuntimeService.html#qiskit_ibm_runtime.QiskitRuntimeService.jobs) to get a list of jobs. You can specify a limit on how many jobs to return. The default limit is 10:"
   ]
  },
  {
   "cell_type": "code",
   "execution_count": 7,
   "id": "919862b8",
   "metadata": {},
   "outputs": [
    {
     "name": "stdout",
     "output_type": "stream",
     "text": [
      "c7f3i9a0jbtu2e0bc440\n"
     ]
    }
   ],
   "source": [
    "retrieved_jobs = service.jobs(limit=1)\n",
    "for rjob in retrieved_jobs:\n",
    "    print(rjob.job_id())"
   ]
  },
  {
   "cell_type": "markdown",
   "id": "d6f8f1d2",
   "metadata": {},
   "source": [
    "## Deleting a job"
   ]
  },
  {
   "cell_type": "markdown",
   "id": "81234913",
   "metadata": {},
   "source": [
    "You can use the [QiskitRuntimeService.delete_job()](https://qiskit.org/documentation/partners/qiskit_ibm_runtime/stubs/qiskit_ibm_runtime.QiskitRuntimeService.html#qiskit_ibm_runtime.QiskitRuntimeService.delete_job) method to delete a job. You can only delete your own jobs, and this action cannot be reversed. "
   ]
  },
  {
   "cell_type": "code",
   "execution_count": 8,
   "id": "b1095852",
   "metadata": {},
   "outputs": [],
   "source": [
    "service.delete_job(job.job_id())"
   ]
  },
  {
   "cell_type": "markdown",
   "id": "f9de0475",
   "metadata": {},
   "source": [
    "# Next steps"
   ]
  },
  {
   "cell_type": "markdown",
   "id": "b3501511",
   "metadata": {},
   "source": [
    "There are additional tutorials in this directory:\n",
    "\n",
    "- [03_backends.ipynb](03_backends.ipynb) describes how to find a target backend for the Qiskit Runtime program you want to invoke. \n",
    "- [04_account_management.ipynb](04_account_management.ipynb) describes how to save, load, and delete your account credentials on disk.\n",
    "- [05_uploading_program.ipynb](05_uploading_program.ipynb) is an introduction on uploading your custom Qiskit Runtime program.\n",
    "- [qiskit_runtime_vqe_program.ipynb](sample_vqe_program/qiskit_runtime_vqe_program.ipynb) goes into more details on uploading a real-world program (VQE). \n",
    "- [vqe.ipynb](vqe.ipynb) describe how to use the public programs `vqe`. This program is currently only available on Qiskit Runtime on IBM Quantum."
   ]
  },
  {
   "cell_type": "code",
   "execution_count": 9,
   "id": "97e6b167",
   "metadata": {},
   "outputs": [
    {
     "data": {
      "text/html": [
       "<div style='width: 100%; background-color:#d5d9e0;padding-left: 10px; padding-bottom: 10px; padding-right: 10px; padding-top: 5px'><h3>This code is a part of Qiskit</h3><p>&copy; Copyright IBM 2017, 2022.</p><p>This code is licensed under the Apache License, Version 2.0. You may<br>obtain a copy of this license in the LICENSE.txt file in the root directory<br> of this source tree or at http://www.apache.org/licenses/LICENSE-2.0.<p>Any modifications or derivative works of this code must retain this<br>copyright notice, and modified files need to carry a notice indicating<br>that they have been altered from the originals.</p></div>"
      ],
      "text/plain": [
       "<IPython.core.display.HTML object>"
      ]
     },
     "metadata": {},
     "output_type": "display_data"
    }
   ],
   "source": [
    "from qiskit.tools.jupyter import *\n",
    "\n",
    "%qiskit_copyright"
   ]
  }
 ],
 "metadata": {
  "kernelspec": {
   "display_name": "Python 3 (ipykernel)",
   "language": "python",
   "name": "python3"
  },
  "language_info": {
   "codemirror_mode": {
    "name": "ipython",
    "version": 3
   },
   "file_extension": ".py",
   "mimetype": "text/x-python",
   "name": "python",
   "nbconvert_exporter": "python",
   "pygments_lexer": "ipython3",
   "version": "3.8.1"
  }
 },
 "nbformat": 4,
 "nbformat_minor": 5
}
