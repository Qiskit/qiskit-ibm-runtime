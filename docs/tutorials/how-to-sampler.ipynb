{
 "cells": [
  {
   "cell_type": "markdown",
   "id": "1477f3a0",
   "metadata": {},
   "source": [
    "# Get started with the Sampler primitive\n",
    "\n",
    "Learn how to set up and use the Sampler primitive program.\n",
    "\n",
    "\n",
    "## Overview\n",
    "\n",
    "The Sampler primitive lets you more accurately contextualize counts. It takes a user circuit as an input and generates an error-mitigated readout of quasiprobabilities. This enables you to more efficiently evaluate the possibility of multiple relevant data points in the context of destructive interference.  \n",
    "\n",
    "\n",
    "## Prepare the environment\n",
    "\n",
    "1. Follow the steps in the [getting started guide](/docs/quantum-computing?topic=quantum-computing-quickstart) to get your Quantum Service instance ready to use.\n",
    "2. You'll need at least one circuit to submit to the program. Our examples all have circuits in them, but if you want to submit your own circuit, you can use Qiskit to create one. To learn how to create circuits by using Qiskit, see the [Circuit basics tutorial](https://qiskit.org/documentation/tutorials/circuits/01_circuit_basics.html).\n",
    "\n",
    "\n",
    "## Start a session\n",
    "\n",
    "With Qiskit Runtime primitives, we introduce the concept of a session or a factory that allows you to define a job as a collection of iterative calls to the quantum computer. When you start a session, it caches the data you send so it doesn't have to be transmitted to the Quantum Datacenter on each iteration.\n",
    "\n",
    "\n",
    "### Specify program inputs\n",
    "\n",
    "The Sampler takes in:\n",
    "* The **circuits** you want to investigate.\n",
    "* The **parameters** input to evaluate the circuits.\n",
    "* Optional: The **backend** to run on. If one is not specified, the least busy backend is used. To learn about choosing a backend, see [Choose a backend](/docs/quantum-computing?topic=quantum-computing-choose-backend).\n",
    "* Optional: The instruction to **skip_transpilation**.\n",
    "\n",
    "Example:"
   ]
  },
  {
   "cell_type": "code",
   "execution_count": null,
   "id": "1c47615b",
   "metadata": {},
   "outputs": [],
   "source": [
    "from qiskit_ibm_runtime import QiskitRuntimeService, Sampler\n",
    "from qiskit import QuantumCircuit\n",
    "\n",
    "service = QiskitRuntimeService()\n",
    "\n",
    "bell = QuantumCircuit(2)\n",
    "bell.h(0)\n",
    "bell.cx(0, 1)\n",
    "bell.measure_all()"
   ]
  },
  {
   "cell_type": "markdown",
   "id": "9e881248",
   "metadata": {},
   "source": [
    "## Write to & read from a session\n",
    "\n",
    "Running a job and returning the results are done by writing to and reading from the session. The session closes when the code exits the `with` block.\n",
    "\n",
    "\n",
    "### Run the job & print results\n",
    "\n",
    "Run the job, specifying your previously defined inputs and options. In this simple example, there is only one circuit and it does not have parameters.\n",
    "\n",
    "In each call, you will use `circuit_indices` to specify which circuit to run and, if applicable,  `parameter_values` specifies which parameter to use with the specified circuit.\n",
    "\n",
    "In this example, we specified one circuit, `circuits=bell`, and we asked for the result for running the first (and only) circuit: `circuit_indices=[0]`.\n",
    "\n",
    "As you will see in later examples, if we had specified multiple circuits, such as `circuits=[pqc, pqc2]`, you could specify `circuit_indices=[1]` to run the `pqc2` circuit."
   ]
  },
  {
   "cell_type": "code",
   "execution_count": null,
   "id": "242d2262",
   "metadata": {},
   "outputs": [],
   "source": [
    "# executes a Bell circuit\n",
    "with Sampler(circuits=bell, service=service, options={ \"backend\": \"ibmq_qasm_simulator\" }) as sampler:\n",
    "    result = sampler(circuit_indices=[0], shots=1024)\n",
    "    print(result)"
   ]
  },
  {
   "cell_type": "markdown",
   "id": "cbabe6ce",
   "metadata": {},
   "source": [
    "```text\n",
    "SamplerResult(quasi_dists=[{'00': 0.4873046875, '11': 0.5126953125}], metadata=[{'header_metadata': None, 'shots': 1024}])\n",
    "```\n",
    "\n",
    "## Multiple circuit example\n",
    "\n",
    "In this example, we specify three circuits, but they have no parameters:"
   ]
  },
  {
   "cell_type": "code",
   "execution_count": null,
   "id": "bcaed9dc",
   "metadata": {},
   "outputs": [],
   "source": [
    "from qiskit_ibm_runtime import QiskitRuntimeService, Sampler\n",
    "from qiskit import QuantumCircuit\n",
    "\n",
    "service = QiskitRuntimeService(channel=\"ibm_cloud\", token=\"<api-token>\", instance=\"<IBM Cloud CRN>\")\n",
    "\n",
    "bell = QuantumCircuit(2)\n",
    "bell.h(0)\n",
    "bell.cx(0, 1)\n",
    "bell.measure_all()\n",
    "\n",
    "# executes three Bell circuits\n",
    "with Sampler(circuits=[bell]*3, service=service, options={ \"backend\": \"ibmq_qasm_simulator\" }) as sampler:\n",
    "    result = sampler(circuit_indices=[0, 1, 2])\n",
    "    print(result)"
   ]
  },
  {
   "cell_type": "markdown",
   "id": "629f17c9",
   "metadata": {},
   "source": [
    "```text\n",
    "SamplerResult(quasi_dists=[{'11': 0.5009765625, '00': 0.4990234375}, {'11': 0.5224609375, '00': 0.4775390625}, {'11': 0.4921875, '00': 0.5078125}], metadata=[{'header_metadata': None, 'shots': 1024}, {'header_metadata': None, 'shots': 1024}, {'header_metadata': None, 'shots': 1024}])\n",
    "SamplerResult(quasi_dists=[{'00': 0.5185546875, '11': 0.4814453125}, {'11': 0.498046875, '00': 0.501953125}], metadata=[{'header_metadata': None, 'shots': 1024}, {'header_metadata': None, 'shots': 1024}])\n",
    "SamplerResult(quasi_dists=[{'00': 0.458984375, '11': 0.541015625}, {'11': 0.49609375, '00': 0.50390625}], metadata=[{'header_metadata': None, 'shots': 1024}, {'header_metadata': None, 'shots': 1024}])\n",
    "```\n",
    "\n",
    "\n",
    "## Multiple parameterized circuits example\n",
    "\n",
    "In this example, we run multiple parameterized circuits. When it is run, this line `result = sampler(circuit_indices=[0, 0, 1], parameter_values=[theta1, theta2, theta3])` specifies which parameter to send to each circuit.  \n",
    "\n",
    "In our example, the parameter labeled `theta` is sent to the first circuit, `theta2` is sent to the first circuit, and `theta3` is sent to the second circuit."
   ]
  },
  {
   "cell_type": "code",
   "execution_count": null,
   "id": "4d0d70f6",
   "metadata": {},
   "outputs": [],
   "source": [
    "from qiskit_ibm_runtime import QiskitRuntimeService, Sampler\n",
    "from qiskit import QuantumCircuit\n",
    "from qiskit.circuit.library import RealAmplitudes\n",
    "\n",
    "service = QiskitRuntimeService(channel=\"ibm_cloud\", token=\"<api-token>\", instance=\"<IBM Cloud CRN>\")\n",
    "\n",
    "# parameterized circuit\n",
    "pqc = RealAmplitudes(num_qubits=2, reps=2)\n",
    "pqc.measure_all()\n",
    "pqc2 = RealAmplitudes(num_qubits=2, reps=3)\n",
    "pqc2.measure_all()\n",
    "\n",
    "theta1 = [0, 1, 1, 2, 3, 5]\n",
    "theta2 = [1, 2, 3, 4, 5, 6]\n",
    "theta3 = [0, 1, 2, 3, 4, 5, 6, 7]\n",
    "\n",
    "with Sampler(circuits=[pqc, pqc2], service=service, options={ \"backend\": \"ibmq_qasm_simulator\" }) as sampler:\n",
    "    result = sampler(circuit_indices=[0, 0, 1], parameter_values=[theta1, theta2, theta3])\n",
    "    print(result)"
   ]
  },
  {
   "cell_type": "markdown",
   "id": "c1c6c769",
   "metadata": {},
   "source": [
    "### Result\n",
    "\n",
    "The results align with the parameter - circuit pairs specified previously.  For example, the first result (`{'11': 0.42578125, '00': 0.14453125, '10': 0.0888671875, '01': 0.3408203125}`) is the output of the parameter labeled `theta` being sent to the first circuit.\n",
    "\n",
    "```text\n",
    "SamplerResult(quasi_dists=[{'11': 0.42578125, '00': 0.14453125, '10': 0.0888671875, '01': 0.3408203125}, {'01': 0.025390625, '11': 0.3046875, '00': 0.0615234375, '10': 0.6083984375}, {'11': 0.0224609375, '00': 0.171875, '10': 0.095703125, '01': 0.7099609375}], metadata=[{'header_metadata': None, 'shots': 1024}, {'header_metadata': None, 'shots': 1024}, {'header_metadata': None, 'shots': 1024}])\n",
    "```"
   ]
  }
 ],
 "metadata": {
  "kernelspec": {
   "display_name": "Python 3 (ipykernel)",
   "language": "python",
   "name": "python3"
  },
  "language_info": {
   "codemirror_mode": {
    "name": "ipython",
    "version": 3
   },
   "file_extension": ".py",
   "mimetype": "text/x-python",
   "name": "python",
   "nbconvert_exporter": "python",
   "pygments_lexer": "ipython3",
   "version": "3.9.10"
  }
 },
 "nbformat": 4,
 "nbformat_minor": 5
}
