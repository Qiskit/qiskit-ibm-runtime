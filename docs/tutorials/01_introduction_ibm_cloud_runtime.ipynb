{
 "cells": [
  {
   "attachments": {
    "qiskit_header.png": {
     "image/png": "[encoded data removed]"
    }
   },
   "cell_type": "markdown",
   "id": "3fd63bbe",
   "metadata": {},
   "source": [
    "![qiskit_header.png](attachment:qiskit_header.png)"
   ]
  },
  {
   "cell_type": "markdown",
   "id": "1de4634b",
   "metadata": {},
   "source": [
    "# Qiskit Runtime on IBM Cloud"
   ]
  },
  {
   "cell_type": "markdown",
   "id": "5affe56b",
   "metadata": {},
   "source": [
    "Qiskit Runtime is now part of the IBM Quantum Services on IBM Cloud. To use this service, you'll need to create an IBM Cloud account and a quantum service instance. [This guide](https://cloud.ibm.com/docs/quantum-computing?topic=quantum-computing-gettingstarted) contains step-by-step instructions on setting this up, including directions to find your IBM Cloud API key and Cloud Resource Name (CRN), which you will need later in this tutorial. \n",
    "\n",
    "This tutorial assumes that you know how to use Qiskit, including using it to create circuits. If you are not familiar with Qiskit, the [Qiskit Textbook](https://qiskit.org/textbook/preface.html) is a great resource to learn about both Qiskit and quantum computation in general. "
   ]
  },
  {
   "cell_type": "markdown",
   "id": "661260c9",
   "metadata": {},
   "source": [
    "# qiskit-ibm-runtime"
   ]
  },
  {
   "cell_type": "markdown",
   "id": "78c52686",
   "metadata": {},
   "source": [
    "Once you have an IBM Cloud account and service instance set up, you can use `qiskit-ibm-runtime` to access Qiskit Runtime on IBM Cloud. `qiskit-ibm-runtime` provides the interface to interact with Qiskit Runtime. You can, for example, use it to query and execute runtime programs."
   ]
  },
  {
   "cell_type": "markdown",
   "id": "97412986",
   "metadata": {},
   "source": [
    "## Installation"
   ]
  },
  {
   "cell_type": "markdown",
   "id": "f960fc45",
   "metadata": {},
   "source": [
    "You can install the `qiskit-ibm-runtime` package using pip:\n",
    "\n",
    "```\n",
    "pip install qiskit-ibm-runtime\n",
    "```"
   ]
  },
  {
   "cell_type": "markdown",
   "id": "e0afbae9",
   "metadata": {},
   "source": [
    "## Account initialization"
   ]
  },
  {
   "cell_type": "markdown",
   "id": "df516fd9",
   "metadata": {},
   "source": [
    "Before you can start using Qiskit Runtime, you need to initialize your account by calling `QiskitRuntimeService` with your IBM Cloud API key and the CRN or service name of your service instance.\n",
    "\n",
    "You can also choose to save your credentials on disk (in the `$HOME/.qiskit/qiskit-ibm.json` file). By doing so, you only need to use `QiskitRuntimeService()` in the future to initialize your account.\n",
    "\n",
    "For more information about account management, such as how to delete or view an account, see [04_account_management.ipynb](04_account_management.ipynb). "
   ]
  },
  {
   "cell_type": "markdown",
   "id": "8d6bb1e0",
   "metadata": {},
   "source": [
    "<div class=\"alert alert-block alert-info\">\n",
    "<b>Note:</b> Account credentials are saved in plain text, so only do so if you are using a trusted device. \n",
    "</div>"
   ]
  },
  {
   "cell_type": "code",
   "execution_count": 1,
   "id": "233c286a",
   "metadata": {},
   "outputs": [],
   "source": [
    "from qiskit_ibm_runtime import QiskitRuntimeService\n",
    "\n",
    "# Save account on disk.\n",
    "# QiskitRuntimeService.save_account(channel=\"ibm_cloud\", token=<IBM Cloud API key>, instance=<IBM Cloud CRN> or <IBM Cloud service name>)\n",
    "\n",
    "service = QiskitRuntimeService()"
   ]
  },
  {
   "cell_type": "markdown",
   "id": "b09c438b",
   "metadata": {},
   "source": [
    "The `<IBM Cloud API key>` in the example above is your IBM Cloud API key and looks something like\n",
    "\n",
    "```\n",
    "kYgdggnD-qx5k2u0AAFUKv3ZPW_avg0eQ9sK75CCW7hw\n",
    "```\n",
    "\n",
    "The `<IBM Cloud CRN>` is the Cloud Resource Name and looks something like\n",
    "\n",
    "```\n",
    "crn:v1:bluemix:public:quantum-computing:us-east:a/b947c1c5a9378d64aed96696e4d76e8e:a3a7f181-35aa-42c8-94d6-7c8ed6e1a94b::\n",
    "```\n",
    "\n",
    "The `<IBM Cloud service name>` is user-provided and defaults to something like\n",
    "```\n",
    "Quantum Services-9p\n",
    "```\n",
    "If you choose to set `instance` to the service name, the initialization time of the `QiskitRuntimeService` is slightly higher because the required `CRN` value is internally resolved via IBM Cloud APIs."
   ]
  },
  {
   "cell_type": "markdown",
   "id": "61d9f293",
   "metadata": {},
   "source": [
    "## Listing programs <a name='listing_program'>"
   ]
  },
  {
   "cell_type": "markdown",
   "id": "2ed6ce38",
   "metadata": {},
   "source": [
    "There are three methods that can be used to find metadata of available programs:\n",
    "- `pprint_programs()`: pretty prints summary metadata of available programs\n",
    "- `programs()`: returns a list of `RuntimeProgram` instances\n",
    "- `program()`: returns a single `RuntimeProgram` instance\n",
    "\n",
    "The metadata of a runtime program includes its ID, name, description, maximum execution time, backend requirements, input parameters, and return values. Maximum execution time is the maximum amount of time, in seconds, a program can run before being forcibly terminated."
   ]
  },
  {
   "cell_type": "markdown",
   "id": "2abfb988",
   "metadata": {},
   "source": [
    "To print the summary metadata of the programs (by default first 20 programs are displayed):"
   ]
  },
  {
   "cell_type": "code",
   "execution_count": 2,
   "id": "a420f91c",
   "metadata": {},
   "outputs": [
    {
     "name": "stdout",
     "output_type": "stream",
     "text": [
      "==================================================\n",
      "hello-world:\n",
      "  Name: hello-world\n",
      "  Description: Get started by running this simple test program.\n",
      "==================================================\n",
      "sampler:\n",
      "  Name: sampler\n",
      "  Description: Generates quasi-probabilities by sampling quantum circuits.\n",
      "==================================================\n",
      "estimator:\n",
      "  Name: estimator\n",
      "  Description: Calculates expectation values of quantum operators.\n"
     ]
    }
   ],
   "source": [
    "service.pprint_programs(limit=None)"
   ]
  },
  {
   "cell_type": "markdown",
   "id": "0a5ca5f5",
   "metadata": {},
   "source": [
    "You can use the `limit` and `skip` parameters in `pprint_programs()` and `programs()` to page through all programs. \n",
    "\n",
    "You can pass `detailed=True` parameter to `pprint_programs()` to view all the metadata for the programs. \n",
    "\n",
    "The program metadata, once fetched, is cached for performance reasons. But you can pass the `refresh=True` parameter  to get the latest data from the server. "
   ]
  },
  {
   "cell_type": "markdown",
   "id": "b1983145",
   "metadata": {},
   "source": [
    "To print the metadata of the program `sampler`:"
   ]
  },
  {
   "cell_type": "code",
   "execution_count": 3,
   "id": "f8302b63",
   "metadata": {},
   "outputs": [
    {
     "name": "stdout",
     "output_type": "stream",
     "text": [
      "sampler:\n",
      "  Name: sampler\n",
      "  Description: Generates quasi-probabilities by sampling quantum circuits.\n",
      "  Creation date: 2021-10-26T14:41:57Z\n",
      "  Update date: 2022-03-14T17:12:06.298047Z\n",
      "  Max execution time: 10000\n",
      "  Backend requirements:\n",
      "    none\n",
      "  Input parameters:\n",
      "    Properties:\n",
      "        - circuit_indices:\n",
      "            Description: Indices of the circuits to evaluate.\n",
      "            Type: array\n",
      "            Required: True\n",
      "        - circuits:\n",
      "            Description: A single or list of QuantumCircuits.\n",
      "            Type: ['array', 'object']\n",
      "            Required: True\n",
      "        - parameter_values:\n",
      "            Description: Concrete parameters to be bound.\n",
      "            Type: array\n",
      "            Required: False\n",
      "        - parameters:\n",
      "            Description: Parameters of the quantum circuits.\n",
      "            Type: array\n",
      "            Required: False\n",
      "        - run_options:\n",
      "            Description: A collection of key-value pairs identifying the execution options, such as shots.\n",
      "            Type: object\n",
      "            Required: False\n",
      "        - skip_transpilation:\n",
      "            Default: False\n",
      "            Description: Whether to skip circuit transpilation.\n",
      "            Type: boolean\n",
      "            Required: False\n",
      "  Interim results:\n",
      "    none\n",
      "  Returns:\n",
      "    Properties:\n",
      "        - metadata:\n",
      "            Description: Additional metadata.\n",
      "            Type: array\n",
      "            Required: False\n",
      "        - quasi_dists:\n",
      "            Description: List of quasi-probabilities returned for each circuit.\n",
      "            Type: array\n",
      "            Required: False\n"
     ]
    }
   ],
   "source": [
    "program = service.program(\"sampler\")\n",
    "print(program)"
   ]
  },
  {
   "cell_type": "markdown",
   "id": "ec37a66c",
   "metadata": {},
   "source": [
    "As you can see from above, the primitive `sampler` calculates the distributions generated by given circuits executed on the target backend. It takes a number of parameters, but `circuits` and `circuit_indices` are the only required parameters. When the program finishes, it returns the quasi-probabilities for each circuit."
   ]
  },
  {
   "cell_type": "markdown",
   "id": "8097db3a",
   "metadata": {},
   "source": [
    "## Invoking a runtime program <a name='invoking_program'>"
   ]
  },
  {
   "cell_type": "markdown",
   "id": "b6d680a3",
   "metadata": {},
   "source": [
    "You can use the [QiskitRuntimeService.run()](https://qiskit.org/documentation/partners/qiskit_ibm_runtime/stubs/qiskit_ibm_runtime.QiskitRuntimeService.html#qiskit_ibm_runtime.QiskitRuntimeService.run) method to invoke a runtime program. This method takes the following parameters:\n",
    "\n",
    "- `program_id`: ID of the program to run.\n",
    "- `inputs`: Program input parameters. These input values are passed to the runtime program.\n",
    "- `options`: Runtime options. These options control the execution environment. Currently the only available option is `backend_name`, which is optional for cloud runtime.\n",
    "- `result_decoder`: Optional class used to decode the job result."
   ]
  },
  {
   "cell_type": "markdown",
   "id": "3f9e793f",
   "metadata": {},
   "source": [
    "Below is an example of invoking the `sampler` program."
   ]
  },
  {
   "cell_type": "markdown",
   "id": "05029932",
   "metadata": {},
   "source": [
    "First we need to construct a circuit as the input to `sampler` using Qiskit."
   ]
  },
  {
   "cell_type": "code",
   "execution_count": 4,
   "id": "98653f07",
   "metadata": {},
   "outputs": [
    {
     "data": {
      "image/png": "[encoded data removed]",
      "text/plain": [
       "<Figure size 839.279x445.48 with 1 Axes>"
      ]
     },
     "execution_count": 4,
     "metadata": {},
     "output_type": "execute_result"
    }
   ],
   "source": [
    "from qiskit import QuantumCircuit\n",
    "\n",
    "N = 6\n",
    "qc = QuantumCircuit(N)\n",
    "\n",
    "qc.x(range(0, N))\n",
    "qc.h(range(0, N))\n",
    "\n",
    "for kk in range(N // 2, 0, -1):\n",
    "    qc.ch(kk, kk - 1)\n",
    "for kk in range(N // 2, N - 1):\n",
    "    qc.ch(kk, kk + 1)\n",
    "qc.measure_all()\n",
    "qc.draw(\"mpl\", fold=-1)"
   ]
  },
  {
   "cell_type": "markdown",
   "id": "a5e32ca2",
   "metadata": {},
   "source": [
    "We now use this circuit as the input to `sampler`:"
   ]
  },
  {
   "cell_type": "code",
   "execution_count": 5,
   "id": "d622e53c",
   "metadata": {},
   "outputs": [
    {
     "name": "stdout",
     "output_type": "stream",
     "text": [
      "Job ID: c8nohfps9rvto959da30\n",
      "{'quasi_dists': [{'000001': 0.015625, '100011': 0.0361328125, '110001': 0.0380859375, '100001': 0.01953125, '110000': 0.02734375, '110011': 0.0703125, '111111': 0.4716796875, '110111': 0.130859375, '100000': 0.01171875, '000011': 0.033203125, '000000': 0.0185546875, '000111': 0.0576171875, '100111': 0.0693359375}], 'metadata': [{'header_metadata': None, 'shots': 1024}]}\n",
      "<IBMBackend('ibmq_qasm_simulator')>\n"
     ]
    }
   ],
   "source": [
    "# Specify the program inputs here.\n",
    "program_inputs = {\n",
    "    \"circuits\": qc,\n",
    "    \"circuit_indices\": [0],\n",
    "}\n",
    "\n",
    "job = service.run(\n",
    "    program_id=\"sampler\",\n",
    "    inputs=program_inputs,\n",
    ")\n",
    "\n",
    "# Printing the job ID in case we need to retrieve it later.\n",
    "print(f\"Job ID: {job.job_id}\")\n",
    "\n",
    "# Get the job result - this is blocking and control may not return immediately.\n",
    "result = job.result()\n",
    "print(result)\n",
    "# see which backend the job was executed on\n",
    "print(job.backend) "
   ]
  },
  {
   "cell_type": "markdown",
   "id": "fa008fc4",
   "metadata": {},
   "source": [
    "### Runtime job"
   ]
  },
  {
   "cell_type": "markdown",
   "id": "1cb7b160",
   "metadata": {},
   "source": [
    "The `run()` method returns a [RuntimeJob](https://qiskit.org/documentation/partners/qiskit_ibm_runtime/stubs/qiskit_ibm_runtime.RuntimeJob.html#qiskit_ibm_runtime.RuntimeJob) instance, which represents the asynchronous execution instance of the program. \n",
    "\n",
    "Some of the `RuntimeJob` methods:\n",
    "\n",
    "- `status()`: Return job status.\n",
    "- `result()`: Wait for the job to finish and return the final result.\n",
    "- `cancel()`: Cancel the job.\n",
    "- `wait_for_final_state()`: Wait for the job to finish.\n",
    "- `logs()`: Return job logs.\n",
    "- `error_message()`: Returns the reason if the job failed and `None` otherwise.\n",
    "\n",
    "Some of the `RuntimeJob` attributes:\n",
    "- `job_id`: Unique identifier of the job.\n",
    "- `backend`: The backend where the job is run.\n",
    "- `program_id`: ID of the program the execution is for.\n",
    "\n",
    "\n",
    "Refer to the [RuntimeJob API documentation](https://qiskit.org/documentation/partners/qiskit_ibm_runtime/stubs/qiskit_ibm_runtime.RuntimeJob.html#qiskit_ibm_runtime.RuntimeJob) for a full list of methods and usage. "
   ]
  },
  {
   "cell_type": "markdown",
   "id": "present-creature",
   "metadata": {},
   "source": [
    "<div class=\"alert alert-block alert-info\">\n",
    "<b>Note:</b> To ensure fairness, there is a maximum execution time for each Qiskit Runtime job. Refer to <a href=\"https://qiskit.org/documentation/partners/qiskit_ibm_runtime/max_time.html#qiskit-runtime-on-ibm-cloud\">this documentation</a> on what the time limit is.\n",
    "</div>"
   ]
  },
  {
   "cell_type": "markdown",
   "id": "ef34b014",
   "metadata": {},
   "source": [
    "## Selecting a backend"
   ]
  },
  {
   "cell_type": "markdown",
   "id": "863b70a8",
   "metadata": {},
   "source": [
    "A **backend** is a quantum device or simulator capable of running quantum circuits or pulse schedules.\n",
    "\n",
    "In the example above, we invoked a runtime program without specifying which backend it should run on. In this case the server automatically picks the one that is the least busy. Alternatively, you can choose a specific backend to run your program. \n",
    "\n",
    "To list all the backends you have access to:"
   ]
  },
  {
   "cell_type": "code",
   "execution_count": 6,
   "id": "fb97b17e",
   "metadata": {},
   "outputs": [
    {
     "data": {
      "text/plain": [
       "[<IBMBackend('ibmq_qasm_simulator')>,\n",
       " <IBMBackend('simulator_stabilizer')>,\n",
       " <IBMBackend('simulator_mps')>,\n",
       " <IBMBackend('simulator_extended_stabilizer')>,\n",
       " <IBMBackend('simulator_statevector')>]"
      ]
     },
     "execution_count": 6,
     "metadata": {},
     "output_type": "execute_result"
    }
   ],
   "source": [
    "service.backends()"
   ]
  },
  {
   "cell_type": "markdown",
   "id": "15b02af0",
   "metadata": {},
   "source": [
    "The [QiskitRuntimeService.backends()](https://qiskit.org/documentation/partners/qiskit_ibm_runtime/stubs/qiskit_ibm_runtime.QiskitRuntimeService.html#qiskit_ibm_runtime.QiskitRuntimeService.backends) method also takes filters. For example, to find all real devices that have at least five qubits:"
   ]
  },
  {
   "cell_type": "code",
   "execution_count": 7,
   "id": "4fb4eba4",
   "metadata": {},
   "outputs": [
    {
     "data": {
      "text/plain": [
       "[]"
      ]
     },
     "execution_count": 7,
     "metadata": {},
     "output_type": "execute_result"
    }
   ],
   "source": [
    "service.backends(simulator=False, min_num_qubits=5)"
   ]
  },
  {
   "cell_type": "markdown",
   "id": "f83034fe",
   "metadata": {},
   "source": [
    "[QiskitRuntimeService.backends()](https://qiskit.org/documentation/partners/qiskit_ibm_runtime/stubs/qiskit_ibm_runtime.QiskitRuntimeService.html#qiskit_ibm_runtime.QiskitRuntimeService.backends) returns a list of [IBMBackend](https://qiskit.org/documentation/partners/qiskit_ibm_runtime/stubs/qiskit_ibm_runtime.IBMBackend.html#qiskit_ibm_runtime.IBMBackend) instances. Each instance represents a particular backends. Attributes and methods of an `IBMBackend` provides more information about the backend, such as its qubit count, error rate, and status.\n",
    "\n",
    "For more information about backends, such as commonly used attributes, see [03_backends.ipynb](03_backends.ipynb)."
   ]
  },
  {
   "cell_type": "markdown",
   "id": "439a73dc",
   "metadata": {},
   "source": [
    "Once you select a backend to use, you can specify the name of the backend in the `options` parameter:"
   ]
  },
  {
   "cell_type": "code",
   "execution_count": 8,
   "id": "80df2a99",
   "metadata": {},
   "outputs": [
    {
     "name": "stdout",
     "output_type": "stream",
     "text": [
      "Job ID: c8noi9bhtco8h5buopu0\n",
      "{'quasi_dists': [{'100000': 0.0185546875, '110001': 0.021484375, '100011': 0.0302734375, '110000': 0.0390625, '110011': 0.048828125, '111111': 0.4873046875, '110111': 0.126953125, '000000': 0.0166015625, '000011': 0.03125, '100111': 0.0732421875, '000111': 0.07421875, '000001': 0.013671875, '100001': 0.0185546875}], 'metadata': [{'header_metadata': None, 'shots': 1024}]}\n"
     ]
    }
   ],
   "source": [
    "# Specify the program inputs here.\n",
    "program_inputs = {\n",
    "    \"circuits\": qc,\n",
    "    \"circuit_indices\": [0],\n",
    "}\n",
    "\n",
    "# Specify the backend name.\n",
    "options = {\"backend_name\": \"ibmq_qasm_simulator\"}\n",
    "\n",
    "job = service.run(\n",
    "    program_id=\"sampler\",\n",
    "    options=options,\n",
    "    inputs=program_inputs,\n",
    ")\n",
    "\n",
    "# Printing the job ID in case we need to retrieve it later.\n",
    "print(f\"Job ID: {job.job_id}\")\n",
    "\n",
    "# Get the job result - this is blocking and control may not return immediately.\n",
    "result = job.result()\n",
    "print(result)"
   ]
  },
  {
   "cell_type": "markdown",
   "id": "821630b0",
   "metadata": {},
   "source": [
    "## Retrieving previously run jobs"
   ]
  },
  {
   "cell_type": "markdown",
   "id": "ed6efcd4",
   "metadata": {},
   "source": [
    "You can use the [QiskitRuntimeService.job()](https://qiskit.org/documentation/partners/qiskit_ibm_runtime/stubs/qiskit_ibm_runtime.QiskitRuntimeService.html#qiskit_ibm_runtime.QiskitRuntimeService.job) method to retrieve a previously executed runtime job. Attributes of this [RuntimeJob](https://qiskit.org/documentation/partners/qiskit_ibm_runtime/stubs/qiskit_ibm_runtime.RuntimeJob.html#qiskit_ibm_runtime.RuntimeJob) instance can tell you about the execution:"
   ]
  },
  {
   "cell_type": "code",
   "execution_count": 9,
   "id": "4336b881",
   "metadata": {},
   "outputs": [
    {
     "name": "stdout",
     "output_type": "stream",
     "text": [
      "Job c8noi9bhtco8h5buopu0 is an execution instance of runtime program sampler.\n",
      "This job ran on backend <IBMBackend('ibmq_qasm_simulator')> and had input parameters {'circuits': <qiskit.circuit.quantumcircuit.QuantumCircuit object at 0x7f90d0219dc0>, 'circuit_indices': [0]}\n"
     ]
    }
   ],
   "source": [
    "retrieved_job = service.job(job.job_id)\n",
    "print(\n",
    "    f\"Job {retrieved_job.job_id} is an execution instance of runtime program {retrieved_job.program_id}.\"\n",
    ")\n",
    "print(\n",
    "    f\"This job ran on backend {retrieved_job.backend} and had input parameters {retrieved_job.inputs}\"\n",
    ")"
   ]
  },
  {
   "cell_type": "markdown",
   "id": "5c00514e",
   "metadata": {},
   "source": [
    "Similarly, you can use [QiskitRuntimeService.jobs()](https://qiskit.org/documentation/partners/qiskit_ibm_runtime/stubs/qiskit_ibm_runtime.QiskitRuntimeService.html#qiskit_ibm_runtime.QiskitRuntimeService.jobs) to get a list of jobs. You can specify a limit on how many jobs to return. The default limit is 10:"
   ]
  },
  {
   "cell_type": "code",
   "execution_count": 10,
   "id": "919862b8",
   "metadata": {},
   "outputs": [
    {
     "name": "stdout",
     "output_type": "stream",
     "text": [
      "c8noi9bhtco8h5buopu0\n"
     ]
    }
   ],
   "source": [
    "retrieved_jobs = service.jobs(limit=1)\n",
    "for rjob in retrieved_jobs:\n",
    "    print(rjob.job_id)"
   ]
  },
  {
   "cell_type": "markdown",
   "id": "d6f8f1d2",
   "metadata": {},
   "source": [
    "## Deleting a job"
   ]
  },
  {
   "cell_type": "markdown",
   "id": "81234913",
   "metadata": {},
   "source": [
    "You can use the [QiskitRuntimeService.delete_job()](https://qiskit.org/documentation/partners/qiskit_ibm_runtime/stubs/qiskit_ibm_runtime.QiskitRuntimeService.html#qiskit_ibm_runtime.QiskitRuntimeService.delete_job) method to delete a job. You can only delete your own jobs, and this action cannot be reversed. "
   ]
  },
  {
   "cell_type": "code",
   "execution_count": 11,
   "id": "b1095852",
   "metadata": {},
   "outputs": [],
   "source": [
    "service.delete_job(job.job_id)"
   ]
  },
  {
   "cell_type": "markdown",
   "id": "2c16af97",
   "metadata": {},
   "source": [
    "# Next steps"
   ]
  },
  {
   "cell_type": "markdown",
   "id": "216c52c0",
   "metadata": {},
   "source": [
    "There are additional tutorials in this directory:\n",
    "\n",
    "- [02_introduction_ibm_quantum_runtime.ipynb](02_introduction_ibm_quantum_runtime.ipynb) is the corresponding tutorial on using Qiskit Runtime on IBM Quantum. You can skip this tutorial if you don't plan on using Qiskit Runtime on IBM Quantum.\n",
    "- [03_backends.ipynb](03_backends.ipynb) describes how to find a target backend for the Qiskit Runtime program you want to invoke. \n",
    "- [04_account_management.ipynb](04_account_management.ipynb) describes how to save, load, and delete your account credentials on disk.\n",
    "- [qiskit_runtime_vqe_program.ipynb](sample_vqe_program/qiskit_runtime_vqe_program.ipynb) goes into more details on uploading a real-world program (VQE). \n",
    "- [qka.ipynb](qka.ipynb), [vqe.ipynb](vqe.ipynb), and [qiskit_runtime_expval_program.ipynb](sample_expval_program/qiskit_runtime_expval_program.ipynb) describe how to use the public programs `qka`, `vqe`, and `sample-expval`, respectively. These programs are currently only available in Qiskit Runtime on IBM Quantum."
   ]
  },
  {
   "cell_type": "code",
   "execution_count": 12,
   "id": "4d69df82",
   "metadata": {},
   "outputs": [
    {
     "data": {
      "text/html": [
       "<div style='width: 100%; background-color:#d5d9e0;padding-left: 10px; padding-bottom: 10px; padding-right: 10px; padding-top: 5px'><h3>This code is a part of Qiskit</h3><p>&copy; Copyright IBM 2017, 2022.</p><p>This code is licensed under the Apache License, Version 2.0. You may<br>obtain a copy of this license in the LICENSE.txt file in the root directory<br> of this source tree or at http://www.apache.org/licenses/LICENSE-2.0.<p>Any modifications or derivative works of this code must retain this<br>copyright notice, and modified files need to carry a notice indicating<br>that they have been altered from the originals.</p></div>"
      ],
      "text/plain": [
       "<IPython.core.display.HTML object>"
      ]
     },
     "metadata": {},
     "output_type": "display_data"
    }
   ],
   "source": [
    "from qiskit.tools.jupyter import *\n",
    "\n",
    "%qiskit_copyright"
   ]
  }
 ],
 "metadata": {
  "kernelspec": {
   "display_name": "qiskit-ibm-runtime",
   "language": "python",
   "name": "qiskit-ibm-runtime"
  },
  "language_info": {
   "codemirror_mode": {
    "name": "ipython",
    "version": 3
   },
   "file_extension": ".py",
   "mimetype": "text/x-python",
   "name": "python",
   "nbconvert_exporter": "python",
   "pygments_lexer": "ipython3",
   "version": "3.9.7"
  }
 },
 "nbformat": 4,
 "nbformat_minor": 5
}
