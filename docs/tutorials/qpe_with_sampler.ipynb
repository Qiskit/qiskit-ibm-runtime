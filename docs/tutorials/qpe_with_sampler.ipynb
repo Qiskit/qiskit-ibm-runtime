{
 "cells": [
  {
   "cell_type": "markdown",
   "id": "665555c8",
   "metadata": {},
   "source": [
    "# The Quantum Phase Estimation Algorithm\n",
    "\n",
    "In this tutorial, you will run the Quantum Phase Estimation algorithm using the Sampler primitive Qiskit Runtime program.\n",
    "\n",
    "TODO\n",
    "Add context of why QPE is important and why Sampler is advantagous to conventional backend.run() method for running QPE."
   ]
  },
  {
   "cell_type": "markdown",
   "id": "420d1072",
   "metadata": {},
   "source": [
    "## Set up your local development environment\n",
    "\n",
    "This tutorial requires a Qiskit Runtime service instance. If you haven't done so already, please follow the [Getting Started Guide](https://qiskit.org/documentation/partners/qiskit_ibm_runtime/getting_started.html) to set one up."
   ]
  },
  {
   "cell_type": "markdown",
   "id": "ab166e9d",
   "metadata": {},
   "source": [
    "## Background information"
   ]
  },
  {
   "cell_type": "markdown",
   "id": "ea2f34b7",
   "metadata": {},
   "source": [
    "### Quantum phase estimation\n",
    "\n",
    "TODO: Improve explanations. Why is QPE important?\n",
    "\n",
    "Quantum phase estimation is one of the most important subroutines in quantum computation. It serves as a central building block for many quantum algorithms. The objective of the algorithm is the following:\n",
    "\n",
    "Given a unitary operator $U$, the algorithm estimates $\\theta$ in $U\\vert\\psi \\rangle =e^{\\boldsymbol{2\\pi i} \\theta }|\\psi \\rangle$. Here $|\\psi\\rangle$ is an eigenvector and $e^{\\boldsymbol{2\\pi i}\\theta}$ is the corresponding eigenvalue. Since $U$ is unitary, all of its eigenvalues have a norm of 1.\n",
    "\n",
    "If you want to learn more, you can read the chapter about quantum phase estimation in [the Qiskit textbook](https://learn.qiskit.org/course/ch-algorithms/quantum-phase-estimation)."
   ]
  },
  {
   "cell_type": "markdown",
   "id": "759a4f19",
   "metadata": {},
   "source": [
    "## Step 1: Create QPE circuits and bind parameters to the circuits"
   ]
  },
  {
   "cell_type": "markdown",
   "id": "a18bcbae",
   "metadata": {},
   "source": [
    "### Create QPE circuits\n",
    "\n",
    "TODO: Add descriptions of what is happening here."
   ]
  },
  {
   "cell_type": "code",
   "execution_count": 1,
   "id": "fb79c13d",
   "metadata": {},
   "outputs": [],
   "source": [
    "import numpy as np\n",
    "\n",
    "from qiskit import QuantumRegister, ClassicalRegister, QuantumCircuit\n",
    "from qiskit.circuit.library import PhaseGate, QFT\n",
    "\n",
    "def create_qpe_circuit(phase, num_qubits):\n",
    "    # Create circuit\n",
    "    aux = QuantumRegister(size=num_qubits, name='aux')  # auxillary register for reading out the phase\n",
    "    phi = QuantumRegister(size=1, name='phi')  # register with eigenvector |phi>\n",
    "    cr = ClassicalRegister(size=num_qubits, name='readout')\n",
    "    qpe = QuantumCircuit(aux, phi, cr)\n",
    "\n",
    "    # Prepare |phi>\n",
    "    qpe.x(phi)\n",
    "\n",
    "    # Create superposition in aux register\n",
    "    qpe.barrier()\n",
    "    qpe.h(aux)  \n",
    "\n",
    "    # Apply C-U black box\n",
    "    qpe.barrier()\n",
    "    for j in range(num_qubits):\n",
    "        unitary = QuantumCircuit(1, name='U^2**'+str(j))\n",
    "        unitary.p(phase*(2**j), 0)\n",
    "        qpe.compose(unitary.control(), [j] + phi[:], inplace=True)\n",
    "        #qpe.cp(phase*(2**j), j, num_qubits)\n",
    "\n",
    "    # Apply inverse QFT\n",
    "    qpe.barrier()\n",
    "    qpe = qpe.compose(QFT(num_qubits, inverse=True))\n",
    "\n",
    "    # Measure\n",
    "    qpe.barrier()\n",
    "    qpe.measure(aux, cr)\n",
    "\n",
    "    return qpe"
   ]
  },
  {
   "cell_type": "markdown",
   "id": "a8d48893",
   "metadata": {},
   "source": [
    "### Bind parameters to QPE circuits\n",
    "\n",
    "TODO: add description of what is happening here. Highlight why Sampler primitive is better than backend.run"
   ]
  },
  {
   "cell_type": "code",
   "execution_count": 2,
   "id": "a80833a0",
   "metadata": {},
   "outputs": [
    {
     "data": {
      "image/png": "[encoded data removed]",
      "text/plain": [
       "<Figure size 1164.95x325.08 with 1 Axes>"
      ]
     },
     "execution_count": 2,
     "metadata": {},
     "output_type": "execute_result"
    }
   ],
   "source": [
    "from qiskit.circuit import Parameter\n",
    "\n",
    "phase = Parameter('phase')\n",
    "\n",
    "qpe_circuit = create_qpe_circuit(phase, 3)\n",
    "qpe_circuit.draw('mpl',fold=-1)"
   ]
  },
  {
   "cell_type": "code",
   "execution_count": 3,
   "id": "055469e4",
   "metadata": {},
   "outputs": [],
   "source": [
    "number_of_phases = 80\n",
    "phases = np.linspace(0, 4*np.pi, number_of_phases)\n",
    "# Phases need to be expressed as list of lists\n",
    "individual_phases = [[ph] for ph in phases]"
   ]
  },
  {
   "cell_type": "markdown",
   "id": "69b9c027",
   "metadata": {},
   "source": [
    "## Step 2: Submit the circuits to a quantum computer on the cloud"
   ]
  },
  {
   "cell_type": "markdown",
   "id": "3f33a206",
   "metadata": {},
   "source": [
    "### Connect to the Qiskit Runtime service \n",
    "\n",
    "First, connect to the Qiskit Runtime service instance that you created in [the first step](#Set-up-your-local-development-environment)."
   ]
  },
  {
   "cell_type": "code",
   "execution_count": 4,
   "id": "ac4773b1",
   "metadata": {},
   "outputs": [],
   "source": [
    "from qiskit_ibm_runtime import QiskitRuntimeService\n",
    "\n",
    "service = QiskitRuntimeService()\n",
    "options = {'backend_name': 'ibmq_qasm_simulator'}  # use the simulator"
   ]
  },
  {
   "cell_type": "markdown",
   "id": "d2b00453",
   "metadata": {},
   "source": [
    "### Run the circuits using the Sampler primitive\n",
    "\n",
    "TODO: add description"
   ]
  },
  {
   "cell_type": "code",
   "execution_count": 5,
   "id": "8ee9e102",
   "metadata": {},
   "outputs": [
    {
     "ename": "RuntimeJobFailureError",
     "evalue": "'Unable to retrieve job result. Job cb1fo1r4isr7hsmlpj0g has failed:\\n2022-07-04T09:41:18.034908534-05:00 Traceback (most recent call last):\\n2022-07-04T09:41:18.034908534-05:00   File \"/code/program_starter.py\", line 63, in <module>\\n2022-07-04T09:41:18.034908534-05:00     user_params = json.loads(params, cls=ProgramRuntimeDecoder)\\n2022-07-04T09:41:18.034908534-05:00   File \"/usr/local/lib/python3.8/json/__init__.py\", line 370, in loads\\n2022-07-04T09:41:18.034908534-05:00     return cls(**kw).decode(s)\\n2022-07-04T09:41:18.034908534-05:00   File \"/usr/local/lib/python3.8/json/decoder.py\", line 337, in decode\\n2022-07-04T09:41:18.034908534-05:00     obj, end = self.raw_decode(s, idx=_w(s, 0).end())\\n2022-07-04T09:41:18.034908534-05:00   File \"/usr/local/lib/python3.8/json/decoder.py\", line 353, in raw_decode\\n2022-07-04T09:41:18.034908534-05:00     obj, end = self.scan_once(s, idx)\\n2022-07-04T09:41:18.034908534-05:00   File \"/provider/programruntime/utils.py\", line 100, in object_hook\\n2022-07-04T09:41:18.034908534-05:00     return super().object_hook(obj)\\n2022-07-04T09:41:18.034908534-05:00   File \"/usr/local/lib/python3.8/site-packages/qiskit/providers/ibmq/runtime/utils.py\", line 266, in object_hook\\n2022-07-04T09:41:18.034908534-05:00     return _decode_and_deserialize(obj_val, qpy_serialization.load)[0]\\n2022-07-04T09:41:18.034908534-05:00   File \"/usr/local/lib/python3.8/site-packages/qiskit/providers/ibmq/runtime/utils.py\", line 109, in _decode_and_deserialize\\n2022-07-04T09:41:18.034908534-05:00     orig = deserializer(buff)\\n2022-07-04T09:41:18.034908534-05:00   File \"/usr/local/lib/python3.8/site-packages/qiskit/qpy/interface.py\", line 167, in load\\n2022-07-04T09:41:18.034908534-05:00     binary_io.read_circuit(\\n2022-07-04T09:41:18.034908534-05:00   File \"/usr/local/lib/python3.8/site-packages/qiskit/qpy/binary_io/circuits.py\", line 779, in read_circuit\\n2022-07-04T09:41:18.034908534-05:00     _read_instruction(file_obj, circ, out_registers, custom_instructions, version, vectors)\\n2022-07-04T09:41:18.034908534-05:00   File \"/usr/local/lib/python3.8/site-packages/qiskit/qpy/binary_io/circuits.py\", line 250, in _read_instruction\\n2022-07-04T09:41:18.034908534-05:00     gate = gate_class(*params)\\n2022-07-04T09:41:18.034908534-05:00 TypeError: __init__() missing 2 required positional arguments: \\'num_qubits\\' and \\'params\\'\\n'",
     "output_type": "error",
     "traceback": [
      "\u001b[0;31m---------------------------------------------------------------------------\u001b[0m",
      "\u001b[0;31mRuntimeJobFailureError\u001b[0m                    Traceback (most recent call last)",
      "\u001b[1;32m/Users/junye/Documents/Github/HJY/qiskit-dev/qiskit-ibm-runtime/docs/tutorials/qpe_with_sampler.ipynb Cell 15'\u001b[0m in \u001b[0;36m<cell line: 3>\u001b[0;34m()\u001b[0m\n\u001b[1;32m      <a href='vscode-notebook-cell:/Users/junye/Documents/Github/HJY/qiskit-dev/qiskit-ibm-runtime/docs/tutorials/qpe_with_sampler.ipynb#ch0000014?line=0'>1</a>\u001b[0m \u001b[39mfrom\u001b[39;00m \u001b[39mqiskit_ibm_runtime\u001b[39;00m \u001b[39mimport\u001b[39;00m Sampler\n\u001b[1;32m      <a href='vscode-notebook-cell:/Users/junye/Documents/Github/HJY/qiskit-dev/qiskit-ibm-runtime/docs/tutorials/qpe_with_sampler.ipynb#ch0000014?line=2'>3</a>\u001b[0m \u001b[39mwith\u001b[39;00m Sampler(circuits\u001b[39m=\u001b[39mqpe_circuit, service\u001b[39m=\u001b[39mservice, options\u001b[39m=\u001b[39moptions) \u001b[39mas\u001b[39;00m sampler:\n\u001b[0;32m----> <a href='vscode-notebook-cell:/Users/junye/Documents/Github/HJY/qiskit-dev/qiskit-ibm-runtime/docs/tutorials/qpe_with_sampler.ipynb#ch0000014?line=3'>4</a>\u001b[0m     param_results \u001b[39m=\u001b[39m sampler(circuits\u001b[39m=\u001b[39;49m[\u001b[39m0\u001b[39;49m]\u001b[39m*\u001b[39;49m\u001b[39mlen\u001b[39;49m(phases), parameter_values\u001b[39m=\u001b[39;49mindividual_phases)\n",
      "File \u001b[0;32m/usr/local/anaconda3/envs/primitives/lib/python3.9/site-packages/qiskit/utils/deprecation.py:27\u001b[0m, in \u001b[0;36mdeprecate_arguments.<locals>.decorator.<locals>.wrapper\u001b[0;34m(*args, **kwargs)\u001b[0m\n\u001b[1;32m     25\u001b[0m \u001b[39mif\u001b[39;00m kwargs:\n\u001b[1;32m     26\u001b[0m     _rename_kwargs(func\u001b[39m.\u001b[39m\u001b[39m__name__\u001b[39m, kwargs, kwarg_map)\n\u001b[0;32m---> 27\u001b[0m \u001b[39mreturn\u001b[39;00m func(\u001b[39m*\u001b[39;49margs, \u001b[39m*\u001b[39;49m\u001b[39m*\u001b[39;49mkwargs)\n",
      "File \u001b[0;32m~/Documents/Github/HJY/qiskit-dev/qiskit-ibm-runtime/qiskit_ibm_runtime/qiskit/primitives/base_sampler.py:270\u001b[0m, in \u001b[0;36mBaseSampler.__call__\u001b[0;34m(self, circuits, parameter_values, **run_options)\u001b[0m\n\u001b[1;32m    264\u001b[0m \u001b[39mif\u001b[39;00m \u001b[39mmax\u001b[39m(circuits) \u001b[39m>\u001b[39m\u001b[39m=\u001b[39m \u001b[39mlen\u001b[39m(\u001b[39mself\u001b[39m\u001b[39m.\u001b[39mcircuits):\n\u001b[1;32m    265\u001b[0m     \u001b[39mraise\u001b[39;00m QiskitError(\n\u001b[1;32m    266\u001b[0m         \u001b[39mf\u001b[39m\u001b[39m\"\u001b[39m\u001b[39mThe number of circuits is \u001b[39m\u001b[39m{\u001b[39;00m\u001b[39mlen\u001b[39m(\u001b[39mself\u001b[39m\u001b[39m.\u001b[39mcircuits)\u001b[39m}\u001b[39;00m\u001b[39m, \u001b[39m\u001b[39m\"\u001b[39m\n\u001b[1;32m    267\u001b[0m         \u001b[39mf\u001b[39m\u001b[39m\"\u001b[39m\u001b[39mbut the index \u001b[39m\u001b[39m{\u001b[39;00m\u001b[39mmax\u001b[39m(circuits)\u001b[39m}\u001b[39;00m\u001b[39m is given.\u001b[39m\u001b[39m\"\u001b[39m\n\u001b[1;32m    268\u001b[0m     )\n\u001b[0;32m--> 270\u001b[0m \u001b[39mreturn\u001b[39;00m \u001b[39mself\u001b[39;49m\u001b[39m.\u001b[39;49m_call(\n\u001b[1;32m    271\u001b[0m     circuits\u001b[39m=\u001b[39;49mcircuits,\n\u001b[1;32m    272\u001b[0m     parameter_values\u001b[39m=\u001b[39;49mparameter_values,\n\u001b[1;32m    273\u001b[0m     \u001b[39m*\u001b[39;49m\u001b[39m*\u001b[39;49mrun_options,\n\u001b[1;32m    274\u001b[0m )\n",
      "File \u001b[0;32m~/Documents/Github/HJY/qiskit-dev/qiskit-ibm-runtime/qiskit_ibm_runtime/sampler.py:209\u001b[0m, in \u001b[0;36mSampler._call\u001b[0;34m(self, circuits, parameter_values, **run_options)\u001b[0m\n\u001b[1;32m    194\u001b[0m \u001b[39m\"\"\"Calculates probabilities or quasi-probabilities for given inputs in a runtime session.\u001b[39;00m\n\u001b[1;32m    195\u001b[0m \n\u001b[1;32m    196\u001b[0m \u001b[39mArgs:\u001b[39;00m\n\u001b[0;32m   (...)\u001b[0m\n\u001b[1;32m    202\u001b[0m \u001b[39m    An instance of :class:`qiskit.primitives.SamplerResult`.\u001b[39;00m\n\u001b[1;32m    203\u001b[0m \u001b[39m\"\"\"\u001b[39;00m\n\u001b[1;32m    204\u001b[0m \u001b[39mself\u001b[39m\u001b[39m.\u001b[39m_session\u001b[39m.\u001b[39mwrite(\n\u001b[1;32m    205\u001b[0m     circuit_indices\u001b[39m=\u001b[39mcircuits,\n\u001b[1;32m    206\u001b[0m     parameter_values\u001b[39m=\u001b[39mparameter_values,\n\u001b[1;32m    207\u001b[0m     run_options\u001b[39m=\u001b[39mrun_options,\n\u001b[1;32m    208\u001b[0m )\n\u001b[0;32m--> 209\u001b[0m raw_result \u001b[39m=\u001b[39m \u001b[39mself\u001b[39;49m\u001b[39m.\u001b[39;49m_session\u001b[39m.\u001b[39;49mread()\n\u001b[1;32m    210\u001b[0m \u001b[39mreturn\u001b[39;00m SamplerResult(\n\u001b[1;32m    211\u001b[0m     quasi_dists\u001b[39m=\u001b[39mraw_result[\u001b[39m\"\u001b[39m\u001b[39mquasi_dists\u001b[39m\u001b[39m\"\u001b[39m],\n\u001b[1;32m    212\u001b[0m     metadata\u001b[39m=\u001b[39mraw_result[\u001b[39m\"\u001b[39m\u001b[39mmetadata\u001b[39m\u001b[39m\"\u001b[39m],\n\u001b[1;32m    213\u001b[0m )\n",
      "File \u001b[0;32m~/Documents/Github/HJY/qiskit-dev/qiskit-ibm-runtime/qiskit_ibm_runtime/runtime_session.py:34\u001b[0m, in \u001b[0;36m_active_session.<locals>._wrapper\u001b[0;34m(self, *args, **kwargs)\u001b[0m\n\u001b[1;32m     32\u001b[0m \u001b[39mif\u001b[39;00m \u001b[39mnot\u001b[39;00m \u001b[39mself\u001b[39m\u001b[39m.\u001b[39m_active:\n\u001b[1;32m     33\u001b[0m     \u001b[39mraise\u001b[39;00m \u001b[39mRuntimeError\u001b[39;00m(\u001b[39m\"\u001b[39m\u001b[39mThe session is closed.\u001b[39m\u001b[39m\"\u001b[39m)\n\u001b[0;32m---> 34\u001b[0m \u001b[39mreturn\u001b[39;00m func(\u001b[39mself\u001b[39;49m, \u001b[39m*\u001b[39;49margs, \u001b[39m*\u001b[39;49m\u001b[39m*\u001b[39;49mkwargs)\n",
      "File \u001b[0;32m~/Documents/Github/HJY/qiskit-dev/qiskit-ibm-runtime/qiskit_ibm_runtime/runtime_session.py:106\u001b[0m, in \u001b[0;36mRuntimeSession.read\u001b[0;34m(self, timeout, decoder)\u001b[0m\n\u001b[1;32m     93\u001b[0m \u001b[39m@_active_session\u001b[39m\n\u001b[1;32m     94\u001b[0m \u001b[39mdef\u001b[39;00m \u001b[39mread\u001b[39m(\n\u001b[1;32m     95\u001b[0m     \u001b[39mself\u001b[39m,\n\u001b[1;32m     96\u001b[0m     timeout: Optional[\u001b[39mfloat\u001b[39m] \u001b[39m=\u001b[39m \u001b[39mNone\u001b[39;00m,\n\u001b[1;32m     97\u001b[0m     decoder: Optional[Type[ResultDecoder]] \u001b[39m=\u001b[39m \u001b[39mNone\u001b[39;00m,\n\u001b[1;32m     98\u001b[0m ) \u001b[39m-\u001b[39m\u001b[39m>\u001b[39m Any:\n\u001b[1;32m     99\u001b[0m     \u001b[39m\"\"\"Read from the session.\u001b[39;00m\n\u001b[1;32m    100\u001b[0m \u001b[39m    Args:\u001b[39;00m\n\u001b[1;32m    101\u001b[0m \u001b[39m        timeout: Number of seconds to wait for job.\u001b[39;00m\n\u001b[0;32m   (...)\u001b[0m\n\u001b[1;32m    104\u001b[0m \u001b[39m        Data returned from the session.\u001b[39;00m\n\u001b[1;32m    105\u001b[0m \u001b[39m    \"\"\"\u001b[39;00m\n\u001b[0;32m--> 106\u001b[0m     \u001b[39mreturn\u001b[39;00m \u001b[39mself\u001b[39;49m\u001b[39m.\u001b[39;49m_job\u001b[39m.\u001b[39;49mresult(timeout\u001b[39m=\u001b[39;49mtimeout, decoder\u001b[39m=\u001b[39;49mdecoder)\n",
      "File \u001b[0;32m~/Documents/Github/HJY/qiskit-dev/qiskit-ibm-runtime/qiskit_ibm_runtime/runtime_job.py:182\u001b[0m, in \u001b[0;36mRuntimeJob.result\u001b[0;34m(self, timeout, decoder)\u001b[0m\n\u001b[1;32m    180\u001b[0m \u001b[39mself\u001b[39m\u001b[39m.\u001b[39mwait_for_final_state(timeout\u001b[39m=\u001b[39mtimeout)\n\u001b[1;32m    181\u001b[0m \u001b[39mif\u001b[39;00m \u001b[39mself\u001b[39m\u001b[39m.\u001b[39m_status \u001b[39m==\u001b[39m JobStatus\u001b[39m.\u001b[39mERROR:\n\u001b[0;32m--> 182\u001b[0m     \u001b[39mraise\u001b[39;00m RuntimeJobFailureError(\n\u001b[1;32m    183\u001b[0m         \u001b[39mf\u001b[39m\u001b[39m\"\u001b[39m\u001b[39mUnable to retrieve job result. \u001b[39m\u001b[39m\"\u001b[39m \u001b[39mf\u001b[39m\u001b[39m\"\u001b[39m\u001b[39m{\u001b[39;00m\u001b[39mself\u001b[39m\u001b[39m.\u001b[39merror_message()\u001b[39m}\u001b[39;00m\u001b[39m\"\u001b[39m\n\u001b[1;32m    184\u001b[0m     )\n\u001b[1;32m    185\u001b[0m result_raw \u001b[39m=\u001b[39m \u001b[39mself\u001b[39m\u001b[39m.\u001b[39m_api_client\u001b[39m.\u001b[39mjob_results(job_id\u001b[39m=\u001b[39m\u001b[39mself\u001b[39m\u001b[39m.\u001b[39mjob_id)\n\u001b[1;32m    186\u001b[0m \u001b[39mself\u001b[39m\u001b[39m.\u001b[39m_results \u001b[39m=\u001b[39m _decoder\u001b[39m.\u001b[39mdecode(result_raw) \u001b[39mif\u001b[39;00m result_raw \u001b[39melse\u001b[39;00m \u001b[39mNone\u001b[39;00m\n",
      "\u001b[0;31mRuntimeJobFailureError\u001b[0m: 'Unable to retrieve job result. Job cb1fo1r4isr7hsmlpj0g has failed:\\n2022-07-04T09:41:18.034908534-05:00 Traceback (most recent call last):\\n2022-07-04T09:41:18.034908534-05:00   File \"/code/program_starter.py\", line 63, in <module>\\n2022-07-04T09:41:18.034908534-05:00     user_params = json.loads(params, cls=ProgramRuntimeDecoder)\\n2022-07-04T09:41:18.034908534-05:00   File \"/usr/local/lib/python3.8/json/__init__.py\", line 370, in loads\\n2022-07-04T09:41:18.034908534-05:00     return cls(**kw).decode(s)\\n2022-07-04T09:41:18.034908534-05:00   File \"/usr/local/lib/python3.8/json/decoder.py\", line 337, in decode\\n2022-07-04T09:41:18.034908534-05:00     obj, end = self.raw_decode(s, idx=_w(s, 0).end())\\n2022-07-04T09:41:18.034908534-05:00   File \"/usr/local/lib/python3.8/json/decoder.py\", line 353, in raw_decode\\n2022-07-04T09:41:18.034908534-05:00     obj, end = self.scan_once(s, idx)\\n2022-07-04T09:41:18.034908534-05:00   File \"/provider/programruntime/utils.py\", line 100, in object_hook\\n2022-07-04T09:41:18.034908534-05:00     return super().object_hook(obj)\\n2022-07-04T09:41:18.034908534-05:00   File \"/usr/local/lib/python3.8/site-packages/qiskit/providers/ibmq/runtime/utils.py\", line 266, in object_hook\\n2022-07-04T09:41:18.034908534-05:00     return _decode_and_deserialize(obj_val, qpy_serialization.load)[0]\\n2022-07-04T09:41:18.034908534-05:00   File \"/usr/local/lib/python3.8/site-packages/qiskit/providers/ibmq/runtime/utils.py\", line 109, in _decode_and_deserialize\\n2022-07-04T09:41:18.034908534-05:00     orig = deserializer(buff)\\n2022-07-04T09:41:18.034908534-05:00   File \"/usr/local/lib/python3.8/site-packages/qiskit/qpy/interface.py\", line 167, in load\\n2022-07-04T09:41:18.034908534-05:00     binary_io.read_circuit(\\n2022-07-04T09:41:18.034908534-05:00   File \"/usr/local/lib/python3.8/site-packages/qiskit/qpy/binary_io/circuits.py\", line 779, in read_circuit\\n2022-07-04T09:41:18.034908534-05:00     _read_instruction(file_obj, circ, out_registers, custom_instructions, version, vectors)\\n2022-07-04T09:41:18.034908534-05:00   File \"/usr/local/lib/python3.8/site-packages/qiskit/qpy/binary_io/circuits.py\", line 250, in _read_instruction\\n2022-07-04T09:41:18.034908534-05:00     gate = gate_class(*params)\\n2022-07-04T09:41:18.034908534-05:00 TypeError: __init__() missing 2 required positional arguments: \\'num_qubits\\' and \\'params\\'\\n'"
     ]
    }
   ],
   "source": [
    "from qiskit_ibm_runtime import Sampler\n",
    "\n",
    "with Sampler(circuits=qpe_circuit, service=service, options=options) as sampler:\n",
    "    param_results = sampler(circuits=[0]*len(phases), parameter_values=individual_phases)"
   ]
  },
  {
   "cell_type": "markdown",
   "id": "9e9f7b84",
   "metadata": {},
   "source": [
    "## Step 3: Analyze results\n",
    "\n",
    "TODO\n",
    "- Remove these helper functions or move them under the cover\n",
    "- Add descriptions"
   ]
  },
  {
   "cell_type": "code",
   "execution_count": null,
   "id": "858fdb5d",
   "metadata": {},
   "outputs": [],
   "source": [
    "def evaluate_wrap(phase, phi):\n",
    "    # Choose whether to wrap or not. Phase is the problem phase. Phi is the computation output.\n",
    "    if np.abs(wrapAngle(phi) - phase/(2*np.pi)) < np.abs(phi - phase/(2*(np.pi))):\n",
    "        return wrapAngle(phi)\n",
    "    else:\n",
    "        return phi\n",
    "    \n",
    "def output_to_phi(bitstring):\n",
    "    bin_exp = 0\n",
    "    for ind, stringbit in enumerate(bitstring):\n",
    "        bin_exp += int(stringbit)/2**(ind+1)\n",
    "    return bin_exp\n",
    "\n",
    "def wrapAngle(phase):\n",
    "    # This function maps the interval \\varphi \\in [0,1] into [-0.5, 0.5], where the sub-inverval [0.5,1] moves into [-0.5,0] and the interval [0,0.5] remains untouched\n",
    "    # phases between pi and 2pi become negative.\n",
    "    phase_wrapped = ((phase*2*np.pi + np.pi) % (2 * np.pi) - np.pi)/(2*np.pi)\n",
    "    return phase_wrapped\n",
    "\n",
    "def most_likely_bitstring(dictionary):\n",
    "    return max(dictionary, key=dictionary.get)"
   ]
  },
  {
   "cell_type": "code",
   "execution_count": null,
   "id": "348d501b",
   "metadata": {},
   "outputs": [],
   "source": [
    "def most_likely_bits(dictionary, phi):\n",
    "\n",
    "    # Return the IPE result if one looks at the most likely outcome and if one looks at the two most likely\n",
    "    # outcomes.\n",
    "    val = list(dictionary.values())\n",
    "    val.sort()\n",
    "    counts_left = 0\n",
    "    counts_right = 0\n",
    "    most_likely_counts = val[-1]\n",
    "\n",
    "    # First we compute the second most likely key without enforcing neighborhood:\n",
    "\n",
    "    if len(dictionary) > 1:\n",
    "\n",
    "        second_most_likely_counts = val[-2]\n",
    "\n",
    "    else:\n",
    "\n",
    "        second_most_likely_counts = most_likely_counts\n",
    "\n",
    "    for key, value in dictionary.items():\n",
    "\n",
    "        if value == most_likely_counts:\n",
    "\n",
    "            most_likely_key = key\n",
    "\n",
    "        if value == second_most_likely_counts:\n",
    "\n",
    "            if len(dictionary) > 1 and val[-2] == val[-1]:\n",
    "\n",
    "                second_most_likely_key = [key for key, value in dictionary.items() if value == val[-2] and key != most_likely_key]\n",
    "                second_most_likely_key = second_most_likely_key[0]\n",
    "            else:\n",
    "                second_most_likely_key = key\n",
    "\n",
    "\n",
    "    neighbor_left = len(most_likely_key)*'1' if most_likely_key == len(most_likely_key)*'0' else format((int(most_likely_key,2)-1), '0%sb'%len(most_likely_key))\n",
    "    neighbor_right = len(most_likely_key)*'0' if most_likely_key == len(most_likely_key)*'1' else format((int(most_likely_key,2)+1), '0%sb'%len(most_likely_key))\n",
    "\n",
    "    if len(dictionary) > 1:\n",
    "\n",
    "        # First check if neighbor keys exist\n",
    "\n",
    "        if neighbor_left in dictionary.keys():\n",
    "\n",
    "            counts_left = dictionary[neighbor_left]\n",
    "\n",
    "        if neighbor_right in dictionary.keys():\n",
    "\n",
    "            counts_right = dictionary[neighbor_right]\n",
    "\n",
    "    else:\n",
    "\n",
    "        second_most_likely_neighbor_key = most_likely_key\n",
    "        second_most_likely_neighbor_counts = most_likely_counts\n",
    "\n",
    "    if counts_left == 0 and counts_right == 0:\n",
    "\n",
    "        second_most_likely_neighbor_key = most_likely_key\n",
    "        second_most_likely_neighbor_counts = most_likely_counts\n",
    "\n",
    "    else:\n",
    "\n",
    "        if counts_left > counts_right:\n",
    "\n",
    "            second_most_likely_neighbor_key = neighbor_left\n",
    "            second_most_likely_neighbor_counts = counts_left\n",
    "\n",
    "        else:\n",
    "\n",
    "            second_most_likely_neighbor_key = neighbor_right\n",
    "            second_most_likely_neighbor_counts = counts_right\n",
    "\n",
    "\n",
    "    # Here we have a dictionary with the outcomes, the two most likely bitstrings and their counts.\n",
    "    # We want to return the most likely bitstring and an average of the counts of the two most\n",
    "    # likely bitstrings\n",
    "\n",
    "    most_likely_bit_phase = evaluate_wrap(2*np.pi*phi, output_to_phi(most_likely_key))\n",
    "    second_most_likely_neighbor_bit_phase = evaluate_wrap(2*np.pi*phi,output_to_phi(second_most_likely_neighbor_key))\n",
    "    second_most_likely_bit_phase = evaluate_wrap(2*np.pi*phi, output_to_phi(second_most_likely_key))\n",
    "\n",
    "\n",
    "    # Now average both second most likely keys.\n",
    "#     numer = (most_likely_counts*most_likely_bit_phase + second_most_likely_counts*second_most_likely_bit_phase)\n",
    "#     denom = (most_likely_counts+second_most_likely_counts)\n",
    "#     two_most_likely_bits_phase = numer/denom\n",
    "\n",
    "    numer = (most_likely_counts*most_likely_bit_phase + second_most_likely_neighbor_counts*second_most_likely_neighbor_bit_phase)\n",
    "    denom = (most_likely_counts+second_most_likely_neighbor_counts)\n",
    "    two_most_likely_neighbor_bits_phase = numer/denom\n",
    "\n",
    "    return two_most_likely_neighbor_bits_phase"
   ]
  },
  {
   "cell_type": "code",
   "execution_count": null,
   "id": "4e89b46c",
   "metadata": {},
   "outputs": [],
   "source": [
    "qpe_solution = []\n",
    "for idx, results in enumerate(param_results.quasi_dists):\n",
    "    solution = most_likely_bitstring(results)\n",
    "    phase = evaluate_wrap(phases[idx], output_to_phi(solution))\n",
    "#     phase = output_to_phi(solution)\n",
    "    qpe_solution.append(2*np.pi*phase)"
   ]
  },
  {
   "cell_type": "code",
   "execution_count": null,
   "id": "859cd2ea",
   "metadata": {},
   "outputs": [],
   "source": [
    "qpe_solution = []\n",
    "for idx, results in enumerate(param_results.quasi_dists):\n",
    "    solution = most_likely_bits(results, phases[idx]/(2*np.pi))\n",
    "    qpe_solution.append(2*np.pi*solution)"
   ]
  },
  {
   "cell_type": "code",
   "execution_count": null,
   "id": "97b9ae1d",
   "metadata": {},
   "outputs": [
    {
     "data": {
      "text/plain": [
       "<matplotlib.legend.Legend at 0x7ff15fcda160>"
      ]
     },
     "execution_count": 10,
     "metadata": {},
     "output_type": "execute_result"
    },
    {
     "data": {
      "image/png": "[encoded data removed]",
      "text/plain": [
       "<Figure size 720x144 with 1 Axes>"
      ]
     },
     "metadata": {
      "needs_background": "light"
     },
     "output_type": "display_data"
    }
   ],
   "source": [
    "import matplotlib.pyplot as plt\n",
    "\n",
    "fig = plt.figure(figsize=(10, 2))\n",
    "plt.plot(phases, qpe_solution, 'o-', label='QPE')\n",
    "\n",
    "plt.ylabel('Output phase')\n",
    "plt.legend()"
   ]
  },
  {
   "cell_type": "markdown",
   "id": "22797505",
   "metadata": {},
   "source": [
    "TODO:\n",
    "- Add summary\n",
    "- Add qiskit-ibm-runtime version\n",
    "- Add qiskit version table\n",
    "- Add qiskit copyright"
   ]
  },
  {
   "cell_type": "markdown",
   "id": "8210f47e",
   "metadata": {},
   "source": []
  }
 ],
 "metadata": {
  "kernelspec": {
   "display_name": "Python 3.9.7 ('primitives')",
   "language": "python",
   "name": "python3"
  },
  "language_info": {
   "codemirror_mode": {
    "name": "ipython",
    "version": 3
   },
   "file_extension": ".py",
   "mimetype": "text/x-python",
   "name": "python",
   "nbconvert_exporter": "python",
   "pygments_lexer": "ipython3",
   "version": "3.9.7"
  },
  "vscode": {
   "interpreter": {
    "hash": "af6556707e0232a0c39475efb4530ef467b63dfdff76af32a65872041f483d9d"
   }
  }
 },
 "nbformat": 4,
 "nbformat_minor": 5
}
