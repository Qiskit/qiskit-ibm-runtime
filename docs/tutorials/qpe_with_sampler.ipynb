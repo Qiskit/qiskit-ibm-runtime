{
 "cells": [
  {
   "cell_type": "markdown",
   "id": "665555c8",
   "metadata": {},
   "source": [
    "# The Quantum Phase Estimation Algorithm\n",
    "\n",
    "In this tutorial, you will run the Quantum Phase Estimation algorithm using the Sampler primitive Qiskit Runtime program."
   ]
  },
  {
   "cell_type": "markdown",
   "id": "420d1072",
   "metadata": {},
   "source": [
    "## Set up your local development environment\n",
    "\n",
    "This tutorial requires a Qiskit Runtime service instance. If you haven't done so already, please follow the [Getting Started Guide](https://qiskit.org/documentation/partners/qiskit_ibm_runtime/getting_started.html) to set one up."
   ]
  },
  {
   "cell_type": "markdown",
   "id": "ab166e9d",
   "metadata": {},
   "source": [
    "## Background information"
   ]
  },
  {
   "cell_type": "markdown",
   "id": "ea2f34b7",
   "metadata": {},
   "source": [
    "### Quantum phase estimation\n",
    "\n",
    "Quantum phase estimation is one of the most important subroutines in quantum computation. It serves as a central building block for many quantum algorithms. The objective of the algorithm is the following:\n",
    "\n",
    "Given a unitary operator $U$, the algorithm estimates $\\theta$ in $U\\vert\\psi \\rangle =e^{\\boldsymbol{2\\pi i} \\theta }|\\psi \\rangle$. Here $|\\psi\\rangle$ is an eigenvector and $e^{\\boldsymbol{2\\pi i}\\theta}$ is the corresponding eigenvalue. Since $U$ is unitary, all of its eigenvalues have a norm of 1.\n",
    "\n",
    "If you want to learn more, you can read the chapter about quantum phase estimation in [the Qiskit textbook](https://learn.qiskit.org/course/ch-algorithms/quantum-phase-estimation)."
   ]
  },
  {
   "cell_type": "markdown",
   "id": "759a4f19",
   "metadata": {},
   "source": [
    "## Step 1: Create QPE circuits and bind parameters to the circuits"
   ]
  },
  {
   "cell_type": "markdown",
   "id": "a18bcbae",
   "metadata": {},
   "source": [
    "### Create QPE circuits"
   ]
  },
  {
   "cell_type": "code",
   "execution_count": 15,
   "id": "c0062d9f",
   "metadata": {},
   "outputs": [],
   "source": [
    "import math\n",
    "import numpy as np\n",
    "\n",
    "from qiskit import QuantumCircuit\n",
    "from qiskit.circuit.library import QFT\n",
    "\n",
    "\n",
    "def make_qpe_circuit(eigenvalue, bits):\n",
    "\n",
    "    def unitary_eff(eigenvalue):\n",
    "\n",
    "        unitary = [-2*eigenvalue, -np.pi/2, np.pi/2]\n",
    "\n",
    "        return unitary\n",
    "    \n",
    "    def controlled_unitary(unitary, control, target, circuit):\n",
    "        circuit.p((unitary[2]-unitary[1])/2, target)\n",
    "        circuit.cx(control, target)\n",
    "        circuit.u(-unitary[0]/2,0,-(unitary[2]+unitary[1])/2, target)\n",
    "        circuit.cx(control, target)\n",
    "        circuit.u(unitary[0]/2,unitary[1],0, target)\n",
    "        return circuit\n",
    "\n",
    "    # Create a quantum circuit with `bits+1` bits of qubits in a quantum register\n",
    "    # and `bits` bits of clbits in a classical register\n",
    "    qc = QuantumCircuit(bits+1, bits)\n",
    "\n",
    "    qc.h(bits)\n",
    "\n",
    "\n",
    "    # Apply controlled-unitaries, conditional rotations, and measure in the X-basis\n",
    "    for nind in range(bits):\n",
    "        k = bits-nind\n",
    "\n",
    "        #First, prepare ancilla in |+>\n",
    "        qc.h(nind)\n",
    "\n",
    "        #Now, apply sequence of 2**(k-1) controlled-unitary\n",
    "        controlled_unitary(unitary_eff(eigenvalue*(2**(k-1))), nind, bits, qc)\n",
    "\n",
    "    qc.barrier()\n",
    "    qc = qc.compose(QFT(bits, inverse=True), list(range(bits)))\n",
    "\n",
    "    qc.barrier()\n",
    "    qc.measure(range(bits), range(bits))\n",
    "\n",
    "    return qc"
   ]
  },
  {
   "cell_type": "markdown",
   "id": "a8d48893",
   "metadata": {},
   "source": [
    "### Bind parameters to QPE circuits"
   ]
  },
  {
   "cell_type": "code",
   "execution_count": 16,
   "id": "a80833a0",
   "metadata": {},
   "outputs": [
    {
     "data": {
      "image/png": "[encoded data removed]",
      "text/plain": [
       "<Figure size 1832.4x325.08 with 1 Axes>"
      ]
     },
     "execution_count": 16,
     "metadata": {},
     "output_type": "execute_result"
    }
   ],
   "source": [
    "from qiskit.circuit import Parameter\n",
    "\n",
    "phase = Parameter('phase')\n",
    "\n",
    "qpe_circuits = make_qpe_circuit(phase, 3)\n",
    "qpe_circuits.draw('mpl',fold=-1)"
   ]
  },
  {
   "cell_type": "code",
   "execution_count": 3,
   "id": "055469e4",
   "metadata": {},
   "outputs": [],
   "source": [
    "number_of_phases = 80\n",
    "phases = np.linspace(0, 4*np.pi, number_of_phases)\n",
    "# Phases need to be expressed as list of lists\n",
    "individual_phases = [[ph] for ph in phases]"
   ]
  },
  {
   "cell_type": "markdown",
   "id": "69b9c027",
   "metadata": {},
   "source": [
    "## Step 2: Submit the circuits to a quantum computer on the cloud"
   ]
  },
  {
   "cell_type": "markdown",
   "id": "3f33a206",
   "metadata": {},
   "source": [
    "### Connect to the Qiskit Runtime service \n",
    "\n",
    "First, connect to the Qiskit Runtime service instance that you created in [the first step](#Set-up-your-local-development-environment)."
   ]
  },
  {
   "cell_type": "code",
   "execution_count": 4,
   "id": "ac4773b1",
   "metadata": {},
   "outputs": [],
   "source": [
    "from qiskit_ibm_runtime import QiskitRuntimeService\n",
    "\n",
    "service = QiskitRuntimeService()\n",
    "options = {'backend_name': 'ibmq_qasm_simulator'}  # use the simulator"
   ]
  },
  {
   "cell_type": "markdown",
   "id": "d2b00453",
   "metadata": {},
   "source": [
    "### Run the circuits using the Sampler primitive"
   ]
  },
  {
   "cell_type": "code",
   "execution_count": 5,
   "id": "8ee9e102",
   "metadata": {},
   "outputs": [],
   "source": [
    "from qiskit_ibm_runtime import Sampler\n",
    "\n",
    "with Sampler(circuits=qpe_circuits, service=service, options=options) as sampler:\n",
    "    param_results = sampler(circuits=[0]*len(phases), parameter_values=individual_phases)"
   ]
  },
  {
   "cell_type": "markdown",
   "id": "9e9f7b84",
   "metadata": {},
   "source": [
    "## Step 3: Analyze results"
   ]
  },
  {
   "cell_type": "code",
   "execution_count": 6,
   "id": "858fdb5d",
   "metadata": {},
   "outputs": [],
   "source": [
    "def evaluate_wrap(phase, phi):\n",
    "    # Choose whether to wrap or not. Phase is the problem phase. Phi is the computation output.\n",
    "    if np.abs(wrapAngle(phi) - phase/(2*np.pi)) < np.abs(phi - phase/(2*(np.pi))):\n",
    "        return wrapAngle(phi)\n",
    "    else:\n",
    "        return phi\n",
    "    \n",
    "def output_to_phi(bitstring):\n",
    "    bin_exp = 0\n",
    "    for ind, stringbit in enumerate(bitstring):\n",
    "        bin_exp += int(stringbit)/2**(ind+1)\n",
    "    return bin_exp\n",
    "\n",
    "def wrapAngle(phase):\n",
    "    # This function maps the interval \\varphi \\in [0,1] into [-0.5, 0.5], where the sub-inverval [0.5,1] moves into [-0.5,0] and the interval [0,0.5] remains untouched\n",
    "    # phases between pi and 2pi become negative.\n",
    "    phase_wrapped = ((phase*2*np.pi + np.pi) % (2 * np.pi) - np.pi)/(2*np.pi)\n",
    "    return phase_wrapped\n",
    "\n",
    "def most_likely_bitstring(dictionary):\n",
    "    return max(dictionary, key=dictionary.get)"
   ]
  },
  {
   "cell_type": "code",
   "execution_count": 7,
   "id": "348d501b",
   "metadata": {},
   "outputs": [],
   "source": [
    "def most_likely_bits(dictionary, phi):\n",
    "\n",
    "    # Return the IPE result if one looks at the most likely outcome and if one looks at the two most likely\n",
    "    # outcomes.\n",
    "    val = list(dictionary.values())\n",
    "    val.sort()\n",
    "    counts_left = 0\n",
    "    counts_right = 0\n",
    "    most_likely_counts = val[-1]\n",
    "\n",
    "    # First we compute the second most likely key without enforcing neighborhood:\n",
    "\n",
    "    if len(dictionary) > 1:\n",
    "\n",
    "        second_most_likely_counts = val[-2]\n",
    "\n",
    "    else:\n",
    "\n",
    "        second_most_likely_counts = most_likely_counts\n",
    "\n",
    "    for key, value in dictionary.items():\n",
    "\n",
    "        if value == most_likely_counts:\n",
    "\n",
    "            most_likely_key = key\n",
    "\n",
    "        if value == second_most_likely_counts:\n",
    "\n",
    "            if len(dictionary) > 1 and val[-2] == val[-1]:\n",
    "\n",
    "                second_most_likely_key = [key for key, value in dictionary.items() if value == val[-2] and key != most_likely_key]\n",
    "                second_most_likely_key = second_most_likely_key[0]\n",
    "            else:\n",
    "                second_most_likely_key = key\n",
    "\n",
    "\n",
    "    neighbor_left = len(most_likely_key)*'1' if most_likely_key == len(most_likely_key)*'0' else format((int(most_likely_key,2)-1), '0%sb'%len(most_likely_key))\n",
    "    neighbor_right = len(most_likely_key)*'0' if most_likely_key == len(most_likely_key)*'1' else format((int(most_likely_key,2)+1), '0%sb'%len(most_likely_key))\n",
    "\n",
    "    if len(dictionary) > 1:\n",
    "\n",
    "        # First check if neighbor keys exist\n",
    "\n",
    "        if neighbor_left in dictionary.keys():\n",
    "\n",
    "            counts_left = dictionary[neighbor_left]\n",
    "\n",
    "        if neighbor_right in dictionary.keys():\n",
    "\n",
    "            counts_right = dictionary[neighbor_right]\n",
    "\n",
    "    else:\n",
    "\n",
    "        second_most_likely_neighbor_key = most_likely_key\n",
    "        second_most_likely_neighbor_counts = most_likely_counts\n",
    "\n",
    "    if counts_left == 0 and counts_right == 0:\n",
    "\n",
    "        second_most_likely_neighbor_key = most_likely_key\n",
    "        second_most_likely_neighbor_counts = most_likely_counts\n",
    "\n",
    "    else:\n",
    "\n",
    "        if counts_left > counts_right:\n",
    "\n",
    "            second_most_likely_neighbor_key = neighbor_left\n",
    "            second_most_likely_neighbor_counts = counts_left\n",
    "\n",
    "        else:\n",
    "\n",
    "            second_most_likely_neighbor_key = neighbor_right\n",
    "            second_most_likely_neighbor_counts = counts_right\n",
    "\n",
    "\n",
    "    # Here we have a dictionary with the outcomes, the two most likely bitstrings and their counts.\n",
    "    # We want to return the most likely bitstring and an average of the counts of the two most\n",
    "    # likely bitstrings\n",
    "\n",
    "    most_likely_bit_phase = evaluate_wrap(2*np.pi*phi, output_to_phi(most_likely_key))\n",
    "    second_most_likely_neighbor_bit_phase = evaluate_wrap(2*np.pi*phi,output_to_phi(second_most_likely_neighbor_key))\n",
    "    second_most_likely_bit_phase = evaluate_wrap(2*np.pi*phi, output_to_phi(second_most_likely_key))\n",
    "\n",
    "\n",
    "    # Now average both second most likely keys.\n",
    "#     numer = (most_likely_counts*most_likely_bit_phase + second_most_likely_counts*second_most_likely_bit_phase)\n",
    "#     denom = (most_likely_counts+second_most_likely_counts)\n",
    "#     two_most_likely_bits_phase = numer/denom\n",
    "\n",
    "    numer = (most_likely_counts*most_likely_bit_phase + second_most_likely_neighbor_counts*second_most_likely_neighbor_bit_phase)\n",
    "    denom = (most_likely_counts+second_most_likely_neighbor_counts)\n",
    "    two_most_likely_neighbor_bits_phase = numer/denom\n",
    "\n",
    "    return two_most_likely_neighbor_bits_phase"
   ]
  },
  {
   "cell_type": "code",
   "execution_count": 8,
   "id": "4e89b46c",
   "metadata": {},
   "outputs": [],
   "source": [
    "qpe_solution = []\n",
    "for idx, results in enumerate(param_results.quasi_dists):\n",
    "    solution = most_likely_bitstring(results)\n",
    "    phase = evaluate_wrap(phases[idx], output_to_phi(solution))\n",
    "#     phase = output_to_phi(solution)\n",
    "    qpe_solution.append(2*np.pi*phase)"
   ]
  },
  {
   "cell_type": "code",
   "execution_count": 9,
   "id": "859cd2ea",
   "metadata": {},
   "outputs": [],
   "source": [
    "qpe_solution = []\n",
    "for idx, results in enumerate(param_results.quasi_dists):\n",
    "    solution = most_likely_bits(results, phases[idx]/(2*np.pi))\n",
    "    qpe_solution.append(2*np.pi*solution)"
   ]
  },
  {
   "cell_type": "code",
   "execution_count": 10,
   "id": "97b9ae1d",
   "metadata": {},
   "outputs": [
    {
     "data": {
      "text/plain": [
       "<matplotlib.legend.Legend at 0x7fd68bae8b80>"
      ]
     },
     "execution_count": 10,
     "metadata": {},
     "output_type": "execute_result"
    },
    {
     "data": {
      "image/png": "[encoded data removed]",
      "text/plain": [
       "<Figure size 720x144 with 1 Axes>"
      ]
     },
     "metadata": {
      "needs_background": "light"
     },
     "output_type": "display_data"
    }
   ],
   "source": [
    "import matplotlib.pyplot as plt\n",
    "\n",
    "fig = plt.figure(figsize=(10, 2))\n",
    "\n",
    "# ax1 = fig.add_axes([0, 0, 1, 1])\n",
    "\n",
    "plt.plot(phases, qpe_solution, 'o-', label='QPE')\n",
    "# plt.plot(phases, chsh2_sim, 'o-', label='CHSH2 Noiseless')\n",
    "# plt.plot(phases, chsh1_exp, 'o-', label='CHSH1 Kolkata')\n",
    "# plt.plot(phases, chsh2_exp, 'o-', label='CHSH2 Kolkata')\n",
    "# plt.axhline(y=2, color='r', linestyle='-')\n",
    "# plt.axhline(y=-2, color='r', linestyle='-')\n",
    "# plt.axhline(y=np.sqrt(2)*2, color='b', linestyle='-.')\n",
    "# plt.axhline(y=-np.sqrt(2)*2, color='b', linestyle='-.')\n",
    "plt.xlabel('Input phase')\n",
    "plt.ylabel('Output phase')\n",
    "plt.legend()"
   ]
  }
 ],
 "metadata": {
  "kernelspec": {
   "display_name": "Python 3.9.7 ('primitives')",
   "language": "python",
   "name": "python3"
  },
  "language_info": {
   "codemirror_mode": {
    "name": "ipython",
    "version": 3
   },
   "file_extension": ".py",
   "mimetype": "text/x-python",
   "name": "python",
   "nbconvert_exporter": "python",
   "pygments_lexer": "ipython3",
   "version": "3.9.7"
  },
  "vscode": {
   "interpreter": {
    "hash": "af6556707e0232a0c39475efb4530ef467b63dfdff76af32a65872041f483d9d"
   }
  }
 },
 "nbformat": 4,
 "nbformat_minor": 5
}
