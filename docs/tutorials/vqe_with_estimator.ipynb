{
 "cells": [
  {
   "cell_type": "markdown",
   "id": "6aa68656",
   "metadata": {},
   "source": [
    "# Variational Quantum Eigensolver with Estimator Primitive"
   ]
  },
  {
   "cell_type": "markdown",
   "id": "15a4588c",
   "metadata": {},
   "source": [
    "## Overview\n",
    "\n",
    "The Variational Quantum Eigensolver (VQE) is an optimization routine for finding the ground state energy (i.e. lowest eigenvalue) of a Hamiltonian and is a considered to be a viable candidate for NISQ hardware. In this tutorial, we will go over how to use Qiskit Runtime to submit variational jobs using the estimator. Specifically, we will be looking at calculating the ground state energy of the $H_2$ molecule using the estimator primitive. "
   ]
  },
  {
   "cell_type": "markdown",
   "id": "eaa7d8a0",
   "metadata": {},
   "source": [
    "## Set up your local development environment\n",
    "\n",
    "This tutorial requires a Qiskit Runtime service instance. If you haven't done so already, follow [these steps](https://qiskit.org/documentation/partners/qiskit_ibm_runtime/getting_started.html) to set one up."
   ]
  },
  {
   "cell_type": "markdown",
   "id": "c5cb8630",
   "metadata": {},
   "source": [
    "## Connect to the Qiskit Runtime service\n",
    "First we have to create our service instance and specify our backend. In this example we will be working with a simulator for the sake of speed, but by simply changing this one line (for choice of backend) this could run on hardware as well. "
   ]
  },
  {
   "cell_type": "code",
   "execution_count": 12,
   "id": "9c482297",
   "metadata": {},
   "outputs": [],
   "source": [
    "from qiskit_ibm_runtime import QiskitRuntimeService, Estimator\n",
    "\n",
    "service = QiskitRuntimeService()\n",
    "\n",
    "options = {\"backend\" : \"ibmq_qasm_simulator\"}"
   ]
  },
  {
   "cell_type": "markdown",
   "id": "e78c4ba0",
   "metadata": {},
   "source": [
    "## Generate Molecular Hamiltonians\n",
    "\n",
    "We will be working with Qiskit Nature to generate and handle molecular hamiltonians. First though, we need to install these packages. This can be done through pip, using the commands shown below. For more information on setting up and working with Qiskit Nature, see this [guide](https://qiskit.org/documentation/nature/getting_started.html).\n",
    "\n",
    "```\n",
    "pip install qiskit-nature\n",
    "pip install 'qiskit-nature[pyscf]'\n",
    "```"
   ]
  },
  {
   "cell_type": "markdown",
   "id": "d722d9ac",
   "metadata": {},
   "source": [
    "\n",
    "Now we need to generate the Hamiltonians that we wish to find the ground state energy of. For this task we will be utilizing Qiskit Nature. First we have to specify how we are converting the fermionic operators of the electronic molecular hamiltonian to qubit operators. Here we will use the Parity Mapper, which maps annihilation to Pauli operators via $\\hat{a} \\rightarrow \\frac{1}{2} \\left ( X_p Z_{p-1} + i Y_p \\right ) X_{p+1} ... X_{N}$"
   ]
  },
  {
   "cell_type": "code",
   "execution_count": 13,
   "id": "015e5945",
   "metadata": {},
   "outputs": [],
   "source": [
    "from qiskit_nature.converters.second_quantization import QubitConverter\n",
    "from qiskit_nature.mappers.second_quantization import ParityMapper\n",
    "\n",
    "qubit_converter = QubitConverter(ParityMapper(), two_qubit_reduction=True)"
   ]
  },
  {
   "cell_type": "markdown",
   "id": "a251b0b2",
   "metadata": {},
   "source": [
    "At our specified bond length we will create an electronic structure problem and generate the second quantized (i.e. fermionic) operators. We then compute the true ground state energy to compare against. "
   ]
  },
  {
   "cell_type": "code",
   "execution_count": 14,
   "id": "ce0f0955",
   "metadata": {},
   "outputs": [],
   "source": [
    "from qiskit_nature.drivers import Molecule\n",
    "from qiskit_nature.drivers.second_quantization import ElectronicStructureDriverType, ElectronicStructureMoleculeDriver\n",
    "from qiskit_nature.problems.second_quantization import ElectronicStructureProblem\n",
    "from qiskit.algorithms import NumPyMinimumEigensolver\n",
    "from qiskit.algorithms import MinimumEigensolverResult\n",
    "from qiskit.opflow import TaperedPauliSumOp\n",
    "import numpy as np\n",
    "\n",
    "dist = 0.72\n",
    "\n",
    "ops = []\n",
    "\n",
    "# Generate the H2 molecule\n",
    "molecule = Molecule(geometry=[['H', [0., 0., 0.]], ['H', [0., 0., dist]]])\n",
    "driver = ElectronicStructureMoleculeDriver(molecule, basis='sto3g', \\\n",
    "                                           driver_type=ElectronicStructureDriverType.PYSCF)\n",
    "\n",
    "# Create the optimization problem to solve\n",
    "es_problem = ElectronicStructureProblem(driver)\n",
    "second_q_ops = es_problem.second_q_ops()      \n",
    "hamiltonian = qubit_converter.convert(second_q_ops[0], num_particles=es_problem.num_particles)\n",
    "# Generate the real solution\n",
    "sol = MinimumEigensolverResult()\n",
    "sol.eigenvalue = NumPyMinimumEigensolver().compute_minimum_eigenvalue(hamiltonian).eigenvalue\n",
    "real_solution = es_problem.interpret(sol).total_energies[0]\n",
    "\n",
    "# Convert the hamiltonian to an opflow op\n",
    "h = hamiltonian.primitive\n",
    "h.coeffs = np.real(hamiltonian.coeffs)\n",
    "ops.append(TaperedPauliSumOp(h, hamiltonian.z2_symmetries))"
   ]
  },
  {
   "cell_type": "markdown",
   "id": "2baf3383",
   "metadata": {},
   "source": [
    "Now we can use this hamiltonian as the observable in our estimator factory. The VQE routine is formalized as $\\min_\\theta \\langle \\Psi | \\hat{H} | \\Psi \\rangle$, so we just need to minimize the expectation values of the hamiltonian. "
   ]
  },
  {
   "cell_type": "code",
   "execution_count": 15,
   "id": "a8151031",
   "metadata": {},
   "outputs": [],
   "source": [
    "from qiskit.algorithms.optimizers import NELDER_MEAD\n",
    "from qiskit.circuit.library import RealAmplitudes\n",
    "\n",
    "circuit = RealAmplitudes(num_qubits=2, reps=2)\n",
    "convergence = []\n",
    "\n",
    "with Estimator(\n",
    "    circuits=circuit,\n",
    "    observables=ops,\n",
    "    options=options,\n",
    "    service=service\n",
    ") as estimator:\n",
    "    def evaluate_expectation(x):\n",
    "        x = list(x)\n",
    "        results = estimator(circuits=[0], observables=[0], parameter_values=[x]).values[0]\n",
    "        return np.real(results)\n",
    "    \n",
    "    def callback(fx):\n",
    "        convergence.append(evaluate_expectation(fx))\n",
    "\n",
    "    np.random.seed(1)\n",
    "    initial_point = np.random.uniform(-np.pi, np.pi, len(circuit.parameters))\n",
    "    optimizer = NELDER_MEAD(80, callback=callback)\n",
    "    _, vqe_solution, _ = optimizer.optimize(initial_point.size, evaluate_expectation, initial_point=initial_point) \n",
    "\n",
    "    sol = MinimumEigensolverResult()\n",
    "    sol.eigenvalue = vqe_solution\n",
    "    vqe_sol = es_problem.interpret(sol).total_energies[0]"
   ]
  },
  {
   "cell_type": "markdown",
   "id": "adc603cd",
   "metadata": {},
   "source": [
    "Now that we solved the electronic hamiltonian, we have to add the nuclear energies."
   ]
  },
  {
   "cell_type": "code",
   "execution_count": 16,
   "id": "fc1023e8",
   "metadata": {},
   "outputs": [],
   "source": [
    "vqe_interpret = []\n",
    "for i in range(len(convergence)):\n",
    "    sol = MinimumEigensolverResult()\n",
    "    sol.eigenvalue = convergence[i]\n",
    "    sol = es_problem.interpret(sol).total_energies[0]\n",
    "    vqe_interpret.append(sol)"
   ]
  },
  {
   "cell_type": "markdown",
   "id": "09e5f016",
   "metadata": {},
   "source": [
    "## Create the convergence plot"
   ]
  },
  {
   "cell_type": "code",
   "execution_count": 18,
   "id": "f0ddfd36",
   "metadata": {},
   "outputs": [
    {
     "data": {
      "image/png": "[encoded data removed]",
      "text/plain": [
       "<Figure size 864x432 with 1 Axes>"
      ]
     },
     "metadata": {
      "needs_background": "light"
     },
     "output_type": "display_data"
    }
   ],
   "source": [
    "import matplotlib.pyplot as plt\n",
    "\n",
    "plt.rcParams[\"font.size\"] = 14\n",
    "\n",
    "# plot loss and reference value\n",
    "plt.figure(figsize=(12, 6))\n",
    "plt.plot(vqe_interpret, label=\"Estimator VQE\")\n",
    "plt.axhline(y=real_solution, color=\"tab:red\", ls=\"--\", label=\"Target\")\n",
    "\n",
    "plt.legend(loc=\"best\")\n",
    "plt.xlabel(\"Iteration\")\n",
    "plt.ylabel(\"Energy [H]\")\n",
    "plt.title(\"VQE energy\")\n",
    "plt.show()"
   ]
  },
  {
   "cell_type": "code",
   "execution_count": 19,
   "id": "4c613583",
   "metadata": {},
   "outputs": [
    {
     "data": {
      "text/plain": [
       "'0.4.0'"
      ]
     },
     "execution_count": 19,
     "metadata": {},
     "output_type": "execute_result"
    }
   ],
   "source": [
    "import qiskit_ibm_runtime\n",
    "qiskit_ibm_runtime.version.get_version_info()"
   ]
  },
  {
   "cell_type": "code",
   "execution_count": 20,
   "id": "9b99ee51",
   "metadata": {},
   "outputs": [
    {
     "data": {
      "text/html": [
       "<h3>Version Information</h3><table><tr><th>Qiskit Software</th><th>Version</th></tr><tr><td><code>qiskit-terra</code></td><td>0.20.0</td></tr><tr><td><code>qiskit-aer</code></td><td>0.10.4</td></tr><tr><td><code>qiskit-ignis</code></td><td>0.7.0</td></tr><tr><td><code>qiskit-ibmq-provider</code></td><td>0.19.0</td></tr><tr><td><code>qiskit-aqua</code></td><td>0.9.5</td></tr><tr><td><code>qiskit</code></td><td>0.36.0</td></tr><tr><td><code>qiskit-nature</code></td><td>0.3.2</td></tr><tr><td><code>qiskit-optimization</code></td><td>0.3.2</td></tr><tr><td><code>qiskit-machine-learning</code></td><td>0.2.1</td></tr><tr><th>System information</th></tr><tr><td>Python version</td><td>3.9.6</td></tr><tr><td>Python compiler</td><td>Clang 10.0.0 </td></tr><tr><td>Python build</td><td>default, Aug 18 2021 12:38:10</td></tr><tr><td>OS</td><td>Darwin</td></tr><tr><td>CPUs</td><td>8</td></tr><tr><td>Memory (Gb)</td><td>32.0</td></tr><tr><td colspan='2'>Tue Apr 12 12:14:11 2022 EDT</td></tr></table>"
      ],
      "text/plain": [
       "<IPython.core.display.HTML object>"
      ]
     },
     "metadata": {},
     "output_type": "display_data"
    },
    {
     "data": {
      "text/html": [
       "<div style='width: 100%; background-color:#d5d9e0;padding-left: 10px; padding-bottom: 10px; padding-right: 10px; padding-top: 5px'><h3>This code is a part of Qiskit</h3><p>&copy; Copyright IBM 2017, 2022.</p><p>This code is licensed under the Apache License, Version 2.0. You may<br>obtain a copy of this license in the LICENSE.txt file in the root directory<br> of this source tree or at http://www.apache.org/licenses/LICENSE-2.0.<p>Any modifications or derivative works of this code must retain this<br>copyright notice, and modified files need to carry a notice indicating<br>that they have been altered from the originals.</p></div>"
      ],
      "text/plain": [
       "<IPython.core.display.HTML object>"
      ]
     },
     "metadata": {},
     "output_type": "display_data"
    }
   ],
   "source": [
    "from qiskit.tools.jupyter import *\n",
    "\n",
    "%qiskit_version_table\n",
    "%qiskit_copyright"
   ]
  }
 ],
 "metadata": {
  "kernelspec": {
   "display_name": "Python 3 (ipykernel)",
   "language": "python",
   "name": "python3"
  },
  "language_info": {
   "codemirror_mode": {
    "name": "ipython",
    "version": 3
   },
   "file_extension": ".py",
   "mimetype": "text/x-python",
   "name": "python",
   "nbconvert_exporter": "python",
   "pygments_lexer": "ipython3",
   "version": "3.9.6"
  }
 },
 "nbformat": 4,
 "nbformat_minor": 5
}
