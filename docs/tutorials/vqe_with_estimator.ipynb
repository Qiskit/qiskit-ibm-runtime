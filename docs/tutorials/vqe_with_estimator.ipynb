{
 "cells": [
  {
   "cell_type": "markdown",
   "id": "0658e7c7",
   "metadata": {},
   "source": [
    "# Variational Quantum Eigensolver with Estimator primitive\n",
    "\n",
    "## Overview\n",
    "\n",
    "The Variational Quantum Eigensolver (VQE) is an optimization routine for finding the ground state energy (the lowest eigenvalue) of a [Hamiltonian](https://en.wikipedia.org/wiki/Hamiltonian_(quantum_mechanics)) and is a considered to be a viable candidate for near-term hardware. In this tutorial, you will learn how to use Qiskit Runtime to submit variational jobs using the `Estimator` primitive. Specifically, you will calculate the ground state energy of the $H_2$ molecule."
   ]
  },
  {
   "cell_type": "markdown",
   "id": "d545bd40",
   "metadata": {},
   "source": [
    "## Set up your local development environment\n",
    "\n",
    "This tutorial requires a Qiskit Runtime service instance. If you haven’t done so already, follow [these steps](https://qiskit.org/documentation/partners/qiskit_ibm_runtime/getting_started.html) to set one up."
   ]
  },
  {
   "cell_type": "markdown",
   "id": "40999714",
   "metadata": {},
   "source": [
    "## Generate molecular Hamiltonians\n",
    "\n",
    "This tutorial uses Qiskit Nature to generate and handle molecular Hamiltonians. If you haven't already, you can install Qiskit Nature (and the PySCF addon) using the following commands. For more information about Qiskit Nature, see the [_Getting started_ guide](https://qiskit.org/documentation/nature/getting_started.html).\n",
    "\n",
    "```\n",
    "pip install qiskit-nature\n",
    "pip install 'qiskit-nature[pyscf]'\n",
    "```\n",
    "\n",
    "Next, we will generate the Hamiltonians that we want to find the ground state energy of. The first step is to use the `PySCFDriver` to convert a string representing our molecule to an `ElectronicStructureProblem`. The next step is to use the `ParityMapper` to convert this problem into a qubit Hamiltonian that can run on a quantum computer."
   ]
  },
  {
   "cell_type": "code",
   "execution_count": 1,
   "id": "24b491fb",
   "metadata": {},
   "outputs": [],
   "source": [
    "from qiskit_nature.second_q.drivers import PySCFDriver\n",
    "\n",
    "driver = PySCFDriver(\n",
    "    atom=\"H 0 0 0; H 0 0 0.72\"  # Two Hydrogen atoms, 0.72 Angstrom apart\n",
    ")\n",
    "molecule = driver.run()\n",
    "\n",
    "from qiskit_nature.second_q.mappers import QubitConverter, ParityMapper\n",
    "\n",
    "qubit_converter = QubitConverter(ParityMapper())\n",
    "hamiltonian = qubit_converter.convert(molecule.second_q_ops()[0])"
   ]
  },
  {
   "cell_type": "markdown",
   "id": "17abfd45",
   "metadata": {},
   "source": [
    "## Solve classically\n",
    "\n",
    "Since this problem is very small, we can solve it exactly using classical methods. The following code uses the minimum eigensolver from the `NumPy` package to find the electronic ground state energy (in Hartree units), which we will use to assess the performance of the VQE."
   ]
  },
  {
   "cell_type": "code",
   "execution_count": 2,
   "id": "4aff30ce",
   "metadata": {},
   "outputs": [
    {
     "data": {
      "text/plain": [
       "-1.8720800636154613"
      ]
     },
     "execution_count": 2,
     "metadata": {},
     "output_type": "execute_result"
    }
   ],
   "source": [
    "from qiskit.algorithms.minimum_eigensolvers import NumPyMinimumEigensolver\n",
    "\n",
    "sol = NumPyMinimumEigensolver().compute_minimum_eigenvalue(hamiltonian)\n",
    "real_solution = molecule.interpret(sol)\n",
    "\n",
    "real_solution.groundenergy"
   ]
  },
  {
   "cell_type": "markdown",
   "id": "7dcf5814",
   "metadata": {},
   "source": [
    "## Solve with VQE\n",
    "\n",
    "Next, we will create our service instance and specify our backend. In this example we will use a simulator to avoid queue times, but you can use the following code to run on a real device by simply changing the backend."
   ]
  },
  {
   "cell_type": "code",
   "execution_count": 3,
   "id": "a1abb664",
   "metadata": {},
   "outputs": [],
   "source": [
    "from qiskit_ibm_runtime import QiskitRuntimeService, Estimator, Session, Options\n",
    "\n",
    "service = QiskitRuntimeService()\n",
    "\n",
    "backend = \"ibmq_qasm_simulator\""
   ]
  },
  {
   "cell_type": "markdown",
   "id": "fa230f96",
   "metadata": {},
   "source": [
    "The next code cell specifies how we want to run the VQE. This includes\n",
    "\n",
    "- the type of circuit (ansatz) used to create our trial state,\n",
    "- the classical algorithm that decides how to adjust our trial state to achieve better solutions, and\n",
    "- the starting parameters.\n",
    "\n",
    "We will also create a simple object to log our intermediate results for plotting later."
   ]
  },
  {
   "cell_type": "code",
   "execution_count": 4,
   "id": "9c59973c",
   "metadata": {},
   "outputs": [],
   "source": [
    "from qiskit.algorithms.minimum_eigensolvers import VQE\n",
    "\n",
    "# Use RealAmplitudes circuit to create trial states\n",
    "from qiskit.circuit.library import RealAmplitudes\n",
    "\n",
    "ansatz = RealAmplitudes(num_qubits=2, reps=2)\n",
    "\n",
    "# Search for better states using SPSA algorithm\n",
    "from qiskit.algorithms.optimizers import SPSA\n",
    "\n",
    "optimizer = SPSA(150)\n",
    "\n",
    "# Set a starting point for reproduceability\n",
    "import numpy as np\n",
    "\n",
    "np.random.seed(6)\n",
    "initial_point = np.random.uniform(-np.pi, np.pi, 12)\n",
    "\n",
    "# Create an object to store intermediate results\n",
    "from dataclasses import dataclass\n",
    "\n",
    "\n",
    "@dataclass\n",
    "class VQELog:\n",
    "    values: list\n",
    "    parameters: list\n",
    "\n",
    "    def update(self, count, parameters, mean, _metadata):\n",
    "        self.values.append(mean)\n",
    "        self.parameters.append(parameters)\n",
    "        print(f\"Running circuit {count} of ~350\", end=\"\\r\", flush=True)\n",
    "\n",
    "\n",
    "log = VQELog([], [])"
   ]
  },
  {
   "cell_type": "markdown",
   "id": "19b9e5ce",
   "metadata": {},
   "source": [
    "The next code cell runs the VQE algorithm. If you chose to run on a real device, the code runs [zero-noise extrapolation](https://arxiv.org/abs/2005.10921) on the final result to estimate the effects of noise, and guess what the result would be from a noiseless device."
   ]
  },
  {
   "cell_type": "code",
   "execution_count": 5,
   "id": "9339acd6",
   "metadata": {},
   "outputs": [
    {
     "name": "stdout",
     "output_type": "stream",
     "text": [
      "Experiment complete.          \n",
      "Raw result: -1.867238744921776\n"
     ]
    }
   ],
   "source": [
    "# Main calculation\n",
    "with Session(service=service, backend=backend) as session:\n",
    "    options = Options()\n",
    "    options.optimization_level = 3\n",
    "\n",
    "    vqe = VQE(\n",
    "        Estimator(session=session, options=options),\n",
    "        ansatz,\n",
    "        optimizer,\n",
    "        callback=log.update,\n",
    "        initial_point=initial_point,\n",
    "    )\n",
    "    result = vqe.compute_minimum_eigenvalue(hamiltonian)\n",
    "    print(\"Experiment complete.\".ljust(30))\n",
    "    print(f\"Raw result: {result.optimal_value}\")\n",
    "\n",
    "    if \"simulator\" not in backend:\n",
    "        # Run once with ZNE error mitigation\n",
    "        options.resilience_level = 2\n",
    "        vqe = VQE(\n",
    "            Estimator(session=session, options=options),\n",
    "            ansatz,\n",
    "            SPSA(1),\n",
    "            initial_point=result.optimal_point,\n",
    "        )\n",
    "        result = vqe.compute_minimum_eigenvalue(hamiltonian)\n",
    "        print(f\"Mitigated result: {result.optimal_value}\")"
   ]
  },
  {
   "cell_type": "markdown",
   "id": "8199c3e9",
   "metadata": {},
   "source": [
    "Finally, the following code cell plots the intermediate results from the optimization process. The optimization algorithm tweaks the parameters to gradually home in on values that produce lower energies. Provided the algorithm does not get caught in a local minima, this graph will plateau at the electronic ground state energy of the molecule."
   ]
  },
  {
   "cell_type": "code",
   "execution_count": 6,
   "id": "31f57034",
   "metadata": {},
   "outputs": [
    {
     "data": {
      "image/svg+xml": "<?xml version=\"1.0\" encoding=\"utf-8\" standalone=\"no\"?>\n<!DOCTYPE svg PUBLIC \"-//W3C//DTD SVG 1.1//EN\"\n  \"http://www.w3.org/Graphics/SVG/1.1/DTD/svg11.dtd\">\n<svg xmlns:xlink=\"http://www.w3.org/1999/xlink\" width=\"742.545312pt\" height=\"403.904125pt\" viewBox=\"0 0 742.545312 403.904125\" xmlns=\"http://www.w3.org/2000/svg\" version=\"1.1\">\n <metadata>\n  <rdf:RDF xmlns:dc=\"http://purl.org/dc/elements/1.1/\" xmlns:cc=\"http://creativecommons.org/ns#\" xmlns:rdf=\"http://www.w3.org/1999/02/22-rdf-syntax-ns#\">\n   <cc:Work>\n    <dc:type rdf:resource=\"http://purl.org/dc/dcmitype/StillImage\"/>\n    <dc:date>2023-02-20T11:58:06.451430</dc:date>\n    <dc:format>image/svg+xml</dc:format>\n    <dc:creator>\n     <cc:Agent>\n      <dc:title>Matplotlib v3.7.0, https://matplotlib.org/</dc:title>\n     </cc:Agent>\n    </dc:creator>\n   </cc:Work>\n  </rdf:RDF>\n </metadata>\n <defs>\n  <style type=\"text/css\">*{stroke-linejoin: round; stroke-linecap: butt}</style>\n </defs>\n <g id=\"figure_1\">\n  <g id=\"patch_1\">\n   <path d=\"M 0 403.904125 \nL 742.545312 403.904125 \nL 742.545312 0 \nL 0 0 \nz\n\" style=\"fill: #ffffff\"/>\n  </g>\n  <g id=\"axes_1\">\n   <g id=\"patch_2\">\n    <path d=\"M 65.745313 358.605375 \nL 735.345312 358.605375 \nL 735.345312 25.965375 \nL 65.745313 25.965375 \nz\n\" style=\"fill: #ffffff\"/>\n   </g>\n   <g id=\"matplotlib.axis_1\">\n    <g id=\"xtick_1\">\n     <g id=\"line2d_1\">\n      <defs>\n       <path id=\"mb86fdf4ffa\" d=\"M 0 0 \nL 0 3.5 \n\" style=\"stroke: #343a3f; stroke-width: 0.8\"/>\n      </defs>\n      <g>\n       <use xlink:href=\"#mb86fdf4ffa\" x=\"96.181676\" y=\"358.605375\" style=\"fill: #343a3f; stroke: #343a3f; stroke-width: 0.8\"/>\n      </g>\n     </g>\n     <g id=\"text_1\">\n      <!-- 0 -->\n      <g style=\"fill: #343a3f\" transform=\"translate(91.727926 376.243188) scale(0.14 -0.14)\">\n       <defs>\n        <path id=\"DejaVuSans-30\" d=\"M 2034 4250 \nQ 1547 4250 1301 3770 \nQ 1056 3291 1056 2328 \nQ 1056 1369 1301 889 \nQ 1547 409 2034 409 \nQ 2525 409 2770 889 \nQ 3016 1369 3016 2328 \nQ 3016 3291 2770 3770 \nQ 2525 4250 2034 4250 \nz\nM 2034 4750 \nQ 2819 4750 3233 4129 \nQ 3647 3509 3647 2328 \nQ 3647 1150 3233 529 \nQ 2819 -91 2034 -91 \nQ 1250 -91 836 529 \nQ 422 1150 422 2328 \nQ 422 3509 836 4129 \nQ 1250 4750 2034 4750 \nz\n\" transform=\"scale(0.015625)\"/>\n       </defs>\n       <use xlink:href=\"#DejaVuSans-30\"/>\n      </g>\n     </g>\n    </g>\n    <g id=\"xtick_2\">\n     <g id=\"line2d_2\">\n      <g>\n       <use xlink:href=\"#mb86fdf4ffa\" x=\"183.142715\" y=\"358.605375\" style=\"fill: #343a3f; stroke: #343a3f; stroke-width: 0.8\"/>\n      </g>\n     </g>\n     <g id=\"text_2\">\n      <!-- 50 -->\n      <g style=\"fill: #343a3f\" transform=\"translate(174.235215 376.243188) scale(0.14 -0.14)\">\n       <defs>\n        <path id=\"DejaVuSans-35\" d=\"M 691 4666 \nL 3169 4666 \nL 3169 4134 \nL 1269 4134 \nL 1269 2991 \nQ 1406 3038 1543 3061 \nQ 1681 3084 1819 3084 \nQ 2600 3084 3056 2656 \nQ 3513 2228 3513 1497 \nQ 3513 744 3044 326 \nQ 2575 -91 1722 -91 \nQ 1428 -91 1123 -41 \nQ 819 9 494 109 \nL 494 744 \nQ 775 591 1075 516 \nQ 1375 441 1709 441 \nQ 2250 441 2565 725 \nQ 2881 1009 2881 1497 \nQ 2881 1984 2565 2268 \nQ 2250 2553 1709 2553 \nQ 1456 2553 1204 2497 \nQ 953 2441 691 2322 \nL 691 4666 \nz\n\" transform=\"scale(0.015625)\"/>\n       </defs>\n       <use xlink:href=\"#DejaVuSans-35\"/>\n       <use xlink:href=\"#DejaVuSans-30\" x=\"63.623047\"/>\n      </g>\n     </g>\n    </g>\n    <g id=\"xtick_3\">\n     <g id=\"line2d_3\">\n      <g>\n       <use xlink:href=\"#mb86fdf4ffa\" x=\"270.103754\" y=\"358.605375\" style=\"fill: #343a3f; stroke: #343a3f; stroke-width: 0.8\"/>\n      </g>\n     </g>\n     <g id=\"text_3\">\n      <!-- 100 -->\n      <g style=\"fill: #343a3f\" transform=\"translate(256.742504 376.243188) scale(0.14 -0.14)\">\n       <defs>\n        <path id=\"DejaVuSans-31\" d=\"M 794 531 \nL 1825 531 \nL 1825 4091 \nL 703 3866 \nL 703 4441 \nL 1819 4666 \nL 2450 4666 \nL 2450 531 \nL 3481 531 \nL 3481 0 \nL 794 0 \nL 794 531 \nz\n\" transform=\"scale(0.015625)\"/>\n       </defs>\n       <use xlink:href=\"#DejaVuSans-31\"/>\n       <use xlink:href=\"#DejaVuSans-30\" x=\"63.623047\"/>\n       <use xlink:href=\"#DejaVuSans-30\" x=\"127.246094\"/>\n      </g>\n     </g>\n    </g>\n    <g id=\"xtick_4\">\n     <g id=\"line2d_4\">\n      <g>\n       <use xlink:href=\"#mb86fdf4ffa\" x=\"357.064793\" y=\"358.605375\" style=\"fill: #343a3f; stroke: #343a3f; stroke-width: 0.8\"/>\n      </g>\n     </g>\n     <g id=\"text_4\">\n      <!-- 150 -->\n      <g style=\"fill: #343a3f\" transform=\"translate(343.703543 376.243188) scale(0.14 -0.14)\">\n       <use xlink:href=\"#DejaVuSans-31\"/>\n       <use xlink:href=\"#DejaVuSans-35\" x=\"63.623047\"/>\n       <use xlink:href=\"#DejaVuSans-30\" x=\"127.246094\"/>\n      </g>\n     </g>\n    </g>\n    <g id=\"xtick_5\">\n     <g id=\"line2d_5\">\n      <g>\n       <use xlink:href=\"#mb86fdf4ffa\" x=\"444.025832\" y=\"358.605375\" style=\"fill: #343a3f; stroke: #343a3f; stroke-width: 0.8\"/>\n      </g>\n     </g>\n     <g id=\"text_5\">\n      <!-- 200 -->\n      <g style=\"fill: #343a3f\" transform=\"translate(430.664582 376.243188) scale(0.14 -0.14)\">\n       <defs>\n        <path id=\"DejaVuSans-32\" d=\"M 1228 531 \nL 3431 531 \nL 3431 0 \nL 469 0 \nL 469 531 \nQ 828 903 1448 1529 \nQ 2069 2156 2228 2338 \nQ 2531 2678 2651 2914 \nQ 2772 3150 2772 3378 \nQ 2772 3750 2511 3984 \nQ 2250 4219 1831 4219 \nQ 1534 4219 1204 4116 \nQ 875 4013 500 3803 \nL 500 4441 \nQ 881 4594 1212 4672 \nQ 1544 4750 1819 4750 \nQ 2544 4750 2975 4387 \nQ 3406 4025 3406 3419 \nQ 3406 3131 3298 2873 \nQ 3191 2616 2906 2266 \nQ 2828 2175 2409 1742 \nQ 1991 1309 1228 531 \nz\n\" transform=\"scale(0.015625)\"/>\n       </defs>\n       <use xlink:href=\"#DejaVuSans-32\"/>\n       <use xlink:href=\"#DejaVuSans-30\" x=\"63.623047\"/>\n       <use xlink:href=\"#DejaVuSans-30\" x=\"127.246094\"/>\n      </g>\n     </g>\n    </g>\n    <g id=\"xtick_6\">\n     <g id=\"line2d_6\">\n      <g>\n       <use xlink:href=\"#mb86fdf4ffa\" x=\"530.986871\" y=\"358.605375\" style=\"fill: #343a3f; stroke: #343a3f; stroke-width: 0.8\"/>\n      </g>\n     </g>\n     <g id=\"text_6\">\n      <!-- 250 -->\n      <g style=\"fill: #343a3f\" transform=\"translate(517.625621 376.243188) scale(0.14 -0.14)\">\n       <use xlink:href=\"#DejaVuSans-32\"/>\n       <use xlink:href=\"#DejaVuSans-35\" x=\"63.623047\"/>\n       <use xlink:href=\"#DejaVuSans-30\" x=\"127.246094\"/>\n      </g>\n     </g>\n    </g>\n    <g id=\"xtick_7\">\n     <g id=\"line2d_7\">\n      <g>\n       <use xlink:href=\"#mb86fdf4ffa\" x=\"617.94791\" y=\"358.605375\" style=\"fill: #343a3f; stroke: #343a3f; stroke-width: 0.8\"/>\n      </g>\n     </g>\n     <g id=\"text_7\">\n      <!-- 300 -->\n      <g style=\"fill: #343a3f\" transform=\"translate(604.58666 376.243188) scale(0.14 -0.14)\">\n       <defs>\n        <path id=\"DejaVuSans-33\" d=\"M 2597 2516 \nQ 3050 2419 3304 2112 \nQ 3559 1806 3559 1356 \nQ 3559 666 3084 287 \nQ 2609 -91 1734 -91 \nQ 1441 -91 1130 -33 \nQ 819 25 488 141 \nL 488 750 \nQ 750 597 1062 519 \nQ 1375 441 1716 441 \nQ 2309 441 2620 675 \nQ 2931 909 2931 1356 \nQ 2931 1769 2642 2001 \nQ 2353 2234 1838 2234 \nL 1294 2234 \nL 1294 2753 \nL 1863 2753 \nQ 2328 2753 2575 2939 \nQ 2822 3125 2822 3475 \nQ 2822 3834 2567 4026 \nQ 2313 4219 1838 4219 \nQ 1578 4219 1281 4162 \nQ 984 4106 628 3988 \nL 628 4550 \nQ 988 4650 1302 4700 \nQ 1616 4750 1894 4750 \nQ 2613 4750 3031 4423 \nQ 3450 4097 3450 3541 \nQ 3450 3153 3228 2886 \nQ 3006 2619 2597 2516 \nz\n\" transform=\"scale(0.015625)\"/>\n       </defs>\n       <use xlink:href=\"#DejaVuSans-33\"/>\n       <use xlink:href=\"#DejaVuSans-30\" x=\"63.623047\"/>\n       <use xlink:href=\"#DejaVuSans-30\" x=\"127.246094\"/>\n      </g>\n     </g>\n    </g>\n    <g id=\"xtick_8\">\n     <g id=\"line2d_8\">\n      <g>\n       <use xlink:href=\"#mb86fdf4ffa\" x=\"704.908949\" y=\"358.605375\" style=\"fill: #343a3f; stroke: #343a3f; stroke-width: 0.8\"/>\n      </g>\n     </g>\n     <g id=\"text_8\">\n      <!-- 350 -->\n      <g style=\"fill: #343a3f\" transform=\"translate(691.547699 376.243188) scale(0.14 -0.14)\">\n       <use xlink:href=\"#DejaVuSans-33\"/>\n       <use xlink:href=\"#DejaVuSans-35\" x=\"63.623047\"/>\n       <use xlink:href=\"#DejaVuSans-30\" x=\"127.246094\"/>\n      </g>\n     </g>\n    </g>\n    <g id=\"text_9\">\n     <!-- Iteration -->\n     <g style=\"fill: #343a3f\" transform=\"translate(370.853281 393.792563) scale(0.14 -0.14)\">\n      <defs>\n       <path id=\"DejaVuSans-49\" d=\"M 628 4666 \nL 1259 4666 \nL 1259 0 \nL 628 0 \nL 628 4666 \nz\n\" transform=\"scale(0.015625)\"/>\n       <path id=\"DejaVuSans-74\" d=\"M 1172 4494 \nL 1172 3500 \nL 2356 3500 \nL 2356 3053 \nL 1172 3053 \nL 1172 1153 \nQ 1172 725 1289 603 \nQ 1406 481 1766 481 \nL 2356 481 \nL 2356 0 \nL 1766 0 \nQ 1100 0 847 248 \nQ 594 497 594 1153 \nL 594 3053 \nL 172 3053 \nL 172 3500 \nL 594 3500 \nL 594 4494 \nL 1172 4494 \nz\n\" transform=\"scale(0.015625)\"/>\n       <path id=\"DejaVuSans-65\" d=\"M 3597 1894 \nL 3597 1613 \nL 953 1613 \nQ 991 1019 1311 708 \nQ 1631 397 2203 397 \nQ 2534 397 2845 478 \nQ 3156 559 3463 722 \nL 3463 178 \nQ 3153 47 2828 -22 \nQ 2503 -91 2169 -91 \nQ 1331 -91 842 396 \nQ 353 884 353 1716 \nQ 353 2575 817 3079 \nQ 1281 3584 2069 3584 \nQ 2775 3584 3186 3129 \nQ 3597 2675 3597 1894 \nz\nM 3022 2063 \nQ 3016 2534 2758 2815 \nQ 2500 3097 2075 3097 \nQ 1594 3097 1305 2825 \nQ 1016 2553 972 2059 \nL 3022 2063 \nz\n\" transform=\"scale(0.015625)\"/>\n       <path id=\"DejaVuSans-72\" d=\"M 2631 2963 \nQ 2534 3019 2420 3045 \nQ 2306 3072 2169 3072 \nQ 1681 3072 1420 2755 \nQ 1159 2438 1159 1844 \nL 1159 0 \nL 581 0 \nL 581 3500 \nL 1159 3500 \nL 1159 2956 \nQ 1341 3275 1631 3429 \nQ 1922 3584 2338 3584 \nQ 2397 3584 2469 3576 \nQ 2541 3569 2628 3553 \nL 2631 2963 \nz\n\" transform=\"scale(0.015625)\"/>\n       <path id=\"DejaVuSans-61\" d=\"M 2194 1759 \nQ 1497 1759 1228 1600 \nQ 959 1441 959 1056 \nQ 959 750 1161 570 \nQ 1363 391 1709 391 \nQ 2188 391 2477 730 \nQ 2766 1069 2766 1631 \nL 2766 1759 \nL 2194 1759 \nz\nM 3341 1997 \nL 3341 0 \nL 2766 0 \nL 2766 531 \nQ 2569 213 2275 61 \nQ 1981 -91 1556 -91 \nQ 1019 -91 701 211 \nQ 384 513 384 1019 \nQ 384 1609 779 1909 \nQ 1175 2209 1959 2209 \nL 2766 2209 \nL 2766 2266 \nQ 2766 2663 2505 2880 \nQ 2244 3097 1772 3097 \nQ 1472 3097 1187 3025 \nQ 903 2953 641 2809 \nL 641 3341 \nQ 956 3463 1253 3523 \nQ 1550 3584 1831 3584 \nQ 2591 3584 2966 3190 \nQ 3341 2797 3341 1997 \nz\n\" transform=\"scale(0.015625)\"/>\n       <path id=\"DejaVuSans-69\" d=\"M 603 3500 \nL 1178 3500 \nL 1178 0 \nL 603 0 \nL 603 3500 \nz\nM 603 4863 \nL 1178 4863 \nL 1178 4134 \nL 603 4134 \nL 603 4863 \nz\n\" transform=\"scale(0.015625)\"/>\n       <path id=\"DejaVuSans-6f\" d=\"M 1959 3097 \nQ 1497 3097 1228 2736 \nQ 959 2375 959 1747 \nQ 959 1119 1226 758 \nQ 1494 397 1959 397 \nQ 2419 397 2687 759 \nQ 2956 1122 2956 1747 \nQ 2956 2369 2687 2733 \nQ 2419 3097 1959 3097 \nz\nM 1959 3584 \nQ 2709 3584 3137 3096 \nQ 3566 2609 3566 1747 \nQ 3566 888 3137 398 \nQ 2709 -91 1959 -91 \nQ 1206 -91 779 398 \nQ 353 888 353 1747 \nQ 353 2609 779 3096 \nQ 1206 3584 1959 3584 \nz\n\" transform=\"scale(0.015625)\"/>\n       <path id=\"DejaVuSans-6e\" d=\"M 3513 2113 \nL 3513 0 \nL 2938 0 \nL 2938 2094 \nQ 2938 2591 2744 2837 \nQ 2550 3084 2163 3084 \nQ 1697 3084 1428 2787 \nQ 1159 2491 1159 1978 \nL 1159 0 \nL 581 0 \nL 581 3500 \nL 1159 3500 \nL 1159 2956 \nQ 1366 3272 1645 3428 \nQ 1925 3584 2291 3584 \nQ 2894 3584 3203 3211 \nQ 3513 2838 3513 2113 \nz\n\" transform=\"scale(0.015625)\"/>\n      </defs>\n      <use xlink:href=\"#DejaVuSans-49\"/>\n      <use xlink:href=\"#DejaVuSans-74\" x=\"29.492188\"/>\n      <use xlink:href=\"#DejaVuSans-65\" x=\"68.701172\"/>\n      <use xlink:href=\"#DejaVuSans-72\" x=\"130.224609\"/>\n      <use xlink:href=\"#DejaVuSans-61\" x=\"171.337891\"/>\n      <use xlink:href=\"#DejaVuSans-74\" x=\"232.617188\"/>\n      <use xlink:href=\"#DejaVuSans-69\" x=\"271.826172\"/>\n      <use xlink:href=\"#DejaVuSans-6f\" x=\"299.609375\"/>\n      <use xlink:href=\"#DejaVuSans-6e\" x=\"360.791016\"/>\n     </g>\n    </g>\n   </g>\n   <g id=\"matplotlib.axis_2\">\n    <g id=\"ytick_1\">\n     <g id=\"line2d_9\">\n      <defs>\n       <path id=\"m401efc62a7\" d=\"M 0 0 \nL -3.5 0 \n\" style=\"stroke: #343a3f; stroke-width: 0.8\"/>\n      </defs>\n      <g>\n       <use xlink:href=\"#m401efc62a7\" x=\"65.745313\" y=\"327.301011\" style=\"fill: #343a3f; stroke: #343a3f; stroke-width: 0.8\"/>\n      </g>\n     </g>\n     <g id=\"text_10\">\n      <!-- −1.8 -->\n      <g style=\"fill: #343a3f\" transform=\"translate(24.749375 332.619917) scale(0.14 -0.14)\">\n       <defs>\n        <path id=\"DejaVuSans-2212\" d=\"M 678 2272 \nL 4684 2272 \nL 4684 1741 \nL 678 1741 \nL 678 2272 \nz\n\" transform=\"scale(0.015625)\"/>\n        <path id=\"DejaVuSans-2e\" d=\"M 684 794 \nL 1344 794 \nL 1344 0 \nL 684 0 \nL 684 794 \nz\n\" transform=\"scale(0.015625)\"/>\n        <path id=\"DejaVuSans-38\" d=\"M 2034 2216 \nQ 1584 2216 1326 1975 \nQ 1069 1734 1069 1313 \nQ 1069 891 1326 650 \nQ 1584 409 2034 409 \nQ 2484 409 2743 651 \nQ 3003 894 3003 1313 \nQ 3003 1734 2745 1975 \nQ 2488 2216 2034 2216 \nz\nM 1403 2484 \nQ 997 2584 770 2862 \nQ 544 3141 544 3541 \nQ 544 4100 942 4425 \nQ 1341 4750 2034 4750 \nQ 2731 4750 3128 4425 \nQ 3525 4100 3525 3541 \nQ 3525 3141 3298 2862 \nQ 3072 2584 2669 2484 \nQ 3125 2378 3379 2068 \nQ 3634 1759 3634 1313 \nQ 3634 634 3220 271 \nQ 2806 -91 2034 -91 \nQ 1263 -91 848 271 \nQ 434 634 434 1313 \nQ 434 1759 690 2068 \nQ 947 2378 1403 2484 \nz\nM 1172 3481 \nQ 1172 3119 1398 2916 \nQ 1625 2713 2034 2713 \nQ 2441 2713 2670 2916 \nQ 2900 3119 2900 3481 \nQ 2900 3844 2670 4047 \nQ 2441 4250 2034 4250 \nQ 1625 4250 1398 4047 \nQ 1172 3844 1172 3481 \nz\n\" transform=\"scale(0.015625)\"/>\n       </defs>\n       <use xlink:href=\"#DejaVuSans-2212\"/>\n       <use xlink:href=\"#DejaVuSans-31\" x=\"83.789062\"/>\n       <use xlink:href=\"#DejaVuSans-2e\" x=\"147.412109\"/>\n       <use xlink:href=\"#DejaVuSans-38\" x=\"179.199219\"/>\n      </g>\n     </g>\n    </g>\n    <g id=\"ytick_2\">\n     <g id=\"line2d_10\">\n      <g>\n       <use xlink:href=\"#m401efc62a7\" x=\"65.745313\" y=\"279.161017\" style=\"fill: #343a3f; stroke: #343a3f; stroke-width: 0.8\"/>\n      </g>\n     </g>\n     <g id=\"text_11\">\n      <!-- −1.6 -->\n      <g style=\"fill: #343a3f\" transform=\"translate(24.749375 284.479923) scale(0.14 -0.14)\">\n       <defs>\n        <path id=\"DejaVuSans-36\" d=\"M 2113 2584 \nQ 1688 2584 1439 2293 \nQ 1191 2003 1191 1497 \nQ 1191 994 1439 701 \nQ 1688 409 2113 409 \nQ 2538 409 2786 701 \nQ 3034 994 3034 1497 \nQ 3034 2003 2786 2293 \nQ 2538 2584 2113 2584 \nz\nM 3366 4563 \nL 3366 3988 \nQ 3128 4100 2886 4159 \nQ 2644 4219 2406 4219 \nQ 1781 4219 1451 3797 \nQ 1122 3375 1075 2522 \nQ 1259 2794 1537 2939 \nQ 1816 3084 2150 3084 \nQ 2853 3084 3261 2657 \nQ 3669 2231 3669 1497 \nQ 3669 778 3244 343 \nQ 2819 -91 2113 -91 \nQ 1303 -91 875 529 \nQ 447 1150 447 2328 \nQ 447 3434 972 4092 \nQ 1497 4750 2381 4750 \nQ 2619 4750 2861 4703 \nQ 3103 4656 3366 4563 \nz\n\" transform=\"scale(0.015625)\"/>\n       </defs>\n       <use xlink:href=\"#DejaVuSans-2212\"/>\n       <use xlink:href=\"#DejaVuSans-31\" x=\"83.789062\"/>\n       <use xlink:href=\"#DejaVuSans-2e\" x=\"147.412109\"/>\n       <use xlink:href=\"#DejaVuSans-36\" x=\"179.199219\"/>\n      </g>\n     </g>\n    </g>\n    <g id=\"ytick_3\">\n     <g id=\"line2d_11\">\n      <g>\n       <use xlink:href=\"#m401efc62a7\" x=\"65.745313\" y=\"231.021023\" style=\"fill: #343a3f; stroke: #343a3f; stroke-width: 0.8\"/>\n      </g>\n     </g>\n     <g id=\"text_12\">\n      <!-- −1.4 -->\n      <g style=\"fill: #343a3f\" transform=\"translate(24.749375 236.339929) scale(0.14 -0.14)\">\n       <defs>\n        <path id=\"DejaVuSans-34\" d=\"M 2419 4116 \nL 825 1625 \nL 2419 1625 \nL 2419 4116 \nz\nM 2253 4666 \nL 3047 4666 \nL 3047 1625 \nL 3713 1625 \nL 3713 1100 \nL 3047 1100 \nL 3047 0 \nL 2419 0 \nL 2419 1100 \nL 313 1100 \nL 313 1709 \nL 2253 4666 \nz\n\" transform=\"scale(0.015625)\"/>\n       </defs>\n       <use xlink:href=\"#DejaVuSans-2212\"/>\n       <use xlink:href=\"#DejaVuSans-31\" x=\"83.789062\"/>\n       <use xlink:href=\"#DejaVuSans-2e\" x=\"147.412109\"/>\n       <use xlink:href=\"#DejaVuSans-34\" x=\"179.199219\"/>\n      </g>\n     </g>\n    </g>\n    <g id=\"ytick_4\">\n     <g id=\"line2d_12\">\n      <g>\n       <use xlink:href=\"#m401efc62a7\" x=\"65.745313\" y=\"182.881028\" style=\"fill: #343a3f; stroke: #343a3f; stroke-width: 0.8\"/>\n      </g>\n     </g>\n     <g id=\"text_13\">\n      <!-- −1.2 -->\n      <g style=\"fill: #343a3f\" transform=\"translate(24.749375 188.199935) scale(0.14 -0.14)\">\n       <use xlink:href=\"#DejaVuSans-2212\"/>\n       <use xlink:href=\"#DejaVuSans-31\" x=\"83.789062\"/>\n       <use xlink:href=\"#DejaVuSans-2e\" x=\"147.412109\"/>\n       <use xlink:href=\"#DejaVuSans-32\" x=\"179.199219\"/>\n      </g>\n     </g>\n    </g>\n    <g id=\"ytick_5\">\n     <g id=\"line2d_13\">\n      <g>\n       <use xlink:href=\"#m401efc62a7\" x=\"65.745313\" y=\"134.741034\" style=\"fill: #343a3f; stroke: #343a3f; stroke-width: 0.8\"/>\n      </g>\n     </g>\n     <g id=\"text_14\">\n      <!-- −1.0 -->\n      <g style=\"fill: #343a3f\" transform=\"translate(24.749375 140.05994) scale(0.14 -0.14)\">\n       <use xlink:href=\"#DejaVuSans-2212\"/>\n       <use xlink:href=\"#DejaVuSans-31\" x=\"83.789062\"/>\n       <use xlink:href=\"#DejaVuSans-2e\" x=\"147.412109\"/>\n       <use xlink:href=\"#DejaVuSans-30\" x=\"179.199219\"/>\n      </g>\n     </g>\n    </g>\n    <g id=\"ytick_6\">\n     <g id=\"line2d_14\">\n      <g>\n       <use xlink:href=\"#m401efc62a7\" x=\"65.745313\" y=\"86.60104\" style=\"fill: #343a3f; stroke: #343a3f; stroke-width: 0.8\"/>\n      </g>\n     </g>\n     <g id=\"text_15\">\n      <!-- −0.8 -->\n      <g style=\"fill: #343a3f\" transform=\"translate(24.749375 91.919946) scale(0.14 -0.14)\">\n       <use xlink:href=\"#DejaVuSans-2212\"/>\n       <use xlink:href=\"#DejaVuSans-30\" x=\"83.789062\"/>\n       <use xlink:href=\"#DejaVuSans-2e\" x=\"147.412109\"/>\n       <use xlink:href=\"#DejaVuSans-38\" x=\"179.199219\"/>\n      </g>\n     </g>\n    </g>\n    <g id=\"ytick_7\">\n     <g id=\"line2d_15\">\n      <g>\n       <use xlink:href=\"#m401efc62a7\" x=\"65.745313\" y=\"38.461046\" style=\"fill: #343a3f; stroke: #343a3f; stroke-width: 0.8\"/>\n      </g>\n     </g>\n     <g id=\"text_16\">\n      <!-- −0.6 -->\n      <g style=\"fill: #343a3f\" transform=\"translate(24.749375 43.779952) scale(0.14 -0.14)\">\n       <use xlink:href=\"#DejaVuSans-2212\"/>\n       <use xlink:href=\"#DejaVuSans-30\" x=\"83.789062\"/>\n       <use xlink:href=\"#DejaVuSans-2e\" x=\"147.412109\"/>\n       <use xlink:href=\"#DejaVuSans-36\" x=\"179.199219\"/>\n      </g>\n     </g>\n    </g>\n    <g id=\"text_17\">\n     <!-- Energy [H] -->\n     <g style=\"fill: #343a3f\" transform=\"translate(17.837813 229.745219) rotate(-90) scale(0.14 -0.14)\">\n      <defs>\n       <path id=\"DejaVuSans-45\" d=\"M 628 4666 \nL 3578 4666 \nL 3578 4134 \nL 1259 4134 \nL 1259 2753 \nL 3481 2753 \nL 3481 2222 \nL 1259 2222 \nL 1259 531 \nL 3634 531 \nL 3634 0 \nL 628 0 \nL 628 4666 \nz\n\" transform=\"scale(0.015625)\"/>\n       <path id=\"DejaVuSans-67\" d=\"M 2906 1791 \nQ 2906 2416 2648 2759 \nQ 2391 3103 1925 3103 \nQ 1463 3103 1205 2759 \nQ 947 2416 947 1791 \nQ 947 1169 1205 825 \nQ 1463 481 1925 481 \nQ 2391 481 2648 825 \nQ 2906 1169 2906 1791 \nz\nM 3481 434 \nQ 3481 -459 3084 -895 \nQ 2688 -1331 1869 -1331 \nQ 1566 -1331 1297 -1286 \nQ 1028 -1241 775 -1147 \nL 775 -588 \nQ 1028 -725 1275 -790 \nQ 1522 -856 1778 -856 \nQ 2344 -856 2625 -561 \nQ 2906 -266 2906 331 \nL 2906 616 \nQ 2728 306 2450 153 \nQ 2172 0 1784 0 \nQ 1141 0 747 490 \nQ 353 981 353 1791 \nQ 353 2603 747 3093 \nQ 1141 3584 1784 3584 \nQ 2172 3584 2450 3431 \nQ 2728 3278 2906 2969 \nL 2906 3500 \nL 3481 3500 \nL 3481 434 \nz\n\" transform=\"scale(0.015625)\"/>\n       <path id=\"DejaVuSans-79\" d=\"M 2059 -325 \nQ 1816 -950 1584 -1140 \nQ 1353 -1331 966 -1331 \nL 506 -1331 \nL 506 -850 \nL 844 -850 \nQ 1081 -850 1212 -737 \nQ 1344 -625 1503 -206 \nL 1606 56 \nL 191 3500 \nL 800 3500 \nL 1894 763 \nL 2988 3500 \nL 3597 3500 \nL 2059 -325 \nz\n\" transform=\"scale(0.015625)\"/>\n       <path id=\"DejaVuSans-20\" transform=\"scale(0.015625)\"/>\n       <path id=\"DejaVuSans-5b\" d=\"M 550 4863 \nL 1875 4863 \nL 1875 4416 \nL 1125 4416 \nL 1125 -397 \nL 1875 -397 \nL 1875 -844 \nL 550 -844 \nL 550 4863 \nz\n\" transform=\"scale(0.015625)\"/>\n       <path id=\"DejaVuSans-48\" d=\"M 628 4666 \nL 1259 4666 \nL 1259 2753 \nL 3553 2753 \nL 3553 4666 \nL 4184 4666 \nL 4184 0 \nL 3553 0 \nL 3553 2222 \nL 1259 2222 \nL 1259 0 \nL 628 0 \nL 628 4666 \nz\n\" transform=\"scale(0.015625)\"/>\n       <path id=\"DejaVuSans-5d\" d=\"M 1947 4863 \nL 1947 -844 \nL 622 -844 \nL 622 -397 \nL 1369 -397 \nL 1369 4416 \nL 622 4416 \nL 622 4863 \nL 1947 4863 \nz\n\" transform=\"scale(0.015625)\"/>\n      </defs>\n      <use xlink:href=\"#DejaVuSans-45\"/>\n      <use xlink:href=\"#DejaVuSans-6e\" x=\"63.183594\"/>\n      <use xlink:href=\"#DejaVuSans-65\" x=\"126.5625\"/>\n      <use xlink:href=\"#DejaVuSans-72\" x=\"188.085938\"/>\n      <use xlink:href=\"#DejaVuSans-67\" x=\"227.449219\"/>\n      <use xlink:href=\"#DejaVuSans-79\" x=\"290.925781\"/>\n      <use xlink:href=\"#DejaVuSans-20\" x=\"350.105469\"/>\n      <use xlink:href=\"#DejaVuSans-5b\" x=\"381.892578\"/>\n      <use xlink:href=\"#DejaVuSans-48\" x=\"420.90625\"/>\n      <use xlink:href=\"#DejaVuSans-5d\" x=\"496.101562\"/>\n     </g>\n    </g>\n   </g>\n   <g id=\"line2d_16\">\n    <path d=\"M 96.181676 146.777379 \nL 97.920897 142.692861 \nL 99.660118 175.163888 \nL 101.399338 143.051661 \nL 103.138559 186.012843 \nL 104.87778 96.859543 \nL 106.617001 139.06883 \nL 108.356222 200.151238 \nL 110.095442 169.538805 \nL 111.834663 160.799767 \nL 113.573884 125.859412 \nL 115.313105 157.96633 \nL 117.052325 144.735146 \nL 118.791546 173.935516 \nL 120.530767 169.142366 \nL 122.269988 130.620724 \nL 124.009209 178.723806 \nL 125.748429 137.310445 \nL 127.48765 179.553759 \nL 129.226871 138.288015 \nL 130.966092 170.909107 \nL 132.705312 142.737764 \nL 134.444533 150.131044 \nL 136.183754 145.530594 \nL 137.922975 132.91703 \nL 139.662196 183.22491 \nL 141.401416 186.254091 \nL 143.140637 127.943436 \nL 144.879858 121.766037 \nL 146.619079 184.588201 \nL 148.3583 139.97955 \nL 150.09752 187.828676 \nL 151.836741 147.92631 \nL 153.575962 173.861079 \nL 155.315183 161.256684 \nL 157.054403 158.556427 \nL 158.793624 168.041991 \nL 160.532845 122.256497 \nL 162.272066 173.149719 \nL 164.011287 143.184951 \nL 165.750507 166.365185 \nL 167.489728 131.530771 \nL 169.228949 138.900628 \nL 170.96817 185.603712 \nL 172.70739 143.721191 \nL 174.446611 178.775995 \nL 176.185832 138.262802 \nL 177.925053 154.620332 \nL 179.664274 179.841763 \nL 181.403494 112.781505 \nL 183.142715 164.519618 \nL 184.881936 126.192856 \nL 186.621157 73.892578 \nL 188.360377 84.568008 \nL 190.099598 41.085375 \nL 191.838819 110.926123 \nL 193.57804 106.796872 \nL 195.317261 147.825117 \nL 197.056481 102.743446 \nL 198.795702 149.509525 \nL 200.534923 164.209989 \nL 202.274144 159.758059 \nL 204.013364 145.450925 \nL 205.752585 161.821101 \nL 207.491806 151.574774 \nL 209.231027 143.829479 \nL 210.970248 162.580341 \nL 212.709468 147.65597 \nL 214.448689 153.595746 \nL 216.18791 165.184169 \nL 217.927131 157.661499 \nL 219.666351 164.632534 \nL 221.405572 167.09622 \nL 223.144793 170.228852 \nL 224.884014 160.826981 \nL 226.623235 165.817923 \nL 228.362455 169.615413 \nL 230.101676 153.392796 \nL 231.840897 177.836841 \nL 233.580118 166.165377 \nL 235.319338 156.180579 \nL 237.058559 171.676357 \nL 238.79778 165.714439 \nL 240.537001 162.59321 \nL 242.276222 180.527902 \nL 244.015442 157.817603 \nL 245.754663 176.406517 \nL 247.493884 178.536581 \nL 249.233105 182.631476 \nL 250.972325 166.931399 \nL 252.711546 175.550078 \nL 254.450767 167.164034 \nL 256.189988 179.694027 \nL 257.929209 174.087307 \nL 259.668429 199.345314 \nL 261.40765 163.465701 \nL 263.146871 179.833341 \nL 264.886092 201.549715 \nL 266.625312 197.264019 \nL 268.364533 197.601374 \nL 270.103754 187.134045 \nL 271.842975 191.007148 \nL 273.582196 189.746698 \nL 275.321416 205.276464 \nL 277.060637 219.071998 \nL 278.799858 190.710849 \nL 280.539079 218.442035 \nL 282.2783 193.361492 \nL 284.01752 196.233282 \nL 285.756741 211.745343 \nL 287.495962 219.637871 \nL 289.235183 207.670568 \nL 290.974403 216.196498 \nL 292.713624 219.563834 \nL 294.452845 229.766398 \nL 296.192066 200.392305 \nL 297.931287 231.674987 \nL 299.670507 200.481135 \nL 301.409728 235.024507 \nL 303.148949 223.869847 \nL 304.88817 216.051418 \nL 306.62739 236.276975 \nL 308.366611 247.087146 \nL 310.105832 222.662099 \nL 311.845053 240.072127 \nL 313.584274 219.096433 \nL 315.323494 242.040639 \nL 317.062715 227.661179 \nL 318.801936 237.646199 \nL 320.541157 227.232072 \nL 322.280377 224.548644 \nL 324.019598 257.570261 \nL 325.758819 267.842744 \nL 327.49804 223.474702 \nL 329.237261 259.853215 \nL 330.976481 253.765662 \nL 332.715702 269.721232 \nL 334.454923 251.528094 \nL 336.194144 256.581914 \nL 337.933364 267.694366 \nL 339.672585 244.284645 \nL 341.411806 289.067296 \nL 343.151027 278.440797 \nL 344.890248 280.051721 \nL 346.629468 284.063251 \nL 348.368689 266.981897 \nL 350.10791 264.591647 \nL 351.847131 290.967861 \nL 353.586351 276.872054 \nL 355.325572 301.772909 \nL 357.064793 279.322714 \nL 358.804014 293.507929 \nL 360.543235 295.835255 \nL 362.282455 282.441154 \nL 364.021676 278.033139 \nL 365.760897 297.436672 \nL 367.500118 301.837777 \nL 369.239338 280.179343 \nL 370.978559 315.511278 \nL 372.71778 263.428199 \nL 374.457001 313.495503 \nL 376.196222 313.644622 \nL 377.935442 312.404892 \nL 379.674663 315.32911 \nL 381.413884 314.307833 \nL 383.153105 298.031028 \nL 384.892325 296.989315 \nL 386.631546 305.129795 \nL 388.370767 294.055789 \nL 390.109988 329.086011 \nL 391.849209 322.097933 \nL 393.588429 313.679626 \nL 395.32765 322.959254 \nL 397.066871 317.284507 \nL 398.806092 312.30082 \nL 400.545312 323.635952 \nL 402.284533 316.436942 \nL 404.023754 318.780859 \nL 405.762975 320.101262 \nL 407.502196 312.827032 \nL 409.241416 320.390331 \nL 410.980637 307.456139 \nL 412.719858 311.235432 \nL 414.459079 313.968776 \nL 416.1983 323.541078 \nL 417.93752 310.46227 \nL 419.676741 305.345726 \nL 421.415962 324.305197 \nL 423.155183 301.505041 \nL 424.894403 327.188203 \nL 426.633624 315.399061 \nL 428.372845 314.506978 \nL 430.112066 323.815067 \nL 431.851287 327.153246 \nL 433.590507 321.418882 \nL 435.329728 321.357381 \nL 437.068949 327.452979 \nL 438.80817 326.112162 \nL 440.54739 327.244242 \nL 442.286611 321.434607 \nL 444.025832 320.467305 \nL 445.765053 340.046668 \nL 447.504274 337.72945 \nL 449.243494 316.830242 \nL 450.982715 319.263043 \nL 452.721936 320.387574 \nL 454.461157 321.915035 \nL 456.200377 319.343255 \nL 457.939598 332.355111 \nL 459.678819 326.620819 \nL 461.41804 327.401001 \nL 463.157261 332.544091 \nL 464.896481 325.328445 \nL 466.635702 324.078733 \nL 468.374923 335.441845 \nL 470.114144 330.534134 \nL 471.853364 324.967257 \nL 473.592585 321.614991 \nL 475.331806 329.011187 \nL 477.071027 327.313623 \nL 478.810248 322.64305 \nL 480.549468 331.253841 \nL 482.288689 325.665394 \nL 484.02791 325.250326 \nL 485.767131 331.537496 \nL 487.506351 322.383775 \nL 489.245572 332.190565 \nL 490.984793 327.088427 \nL 492.724014 322.885378 \nL 494.463235 331.324445 \nL 496.202455 335.517791 \nL 497.941676 337.687088 \nL 499.680897 325.042902 \nL 501.420118 329.096128 \nL 503.159338 322.938557 \nL 504.898559 320.852532 \nL 506.63778 327.880363 \nL 508.377001 330.154355 \nL 510.116222 332.099622 \nL 511.855442 331.188982 \nL 513.594663 337.831491 \nL 515.333884 330.153106 \nL 517.073105 329.733707 \nL 518.812325 332.370022 \nL 520.551546 329.291252 \nL 522.290767 340.342923 \nL 524.029988 324.228923 \nL 525.769209 326.111081 \nL 527.508429 326.942907 \nL 529.24765 330.316301 \nL 530.986871 330.958527 \nL 532.726092 327.037293 \nL 534.465312 330.735368 \nL 536.204533 329.802339 \nL 537.943754 326.035752 \nL 539.682975 327.512247 \nL 541.422196 333.219276 \nL 543.161416 331.748091 \nL 544.900637 337.106276 \nL 546.639858 336.636095 \nL 548.379079 326.519103 \nL 550.1183 328.030885 \nL 551.85752 329.71506 \nL 553.596741 321.324753 \nL 555.335962 329.238668 \nL 557.075183 328.669521 \nL 558.814403 326.502991 \nL 560.553624 333.74757 \nL 562.292845 332.196018 \nL 564.032066 331.58242 \nL 565.771287 331.256415 \nL 567.510507 322.9209 \nL 569.249728 336.157896 \nL 570.988949 340.105634 \nL 572.72817 331.915743 \nL 574.46739 331.989302 \nL 576.206611 327.234505 \nL 577.945832 325.565295 \nL 579.685053 333.343448 \nL 581.424274 332.982692 \nL 583.163494 328.659572 \nL 584.902715 329.92426 \nL 586.641936 339.227911 \nL 590.120377 334.200886 \nL 591.859598 328.277371 \nL 593.598819 333.173438 \nL 595.33804 334.747457 \nL 597.077261 331.482466 \nL 598.816481 328.510948 \nL 600.555702 331.796386 \nL 602.294923 333.160715 \nL 604.034144 330.408197 \nL 605.773364 328.351225 \nL 607.512585 337.363205 \nL 609.251806 334.846954 \nL 610.991027 332.124128 \nL 612.730248 328.355513 \nL 614.469468 329.028506 \nL 616.208689 334.077107 \nL 617.94791 329.726321 \nL 619.687131 328.552372 \nL 621.426351 335.63619 \nL 623.165572 337.681077 \nL 624.904793 329.545191 \nL 626.644014 333.836392 \nL 628.383235 331.795373 \nL 630.122455 332.435341 \nL 631.861676 339.097968 \nL 633.600897 338.504592 \nL 635.340118 331.051988 \nL 637.079338 331.9718 \nL 638.818559 334.666371 \nL 640.55778 335.708891 \nL 642.297001 330.825874 \nL 644.036222 332.920344 \nL 645.775442 329.872187 \nL 647.514663 330.281202 \nL 649.253884 328.737691 \nL 650.993105 330.211641 \nL 652.732325 325.429144 \nL 654.471546 331.785481 \nL 656.210767 332.997791 \nL 657.949988 329.32021 \nL 659.689209 335.008215 \nL 661.428429 336.400103 \nL 663.16765 334.652528 \nL 664.906871 338.046956 \nL 666.646092 330.259321 \nL 668.385312 335.974487 \nL 670.124533 328.015515 \nL 671.863754 324.753336 \nL 673.602975 335.620968 \nL 675.342196 334.065668 \nL 677.081416 327.547503 \nL 678.820637 329.740297 \nL 680.559858 329.155483 \nL 682.299079 327.686173 \nL 684.0383 325.557892 \nL 685.77752 327.077471 \nL 687.516741 329.49483 \nL 690.995183 331.110064 \nL 692.734403 330.228247 \nL 694.473624 332.293472 \nL 696.212845 335.142511 \nL 697.952066 328.205246 \nL 699.691287 330.575191 \nL 701.430507 333.255164 \nL 703.169728 333.470764 \nL 704.908949 343.485375 \nL 704.908949 343.485375 \n\" clip-path=\"url(#pa4afebceb7)\" style=\"fill: none; stroke: #1192e8; stroke-linecap: square\"/>\n   </g>\n   <g id=\"line2d_17\">\n    <path d=\"M 65.745313 344.65068 \nL 735.345312 344.65068 \n\" clip-path=\"url(#pa4afebceb7)\" style=\"fill: none; stroke-dasharray: 3.7,1.6; stroke-dashoffset: 0; stroke: #d62728\"/>\n   </g>\n   <g id=\"patch_3\">\n    <path d=\"M 65.745313 358.605375 \nL 65.745313 25.965375 \n\" style=\"fill: none; stroke: #343a3f; stroke-width: 0.8; stroke-linejoin: miter; stroke-linecap: square\"/>\n   </g>\n   <g id=\"patch_4\">\n    <path d=\"M 65.745313 358.605375 \nL 735.345312 358.605375 \n\" style=\"fill: none; stroke: #343a3f; stroke-width: 0.8; stroke-linejoin: miter; stroke-linecap: square\"/>\n   </g>\n   <g id=\"text_18\">\n    <!-- VQE energy -->\n    <g style=\"fill: #343a3f\" transform=\"translate(350.938062 19.965375) scale(0.168 -0.168)\">\n     <defs>\n      <path id=\"DejaVuSans-56\" d=\"M 1831 0 \nL 50 4666 \nL 709 4666 \nL 2188 738 \nL 3669 4666 \nL 4325 4666 \nL 2547 0 \nL 1831 0 \nz\n\" transform=\"scale(0.015625)\"/>\n      <path id=\"DejaVuSans-51\" d=\"M 2522 4238 \nQ 1834 4238 1429 3725 \nQ 1025 3213 1025 2328 \nQ 1025 1447 1429 934 \nQ 1834 422 2522 422 \nQ 3209 422 3611 934 \nQ 4013 1447 4013 2328 \nQ 4013 3213 3611 3725 \nQ 3209 4238 2522 4238 \nz\nM 3406 84 \nL 4238 -825 \nL 3475 -825 \nL 2784 -78 \nQ 2681 -84 2626 -87 \nQ 2572 -91 2522 -91 \nQ 1538 -91 948 567 \nQ 359 1225 359 2328 \nQ 359 3434 948 4092 \nQ 1538 4750 2522 4750 \nQ 3503 4750 4090 4092 \nQ 4678 3434 4678 2328 \nQ 4678 1516 4351 937 \nQ 4025 359 3406 84 \nz\n\" transform=\"scale(0.015625)\"/>\n     </defs>\n     <use xlink:href=\"#DejaVuSans-56\"/>\n     <use xlink:href=\"#DejaVuSans-51\" x=\"68.408203\"/>\n     <use xlink:href=\"#DejaVuSans-45\" x=\"147.119141\"/>\n     <use xlink:href=\"#DejaVuSans-20\" x=\"210.302734\"/>\n     <use xlink:href=\"#DejaVuSans-65\" x=\"242.089844\"/>\n     <use xlink:href=\"#DejaVuSans-6e\" x=\"303.613281\"/>\n     <use xlink:href=\"#DejaVuSans-65\" x=\"366.992188\"/>\n     <use xlink:href=\"#DejaVuSans-72\" x=\"428.515625\"/>\n     <use xlink:href=\"#DejaVuSans-67\" x=\"467.878906\"/>\n     <use xlink:href=\"#DejaVuSans-79\" x=\"531.355469\"/>\n    </g>\n   </g>\n   <g id=\"legend_1\">\n    <g id=\"patch_5\">\n     <path d=\"M 576.50875 78.264125 \nL 728.345312 78.264125 \nL 728.345312 32.965375 \nL 576.50875 32.965375 \nz\n\" style=\"fill: #ffffff; opacity: 0.8; stroke: #cccccc; stroke-linejoin: miter\"/>\n    </g>\n    <g id=\"line2d_18\">\n     <path d=\"M 582.10875 44.303187 \nL 596.10875 44.303187 \nL 610.10875 44.303187 \n\" style=\"fill: none; stroke: #1192e8; stroke-linecap: square\"/>\n    </g>\n    <g id=\"text_19\">\n     <!-- Estimator VQE -->\n     <g style=\"fill: #343a3f\" transform=\"translate(621.30875 49.203187) scale(0.14 -0.14)\">\n      <defs>\n       <path id=\"DejaVuSans-73\" d=\"M 2834 3397 \nL 2834 2853 \nQ 2591 2978 2328 3040 \nQ 2066 3103 1784 3103 \nQ 1356 3103 1142 2972 \nQ 928 2841 928 2578 \nQ 928 2378 1081 2264 \nQ 1234 2150 1697 2047 \nL 1894 2003 \nQ 2506 1872 2764 1633 \nQ 3022 1394 3022 966 \nQ 3022 478 2636 193 \nQ 2250 -91 1575 -91 \nQ 1294 -91 989 -36 \nQ 684 19 347 128 \nL 347 722 \nQ 666 556 975 473 \nQ 1284 391 1588 391 \nQ 1994 391 2212 530 \nQ 2431 669 2431 922 \nQ 2431 1156 2273 1281 \nQ 2116 1406 1581 1522 \nL 1381 1569 \nQ 847 1681 609 1914 \nQ 372 2147 372 2553 \nQ 372 3047 722 3315 \nQ 1072 3584 1716 3584 \nQ 2034 3584 2315 3537 \nQ 2597 3491 2834 3397 \nz\n\" transform=\"scale(0.015625)\"/>\n       <path id=\"DejaVuSans-6d\" d=\"M 3328 2828 \nQ 3544 3216 3844 3400 \nQ 4144 3584 4550 3584 \nQ 5097 3584 5394 3201 \nQ 5691 2819 5691 2113 \nL 5691 0 \nL 5113 0 \nL 5113 2094 \nQ 5113 2597 4934 2840 \nQ 4756 3084 4391 3084 \nQ 3944 3084 3684 2787 \nQ 3425 2491 3425 1978 \nL 3425 0 \nL 2847 0 \nL 2847 2094 \nQ 2847 2600 2669 2842 \nQ 2491 3084 2119 3084 \nQ 1678 3084 1418 2786 \nQ 1159 2488 1159 1978 \nL 1159 0 \nL 581 0 \nL 581 3500 \nL 1159 3500 \nL 1159 2956 \nQ 1356 3278 1631 3431 \nQ 1906 3584 2284 3584 \nQ 2666 3584 2933 3390 \nQ 3200 3197 3328 2828 \nz\n\" transform=\"scale(0.015625)\"/>\n      </defs>\n      <use xlink:href=\"#DejaVuSans-45\"/>\n      <use xlink:href=\"#DejaVuSans-73\" x=\"63.183594\"/>\n      <use xlink:href=\"#DejaVuSans-74\" x=\"115.283203\"/>\n      <use xlink:href=\"#DejaVuSans-69\" x=\"154.492188\"/>\n      <use xlink:href=\"#DejaVuSans-6d\" x=\"182.275391\"/>\n      <use xlink:href=\"#DejaVuSans-61\" x=\"279.6875\"/>\n      <use xlink:href=\"#DejaVuSans-74\" x=\"340.966797\"/>\n      <use xlink:href=\"#DejaVuSans-6f\" x=\"380.175781\"/>\n      <use xlink:href=\"#DejaVuSans-72\" x=\"441.357422\"/>\n      <use xlink:href=\"#DejaVuSans-20\" x=\"482.470703\"/>\n      <use xlink:href=\"#DejaVuSans-56\" x=\"514.257812\"/>\n      <use xlink:href=\"#DejaVuSans-51\" x=\"582.666016\"/>\n      <use xlink:href=\"#DejaVuSans-45\" x=\"661.376953\"/>\n     </g>\n    </g>\n    <g id=\"line2d_19\">\n     <path d=\"M 582.10875 64.852562 \nL 596.10875 64.852562 \nL 610.10875 64.852562 \n\" style=\"fill: none; stroke-dasharray: 3.7,1.6; stroke-dashoffset: 0; stroke: #d62728\"/>\n    </g>\n    <g id=\"text_20\">\n     <!-- Target -->\n     <g style=\"fill: #343a3f\" transform=\"translate(621.30875 69.752562) scale(0.14 -0.14)\">\n      <defs>\n       <path id=\"DejaVuSans-54\" d=\"M -19 4666 \nL 3928 4666 \nL 3928 4134 \nL 2272 4134 \nL 2272 0 \nL 1638 0 \nL 1638 4134 \nL -19 4134 \nL -19 4666 \nz\n\" transform=\"scale(0.015625)\"/>\n      </defs>\n      <use xlink:href=\"#DejaVuSans-54\"/>\n      <use xlink:href=\"#DejaVuSans-61\" x=\"44.583984\"/>\n      <use xlink:href=\"#DejaVuSans-72\" x=\"105.863281\"/>\n      <use xlink:href=\"#DejaVuSans-67\" x=\"145.226562\"/>\n      <use xlink:href=\"#DejaVuSans-65\" x=\"208.703125\"/>\n      <use xlink:href=\"#DejaVuSans-74\" x=\"270.226562\"/>\n     </g>\n    </g>\n   </g>\n  </g>\n </g>\n <defs>\n  <clipPath id=\"pa4afebceb7\">\n   <rect x=\"65.745313\" y=\"25.965375\" width=\"669.6\" height=\"332.64\"/>\n  </clipPath>\n </defs>\n</svg>\n",
      "text/plain": [
       "<Figure size 1200x600 with 1 Axes>"
      ]
     },
     "metadata": {},
     "output_type": "display_data"
    }
   ],
   "source": [
    "import matplotlib.pyplot as plt\n",
    "\n",
    "plt.rcParams[\"font.size\"] = 14\n",
    "\n",
    "# Plot energy and reference value\n",
    "plt.figure(figsize=(12, 6))\n",
    "plt.plot(log.values, label=\"Estimator VQE\")\n",
    "plt.axhline(y=real_solution.groundenergy, color=\"tab:red\", ls=\"--\", label=\"Target\")\n",
    "\n",
    "plt.legend(loc=\"best\")\n",
    "plt.xlabel(\"Iteration\")\n",
    "plt.ylabel(\"Energy [H]\")\n",
    "plt.title(\"VQE energy\")\n",
    "plt.show()"
   ]
  },
  {
   "cell_type": "code",
   "execution_count": 7,
   "id": "22d04786",
   "metadata": {},
   "outputs": [
    {
     "data": {
      "text/plain": [
       "'0.8.0'"
      ]
     },
     "execution_count": 7,
     "metadata": {},
     "output_type": "execute_result"
    }
   ],
   "source": [
    "import qiskit_ibm_runtime\n",
    "\n",
    "qiskit_ibm_runtime.version.get_version_info()"
   ]
  },
  {
   "cell_type": "code",
   "execution_count": 10,
   "id": "34280ea9",
   "metadata": {},
   "outputs": [
    {
     "data": {
      "text/html": [
       "<h3>Version Information</h3><table><tr><th>Qiskit Software</th><th>Version</th></tr><tr><td><code>qiskit-terra</code></td><td>0.23.1</td></tr><tr><td><code>qiskit-aer</code></td><td>0.11.2</td></tr><tr><td><code>qiskit-ibmq-provider</code></td><td>0.20.0</td></tr><tr><td><code>qiskit</code></td><td>0.41.0</td></tr><tr><td><code>qiskit-nature</code></td><td>0.5.2</td></tr><tr><th>System information</th></tr><tr><td>Python version</td><td>3.10.6</td></tr><tr><td>Python compiler</td><td>Clang 13.1.6 (clang-1316.0.21.2.5)</td></tr><tr><td>Python build</td><td>main, Aug 11 2022 13:49:25</td></tr><tr><td>OS</td><td>Darwin</td></tr><tr><td>CPUs</td><td>8</td></tr><tr><td>Memory (Gb)</td><td>32.0</td></tr><tr><td colspan='2'>Mon Feb 20 12:12:03 2023 GMT</td></tr></table>"
      ],
      "text/plain": [
       "<IPython.core.display.HTML object>"
      ]
     },
     "metadata": {},
     "output_type": "display_data"
    },
    {
     "data": {
      "text/html": [
       "<div style='width: 100%; background-color:#d5d9e0;padding-left: 10px; padding-bottom: 10px; padding-right: 10px; padding-top: 5px'><h3>This code is a part of Qiskit</h3><p>&copy; Copyright IBM 2017, 2023.</p><p>This code is licensed under the Apache License, Version 2.0. You may<br>obtain a copy of this license in the LICENSE.txt file in the root directory<br> of this source tree or at http://www.apache.org/licenses/LICENSE-2.0.<p>Any modifications or derivative works of this code must retain this<br>copyright notice, and modified files need to carry a notice indicating<br>that they have been altered from the originals.</p></div>"
      ],
      "text/plain": [
       "<IPython.core.display.HTML object>"
      ]
     },
     "metadata": {},
     "output_type": "display_data"
    }
   ],
   "source": [
    "import qiskit.tools.jupyter\n",
    "\n",
    "%qiskit_version_table\n",
    "%qiskit_copyright"
   ]
  }
 ],
 "metadata": {
  "kernelspec": {
   "display_name": "Python 3 (ipykernel)",
   "language": "python",
   "name": "python3"
  },
  "language_info": {
   "codemirror_mode": {
    "name": "ipython",
    "version": 3
   },
   "file_extension": ".py",
   "mimetype": "text/x-python",
   "name": "python",
   "nbconvert_exporter": "python",
   "pygments_lexer": "ipython3",
   "version": "3.10.6"
  }
 },
 "nbformat": 4,
 "nbformat_minor": 5
}
