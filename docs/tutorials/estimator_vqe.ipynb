{
 "cells": [
  {
   "cell_type": "markdown",
   "id": "6aa68656",
   "metadata": {},
   "source": [
    "# Variational Quantum Eigensolver with Estimator Primitive"
   ]
  },
  {
   "cell_type": "markdown",
   "id": "15a4588c",
   "metadata": {},
   "source": [
    "## Overview\n",
    "\n",
    "The Variational Quantum Eigensolver (VQE) is an optimization routine for finding the ground state energy (i.e. lowest eigenvalue) of a Hamiltonain and is a considered to be a viable candidate for NISQ hardware. In this tutorial, we will go over how to use IBM Quantum Runtime to submit your VQE's to the cloud. Specifically, we will be looking at calculating the Potential Energy Surface (PES) of the $H_2$ molecule using the estimator primitive. "
   ]
  },
  {
   "cell_type": "markdown",
   "id": "c5cb8630",
   "metadata": {},
   "source": [
    "### Create Service\n",
    "First we have to create our service instance and instantiate our estimator factory. In this example we will be working with a simulator for the sake of speed, but by simply changing this one line (for choice of backend) this could run on hardware as well. "
   ]
  },
  {
   "cell_type": "code",
   "execution_count": 11,
   "id": "9c482297",
   "metadata": {},
   "outputs": [],
   "source": [
    "from qiskit_ibm_runtime import IBMRuntimeService, IBMEstimator\n",
    "\n",
    "#service = IBMRuntimeService()\n",
    "service = IBMRuntimeService(auth=\"legacy\", token=\"a80ad6b1be1ad6e51fc0fa46a9635ba9361c9b9eae5f74c7390a8c496076037052737658289c42e706a48e10c4619d98b02e27ceaaf6f4f3fc28a1a72b9cf7bd\")\n",
    "\n",
    "\n",
    "estimator_factory = IBMEstimator(service=service, backend=\"ibmq_qasm_simulator\")"
   ]
  },
  {
   "cell_type": "markdown",
   "id": "48037a94",
   "metadata": {},
   "source": [
    "### Molecular Hamiltonians\n",
    "\n",
    "Now we need to generate the Hamiltonians that we wish to find the ground state energy of. For this task we will be utilizing qiskit nature. First we have to specify how we are converting the fermionic operators of the electronic molecular hamiltonian to qubit operators. Here we will use the Parity Mapper, which maps annihilation to Pauli operators via $ \\hat{a} \\rightarrow \\frac{1}{2} \\left ( X_p Z_{p-1} + i Y_p \\right ) X_{p+1} ... X_{N} $"
   ]
  },
  {
   "cell_type": "code",
   "execution_count": 12,
   "id": "021c3fb2",
   "metadata": {},
   "outputs": [],
   "source": [
    "from qiskit_nature.converters.second_quantization import QubitConverter\n",
    "from qiskit_nature.mappers.second_quantization import ParityMapper\n",
    "\n",
    "qubit_converter = QubitConverter(ParityMapper(), two_qubit_reduction=True)"
   ]
  },
  {
   "cell_type": "markdown",
   "id": "300737ed",
   "metadata": {},
   "source": [
    "For PES we generate the molecular hamiltonians at different bond lengths. At each bond length we will create an electronic structure problem and generate the second quantized (i.e. fermionic) operators. We then compute the true ground state energy to compare against. "
   ]
  },
  {
   "cell_type": "code",
   "execution_count": 13,
   "id": "ce0f0955",
   "metadata": {},
   "outputs": [],
   "source": [
    "from qiskit_nature.drivers import Molecule\n",
    "from qiskit_nature.drivers.second_quantization import ElectronicStructureDriverType, ElectronicStructureMoleculeDriver\n",
    "from qiskit_nature.problems.second_quantization import ElectronicStructureProblem\n",
    "from qiskit.algorithms import NumPyMinimumEigensolver\n",
    "from qiskit.algorithms import MinimumEigensolverResult\n",
    "from qiskit.opflow import TaperedPauliSumOp\n",
    "import numpy as np\n",
    "\n",
    "total_dist = 4\n",
    "dist = 0.1\n",
    "incr_early = 0.1\n",
    "incr_late = 0.3\n",
    "\n",
    "real_energies = []\n",
    "dists = []\n",
    "ops = []\n",
    "problems = []\n",
    "while dist < total_dist:\n",
    "    molecule = Molecule(geometry=[['H', [0., 0., 0.]], ['H', [0., 0., dist]]])\n",
    "    driver = ElectronicStructureMoleculeDriver(molecule, basis='sto3g', \\\n",
    "                                               driver_type=ElectronicStructureDriverType.PYSCF)\n",
    "\n",
    "    es_problem = ElectronicStructureProblem(driver)\n",
    "    second_q_ops = es_problem.second_q_ops()      \n",
    "    hamiltonian = qubit_converter.convert(second_q_ops[0], num_particles=es_problem.num_particles)\n",
    "    sol = MinimumEigensolverResult()\n",
    "    sol.eigenvalue = NumPyMinimumEigensolver().compute_minimum_eigenvalue(hamiltonian).eigenvalue\n",
    "    real_solution = es_problem.interpret(sol).total_energies[0]\n",
    "\n",
    "    h = hamiltonian.primitive\n",
    "    h.coeffs = np.real(hamiltonian.coeffs)\n",
    "    real_energies.append(real_solution)\n",
    "    ops.append(TaperedPauliSumOp(h, hamiltonian.z2_symmetries))\n",
    "    dists.append(dist)\n",
    "    problems.append(es_problem)\n",
    "    \n",
    "    if dist > total_dist / 2:\n",
    "        dist += incr_late\n",
    "    else:\n",
    "        dist += incr_early"
   ]
  },
  {
   "cell_type": "markdown",
   "id": "2baf3383",
   "metadata": {},
   "source": [
    "Now we can use these hamiltonians as the observable list in our estimator factory (thus avoiding the need to create many estimator instances). The VQE routine is formalized as $\\min_\\theta \\langle \\Psi | \\hat{H} | \\Psi \\rangle $, so we just need to minimize the expectation values of the hamiltonians. "
   ]
  },
  {
   "cell_type": "code",
   "execution_count": 16,
   "id": "a8151031",
   "metadata": {},
   "outputs": [
    {
     "name": "stdout",
     "output_type": "stream",
     "text": [
      "0 / 26\n",
      "1 / 26\n",
      "2 / 26\n",
      "3 / 26\n",
      "4 / 26\n",
      "5 / 26\n",
      "6 / 26\n",
      "7 / 26\n",
      "8 / 26\n",
      "9 / 26\n",
      "10 / 26\n",
      "11 / 26\n",
      "12 / 26\n",
      "13 / 26\n",
      "14 / 26\n",
      "15 / 26\n",
      "16 / 26\n",
      "17 / 26\n",
      "18 / 26\n",
      "19 / 26\n",
      "20 / 26\n",
      "21 / 26\n",
      "22 / 26\n",
      "23 / 26\n",
      "24 / 26\n",
      "25 / 26\n"
     ]
    }
   ],
   "source": [
    "from qiskit.algorithms.optimizers import SPSA, COBYLA\n",
    "from qiskit.circuit.library import RealAmplitudes\n",
    "\n",
    "circuit = RealAmplitudes(num_qubits=2, reps=2).decompose()\n",
    "vqe_energies = []\n",
    "\n",
    "with estimator_factory(\n",
    "    circuits=[circuit],\n",
    "    observables=ops,\n",
    ") as estimator:\n",
    "    for i in range(len(ops)):\n",
    "        print(i, \"/\", len(ops))\n",
    "        def evaluate_expectation(x):\n",
    "            x = list(x)\n",
    "            results = estimator(circuit_indices=[0], observable_indices=[i], parameter_values=[x]).values[0]\n",
    "            return np.real(results)\n",
    "\n",
    "\n",
    "        initial_point = np.random.uniform(-np.pi, np.pi, 6)\n",
    "        spsa = COBYLA(10)\n",
    "        _, vqe_solution, _ = spsa.optimize(initial_point.size, evaluate_expectation, initial_point=initial_point) \n",
    "        \n",
    "        sol = MinimumEigensolverResult()\n",
    "        sol.eigenvalue = vqe_solution\n",
    "        vqe_sol = es_problem.interpret(sol).total_energies[0]\n",
    "        vqe_energies.append(vqe_sol)\n"
   ]
  },
  {
   "cell_type": "markdown",
   "id": "adc603cd",
   "metadata": {},
   "source": [
    "Now that we solved the electronic hamiltonians, we have to add the nuclear energies."
   ]
  },
  {
   "cell_type": "code",
   "execution_count": 17,
   "id": "fc1023e8",
   "metadata": {},
   "outputs": [],
   "source": [
    "vqe_interpret = []\n",
    "for i in range(len(vqe_energies)):\n",
    "    sol = MinimumEigensolverResult()\n",
    "    sol.eigenvalue = vqe_energies[i]\n",
    "    sol = problems[i].interpret(sol).total_energies[0]\n",
    "    vqe_interpret.append(sol)"
   ]
  },
  {
   "cell_type": "markdown",
   "id": "e93d7ba9",
   "metadata": {},
   "source": [
    "Finally, we can see our PES curve!"
   ]
  },
  {
   "cell_type": "code",
   "execution_count": 18,
   "id": "f0ddfd36",
   "metadata": {},
   "outputs": [
    {
     "data": {
      "image/png": "[encoded data removed]",
      "text/plain": [
       "<Figure size 432x288 with 1 Axes>"
      ]
     },
     "metadata": {
      "needs_background": "light"
     },
     "output_type": "display_data"
    }
   ],
   "source": [
    "import matplotlib.pyplot as plt\n",
    "\n",
    "plt.plot(dists, real_energies, label='Real', color='red')\n",
    "plt.scatter(dists, vqe_interpret, label='VQE', color='black')\n",
    "plt.title(\"H2\")\n",
    "plt.xlim(0, 4)\n",
    "plt.xlabel('Angstroms')\n",
    "plt.ylabel('Hartree')\n",
    "plt.legend()\n",
    "plt.show()"
   ]
  },
  {
   "cell_type": "code",
   "execution_count": 96,
   "id": "9b99ee51",
   "metadata": {},
   "outputs": [
    {
     "data": {
      "text/plain": [
       "{'qiskit-terra': '0.19.2', 'qiskit-aer': '0.10.3', 'qiskit-ignis': '0.7.0', 'qiskit-ibmq-provider': '0.18.3', 'qiskit-aqua': '0.9.5', 'qiskit': '0.34.2', 'qiskit-nature': '0.3.1', 'qiskit-finance': None, 'qiskit-optimization': '0.3.1', 'qiskit-machine-learning': '0.2.1'}"
      ]
     },
     "execution_count": 96,
     "metadata": {},
     "output_type": "execute_result"
    }
   ],
   "source": [
    "import qiskit\n",
    "qiskit.__qiskit_version__"
   ]
  }
 ],
 "metadata": {
  "kernelspec": {
   "display_name": "Python 3 (ipykernel)",
   "language": "python",
   "name": "python3"
  },
  "language_info": {
   "codemirror_mode": {
    "name": "ipython",
    "version": 3
   },
   "file_extension": ".py",
   "mimetype": "text/x-python",
   "name": "python",
   "nbconvert_exporter": "python",
   "pygments_lexer": "ipython3",
   "version": "3.9.6"
  }
 },
 "nbformat": 4,
 "nbformat_minor": 5
}
