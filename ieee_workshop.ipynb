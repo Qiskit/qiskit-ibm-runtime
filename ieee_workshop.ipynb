{
 "cells": [
  {
   "cell_type": "markdown",
   "metadata": {
    "slideshow": {
     "slide_type": "slide"
    }
   },
   "source": [
    "# Quantum Cloud, Near-Time Compute, and Qiskit Runtime\n",
    "<br>\n",
    "<br>\n",
    "\n",
    "jessieyu@us.ibm.com"
   ]
  },
  {
   "cell_type": "markdown",
   "metadata": {
    "slideshow": {
     "slide_type": "slide"
    }
   },
   "source": [
    "You can find a copy of this presentation at\n",
    "\n",
    "https://github.com/Qiskit-Partners/qiskit-runtime/tree/main/tutorials/ieee_workshop.ipynb"
   ]
  },
  {
   "cell_type": "markdown",
   "metadata": {
    "slideshow": {
     "slide_type": "slide"
    }
   },
   "source": [
    "## Agenda\n",
    "\n",
    "- Introduction to Qiskit\n",
    "- Introduction to IBM Quantum\n",
    "- Variational Quantum Algorithms\n",
    "- What is Qiskit Runtime\n",
    "- Running a Qiskit Runtime program\n",
    "- Uploading a Qiskit Runtime program\n",
    "- Invoking Qiskit Runtime API directly\n",
    "- Exercise"
   ]
  },
  {
   "cell_type": "markdown",
   "metadata": {
    "slideshow": {
     "slide_type": "slide"
    }
   },
   "source": [
    "## Introduction to Qiskit\n",
    "\n",
    "Qiskit is a Python-based, open source software development toolkit (SDK) for working with quantum computers.  It can be used at the level of circuits, algorithms, and application modules.\n"
   ]
  },
  {
   "cell_type": "markdown",
   "metadata": {
    "slideshow": {
     "slide_type": "subslide"
    }
   },
   "source": [
    "### Installing Qiskit\n",
    "\n",
    "*Command:* `pip install Qiskit`\n",
    "\n",
    "*Python version:* 3.6+\n"
   ]
  },
  {
   "cell_type": "markdown",
   "metadata": {
    "slideshow": {
     "slide_type": "subslide"
    }
   },
   "source": [
    "### Typical Qiskit Workflow\n",
    "\n",
    "**Build**: Design a quantum circuit(s) that represents the problem you are considering.\n",
    "\n",
    "**Compile**: Compile circuits for a specific quantum backend, e.g., a quantum system or classical simulator.\n",
    "\n",
    "**Run**: Run the compiled circuits on the specified quantum backend.\n",
    "\n",
    "**Analyze**: Compute summary statistics and visualize the results of the experiments.\n"
   ]
  },
  {
   "cell_type": "markdown",
   "metadata": {
    "slideshow": {
     "slide_type": "subslide"
    }
   },
   "source": [
    "#### Step 1: Build the Circuit"
   ]
  },
  {
   "cell_type": "code",
   "execution_count": 1,
   "metadata": {
    "slideshow": {
     "slide_type": "fragment"
    }
   },
   "outputs": [
    {
     "data": {
      "text/html": [
       "<pre style=\"word-wrap: normal;white-space: pre;background: #fff0;line-height: 1.1;font-family: &quot;Courier New&quot;,Courier,monospace\">     ┌───┐     ┌─┐   \n",
       "q_0: ┤ H ├──■──┤M├───\n",
       "     └───┘┌─┴─┐└╥┘┌─┐\n",
       "q_1: ─────┤ X ├─╫─┤M├\n",
       "          └───┘ ║ └╥┘\n",
       "c: 2/═══════════╩══╩═\n",
       "                0  1 </pre>"
      ],
      "text/plain": [
       "     ┌───┐     ┌─┐   \n",
       "q_0: ┤ H ├──■──┤M├───\n",
       "     └───┘┌─┴─┐└╥┘┌─┐\n",
       "q_1: ─────┤ X ├─╫─┤M├\n",
       "          └───┘ ║ └╥┘\n",
       "c: 2/═══════════╩══╩═\n",
       "                0  1 "
      ]
     },
     "execution_count": 1,
     "metadata": {},
     "output_type": "execute_result"
    }
   ],
   "source": [
    "from qiskit import QuantumCircuit\n",
    "\n",
    "# Create a quantum circuit with 2 qubits and 2 classical bits\n",
    "circuit = QuantumCircuit(2, 2)\n",
    "\n",
    "# Add a Hadamard gate on qubit 0\n",
    "circuit.h(0)\n",
    "\n",
    "# Add a CX (CNOT) gate on control qubit 0 and target qubit 1\n",
    "circuit.cx(0, 1)\n",
    "\n",
    "# Measure qubits 0 and 1 onto classical bits 0 and 1\n",
    "circuit.measure([0, 1], [0, 1])\n",
    "\n",
    "# Draw the circuit\n",
    "circuit.draw()"
   ]
  },
  {
   "cell_type": "markdown",
   "metadata": {
    "slideshow": {
     "slide_type": "subslide"
    }
   },
   "source": [
    "#### Step 2: Compile the Circuit"
   ]
  },
  {
   "cell_type": "code",
   "execution_count": 2,
   "metadata": {
    "slideshow": {
     "slide_type": "fragment"
    }
   },
   "outputs": [],
   "source": [
    "from qiskit import transpile\n",
    "from qiskit.providers.aer import AerSimulator\n",
    "\n",
    "# Use a local simulator\n",
    "simulator = AerSimulator()\n",
    "\n",
    "# Compile the circuit down to low-level instructions supported by the backend\n",
    "compiled_circuit = transpile(circuit, simulator)\n"
   ]
  },
  {
   "cell_type": "markdown",
   "metadata": {
    "slideshow": {
     "slide_type": "subslide"
    }
   },
   "source": [
    "#### Step 3: Run the Circuit"
   ]
  },
  {
   "cell_type": "code",
   "execution_count": 3,
   "metadata": {
    "slideshow": {
     "slide_type": "fragment"
    }
   },
   "outputs": [],
   "source": [
    "# Execute the circuit on the qasm simulator\n",
    "# shots defines the number of executions\n",
    "job = simulator.run(compiled_circuit, shots=1000)\n",
    "\n",
    "# Grab results from the job\n",
    "result = job.result()\n"
   ]
  },
  {
   "cell_type": "markdown",
   "metadata": {
    "slideshow": {
     "slide_type": "subslide"
    }
   },
   "source": [
    "#### Step 4: Analyze and Visualize the Result"
   ]
  },
  {
   "cell_type": "code",
   "execution_count": 4,
   "metadata": {
    "slideshow": {
     "slide_type": "fragment"
    }
   },
   "outputs": [
    {
     "data": {
      "image/png": "[encoded data removed]",
      "text/plain": [
       "<Figure size 504x360 with 1 Axes>"
      ]
     },
     "execution_count": 4,
     "metadata": {},
     "output_type": "execute_result"
    }
   ],
   "source": [
    "from qiskit.visualization import plot_histogram\n",
    "\n",
    "# Get summarized counts of qubit measurements\n",
    "counts = result.get_counts()\n",
    "\n",
    "# Plot a histogram\n",
    "# \"00\" means both qubits were measured 0; \"11\" means both were measured 1.\n",
    "plot_histogram(counts)"
   ]
  },
  {
   "cell_type": "markdown",
   "metadata": {
    "slideshow": {
     "slide_type": "slide"
    }
   },
   "source": [
    "## Introduction to IBM Quantum\n",
    "\n",
    "Offers access to cloud-based quantum computing services\n",
    "\n",
    "- quantum processors\n",
    "- simulators\n",
    "- experiments\n",
    "- tutorials\n",
    "- **runtime**"
   ]
  },
  {
   "cell_type": "markdown",
   "metadata": {
    "slideshow": {
     "slide_type": "subslide"
    }
   },
   "source": [
    "### Using Qiskit to access IBM Quantum services\n",
    "\n",
    "Qiskit is designed to work with different providers. A _provider_ is any entity that provides quantum-related services that can be accessed using Qiskit. The most common service is quantum processors. `AQT`, `Honeywell`, and `IBM` are example of companies that provide access to their quantum processors through Qiskit.\n",
    "\n",
    "Since `Runtime` is currently an IBM-only service, this tutorial will focus on using IBM Quantum services.\n"
   ]
  },
  {
   "cell_type": "markdown",
   "metadata": {
    "slideshow": {
     "slide_type": "fragment"
    }
   },
   "source": [
    "Before you can access IBM Quantum services, you need an IBM Quantum account. \n",
    "You can sign up for an account at https://quantum-computing.ibm.com/."
   ]
  },
  {
   "attachments": {},
   "cell_type": "markdown",
   "metadata": {
    "slideshow": {
     "slide_type": "subslide"
    }
   },
   "source": [
    "Once you have an account, you can grab your API token\n",
    "\n",
    "<img src=\"images/api_token.png\">"
   ]
  },
  {
   "cell_type": "markdown",
   "metadata": {
    "slideshow": {
     "slide_type": "subslide"
    }
   },
   "source": [
    "#### Initializing Your Account in Qiskit"
   ]
  },
  {
   "cell_type": "code",
   "execution_count": 5,
   "metadata": {
    "slideshow": {
     "slide_type": "fragment"
    }
   },
   "outputs": [],
   "source": [
    "# Import the module needed to access IBM Quantum\n",
    "from qiskit import IBMQ\n",
    "\n",
    "# Load your IBM Quantum account or enable the account if it's not previously saved.\n",
    "provider   = IBMQ.load_account()\n",
    "# provider = IBMQ.enable_account(MY_TOKEN)"
   ]
  },
  {
   "cell_type": "markdown",
   "metadata": {
    "slideshow": {
     "slide_type": "subslide"
    }
   },
   "source": [
    "IBM Quantum provider uses the syntax:\n",
    "\n",
    "```\n",
    "provider.SERVICE.METHOD()\n",
    "```\n",
    "\n",
    "where SERVICE might be one of {backend, runtime, etc}\n",
    "\n",
    "- Use `provider.backend` to target a quantum processor or simulator for running circuits\n",
    "- Use `provider.runtime` to target a higher level runtime program\n",
    "\n",
    " "
   ]
  },
  {
   "cell_type": "markdown",
   "metadata": {
    "slideshow": {
     "slide_type": "subslide"
    }
   },
   "source": [
    "#### Running a Circuit on IBM Quantum Backend"
   ]
  },
  {
   "cell_type": "code",
   "execution_count": 6,
   "metadata": {
    "slideshow": {
     "slide_type": "fragment"
    }
   },
   "outputs": [],
   "source": [
    "# Select a backend to run the circuit\n",
    "backend = provider.backend.ibmq_qasm_simulator\n",
    "\n",
    "# Compile the circuit for this backend\n",
    "compiled_circuit = transpile(circuit, backend)\n",
    "\n",
    "# Run the circuit on the backend\n",
    "job = backend.run(compiled_circuit)\n",
    "\n",
    "# Get the result\n",
    "result = job.result()"
   ]
  },
  {
   "cell_type": "code",
   "execution_count": 7,
   "metadata": {
    "slideshow": {
     "slide_type": "subslide"
    }
   },
   "outputs": [
    {
     "data": {
      "image/png": "[encoded data removed]",
      "text/plain": [
       "<Figure size 504x360 with 1 Axes>"
      ]
     },
     "execution_count": 7,
     "metadata": {},
     "output_type": "execute_result"
    }
   ],
   "source": [
    "# Plot the result\n",
    "# \"00\" means both qubits were measured 0; \"11\" means both were measured 1.\n",
    "plot_histogram(result.get_counts())\n"
   ]
  },
  {
   "cell_type": "markdown",
   "metadata": {
    "slideshow": {
     "slide_type": "slide"
    }
   },
   "source": [
    "## Variational Quantum Algorithms\n",
    "\n",
    "Variational Quantum Algorithms (VQA) use a classical optimizer to train a parameterized quantum circuit to approximate solutions for a given problem. \n",
    "\n",
    "VQA's typically need fewer gates and qubits. In turn, they are more resistant to noise.\n",
    "\n",
    "Therefore, they are well suited to handle near-term quantum computer constraints."
   ]
  },
  {
   "attachments": {},
   "cell_type": "markdown",
   "metadata": {
    "slideshow": {
     "slide_type": "subslide"
    }
   },
   "source": [
    "VQA's are typically iterative. Each iteration involves both quantum and classical processing. \n",
    "\n",
    "Output (a measurement) from one iteration is sent to the classical optimizer which generates input (a parameter) for the next iteration:\n",
    "\n",
    "<div>\n",
    "<img src=\"images/qva_loop.png\" width=\"600\" align=\"left\"/>\n",
    "</div>"
   ]
  },
  {
   "attachments": {},
   "cell_type": "markdown",
   "metadata": {
    "slideshow": {
     "slide_type": "subslide"
    }
   },
   "source": [
    "## Running a VQA Prior to the Qiskit Runtime\n",
    "\n",
    "<img src=\"images/vqa_pre_runtime.png\">"
   ]
  },
  {
   "cell_type": "markdown",
   "metadata": {
    "slideshow": {
     "slide_type": "slide"
    }
   },
   "source": [
    "## Qiskit Runtime\n",
    "\n",
    "Qiskit Runtime is a new execution model. \n",
    "\n",
    "It reduces I/O overhead for applications, such as VQA's, that need many iterations that use both quantum and classical processing. \n",
    "\n"
   ]
  },
  {
   "attachments": {},
   "cell_type": "markdown",
   "metadata": {
    "slideshow": {
     "slide_type": "subslide"
    }
   },
   "source": [
    "<img src=\"images/vqa_with_runtime.png\">"
   ]
  },
  {
   "cell_type": "markdown",
   "metadata": {
    "slideshow": {
     "slide_type": "subslide"
    }
   },
   "source": [
    "### Qiskit Runtime Benefits\n",
    "\n",
    "This year, the Qiskit Runtime contributed to a **120x** speedup in simulating lithium hydride when compared to a previous simulation from in 2017.\n",
    "\n",
    "Beyond performance, you can also create larger applications using smaller, pre-built programs.\n",
    "\n",
    "Qiskit Runtime programs can be commercialized or shared freely in the cloud."
   ]
  },
  {
   "cell_type": "markdown",
   "metadata": {
    "slideshow": {
     "slide_type": "subslide"
    }
   },
   "source": [
    "### Defining a Qiskit Runtime Program\n"
   ]
  },
  {
   "cell_type": "markdown",
   "metadata": {
    "slideshow": {
     "slide_type": "fragment"
    }
   },
   "source": [
    "**source**: Python code that uses Qiskit to do quantum/classical processing\n",
    "\n",
    "**metadata**: Documentation that describes what the program does"
   ]
  },
  {
   "cell_type": "markdown",
   "metadata": {
    "slideshow": {
     "slide_type": "subslide"
    }
   },
   "source": [
    "#### Example: sample-program"
   ]
  },
  {
   "cell_type": "code",
   "execution_count": 8,
   "metadata": {
    "slideshow": {
     "slide_type": "fragment"
    }
   },
   "outputs": [],
   "source": [
    "import random\n",
    "\n",
    "from qiskit import transpile\n",
    "from qiskit.circuit.random import random_circuit\n",
    "\n",
    "def prepare_circuits(backend):\n",
    "    \"\"\"Generate a random circuit.\"\"\"\n",
    "    circuit = random_circuit(num_qubits=5, depth=4, measure=True,\n",
    "                             seed=random.randint(0, 1000))\n",
    "    return transpile(circuit, backend)\n",
    "\n",
    "\n",
    "def main(backend, user_messenger, iterations):\n",
    "    \"\"\"Main entry point of the program.\"\"\"\n",
    "    for it in range(iterations):\n",
    "        qc = prepare_circuits(backend)\n",
    "        result = backend.run(qc).result()\n",
    "        user_messenger.publish({\"iteration\": it, \"counts\": result.get_counts()})\n",
    "\n",
    "    return \"All done!\""
   ]
  },
  {
   "cell_type": "markdown",
   "metadata": {
    "slideshow": {
     "slide_type": "subslide"
    }
   },
   "source": [
    "#### sample-program Metadata\n",
    "\n",
    "```\n",
    "{\n",
    "  \"name\": \"sample-program\",\n",
    "  \"description\": \"A sample runtime program.\",\n",
    "  \"max_execution_time\": 300,\n",
    "  \"version\": \"1.0\",\n",
    "  \"backend_requirements\": {\"min_num_qubits\":  5},\n",
    "  \"parameters\": [\n",
    "    {\"name\": \"iterations\", \"description\": \"Number of iterations to run. Each iteration generates and runs a random circuit.\", \"type\": \"int\", \"required\": True}\n",
    "  ],\n",
    "  \"return_values\": [\n",
    "    {\"name\": \"-\", \"description\": \"A string that says 'All done!'.\", \"type\": \"string\"}\n",
    "  ],\n",
    "  \"interim_results\": [\n",
    "    {\"name\": \"iteration\", \"description\": \"Iteration number.\", \"type\": \"int\"},\n",
    "    {\"name\": \"counts\", \"description\": \"Histogram data of the circuit result.\", \"type\": \"dict\"}\n",
    "  ]\n",
    "}\n",
    "```"
   ]
  },
  {
   "cell_type": "markdown",
   "metadata": {
    "slideshow": {
     "slide_type": "slide"
    }
   },
   "source": [
    "## Finding and Running Programs"
   ]
  },
  {
   "cell_type": "markdown",
   "metadata": {
    "slideshow": {
     "slide_type": "fragment"
    }
   },
   "source": [
    "Since programs are now stored in the cloud, you can browse and run previously published programs.\n",
    "\n",
    "Using Qiskit (0.29+), you can search by program ID or browse the entire catalog. \n",
    "\n",
    "You can also list available programs on the IBM Quantum website. "
   ]
  },
  {
   "cell_type": "markdown",
   "metadata": {
    "slideshow": {
     "slide_type": "subslide"
    }
   },
   "source": [
    "### Finding by Program ID"
   ]
  },
  {
   "cell_type": "code",
   "execution_count": 9,
   "metadata": {
    "slideshow": {
     "slide_type": "fragment"
    }
   },
   "outputs": [
    {
     "name": "stdout",
     "output_type": "stream",
     "text": [
      "sample-program:\n",
      "  Name: sample-program\n",
      "  Description: A sample runtime program.\n",
      "  Version: 1.0\n",
      "  Creation date: 2021-07-02T13:45:13.000000\n",
      "  Max execution time: 300\n",
      "  Input parameters:\n",
      "    - iterations:\n",
      "      Description: Number of iterations to run. Each iteration generates and runs a random circuit.\n",
      "      Type: int\n",
      "      Required: True\n",
      "  Interim results:\n",
      "    - iteration:\n",
      "      Description: Iteration number.\n",
      "      Type: int\n",
      "    - counts:\n",
      "      Description: Histogram data of the circuit result.\n",
      "      Type: dict\n",
      "  Returns:\n",
      "    - -:\n",
      "      Description: A string that says 'All done!'.\n",
      "      Type: string\n"
     ]
    }
   ],
   "source": [
    "# Print the metadata of a runtime program\n",
    "print(provider.runtime.program(\"sample-program\"))"
   ]
  },
  {
   "cell_type": "markdown",
   "metadata": {
    "slideshow": {
     "slide_type": "subslide"
    }
   },
   "source": [
    "### Listing All Programs"
   ]
  },
  {
   "cell_type": "code",
   "execution_count": 10,
   "metadata": {
    "slideshow": {
     "slide_type": "fragment"
    }
   },
   "outputs": [
    {
     "name": "stdout",
     "output_type": "stream",
     "text": [
      "==================================================\n",
      "vqe:\n",
      "  Name: vqe\n",
      "  Description: Variational Quantum Eigensolver (VQE) to find the minimal eigenvalue of a Hamiltonian.\n",
      "  Version: 1.1\n",
      "  Creation date: 2021-08-12T07:06:50.000000\n",
      "  Max execution time: 18000\n",
      "  Input parameters:\n",
      "    - ansatz:\n",
      "      Description: A parameterized quantum circuit preparing the ansatz wavefunction for the VQE. It is assumed that all qubits are initially in the 0 state.\n",
      "      Type: QuantumCircuit\n",
      "      Required: True\n",
      "    - operator:\n",
      "      Description: The Hamiltonian whose smallest eigenvalue we're trying to find.\n",
      "      Type: PauliSumOp\n",
      "      Required: True\n",
      "    - optimizer:\n",
      "      Description: The classical optimizer used in to update the parameters in each iteration. Can be either any of Qiskit's optimizer classes. If a dictionary, only SPSA and QN-SPSA are supported and the dictionary must specify the name and options of the optimizer, e.g. ``{'name': 'SPSA', 'maxiter': 100}``.\n",
      "      Type: Union[Optimizer, dict]\n",
      "      Required: True\n",
      "    - initial_parameters:\n",
      "      Description: Initial parameters of the ansatz. Can be an array or the string ``'random'`` to choose random initial parameters.\n",
      "      Type: Union[numpy.ndarray, str]\n",
      "      Required: True\n",
      "    - aux_operators:\n",
      "      Description: A list of operators to be evaluated at the final, optimized state.\n",
      "      Type: List[PauliSumOp]\n",
      "      Required: False\n",
      "    - shots:\n",
      "      Description: The number of shots used for each circuit evaluation. Defaults to 1024.\n",
      "      Type: int\n",
      "      Required: False\n",
      "    - measurement_error_mitigation:\n",
      "      Description: Whether to apply measurement error mitigation in form of a complete measurement fitter to the measurements. Defaults to False.\n",
      "      Type: bool\n",
      "      Required: False\n",
      "    - initial_layout:\n",
      "      Description: Initial position of virtual qubits on the physical qubits of the quantum device. Default is None.\n",
      "      Type: list or dict\n",
      "      Required: False\n",
      "  Interim results:\n",
      "    none\n",
      "  Returns:\n",
      "    - optimizer_evals:\n",
      "      Description: The number of steps of the optimizer.\n",
      "      Type: int\n",
      "    - optimizer_time:\n",
      "      Description: The total time taken by the optimizer.\n",
      "      Type: float\n",
      "    - optimal_value:\n",
      "      Description: The smallest value found during the optimization. Equal to the ``eigenvalue`` attribute.\n",
      "      Type: float\n",
      "    - optimal_point:\n",
      "      Description: The optimal parameter values found during the optimization.\n",
      "      Type: np.ndarray\n",
      "    - optimal_parameters:\n",
      "      Description: Not supported at the moment, therefore ``None``.\n",
      "      Type: NoneType\n",
      "    - cost_function_evals:\n",
      "      Description: The number of cost function (energy) evaluations\n",
      "      Type: int\n",
      "    - eigenstate:\n",
      "      Description: The square root of sampling probabilities for each computational basis state of the circuit with optimal parameters.\n",
      "      Type: dict\n",
      "    - eigenvalue:\n",
      "      Description: The estimated eigenvalue.\n",
      "      Type: complex\n",
      "    - aux_operator_eigenvalues:\n",
      "      Description: The expectation values of the auxiliary operators at the optimal state.\n",
      "      Type: np.ndarray\n",
      "    - optimizer_history:\n",
      "      Description: A dictionary containing information about the optimization process: the value objective function, parameters, and a timestamp.\n",
      "      Type: dict\n",
      "==================================================\n",
      "circuit-runner:\n",
      "  Name: circuit-runner\n",
      "  Description: A runtime program that takes one or more circuits, compiles them, executes them, and optionally applies measurement error mitigation.\n",
      "  Version: 1.0\n",
      "  Creation date: 2021-07-02T13:46:10.000000\n",
      "  Max execution time: 14400\n",
      "  Input parameters:\n",
      "    - circuits:\n",
      "      Description: A circuit or a list of circuits.\n",
      "      Type: A QuantumCircuit or a list of QuantumCircuits.\n",
      "      Required: True\n",
      "    - shots:\n",
      "      Description: Number of repetitions of each circuit, for sampling. Default: 1024.\n",
      "      Type: int\n",
      "      Required: False\n",
      "    - initial_layout:\n",
      "      Description: Initial position of virtual qubits on physical qubits.\n",
      "      Type: dict or list\n",
      "      Required: False\n",
      "    - layout_method:\n",
      "      Description: Name of layout selection pass ('trivial', 'dense', 'noise_adaptive', 'sabre')\n",
      "      Type: string\n",
      "      Required: False\n",
      "    - routing_method:\n",
      "      Description: Name of routing pass ('basic', 'lookahead', 'stochastic', 'sabre').\n",
      "      Type: string\n",
      "      Required: False\n",
      "    - translation_method:\n",
      "      Description: Name of translation pass ('unroller', 'translator', 'synthesis').\n",
      "      Type: string\n",
      "      Required: False\n",
      "    - seed_transpiler:\n",
      "      Description: Sets random seed for the stochastic parts of the transpiler.\n",
      "      Type: int\n",
      "      Required: False\n",
      "    - optimization_level:\n",
      "      Description: How much optimization to perform on the circuits (0-3). Higher levels generate more optimized circuits. Default is 1.\n",
      "      Type: int\n",
      "      Required: False\n",
      "    - init_qubits:\n",
      "      Description: Whether to reset the qubits to the ground state for each shot.\n",
      "      Type: bool\n",
      "      Required: False\n",
      "    - rep_delay:\n",
      "      Description: Delay between programs in seconds.\n",
      "      Type: float\n",
      "      Required: False\n",
      "    - transpiler_options:\n",
      "      Description: Additional compilation options.\n",
      "      Type: dict\n",
      "      Required: False\n",
      "    - measurement_error_mitigation:\n",
      "      Description: Whether to apply measurement error mitigation. Default is False.\n",
      "      Type: bool\n",
      "      Required: False\n",
      "  Interim results:\n",
      "    none\n",
      "  Returns:\n",
      "    - -:\n",
      "      Description: Circuit execution results.\n",
      "      Type: RunnerResult object\n",
      "==================================================\n",
      "sample-program:\n",
      "  Name: sample-program\n",
      "  Description: A sample runtime program.\n",
      "  Version: 1.0\n",
      "  Creation date: 2021-07-02T13:45:13.000000\n",
      "  Max execution time: 300\n",
      "  Input parameters:\n",
      "    - iterations:\n",
      "      Description: Number of iterations to run. Each iteration generates and runs a random circuit.\n",
      "      Type: int\n",
      "      Required: True\n",
      "  Interim results:\n",
      "    - iteration:\n",
      "      Description: Iteration number.\n",
      "      Type: int\n",
      "    - counts:\n",
      "      Description: Histogram data of the circuit result.\n",
      "      Type: dict\n",
      "  Returns:\n",
      "    - -:\n",
      "      Description: A string that says 'All done!'.\n",
      "      Type: string\n",
      "==================================================\n",
      "quantum-kernel-alignment:\n",
      "  Name: quantum-kernel-alignment\n",
      "  Description: Quantum kernel alignment algorithm that learns, on a given dataset, a quantum kernel maximizing the SVM classification margin.\n",
      "  Version: 1\n",
      "  Creation date: 2021-05-06T14:56:53.000000\n",
      "  Max execution time: 28800\n",
      "  Input parameters:\n",
      "    - feature_map:\n",
      "      Description: An instance of FeatureMap in dictionary format used to map classical data into a quantum state space.\n",
      "      Type: dict\n",
      "      Required: True\n",
      "    - data:\n",
      "      Description: NxD array of training data, where N is the number of samples and D is the feature dimension.\n",
      "      Type: numpy.ndarray\n",
      "      Required: True\n",
      "    - labels:\n",
      "      Description: Nx1 array of +/-1 labels of the N training samples.\n",
      "      Type: numpy.ndarray\n",
      "      Required: True\n",
      "    - initial_kernel_parameters:\n",
      "      Description: Initial parameters of the quantum kernel. If not specified, an array of randomly generated numbers is used.\n",
      "      Type: numpy.ndarray\n",
      "      Required: False\n",
      "    - maxiters:\n",
      "      Description: Number of SPSA optimization steps. Default is 1.\n",
      "      Type: int\n",
      "      Required: False\n",
      "    - C:\n",
      "      Description: Penalty parameter for the soft-margin support vector machine. Default is 1.\n",
      "      Type: float\n",
      "      Required: False\n",
      "    - initial_layout:\n",
      "      Description: Initial position of virtual qubits on the physical qubits of the quantum device. Default is None.\n",
      "      Type: list or dict\n",
      "      Required: False\n",
      "  Interim results:\n",
      "    none\n",
      "  Returns:\n",
      "    - aligned_kernel_parameters:\n",
      "      Description: The optimized kernel parameters found from quantum kernel alignment.\n",
      "      Type: numpy.ndarray\n",
      "    - aligned_kernel_matrix:\n",
      "      Description: The aligned quantum kernel matrix evaluated with the optimized kernel parameters on the training data.\n",
      "      Type: numpy.ndarray\n"
     ]
    }
   ],
   "source": [
    "provider.runtime.pprint_programs(refresh=True)"
   ]
  },
  {
   "attachments": {},
   "cell_type": "markdown",
   "metadata": {
    "slideshow": {
     "slide_type": "subslide"
    }
   },
   "source": [
    "### Using the IBM Quantum Website\n",
    "\n",
    "<img src=\"images/ibmq_services.png\">"
   ]
  },
  {
   "attachments": {},
   "cell_type": "markdown",
   "metadata": {
    "slideshow": {
     "slide_type": "subslide"
    }
   },
   "source": [
    "<img src=\"images/runtime_programs.png\">"
   ]
  },
  {
   "attachments": {},
   "cell_type": "markdown",
   "metadata": {
    "slideshow": {
     "slide_type": "subslide"
    }
   },
   "source": [
    "<img src=\"images/sample_program.png\">"
   ]
  },
  {
   "cell_type": "markdown",
   "metadata": {
    "slideshow": {
     "slide_type": "subslide"
    }
   },
   "source": [
    "### Running a Program \n",
    "\n",
    "Step 1 of 2: defining inputs, options, and callback"
   ]
  },
  {
   "cell_type": "code",
   "execution_count": 11,
   "metadata": {
    "slideshow": {
     "slide_type": "fragment"
    }
   },
   "outputs": [],
   "source": [
    "# Define program inputs in a dictionary\n",
    "runtime_inputs = {\n",
    "    'iterations': 2\n",
    "}"
   ]
  },
  {
   "cell_type": "code",
   "execution_count": 12,
   "metadata": {
    "slideshow": {
     "slide_type": "fragment"
    }
   },
   "outputs": [],
   "source": [
    "# Alternatively, define program inputs in a namespace\n",
    "params = provider.runtime.program(\"sample-program\").parameters()\n",
    "params.iterations = 2"
   ]
  },
  {
   "cell_type": "code",
   "execution_count": 13,
   "metadata": {
    "slideshow": {
     "slide_type": "fragment"
    }
   },
   "outputs": [],
   "source": [
    "# Define program options (more on backend selection later...)\n",
    "options = {'backend_name': 'ibmq_qasm_simulator'}"
   ]
  },
  {
   "cell_type": "code",
   "execution_count": 14,
   "metadata": {
    "slideshow": {
     "slide_type": "fragment"
    }
   },
   "outputs": [],
   "source": [
    "# Define interim result callback (optional)\n",
    "def interim_result_callback(job_id, interim_result):\n",
    "    print(f\"interim result: {interim_result}\")"
   ]
  },
  {
   "cell_type": "markdown",
   "metadata": {
    "slideshow": {
     "slide_type": "subslide"
    }
   },
   "source": [
    "### Running a Program \n",
    "\n",
    "Step 2 of 2: executing and getting results"
   ]
  },
  {
   "cell_type": "code",
   "execution_count": 15,
   "metadata": {
    "slideshow": {
     "slide_type": "fragment"
    }
   },
   "outputs": [
    {
     "name": "stdout",
     "output_type": "stream",
     "text": [
      "c4t0trbk1sj3cl16qsag\n"
     ]
    }
   ],
   "source": [
    "# Run program\n",
    "job = provider.runtime.run(program_id=\"sample-program\",\n",
    "                           options=options,\n",
    "                           inputs=runtime_inputs,\n",
    "                           callback=interim_result_callback\n",
    "                          )\n",
    "print(job.job_id())"
   ]
  },
  {
   "cell_type": "code",
   "execution_count": 16,
   "metadata": {
    "slideshow": {
     "slide_type": "fragment"
    }
   },
   "outputs": [
    {
     "name": "stdout",
     "output_type": "stream",
     "text": [
      "interim result: {'iteration': 0, 'counts': {'01110': 41, '01000': 39, '00010': 36, '00100': 32, '00110': 41, '00111': 90, '00011': 87, '00000': 28, '01010': 33, '01111': 101, '01001': 87, '00101': 108, '01100': 32, '01101': 95, '01011': 83, '00001': 91}}\n",
      "interim result: {'iteration': 1, 'counts': {'11111': 7, '01111': 19, '01010': 178, '11010': 162, '11001': 249, '01001': 229, '11000': 79, '01000': 101}}\n",
      "All done!\n"
     ]
    }
   ],
   "source": [
    "# Get job result\n",
    "result = job.result()\n",
    "print(result)"
   ]
  },
  {
   "cell_type": "markdown",
   "metadata": {
    "slideshow": {
     "slide_type": "subslide"
    }
   },
   "source": [
    "### Backend Selection\n",
    "\n",
    "At this time, Qiskit Runtime is only available on `ibmq_qasm_simulator` for open-access users. It is available on select backends for premium users. "
   ]
  },
  {
   "cell_type": "code",
   "execution_count": 17,
   "metadata": {
    "slideshow": {
     "slide_type": "fragment"
    }
   },
   "outputs": [
    {
     "data": {
      "text/plain": [
       "[<IBMQSimulator('ibmq_qasm_simulator') from IBMQ(hub='ibm-q-internal', group='dev-qiskit', project='terra')>,\n",
       " <IBMQBackend('ibmq_casablanca') from IBMQ(hub='ibm-q-internal', group='dev-qiskit', project='terra')>]"
      ]
     },
     "execution_count": 17,
     "metadata": {},
     "output_type": "execute_result"
    }
   ],
   "source": [
    "premium_provider = IBMQ.get_provider(project='terra')\n",
    "\n",
    "# Use input_allowed=\"runtime\" to select backends that support runtime\n",
    "premium_provider.backends(input_allowed='runtime')"
   ]
  },
  {
   "cell_type": "markdown",
   "metadata": {
    "slideshow": {
     "slide_type": "slide"
    }
   },
   "source": [
    "## Job Interaction\n",
    "\n",
    "\n",
    "When you run a published program, the execution instance becomes a job. \n",
    "\n",
    "Using Qiskit, you can reference and interact with your job.\n",
    "\n",
    "You can also list and interact with your jobs on the IBM Quantum website. \n"
   ]
  },
  {
   "cell_type": "markdown",
   "metadata": {
    "slideshow": {
     "slide_type": "subslide"
    }
   },
   "source": [
    "Note that a **runtime job** is an instance of `qiskit.providers.ibmq.runtime.RuntimeJob`. It is not the same as a traditional circuit job and therefore has different methods/attributes.\n",
    "\n",
    "\n",
    "Runtime job restrictions:\n",
    "\n",
    "- Cannot exceed max execution time\n",
    "- Consumes \"fair share\"\n",
    "- 35GB of memory per execution"
   ]
  },
  {
   "cell_type": "markdown",
   "metadata": {
    "slideshow": {
     "slide_type": "subslide"
    }
   },
   "source": [
    "### Referencing Jobs"
   ]
  },
  {
   "cell_type": "code",
   "execution_count": 18,
   "metadata": {
    "slideshow": {
     "slide_type": "fragment"
    }
   },
   "outputs": [
    {
     "name": "stdout",
     "output_type": "stream",
     "text": [
      "Job c4t0trbk1sj3cl16qsag is an execution instance of runtime program sample-program.\n",
      "This job ran on backend ibmq_qasm_simulator and had input parameters {'iterations': 2}\n"
     ]
    }
   ],
   "source": [
    "retrieved_job = provider.runtime.job(job.job_id())\n",
    "print(f\"Job {retrieved_job.job_id()} is an execution instance of runtime program {retrieved_job.program_id}.\")\n",
    "print(f\"This job ran on backend {retrieved_job.backend()} and had input parameters {retrieved_job.inputs}\")"
   ]
  },
  {
   "cell_type": "code",
   "execution_count": 19,
   "metadata": {
    "slideshow": {
     "slide_type": "fragment"
    }
   },
   "outputs": [
    {
     "name": "stdout",
     "output_type": "stream",
     "text": [
      "c4t0trbk1sj3cl16qsag\n",
      "c4t0tbjk1sj3cl16qs60\n"
     ]
    }
   ],
   "source": [
    "retrieved_jobs = provider.runtime.jobs(limit=2)\n",
    "for rjob in retrieved_jobs:\n",
    "    print(rjob.job_id())"
   ]
  },
  {
   "cell_type": "markdown",
   "metadata": {
    "slideshow": {
     "slide_type": "subslide"
    }
   },
   "source": [
    "### Summary of job operations"
   ]
  },
  {
   "cell_type": "markdown",
   "metadata": {
    "slideshow": {
     "slide_type": "fragment"
    }
   },
   "source": [
    "- `job_id()`, `backend()`, `inputs`, `program_id`, `creation_date`: metadata of job execution\n",
    "<br>\n",
    "\n",
    "- `result()`, `error_messages()`, `logs()`, `status()`: returns job execution output and status\n",
    "<br>\n",
    "\n",
    "- `stream_results`, `cancel_result_streaming()`: (re)enables and disable streaming interim results\n",
    "<br>\n",
    "\n",
    "- `cancel()`: cancels the job"
   ]
  },
  {
   "attachments": {},
   "cell_type": "markdown",
   "metadata": {
    "slideshow": {
     "slide_type": "subslide"
    }
   },
   "source": [
    "Or you can use the IBM Quantum website:\n",
    "\n",
    "<img src=\"images/program_jobs.png\">"
   ]
  },
  {
   "cell_type": "markdown",
   "metadata": {
    "slideshow": {
     "slide_type": "slide"
    }
   },
   "source": [
    "## Writing, Uploading, and Testing a Qiskit Runtime Program\n",
    "\n",
    "Like the example we saw earlier, we will now write a new program and upload it to the cloud. \n",
    "\n",
    "We will write the metadata and source code. We will then test it after upload and show the optional step of making the program publicly available.\n",
    "<br>\n",
    "\n",
    "\n",
    "**Note**: Only select accounts can upload runtime programs presently. A future release will support all accounts."
   ]
  },
  {
   "cell_type": "markdown",
   "metadata": {
    "slideshow": {
     "slide_type": "subslide"
    }
   },
   "source": [
    "### Defining Program Metadata"
   ]
  },
  {
   "cell_type": "code",
   "execution_count": 20,
   "metadata": {
    "slideshow": {
     "slide_type": "fragment"
    }
   },
   "outputs": [],
   "source": [
    "metadata = {\n",
    "  \"name\": \"ieee-workshop\",\n",
    "  \"description\": \"Exploring the equator of a Bloch sphere using input RZ angles and returning the x measurements.\",\n",
    "  \"max_execution_time\": 300,\n",
    "  \"version\": \"1.0\",\n",
    "  \"parameters\": [\n",
    "    {\"name\": \"angles\", \"description\": \"A list of angles to rotate around the z axis.\", \"type\": \"numpy array or list\", \"required\": True}\n",
    "  ],\n",
    "  \"return_values\": [\n",
    "    {\"name\": \"-\", \"description\": \"Combined measurements.\", \"type\": \"list\"}\n",
    "  ],\n",
    "  \"interim_results\": [\n",
    "    {\"name\": \"angle\", \"description\": \"Angle used for the rotation.\", \"type\": \"float\"},\n",
    "    {\"name\": \"counts\", \"description\": \"Histogram data of the circuit result.\", \"type\": \"dict\"}\n",
    "  ]\n",
    "}\n"
   ]
  },
  {
   "cell_type": "markdown",
   "metadata": {
    "slideshow": {
     "slide_type": "subslide"
    }
   },
   "source": [
    "### Writing Source Code\n",
    "\n",
    "Step 1: Prepare the circuit"
   ]
  },
  {
   "cell_type": "code",
   "execution_count": 21,
   "metadata": {
    "slideshow": {
     "slide_type": "fragment"
    }
   },
   "outputs": [
    {
     "data": {
      "image/png": "[encoded data removed]",
      "text/plain": [
       "<Figure size 314.126x144.48 with 1 Axes>"
      ]
     },
     "execution_count": 21,
     "metadata": {},
     "output_type": "execute_result"
    }
   ],
   "source": [
    "from qiskit.circuit import QuantumCircuit, Parameter\n",
    "\n",
    "def prepare_circuits():\n",
    "    theta = Parameter('θ')\n",
    "    qc = QuantumCircuit(1, 1)\n",
    "    qc.h(0)\n",
    "    qc.rz(theta, 0)\n",
    "    qc.h(0)\n",
    "    qc.measure(0, 0)\n",
    "    return qc\n",
    "\n",
    "    \n",
    "circ = prepare_circuits()\n",
    "circ.draw('mpl')"
   ]
  },
  {
   "cell_type": "markdown",
   "metadata": {
    "slideshow": {
     "slide_type": "subslide"
    }
   },
   "source": [
    "### Writing Source Code\n",
    "\n",
    "Step 2: Write the main function"
   ]
  },
  {
   "attachments": {},
   "cell_type": "markdown",
   "metadata": {
    "slideshow": {
     "slide_type": "fragment"
    }
   },
   "source": [
    "<img src=\"images/main_function.png\">"
   ]
  },
  {
   "cell_type": "code",
   "execution_count": 22,
   "metadata": {
    "slideshow": {
     "slide_type": "subslide"
    }
   },
   "outputs": [],
   "source": [
    "from qiskit import transpile\n",
    "\n",
    "def main(backend, user_messenger, angles):\n",
    "    all_counts = []\n",
    "    \n",
    "    # Get the parameterized circuit\n",
    "    circ = prepare_circuit()\n",
    "    \n",
    "    # Get the parameter variable\n",
    "    param = circ.parameters[0]\n",
    "\n",
    "    # For each input angle\n",
    "    for theta_val in angles:\n",
    "        # Set the parameter value\n",
    "        bound_circ = circ.bind_parameters({param: theta_val})\n",
    "        # Run the circuit\n",
    "        job = backend.run(transpile(bound_circ, backend=backend))\n",
    "        # Get counts\n",
    "        counts = job.result().get_counts()\n",
    "        # Publish interim result\n",
    "        user_messenger.publish({\"angle\": theta_val, \"counts\": counts})\n",
    "        # Aggregate counts\n",
    "        all_counts.append(counts)\n",
    "    \n",
    "    # Return combined measurements\n",
    "    return all_counts"
   ]
  },
  {
   "cell_type": "markdown",
   "metadata": {
    "slideshow": {
     "slide_type": "subslide"
    }
   },
   "source": [
    "Note that the `backend` here is an instance of `qiskit.providers.ibmq.runtime.ProgramBackend`, **not** an `IBMQBackend` and does not have the same methods. You cannot, for example, use this backend to retrieve previously executed jobs."
   ]
  },
  {
   "cell_type": "markdown",
   "metadata": {
    "slideshow": {
     "slide_type": "subslide"
    }
   },
   "source": [
    "### Uploading Your Program"
   ]
  },
  {
   "cell_type": "code",
   "execution_count": 23,
   "metadata": {
    "slideshow": {
     "slide_type": "subslide"
    }
   },
   "outputs": [],
   "source": [
    "runtime_program = \"\"\"\n",
    "from qiskit.circuit import QuantumCircuit, Parameter\n",
    "from qiskit import transpile\n",
    "\n",
    "def prepare_circuits():\n",
    "    theta = Parameter('θ')\n",
    "    qc = QuantumCircuit(1, 1)\n",
    "    qc.h(0)\n",
    "    qc.rz(theta, 0)\n",
    "    qc.h(0)\n",
    "    qc.measure(0, 0)\n",
    "    return qc\n",
    "\n",
    "def main(backend, user_messenger, angles):\n",
    "    circ = prepare_circuits()\n",
    "    param = circ.parameters[0]\n",
    "    all_counts = []\n",
    "    for theta_val in angles:\n",
    "        bound_circ = circ.bind_parameters({param: theta_val})\n",
    "        job = backend.run(transpile(bound_circ, backend=backend))\n",
    "        counts = job.result().get_counts()\n",
    "        user_messenger.publish({\"angle\": theta_val, \"counts\": counts})\n",
    "        all_counts.append(counts)\n",
    "    return all_counts    \n",
    "\"\"\""
   ]
  },
  {
   "cell_type": "code",
   "execution_count": 24,
   "metadata": {
    "slideshow": {
     "slide_type": "subslide"
    }
   },
   "outputs": [
    {
     "name": "stdout",
     "output_type": "stream",
     "text": [
      "ieee-workshop\n"
     ]
    }
   ],
   "source": [
    "program_id = provider.runtime.upload_program(\n",
    "    name=\"ieee-workshop\",\n",
    "    data=runtime_program.encode(),\n",
    "    metadata=metadata\n",
    ")\n",
    "print(program_id)"
   ]
  },
  {
   "cell_type": "code",
   "execution_count": 25,
   "metadata": {
    "slideshow": {
     "slide_type": "fragment"
    }
   },
   "outputs": [],
   "source": [
    "# Alternatively, you can choose files\n",
    "\n",
    "# program_id = provider.runtime.upload_program(\n",
    "#     name=\"ieee-workshop\"\n",
    "#     data=\"ieee_workshop.py\"\n",
    "#     metadata=\"ieee_workshop.json\"\n",
    "# )"
   ]
  },
  {
   "cell_type": "code",
   "execution_count": 26,
   "metadata": {
    "slideshow": {
     "slide_type": "subslide"
    }
   },
   "outputs": [
    {
     "name": "stdout",
     "output_type": "stream",
     "text": [
      "ieee-workshop:\n",
      "  Name: ieee-workshop\n",
      "  Description: Exploring the equator of a Bloch sphere using input RZ angles and returning the x measurements.\n",
      "  Version: 1.0\n",
      "  Creation date: 2021-09-09T13:41:12.000000\n",
      "  Max execution time: 300\n",
      "  Input parameters:\n",
      "    - angles:\n",
      "      Description: A list of angles to rotate around the z axis.\n",
      "      Type: numpy array or list\n",
      "      Required: True\n",
      "  Interim results:\n",
      "    - angle:\n",
      "      Description: Angle used for the rotation.\n",
      "      Type: float\n",
      "    - counts:\n",
      "      Description: Histogram data of the circuit result.\n",
      "      Type: dict\n",
      "  Returns:\n",
      "    - -:\n",
      "      Description: Combined measurements.\n",
      "      Type: list\n"
     ]
    }
   ],
   "source": [
    "# Let's make sure the program was uploaded properly.\n",
    "\n",
    "print(provider.runtime.program(program_id))"
   ]
  },
  {
   "cell_type": "markdown",
   "metadata": {
    "slideshow": {
     "slide_type": "subslide"
    }
   },
   "source": [
    "### Testing Your Program\n",
    "\n",
    "You can test your program using a local simulator or a real backend. It is faster to test the program locally, but it requires a slightly different test case variant because the cloud service handles serialization automatically. \n",
    "\n",
    "Once uploaded, you can test your program using Qiskit or the IBM Quantum website. \n",
    "\n",
    "We will focus on cloud testing using Qiskit here.\n",
    "\n"
   ]
  },
  {
   "cell_type": "markdown",
   "metadata": {
    "slideshow": {
     "slide_type": "subslide"
    }
   },
   "source": [
    "#### Testing Uploaded Program Using Qiskit"
   ]
  },
  {
   "cell_type": "code",
   "execution_count": 27,
   "metadata": {
    "slideshow": {
     "slide_type": "fragment"
    }
   },
   "outputs": [
    {
     "name": "stdout",
     "output_type": "stream",
     "text": [
      "c4t0tu24nm9h1e1cchd0\n",
      "interim result: {'angle': 0.0, 'counts': {'0': 1024}}\n",
      "interim result: {'angle': 0.5711986642890533, 'counts': {'1': 72, '0': 952}}\n",
      "interim result: {'angle': 1.1423973285781066, 'counts': {'0': 714, '1': 310}}\n",
      "interim result: {'angle': 1.7135959928671598, 'counts': {'0': 441, '1': 583}}\n",
      "interim result: {'angle': 2.284794657156213, 'counts': {'1': 851, '0': 173}}\n",
      "interim result: {'angle': 2.8559933214452666, 'counts': {'0': 23, '1': 1001}}\n",
      "interim result: {'angle': 3.4271919857343196, 'counts': {'0': 27, '1': 997}}\n",
      "interim result: {'angle': 3.998390650023373, 'counts': {'0': 169, '1': 855}}\n",
      "interim result: {'angle': 4.569589314312426, 'counts': {'0': 449, '1': 575}}\n",
      "interim result: {'angle': 5.140787978601479, 'counts': {'1': 293, '0': 731}}\n",
      "interim result: {'angle': 5.711986642890533, 'counts': {'1': 79, '0': 945}}\n",
      "interim result: {'angle': 6.283185307179586, 'counts': {'0': 1024}}\n"
     ]
    }
   ],
   "source": [
    "import numpy as np\n",
    "\n",
    "# Define interim result callback\n",
    "def interim_result_callback(job_id, interim_result):\n",
    "    print(f\"interim result: {interim_result}\")\n",
    "    \n",
    "# Define program inputs\n",
    "theta_range = np.linspace(0, 2 * np.pi, 12)\n",
    "runtime_inputs = {\"angles\": theta_range}\n",
    "\n",
    "# Define options\n",
    "options = {'backend_name': 'ibmq_qasm_simulator'}\n",
    "\n",
    "# Run program\n",
    "job = provider.runtime.run(program_id=\"ieee-workshop\",\n",
    "                           options=options,\n",
    "                           inputs=runtime_inputs,\n",
    "                           callback=interim_result_callback\n",
    "                          )\n",
    "print(job.job_id())\n",
    "final_result = job.result()"
   ]
  },
  {
   "cell_type": "code",
   "execution_count": 28,
   "metadata": {
    "slideshow": {
     "slide_type": "subslide"
    }
   },
   "outputs": [
    {
     "data": {
      "text/plain": [
       "<matplotlib.legend.Legend at 0x14c311100>"
      ]
     },
     "execution_count": 28,
     "metadata": {},
     "output_type": "execute_result"
    },
    {
     "data": {
      "image/png": "[encoded data removed]",
      "text/plain": [
       "<Figure size 576x432 with 1 Axes>"
      ]
     },
     "metadata": {
      "needs_background": "light"
     },
     "output_type": "display_data"
    }
   ],
   "source": [
    "import matplotlib.pyplot as plt\n",
    "\n",
    "fig = plt.figure(figsize=(8,6))\n",
    "ax = fig.add_subplot(111)\n",
    "\n",
    "ax.plot(theta_range, list(map(lambda c: c.get('0', 0), final_result)), '.-', label='0')\n",
    "ax.plot(theta_range, list(map(lambda c: c.get('1', 0), final_result)), '.-', label='1')\n",
    "\n",
    "ax.set_xticks([i * np.pi / 2 for i in range(5)])\n",
    "ax.set_xticklabels(['0', r'$\\frac{\\pi}{2}$', r'$\\pi$', r'$\\frac{3\\pi}{2}$', r'$2\\pi$'], fontsize=14)\n",
    "ax.set_xlabel('θ', fontsize=14)\n",
    "ax.set_ylabel('Counts', fontsize=14)\n",
    "ax.legend(fontsize=14)"
   ]
  },
  {
   "cell_type": "markdown",
   "metadata": {
    "slideshow": {
     "slide_type": "subslide"
    }
   },
   "source": [
    "#### Making the Program Public (Optional)"
   ]
  },
  {
   "cell_type": "code",
   "execution_count": 29,
   "metadata": {
    "slideshow": {
     "slide_type": "fragment"
    }
   },
   "outputs": [],
   "source": [
    "# Make the program public now that we know it's working\n",
    "provider.runtime.set_program_visibility(program_id=program_id, public=True)"
   ]
  },
  {
   "cell_type": "markdown",
   "metadata": {
    "slideshow": {
     "slide_type": "subslide"
    }
   },
   "source": [
    "#### Deleting the Program (Optional)"
   ]
  },
  {
   "cell_type": "code",
   "execution_count": 30,
   "metadata": {
    "slideshow": {
     "slide_type": "fragment"
    }
   },
   "outputs": [],
   "source": [
    "# Delete the program\n",
    "provider.runtime.delete_program(\"ieee-workshop\")"
   ]
  },
  {
   "cell_type": "markdown",
   "metadata": {
    "slideshow": {
     "slide_type": "slide"
    }
   },
   "source": [
    "## Invoking Qiskit Runtime API directly\n",
    "\n",
    "You can communicate with the Qiskit Runtime API directly using basic HTTP requests without Qiskit. This can be useful, for example, if you want to integrate your non-Python application with Qiskit Runtime."
   ]
  },
  {
   "cell_type": "markdown",
   "metadata": {
    "slideshow": {
     "slide_type": "fragment"
    }
   },
   "source": [
    "Qiskit Runtime API documentation can be found here: https://runtime-us-east.quantum-computing.ibm.com/openapi/"
   ]
  },
  {
   "attachments": {},
   "cell_type": "markdown",
   "metadata": {
    "slideshow": {
     "slide_type": "subslide"
    }
   },
   "source": [
    "<img src=\"images/runtime_api.png\">"
   ]
  },
  {
   "cell_type": "markdown",
   "metadata": {
    "slideshow": {
     "slide_type": "subslide"
    }
   },
   "source": [
    "### Authenticating with the Service"
   ]
  },
  {
   "cell_type": "code",
   "execution_count": 31,
   "metadata": {
    "slideshow": {
     "slide_type": "fragment"
    }
   },
   "outputs": [],
   "source": [
    "# You'll need to pass your API token in the header of every call\n",
    "\n",
    "import os\n",
    "import requests\n",
    "import json\n",
    "\n",
    "api_token = os.environ.get(\"QE_TOKEN\")\n",
    "\n",
    "headers = {\n",
    "  'Authorization': f'Bearer {api_token}',\n",
    "  'Content-Type': 'application/json'\n",
    "}\n",
    "\n",
    "RUNTIME_API_URL = \"https://runtime-us-east.quantum-computing.ibm.com/\""
   ]
  },
  {
   "cell_type": "markdown",
   "metadata": {
    "slideshow": {
     "slide_type": "subslide"
    }
   },
   "source": [
    "### Listing Programs"
   ]
  },
  {
   "cell_type": "code",
   "execution_count": 32,
   "metadata": {
    "slideshow": {
     "slide_type": "fragment"
    }
   },
   "outputs": [
    {
     "name": "stdout",
     "output_type": "stream",
     "text": [
      "Qiskit Runtime Programs:\n",
      "- vqe: Variational Quantum Eigensolver (VQE) to find the minimal eigenvalue of a Hamiltonian. \n",
      "- circuit-runner: A runtime program that takes one or more circuits, compiles them, executes them, and optionally applies measurement error mitigation. \n",
      "- sample-program: A sample runtime program. \n",
      "- quantum-kernel-alignment: Quantum kernel alignment algorithm that learns, on a given dataset, a quantum kernel maximizing the SVM classification margin. \n"
     ]
    }
   ],
   "source": [
    "response = requests.get(RUNTIME_API_URL + 'programs' , headers=headers)\n",
    "\n",
    "if response.status_code != 200:\n",
    "    raise ValueError(f\"Unexpected status code: {response.status_code}\")\n",
    "\n",
    "list_of_programs = response.json()    \n",
    "print(f'Qiskit Runtime Programs:')\n",
    "\n",
    "for program in list_of_programs:\n",
    "    print(f'- {program[\"name\"]}: {program[\"description\"]} ')"
   ]
  },
  {
   "cell_type": "markdown",
   "metadata": {
    "slideshow": {
     "slide_type": "subslide"
    }
   },
   "source": [
    "### Running sample-program"
   ]
  },
  {
   "cell_type": "code",
   "execution_count": 33,
   "metadata": {
    "slideshow": {
     "slide_type": "fragment"
    }
   },
   "outputs": [
    {
     "name": "stdout",
     "output_type": "stream",
     "text": [
      "Job: c4t0tvjk1sj3cl16qsf0\n"
     ]
    }
   ],
   "source": [
    "# Prepare program input\n",
    "runtime_inputs = {\"iterations\": 2}\n",
    "\n",
    "# Prepare request parameters\n",
    "params = json.dumps({\n",
    "  \"programId\": \"sample-program\",\n",
    "  \"hub\": \"ibm-q\",\n",
    "  \"group\": \"open\",\n",
    "  \"project\": \"main\",\n",
    "  \"backend\": \"ibmq_qasm_simulator\",\n",
    "  \"params\": [\n",
    "    json.dumps(runtime_inputs)\n",
    "  ]\n",
    "})\n",
    "\n",
    "# Send the request\n",
    "response = requests.post(RUNTIME_API_URL + 'jobs', data=params, headers=headers)\n",
    "\n",
    "if response.status_code != 200:\n",
    "    raise ValueError(f\"Unexpected status code: {response.status_code}\")\n",
    "\n",
    "job_id =  response.json()['id']\n",
    "print(f\"Job: {job_id}\")"
   ]
  },
  {
   "cell_type": "code",
   "execution_count": 34,
   "metadata": {
    "slideshow": {
     "slide_type": "subslide"
    }
   },
   "outputs": [
    {
     "name": "stdout",
     "output_type": "stream",
     "text": [
      "Waiting for the final result\n",
      "Waiting for the final result\n",
      "Final Result: All done!\n"
     ]
    }
   ],
   "source": [
    "# You are going to get a 204 status code while the Qiskit program is still running.\n",
    "\n",
    "import time\n",
    "\n",
    "while True:\n",
    "    response = requests.get(RUNTIME_API_URL + 'jobs/'+ job_id +'/results', headers=headers)\n",
    "\n",
    "    if response.status_code == 200:\n",
    "        print(f'Final Result: {response.text}')\n",
    "        break\n",
    "        \n",
    "    elif response.status_code == 204:\n",
    "        print(f'Waiting for the final result')\n",
    "        time.sleep(3)\n",
    "        \n",
    "    else:\n",
    "        print(f'Error:{response.status_code}')\n",
    "        break"
   ]
  },
  {
   "cell_type": "markdown",
   "metadata": {
    "slideshow": {
     "slide_type": "slide"
    }
   },
   "source": [
    "## Exercise: Running sample-program"
   ]
  },
  {
   "cell_type": "code",
   "execution_count": null,
   "metadata": {
    "slideshow": {
     "slide_type": "fragment"
    }
   },
   "outputs": [],
   "source": [
    "from qiskit import IBMQ\n",
    "\n",
    "provider = IBMQ.load_account()\n",
    "\n",
    "program_inputs = {'iterations': 2}\n",
    "options = {'backend_name': \"ibmq_qasm_simulator\"}\n",
    "\n",
    "job = provider.runtime.run(program_id=\"sample-program\",\n",
    "                           options=options,\n",
    "                           inputs=program_inputs,\n",
    "                          )\n",
    "print(f\"job id: {job.job_id()}\")\n",
    "print(f\"\\nFinal result: {job.result()}\")"
   ]
  },
  {
   "cell_type": "markdown",
   "metadata": {
    "slideshow": {
     "slide_type": "fragment"
    }
   },
   "source": [
    "To sign up for an IBM Quantum account: https://quantum-computing.ibm.com/."
   ]
  }
 ],
 "metadata": {
  "celltoolbar": "Slideshow",
  "kernelspec": {
   "display_name": "Python 3",
   "language": "python",
   "name": "python3"
  },
  "language_info": {
   "codemirror_mode": {
    "name": "ipython",
    "version": 3
   },
   "file_extension": ".py",
   "mimetype": "text/x-python",
   "name": "python",
   "nbconvert_exporter": "python",
   "pygments_lexer": "ipython3",
   "version": "3.7.2"
  }
 },
 "nbformat": 4,
 "nbformat_minor": 5
}
