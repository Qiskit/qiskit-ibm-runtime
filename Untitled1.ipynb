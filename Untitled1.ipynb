{
 "cells": [
  {
   "cell_type": "code",
   "execution_count": 1,
   "id": "d8a6da08",
   "metadata": {},
   "outputs": [],
   "source": [
    "from qiskit_nature.drivers import UnitsType, Molecule\n",
    "from qiskit_nature.drivers.second_quantization import ElectronicStructureDriverType, ElectronicStructureMoleculeDriver\n",
    "from qiskit_nature.problems.second_quantization.electronic import ElectronicStructureProblem\n",
    "from qiskit_nature.converters.second_quantization import QubitConverter\n",
    "from qiskit_nature.mappers.second_quantization import ParityMapper\n",
    "from qiskit_nature.properties.second_quantization.electronic import ParticleNumber\n",
    "from qiskit_nature.transformers.second_quantization.electronic import ActiveSpaceTransformer"
   ]
  },
  {
   "cell_type": "code",
   "execution_count": 2,
   "id": "1790eaff",
   "metadata": {},
   "outputs": [],
   "source": [
    "bond_distance = 2.5  # in Angstrom\n",
    "\n",
    "# define molecule\n",
    "molecule = Molecule(geometry=[['Li', [0., 0., 0.]],\n",
    "                              ['H',  [0., 0., bond_distance]]],\n",
    "                        charge=0, \n",
    "                        multiplicity=1)\n",
    "\n",
    "\n",
    "# specify driver\n",
    "driver = ElectronicStructureMoleculeDriver(molecule, basis='sto3g', driver_type=ElectronicStructureDriverType.PYSCF)\n",
    "properties = driver.run()\n",
    "\n",
    "particle_number = properties.get_property(ParticleNumber)\n",
    "    \n",
    "# specify active space transformation\n",
    "active_space_trafo = ActiveSpaceTransformer(num_electrons=particle_number.num_particles,\n",
    "                                            num_molecular_orbitals=3)\n",
    "    \n",
    "# define electronic structure problem\n",
    "problem = ElectronicStructureProblem(driver, transformers=[active_space_trafo])\n",
    "\n",
    "# construct qubit converter (parity mapping + 2-qubit reduction)\n",
    "qubit_converter = QubitConverter(ParityMapper(), two_qubit_reduction=True)"
   ]
  },
  {
   "cell_type": "code",
   "execution_count": 3,
   "id": "2805aa31",
   "metadata": {},
   "outputs": [],
   "source": [
    "from qiskit.algorithms import NumPyMinimumEigensolver\n",
    "from qiskit_nature.algorithms.ground_state_solvers import GroundStateEigensolver\n",
    "\n",
    "np_solver = NumPyMinimumEigensolver()\n",
    "np_groundstate_solver = GroundStateEigensolver(qubit_converter, np_solver)\n",
    "\n",
    "np_result = np_groundstate_solver.solve(problem)"
   ]
  },
  {
   "cell_type": "code",
   "execution_count": 4,
   "id": "0138fc72",
   "metadata": {},
   "outputs": [
    {
     "name": "stdout",
     "output_type": "stream",
     "text": [
      "Energy: -7.773617988868117\n"
     ]
    }
   ],
   "source": [
    "import numpy as np\n",
    "target_energy = np.real(np_result.eigenenergies + np_result.nuclear_repulsion_energy)[0]\n",
    "print('Energy:', target_energy)"
   ]
  },
  {
   "cell_type": "code",
   "execution_count": 44,
   "id": "53719600",
   "metadata": {},
   "outputs": [
    {
     "data": {
      "image/png": "[encoded data removed]",
      "text/plain": [
       "<Figure size 628.397x264.88 with 1 Axes>"
      ]
     },
     "execution_count": 44,
     "metadata": {},
     "output_type": "execute_result"
    }
   ],
   "source": [
    "from qiskit.circuit.library import EfficientSU2\n",
    "\n",
    "ansatz = EfficientSU2(num_qubits=4, reps=1, entanglement='linear', insert_barriers=True)\n",
    "ansatz.draw('mpl', style='iqx')"
   ]
  },
  {
   "cell_type": "code",
   "execution_count": 45,
   "id": "86baedf6",
   "metadata": {},
   "outputs": [],
   "source": [
    "from qiskit.algorithms.optimizers import SPSA\n",
    "\n",
    "optimizer = SPSA(maxiter=100)\n",
    "\n",
    "np.random.seed(5)  # fix seed for reproducibility\n",
    "initial_point = np.random.random(ansatz.num_parameters)"
   ]
  },
  {
   "cell_type": "code",
   "execution_count": 46,
   "id": "28443db7",
   "metadata": {},
   "outputs": [],
   "source": [
    "from qiskit.providers.basicaer import QasmSimulatorPy  # local simulator\n",
    "from qiskit.algorithms import VQE\n",
    "\n",
    "local_vqe = VQE(ansatz=ansatz,\n",
    "                optimizer=optimizer,\n",
    "                initial_point=initial_point,\n",
    "                quantum_instance=QasmSimulatorPy())\n",
    "\n",
    "local_vqe_groundstate_solver = GroundStateEigensolver(qubit_converter, local_vqe)\n",
    "\n",
    "local_vqe_result = local_vqe_groundstate_solver.solve(problem)"
   ]
  },
  {
   "cell_type": "code",
   "execution_count": 47,
   "id": "7b495f46",
   "metadata": {},
   "outputs": [
    {
     "name": "stdout",
     "output_type": "stream",
     "text": [
      "Energy: -7.587770604139583\n"
     ]
    }
   ],
   "source": [
    "print('Energy:', np.real(local_vqe_result.eigenenergies + local_vqe_result.nuclear_repulsion_energy)[0])\n"
   ]
  },
  {
   "cell_type": "code",
   "execution_count": 48,
   "id": "4ea460e4",
   "metadata": {},
   "outputs": [],
   "source": [
    "from qiskit_ibm import IBMProvider\n",
    "\n",
    "IBMProvider.save_account(token='fbf673e11c4bbd3469d16f1600c49b36f8524542dd23d5beec91b4b2de02198a5365fd8fe432c140264e35939007c513751c4816c0a4ce99b07bf434cac28048', overwrite=True)\n",
    "provider = IBMProvider()\n",
    "\n",
    "#IBMQ.load_account()\n",
    "#provider = IBMQ.get_provider(project='qiskit-runtime')  # replace by your runtime provider\n",
    "\n",
    "backend = provider.get_backend('ibmq_qasm_simulator')"
   ]
  },
  {
   "cell_type": "code",
   "execution_count": 56,
   "id": "714662c9",
   "metadata": {},
   "outputs": [],
   "source": [
    "from qiskit.circuit.library import EfficientSU2\n",
    "\n",
    "from qiskit_nature.runtime import VQEProgram\n",
    "\n",
    "# currently the VQEProgram supports only 'SPSA' and 'QN-SPSA'\n",
    "optimizer = {\n",
    "    'name': 'QN-SPSA',  # leverage the Quantum Natural SPSA\n",
    "    # 'name': 'SPSA',  # set to ordinary SPSA\n",
    "    'maxiter': 100,\n",
    "    'resamplings': {1: 100},  # 100 samples of the QFI for the first step, then 1 sample per step\n",
    "}\n",
    "\n",
    "\n",
    "ansatz = EfficientSU2()\n",
    "\n",
    "runtime_vqe = VQEProgram(ansatz=ansatz,\n",
    "                         optimizer=optimizer,\n",
    "                         provider=provider,\n",
    "                         backend=backend,\n",
    "                         shots=1024,\n",
    "                         measurement_error_mitigation=True)  # use a complete measurement fitter for error mitigation"
   ]
  },
  {
   "cell_type": "code",
   "execution_count": 57,
   "id": "a68fcb43",
   "metadata": {},
   "outputs": [
    {
     "ename": "TypeError",
     "evalue": "'str' object is not callable",
     "output_type": "error",
     "traceback": [
      "\u001b[0;31m---------------------------------------------------------------------------\u001b[0m",
      "\u001b[0;31mRuntimeJobFailureError\u001b[0m                    Traceback (most recent call last)",
      "\u001b[0;32m~/opt/anaconda3/envs/qiskit-dev/lib/python3.7/site-packages/qiskit_nature/runtime/vqe_client.py\u001b[0m in \u001b[0;36mcompute_minimum_eigenvalue\u001b[0;34m(self, operator, aux_operators)\u001b[0m\n\u001b[1;32m    286\u001b[0m         \u001b[0;32mtry\u001b[0m\u001b[0;34m:\u001b[0m\u001b[0;34m\u001b[0m\u001b[0;34m\u001b[0m\u001b[0m\n\u001b[0;32m--> 287\u001b[0;31m             \u001b[0mresult\u001b[0m \u001b[0;34m=\u001b[0m \u001b[0mjob\u001b[0m\u001b[0;34m.\u001b[0m\u001b[0mresult\u001b[0m\u001b[0;34m(\u001b[0m\u001b[0;34m)\u001b[0m\u001b[0;34m\u001b[0m\u001b[0;34m\u001b[0m\u001b[0m\n\u001b[0m\u001b[1;32m    288\u001b[0m         \u001b[0;32mexcept\u001b[0m \u001b[0mException\u001b[0m \u001b[0;32mas\u001b[0m \u001b[0mexc\u001b[0m\u001b[0;34m:\u001b[0m\u001b[0;34m\u001b[0m\u001b[0;34m\u001b[0m\u001b[0m\n",
      "\u001b[0;32m~/Desktop/qiskit-ibm/qiskit_ibm/runtime/runtime_job.py\u001b[0m in \u001b[0;36mresult\u001b[0;34m(self, timeout, wait, decoder)\u001b[0m\n\u001b[1;32m    150\u001b[0m             \u001b[0;32mif\u001b[0m \u001b[0mself\u001b[0m\u001b[0;34m.\u001b[0m\u001b[0m_status\u001b[0m \u001b[0;34m==\u001b[0m \u001b[0mJobStatus\u001b[0m\u001b[0;34m.\u001b[0m\u001b[0mERROR\u001b[0m\u001b[0;34m:\u001b[0m\u001b[0;34m\u001b[0m\u001b[0;34m\u001b[0m\u001b[0m\n\u001b[0;32m--> 151\u001b[0;31m                 raise RuntimeJobFailureError(f\"Unable to retrieve job result. \"\n\u001b[0m\u001b[1;32m    152\u001b[0m                                              f\"{self.error_message()}\")\n",
      "\u001b[0;31mRuntimeJobFailureError\u001b[0m: 'Unable to retrieve job result. Job c7ni5h881t9tgvf6sk60 has failed:\\n2022-01-24T22:06:07.295716400Z Traceback (most recent call last):\\n2022-01-24T22:06:07.295754995Z   File \"/usr/local/lib/python3.8/site-packages/qiskit/algorithms/minimum_eigen_solvers/vqe.py\", line 280, in _check_operator_ansatz\\n2022-01-24T22:06:07.295763486Z     self.ansatz.num_qubits = operator.num_qubits\\n2022-01-24T22:06:07.295770178Z AttributeError: can\\'t set attribute\\n2022-01-24T22:06:07.295776058Z \\n2022-01-24T22:06:07.295786952Z The above exception was the direct cause of the following exception:\\n2022-01-24T22:06:07.295793058Z \\n2022-01-24T22:06:07.295798600Z Traceback (most recent call last):\\n2022-01-24T22:06:07.295805624Z   File \"/code/program_starter.py\", line 63, in <module>\\n2022-01-24T22:06:07.295814049Z     final_result = main(backend, messenger, **user_params)\\n2022-01-24T22:06:07.295821694Z   File \"/code/program.py\", line 1098, in main\\n2022-01-24T22:06:07.295829249Z     result, history = vqe.compute_minimum_eigenvalue(operator, aux_operators)\\n2022-01-24T22:06:07.295841096Z   File \"/code/program.py\", line 861, in compute_minimum_eigenvalue\\n2022-01-24T22:06:07.295851544Z     self._check_operator_ansatz(operator)\\n2022-01-24T22:06:07.295868250Z   File \"/usr/local/lib/python3.8/site-packages/qiskit/algorithms/minimum_eigen_solvers/vqe.py\", line 283, in _check_operator_ansatz\\n2022-01-24T22:06:07.295874928Z     raise AlgorithmError(\\n2022-01-24T22:06:07.295880659Z qiskit.algorithms.exceptions.AlgorithmError: \\'The number of qubits of the ansatz does not match the operator, and the ansatz does not allow setting the number of qubits using `num_qubits`.\\'\\n'",
      "\nDuring handling of the above exception, another exception occurred:\n",
      "\u001b[0;31mTypeError\u001b[0m                                 Traceback (most recent call last)",
      "\u001b[0;32m/var/folders/qg/7nb3rs057bj08hqbgls5079c0000gn/T/ipykernel_56457/2308111712.py\u001b[0m in \u001b[0;36m<module>\u001b[0;34m\u001b[0m\n\u001b[1;32m      1\u001b[0m \u001b[0mruntime_vqe_groundstate_solver\u001b[0m \u001b[0;34m=\u001b[0m \u001b[0mGroundStateEigensolver\u001b[0m\u001b[0;34m(\u001b[0m\u001b[0mqubit_converter\u001b[0m\u001b[0;34m,\u001b[0m \u001b[0mruntime_vqe\u001b[0m\u001b[0;34m)\u001b[0m\u001b[0;34m\u001b[0m\u001b[0;34m\u001b[0m\u001b[0m\n\u001b[0;32m----> 2\u001b[0;31m \u001b[0mruntime_vqe_result\u001b[0m \u001b[0;34m=\u001b[0m \u001b[0mruntime_vqe_groundstate_solver\u001b[0m\u001b[0;34m.\u001b[0m\u001b[0msolve\u001b[0m\u001b[0;34m(\u001b[0m\u001b[0mproblem\u001b[0m\u001b[0;34m)\u001b[0m\u001b[0;34m\u001b[0m\u001b[0;34m\u001b[0m\u001b[0m\n\u001b[0m",
      "\u001b[0;32m~/opt/anaconda3/envs/qiskit-dev/lib/python3.7/site-packages/qiskit_nature/algorithms/ground_state_solvers/ground_state_eigensolver.py\u001b[0m in \u001b[0;36msolve\u001b[0;34m(self, problem, aux_operators)\u001b[0m\n\u001b[1;32m    142\u001b[0m             \u001b[0maux_ops\u001b[0m \u001b[0;34m=\u001b[0m \u001b[0;32mNone\u001b[0m\u001b[0;34m\u001b[0m\u001b[0;34m\u001b[0m\u001b[0m\n\u001b[1;32m    143\u001b[0m \u001b[0;34m\u001b[0m\u001b[0m\n\u001b[0;32m--> 144\u001b[0;31m         \u001b[0mraw_mes_result\u001b[0m \u001b[0;34m=\u001b[0m \u001b[0mself\u001b[0m\u001b[0;34m.\u001b[0m\u001b[0m_solver\u001b[0m\u001b[0;34m.\u001b[0m\u001b[0mcompute_minimum_eigenvalue\u001b[0m\u001b[0;34m(\u001b[0m\u001b[0mmain_operator\u001b[0m\u001b[0;34m,\u001b[0m \u001b[0maux_ops\u001b[0m\u001b[0;34m)\u001b[0m\u001b[0;34m\u001b[0m\u001b[0;34m\u001b[0m\u001b[0m\n\u001b[0m\u001b[1;32m    145\u001b[0m \u001b[0;34m\u001b[0m\u001b[0m\n\u001b[1;32m    146\u001b[0m         \u001b[0mresult\u001b[0m \u001b[0;34m=\u001b[0m \u001b[0mproblem\u001b[0m\u001b[0;34m.\u001b[0m\u001b[0minterpret\u001b[0m\u001b[0;34m(\u001b[0m\u001b[0mraw_mes_result\u001b[0m\u001b[0;34m)\u001b[0m\u001b[0;34m\u001b[0m\u001b[0;34m\u001b[0m\u001b[0m\n",
      "\u001b[0;32m~/opt/anaconda3/envs/qiskit-dev/lib/python3.7/site-packages/qiskit_nature/runtime/vqe_program.py\u001b[0m in \u001b[0;36mcompute_minimum_eigenvalue\u001b[0;34m(self, operator, aux_operators)\u001b[0m\n\u001b[1;32m     70\u001b[0m         \u001b[0mself\u001b[0m\u001b[0;34m,\u001b[0m \u001b[0moperator\u001b[0m\u001b[0;34m:\u001b[0m \u001b[0mOperatorBase\u001b[0m\u001b[0;34m,\u001b[0m \u001b[0maux_operators\u001b[0m\u001b[0;34m:\u001b[0m \u001b[0mOptional\u001b[0m\u001b[0;34m[\u001b[0m\u001b[0mList\u001b[0m\u001b[0;34m[\u001b[0m\u001b[0mOptional\u001b[0m\u001b[0;34m[\u001b[0m\u001b[0mOperatorBase\u001b[0m\u001b[0;34m]\u001b[0m\u001b[0;34m]\u001b[0m\u001b[0;34m]\u001b[0m \u001b[0;34m=\u001b[0m \u001b[0;32mNone\u001b[0m\u001b[0;34m\u001b[0m\u001b[0;34m\u001b[0m\u001b[0m\n\u001b[1;32m     71\u001b[0m     ) -> MinimumEigensolverResult:\n\u001b[0;32m---> 72\u001b[0;31m         \u001b[0mresult\u001b[0m \u001b[0;34m=\u001b[0m \u001b[0msuper\u001b[0m\u001b[0;34m(\u001b[0m\u001b[0;34m)\u001b[0m\u001b[0;34m.\u001b[0m\u001b[0mcompute_minimum_eigenvalue\u001b[0m\u001b[0;34m(\u001b[0m\u001b[0moperator\u001b[0m\u001b[0;34m,\u001b[0m \u001b[0maux_operators\u001b[0m\u001b[0;34m)\u001b[0m\u001b[0;34m\u001b[0m\u001b[0;34m\u001b[0m\u001b[0m\n\u001b[0m\u001b[1;32m     73\u001b[0m \u001b[0;34m\u001b[0m\u001b[0m\n\u001b[1;32m     74\u001b[0m         \u001b[0;31m# convert to previous result type\u001b[0m\u001b[0;34m\u001b[0m\u001b[0;34m\u001b[0m\u001b[0;34m\u001b[0m\u001b[0m\n",
      "\u001b[0;32m~/opt/anaconda3/envs/qiskit-dev/lib/python3.7/site-packages/qiskit_nature/runtime/vqe_client.py\u001b[0m in \u001b[0;36mcompute_minimum_eigenvalue\u001b[0;34m(self, operator, aux_operators)\u001b[0m\n\u001b[1;32m    287\u001b[0m             \u001b[0mresult\u001b[0m \u001b[0;34m=\u001b[0m \u001b[0mjob\u001b[0m\u001b[0;34m.\u001b[0m\u001b[0mresult\u001b[0m\u001b[0;34m(\u001b[0m\u001b[0;34m)\u001b[0m\u001b[0;34m\u001b[0m\u001b[0;34m\u001b[0m\u001b[0m\n\u001b[1;32m    288\u001b[0m         \u001b[0;32mexcept\u001b[0m \u001b[0mException\u001b[0m \u001b[0;32mas\u001b[0m \u001b[0mexc\u001b[0m\u001b[0;34m:\u001b[0m\u001b[0;34m\u001b[0m\u001b[0;34m\u001b[0m\u001b[0m\n\u001b[0;32m--> 289\u001b[0;31m             \u001b[0;32mraise\u001b[0m \u001b[0mRuntimeError\u001b[0m\u001b[0;34m(\u001b[0m\u001b[0;34mf\"The job {job.job_id()} failed unexpectedly.\"\u001b[0m\u001b[0;34m)\u001b[0m \u001b[0;32mfrom\u001b[0m \u001b[0mexc\u001b[0m\u001b[0;34m\u001b[0m\u001b[0;34m\u001b[0m\u001b[0m\n\u001b[0m\u001b[1;32m    290\u001b[0m \u001b[0;34m\u001b[0m\u001b[0m\n\u001b[1;32m    291\u001b[0m         \u001b[0;31m# re-build result from serialized return value\u001b[0m\u001b[0;34m\u001b[0m\u001b[0;34m\u001b[0m\u001b[0;34m\u001b[0m\u001b[0m\n",
      "\u001b[0;31mTypeError\u001b[0m: 'str' object is not callable"
     ]
    }
   ],
   "source": [
    "runtime_vqe_groundstate_solver = GroundStateEigensolver(qubit_converter, runtime_vqe)\n",
    "runtime_vqe_result = runtime_vqe_groundstate_solver.solve(problem)"
   ]
  },
  {
   "cell_type": "code",
   "execution_count": null,
   "id": "386cc0c4",
   "metadata": {},
   "outputs": [],
   "source": []
  }
 ],
 "metadata": {
  "kernelspec": {
   "display_name": "Python 3 (ipykernel)",
   "language": "python",
   "name": "python3"
  },
  "language_info": {
   "codemirror_mode": {
    "name": "ipython",
    "version": 3
   },
   "file_extension": ".py",
   "mimetype": "text/x-python",
   "name": "python",
   "nbconvert_exporter": "python",
   "pygments_lexer": "ipython3",
   "version": "3.7.11"
  }
 },
 "nbformat": 4,
 "nbformat_minor": 5
}
