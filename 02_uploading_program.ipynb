{
 "cells": [
  {
   "cell_type": "markdown",
   "id": "55f13cc7",
   "metadata": {},
   "source": [
    "# Uploading a Qiskit runtime program"
   ]
  },
  {
   "cell_type": "markdown",
   "id": "4ff8d2da",
   "metadata": {},
   "source": [
    "<div class=\"alert alert-block alert-info\">\n",
    "<b>Note:</b> Qiskit Runtime allows authorized users to upload runtime programs. Access to the Qiskit Runtime service may not mean you have access to upload a runtime program.\n",
    "</div>"
   ]
  },
  {
   "cell_type": "markdown",
   "id": "2077b996",
   "metadata": {},
   "source": [
    "Here we provide an overview on how to construct and upload a runtime program. A runtime program is a piece of Python code that lives in the cloud and can be invoked by passing in just its parameters. Runtime programs are private by default, which means only you can see and access your programs. Some authorized users can also mark their programs as public, making them visible and accessible by everyone."
   ]
  },
  {
   "cell_type": "markdown",
   "id": "cf42076e",
   "metadata": {},
   "source": [
    "## Constructing a runtime program"
   ]
  },
  {
   "cell_type": "markdown",
   "id": "e282eccc",
   "metadata": {},
   "source": [
    "Below is a template of a runtime program. You can find the template file in the \n",
    "[`qiskit-ibmq-provider`](https://github.com/Qiskit/qiskit-ibmq-provider/blob/master/qiskit/providers/ibmq/runtime/program/program_template.py) repository."
   ]
  },
  {
   "cell_type": "code",
   "execution_count": 1,
   "id": "1206f612",
   "metadata": {},
   "outputs": [],
   "source": [
    "import sys\n",
    "import json\n",
    "\n",
    "from qiskit.providers.ibmq.runtime import UserMessenger, ProgramBackend\n",
    "\n",
    "\n",
    "def program(backend: ProgramBackend, user_messenger: UserMessenger, **kwargs):\n",
    "    \"\"\"Function that does classical-quantum calculation.\"\"\"\n",
    "    # UserMessenger can be used to publish interim results.\n",
    "    user_messenger.publish(\"This is an interim result.\")\n",
    "    return \"final result\"\n",
    "\n",
    "\n",
    "def main(backend: ProgramBackend, user_messenger: UserMessenger, **kwargs):\n",
    "    \"\"\"This is the main entry point of a runtime program.\n",
    "\n",
    "    The name of this method must not change. It also must have ``backend``\n",
    "    and ``user_messenger`` as the first two positional arguments.\n",
    "\n",
    "    Args:\n",
    "        backend: Backend for the circuits to run on.\n",
    "        user_messenger: Used to communicate with the program user.\n",
    "        kwargs: User inputs.\n",
    "    \"\"\"\n",
    "    # Massage the input if necessary.\n",
    "    result = program(backend, user_messenger, **kwargs)\n",
    "    # Final result can be directly returned\n",
    "    return result\n",
    ""
   ]
  },
  {
   "cell_type": "markdown",
   "id": "bb4cfa8b",
   "metadata": {},
   "source": [
    "Each runtime program must have a `main()` function, which serves as the entry point to the program. This function must have `backend` and `user_messenger` as the first two positional arguments:\n",
    "\n",
    "- `backend` is an instance of [`ProgramBackend`](https://qiskit.org/documentation/stubs/qiskit.providers.ibmq.runtime.ProgramBackend.html#qiskit.providers.ibmq.runtime.ProgramBackend) and has a [`run()`](https://qiskit.org/documentation/stubs/qiskit.providers.ibmq.runtime.ProgramBackend.run.html#qiskit.providers.ibmq.runtime.ProgramBackend.run) method that can be used to submit circuits.\n",
    "- `user_messenger` is an instance of [`UserMessenger`](https://qiskit.org/documentation/stubs/qiskit.providers.ibmq.runtime.UserMessenger.html#qiskit.providers.ibmq.runtime.UserMessenger) and has a [`publish()`](https://qiskit.org/documentation/stubs/qiskit.providers.ibmq.runtime.UserMessenger.publish.html#qiskit.providers.ibmq.runtime.UserMessenger.publish) method that can be used to send interim and final results to the program user. This method takes a parameter `final` that indicates whether it's a final result. However, it is recommended to return the final result directly from the `main()` function. Currently only final results are stored after a program execution finishes."
   ]
  },
  {
   "cell_type": "markdown",
   "id": "705ccef3",
   "metadata": {},
   "source": [
    "There are several runtime programs in the `qiskit_runtime` directory in this repository. `qiskit_runtime/sample_program/sample_program.py` is one of them. It is a sample runtime program that submits random circuits for user-specified iterations:"
   ]
  },
  {
   "cell_type": "code",
   "execution_count": 2,
   "id": "181916df",
   "metadata": {},
   "outputs": [],
   "source": [
    "\"\"\"A sample runtime program that submits random circuits for user-specified iterations.\"\"\"\n",
    "\n",
    "import random\n",
    "\n",
    "from qiskit import transpile\n",
    "from qiskit.circuit.random import random_circuit\n",
    "\n",
    "\n",
    "def prepare_circuits(backend):\n",
    "    \"\"\"Generate a random circuit.\n",
    "\n",
    "    Args:\n",
    "        backend: Backend used for transpilation.\n",
    "\n",
    "    Returns:\n",
    "        Generated circuit.\n",
    "    \"\"\"\n",
    "    circuit = random_circuit(num_qubits=5, depth=4, measure=True,\n",
    "                             seed=random.randint(0, 1000))\n",
    "    return transpile(circuit, backend)\n",
    "\n",
    "\n",
    "def main(backend, user_messenger, **kwargs):\n",
    "    \"\"\"Main entry point of the program.\n",
    "\n",
    "    Args:\n",
    "        backend: Backend to submit the circuits to.\n",
    "        user_messenger: Used to communicate with the program consumer.\n",
    "        kwargs: User inputs.\n",
    "    \"\"\"\n",
    "    iterations = kwargs.pop('iterations', 5)\n",
    "    for it in range(iterations):\n",
    "        qc = prepare_circuits(backend)\n",
    "        result = backend.run(qc).result()\n",
    "        user_messenger.publish({\"iteration\": it, \"counts\": result.get_counts()})\n",
    "\n",
    "    return \"All done!\"\n",
    ""
   ]
  },
  {
   "cell_type": "markdown",
   "id": "1281b655",
   "metadata": {},
   "source": [
    "## Data serialization"
   ]
  },
  {
   "cell_type": "markdown",
   "id": "9edb1023",
   "metadata": {},
   "source": [
    "Runtime programs live in the cloud, and JSON is the standard way of passing data to and from cloud services. Therefore, when a user invokes a runtime program, the input parameters must first be serialized into the JSON format  and then deserialized once received by the server. By default, this serialization and deserialization is done automatically using the [`RuntimeEncoder`](https://qiskit.org/documentation/stubs/qiskit.providers.ibmq.runtime.RuntimeEncoder.html#qiskit.providers.ibmq.runtime.RuntimeEncoder) and [`RuntimeDecoder`](https://qiskit.org/documentation/stubs/qiskit.providers.ibmq.runtime.RuntimeDecoder.html#qiskit.providers.ibmq.runtime.RuntimeDecoder) classes.\n"
   ]
  },
  {
   "cell_type": "markdown",
   "id": "8b4aeb2b",
   "metadata": {},
   "source": [
    "### Custom classes"
   ]
  },
  {
   "cell_type": "markdown",
   "id": "1d7fbdf5",
   "metadata": {},
   "source": [
    "`RuntimeEncoder` and `RuntimeDecoder` only support types commonly used in Qiskit, such as complex numbers and numpy arrays. If your program uses custom Python classes for input or output, these two methods only have partial support for that. \n",
    "\n",
    "Your custom class should have the following methods:\n",
    "\n",
    "- a `to_json()` method that returns a JSON string representation of the object\n",
    "- a `from_json()` class method that accepts a JSON string and returns the corresponding object. \n",
    "\n",
    "When `RuntimeEncoder` serializes a Python object, it checks whether the object has a `to_json()` method. If so, it calls the method to serialize the object. `RuntimeDecoder`, however, does _not_ invoke `from_json()` to convert the data back because it doesn't know how to import your custom class. Therefore the deserialization needs to be done explicitly. "
   ]
  },
  {
   "cell_type": "markdown",
   "id": "c3e2d6e2",
   "metadata": {},
   "source": [
    "Here is an example of serializing and deserializing a custom class. First we define the class `MyCustomClass`:"
   ]
  },
  {
   "cell_type": "code",
   "execution_count": 3,
   "id": "ca9047fc",
   "metadata": {},
   "outputs": [],
   "source": [
    "import json\n",
    "\n",
    "class MyCustomClass:\n",
    "    \n",
    "    def __init__(self, foo, bar):\n",
    "        self._foo = foo\n",
    "        self._bar = bar\n",
    "    \n",
    "    def to_json(self):\n",
    "        \"\"\"Convert this instance to a JSON string.\"\"\"\n",
    "        return json.dumps({\"foo\": self._foo, \"bar\": self._bar})\n",
    "    \n",
    "    @classmethod\n",
    "    def from_json(cls, json_str):\n",
    "        \"\"\"Return a MyCustomClass instance based on the input JSON string.\"\"\"\n",
    "        return cls(**json.loads(json_str))"
   ]
  },
  {
   "cell_type": "markdown",
   "id": "31f967a4",
   "metadata": {},
   "source": [
    "Note that it has the `to_json()` method that converts a `MyCustomClass` instance to a JSON string, and a `from_json()` class method that converts a JSON string back to a `MyCustomClass` instance."
   ]
  },
  {
   "cell_type": "markdown",
   "id": "2fdf8941",
   "metadata": {},
   "source": [
    "Here is how one would use `MyCustomClass` as an **input** to your program:"
   ]
  },
  {
   "cell_type": "markdown",
   "id": "258fcd02",
   "metadata": {},
   "source": [
    "```\n",
    "program_inputs = {\n",
    "    'my_obj': MyCustomClass(\"my foo\", \"my bar\")\n",
    "}\n",
    "\n",
    "options = {\"backend_name\": \"ibmq_qasm_simulator\"}\n",
    "job = provider.runtime.run(program_id=\"some-program\",\n",
    "                           options=options,\n",
    "                           inputs=program_inputs\n",
    "                          )\n",
    "```"
   ]
  },
  {
   "cell_type": "markdown",
   "id": "dc86356b",
   "metadata": {},
   "source": [
    "Since `MyCustomClass` has a `to_json()` method, the method is automatically called to convert the instance to a JSON string when `provider.runtime.run()` is invoked. \n",
    "\n",
    "Your program can then use the `from_json()` method to restore the JSON string back to a `MyCustomClass` instance:"
   ]
  },
  {
   "cell_type": "code",
   "execution_count": 4,
   "id": "681a1798",
   "metadata": {},
   "outputs": [],
   "source": [
    "def main(backend, user_messenger, **kwargs):\n",
    "    \"\"\"Main entry point of the program.\"\"\"\n",
    "    my_obj_str = kwargs.pop('my_obj')\n",
    "    my_obj = MyCustomClass.from_json(my_obj_str)"
   ]
  },
  {
   "cell_type": "markdown",
   "id": "b71c40bc",
   "metadata": {},
   "source": [
    "Similarly, if you pass a `MyCustomClass` instance as an **output** of your program, it is automatically converted to a JSON string (via the `to_json()` method):"
   ]
  },
  {
   "cell_type": "code",
   "execution_count": 5,
   "id": "f4cf18b4",
   "metadata": {},
   "outputs": [],
   "source": [
    "def main(backend, user_messenger, **kwargs):\n",
    "    \"\"\"Main entry point of the program.\"\"\"\n",
    "    return MyCustomClass(\"this foo\", \"that bar\")"
   ]
  },
  {
   "cell_type": "markdown",
   "id": "8e0fdb4a",
   "metadata": {},
   "source": [
    "Now when the user of this program calls `job.result()`, they will receive a JSON string rather than a `MyCustomClass` instance. The user can convert the string back to `MyCustomClass` themselves:"
   ]
  },
  {
   "cell_type": "markdown",
   "id": "abf149cc",
   "metadata": {},
   "source": [
    "```\n",
    "output_str = job.result()\n",
    "output = MyCustomClass.from_json(output_str)\n",
    "```"
   ]
  },
  {
   "cell_type": "markdown",
   "id": "32cd0c7e",
   "metadata": {},
   "source": [
    "Alternatively, you can provide a decoder for the users. Your decoder class should inherit [`ResultDecoder`](https://qiskit.org/documentation/stubs/qiskit.providers.ibmq.runtime.ResultDecoder.html#qiskit.providers.ibmq.runtime.ResultDecoder) and overwrites the `decode()` method:"
   ]
  },
  {
   "cell_type": "code",
   "execution_count": 6,
   "id": "a2f8564d",
   "metadata": {},
   "outputs": [],
   "source": [
    "from qiskit.providers.ibmq.runtime import ResultDecoder\n",
    "\n",
    "class MyResultDecoder(ResultDecoder):\n",
    "\n",
    "    @classmethod\n",
    "    def decode(cls, data):\n",
    "        data = super().decoded(data)  # Perform any preprocessing.\n",
    "        return MyCustomClass.from_json(data)"
   ]
  },
  {
   "cell_type": "markdown",
   "id": "3d0de7d0",
   "metadata": {},
   "source": [
    "Your user can then use this `MyResultDecoder` to decode the result of your program:\n",
    "\n",
    "```\n",
    "output = job.result(decoder=MyResultDecoder)\n",
    "```"
   ]
  },
  {
   "cell_type": "markdown",
   "id": "ecdda3bf",
   "metadata": {},
   "source": [
    "## Testing your runtime program"
   ]
  },
  {
   "cell_type": "markdown",
   "id": "2a18f49e",
   "metadata": {},
   "source": [
    "You can test your runtime program using a local simulator or a real backend before uploading it. Simply import and invoke the `main()` function of your program and pass the following parameters:\n",
    "\n",
    "- the `backend` instance you want to use\n",
    "- a new `UserMessenger` instance.\n",
    "- program input parameters that are serialized and then deserialized using the correct encoder and decoder. While this may seem redundant, it is to ensure input parameters can be passed to your program properly once it's uploaded to the cloud.\n"
   ]
  },
  {
   "cell_type": "markdown",
   "id": "f197d48e",
   "metadata": {},
   "source": [
    "The following example tests the `sample-program` program we saw earlier. It uses the `qasm_simulator` from Qiskit Aer as the test backend. It serializes and deserializes input data using `RuntimeEncoder` and `RuntimeDecoder`, which are the default en/decoders used by runtime."
   ]
  },
  {
   "cell_type": "code",
   "execution_count": 7,
   "id": "12c32ba7",
   "metadata": {},
   "outputs": [
    {
     "output_type": "stream",
     "name": "stdout",
     "text": "{\"iteration\": 0, \"counts\": {\"01000\": 4, \"00000\": 12, \"00011\": 872, \"01011\": 136}}\n{\"iteration\": 1, \"counts\": {\"01000\": 6, \"00000\": 19, \"00011\": 871, \"01011\": 128}}\n{\"iteration\": 2, \"counts\": {\"00001\": 1024}}\n"
    },
    {
     "output_type": "execute_result",
     "data": {
      "text/plain": "'All done!'"
     },
     "metadata": {},
     "execution_count": 7
    }
   ],
   "source": [
    "import sys\n",
    "sys.path.insert(0, '..') # Add qiskit_runtime directory to the path\n",
    "\n",
    "from qiskit_runtime.sample_program import sample_program\n",
    "from qiskit import Aer\n",
    "from qiskit.providers.ibmq.runtime.utils import RuntimeEncoder, RuntimeDecoder\n",
    "from qiskit.providers.ibmq.runtime import UserMessenger\n",
    "\n",
    "inputs = {\"iterations\": 3}\n",
    "\n",
    "backend = Aer.get_backend('qasm_simulator')\n",
    "user_messenger = UserMessenger()\n",
    "serialized_inputs = json.dumps(inputs, cls=RuntimeEncoder)\n",
    "deserialized_inputs = json.loads(serialized_inputs, cls=RuntimeDecoder)\n",
    "\n",
    "sample_program.main(backend, user_messenger, **deserialized_inputs)"
   ]
  },
  {
   "cell_type": "markdown",
   "id": "501a66f3",
   "metadata": {},
   "source": [
    "## Defining program metadata"
   ]
  },
  {
   "cell_type": "markdown",
   "id": "f98640c1",
   "metadata": {},
   "source": [
    "Program metadata helps users to understand how to use your program. It includes:\n",
    "\n",
    "- `name`: Name of the program.\n",
    "- `max_execution_time`: Maximum amount of time, in seconds, a program can run before being forcibly terminated.\n",
    "- `description`: Describes the program.\n",
    "- `spec`: Detailed information about the program, which includes the following attributes:\n",
    "    - `backend_requirements`: Describes the backend attributes needed to run the program.\n",
    "    - `parameters`: Describes the program input parameters as a JSON schema\n",
    "    - `return_values`: Describes the return values as a JSON schema\n",
    "    - `interim_results`: Describes the interim results as a JSON schema\n",
    "\n",
    "When uploading a program, you must specify at least `name`, `max_execution_time`, and `description`. It is strongly encouraged to also specify `parameters`, `return_values`, and `interim_results` within `spec` if the program has them."
   ]
  },
  {
   "cell_type": "markdown",
   "id": "55db2a39",
   "metadata": {},
   "source": [
    "Below shows the metadata JSON file of the `sample-program` program as an example:"
   ]
  },
  {
   "cell_type": "code",
   "execution_count": 8,
   "id": "3cdce276",
   "metadata": {},
   "outputs": [
    {
     "output_type": "stream",
     "name": "stdout",
     "text": "{\n  \"name\": \"sample-program\",\n  \"description\": \"A sample runtime program.\",\n  \"max_execution_time\": 300,\n  \"spec\": {\n    \"backend_requirements\": {\n      \"min_num_qubits\": 5\n    },\n    \"parameters\": {\n      \"$schema\": \"https://json-schema.org/draft/2019-09/schema\",\n      \"properties\": {\n        \"iterations\": {\n          \"type\": \"integer\",\n          \"minimum\": 0,\n          \"description\": \"Number of iterations to run. Each iteration generates a runs a random circuit.\"\n        }\n      },\n      \"required\": [\n        \"iterations\"\n      ]\n    },\n    \"return_values\": {\n      \"$schema\": \"https://json-schema.org/draft/2019-09/schema\",\n      \"description\": \"A string that says 'All done!'.\",\n      \"type\": \"string\"\n    },\n    \"interim_results\": {\n      \"$schema\": \"https://json-schema.org/draft/2019-09/schema\",\n      \"properties\": {\n        \"iteration\": {\n          \"type\": \"integer\",\n          \"description\": \"Iteration number.\"\n        },\n        \"counts\": {\n          \"description\": \"Histogram data of the circuit result.\",\n          \"type\": \"object\"\n        }\n      }\n    }\n  }\n}\n\n"
    }
   ],
   "source": [
    "import os\n",
    "\n",
    "sample_program_json = os.path.join(os.getcwd(), \"../qiskit_runtime/sample_program/sample_program.json\")\n",
    "\n",
    "with open(sample_program_json, 'r') as file:\n",
    "    data = file.read()\n",
    "\n",
    "print(data)"
   ]
  },
  {
   "cell_type": "markdown",
   "id": "43dd6a77",
   "metadata": {},
   "source": [
    "## Uploading a program"
   ]
  },
  {
   "cell_type": "markdown",
   "id": "d1865c58",
   "metadata": {},
   "source": [
    "You can use the [`IBMRuntimeService.upload_program()`](https://qiskit.org/documentation/stubs/qiskit.providers.ibmq.runtime.IBMRuntimeService.html#qiskit.providers.ibmq.runtime.IBMRuntimeService.upload_program) method to upload your program. In the example below, the program data lives in the file `sample_program.py`, and its metadata, as described above, is in `sample_program.json`. "
   ]
  },
  {
   "cell_type": "code",
   "execution_count": 9,
   "id": "864ab085",
   "metadata": {},
   "outputs": [
    {
     "name": "stdout",
     "output_type": "stream",
     "text": [
      "sample-program-nQ9dgRjGEe\n"
     ]
    }
   ],
   "source": [
    "import os\n",
    "from qiskit import IBMQ\n",
    "\n",
    "IBMQ.load_account()\n",
    "provider = IBMQ.get_provider(project='qiskit-runtime')  # Substitute with your provider.\n",
    "\n",
    "sample_program_data = os.path.join(os.getcwd(), \"../qiskit_runtime/sample_program/sample_program.py\")\n",
    "sample_program_json = os.path.join(os.getcwd(), \"../qiskit_runtime/sample_program/sample_program.json\")\n",
    "\n",
    "program_id = provider.runtime.upload_program(\n",
    "    data=sample_program_data,\n",
    "    metadata=sample_program_json\n",
    ")\n",
    "print(program_id)"
   ]
  },
  {
   "cell_type": "markdown",
   "id": "45ffd6c8",
   "metadata": {},
   "source": [
    "`upload_program()` returns a program ID, which uniquely identifies the program. It is derived from the program name, usually with a randomly-generated suffix. Program ID is needed for users to invoke the program"
   ]
  },
  {
   "cell_type": "markdown",
   "id": "chubby-infection",
   "metadata": {},
   "source": [
    "## Updating a program"
   ]
  },
  {
   "cell_type": "markdown",
   "id": "measured-catalyst",
   "metadata": {},
   "source": [
    "You can use the [`IBMRuntimeService.update_program()`](https://qiskit.org/documentation/stubs/qiskit.providers.ibmq.runtime.IBMRuntimeService.update_program.html#qiskit.providers.ibmq.runtime.IBMRuntimeService.update_program) method to update the source code and/or metadata of a program:"
   ]
  },
  {
   "cell_type": "code",
   "execution_count": null,
   "id": "southern-farmer",
   "metadata": {},
   "outputs": [],
   "source": [
    "provider.runtime.update_program(program_id=program_id, description=\"A new description.\")"
   ]
  },
  {
   "cell_type": "markdown",
   "id": "becoming-badge",
   "metadata": {},
   "source": [
    "This method allows you to make changes to your program while retaining the same program ID."
   ]
  },
  {
   "cell_type": "markdown",
   "id": "f841041c",
   "metadata": {},
   "source": [
    "## Deleting a program"
   ]
  },
  {
   "cell_type": "markdown",
   "id": "a20cd296",
   "metadata": {},
   "source": [
    "You can use the [`IBMRuntimeService.delete_program()`](https://qiskit.org/documentation/stubs/qiskit.providers.ibmq.runtime.IBMRuntimeService.html#qiskit.providers.ibmq.runtime.IBMRuntimeService.delete_program) method to delete a program. Only the person who uploaded the program can delete it. \n"
   ]
  }
 ],
 "metadata": {
  "kernelspec": {
   "display_name": "Python 3",
   "language": "python",
   "name": "python3"
  },
  "language_info": {
   "codemirror_mode": {
    "name": "ipython",
    "version": 3
   },
   "file_extension": ".py",
   "mimetype": "text/x-python",
   "name": "python",
   "nbconvert_exporter": "python",
   "pygments_lexer": "ipython3",
   "version": "3.9.1"
  }
 },
 "nbformat": 4,
 "nbformat_minor": 5
}
