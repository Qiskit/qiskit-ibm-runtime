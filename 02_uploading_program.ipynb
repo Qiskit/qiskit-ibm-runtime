{
 "cells": [
  {
   "cell_type": "markdown",
   "source": [
    "# Uploading a Qiskit runtime program"
   ],
   "metadata": {}
  },
  {
   "cell_type": "markdown",
   "source": [
    "<div class=\"alert alert-block alert-info\">\n",
    "<b>Note:</b> Access to the Qiskit Runtime service may not mean you have access to upload a runtime program, but check back, as we'll be releasing it publicly soon!\n",
    "</div>"
   ],
   "metadata": {}
  },
  {
   "cell_type": "markdown",
   "source": [
    "Here we provide an overview on how to construct and upload a runtime program. A runtime program is a piece of Python code that lives in the cloud and can be invoked by other authorized users. Runtime programs are **private** by default, but the program visibility can be changed during upload or at a later time."
   ],
   "metadata": {}
  },
  {
   "cell_type": "markdown",
   "source": [
    "## Constructing a runtime program"
   ],
   "metadata": {}
  },
  {
   "cell_type": "markdown",
   "source": [
    "Below is a template of a runtime program. You can find the template file in the \n",
    "[`qiskit-ibmq-provider`](https://github.com/Qiskit/qiskit-ibmq-provider/blob/master/qiskit/providers/ibmq/runtime/program/program_template.py) repository."
   ],
   "metadata": {}
  },
  {
   "cell_type": "code",
   "execution_count": 1,
   "source": [
    "import sys\n",
    "import json\n",
    "\n",
    "from qiskit.providers.ibmq.runtime import UserMessenger, ProgramBackend\n",
    "\n",
    "\n",
    "def program(backend: ProgramBackend, user_messenger: UserMessenger, **kwargs):\n",
    "    \"\"\"Function that does classical-quantum calculation.\"\"\"\n",
    "    # UserMessenger can be used to publish interim results.\n",
    "    user_messenger.publish(\"This is an interim result.\")\n",
    "    return \"final result\"\n",
    "\n",
    "\n",
    "def main(backend: ProgramBackend, user_messenger: UserMessenger, **kwargs):\n",
    "    \"\"\"This is the main entry point of a runtime program.\n",
    "\n",
    "    The name of this method must not change. It also must have ``backend``\n",
    "    and ``user_messenger`` as the first two positional arguments.\n",
    "\n",
    "    Args:\n",
    "        backend: Backend for the circuits to run on.\n",
    "        user_messenger: Used to communicate with the program user.\n",
    "        kwargs: User inputs.\n",
    "    \"\"\"\n",
    "    # Massage the input if necessary.\n",
    "    result = program(backend, user_messenger, **kwargs)\n",
    "    # Final result can be directly returned\n",
    "    return result\n"
   ],
   "outputs": [],
   "metadata": {}
  },
  {
   "cell_type": "markdown",
   "source": [
    "Each runtime program must have a `main()` function, which serves as the entry point to the program. This function must have `backend` and `user_messenger` as the first two positional arguments:\n",
    "\n",
    "- `backend` is an instance of [`ProgramBackend`](https://qiskit.org/documentation/stubs/qiskit.providers.ibmq.runtime.ProgramBackend.html#qiskit.providers.ibmq.runtime.ProgramBackend) and has a `run()` method that can be used to submit circuits.\n",
    "- `user_messenger` is an instance of [`UserMessenger`](https://qiskit.org/documentation/stubs/qiskit.providers.ibmq.runtime.UserMessenger.html#qiskit.providers.ibmq.runtime.UserMessenger) and has a `publish()` method that can be used to send interim and final results to the program user. This method takes a parameter `final` that indicates whether it's a final result. However, it is recommended to return the final result directly from the `main()` function. Currently only final results are stored after a program execution finishes."
   ],
   "metadata": {}
  },
  {
   "cell_type": "markdown",
   "source": [
    "There are several runtime programs in the `programs` directory in this repository. `sample_program.py` is one of them. It is a sample runtime program that submits random circuits for user-specified iterations:"
   ],
   "metadata": {}
  },
  {
   "cell_type": "code",
   "execution_count": 2,
   "source": [
    "\"\"\"A sample runtime program that submits random circuits for user-specified iterations.\"\"\"\n",
    "\n",
    "import random\n",
    "\n",
    "from qiskit import transpile\n",
    "from qiskit.circuit.random import random_circuit\n",
    "\n",
    "\n",
    "def prepare_circuits(backend):\n",
    "    \"\"\"Generate a random circuit.\n",
    "\n",
    "    Args:\n",
    "        backend: Backend used for transpilation.\n",
    "\n",
    "    Returns:\n",
    "        Generated circuit.\n",
    "    \"\"\"\n",
    "    circuit = random_circuit(num_qubits=5, depth=4, measure=True,\n",
    "                             seed=random.randint(0, 1000))\n",
    "    return transpile(circuit, backend)\n",
    "\n",
    "\n",
    "def main(backend, user_messenger, **kwargs):\n",
    "    \"\"\"Main entry point of the program.\n",
    "\n",
    "    Args:\n",
    "        backend: Backend to submit the circuits to.\n",
    "        user_messenger: Used to communicate with the program consumer.\n",
    "        kwargs: User inputs.\n",
    "    \"\"\"\n",
    "    iterations = kwargs.pop('iterations', 5)\n",
    "    for it in range(iterations):\n",
    "        qc = prepare_circuits(backend)\n",
    "        result = backend.run(qc).result()\n",
    "        user_messenger.publish({\"iteration\": it, \"counts\": result.get_counts()})\n",
    "\n",
    "    return \"All done!\"\n"
   ],
   "outputs": [],
   "metadata": {}
  },
  {
   "cell_type": "markdown",
   "source": [
    "## Data serialization"
   ],
   "metadata": {}
  },
  {
   "cell_type": "markdown",
   "source": [
    "Runtime programs live in the cloud, and JSON is the standard way of passing data to cloud services. Therefore, when a user invokes a runtime program, the input parameters must first be serialized into the JSON format before passed to the server and then deserialized once received by the server. This serialization and deserialization is done using the [`RuntimeEncoder`](https://qiskit.org/documentation/stubs/qiskit.providers.ibmq.runtime.RuntimeEncoder.html#qiskit.providers.ibmq.runtime.RuntimeEncoder) and [`RuntimeDecoder`](https://qiskit.org/documentation/stubs/qiskit.providers.ibmq.runtime.RuntimeDecoder.html#qiskit.providers.ibmq.runtime.RuntimeDecoder) classes, respectively.\n",
    "\n",
    "Similarly, results passed back by a runtime program need to be serialized. You can choose to use the default `RuntimeEncoder`, or pass your own encoder to `user_messenger.publish()`. Keep in mind that if you choose to use your own encoder, you must document the corresponding decoder needed for the users of your program to deserialize the results."
   ],
   "metadata": {}
  },
  {
   "cell_type": "markdown",
   "source": [
    "If you want to pass custom Python classes, the `RuntimeEncoder` and `RuntimeDecoder` methods have some support for that. In your custom class, you can define a `to_json()` method that returns a JSON string representation of the object, and a `from_json()` class method that accepts a JSON string and returns the corresponding object. When `RuntimeEncoder` serializes a Python object, it checks whether the object has a `to_json()` method. If so, it uses the method for serialization. `RuntimeDecoder`, however, does _not_ invoke `from_json()` to convert the data back because it doesn't know how to import your custom class. You can, however, create your own decoder.\n",
    "\n",
    "You decoder should inherit the [`ResultDecoder`](https://qiskit.org/documentation/stubs/qiskit.providers.ibmq.runtime.ResultDecoder.html#qiskit.providers.ibmq.runtime.ResultDecoder) class and overwrites its `decode()` method. This `decode()` method is called to deserialize job results. Your subclass can call the parent's ``decode()`` method to handle deserialization of other result data, and the subclass can handle just the custom class. "
   ],
   "metadata": {}
  },
  {
   "cell_type": "markdown",
   "source": [
    "Here is an example of using a custom class `MyCustomClass`:"
   ],
   "metadata": {}
  },
  {
   "cell_type": "code",
   "execution_count": 3,
   "source": [
    "import json\n",
    "\n",
    "class MyCustomClass:\n",
    "    \n",
    "    def __init__(self, foo, bar):\n",
    "        self._foo = foo\n",
    "        self._bar = bar\n",
    "    \n",
    "    def to_json(self):\n",
    "        return json.dumps({\"foo\": self._foo, \"bar\": self._bar})\n",
    "    \n",
    "    @classmethod\n",
    "    def from_json(cls, json_str):\n",
    "        return cls(**json.loads(json_str))"
   ],
   "outputs": [],
   "metadata": {}
  },
  {
   "cell_type": "markdown",
   "source": [
    "If an instance of `MyCustomClass` is used as the input, `RuntimeEncoder` will invoke its `to_json()` method to serialize the data. It also adds a `__type__` field to differentiate it from other types of data:"
   ],
   "metadata": {}
  },
  {
   "cell_type": "code",
   "execution_count": 4,
   "source": [
    "from qiskit.providers.ibmq.runtime import RuntimeEncoder\n",
    "\n",
    "program_inputs = {\n",
    "    'my_obj': MyCustomClass(\"my foo\", \"my bar\")\n",
    "}\n",
    "\n",
    "# The following comments show how it's normally used by the program user:\n",
    "\n",
    "# options = {'backend_name': backend.name()}\n",
    "# job = provider.runtime.run(program_id=\"my-program\",\n",
    "#                            options=options,\n",
    "#                            inputs=program_inputs\n",
    "#                           )\n",
    "\n",
    "# This shows what the encoded value looks like:\n",
    "serialized = json.dumps(program_inputs, cls=RuntimeEncoder)\n",
    "print(f\"This is what gets passed to the program:\\n {serialized}\")"
   ],
   "outputs": [
    {
     "output_type": "stream",
     "name": "stdout",
     "text": [
      "This is what gets passed to the program:\n",
      " {\"my_obj\": {\"__type__\": \"to_json\", \"__value__\": \"{\\\"foo\\\": \\\"my foo\\\", \\\"bar\\\": \\\"my bar\\\"}\"}}\n"
     ]
    }
   ],
   "metadata": {}
  },
  {
   "cell_type": "markdown",
   "source": [
    "Your program can then use the `from_json()` method to restore the object:"
   ],
   "metadata": {}
  },
  {
   "cell_type": "code",
   "execution_count": 5,
   "source": [
    "def main(backend, user_messenger, **kwargs):\n",
    "    \"\"\"Main entry point of the program.\"\"\"\n",
    "    my_obj_str = kwargs.pop('my_obj')\n",
    "    my_obj = MyCustomClass.from_json(my_obj_str)"
   ],
   "outputs": [],
   "metadata": {}
  },
  {
   "cell_type": "markdown",
   "source": [
    "Similarly, if an instance of `MyCustomClass` is passed back as a program result:"
   ],
   "metadata": {}
  },
  {
   "cell_type": "code",
   "execution_count": 6,
   "source": [
    "def main(backend, user_messenger, **kwargs):\n",
    "    \"\"\"Main entry point of the program.\"\"\"\n",
    "    user_messenger.publish({\"my_obj\": MyCustomClass(\"this foo\", \"that bar\")}, final=True)"
   ],
   "outputs": [],
   "metadata": {}
  },
  {
   "cell_type": "markdown",
   "source": [
    "Then you can define a custom `ResultDecoder.decode()` to reconstruct the object:"
   ],
   "metadata": {}
  },
  {
   "cell_type": "code",
   "execution_count": 7,
   "source": [
    "from qiskit.providers.ibmq.runtime import ResultDecoder\n",
    "\n",
    "class MyResultDecoder(ResultDecoder):\n",
    "\n",
    "    @classmethod\n",
    "    def decode(cls, data):\n",
    "        decoded = super().decode(data)  # Call parent method to handle other data.\n",
    "        decoded[\"my_obj\"] = MyCustomClass.from_json(decoded[\"my_obj\"])\n",
    "        return decoded"
   ],
   "outputs": [],
   "metadata": {}
  },
  {
   "cell_type": "markdown",
   "source": [
    "Users of your program can then use `MyResultDecoder` to decode the results:"
   ],
   "metadata": {}
  },
  {
   "cell_type": "code",
   "execution_count": 8,
   "source": [
    "# The following comments shows how it's normally used by the program user:\n",
    "\n",
    "# job = provider.runtime.run(program_id=\"my-program\",\n",
    "#                            options=options,\n",
    "#                            inputs=program_inputs,\n",
    "#                            result_decoder=MyResultDecoder\n",
    "#                           )\n",
    "\n",
    "# This shows what the decoded value looks like:\n",
    "MyResultDecoder.decode(serialized)"
   ],
   "outputs": [
    {
     "output_type": "execute_result",
     "data": {
      "text/plain": [
       "{'my_obj': <__main__.MyCustomClass at 0x133192a60>}"
      ]
     },
     "metadata": {},
     "execution_count": 8
    }
   ],
   "metadata": {}
  },
  {
   "cell_type": "markdown",
   "source": [
    "## Testing your runtime program"
   ],
   "metadata": {}
  },
  {
   "cell_type": "markdown",
   "source": [
    "You can test your runtime program using a local simulator or a real backend before uploading it. Simply import and invoke the `main()` function of your program and pass the following parameters:\n",
    "\n",
    "- the `backend` instance you want to use\n",
    "- a new `UserMessenger` instance.\n",
    "- program input parameters that are serialized and then deserialized using the correct encoder and decoder. While this may seem redundant, it is to ensure input parameters can be passed to your program properly once it's uploaded to the cloud.\n"
   ],
   "metadata": {}
  },
  {
   "cell_type": "markdown",
   "source": [
    "The following example tests the `sample-program` program we saw earlier. It uses the `qasm_simulator` from Qiskit Aer as the test backend. It serializes and unserializes input data using `RuntimeEncoder` and `RuntimeDecoder`, which are the default en/decoders used by runtime."
   ],
   "metadata": {}
  },
  {
   "cell_type": "code",
   "execution_count": 9,
   "source": [
    "import sys\n",
    "sys.path.insert(0, '..') # Add qiskit_runtime directory to the path\n",
    "\n",
    "from qiskit_runtime.sample_program import sample_program\n",
    "from qiskit import Aer\n",
    "from qiskit.providers.ibmq.runtime.utils import RuntimeEncoder, RuntimeDecoder\n",
    "from qiskit.providers.ibmq.runtime import UserMessenger\n",
    "\n",
    "inputs = {\"iterations\": 3}\n",
    "\n",
    "backend = Aer.get_backend('qasm_simulator')\n",
    "user_messenger = UserMessenger()\n",
    "serialized_inputs = json.dumps(inputs, cls=RuntimeEncoder)\n",
    "unserialized_inputs = json.loads(serialized_inputs, cls=RuntimeDecoder)\n",
    "\n",
    "sample_program.main(backend, user_messenger, **unserialized_inputs)"
   ],
   "outputs": [
    {
     "output_type": "stream",
     "name": "stdout",
     "text": [
      "{\"iteration\": 0, \"counts\": {\"10111\": 269, \"00110\": 240, \"00100\": 242, \"10101\": 273}}\n",
      "{\"iteration\": 1, \"counts\": {\"10000\": 506, \"00000\": 518}}\n",
      "{\"iteration\": 2, \"counts\": {\"00001\": 408, \"00011\": 616}}\n",
      "\"All done!\"\n"
     ]
    }
   ],
   "metadata": {}
  },
  {
   "cell_type": "markdown",
   "source": [
    "## Defining program metadata"
   ],
   "metadata": {}
  },
  {
   "cell_type": "markdown",
   "source": [
    "Program metadata is data that helps users to understand how to invoke your program. It includes:\n",
    "\n",
    "- `name`: Name of the program. This must be unique. \n",
    "- `maximum execution time`: Maximum amount of time, in seconds, a program can run before being forcibly terminated.\n",
    "- `description`: Describes the program.\n",
    "- `version`: Program version.\n",
    "- `backend_requirements`: Describes the backend attributes needed to run the program.\n",
    "- `parameters`: Describes the program input parameters\n",
    "- `return_values`: Describes the return values\n",
    "- `interim_results`: Describes the interim results\n",
    "\n",
    "When uploading a program, you must specify at least `name`, `maximum execution time`, and `description`. It is strongly encouraged to also specify `parameters`, `return values`, and `interim results` if the program has them. You can specify the metadata fields individually, or use a JSON file."
   ],
   "metadata": {}
  },
  {
   "cell_type": "markdown",
   "source": [
    "Below shows the metadata JSON file of the `sample-program` program as an example:"
   ],
   "metadata": {}
  },
  {
   "cell_type": "code",
   "execution_count": 10,
   "source": [
    "import os\n",
    "\n",
    "sample_program_json = os.path.join(os.getcwd(), \"../qiskit_runtime/sample_program/sample_program.json\")\n",
    "\n",
    "with open(sample_program_json, 'r') as file:\n",
    "    data = file.read()\n",
    "\n",
    "print(data)"
   ],
   "outputs": [
    {
     "output_type": "stream",
     "name": "stdout",
     "text": [
      "{\n",
      "  \"name\": \"sample-program\",\n",
      "  \"description\": \"A sample runtime program.\",\n",
      "  \"max_execution_time\": 300,\n",
      "  \"version\": \"1.0\",\n",
      "  \"backend_requirements\": {\"min_num_qubits\":  5},\n",
      "  \"parameters\": [\n",
      "    {\"name\": \"iterations\", \"description\": \"Number of iterations to run. Each iteration generates and runs a random circuit.\", \"type\": \"int\", \"required\": true}\n",
      "  ],\n",
      "  \"return_values\": [\n",
      "    {\"name\": \"-\", \"description\": \"A string that says 'All done!'.\", \"type\": \"string\"}\n",
      "  ],\n",
      "  \"interim_results\": [\n",
      "    {\"name\": \"iteration\", \"description\": \"Iteration number.\", \"type\": \"int\"},\n",
      "    {\"name\": \"counts\", \"description\": \"Histogram data of the circuit result.\", \"type\": \"dict\"}\n",
      "  ]\n",
      "}\n",
      "\n"
     ]
    }
   ],
   "metadata": {}
  },
  {
   "cell_type": "markdown",
   "source": [
    "Note that the return value has `\"name\": \"-\"` because there is only 1 return value. If the program has multiple return values, you should specify a meaningful name for each one."
   ],
   "metadata": {}
  },
  {
   "cell_type": "markdown",
   "source": [
    "## Uploading a program"
   ],
   "metadata": {}
  },
  {
   "cell_type": "markdown",
   "source": [
    "You can use the [`IBMRuntimeService.upload_program()`](https://qiskit.org/documentation/stubs/qiskit.providers.ibmq.runtime.IBMRuntimeService.html#qiskit.providers.ibmq.runtime.IBMRuntimeService.upload_program) method to upload your program. In the example below, the program data lives in the file `sample_program.py`, and its metadata, as described above, is in `sample_program.json`. "
   ],
   "metadata": {}
  },
  {
   "cell_type": "code",
   "execution_count": 11,
   "source": [
    "import os\n",
    "from qiskit import IBMQ\n",
    "\n",
    "IBMQ.load_account()\n",
    "provider = IBMQ.get_provider(project='qiskit-runtime')  # Substitute with your provider.\n",
    "\n",
    "sample_program_data = os.path.join(os.getcwd(), \"../qiskit_runtime/sample_program/sample_program.py\")\n",
    "sample_program_json = os.path.join(os.getcwd(), \"../qiskit_runtime/sample_program/sample_program.json\")\n",
    "    \n",
    "program_id = provider.runtime.upload_program(\n",
    "    data=sample_program_data,\n",
    "    metadata=sample_program_json\n",
    ")\n",
    "print(program_id)"
   ],
   "outputs": [
    {
     "output_type": "stream",
     "name": "stdout",
     "text": [
      "sample-program\n"
     ]
    }
   ],
   "metadata": {}
  },
  {
   "cell_type": "markdown",
   "source": [
    "`upload_program()` returns a program ID, which uniquely identifies the program. It is derived from the program name but is not guaranteed to be the same. Program ID is needed for users to invoke the program."
   ],
   "metadata": {}
  },
  {
   "cell_type": "markdown",
   "source": [
    "## Deleting a program"
   ],
   "metadata": {}
  },
  {
   "cell_type": "markdown",
   "source": [
    "You can use the [`IBMRuntimeService.delete_program()`](https://qiskit.org/documentation/stubs/qiskit.providers.ibmq.runtime.IBMRuntimeService.html#qiskit.providers.ibmq.runtime.IBMRuntimeService.delete_program) method to delete a program. Only the original author of a program can delete it. \n"
   ],
   "metadata": {}
  },
  {
   "cell_type": "code",
   "execution_count": 12,
   "source": [
    "import qiskit.tools.jupyter\n",
    "%qiskit_version_table"
   ],
   "outputs": [
    {
     "output_type": "display_data",
     "data": {
      "text/plain": [
       "<IPython.core.display.HTML object>"
      ],
      "text/html": [
       "<h3>Version Information</h3><table><tr><th>Qiskit Software</th><th>Version</th></tr><tr><td>Qiskit</td><td>None</td></tr><tr><td>Terra</td><td>0.17.1</td></tr><tr><td>Aer</td><td>0.8.2</td></tr><tr><td>Ignis</td><td>None</td></tr><tr><td>Aqua</td><td>None</td></tr><tr><td>IBM Q Provider</td><td>0.13.0</td></tr><tr><th>System information</th></tr><tr><td>Python</td><td>3.9.1 (default, Feb  5 2021, 11:23:59) \n",
       "[Clang 12.0.0 (clang-1200.0.32.28)]</td></tr><tr><td>OS</td><td>Darwin</td></tr><tr><td>CPUs</td><td>8</td></tr><tr><td>Memory (Gb)</td><td>16.0</td></tr><tr><td colspan='2'>Thu May 06 20:23:17 2021 EDT</td></tr></table>"
      ]
     },
     "metadata": {}
    }
   ],
   "metadata": {}
  },
  {
   "cell_type": "code",
   "execution_count": null,
   "source": [],
   "outputs": [],
   "metadata": {}
  }
 ],
 "metadata": {
  "kernelspec": {
   "display_name": "Python 3",
   "language": "python",
   "name": "python3"
  },
  "language_info": {
   "codemirror_mode": {
    "name": "ipython",
    "version": 3
   },
   "file_extension": ".py",
   "mimetype": "text/x-python",
   "name": "python",
   "nbconvert_exporter": "python",
   "pygments_lexer": "ipython3",
   "version": "3.9.1"
  }
 },
 "nbformat": 4,
 "nbformat_minor": 5
}