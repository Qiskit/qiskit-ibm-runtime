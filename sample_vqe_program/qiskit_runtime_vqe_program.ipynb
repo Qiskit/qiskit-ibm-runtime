{
 "cells": [
  {
   "cell_type": "markdown",
   "id": "dangerous-croatia",
   "metadata": {},
   "source": [
    "# Creating Custom Programs for the Qiskit Runtime\n",
    "\n",
    "<p>\n",
    "<font size=\"4\" color=\"#0f62fe\">Paul Nation</font>\n",
    "</p>\n",
    "<p>\n",
    "<font size=\"3\" color=\"#0f62fe\">IBM Quantum Partners Technical Enablement Team</font>\n",
    "</p>\n",
    "\n",
    "Here we will demonstrate how to create, upload, and use a custom Program for the Qiskit Runtime.  As the utility of the Runtime execution engine lies in its ability to execute many quantum circuits with low latencies, this tutorial will show how to create your own Variational Quantum Eigensolver (VQE) program from scratch."
   ]
  },
  {
   "cell_type": "markdown",
   "id": "sticky-annual",
   "metadata": {},
   "source": [
    "## Prerequisites\n",
    "\n",
    "- You must have Qiskit 0.30+ installed.\n",
    "- You must have an IBM Quantum Experience account with the ability to upload a Runtime program.  **Currently there is no way to know if you have Runtime upload ability outside of an email from IBM**."
   ]
  },
  {
   "cell_type": "markdown",
   "id": "bound-imaging",
   "metadata": {},
   "source": [
    "## Current limitations\n",
    "\n",
    "The Runtime execution engine currently has the following limitations that must be kept in mind:\n",
    "\n",
    "- The Docker images used by the runtime include only Qiskit and its dependencies, with few exceptions.  One exception is the inclusion of the `mthree` measurement mitigation package.\n",
    "\n",
    "\n",
    "- For security reasons, the runtime cannot make internet calls outside of the environment.\n",
    "\n",
    "\n",
    "- Your Runtime program name must not contain an underscore`_`, otherwise it will cause an error when you try to execute it.\n",
    "\n",
    "As the the Runtime matures these limitations will be removed."
   ]
  },
  {
   "cell_type": "markdown",
   "id": "legislative-supplier",
   "metadata": {},
   "source": [
    "## Simple VQE\n",
    "\n",
    "VQE is an hybrid quantum-classical optimization procedure that finds the lowest eigenstate and eigenenergy of a linear system defined by a given Hamiltonian of Pauli operators.  For example, consider the following two-qubit Hamiltonian:\n",
    "\n",
    "\n",
    "$$\n",
    "H = A X_{1}\\otimes X_{0} + A Y_{1}\\otimes Y_{0} + A Z_{1}\\otimes Z_{0},\n",
    "$$\n",
    "\n",
    "where $A$ is numerical coefficient and the subscripts label the qubits on which the operators act.  The zero index being farthest right is the ordering used in Qiskit.  The Pauli operators tell us which measurement basis to to use when measuring each of the qubits.\n",
    "\n",
    "We want to find the ground state (lowest energy state) of this Hamiltonian, and the associated eigenvector.  To do this we must start at a given initial state and iteratively vary the parameters that define this state using a classical optimizer such that the computed energies of subsequent steps are nominally lower than those previously.  The parameterized state of the system is defined by an ansatz quantum circuit that should have non-zero support in the direction of the ground state.  Because in general we do not know the solution, the choice of ansatz circuit can be highly problem specific with a form dictated by additional information. For further information about variational algorithmms, we point the reader to [Nature Reviews Physics volume 3, 625 (2021)](https://doi.org/10.1038/s42254-021-00348-9).\n",
    "\n",
    "\n",
    "Thus we need at least the following inputs to create our VQE quantum program:\n",
    "\n",
    "1. A representation of the Hamiltonian that specifies the problem.\n",
    "\n",
    "\n",
    "2. A choice of parameterized ansatz circuit, and the ability to pass configuration options, if any.\n",
    "\n",
    "\n",
    "However, the following are also beneficial inputs that users might want to have:\n",
    "\n",
    "3. Add the ability to pass an initial state.\n",
    "\n",
    "\n",
    "4. Vary the number of shots that are taken.\n",
    "\n",
    "\n",
    "5. Ability to select which classical optimizer is used, and set configuraton values, if any. \n",
    "\n",
    "\n",
    "6. Ability to turn on and off measurement mitigation.\n"
   ]
  },
  {
   "cell_type": "markdown",
   "id": "absolute-reservoir",
   "metadata": {},
   "source": [
    "## Specifying the form of the input values\n",
    "\n",
    "All inputs to Runtime programs must be serializable objects.  That is to say that whatever you pass into a Runtime program must be able to be converted to JSON format.  Thus it is beneficial to keep inputs limited to basic data types and structures unless you have experience with custom object serialization, or they are common Qiskit types such as QuantumCircuit etc.  Fortunately, the VQE program described above can be made out of simple Python components.\n",
    "\n",
    "First, it is possible to represent any Hamiltonian using a list of values with each containing the numerical coefficeint for each term and the string representation for the Pauli operators.  For the above example, the ground state energy with $A=1$ is $-3$ and we can write it as:"
   ]
  },
  {
   "cell_type": "code",
   "execution_count": 1,
   "id": "incident-survivor",
   "metadata": {},
   "outputs": [],
   "source": [
    "H = [(1, 'XX'), (1, 'YY'), (1, 'ZZ')]"
   ]
  },
  {
   "cell_type": "markdown",
   "id": "cbf3178c",
   "metadata": {},
   "source": [
    "Next we have to provide the ability to specify the parameterized Ansatz circuit.  Here we will take advange of the fact that many ansatz circuits are pre-defined in the Qiskit Circuit Library.  Examples chan be found in the [N-local circuits section](https://qiskit.org/documentation/apidoc/circuit_library.html#n-local-circuits).\n",
    "\n",
    "We would like the user to be able to select between ansatz options such as: `NLocal`, `TwoLocal`, and `EfficientSU2`.  We could have the user pass the whole ansatz circuit to the Program, however in order to reduce the size of the upload we will pass the ansatz by name.  In the runtime program, we can take this name and get the class that it corresponds to from the library using, for example  "
   ]
  },
  {
   "cell_type": "code",
   "execution_count": 2,
   "id": "d95cd270",
   "metadata": {},
   "outputs": [],
   "source": [
    "import qiskit.circuit.library.n_local as lib_local\n",
    "\n",
    "ansatz = getattr(lib_local, 'EfficientSU2')"
   ]
  },
  {
   "cell_type": "markdown",
   "id": "5fc3a926",
   "metadata": {},
   "source": [
    "For the ansatz cvonfiguration, we will pass a simple `dict` of values."
   ]
  },
  {
   "cell_type": "markdown",
   "id": "8eb3c39b",
   "metadata": {},
   "source": [
    "### Optionals \n",
    "\n",
    "- If we want to add the ability to pass an initial state, then we will need to add the ability to pass a 1D list/ NumPy array.  Because the number of parameters depends on the ansatz and its configuration, the user would have to know what ansatz they are doing ahead of time.\n",
    "\n",
    "\n",
    "- Selecting a number of shots requires simply passing an integer value.\n",
    "\n",
    "\n",
    "- Here we will allow selecting a classical optimizer by name from those in SciPy, and a `dict` of configuration parameters.  Note that for execution on an actual system, the noise inherent in today's quantum systems makes having a stochastic optimizer crucial to success.  SciPy does not have such a choice, and the one built into Qiskit is wrapped in such a manner as to make it difficult to use elsewhere.  As such, here we will use a SPSA optimizer written to match the style of those in SciPy.  This function is given in [Appendix A](#Appendix-A)."
   ]
  },
  {
   "cell_type": "markdown",
   "id": "d9bff8ca",
   "metadata": {},
   "source": [
    "- Finally, for measurement error mitigation we can simply pass a boolean (True/False) value."
   ]
  },
  {
   "cell_type": "markdown",
   "id": "5eb0c24e",
   "metadata": {},
   "source": [
    "## Main program\n",
    "\n",
    "We are now in a position to start building our main program.  However, before doing so we point out that it makes the code cleaner to make a separate fuction that takes strings of Pauli operators that define our Hamiltonian and convert them to a list of circuits with single-qubit gates that change the measurement basis for each qubit, if needed. This function is given in [Appendix B](#Appendix-B)."
   ]
  },
  {
   "cell_type": "markdown",
   "id": "3eb4c4c0",
   "metadata": {},
   "source": [
    "### Required signature\n",
    "\n",
    "Every runtime program is defined via the `main` function, and must have the following input signature:\n",
    "\n",
    "```\n",
    "main(backend, user_message, *args, **kwargs)\n",
    "```\n",
    "\n",
    "where `backend` is the backend that the Program is to be executed on, and `user_message` is the class by which interm (and possibly final) results are communicated back to the user.  After these two items, we add our program specific arguments and keyword arguments."
   ]
  },
  {
   "cell_type": "markdown",
   "id": "8d1f375e",
   "metadata": {},
   "source": [
    "### The main VQE program\n",
    "\n",
    "Here is the main program for our sample VQE.  What each element of the function does is written in the comments before the element appears."
   ]
  },
  {
   "cell_type": "code",
   "execution_count": 45,
   "id": "2b3cf089",
   "metadata": {},
   "outputs": [],
   "source": [
    "# Grab functions and modules from dependencies\n",
    "import numpy as np\n",
    "import scipy.optimize as opt\n",
    "from scipy.optimize import OptimizeResult\n",
    "import mthree\n",
    "\n",
    "# Grab functions and modules from Qiskit needed\n",
    "from qiskit import QuantumCircuit, transpile\n",
    "import qiskit.circuit.library.n_local as lib_local\n",
    "\n",
    "# The entrypoint for our Runtime Program\n",
    "def main(backend, user_messenger,\n",
    "         hamiltonian,\n",
    "         ansatz='EfficientSU2',\n",
    "         ansatz_config={},\n",
    "         x0=None,\n",
    "         optimizer='SPSA',\n",
    "         optimizer_config={'maxiter': 100},\n",
    "         shots = 8192,\n",
    "         use_measurement_mitigation=False\n",
    "        ):\n",
    "    \n",
    "    \"\"\"\n",
    "    The main sample VQE program.\n",
    "    \n",
    "    Parameters:\n",
    "        backend (ProgramBackend): Qiskit backend instance.\n",
    "        user_messenger (UserMessenger): Used to communicate with the\n",
    "                                        program user.\n",
    "        hamiltonian (list): Hamiltonian whose ground state we want to find.\n",
    "        ansatz (str): Optional, name of ansatz quantum circuit to use,\n",
    "                      default='EfficientSU2'\n",
    "        ansatz_config (dict): Optional, configuration parameters for the\n",
    "                              ansatz circuit.\n",
    "        x0 (array_like): Optional, initial vector of parameters.\n",
    "        optimizer (str): Optional, string specifying classical optimizer,\n",
    "                         default='SPSA'.\n",
    "        optimizer_config (dict): Optional, configuration parameters for the\n",
    "                                 optimizer.\n",
    "        shots (int): Optional, number of shots to take per circuit.\n",
    "        use_measurement_mitigation (bool): Optional, use measurement mitigation,\n",
    "                                           default=False.\n",
    "        \n",
    "    Returns:\n",
    "        OptimizeResult: The result in SciPy optimization format.  \n",
    "    \"\"\"\n",
    "    \n",
    "    # Split the Hamiltonian into two arrays, one for coefficients, the other for\n",
    "    # operator strings\n",
    "    coeffs = np.array([item[0] for item in hamiltonian], dtype=complex)\n",
    "    op_strings = [item[1] for item in hamiltonian]\n",
    "    # The number of qubits needed is given by the number of elements in the strings\n",
    "    # the defiune the Hamiltonian. Here we grab this data from the first element.\n",
    "    num_qubits = len(op_strings[0])\n",
    "    \n",
    "    # We grab the requested ansatz circuit class from the Qiskit circuit library\n",
    "    # n_local module and configure it using the number of qubits and options\n",
    "    # passed in the ansatz_config.\n",
    "    ansatz_instance = getattr(lib_local, ansatz)\n",
    "    ansatz_circuit = ansatz_instance(num_qubits, **ansatz_config)\n",
    "    \n",
    "    # Here we use our convenence function from Appendix B to get measurement circuits\n",
    "    # with the correct single-qubit rotation gates.\n",
    "    meas_circs = opstr_to_meas_circ(op_strings)\n",
    "    \n",
    "    # When computing the expectation value for the energy, we need to know if we\n",
    "    # evaluate a Z measurement or and identity measurement.  Here we take and X and Y\n",
    "    # operator in the strings and convert it to a Z since we added the rotations\n",
    "    # with the meas_circs.\n",
    "    meas_strings = [string.replace('X', 'Z').replace('Y', 'Z') for string in op_strings]\n",
    "    \n",
    "    # Take the ansatz circuits, add the single-qubit measurement basis rotations from\n",
    "    # meas_circs, and finally append the measurements themselves.\n",
    "    full_circs = [ansatz_circuit.compose(mcirc).measure_all(inplace=False) for mcirc in meas_circs]\n",
    "    \n",
    "    # Get the number of parameters in the ansatz circuit.\n",
    "    num_params = ansatz_circuit.num_parameters\n",
    "    \n",
    "    # Use a given initial state, if any, or do random initial state.\n",
    "    if x0:\n",
    "        x0 = np.asarray(x0, dtype=float)\n",
    "        if x0.shape[0] != num_params:\n",
    "            raise ValueError('Number of params in x0 ({}) does not match number \\\n",
    "                              of ansatz parameters ({})'. format(x0.shape[0],\n",
    "                                                                 num_params))\n",
    "    else:\n",
    "        x0 = 2*np.pi*np.random.rand(num_params)\n",
    "        \n",
    "    # Because we are in general targeting a real quantum system, our circuits must be transpiled\n",
    "    # to match the system topology and, hopefully, optimize them.\n",
    "    # Here we will set the transpiler to the most optimal settings where 'sabre' layout and\n",
    "    # routing are used, along with full O3 optimization.\n",
    "\n",
    "    # This works around a bug in Qiskit where Sabre routing fails for simulators (Issue #7098)\n",
    "    trans_dict = {}\n",
    "    if not backend.configuration().simulator:\n",
    "        trans_dict = {'layout_method': 'sabre', 'routing_method': 'sabre'}\n",
    "    trans_circs = transpile(full_circs, backend, optimization_level=3, **trans_dict)\n",
    "    \n",
    "    # If using measurement mitigation we need to find out which physical qubits our transpiled\n",
    "    # circuits actually measure, construct a mitigation object targeting our backend, and\n",
    "    # finally calibrate our mitgation by running calibration circuits on the backend.\n",
    "    if use_measurement_mitigation:\n",
    "        maps = mthree.utils.final_measurement_mapping(trans_circs)\n",
    "        mit = mthree.M3Mitigation(backend)\n",
    "        mit.cals_from_system(maps)\n",
    "    \n",
    "    # Here we define a callback function that will stream the optimizer parameter vector\n",
    "    # back to the user after each iteration.  This uses the `user_messenger` object.\n",
    "    # Here we convert to a list so that the return is user readable locally, but\n",
    "    # this is not required.\n",
    "    def callback(xk):\n",
    "        user_messenger.publish(list(xk))\n",
    "    \n",
    "    # This is the primary VQE function executed by the optimizer. This function takes the \n",
    "    # parameter vector as input and returns the energy evaluated using an ansatz circuit\n",
    "    # bound with those parameters.\n",
    "    def vqe_func(params):\n",
    "        # Attach (bind) parameters in params vector to the transpiled circuits.\n",
    "        bound_circs = [circ.bind_parameters(params) for circ in trans_circs]\n",
    "        \n",
    "        # Submit the job and get the resultant counts back\n",
    "        counts = backend.run(bound_circs, shots=shots).result().get_counts()\n",
    "        \n",
    "        # If using measurement mitigation apply the correction and\n",
    "        # compute expectation values from the resultant quasiprobabilities\n",
    "        # using the measurement strings.\n",
    "        if use_measurement_mitigation:\n",
    "            quasi_collection = mit.apply_correction(counts, maps)\n",
    "            expvals = quasi_collection.expval(meas_strings)\n",
    "        # If not doing any mitigation just compute expectation values\n",
    "        # from the raw counts using the measurement strings.\n",
    "        # Since Qiskit does not have such functionality we use the convenence\n",
    "        # function from the mthree mitigation module.\n",
    "        else:\n",
    "            expvals = mthree.utils.expval(counts, meas_strings)\n",
    "        \n",
    "        # The energy is computed by simply taking the product of the coefficients\n",
    "        # and the computed expectation values and summing them. Here we also\n",
    "        # take just the real part as the coefficients can possibly be complex,\n",
    "        # but the energy (eigenvalue) of a Hamiltonian is always real.\n",
    "        energy = np.sum(coeffs*expvals).real\n",
    "        return energy\n",
    "    \n",
    "    # Here is where we actually perform the computation.  We begin by seeing what\n",
    "    # optimization routine the user has requested, eg. SPSA verses SciPy ones,\n",
    "    # and dispatch to the correct optimizer.  The selected optimizer starts at\n",
    "    # x0 and calls 'vqe_func' everytime the optimizer needs to evaluate the cost\n",
    "    # function.  The result is returned as a SciPy OptimizerResult object.\n",
    "    # Additionally, after every iteration, we use the 'callback' function to\n",
    "    # publish the interm results back to the user. This is important to do\n",
    "    # so that if the Program terminates unexpectedly, the user can start where they\n",
    "    # left off.\n",
    "    \n",
    "    # Since SPSA is not in SciPy need if statement\n",
    "    if optimizer == 'SPSA':\n",
    "        res = fmin_spsa(vqe_func, x0, args=(), **optimizer_config,\n",
    "                        callback=callback)\n",
    "    # All other SciPy optimizers here\n",
    "    else:\n",
    "        res = opt.minimize(vqe_func, x0, method=optimizer,\n",
    "                           options=optimizer_config, callback=callback)\n",
    "    # Return result. OptimizeResult is a subclass of dict.\n",
    "    return res"
   ]
  },
  {
   "cell_type": "markdown",
   "id": "3cf98190",
   "metadata": {},
   "source": [
    "## Local testing\n",
    "\n",
    "<div class=\"alert alert-block alert-info\">\n",
    "<b>Important:</b> You need to execute the code blocks in Appendices A and B before continuing.\n",
    "</div>\n",
    "\n",
    "We can test whether our routine works by simply calling the `main` function with a backend instance, a `UserMessenger`, and sample arguments."
   ]
  },
  {
   "cell_type": "code",
   "execution_count": 46,
   "id": "d9d51856",
   "metadata": {},
   "outputs": [],
   "source": [
    "from qiskit.providers.ibmq.runtime import UserMessenger\n",
    "msg = UserMessenger()"
   ]
  },
  {
   "cell_type": "code",
   "execution_count": 47,
   "id": "f8035927",
   "metadata": {},
   "outputs": [],
   "source": [
    "# Use the local Aer simulator\n",
    "from qiskit import Aer\n",
    "backend = Aer.get_backend('qasm_simulator')"
   ]
  },
  {
   "cell_type": "code",
   "execution_count": 48,
   "id": "deb7fa92",
   "metadata": {
    "scrolled": false
   },
   "outputs": [
    {
     "name": "stdout",
     "output_type": "stream",
     "text": [
      "[1.3866438513555424, 2.061101094147009, 2.710143598453931, 1.458760090093447, 2.3058208994643126, 1.0733073295503854, 0.9668603895188339, 1.2860160155170703, 1.14379618119804, 3.7817924045673936, 3.6661096501688366, 5.08966796207572, 2.2474981078982554, 1.8422666234402352, 5.473605998866756, 0.08161955255295296]\n",
      "[1.451401822349035, 1.9963431231535165, 2.7749015694474233, 1.5235180610869397, 2.370578870457805, 1.1380653005438781, 0.9021024185253412, 1.350773986510563, 1.0790382102045473, 3.846550375560886, 3.601351679175344, 5.024909991082227, 2.312256078891748, 1.7775086524467425, 5.5383639698602485, 0.14637752354644562]\n",
      "[1.5726151521761795, 2.117556452980661, 2.896114899274568, 1.6447313909140842, 2.2493655406306603, 1.0168519707167336, 1.0233157483524857, 1.2295606566834185, 1.2002515400316918, 3.967763705388031, 3.722565009002489, 5.146123320909371, 2.191042749064603, 1.656295322619598, 5.417150640033104, 0.26759085337359023]\n",
      "[1.8221631813867472, 2.3671044821912286, 2.6465668700640004, 1.3951833617035165, 1.9998175114200927, 0.767303941506166, 1.2728637775630534, 0.9800126274728509, 1.4497995692422594, 3.718215676177463, 3.4730169797919213, 4.896575291698803, 2.440590778275171, 1.4067472934090304, 5.666698669243672, 0.01804282416302258]\n",
      "[2.023489393498135, 2.1657782700798407, 2.8478930821753883, 1.1938571495921286, 1.7984912993087048, 0.968630153617554, 1.4741899896744413, 0.7786864153614629, 1.2484733571308715, 3.5168894640660753, 3.2716907676805334, 4.695249079587415, 2.239264566163783, 1.6080735055204183, 5.465372457132284, 0.21936903627441057]\n"
     ]
    },
    {
     "data": {
      "text/plain": [
       "     fun: 0.26806640625\n",
       " message: 'Optimization terminated successfully.'\n",
       "    nfev: 10\n",
       "     nit: 5\n",
       " success: True\n",
       "       x: array([2.02348939, 2.16577827, 2.84789308, 1.19385715, 1.7984913 ,\n",
       "       0.96863015, 1.47418999, 0.77868642, 1.24847336, 3.51688946,\n",
       "       3.27169077, 4.69524908, 2.23926457, 1.60807351, 5.46537246,\n",
       "       0.21936904])"
      ]
     },
     "execution_count": 48,
     "metadata": {},
     "output_type": "execute_result"
    }
   ],
   "source": [
    "# Execute the main routine for our simple two-qubit Hamiltonian H, and perform 5 iterations of the SPSA solver.\n",
    "main(backend, msg, H, optimizer_config={'maxiter': 5})"
   ]
  },
  {
   "cell_type": "markdown",
   "id": "3307af4a",
   "metadata": {},
   "source": [
    "Having executed the above, we see that there are 5 parameter arrays returned, one for each callback, along with the final optimzation result.  The parameter arrays are the interm results, and the `UserMessenger` object prints these values to the cell output.  The output itself is the answer we obtained, expressed as a SciPy `OptimizerResult` object."
   ]
  },
  {
   "cell_type": "markdown",
   "id": "78f4e1ab",
   "metadata": {},
   "source": [
    "## Program metadata\n",
    "\n",
    "Program metadata is essentially the docstring for a runtime program.  It describes overall program information such as the program `name`, `description`, `version`, and the `max_execution_time` the program is allowed to run, as well as details the inputs and the outputs the program expects.  At a bare minimum the values described above are required:"
   ]
  },
  {
   "cell_type": "code",
   "execution_count": 9,
   "id": "8f0efa88",
   "metadata": {},
   "outputs": [],
   "source": [
    "meta = {\n",
    "  \"name\": \"sample-vqe\",\n",
    "  \"description\": \"A sample VQE program.\",\n",
    "  \"max_execution_time\": 100000,\n",
    "  \"version\": \"1.0\",\n",
    "}"
   ]
  },
  {
   "cell_type": "markdown",
   "id": "eaf91070",
   "metadata": {},
   "source": [
    "It is important to set the `max_execution_time` high enough so that your Program does not get terminated unexpectedly.  Additionally, one should make sure that interm results are sent back to the user so that, if soemthing does happen, the user can start where they left off.\n",
    "\n",
    "It is however good form to detail the parameters and return types, as well as iterm results.  That being said, if makign a runtime intended to be used by others, this information would also likely be mirrored in the signature of a function or class that the user would interact with directly; End users should not directly call runtime programs.  We will see why below.  Never the less, let us add to our metadata.  First, the `parameters` section details the inputs the user is able to pass:"
   ]
  },
  {
   "cell_type": "code",
   "execution_count": 10,
   "id": "600778d2",
   "metadata": {},
   "outputs": [],
   "source": [
    "meta[\"parameters\"] = [\n",
    "    {\"name\": \"hamiltonian\", \"description\": \"Hamiltonian whose ground state we want to find.\", \"type\": \"list\", \"required\": True},\n",
    "    {\"name\": \"ansatz\", \"description\": \"Name of ansatz quantum circuit to use, default='EfficientSU2'\", \"type\": \"str\", \"required\": False},\n",
    "    {\"name\": \"ansatz_config\", \"description\": \"Configuration parameters for the ansatz circuit.\", \"type\": \"dict\", \"required\": False},\n",
    "    {\"name\": \"x0\", \"description\": \"Initial vector of parameters.\", \"type\": \"ndarray\", \"required\": False},\n",
    "    {\"name\": \"optimizer\", \"description\": \"Classical optimizer to use, default='SPSA'.\", \"type\": \"str\", \"required\": False},\n",
    "    {\"name\": \"optimizer_config\", \"description\": \"Configuration parameters for the optimizer.\", \"type\": \"dict\", \"required\": False},\n",
    "    {\"name\": \"shots\", \"description\": \"Number of shots to take per circuit.\", \"type\": \"int\", \"required\": False},\n",
    "    {\"name\": \"use_measurement_mitigation\", \"description\": \"Use measurement mitigation, default=False.\", \"type\": \"bool\", \"required\": False}\n",
    "  ]"
   ]
  },
  {
   "cell_type": "markdown",
   "id": "cbcb74fd",
   "metadata": {},
   "source": [
    "Next, the `return_values` section tells about the return types:"
   ]
  },
  {
   "cell_type": "code",
   "execution_count": 11,
   "id": "3a465922",
   "metadata": {},
   "outputs": [],
   "source": [
    "meta['return_values'] = [\n",
    "    {\"name\": \"result\", \"description\": \"Final result in SciPy optimizer format.\", \"type\": \"OptimizeResult\"}\n",
    "  ]"
   ]
  },
  {
   "cell_type": "markdown",
   "id": "e83a0443",
   "metadata": {},
   "source": [
    "and finally let us specify what comes back when an interm result is returned:"
   ]
  },
  {
   "cell_type": "code",
   "execution_count": 12,
   "id": "452dca6f",
   "metadata": {},
   "outputs": [],
   "source": [
    "meta[\"interim_results\"] = [\n",
    "    {\"name\": \"params\", \"description\": \"Parameter vector at current optimization step\", \"type\": \"ndarray\"},\n",
    "  ]"
   ]
  },
  {
   "cell_type": "markdown",
   "id": "d0328ee9",
   "metadata": {},
   "source": [
    "## Uploading the program\n",
    "\n",
    "We now have all the ingredients needed to upload our program.  To do so we need to collect all of our code in one file, here called `sample_vqe.py` for uploading.  This limitation will be removed in later versions of the Runtime.  Alternatively, if the entire code is contained within a single Jupyter notebook cell, then this can be done using the magic function\n",
    "\n",
    "```\n",
    "%%writefile my_program.py\n",
    "```\n",
    "\n",
    "To actually upload the program we need to get a Provider from our IBM Quantum account:"
   ]
  },
  {
   "cell_type": "code",
   "execution_count": 13,
   "id": "e65417d4",
   "metadata": {},
   "outputs": [
    {
     "data": {
      "text/plain": [
       "<AccountProvider for IBMQ(hub='ibm-q', group='open', project='main')>"
      ]
     },
     "execution_count": 13,
     "metadata": {},
     "output_type": "execute_result"
    }
   ],
   "source": [
    "from qiskit import IBMQ\n",
    "IBMQ.load_account()"
   ]
  },
  {
   "cell_type": "code",
   "execution_count": 14,
   "id": "1cacd4d0",
   "metadata": {},
   "outputs": [],
   "source": [
    "provider = IBMQ.get_provider(group='deployed')"
   ]
  },
  {
   "cell_type": "markdown",
   "id": "92d17c0f",
   "metadata": {},
   "source": [
    "### Program upload\n",
    "\n",
    "The call to `program_upload` takes the target Python file as `data` and the metadata as inputs. **If you have already uploaded the program this will raise an error and you must delete it first to continue**."
   ]
  },
  {
   "cell_type": "code",
   "execution_count": 16,
   "id": "9da62ff0",
   "metadata": {},
   "outputs": [
    {
     "data": {
      "text/plain": [
       "'sample-vqe'"
      ]
     },
     "execution_count": 16,
     "metadata": {},
     "output_type": "execute_result"
    }
   ],
   "source": [
    "program_id = provider.runtime.upload_program(data='sample_vqe.py', metadata=meta)\n",
    "program_id"
   ]
  },
  {
   "cell_type": "markdown",
   "id": "ce756bca",
   "metadata": {},
   "source": [
    "Here the returned `program_id` is the same as the program `name` given in the metadata.  However, this need not be the case if there are multiple programs with the same name.  In that case, `program_id` is the unique identifier that needs to be used in calling the program later."
   ]
  },
  {
   "cell_type": "markdown",
   "id": "7ac0255c",
   "metadata": {},
   "source": [
    "### Program information\n",
    "\n",
    "We can query the program for information and see that our metadata is corectly being attached:"
   ]
  },
  {
   "cell_type": "code",
   "execution_count": 17,
   "id": "5d49e0aa",
   "metadata": {},
   "outputs": [
    {
     "name": "stdout",
     "output_type": "stream",
     "text": [
      "sample-vqe:\n",
      "  Name: sample-vqe\n",
      "  Description: A sample VQE program.\n",
      "  Version: 1.0\n",
      "  Creation date: 2021-10-06T13:38:19.000000\n",
      "  Max execution time: 100000\n",
      "  Input parameters:\n",
      "    - hamiltonian:\n",
      "      Description: Hamiltonian whose ground state we want to find.\n",
      "      Type: list\n",
      "      Required: True\n",
      "    - ansatz:\n",
      "      Description: Name of ansatz quantum circuit to use, default='EfficientSU2'\n",
      "      Type: str\n",
      "      Required: False\n",
      "    - ansatz_config:\n",
      "      Description: Configuration parameters for the ansatz circuit.\n",
      "      Type: dict\n",
      "      Required: False\n",
      "    - x0:\n",
      "      Description: Initial vector of parameters.\n",
      "      Type: ndarray\n",
      "      Required: False\n",
      "    - optimizer:\n",
      "      Description: Classical optimizer to use, default='SPSA'.\n",
      "      Type: str\n",
      "      Required: False\n",
      "    - optimizer_config:\n",
      "      Description: Configuration parameters for the optimizer.\n",
      "      Type: dict\n",
      "      Required: False\n",
      "    - shots:\n",
      "      Description: Number of shots to take per circuit.\n",
      "      Type: int\n",
      "      Required: False\n",
      "    - use_measurement_mitigation:\n",
      "      Description: Use measurement mitigation, default=False.\n",
      "      Type: bool\n",
      "      Required: False\n",
      "  Interim results:\n",
      "    - params:\n",
      "      Description: Parameter vector at current optimization step\n",
      "      Type: ndarray\n",
      "  Returns:\n",
      "    - result:\n",
      "      Description: Final result in SciPy optimizer format.\n",
      "      Type: OptimizeResult\n"
     ]
    }
   ],
   "source": [
    "prog = provider.runtime.program(program_id)\n",
    "print(prog)"
   ]
  },
  {
   "cell_type": "markdown",
   "id": "bb2627e9",
   "metadata": {},
   "source": [
    "### Deleting a program\n",
    "\n",
    "If you make a mistake and need to delete and/or re-upload the program you can run the following, passing the `program_id`:"
   ]
  },
  {
   "cell_type": "code",
   "execution_count": 15,
   "id": "a52bdcdf",
   "metadata": {},
   "outputs": [],
   "source": [
    "#provider.runtime.delete_program(program_id)"
   ]
  },
  {
   "cell_type": "markdown",
   "id": "4b521258",
   "metadata": {},
   "source": [
    "## Running the program\n",
    "\n",
    "### Specify parameters\n",
    "\n",
    "To run the program we need to specify the `options` that are used in the runtime environemnt (not the program variables).  At present, only the `backend_name` is required."
   ]
  },
  {
   "cell_type": "code",
   "execution_count": 18,
   "id": "10629ac7",
   "metadata": {},
   "outputs": [],
   "source": [
    "backend = provider.backend.ibmq_qasm_simulator\n",
    "options = {'backend_name': backend.name()}"
   ]
  },
  {
   "cell_type": "markdown",
   "id": "55e52ecb",
   "metadata": {},
   "source": [
    "The `inputs` dictionary is used to pass arguements to the `main` function itself.  For example:"
   ]
  },
  {
   "cell_type": "code",
   "execution_count": 19,
   "id": "d113b419",
   "metadata": {},
   "outputs": [],
   "source": [
    "inputs = {}\n",
    "inputs['hamiltonian'] = H\n",
    "inputs['optimizer_config']={'maxiter': 10}"
   ]
  },
  {
   "cell_type": "markdown",
   "id": "55831f5a",
   "metadata": {},
   "source": [
    "### Execute the program\n",
    "\n",
    "We now can execute the program and grab the result."
   ]
  },
  {
   "cell_type": "code",
   "execution_count": 20,
   "id": "fa79f669",
   "metadata": {},
   "outputs": [],
   "source": [
    "job = provider.runtime.run(program_id, options=options, inputs=inputs)"
   ]
  },
  {
   "cell_type": "code",
   "execution_count": 21,
   "id": "e2ef686a",
   "metadata": {},
   "outputs": [
    {
     "data": {
      "text/plain": [
       "{'fun': -0.2177734375,\n",
       " 'x': array([-0.37738882,  3.66268048, -0.37574463,  5.18112796,  0.26720409,\n",
       "        -0.96836968,  3.74224556,  4.31084386,  1.63188765,  5.151062  ,\n",
       "         6.93889342,  4.1269752 ,  2.2251061 ,  5.48401816,  2.24756001,\n",
       "         5.99239828]),\n",
       " 'nit': 10,\n",
       " 'nfev': 20,\n",
       " 'message': 'Optimization terminated successfully.',\n",
       " 'success': True}"
      ]
     },
     "execution_count": 21,
     "metadata": {},
     "output_type": "execute_result"
    }
   ],
   "source": [
    "job.result()"
   ]
  },
  {
   "cell_type": "markdown",
   "id": "a75f75cd",
   "metadata": {},
   "source": [
    "A few things need to be pointed out. First, we did not get back any interm results, and second the return object is a plain dictionary.  This is because we did not listen for the return results, and we did not tell the job how to format the return result."
   ]
  },
  {
   "cell_type": "markdown",
   "id": "50409cb6",
   "metadata": {},
   "source": [
    "### Listening for interm results\n",
    "\n",
    "To listen for interm results we need to pass a callback function to `provider.runtime.run` that stores the results.  The callback takes two arguments `job_id` and the returned data:"
   ]
  },
  {
   "cell_type": "code",
   "execution_count": 22,
   "id": "db9e6960",
   "metadata": {},
   "outputs": [],
   "source": [
    "interm_results = []\n",
    "def vqe_callback(job_id, data):\n",
    "    interm_results.append(data)"
   ]
  },
  {
   "cell_type": "markdown",
   "id": "dd7cbc0b",
   "metadata": {},
   "source": [
    "Executing again we get:"
   ]
  },
  {
   "cell_type": "code",
   "execution_count": 23,
   "id": "310e154e",
   "metadata": {},
   "outputs": [],
   "source": [
    "job2 = provider.runtime.run(program_id, options=options, inputs=inputs, callback=vqe_callback)"
   ]
  },
  {
   "cell_type": "code",
   "execution_count": 24,
   "id": "d4461958",
   "metadata": {},
   "outputs": [
    {
     "data": {
      "text/plain": [
       "{'fun': -0.962158203125,\n",
       " 'x': array([ 6.22898091,  4.67040914,  0.61342135,  3.20407959,  6.43208667,\n",
       "         2.41813841,  1.22273232,  4.61755506, -0.60530588,  2.61569168,\n",
       "         5.28766661,  2.63199638, -0.12837528,  4.11691835,  3.86718869,\n",
       "         5.73137262]),\n",
       " 'nit': 10,\n",
       " 'nfev': 20,\n",
       " 'message': 'Optimization terminated successfully.',\n",
       " 'success': True}"
      ]
     },
     "execution_count": 24,
     "metadata": {},
     "output_type": "execute_result"
    }
   ],
   "source": [
    "job2.result()"
   ]
  },
  {
   "cell_type": "code",
   "execution_count": 25,
   "id": "ece17ecc",
   "metadata": {},
   "outputs": [
    {
     "name": "stdout",
     "output_type": "stream",
     "text": [
      "[[6.242814925001226, 5.046288794393892, 1.343121114475193, 2.6379574923082076, 6.634801396657214, 2.2371025934312705, 1.3494123213893983, 4.706980812960231, -0.08498930038430019, 2.238011315792888, 5.678058655479549, 1.7252317954712644, 0.3277004890910993, 3.9902383499582776, 3.7536593566165557, 5.7438449084199155], [5.952836869002238, 4.7563107383949035, 1.053143058476205, 2.927935548307196, 6.344823340658226, 2.5270806494302587, 1.6393903773883862, 4.9969588689592195, -0.37496735638328815, 2.527989371791876, 5.388080599480561, 2.015209851470252, 0.03772243309211132, 3.70026029395929, 3.4636813006175675, 5.453866852420927], [5.901206983578188, 4.807940623818953, 1.0015131730521551, 2.876305662883146, 6.293193455234176, 2.475450764006209, 1.5877604919643364, 4.94532898353517, -0.3233374709592383, 2.4763594863678264, 5.4397104849046105, 1.9635799660462023, -0.013907452331938498, 3.7518901793833397, 3.5153111860416173, 5.4022369669968775], [5.99632820340434, 4.903061843645105, 0.9063919532260031, 2.9714268827092982, 6.198072235408024, 2.570571983832361, 1.4926392721381843, 4.850207763709018, -0.41845869078539044, 2.3812382665416743, 5.534831704730762, 2.0587011858723545, 0.0812137674942136, 3.847011399209492, 3.6104324058677695, 5.497358186823029], [5.77362611243404, 5.125763934615405, 0.6836898622557036, 2.748724791738999, 6.420774326378324, 2.347869892862062, 1.2699371811678848, 5.072909854679318, -0.19575659981509097, 2.6039403575119735, 5.3121296137604626, 2.2814032768426538, 0.3039158584645131, 4.069713490179791, 3.8331344968380687, 5.720060277793329], [5.796528867306504, 5.10286117974294, 0.6607871073832394, 2.7716275466114633, 6.443677081250788, 2.370772647734526, 1.2928399360403489, 5.050007099806853, -0.17285384494262684, 2.626843112384438, 5.335032368632927, 2.2585005219701895, 0.3268186133369772, 4.046810735307327, 3.856037251710533, 5.742963032665793], [6.018330604319341, 4.881059442730104, 0.438985370370403, 2.9934292836242995, 6.665478818263625, 2.5925743847473623, 1.0710381990275124, 4.828205362794017, -0.39465558195546324, 2.4050413753716016, 5.11323063162009, 2.4803022589830257, 0.1050168763241408, 4.2686124723201635, 4.07783898872337, 5.96476476967863], [6.0069596791809685, 4.892430367868476, 0.45035629550877526, 2.982058358485927, 6.654107893125253, 2.58120345960899, 1.0596672738891402, 4.839576287932389, -0.383284656817091, 2.393670450233229, 5.124601556758463, 2.4689313338446532, 0.09364595118576854, 4.279983397458536, 4.089209913861742, 5.953393844540257], [6.199502817535771, 4.699887229513673, 0.6428994338635784, 3.1746014968407303, 6.46156475477045, 2.3886603212541866, 1.2522104122439432, 4.647033149577586, -0.5758277951718942, 2.5862135885880324, 5.3171446951132655, 2.6614744721994565, -0.09889718716903459, 4.087440259103733, 3.896666775506939, 5.760850706185455], [6.2289809057745344, 4.67040914127491, 0.6134213456248151, 3.2040795850794934, 6.432086666531687, 2.4181384094929497, 1.22273232400518, 4.617555061338823, -0.6053058834106575, 2.6156916768267955, 5.287666606874502, 2.6319963839606935, -0.1283752754077979, 4.116918347342496, 3.8671886872681753, 5.7313726179466915]]\n"
     ]
    }
   ],
   "source": [
    "print(interm_results)"
   ]
  },
  {
   "cell_type": "markdown",
   "id": "59f6b692",
   "metadata": {},
   "source": [
    "### Formatting the returned results\n",
    "\n",
    "In order to format the return results into the desired format, we need to specify a decoder.  This decoder must have a `decode` method that gets called to do the actual conversion.  In our case `OptimizeResult` is a simple sub-class of `dict` so the formatting is simple."
   ]
  },
  {
   "cell_type": "code",
   "execution_count": 26,
   "id": "262f9d38",
   "metadata": {},
   "outputs": [],
   "source": [
    "from qiskit.providers.ibmq.runtime import ResultDecoder\n",
    "from scipy.optimize import OptimizeResult\n",
    "\n",
    "class VQEResultDecoder(ResultDecoder):\n",
    "    @classmethod\n",
    "    def decode(cls, data):\n",
    "        data = super().decode(data)  # This is required to preformat the data returned.\n",
    "        return OptimizeResult(data)"
   ]
  },
  {
   "cell_type": "markdown",
   "id": "7a8681b5",
   "metadata": {},
   "source": [
    "We can then use this when returning the job result:"
   ]
  },
  {
   "cell_type": "code",
   "execution_count": 27,
   "id": "afb35c33",
   "metadata": {},
   "outputs": [
    {
     "data": {
      "text/plain": [
       "     fun: -1.466552734375\n",
       " message: 'Optimization terminated successfully.'\n",
       "    nfev: 20\n",
       "     nit: 10\n",
       " success: True\n",
       "       x: array([ 1.14529875,  3.59359094,  1.52406932,  4.29224294,  6.1804034 ,\n",
       "        4.49658598,  5.48578434,  2.35112148,  6.43273259,  4.21766161,\n",
       "        3.56638848,  1.52288587,  1.63994411,  2.3065571 ,  0.84399359,\n",
       "       -0.03350545])"
      ]
     },
     "execution_count": 27,
     "metadata": {},
     "output_type": "execute_result"
    }
   ],
   "source": [
    "job3 = provider.runtime.run(program_id, options=options, inputs=inputs)\n",
    "job3.result(decoder=VQEResultDecoder)"
   ]
  },
  {
   "cell_type": "markdown",
   "id": "ade26bc9",
   "metadata": {},
   "source": [
    "## Simplifying program execution with wrapping functions\n",
    "\n",
    "While runtime programs are pwoerful and flexible, they are not the most friendly things to interact with.  Therefore if your program is intended to be used by others it is best to make wrapper functions and/or classes that simply the user experience.  Moreoever, such wrappers allow for validation of user inputs client side, which can quickly find errors that would otherwise be raised latter during the execution process; something that might have taken hours waiting in queue to get to.\n",
    "\n",
    "Here we will make two helper routines.  First, a job wrapper that allows us to attach and retrieve the interm results directly from the job object itself, as well as does the decoding for us so that the end user need not worry about formatting the results themselves."
   ]
  },
  {
   "cell_type": "code",
   "execution_count": 28,
   "id": "bbf9a49a",
   "metadata": {},
   "outputs": [],
   "source": [
    "class RuntimeJobWrapper():\n",
    "    \"\"\"A simple Job wrapper that attaches interm results directly to the job object itself\n",
    "    in the `interm_results attribute` via the `_callback` function.\n",
    "    \"\"\"\n",
    "    def __init__(self):\n",
    "        self._job = None\n",
    "        self._decoder = VQEResultDecoder\n",
    "        self.interm_results = []\n",
    "        \n",
    "    def _callback(self, job_id, xk):\n",
    "        \"\"\"The callback function that attaches interm results:\n",
    "        \n",
    "        Parameters:\n",
    "            job_id (str): The job ID.\n",
    "            xk (array_like): A list or NumPy array to attach.\n",
    "        \"\"\"\n",
    "        self.interm_results.append(xk)\n",
    "        \n",
    "    def __getattr__(self, attr):\n",
    "        if attr == 'result':\n",
    "            return self.result\n",
    "        else:\n",
    "            if attr in dir(self._job):\n",
    "                return getattr(self._job, attr)\n",
    "            raise AttributeError(\"Class does not have {}.\".format(attr))\n",
    "        \n",
    "    def result(self):\n",
    "        \"\"\"Get the result of the job as a SciPy OptimizerResult object.\n",
    "        \n",
    "        This blocks until job is done, cancelled, or errors.\n",
    "        \n",
    "        Returns:\n",
    "            OptimizerResult: A SciPy optimizer result object.\n",
    "        \"\"\"\n",
    "        return self._job.result(decoder=self._decoder)"
   ]
  },
  {
   "cell_type": "markdown",
   "id": "23999372",
   "metadata": {},
   "source": [
    "Next, we create the actual function we want users to call to execute our program.  To this function we will add a series of simple validation checks (not all checks will be done for simplicity), as well as use the Job wrapper defined above to simply the output."
   ]
  },
  {
   "cell_type": "code",
   "execution_count": 29,
   "id": "d153b5de",
   "metadata": {},
   "outputs": [],
   "source": [
    "import qiskit.circuit.library.n_local as lib_local\n",
    "\n",
    "def vqe_runner(backend, hamiltonian,\n",
    "               ansatz='EfficientSU2', ansatz_config={},\n",
    "               x0=None, optimizer='SPSA',\n",
    "               optimizer_config={'maxiter': 100},\n",
    "               shots = 8192,\n",
    "               use_measurement_mitigation=False):\n",
    "    \n",
    "    \"\"\"Routine that executes a given VQE problem via the sample-vqe program on the target backend.\n",
    "    \n",
    "    Parameters:\n",
    "        backend (ProgramBackend): Qiskit backend instance.\n",
    "        hamiltonian (list): Hamiltonian whose ground state we want to find.\n",
    "        ansatz (str): Optional, name of ansatz quantum circuit to use, default='EfficientSU2'\n",
    "        ansatz_config (dict): Optional, configuration parameters for the ansatz circuit.\n",
    "        x0 (array_like): Optional, initial vector of parameters.\n",
    "        optimizer (str): Optional, string specifying classical optimizer, default='SPSA'.\n",
    "        optimizer_config (dict): Optional, configuration parameters for the optimizer.\n",
    "        shots (int): Optional, number of shots to take per circuit.\n",
    "        use_measurement_mitigation (bool): Optional, use measurement mitigation, default=False.\n",
    "        \n",
    "    Returns:\n",
    "        OptimizeResult: The result in SciPy optimization format.  \n",
    "    \"\"\"\n",
    "    options = {'backend_name': backend.name()}\n",
    "    \n",
    "    inputs = {}\n",
    "    \n",
    "    # Validate Hamiltonian is correct\n",
    "    num_qubits = len(H[0][1])\n",
    "    for idx, ham in enumerate(hamiltonian):\n",
    "        if len(ham[1]) != num_qubits:\n",
    "            raise ValueError('Number of qubits in Hamiltonian term {} does not match {}'.format(idx,\n",
    "                                                                                                num_qubits))\n",
    "    inputs['hamiltonian'] = hamiltonian\n",
    "    \n",
    "    # Validate ansatz is in the module\n",
    "    ansatz_circ = getattr(lib_local, ansatz, None)\n",
    "    if not ansatz_circ:\n",
    "        raise ValueError('Ansatz {} not in n_local circuit library.'.format(ansatz))\n",
    "        \n",
    "    inputs['ansatz'] = ansatz\n",
    "    inputs['ansatz_config'] = ansatz_config\n",
    "    \n",
    "    # If given x0, validate its length against num_params in ansatz:\n",
    "    if x0:\n",
    "        x0 = np.asarray(x0)\n",
    "        ansatz_circ = ansatz_circ(num_qubits, **ansatz_config)\n",
    "        num_params = ansatz_circ.num_parameters\n",
    "        if x0.shape[0] != num_params:\n",
    "            raise ValueError('Length of x0 {} does not match number of params in ansatz {}'.format(x0.shape[0],\n",
    "                                                                                                   num_params))\n",
    "    inputs['x0'] = x0\n",
    "    \n",
    "    # Set the rest of the inputs\n",
    "    inputs['optimizer'] = optimizer\n",
    "    inputs['optimizer_config'] = optimizer_config\n",
    "    inputs['shots'] = shots\n",
    "    inputs['use_measurement_mitigation'] = use_measurement_mitigation\n",
    "    \n",
    "    rt_job = RuntimeJobWrapper()\n",
    "    job = provider.runtime.run('sample-vqe', options=options, inputs=inputs, callback=rt_job._callback)\n",
    "    rt_job._job = job\n",
    "    \n",
    "    return rt_job\n",
    "    "
   ]
  },
  {
   "cell_type": "markdown",
   "id": "60734a58",
   "metadata": {},
   "source": [
    "We can now execute our runtime program via this runner function:"
   ]
  },
  {
   "cell_type": "code",
   "execution_count": 30,
   "id": "397d1173",
   "metadata": {},
   "outputs": [],
   "source": [
    "job4 = vqe_runner(backend, H, optimizer_config={'maxiter': 15})"
   ]
  },
  {
   "cell_type": "code",
   "execution_count": 31,
   "id": "18390eb8",
   "metadata": {},
   "outputs": [
    {
     "data": {
      "text/plain": [
       "     fun: -0.661376953125\n",
       " message: 'Optimization terminated successfully.'\n",
       "    nfev: 30\n",
       "     nit: 15\n",
       " success: True\n",
       "       x: array([ 4.57275921,  4.90646828,  2.2542227 ,  1.73642891,  7.59974013,\n",
       "        5.91137853,  3.37074254,  0.64446577,  2.28800638, -1.54667327,\n",
       "        4.66098696,  3.08050883,  0.50235561,  2.52049346,  7.26380073,\n",
       "        2.41661274])"
      ]
     },
     "execution_count": 31,
     "metadata": {},
     "output_type": "execute_result"
    }
   ],
   "source": [
    "job4.result()"
   ]
  },
  {
   "cell_type": "markdown",
   "id": "7cef8d9c",
   "metadata": {},
   "source": [
    "The interm results are now attached to the job `interm_results` attribute and, as expected, we see that the lenght matches the number of iterations performed."
   ]
  },
  {
   "cell_type": "code",
   "execution_count": 32,
   "id": "3bc5858b",
   "metadata": {},
   "outputs": [
    {
     "data": {
      "text/plain": [
       "15"
      ]
     },
     "execution_count": 32,
     "metadata": {},
     "output_type": "execute_result"
    }
   ],
   "source": [
    "len(job4.interm_results)"
   ]
  },
  {
   "cell_type": "markdown",
   "id": "98651c10",
   "metadata": {},
   "source": [
    "## Conclusion\n",
    "\n",
    "We have demonstrated how to create, upload, and use a custom Qiskit Runtime by creating our own VQE solver from scratch.  This tutorial was meant to touch upon every aspect of the process for a real-world example.  Within the current limitations of the Runtime environment, this example should enable readers to develop their own single-file runtime program.  This program is also a good starting off point for exploring addtional flavours of VQE runtime.  For example, it is straightforward to vary the number of shots per iteration, increasing shots as the number of iterations increases.  Those looking to go deeper can consider implimenting an [adaptive VQE](https://doi.org/10.1038/s41467-019-10988-2), where the ansatz is not fixed at initialization."
   ]
  },
  {
   "cell_type": "markdown",
   "id": "0a10e586",
   "metadata": {},
   "source": [
    "## Appendix A\n",
    "\n",
    "Here we code a simple simultaneous perturbation stochastic approximation (SPSA) optimizer for use on noisy quantum systems.  Most optimizers do not handle fluctuating cost functions well, so this is a needed addition for executing on real quantum hardware."
   ]
  },
  {
   "cell_type": "code",
   "execution_count": 6,
   "id": "2731d5f6",
   "metadata": {},
   "outputs": [],
   "source": [
    "import numpy as np\n",
    "from scipy.optimize import OptimizeResult\n",
    "\n",
    "def fmin_spsa(func, x0, args=(), maxiter=100,\n",
    "              a=1.0, alpha=0.602, c=1.0, gamma=0.101,\n",
    "              callback=None):\n",
    "    \"\"\"\n",
    "    Minimization of scalar function of one or more variables using simultaneous\n",
    "    perturbation stochastic approximation (SPSA).\n",
    "\n",
    "    Parameters:\n",
    "        func (callable): The objective function to be minimized.\n",
    "\n",
    "                          ``fun(x, *args) -> float``\n",
    "\n",
    "                          where x is an 1-D array with shape (n,) and args is a\n",
    "                          tuple of the fixed parameters needed to completely \n",
    "                          specify the function.\n",
    "\n",
    "        x0 (ndarray): Initial guess. Array of real elements of size (n,), \n",
    "                      where ‘n’ is the number of independent variables.\n",
    "      \n",
    "        maxiter (int): Maximum number of iterations.  The number of function\n",
    "                       evaluations is twice as many. Optional.\n",
    "\n",
    "        a (float): SPSA gradient scaling parameter. Optional.\n",
    "\n",
    "        alpha (float): SPSA gradient scaling exponent. Optional.\n",
    "\n",
    "        c (float):  SPSA step size scaling parameter. Optional.\n",
    "        \n",
    "        gamma (float): SPSA step size scaling exponent. Optional.\n",
    "\n",
    "        callback (callable): Function that accepts the current parameter vector\n",
    "                             as input.\n",
    "\n",
    "    Returns:\n",
    "        OptimizeResult: Solution in SciPy Optimization format.\n",
    "\n",
    "    Notes:\n",
    "        See the `SPSA homepage <https://www.jhuapl.edu/SPSA/>`_ for usage and\n",
    "        additional extentions to the basic version implimented here.\n",
    "    \"\"\"\n",
    "    A = 0.01 * maxiter\n",
    "    x0 = np.asarray(x0)\n",
    "    x = x0\n",
    "\n",
    "    for kk in range(maxiter):\n",
    "        ak = a*(kk+1.0+A)**-alpha\n",
    "        ck = c*(kk+1.0)**-gamma\n",
    "        # Bernoulli distribution for randoms\n",
    "        deltak =  2*np.random.randint(2, size=x.shape[0])-1\n",
    "        grad = (func(x + ck*deltak, *args) - func(x - ck*deltak, *args))/(2*ck*deltak)\n",
    "        x -= ak*grad\n",
    "        \n",
    "        if callback is not None:\n",
    "            callback(x)\n",
    "\n",
    "    return OptimizeResult(fun=func(x, *args), x=x, nit=maxiter, nfev=2*maxiter, \n",
    "                          message='Optimization terminated successfully.',\n",
    "                          success=True)"
   ]
  },
  {
   "cell_type": "markdown",
   "id": "cfa8cd78",
   "metadata": {},
   "source": [
    "## Appendix B\n",
    "\n",
    "This is a helper function that converts the Pauli operators in the strings that define the Hamiltonian operators into the appropriate measurements at the end of the circuits.  For $X$ operators this involves adding an $H$ gate to the qubits to be measured, where as a $Y$ operator needs $S^{+}$ followed by a $H$.  Other choices of Pauli operators require no additinal gates prior to measurement."
   ]
  },
  {
   "cell_type": "code",
   "execution_count": 7,
   "id": "711fa778",
   "metadata": {},
   "outputs": [],
   "source": [
    "def opstr_to_meas_circ(op_str):\n",
    "    \"\"\"Takes a list of operator strings and makes circuit with the correct post-rotations for measurements.\n",
    "\n",
    "    Parameters:\n",
    "        op_str (list): List of strings representing the operators needed for measurements.\n",
    "\n",
    "    Returns:\n",
    "        list: List of circuits for measurement post-rotations\n",
    "    \"\"\"\n",
    "    num_qubits = len(op_str[0])\n",
    "    circs = []\n",
    "    for op in op_str:\n",
    "        qc = QuantumCircuit(num_qubits)\n",
    "        for idx, item in enumerate(op):\n",
    "            if item == 'X':\n",
    "                qc.h(num_qubits-idx-1)\n",
    "            elif item == 'Y':\n",
    "                qc.sdg(num_qubits-idx-1)\n",
    "                qc.h(num_qubits-idx-1)\n",
    "        circs.append(qc)\n",
    "    return circs"
   ]
  },
  {
   "cell_type": "code",
   "execution_count": 40,
   "id": "18c8f4d3",
   "metadata": {},
   "outputs": [
    {
     "data": {
      "text/html": [
       "<div style='width: 100%; background-color:#d5d9e0;padding-left: 10px; padding-bottom: 10px; padding-right: 10px; padding-top: 5px'><h3>This code is a part of Qiskit</h3><p>&copy; Copyright IBM 2017, 2021.</p><p>This code is licensed under the Apache License, Version 2.0. You may<br>obtain a copy of this license in the LICENSE.txt file in the root directory<br> of this source tree or at http://www.apache.org/licenses/LICENSE-2.0.<p>Any modifications or derivative works of this code must retain this<br>copyright notice, and modified files need to carry a notice indicating<br>that they have been altered from the originals.</p></div>"
      ],
      "text/plain": [
       "<IPython.core.display.HTML object>"
      ]
     },
     "metadata": {},
     "output_type": "display_data"
    }
   ],
   "source": [
    "from qiskit.tools.jupyter import *\n",
    "%qiskit_copyright"
   ]
  },
  {
   "cell_type": "code",
   "execution_count": null,
   "id": "d99482c9",
   "metadata": {},
   "outputs": [],
   "source": []
  }
 ],
 "metadata": {
  "kernelspec": {
   "display_name": "Python 3",
   "language": "python",
   "name": "python3"
  },
  "language_info": {
   "codemirror_mode": {
    "name": "ipython",
    "version": 3
   },
   "file_extension": ".py",
   "mimetype": "text/x-python",
   "name": "python",
   "nbconvert_exporter": "python",
   "pygments_lexer": "ipython3",
   "version": "3.9.6"
  }
 },
 "nbformat": 4,
 "nbformat_minor": 5
}
