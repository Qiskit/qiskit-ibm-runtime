{
 "cells": [
  {
   "cell_type": "markdown",
   "id": "98d4d396",
   "metadata": {},
   "source": [
    "# Creating Custom Programs for Qiskit Runtime\n",
    "\n",
    "<p>\n",
    "<font size=\"4\" color=\"#0f62fe\">Paul Nation</font>\n",
    "</p>\n",
    "<p>\n",
    "<font size=\"3\" color=\"#0f62fe\">IBM Quantum Partners Technical Enablement Team</font>\n",
    "</p>\n",
    "\n",
    "Here we will demonstrate how to create, upload, and use a custom Program for Qiskit Runtime.  As the utility of the Runtime execution engine lies in its ability to execute many quantum circuits with low latencies, this tutorial will show how to create your own Variational Quantum Eigensolver (VQE) program from scratch."
   ]
  },
  {
   "cell_type": "markdown",
   "id": "96b86d47",
   "metadata": {},
   "source": [
    "## Prerequisites\n",
    "\n",
    "- You must have Qiskit 0.30+ installed.\n",
    "- You must have an IBM Quantum account with the ability to upload a runtime program.  You have this ability if you belong to more than one provider."
   ]
  },
  {
   "cell_type": "markdown",
   "id": "46817643",
   "metadata": {},
   "source": [
    "## Current limitations\n",
    "\n",
    "The runtime execution engine currently has the following limitations that must be kept in mind:\n",
    "\n",
    "- The Docker images used by the runtime include only Qiskit and its dependencies, with few exceptions.  One exception is the inclusion of the `mthree` measurement mitigation package.\n",
    "\n",
    "\n",
    "- For security reasons, the runtime cannot make internet calls outside of the environment.\n",
    "\n",
    "\n",
    "- Your runtime program name must not contain an underscore`_`, otherwise it will cause an error when you try to execute it.\n",
    "\n",
    "As Qiskit Runtime matures, these limitations will be removed."
   ]
  },
  {
   "cell_type": "markdown",
   "id": "98e4b3ac",
   "metadata": {},
   "source": [
    "## Simple VQE\n",
    "\n",
    "VQE is an hybrid quantum-classical optimization procedure that finds the lowest eigenstate and eigenenergy of a linear system defined by a given Hamiltonian of Pauli operators.  For example, consider the following two-qubit Hamiltonian:\n",
    "\n",
    "\n",
    "$$\n",
    "H = A X_{1}\\otimes X_{0} + A Y_{1}\\otimes Y_{0} + A Z_{1}\\otimes Z_{0},\n",
    "$$\n",
    "\n",
    "where $A$ is numerical coefficient and the subscripts label the qubits on which the operators act.  The zero index being farthest right is the ordering used in Qiskit.  The Pauli operators tell us which measurement basis to to use when measuring each of the qubits.\n",
    "\n",
    "We want to find the ground state (lowest energy state) of this Hamiltonian, and the associated eigenvector.  To do this we must start at a given initial state and iteratively vary the parameters that define this state using a classical optimizer, such that the computed energies of subsequent steps are nominally lower than those previously.  The parameterized state of the system is defined by an ansatz quantum circuit that should have non-zero support in the direction of the ground state.  Because in general we do not know the solution, the choice of ansatz circuit can be highly problem-specific with a form dictated by additional information. For further information about variational algorithms, we point the reader to [Nature Reviews Physics volume 3, 625 (2021)](https://doi.org/10.1038/s42254-021-00348-9).\n",
    "\n",
    "\n",
    "Thus we need at least the following inputs to create our VQE quantum program:\n",
    "\n",
    "1. A representation of the Hamiltonian that specifies the problem.\n",
    "\n",
    "\n",
    "2. A choice of parameterized ansatz circuit, and the ability to pass configuration options, if any.\n",
    "\n",
    "\n",
    "However, the following are also beneficial inputs that users might want to have:\n",
    "\n",
    "3. Add the ability to pass an initial state.\n",
    "\n",
    "\n",
    "4. Vary the number of shots that are taken.\n",
    "\n",
    "\n",
    "5. Ability to select which classical optimizer is used, and set configuraton values, if any. \n",
    "\n",
    "\n",
    "6. Ability to turn on and off measurement mitigation.\n"
   ]
  },
  {
   "cell_type": "markdown",
   "id": "d15ad0da",
   "metadata": {},
   "source": [
    "## Specifying the form of the input values\n",
    "\n",
    "All inputs to runtime programs must be serializable objects.  That is to say, whatever you pass into a runtime program must be able to be converted to JSON format.  It is thus beneficial to keep inputs limited to basic data types and structures unless you have experience with custom object serialization, or they are common Qiskit types such as ``QuantumCircuit`` etc that the built-in `RuntimeEncoder` can handle.  Fortunately, the VQE program described above can be made out of simple Python components.\n",
    "\n",
    "First, it is possible to represent any Hamiltonian using a list of values with each containing the numerical coefficeint for each term and the string representation for the Pauli operators.  For the above example, the ground state energy with $A=1$ is $-3$ and we can write it as:"
   ]
  },
  {
   "cell_type": "code",
   "execution_count": 1,
   "id": "78b7a519",
   "metadata": {},
   "outputs": [],
   "source": [
    "H = [(1, 'XX'), (1, 'YY'), (1, 'ZZ')]"
   ]
  },
  {
   "cell_type": "markdown",
   "id": "fca6d7c5",
   "metadata": {},
   "source": [
    "Next we have to provide the ability to specify the parameterized Ansatz circuit.  Here we will take advange of the fact that many ansatz circuits are pre-defined in the Qiskit Circuit Library.  Examples can be found in the [N-local circuits section](https://qiskit.org/documentation/apidoc/circuit_library.html#n-local-circuits).\n",
    "\n",
    "We would like the user to be able to select between ansatz options such as: `NLocal`, `TwoLocal`, and `EfficientSU2`.  We could have the user pass the whole ansatz circuit to the program; however, in order to reduce the size of the upload we will pass the ansatz by name.  In the runtime program, we can take this name and get the class that it corresponds to from the library using, for example,  "
   ]
  },
  {
   "cell_type": "code",
   "execution_count": 2,
   "id": "421f2f51",
   "metadata": {},
   "outputs": [],
   "source": [
    "import qiskit.circuit.library.n_local as lib_local\n",
    "\n",
    "ansatz = getattr(lib_local, 'EfficientSU2')"
   ]
  },
  {
   "cell_type": "markdown",
   "id": "48c7ebae",
   "metadata": {},
   "source": [
    "For the ansatz configuration, we will pass a simple `dict` of values."
   ]
  },
  {
   "cell_type": "markdown",
   "id": "a592ac05",
   "metadata": {},
   "source": [
    "### Optionals \n",
    "\n",
    "- If we want to add the ability to pass an initial state, then we will need to add the ability to pass a 1D list/ NumPy array.  Because the number of parameters depends on the ansatz and its configuration, the user would have to know what ansatz they are doing ahead of time.\n",
    "\n",
    "\n",
    "- Selecting a number of shots requires simply passing an integer value.\n",
    "\n",
    "\n",
    "- Here we will allow selecting a classical optimizer by name from those in SciPy, and a `dict` of configuration parameters.  Note that for execution on an actual system, the noise inherent in today's quantum systems makes having a stochastic optimizer crucial to success.  SciPy does not have such a choice, and the one built into Qiskit is wrapped in such a manner as to make it difficult to use elsewhere.  As such, here we will use an SPSA optimizer written to match the style of those in SciPy.  This function is given in [Appendix A](#Appendix-A)."
   ]
  },
  {
   "cell_type": "markdown",
   "id": "8c5964c1",
   "metadata": {},
   "source": [
    "- Finally, for measurement error mitigation we can simply pass a boolean (True/False) value."
   ]
  },
  {
   "cell_type": "markdown",
   "id": "00df4e79",
   "metadata": {},
   "source": [
    "## Main program\n",
    "\n",
    "We are now in a position to start building our main program.  However, before doing so we point out that it makes the code cleaner to make a separate fuction that takes strings of Pauli operators that define our Hamiltonian and convert them to a list of circuits with single-qubit gates that change the measurement basis for each qubit, if needed. This function is given in [Appendix B](#Appendix-B)."
   ]
  },
  {
   "cell_type": "markdown",
   "id": "3ddbadd8",
   "metadata": {},
   "source": [
    "### Required signature\n",
    "\n",
    "Every runtime program is defined via the `main` function, and must have the following input signature:\n",
    "\n",
    "```\n",
    "main(backend, user_message, *args, **kwargs)\n",
    "```\n",
    "\n",
    "where `backend` is the backend that the program is to be executed on, and `user_message` is the class by which interim (and possibly final) results are communicated back to the user.  After these two items, we add our program-specific arguments and keyword arguments."
   ]
  },
  {
   "cell_type": "markdown",
   "id": "28ba84cc",
   "metadata": {},
   "source": [
    "### The main VQE program\n",
    "\n",
    "Here is the main program for our sample VQE.  What each element of the function does is written in the comments before the element appears."
   ]
  },
  {
   "cell_type": "code",
   "execution_count": 3,
   "id": "96bb7811",
   "metadata": {},
   "outputs": [],
   "source": [
    "# Grab functions and modules from dependencies\n",
    "import numpy as np\n",
    "import scipy.optimize as opt\n",
    "from scipy.optimize import OptimizeResult\n",
    "import mthree\n",
    "\n",
    "# Grab functions and modules from Qiskit needed\n",
    "from qiskit import QuantumCircuit, transpile\n",
    "import qiskit.circuit.library.n_local as lib_local\n",
    "\n",
    "# The entrypoint for our Runtime Program\n",
    "def main(backend, user_messenger,\n",
    "         hamiltonian,\n",
    "         ansatz='EfficientSU2',\n",
    "         ansatz_config={},\n",
    "         x0=None,\n",
    "         optimizer='SPSA',\n",
    "         optimizer_config={'maxiter': 100},\n",
    "         shots = 8192,\n",
    "         use_measurement_mitigation=False\n",
    "        ):\n",
    "    \n",
    "    \"\"\"\n",
    "    The main sample VQE program.\n",
    "    \n",
    "    Parameters:\n",
    "        backend (ProgramBackend): Qiskit backend instance.\n",
    "        user_messenger (UserMessenger): Used to communicate with the\n",
    "                                        program user.\n",
    "        hamiltonian (list): Hamiltonian whose ground state we want to find.\n",
    "        ansatz (str): Optional, name of ansatz quantum circuit to use,\n",
    "                      default='EfficientSU2'\n",
    "        ansatz_config (dict): Optional, configuration parameters for the\n",
    "                              ansatz circuit.\n",
    "        x0 (array_like): Optional, initial vector of parameters.\n",
    "        optimizer (str): Optional, string specifying classical optimizer,\n",
    "                         default='SPSA'.\n",
    "        optimizer_config (dict): Optional, configuration parameters for the\n",
    "                                 optimizer.\n",
    "        shots (int): Optional, number of shots to take per circuit.\n",
    "        use_measurement_mitigation (bool): Optional, use measurement mitigation,\n",
    "                                           default=False.\n",
    "        \n",
    "    Returns:\n",
    "        OptimizeResult: The result in SciPy optimization format.  \n",
    "    \"\"\"\n",
    "    \n",
    "    # Split the Hamiltonian into two arrays, one for coefficients, the other for\n",
    "    # operator strings\n",
    "    coeffs = np.array([item[0] for item in hamiltonian], dtype=complex)\n",
    "    op_strings = [item[1] for item in hamiltonian]\n",
    "    # The number of qubits needed is given by the number of elements in the strings\n",
    "    # the defiune the Hamiltonian. Here we grab this data from the first element.\n",
    "    num_qubits = len(op_strings[0])\n",
    "    \n",
    "    # We grab the requested ansatz circuit class from the Qiskit circuit library\n",
    "    # n_local module and configure it using the number of qubits and options\n",
    "    # passed in the ansatz_config.\n",
    "    ansatz_instance = getattr(lib_local, ansatz)\n",
    "    ansatz_circuit = ansatz_instance(num_qubits, **ansatz_config)\n",
    "    \n",
    "    # Here we use our convenence function from Appendix B to get measurement circuits\n",
    "    # with the correct single-qubit rotation gates.\n",
    "    meas_circs = opstr_to_meas_circ(op_strings)\n",
    "    \n",
    "    # When computing the expectation value for the energy, we need to know if we\n",
    "    # evaluate a Z measurement or and identity measurement.  Here we take and X and Y\n",
    "    # operator in the strings and convert it to a Z since we added the rotations\n",
    "    # with the meas_circs.\n",
    "    meas_strings = [string.replace('X', 'Z').replace('Y', 'Z') for string in op_strings]\n",
    "    \n",
    "    # Take the ansatz circuits, add the single-qubit measurement basis rotations from\n",
    "    # meas_circs, and finally append the measurements themselves.\n",
    "    full_circs = [ansatz_circuit.compose(mcirc).measure_all(inplace=False) for mcirc in meas_circs]\n",
    "    \n",
    "    # Get the number of parameters in the ansatz circuit.\n",
    "    num_params = ansatz_circuit.num_parameters\n",
    "    \n",
    "    # Use a given initial state, if any, or do random initial state.\n",
    "    if x0:\n",
    "        x0 = np.asarray(x0, dtype=float)\n",
    "        if x0.shape[0] != num_params:\n",
    "            raise ValueError('Number of params in x0 ({}) does not match number \\\n",
    "                              of ansatz parameters ({})'. format(x0.shape[0],\n",
    "                                                                 num_params))\n",
    "    else:\n",
    "        x0 = 2*np.pi*np.random.rand(num_params)\n",
    "        \n",
    "    # Because we are in general targeting a real quantum system, our circuits must be transpiled\n",
    "    # to match the system topology and, hopefully, optimize them.\n",
    "    # Here we will set the transpiler to the most optimal settings where 'sabre' layout and\n",
    "    # routing are used, along with full O3 optimization.\n",
    "\n",
    "    # This works around a bug in Qiskit where Sabre routing fails for simulators (Issue #7098)\n",
    "    trans_dict = {}\n",
    "    if not backend.configuration().simulator:\n",
    "        trans_dict = {'layout_method': 'sabre', 'routing_method': 'sabre'}\n",
    "    trans_circs = transpile(full_circs, backend, optimization_level=3, **trans_dict)\n",
    "    \n",
    "    # If using measurement mitigation we need to find out which physical qubits our transpiled\n",
    "    # circuits actually measure, construct a mitigation object targeting our backend, and\n",
    "    # finally calibrate our mitgation by running calibration circuits on the backend.\n",
    "    if use_measurement_mitigation:\n",
    "        maps = mthree.utils.final_measurement_mapping(trans_circs)\n",
    "        mit = mthree.M3Mitigation(backend)\n",
    "        mit.cals_from_system(maps)\n",
    "    \n",
    "    # Here we define a callback function that will stream the optimizer parameter vector\n",
    "    # back to the user after each iteration.  This uses the `user_messenger` object.\n",
    "    # Here we convert to a list so that the return is user readable locally, but\n",
    "    # this is not required.\n",
    "    def callback(xk):\n",
    "        user_messenger.publish(list(xk))\n",
    "    \n",
    "    # This is the primary VQE function executed by the optimizer. This function takes the \n",
    "    # parameter vector as input and returns the energy evaluated using an ansatz circuit\n",
    "    # bound with those parameters.\n",
    "    def vqe_func(params):\n",
    "        # Attach (bind) parameters in params vector to the transpiled circuits.\n",
    "        bound_circs = [circ.bind_parameters(params) for circ in trans_circs]\n",
    "        \n",
    "        # Submit the job and get the resultant counts back\n",
    "        counts = backend.run(bound_circs, shots=shots).result().get_counts()\n",
    "        \n",
    "        # If using measurement mitigation apply the correction and\n",
    "        # compute expectation values from the resultant quasiprobabilities\n",
    "        # using the measurement strings.\n",
    "        if use_measurement_mitigation:\n",
    "            quasi_collection = mit.apply_correction(counts, maps)\n",
    "            expvals = quasi_collection.expval(meas_strings)\n",
    "        # If not doing any mitigation just compute expectation values\n",
    "        # from the raw counts using the measurement strings.\n",
    "        # Since Qiskit does not have such functionality we use the convenence\n",
    "        # function from the mthree mitigation module.\n",
    "        else:\n",
    "            expvals = mthree.utils.expval(counts, meas_strings)\n",
    "        \n",
    "        # The energy is computed by simply taking the product of the coefficients\n",
    "        # and the computed expectation values and summing them. Here we also\n",
    "        # take just the real part as the coefficients can possibly be complex,\n",
    "        # but the energy (eigenvalue) of a Hamiltonian is always real.\n",
    "        energy = np.sum(coeffs*expvals).real\n",
    "        return energy\n",
    "    \n",
    "    # Here is where we actually perform the computation.  We begin by seeing what\n",
    "    # optimization routine the user has requested, eg. SPSA verses SciPy ones,\n",
    "    # and dispatch to the correct optimizer.  The selected optimizer starts at\n",
    "    # x0 and calls 'vqe_func' everytime the optimizer needs to evaluate the cost\n",
    "    # function.  The result is returned as a SciPy OptimizerResult object.\n",
    "    # Additionally, after every iteration, we use the 'callback' function to\n",
    "    # publish the interm results back to the user. This is important to do\n",
    "    # so that if the Program terminates unexpectedly, the user can start where they\n",
    "    # left off.\n",
    "    \n",
    "    # Since SPSA is not in SciPy need if statement\n",
    "    if optimizer == 'SPSA':\n",
    "        res = fmin_spsa(vqe_func, x0, args=(), **optimizer_config,\n",
    "                        callback=callback)\n",
    "    # All other SciPy optimizers here\n",
    "    else:\n",
    "        res = opt.minimize(vqe_func, x0, method=optimizer,\n",
    "                           options=optimizer_config, callback=callback)\n",
    "    # Return result. OptimizeResult is a subclass of dict.\n",
    "    return res"
   ]
  },
  {
   "cell_type": "markdown",
   "id": "8ab3432a",
   "metadata": {},
   "source": [
    "## Local testing\n",
    "\n",
    "<div class=\"alert alert-block alert-info\">\n",
    "<b>Important:</b> You need to execute the code blocks in Appendices A and B before continuing.\n",
    "</div>\n",
    "\n",
    "We can test whether our routine works by simply calling the `main` function with a backend instance, a `UserMessenger`, and sample arguments."
   ]
  },
  {
   "cell_type": "code",
   "execution_count": 7,
   "id": "c146a02e",
   "metadata": {},
   "outputs": [],
   "source": [
    "from qiskit.providers.ibmq.runtime import UserMessenger\n",
    "msg = UserMessenger()"
   ]
  },
  {
   "cell_type": "code",
   "execution_count": 8,
   "id": "ea291c28",
   "metadata": {},
   "outputs": [],
   "source": [
    "# Use the local Aer simulator\n",
    "from qiskit import Aer\n",
    "backend = Aer.get_backend('qasm_simulator')"
   ]
  },
  {
   "cell_type": "code",
   "execution_count": 9,
   "id": "3f071e0f",
   "metadata": {
    "scrolled": false
   },
   "outputs": [
    {
     "name": "stdout",
     "output_type": "stream",
     "text": [
      "[0.6809298743297729, 6.212947793338935, 2.5468059211919893, 1.786105003661796, 1.0611822357686909, 4.866944587894351, 5.825252230048505, 1.8013910705748435, 1.1414155678382845, 4.058318084439127, 5.819240170576276, 3.6822434254987035, -0.3402317359052001, 1.3158695204805178, 1.4128211024397963, 1.099923546703455]\n",
      "[0.809595974177736, 6.3416138931868975, 2.418139821344026, 1.9147711035097592, 0.9325161359207278, 4.738278488046388, 5.696586130200542, 1.6727249707268803, 1.2700816676862476, 4.186984184287089, 5.690574070728314, 3.8109095253466667, -0.46889783575316324, 1.1872034206325546, 1.2841550025918331, 0.9712574468554919]\n",
      "[0.708108562890604, 6.2401264818997655, 2.519627232631158, 2.016258514796891, 1.0340035472078597, 4.83976589933352, 5.798073541487674, 1.5712375594397483, 1.3715690789733797, 4.085496772999957, 5.589086659441182, 3.7094221140595347, -0.3674104244660312, 1.0857160093454226, 1.1826675913047011, 1.0727448581426238]\n",
      "[1.1557826031713798, 5.792452441618989, 2.967301272911934, 1.568584474516115, 1.4816775874886357, 5.287439939614297, 5.350399501206898, 2.018911599720524, 1.8192431192541556, 3.6378227327191817, 5.1414126191604055, 3.261748073778759, 0.08026361581474467, 0.6380419690646466, 1.630341631585477, 1.5204188984233997]\n",
      "[1.1817339636669004, 5.81840380211451, 2.9932526334074545, 1.5945358350116356, 1.455726226993115, 5.313391300109817, 5.376350861702418, 2.0448629602160446, 1.8451944797496762, 3.611871372223661, 5.115461258664885, 3.2357967132832384, 0.10621497631026536, 0.6639933295601673, 1.6043902710899565, 1.4944675379278791]\n"
     ]
    },
    {
     "data": {
      "text/plain": [
       "     fun: -1.5185546875\n",
       " message: 'Optimization terminated successfully.'\n",
       "    nfev: 10\n",
       "     nit: 5\n",
       " success: True\n",
       "       x: array([1.18173396, 5.8184038 , 2.99325263, 1.59453584, 1.45572623,\n",
       "       5.3133913 , 5.37635086, 2.04486296, 1.84519448, 3.61187137,\n",
       "       5.11546126, 3.23579671, 0.10621498, 0.66399333, 1.60439027,\n",
       "       1.49446754])"
      ]
     },
     "execution_count": 9,
     "metadata": {},
     "output_type": "execute_result"
    }
   ],
   "source": [
    "# Execute the main routine for our simple two-qubit Hamiltonian H, and perform 5 iterations of the SPSA solver.\n",
    "main(backend, msg, H, optimizer_config={'maxiter': 5})"
   ]
  },
  {
   "cell_type": "markdown",
   "id": "1460bc50",
   "metadata": {},
   "source": [
    "Having executed the above, we see that there are 5 parameter arrays returned, one for each callback, along with the final optimization result.  The parameter arrays are the interim results, and the `UserMessenger` object prints these values to the cell output.  The output itself is the answer we obtained, expressed as a SciPy `OptimizerResult` object."
   ]
  },
  {
   "cell_type": "markdown",
   "id": "d5d0151f",
   "metadata": {},
   "source": [
    "## Program metadata\n",
    "\n",
    "Program metadata is essentially the docstring for a runtime program.  It describes overall program information such as the program `name`, `description`, `version`, and the `max_execution_time` the program is allowed to run, as well as details the inputs and the outputs the program expects.  At a bare minimum the values described above are required:"
   ]
  },
  {
   "cell_type": "code",
   "execution_count": 10,
   "id": "2b3aa8f2",
   "metadata": {},
   "outputs": [],
   "source": [
    "meta = {\n",
    "  \"name\": \"sample-vqe\",\n",
    "  \"description\": \"A sample VQE program.\",\n",
    "  \"max_execution_time\": 100000,\n",
    "  \"version\": \"1.0\",\n",
    "}"
   ]
  },
  {
   "cell_type": "markdown",
   "id": "be4e4dd2",
   "metadata": {},
   "source": [
    "It is important to set the `max_execution_time` high enough so that your program does not get terminated unexpectedly.  Additionally, one should make sure that interim results are sent back to the user so that, if something does happen, the user can start where they left off.\n",
    "\n",
    "It is, however, good form to detail the parameters and return types, as well as interim results.  That being said, if making a runtime intended to be used by others, this information would also likely be mirrored in the signature of a function or class that the user would interact with directly; end users should not directly call runtime programs.  We will see why below.  Nevertheless, let us add to our metadata.  First, the `parameters` section details the inputs the user is able to pass:"
   ]
  },
  {
   "cell_type": "code",
   "execution_count": 11,
   "id": "d10c1b1a",
   "metadata": {},
   "outputs": [],
   "source": [
    "meta[\"parameters\"] = [\n",
    "    {\"name\": \"hamiltonian\", \"description\": \"Hamiltonian whose ground state we want to find.\", \"type\": \"list\", \"required\": True},\n",
    "    {\"name\": \"ansatz\", \"description\": \"Name of ansatz quantum circuit to use, default='EfficientSU2'\", \"type\": \"str\", \"required\": False},\n",
    "    {\"name\": \"ansatz_config\", \"description\": \"Configuration parameters for the ansatz circuit.\", \"type\": \"dict\", \"required\": False},\n",
    "    {\"name\": \"x0\", \"description\": \"Initial vector of parameters.\", \"type\": \"ndarray\", \"required\": False},\n",
    "    {\"name\": \"optimizer\", \"description\": \"Classical optimizer to use, default='SPSA'.\", \"type\": \"str\", \"required\": False},\n",
    "    {\"name\": \"optimizer_config\", \"description\": \"Configuration parameters for the optimizer.\", \"type\": \"dict\", \"required\": False},\n",
    "    {\"name\": \"shots\", \"description\": \"Number of shots to take per circuit.\", \"type\": \"int\", \"required\": False},\n",
    "    {\"name\": \"use_measurement_mitigation\", \"description\": \"Use measurement mitigation, default=False.\", \"type\": \"bool\", \"required\": False}\n",
    "  ]"
   ]
  },
  {
   "cell_type": "markdown",
   "id": "0ee9bb79",
   "metadata": {},
   "source": [
    "Next, the `return_values` section tells about the return types:"
   ]
  },
  {
   "cell_type": "code",
   "execution_count": 12,
   "id": "404e6d1b",
   "metadata": {},
   "outputs": [],
   "source": [
    "meta['return_values'] = [\n",
    "    {\"name\": \"result\", \"description\": \"Final result in SciPy optimizer format.\", \"type\": \"OptimizeResult\"}\n",
    "  ]"
   ]
  },
  {
   "cell_type": "markdown",
   "id": "affde208",
   "metadata": {},
   "source": [
    "and finally let us specify what comes back when an interim result is returned:"
   ]
  },
  {
   "cell_type": "code",
   "execution_count": 13,
   "id": "99a56745",
   "metadata": {},
   "outputs": [],
   "source": [
    "meta[\"interim_results\"] = [\n",
    "    {\"name\": \"params\", \"description\": \"Parameter vector at current optimization step\", \"type\": \"ndarray\"},\n",
    "  ]"
   ]
  },
  {
   "cell_type": "markdown",
   "id": "c55bbf04",
   "metadata": {},
   "source": [
    "## Uploading the program\n",
    "\n",
    "We now have all the ingredients needed to upload our program.  To do so we need to collect all of our code in one file, here called `sample_vqe.py` for uploading.  This limitation will be removed in later versions of Qiskit Runtime.  Alternatively, if the entire code is contained within a single Jupyter notebook cell, this can be done using the magic function\n",
    "\n",
    "```\n",
    "%%writefile my_program.py\n",
    "```\n",
    "\n",
    "To actually upload the program we need to get a Provider from our IBM Quantum account:"
   ]
  },
  {
   "cell_type": "code",
   "execution_count": 14,
   "id": "9166cb5a",
   "metadata": {},
   "outputs": [
    {
     "data": {
      "text/plain": [
       "<AccountProvider for IBMQ(hub='ibm-q', group='open', project='main')>"
      ]
     },
     "execution_count": 14,
     "metadata": {},
     "output_type": "execute_result"
    }
   ],
   "source": [
    "from qiskit import IBMQ\n",
    "IBMQ.load_account()"
   ]
  },
  {
   "cell_type": "code",
   "execution_count": 15,
   "id": "c2da132b",
   "metadata": {},
   "outputs": [],
   "source": [
    "provider = IBMQ.get_provider(group='deployed')"
   ]
  },
  {
   "cell_type": "markdown",
   "id": "cf539336",
   "metadata": {},
   "source": [
    "### Program upload\n",
    "\n",
    "The call to `program_upload` takes the target Python file as `data` and the metadata as inputs. **If you have already uploaded the program this will raise an error and you must delete it first to continue**."
   ]
  },
  {
   "cell_type": "code",
   "execution_count": 17,
   "id": "46ce62a5",
   "metadata": {},
   "outputs": [
    {
     "data": {
      "text/plain": [
       "'sample-vqe'"
      ]
     },
     "execution_count": 17,
     "metadata": {},
     "output_type": "execute_result"
    }
   ],
   "source": [
    "program_id = provider.runtime.upload_program(data='sample_vqe.py', metadata=meta)\n",
    "program_id"
   ]
  },
  {
   "cell_type": "markdown",
   "id": "0d73dc6e",
   "metadata": {},
   "source": [
    "Here the returned `program_id` is the same as the program `name` given in the metadata.  You cannot have more than one program with the same `name` and `program_id`.  The `program_id` is how you should reference your program."
   ]
  },
  {
   "cell_type": "markdown",
   "id": "375651ac",
   "metadata": {},
   "source": [
    "### Program information\n",
    "\n",
    "We can query the program for information and see that our metadata is correctly being attached:"
   ]
  },
  {
   "cell_type": "code",
   "execution_count": 18,
   "id": "0e08a4d0",
   "metadata": {},
   "outputs": [
    {
     "name": "stdout",
     "output_type": "stream",
     "text": [
      "sample-vqe:\n",
      "  Name: sample-vqe\n",
      "  Description: A sample VQE program.\n",
      "  Version: 1.0\n",
      "  Creation date: 2021-10-06T16:35:05.000000\n",
      "  Max execution time: 100000\n",
      "  Input parameters:\n",
      "    - hamiltonian:\n",
      "      Description: Hamiltonian whose ground state we want to find.\n",
      "      Type: list\n",
      "      Required: True\n",
      "    - ansatz:\n",
      "      Description: Name of ansatz quantum circuit to use, default='EfficientSU2'\n",
      "      Type: str\n",
      "      Required: False\n",
      "    - ansatz_config:\n",
      "      Description: Configuration parameters for the ansatz circuit.\n",
      "      Type: dict\n",
      "      Required: False\n",
      "    - x0:\n",
      "      Description: Initial vector of parameters.\n",
      "      Type: ndarray\n",
      "      Required: False\n",
      "    - optimizer:\n",
      "      Description: Classical optimizer to use, default='SPSA'.\n",
      "      Type: str\n",
      "      Required: False\n",
      "    - optimizer_config:\n",
      "      Description: Configuration parameters for the optimizer.\n",
      "      Type: dict\n",
      "      Required: False\n",
      "    - shots:\n",
      "      Description: Number of shots to take per circuit.\n",
      "      Type: int\n",
      "      Required: False\n",
      "    - use_measurement_mitigation:\n",
      "      Description: Use measurement mitigation, default=False.\n",
      "      Type: bool\n",
      "      Required: False\n",
      "  Interim results:\n",
      "    - params:\n",
      "      Description: Parameter vector at current optimization step\n",
      "      Type: ndarray\n",
      "  Returns:\n",
      "    - result:\n",
      "      Description: Final result in SciPy optimizer format.\n",
      "      Type: OptimizeResult\n"
     ]
    }
   ],
   "source": [
    "prog = provider.runtime.program(program_id)\n",
    "print(prog)"
   ]
  },
  {
   "cell_type": "markdown",
   "id": "70a9e564",
   "metadata": {},
   "source": [
    "### Deleting a program\n",
    "\n",
    "If you make a mistake and need to delete and/or re-upload the program, you can run the following, passing the `program_id`:"
   ]
  },
  {
   "cell_type": "code",
   "execution_count": 16,
   "id": "ec56e36b",
   "metadata": {},
   "outputs": [],
   "source": [
    "#provider.runtime.delete_program(program_id)"
   ]
  },
  {
   "cell_type": "markdown",
   "id": "4025eb01",
   "metadata": {},
   "source": [
    "## Running the program\n",
    "\n",
    "### Specify parameters\n",
    "\n",
    "To run the program we need to specify the `options` that are used in the runtime environment (not the program variables).  At present, only the `backend_name` is required."
   ]
  },
  {
   "cell_type": "code",
   "execution_count": 19,
   "id": "2efca1b3",
   "metadata": {},
   "outputs": [],
   "source": [
    "backend = provider.backend.ibmq_qasm_simulator\n",
    "options = {'backend_name': backend.name()}"
   ]
  },
  {
   "cell_type": "markdown",
   "id": "c8b0b300",
   "metadata": {},
   "source": [
    "The `inputs` dictionary is used to pass arguments to the `main` function itself.  For example:"
   ]
  },
  {
   "cell_type": "code",
   "execution_count": 20,
   "id": "381794fa",
   "metadata": {},
   "outputs": [],
   "source": [
    "inputs = {}\n",
    "inputs['hamiltonian'] = H\n",
    "inputs['optimizer_config']={'maxiter': 10}"
   ]
  },
  {
   "cell_type": "markdown",
   "id": "8443e1ae",
   "metadata": {},
   "source": [
    "### Execute the program\n",
    "\n",
    "We now can execute the program and grab the result."
   ]
  },
  {
   "cell_type": "code",
   "execution_count": 21,
   "id": "3b419193",
   "metadata": {},
   "outputs": [],
   "source": [
    "job = provider.runtime.run(program_id, options=options, inputs=inputs)"
   ]
  },
  {
   "cell_type": "code",
   "execution_count": 22,
   "id": "0addcac0",
   "metadata": {},
   "outputs": [
    {
     "data": {
      "text/plain": [
       "{'fun': -1.7041015625,\n",
       " 'x': array([5.48641333, 5.29481314, 1.94736362, 3.66657466, 1.43831538,\n",
       "        3.45048577, 2.55682838, 5.17384303, 3.32676072, 1.98927237,\n",
       "        1.45631183, 2.30776481, 0.747845  , 2.59320525, 1.88153096,\n",
       "        1.83551349]),\n",
       " 'nit': 10,\n",
       " 'nfev': 20,\n",
       " 'message': 'Optimization terminated successfully.',\n",
       " 'success': True}"
      ]
     },
     "execution_count": 22,
     "metadata": {},
     "output_type": "execute_result"
    }
   ],
   "source": [
    "job.result()"
   ]
  },
  {
   "cell_type": "markdown",
   "id": "9e6e0ec0",
   "metadata": {},
   "source": [
    "A few things need to be pointed out. First, we did not get back any interim results, and second, the return object is a plain dictionary.  This is because we did not listen for the return results, and we did not tell the job how to format the return result."
   ]
  },
  {
   "cell_type": "markdown",
   "id": "917857da",
   "metadata": {},
   "source": [
    "### Listening for interim results\n",
    "\n",
    "To listen for interm results we need to pass a callback function to `provider.runtime.run` that stores the results.  The callback takes two arguments `job_id` and the returned data:"
   ]
  },
  {
   "cell_type": "code",
   "execution_count": 23,
   "id": "358bdc84",
   "metadata": {},
   "outputs": [],
   "source": [
    "interm_results = []\n",
    "def vqe_callback(job_id, data):\n",
    "    interm_results.append(data)"
   ]
  },
  {
   "cell_type": "markdown",
   "id": "9ed2dabd",
   "metadata": {},
   "source": [
    "Executing again we get:"
   ]
  },
  {
   "cell_type": "code",
   "execution_count": 24,
   "id": "34b61c28",
   "metadata": {},
   "outputs": [],
   "source": [
    "job2 = provider.runtime.run(program_id, options=options, inputs=inputs, callback=vqe_callback)"
   ]
  },
  {
   "cell_type": "code",
   "execution_count": 25,
   "id": "8d331f69",
   "metadata": {},
   "outputs": [
    {
     "data": {
      "text/plain": [
       "{'fun': -1.51806640625,\n",
       " 'x': array([3.97398119, 5.93481711, 1.48784258, 1.00201616, 3.86435761,\n",
       "        2.2892097 , 4.99677643, 2.92384204, 2.28391397, 4.92760363,\n",
       "        3.87555485, 2.46378704, 5.36551257, 5.23483398, 1.39751033,\n",
       "        3.49051556]),\n",
       " 'nit': 10,\n",
       " 'nfev': 20,\n",
       " 'message': 'Optimization terminated successfully.',\n",
       " 'success': True}"
      ]
     },
     "execution_count": 25,
     "metadata": {},
     "output_type": "execute_result"
    }
   ],
   "source": [
    "job2.result()"
   ]
  },
  {
   "cell_type": "code",
   "execution_count": 26,
   "id": "e83bf7ba",
   "metadata": {},
   "outputs": [
    {
     "name": "stdout",
     "output_type": "stream",
     "text": [
      "[[4.250790609575883, 5.344832078651422, 1.604530561315992, 1.729114029453097, 3.6831803228305633, 1.6171159690574806, 5.555981735513656, 2.155046619871, 1.877278498652554, 4.760861746303351, 4.635800743123114, 2.916319399066078, 4.151890772551669, 4.998652553876574, 1.1866228828155627, 2.8806986175616807], [3.711960790326464, 5.883661897900841, 2.143360380565411, 1.1902842102036777, 4.2220101420799825, 2.1559457883068998, 5.017151916264237, 2.693876439120419, 2.416108317901973, 4.222031927053932, 4.096970923873695, 2.377489579816659, 4.690720591801088, 5.537482373125993, 1.725452702064982, 3.4195284368111], [3.881207420085515, 6.052908527659892, 1.9741137508063602, 1.3595308399627286, 4.391256771839034, 2.3251924180659507, 4.847905286505186, 2.86312306887947, 2.585354947661024, 4.391278556812983, 3.9277242941146437, 2.54673620957571, 4.859967221560139, 5.368235743366942, 1.556206072305931, 3.5887750665701508], [3.643404370520135, 5.8151054780945115, 1.73631070124098, 1.1217277903973484, 4.153453722273653, 2.0873893685005704, 5.085708336070566, 2.6253200193140898, 2.347551898095644, 4.629081606378364, 3.6899212445492635, 2.3089331600103296, 5.09777027112552, 5.606038792932322, 1.7940091218713112, 3.826578116135531], [3.610443383900105, 5.782144491474481, 1.7692716878610097, 1.1546887770173782, 4.120492735653623, 2.0544283818805407, 5.118669322690597, 2.6582810059341195, 2.3805128847156736, 4.662042592998394, 3.7228822311692933, 2.3418941466303593, 5.13073125774555, 5.573077806312292, 1.7610481352512815, 3.859539102755561], [3.6668875926825653, 5.725700282692022, 1.8257158966434697, 1.211132985799838, 4.176936944436083, 2.110872590663001, 5.175113531473056, 2.7147252147165797, 2.4369570934981337, 4.718486801780854, 3.666438022386833, 2.285449937847899, 5.18717546652801, 5.516633597529832, 1.7046039264688215, 3.8030948939731006], [3.6795345834508972, 5.738347273460353, 1.813068905875138, 1.1984859950315063, 4.189583935204414, 2.123519581431333, 5.162466540704725, 2.7273722054849117, 2.4496040842664657, 4.731133792549185, 3.679085013155165, 2.298096928616231, 5.199822457296341, 5.529280588298164, 1.6919569357004898, 3.8157418847414326], [3.743912828783185, 5.673969028128065, 1.7486906605428498, 1.2628642403637944, 4.125205689872126, 2.059141336099045, 5.226844786037013, 2.662993960152624, 2.5139823295987536, 4.666755547216897, 3.6147067678228773, 2.2337186832839433, 5.135444211964053, 5.464902342965876, 1.6275786903682017, 3.7513636394091447], [3.989371048311323, 5.919427247656203, 1.5032324410147115, 1.0174060208356561, 3.879747470343988, 2.304599555627183, 4.981386566508875, 2.908452179680762, 2.2685241100706155, 4.912213766745035, 3.8601649873510153, 2.4791769028120814, 5.380902431492191, 5.219444123437738, 1.3821204708400634, 3.5059054198810067], [3.9739811892567998, 5.934817106710726, 1.4878425819601884, 1.002016161781133, 3.8643576112894644, 2.2892096965726596, 4.996776425563398, 2.9238420387352853, 2.283913969125139, 4.927603625799558, 3.8755548464055387, 2.463787043757558, 5.365512572437668, 5.234833982492261, 1.3975103298945866, 3.4905155608264833]]\n"
     ]
    }
   ],
   "source": [
    "print(interm_results)"
   ]
  },
  {
   "cell_type": "markdown",
   "id": "43f69e8a",
   "metadata": {},
   "source": [
    "### Formatting the returned results\n",
    "\n",
    "In order to format the return results into the desired format, we need to specify a decoder.  This decoder must have a `decode` method that gets called to do the actual conversion.  In our case `OptimizeResult` is a simple sub-class of `dict` so the formatting is simple."
   ]
  },
  {
   "cell_type": "code",
   "execution_count": 27,
   "id": "ccdc7af3",
   "metadata": {},
   "outputs": [],
   "source": [
    "from qiskit.providers.ibmq.runtime import ResultDecoder\n",
    "from scipy.optimize import OptimizeResult\n",
    "\n",
    "class VQEResultDecoder(ResultDecoder):\n",
    "    @classmethod\n",
    "    def decode(cls, data):\n",
    "        data = super().decode(data)  # This is required to preformat the data returned.\n",
    "        return OptimizeResult(data)"
   ]
  },
  {
   "cell_type": "markdown",
   "id": "5e0f0aae",
   "metadata": {},
   "source": [
    "We can then use this when returning the job result:"
   ]
  },
  {
   "cell_type": "code",
   "execution_count": 28,
   "id": "951eed95",
   "metadata": {},
   "outputs": [
    {
     "data": {
      "text/plain": [
       "     fun: -1.446533203125\n",
       " message: 'Optimization terminated successfully.'\n",
       "    nfev: 20\n",
       "     nit: 10\n",
       " success: True\n",
       "       x: array([6.20139194, 1.44487526, 4.80969906, 3.95169717, 6.61564694,\n",
       "       4.5083935 , 3.3469375 , 4.46116919, 2.20733362, 2.76561795,\n",
       "       5.57917989, 3.66721291, 5.94231287, 2.13323392, 4.79632746,\n",
       "       5.51741218])"
      ]
     },
     "execution_count": 28,
     "metadata": {},
     "output_type": "execute_result"
    }
   ],
   "source": [
    "job3 = provider.runtime.run(program_id, options=options, inputs=inputs)\n",
    "job3.result(decoder=VQEResultDecoder)"
   ]
  },
  {
   "cell_type": "markdown",
   "id": "5ca7d039",
   "metadata": {},
   "source": [
    "## Simplifying program execution with wrapping functions\n",
    "\n",
    "While runtime programs are powerful and flexible, they are not the most friendly things to interact with.  Therefore, if your program is intended to be used by others, it is best to make wrapper functions and/or classes that simplify the user experience.  Moreover, such wrappers allow for validation of user inputs on the client side, which can quickly find errors that would otherwise be raised later during the execution process - something that might have taken hours waiting in queue to get to.\n",
    "\n",
    "Here we will make two helper routines.  First, a job wrapper that allows us to attach and retrieve the interim results directly from the job object itself, as well as decodes for us so that the end user need not worry about formatting the results themselves."
   ]
  },
  {
   "cell_type": "code",
   "execution_count": 29,
   "id": "c3460583",
   "metadata": {},
   "outputs": [],
   "source": [
    "class RuntimeJobWrapper():\n",
    "    \"\"\"A simple Job wrapper that attaches interm results directly to the job object itself\n",
    "    in the `interm_results attribute` via the `_callback` function.\n",
    "    \"\"\"\n",
    "    def __init__(self):\n",
    "        self._job = None\n",
    "        self._decoder = VQEResultDecoder\n",
    "        self.interm_results = []\n",
    "        \n",
    "    def _callback(self, job_id, xk):\n",
    "        \"\"\"The callback function that attaches interm results:\n",
    "        \n",
    "        Parameters:\n",
    "            job_id (str): The job ID.\n",
    "            xk (array_like): A list or NumPy array to attach.\n",
    "        \"\"\"\n",
    "        self.interm_results.append(xk)\n",
    "        \n",
    "    def __getattr__(self, attr):\n",
    "        if attr == 'result':\n",
    "            return self.result\n",
    "        else:\n",
    "            if attr in dir(self._job):\n",
    "                return getattr(self._job, attr)\n",
    "            raise AttributeError(\"Class does not have {}.\".format(attr))\n",
    "        \n",
    "    def result(self):\n",
    "        \"\"\"Get the result of the job as a SciPy OptimizerResult object.\n",
    "        \n",
    "        This blocks until job is done, cancelled, or errors.\n",
    "        \n",
    "        Returns:\n",
    "            OptimizerResult: A SciPy optimizer result object.\n",
    "        \"\"\"\n",
    "        return self._job.result(decoder=self._decoder)"
   ]
  },
  {
   "cell_type": "markdown",
   "id": "0f336b6d",
   "metadata": {},
   "source": [
    "Next, we create the actual function we want users to call to execute our program.  To this function we will add a series of simple validation checks (not all checks will be done for simplicity), as well as use the job wrapper defined above to simply the output."
   ]
  },
  {
   "cell_type": "code",
   "execution_count": 30,
   "id": "aa386027",
   "metadata": {},
   "outputs": [],
   "source": [
    "import qiskit.circuit.library.n_local as lib_local\n",
    "\n",
    "def vqe_runner(backend, hamiltonian,\n",
    "               ansatz='EfficientSU2', ansatz_config={},\n",
    "               x0=None, optimizer='SPSA',\n",
    "               optimizer_config={'maxiter': 100},\n",
    "               shots = 8192,\n",
    "               use_measurement_mitigation=False):\n",
    "    \n",
    "    \"\"\"Routine that executes a given VQE problem via the sample-vqe program on the target backend.\n",
    "    \n",
    "    Parameters:\n",
    "        backend (ProgramBackend): Qiskit backend instance.\n",
    "        hamiltonian (list): Hamiltonian whose ground state we want to find.\n",
    "        ansatz (str): Optional, name of ansatz quantum circuit to use, default='EfficientSU2'\n",
    "        ansatz_config (dict): Optional, configuration parameters for the ansatz circuit.\n",
    "        x0 (array_like): Optional, initial vector of parameters.\n",
    "        optimizer (str): Optional, string specifying classical optimizer, default='SPSA'.\n",
    "        optimizer_config (dict): Optional, configuration parameters for the optimizer.\n",
    "        shots (int): Optional, number of shots to take per circuit.\n",
    "        use_measurement_mitigation (bool): Optional, use measurement mitigation, default=False.\n",
    "        \n",
    "    Returns:\n",
    "        OptimizeResult: The result in SciPy optimization format.  \n",
    "    \"\"\"\n",
    "    options = {'backend_name': backend.name()}\n",
    "    \n",
    "    inputs = {}\n",
    "    \n",
    "    # Validate Hamiltonian is correct\n",
    "    num_qubits = len(H[0][1])\n",
    "    for idx, ham in enumerate(hamiltonian):\n",
    "        if len(ham[1]) != num_qubits:\n",
    "            raise ValueError('Number of qubits in Hamiltonian term {} does not match {}'.format(idx,\n",
    "                                                                                                num_qubits))\n",
    "    inputs['hamiltonian'] = hamiltonian\n",
    "    \n",
    "    # Validate ansatz is in the module\n",
    "    ansatz_circ = getattr(lib_local, ansatz, None)\n",
    "    if not ansatz_circ:\n",
    "        raise ValueError('Ansatz {} not in n_local circuit library.'.format(ansatz))\n",
    "        \n",
    "    inputs['ansatz'] = ansatz\n",
    "    inputs['ansatz_config'] = ansatz_config\n",
    "    \n",
    "    # If given x0, validate its length against num_params in ansatz:\n",
    "    if x0:\n",
    "        x0 = np.asarray(x0)\n",
    "        ansatz_circ = ansatz_circ(num_qubits, **ansatz_config)\n",
    "        num_params = ansatz_circ.num_parameters\n",
    "        if x0.shape[0] != num_params:\n",
    "            raise ValueError('Length of x0 {} does not match number of params in ansatz {}'.format(x0.shape[0],\n",
    "                                                                                                   num_params))\n",
    "    inputs['x0'] = x0\n",
    "    \n",
    "    # Set the rest of the inputs\n",
    "    inputs['optimizer'] = optimizer\n",
    "    inputs['optimizer_config'] = optimizer_config\n",
    "    inputs['shots'] = shots\n",
    "    inputs['use_measurement_mitigation'] = use_measurement_mitigation\n",
    "    \n",
    "    rt_job = RuntimeJobWrapper()\n",
    "    job = provider.runtime.run('sample-vqe', options=options, inputs=inputs, callback=rt_job._callback)\n",
    "    rt_job._job = job\n",
    "    \n",
    "    return rt_job\n",
    "    "
   ]
  },
  {
   "cell_type": "markdown",
   "id": "d4c8982f",
   "metadata": {},
   "source": [
    "We can now execute our runtime program via this runner function:"
   ]
  },
  {
   "cell_type": "code",
   "execution_count": 31,
   "id": "8e81851d",
   "metadata": {},
   "outputs": [],
   "source": [
    "job4 = vqe_runner(backend, H, optimizer_config={'maxiter': 15})"
   ]
  },
  {
   "cell_type": "code",
   "execution_count": 32,
   "id": "9bf5499c",
   "metadata": {},
   "outputs": [
    {
     "data": {
      "text/plain": [
       "     fun: -0.9384765625\n",
       " message: 'Optimization terminated successfully.'\n",
       "    nfev: 30\n",
       "     nit: 15\n",
       " success: True\n",
       "       x: array([ 4.51907826,  5.27223811,  3.91595188,  2.96827229,  4.72345222,\n",
       "       -1.50412337,  1.70661237,  3.43154   ,  4.88147756,  1.34614751,\n",
       "        2.59952558,  0.13369082,  1.32651411,  5.801332  ,  4.4509297 ,\n",
       "        3.44059551])"
      ]
     },
     "execution_count": 32,
     "metadata": {},
     "output_type": "execute_result"
    }
   ],
   "source": [
    "job4.result()"
   ]
  },
  {
   "cell_type": "markdown",
   "id": "ef281bc5",
   "metadata": {},
   "source": [
    "The interim results are now attached to the job `interm_results` attribute and, as expected, we see that the length matches the number of iterations performed."
   ]
  },
  {
   "cell_type": "code",
   "execution_count": 33,
   "id": "958dbc84",
   "metadata": {},
   "outputs": [
    {
     "data": {
      "text/plain": [
       "15"
      ]
     },
     "execution_count": 33,
     "metadata": {},
     "output_type": "execute_result"
    }
   ],
   "source": [
    "len(job4.interm_results)"
   ]
  },
  {
   "cell_type": "markdown",
   "id": "dd78b903",
   "metadata": {},
   "source": [
    "## Conclusion\n",
    "\n",
    "We have demonstrated how to create, upload, and use a custom Qiskit Runtime by creating our own VQE solver from scratch.  This tutorial was meant to touch upon every aspect of the process for a real-world example.  Within the current limitations of the runtime environment, this example should enable readers to develop their own single-file runtime program.  This program is also a good starting point for exploring additional flavors of VQE runtime.  For example, it is straightforward to vary the number of shots per iteration, increasing shots as the number of iterations increases.  Those looking to go deeper can consider implimenting an [adaptive VQE](https://doi.org/10.1038/s41467-019-10988-2), where the ansatz is not fixed at initialization."
   ]
  },
  {
   "cell_type": "markdown",
   "id": "0a7a50d4",
   "metadata": {},
   "source": [
    "## Appendix A\n",
    "\n",
    "Here we code a simple simultaneous perturbation stochastic approximation (SPSA) optimizer for use on noisy quantum systems.  Most optimizers do not handle fluctuating cost functions well, so this is a needed addition for executing on real quantum hardware."
   ]
  },
  {
   "cell_type": "code",
   "execution_count": 4,
   "id": "9d8788af",
   "metadata": {},
   "outputs": [],
   "source": [
    "import numpy as np\n",
    "from scipy.optimize import OptimizeResult\n",
    "\n",
    "def fmin_spsa(func, x0, args=(), maxiter=100,\n",
    "              a=1.0, alpha=0.602, c=1.0, gamma=0.101,\n",
    "              callback=None):\n",
    "    \"\"\"\n",
    "    Minimization of scalar function of one or more variables using simultaneous\n",
    "    perturbation stochastic approximation (SPSA).\n",
    "\n",
    "    Parameters:\n",
    "        func (callable): The objective function to be minimized.\n",
    "\n",
    "                          ``fun(x, *args) -> float``\n",
    "\n",
    "                          where x is an 1-D array with shape (n,) and args is a\n",
    "                          tuple of the fixed parameters needed to completely \n",
    "                          specify the function.\n",
    "\n",
    "        x0 (ndarray): Initial guess. Array of real elements of size (n,), \n",
    "                      where ‘n’ is the number of independent variables.\n",
    "      \n",
    "        maxiter (int): Maximum number of iterations.  The number of function\n",
    "                       evaluations is twice as many. Optional.\n",
    "\n",
    "        a (float): SPSA gradient scaling parameter. Optional.\n",
    "\n",
    "        alpha (float): SPSA gradient scaling exponent. Optional.\n",
    "\n",
    "        c (float):  SPSA step size scaling parameter. Optional.\n",
    "        \n",
    "        gamma (float): SPSA step size scaling exponent. Optional.\n",
    "\n",
    "        callback (callable): Function that accepts the current parameter vector\n",
    "                             as input.\n",
    "\n",
    "    Returns:\n",
    "        OptimizeResult: Solution in SciPy Optimization format.\n",
    "\n",
    "    Notes:\n",
    "        See the `SPSA homepage <https://www.jhuapl.edu/SPSA/>`_ for usage and\n",
    "        additional extentions to the basic version implimented here.\n",
    "    \"\"\"\n",
    "    A = 0.01 * maxiter\n",
    "    x0 = np.asarray(x0)\n",
    "    x = x0\n",
    "\n",
    "    for kk in range(maxiter):\n",
    "        ak = a*(kk+1.0+A)**-alpha\n",
    "        ck = c*(kk+1.0)**-gamma\n",
    "        # Bernoulli distribution for randoms\n",
    "        deltak =  2*np.random.randint(2, size=x.shape[0])-1\n",
    "        grad = (func(x + ck*deltak, *args) - func(x - ck*deltak, *args))/(2*ck*deltak)\n",
    "        x -= ak*grad\n",
    "        \n",
    "        if callback is not None:\n",
    "            callback(x)\n",
    "\n",
    "    return OptimizeResult(fun=func(x, *args), x=x, nit=maxiter, nfev=2*maxiter, \n",
    "                          message='Optimization terminated successfully.',\n",
    "                          success=True)"
   ]
  },
  {
   "cell_type": "markdown",
   "id": "40b4d8c2",
   "metadata": {},
   "source": [
    "## Appendix B\n",
    "\n",
    "This is a helper function that converts the Pauli operators in the strings that define the Hamiltonian operators into the appropriate measurements at the end of the circuits.  For $X$ operators this involves adding an $H$ gate to the qubits to be measured, whereas a $Y$ operator needs $S^{+}$ followed by a $H$.  Other choices of Pauli operators require no additional gates prior to measurement."
   ]
  },
  {
   "cell_type": "code",
   "execution_count": 5,
   "id": "15654ed8",
   "metadata": {},
   "outputs": [],
   "source": [
    "def opstr_to_meas_circ(op_str):\n",
    "    \"\"\"Takes a list of operator strings and makes circuit with the correct post-rotations for measurements.\n",
    "\n",
    "    Parameters:\n",
    "        op_str (list): List of strings representing the operators needed for measurements.\n",
    "\n",
    "    Returns:\n",
    "        list: List of circuits for measurement post-rotations\n",
    "    \"\"\"\n",
    "    num_qubits = len(op_str[0])\n",
    "    circs = []\n",
    "    for op in op_str:\n",
    "        qc = QuantumCircuit(num_qubits)\n",
    "        for idx, item in enumerate(op):\n",
    "            if item == 'X':\n",
    "                qc.h(num_qubits-idx-1)\n",
    "            elif item == 'Y':\n",
    "                qc.sdg(num_qubits-idx-1)\n",
    "                qc.h(num_qubits-idx-1)\n",
    "        circs.append(qc)\n",
    "    return circs"
   ]
  },
  {
   "cell_type": "code",
   "execution_count": 6,
   "id": "715a3fec",
   "metadata": {},
   "outputs": [
    {
     "data": {
      "text/html": [
       "<div style='width: 100%; background-color:#d5d9e0;padding-left: 10px; padding-bottom: 10px; padding-right: 10px; padding-top: 5px'><h3>This code is a part of Qiskit</h3><p>&copy; Copyright IBM 2017, 2021.</p><p>This code is licensed under the Apache License, Version 2.0. You may<br>obtain a copy of this license in the LICENSE.txt file in the root directory<br> of this source tree or at http://www.apache.org/licenses/LICENSE-2.0.<p>Any modifications or derivative works of this code must retain this<br>copyright notice, and modified files need to carry a notice indicating<br>that they have been altered from the originals.</p></div>"
      ],
      "text/plain": [
       "<IPython.core.display.HTML object>"
      ]
     },
     "metadata": {},
     "output_type": "display_data"
    }
   ],
   "source": [
    "from qiskit.tools.jupyter import *\n",
    "%qiskit_copyright"
   ]
  },
  {
   "cell_type": "code",
   "execution_count": null,
   "id": "f8141d8a",
   "metadata": {},
   "outputs": [],
   "source": []
  }
 ],
 "metadata": {
  "kernelspec": {
   "display_name": "Python 3",
   "language": "python",
   "name": "python3"
  },
  "language_info": {
   "codemirror_mode": {
    "name": "ipython",
    "version": 3
   },
   "file_extension": ".py",
   "mimetype": "text/x-python",
   "name": "python",
   "nbconvert_exporter": "python",
   "pygments_lexer": "ipython3",
   "version": "3.9.6"
  }
 },
 "nbformat": 4,
 "nbformat_minor": 5
}
