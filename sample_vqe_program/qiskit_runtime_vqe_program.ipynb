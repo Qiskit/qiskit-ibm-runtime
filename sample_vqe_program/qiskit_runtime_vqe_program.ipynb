{
 "cells": [
  {
   "cell_type": "markdown",
   "metadata": {},
   "source": [
    "# Creating Custom Programs for Qiskit Runtime\n",
    "\n",
    "<p>\n",
    "<font size=\"4\" color=\"#0f62fe\">Paul Nation</font>\n",
    "</p>\n",
    "<p>\n",
    "<font size=\"3\" color=\"#0f62fe\">IBM Quantum Partners Technical Enablement Team</font>\n",
    "</p>\n",
    "\n",
    "Here we will demonstrate how to create, upload, and use a custom Program for Qiskit Runtime.  As the utility of the Runtime execution engine lies in its ability to execute many quantum circuits with low latencies, this tutorial will show how to create your own Variational Quantum Eigensolver (VQE) program from scratch."
   ]
  },
  {
   "cell_type": "markdown",
   "metadata": {},
   "source": [
    "## Prerequisites\n",
    "\n",
    "- You must have Qiskit 0.30+ installed.\n",
    "- You must have an IBM Quantum account with the ability to upload a runtime program.  **Currently there is no way to know if you have runtime upload ability outside of an email from IBM**."
   ]
  },
  {
   "cell_type": "markdown",
   "metadata": {},
   "source": [
    "## Current limitations\n",
    "\n",
    "The runtime execution engine currently has the following limitations that must be kept in mind:\n",
    "\n",
    "- The Docker images used by the runtime include only Qiskit and its dependencies, with few exceptions.  One exception is the inclusion of the `mthree` measurement mitigation package.\n",
    "\n",
    "\n",
    "- For security reasons, the runtime cannot make internet calls outside of the environment.\n",
    "\n",
    "\n",
    "- Your runtime program name must not contain an underscore`_`, otherwise it will cause an error when you try to execute it.\n",
    "\n",
    "As Qiskit Runtime matures, these limitations will be removed."
   ]
  },
  {
   "cell_type": "markdown",
   "metadata": {},
   "source": [
    "## Simple VQE\n",
    "\n",
    "VQE is an hybrid quantum-classical optimization procedure that finds the lowest eigenstate and eigenenergy of a linear system defined by a given Hamiltonian of Pauli operators.  For example, consider the following two-qubit Hamiltonian:\n",
    "\n",
    "\n",
    "$$\n",
    "H = A X_{1}\\otimes X_{0} + A Y_{1}\\otimes Y_{0} + A Z_{1}\\otimes Z_{0},\n",
    "$$\n",
    "\n",
    "where $A$ is numerical coefficient and the subscripts label the qubits on which the operators act.  The zero index being farthest right is the ordering used in Qiskit.  The Pauli operators tell us which measurement basis to to use when measuring each of the qubits.\n",
    "\n",
    "We want to find the ground state (lowest energy state) of this Hamiltonian, and the associated eigenvector.  To do this we must start at a given initial state and iteratively vary the parameters that define this state using a classical optimizer, such that the computed energies of subsequent steps are nominally lower than those previously.  The parameterized state of the system is defined by an ansatz quantum circuit that should have non-zero support in the direction of the ground state.  Because in general we do not know the solution, the choice of ansatz circuit can be highly problem-specific with a form dictated by additional information. For further information about variational algorithms, we point the reader to [Nature Reviews Physics volume 3, 625 (2021)](https://doi.org/10.1038/s42254-021-00348-9).\n",
    "\n",
    "\n",
    "Thus we need at least the following inputs to create our VQE quantum program:\n",
    "\n",
    "1. A representation of the Hamiltonian that specifies the problem.\n",
    "\n",
    "\n",
    "2. A choice of parameterized ansatz circuit, and the ability to pass configuration options, if any.\n",
    "\n",
    "\n",
    "However, the following are also beneficial inputs that users might want to have:\n",
    "\n",
    "3. Add the ability to pass an initial state.\n",
    "\n",
    "\n",
    "4. Vary the number of shots that are taken.\n",
    "\n",
    "\n",
    "5. Ability to select which classical optimizer is used, and set configuraton values, if any. \n",
    "\n",
    "\n",
    "6. Ability to turn on and off measurement mitigation.\n"
   ]
  },
  {
   "cell_type": "markdown",
   "metadata": {},
   "source": [
    "## Specifying the form of the input values\n",
    "\n",
    "All inputs to runtime programs must be serializable objects.  That is to say, whatever you pass into a runtime program must be able to be converted to JSON format.  It is thus beneficial to keep inputs limited to basic data types and structures unless you have experience with custom object serialization, or they are common Qiskit types such as ``QuantumCircuit`` etc.  Fortunately, the VQE program described above can be made out of simple Python components.\n",
    "\n",
    "First, it is possible to represent any Hamiltonian using a list of values with each containing the numerical coefficeint for each term and the string representation for the Pauli operators.  For the above example, the ground state energy with $A=1$ is $-3$ and we can write it as:"
   ]
  },
  {
   "cell_type": "code",
   "execution_count": null,
   "metadata": {},
   "outputs": [],
   "source": [
    "H = [(1, 'XX'), (1, 'YY'), (1, 'ZZ')]"
   ]
  },
  {
   "cell_type": "markdown",
   "metadata": {},
   "source": [
    "Next we have to provide the ability to specify the parameterized Ansatz circuit.  Here we will take advange of the fact that many ansatz circuits are pre-defined in the Qiskit Circuit Library.  Examples can be found in the [N-local circuits section](https://qiskit.org/documentation/apidoc/circuit_library.html#n-local-circuits).\n",
    "\n",
    "We would like the user to be able to select between ansatz options such as: `NLocal`, `TwoLocal`, and `EfficientSU2`.  We could have the user pass the whole ansatz circuit to the program; however, in order to reduce the size of the upload we will pass the ansatz by name.  In the runtime program, we can take this name and get the class that it corresponds to from the library using, for example,  "
   ]
  },
  {
   "cell_type": "code",
   "execution_count": null,
   "metadata": {},
   "outputs": [],
   "source": [
    "import qiskit.circuit.library.n_local as lib_local\n",
    "\n",
    "ansatz = getattr(lib_local, 'EfficientSU2')"
   ]
  },
  {
   "cell_type": "markdown",
   "metadata": {},
   "source": [
    "For the ansatz configuration, we will pass a simple `dict` of values."
   ]
  },
  {
   "cell_type": "markdown",
   "metadata": {},
   "source": [
    "### Optionals \n",
    "\n",
    "- If we want to add the ability to pass an initial state, then we will need to add the ability to pass a 1D list/ NumPy array.  Because the number of parameters depends on the ansatz and its configuration, the user would have to know what ansatz they are doing ahead of time.\n",
    "\n",
    "\n",
    "- Selecting a number of shots requires simply passing an integer value.\n",
    "\n",
    "\n",
    "- Here we will allow selecting a classical optimizer by name from those in SciPy, and a `dict` of configuration parameters.  Note that for execution on an actual system, the noise inherent in today's quantum systems makes having a stochastic optimizer crucial to success.  SciPy does not have such a choice, and the one built into Qiskit is wrapped in such a manner as to make it difficult to use elsewhere.  As such, here we will use an SPSA optimizer written to match the style of those in SciPy.  This function is given in [Appendix A](#Appendix-A)."
   ]
  },
  {
   "cell_type": "markdown",
   "metadata": {},
   "source": [
    "- Finally, for measurement error mitigation we can simply pass a boolean (True/False) value."
   ]
  },
  {
   "cell_type": "markdown",
   "metadata": {},
   "source": [
    "## Main program\n",
    "\n",
    "We are now in a position to start building our main program.  However, before doing so we point out that it makes the code cleaner to make a separate fuction that takes strings of Pauli operators that define our Hamiltonian and convert them to a list of circuits with single-qubit gates that change the measurement basis for each qubit, if needed. This function is given in [Appendix B](#Appendix-B)."
   ]
  },
  {
   "cell_type": "markdown",
   "metadata": {},
   "source": [
    "### Required signature\n",
    "\n",
    "Every runtime program is defined via the `main` function, and must have the following input signature:\n",
    "\n",
    "```\n",
    "main(backend, user_message, *args, **kwargs)\n",
    "```\n",
    "\n",
    "where `backend` is the backend that the program is to be executed on, and `user_message` is the class by which interim (and possibly final) results are communicated back to the user.  After these two items, we add our program-specific arguments and keyword arguments."
   ]
  },
  {
   "cell_type": "markdown",
   "metadata": {},
   "source": [
    "### The main VQE program\n",
    "\n",
    "Here is the main program for our sample VQE.  What each element of the function does is written in the comments before the element appears."
   ]
  },
  {
   "cell_type": "code",
   "execution_count": null,
   "metadata": {},
   "outputs": [],
   "source": [
    "# Grab functions and modules from dependencies\n",
    "import numpy as np\n",
    "import scipy.optimize as opt\n",
    "from scipy.optimize import OptimizeResult\n",
    "import mthree\n",
    "\n",
    "# Grab functions and modules from Qiskit needed\n",
    "from qiskit import QuantumCircuit, transpile\n",
    "import qiskit.circuit.library.n_local as lib_local\n",
    "\n",
    "# The entrypoint for our Runtime Program\n",
    "def main(backend, user_messenger,\n",
    "         hamiltonian,\n",
    "         ansatz='EfficientSU2',\n",
    "         ansatz_config={},\n",
    "         x0=None,\n",
    "         optimizer='SPSA',\n",
    "         optimizer_config={'maxiter': 100},\n",
    "         shots = 8192,\n",
    "         use_measurement_mitigation=False\n",
    "        ):\n",
    "    \n",
    "    \"\"\"\n",
    "    The main sample VQE program.\n",
    "    \n",
    "    Parameters:\n",
    "        backend (ProgramBackend): Qiskit backend instance.\n",
    "        user_messenger (UserMessenger): Used to communicate with the\n",
    "                                        program user.\n",
    "        hamiltonian (list): Hamiltonian whose ground state we want to find.\n",
    "        ansatz (str): Optional, name of ansatz quantum circuit to use,\n",
    "                      default='EfficientSU2'\n",
    "        ansatz_config (dict): Optional, configuration parameters for the\n",
    "                              ansatz circuit.\n",
    "        x0 (array_like): Optional, initial vector of parameters.\n",
    "        optimizer (str): Optional, string specifying classical optimizer,\n",
    "                         default='SPSA'.\n",
    "        optimizer_config (dict): Optional, configuration parameters for the\n",
    "                                 optimizer.\n",
    "        shots (int): Optional, number of shots to take per circuit.\n",
    "        use_measurement_mitigation (bool): Optional, use measurement mitigation,\n",
    "                                           default=False.\n",
    "        \n",
    "    Returns:\n",
    "        OptimizeResult: The result in SciPy optimization format.  \n",
    "    \"\"\"\n",
    "    \n",
    "    # Split the Hamiltonian into two arrays, one for coefficients, the other for\n",
    "    # operator strings\n",
    "    coeffs = np.array([item[0] for item in hamiltonian], dtype=complex)\n",
    "    op_strings = [item[1] for item in hamiltonian]\n",
    "    # The number of qubits needed is given by the number of elements in the strings\n",
    "    # the defiune the Hamiltonian. Here we grab this data from the first element.\n",
    "    num_qubits = len(op_strings[0])\n",
    "    \n",
    "    # We grab the requested ansatz circuit class from the Qiskit circuit library\n",
    "    # n_local module and configure it using the number of qubits and options\n",
    "    # passed in the ansatz_config.\n",
    "    ansatz_instance = getattr(lib_local, ansatz)\n",
    "    ansatz_circuit = ansatz_instance(num_qubits, **ansatz_config)\n",
    "    \n",
    "    # Here we use our convenence function from Appendix B to get measurement circuits\n",
    "    # with the correct single-qubit rotation gates.\n",
    "    meas_circs = opstr_to_meas_circ(op_strings)\n",
    "    \n",
    "    # When computing the expectation value for the energy, we need to know if we\n",
    "    # evaluate a Z measurement or and identity measurement.  Here we take and X and Y\n",
    "    # operator in the strings and convert it to a Z since we added the rotations\n",
    "    # with the meas_circs.\n",
    "    meas_strings = [string.replace('X', 'Z').replace('Y', 'Z') for string in op_strings]\n",
    "    \n",
    "    # Take the ansatz circuits, add the single-qubit measurement basis rotations from\n",
    "    # meas_circs, and finally append the measurements themselves.\n",
    "    full_circs = [ansatz_circuit.compose(mcirc).measure_all(inplace=False) for mcirc in meas_circs]\n",
    "    \n",
    "    # Get the number of parameters in the ansatz circuit.\n",
    "    num_params = ansatz_circuit.num_parameters\n",
    "    \n",
    "    # Use a given initial state, if any, or do random initial state.\n",
    "    if x0:\n",
    "        x0 = np.asarray(x0, dtype=float)\n",
    "        if x0.shape[0] != num_params:\n",
    "            raise ValueError('Number of params in x0 ({}) does not match number \\\n",
    "                              of ansatz parameters ({})'. format(x0.shape[0],\n",
    "                                                                 num_params))\n",
    "    else:\n",
    "        x0 = 2*np.pi*np.random.rand(num_params)\n",
    "        \n",
    "    # Because we are in general targeting a real quantum system, our circuits must be transpiled\n",
    "    # to match the system topology and, hopefully, optimize them.\n",
    "    # Here we will set the transpiler to the most optimal settings where 'sabre' layout and\n",
    "    # routing are used, along with full O3 optimization.\n",
    "\n",
    "    # This works around a bug in Qiskit where Sabre routing fails for simulators (Issue #7098)\n",
    "    trans_dict = {}\n",
    "    if not backend.configuration().simulator:\n",
    "        trans_dict = {'layout_method': 'sabre', 'routing_method': 'sabre'}\n",
    "    trans_circs = transpile(full_circs, backend, optimization_level=3, **trans_dict)\n",
    "    \n",
    "    # If using measurement mitigation we need to find out which physical qubits our transpiled\n",
    "    # circuits actually measure, construct a mitigation object targeting our backend, and\n",
    "    # finally calibrate our mitgation by running calibration circuits on the backend.\n",
    "    if use_measurement_mitigation:\n",
    "        maps = mthree.utils.final_measurement_mapping(trans_circs)\n",
    "        mit = mthree.M3Mitigation(backend)\n",
    "        mit.cals_from_system(maps)\n",
    "    \n",
    "    # Here we define a callback function that will stream the optimizer parameter vector\n",
    "    # back to the user after each iteration.  This uses the `user_messenger` object.\n",
    "    # Here we convert to a list so that the return is user readable locally, but\n",
    "    # this is not required.\n",
    "    def callback(xk):\n",
    "        user_messenger.publish(list(xk))\n",
    "    \n",
    "    # This is the primary VQE function executed by the optimizer. This function takes the \n",
    "    # parameter vector as input and returns the energy evaluated using an ansatz circuit\n",
    "    # bound with those parameters.\n",
    "    def vqe_func(params):\n",
    "        # Attach (bind) parameters in params vector to the transpiled circuits.\n",
    "        bound_circs = [circ.bind_parameters(params) for circ in trans_circs]\n",
    "        \n",
    "        # Submit the job and get the resultant counts back\n",
    "        counts = backend.run(bound_circs, shots=shots).result().get_counts()\n",
    "        \n",
    "        # If using measurement mitigation apply the correction and\n",
    "        # compute expectation values from the resultant quasiprobabilities\n",
    "        # using the measurement strings.\n",
    "        if use_measurement_mitigation:\n",
    "            quasi_collection = mit.apply_correction(counts, maps)\n",
    "            expvals = quasi_collection.expval(meas_strings)\n",
    "        # If not doing any mitigation just compute expectation values\n",
    "        # from the raw counts using the measurement strings.\n",
    "        # Since Qiskit does not have such functionality we use the convenence\n",
    "        # function from the mthree mitigation module.\n",
    "        else:\n",
    "            expvals = mthree.utils.expval(counts, meas_strings)\n",
    "        \n",
    "        # The energy is computed by simply taking the product of the coefficients\n",
    "        # and the computed expectation values and summing them. Here we also\n",
    "        # take just the real part as the coefficients can possibly be complex,\n",
    "        # but the energy (eigenvalue) of a Hamiltonian is always real.\n",
    "        energy = np.sum(coeffs*expvals).real\n",
    "        return energy\n",
    "    \n",
    "    # Here is where we actually perform the computation.  We begin by seeing what\n",
    "    # optimization routine the user has requested, eg. SPSA verses SciPy ones,\n",
    "    # and dispatch to the correct optimizer.  The selected optimizer starts at\n",
    "    # x0 and calls 'vqe_func' everytime the optimizer needs to evaluate the cost\n",
    "    # function.  The result is returned as a SciPy OptimizerResult object.\n",
    "    # Additionally, after every iteration, we use the 'callback' function to\n",
    "    # publish the interm results back to the user. This is important to do\n",
    "    # so that if the Program terminates unexpectedly, the user can start where they\n",
    "    # left off.\n",
    "    \n",
    "    # Since SPSA is not in SciPy need if statement\n",
    "    if optimizer == 'SPSA':\n",
    "        res = fmin_spsa(vqe_func, x0, args=(), **optimizer_config,\n",
    "                        callback=callback)\n",
    "    # All other SciPy optimizers here\n",
    "    else:\n",
    "        res = opt.minimize(vqe_func, x0, method=optimizer,\n",
    "                           options=optimizer_config, callback=callback)\n",
    "    # Return result. OptimizeResult is a subclass of dict.\n",
    "    return res"
   ]
  },
  {
   "cell_type": "markdown",
   "metadata": {},
   "source": [
    "## Local testing\n",
    "\n",
    "<div class=\"alert alert-block alert-info\">\n",
    "<b>Important:</b> You need to execute the code blocks in Appendices A and B before continuing.\n",
    "</div>\n",
    "\n",
    "We can test whether our routine works by simply calling the `main` function with a backend instance, a `UserMessenger`, and sample arguments."
   ]
  },
  {
   "cell_type": "code",
   "execution_count": null,
   "metadata": {},
   "outputs": [],
   "source": [
    "from qiskit.providers.ibmq.runtime import UserMessenger\n",
    "msg = UserMessenger()"
   ]
  },
  {
   "cell_type": "code",
   "execution_count": null,
   "metadata": {},
   "outputs": [],
   "source": [
    "# Use the local Aer simulator\n",
    "from qiskit import Aer\n",
    "backend = Aer.get_backend('qasm_simulator')"
   ]
  },
  {
   "cell_type": "code",
   "execution_count": null,
   "metadata": {
    "scrolled": false
   },
   "outputs": [],
   "source": [
    "# Execute the main routine for our simple two-qubit Hamiltonian H, and perform 5 iterations of the SPSA solver.\n",
    "main(backend, msg, H, optimizer_config={'maxiter': 5})"
   ]
  },
  {
   "cell_type": "markdown",
   "metadata": {},
   "source": [
    "Having executed the above, we see that there are 5 parameter arrays returned, one for each callback, along with the final optimization result.  The parameter arrays are the interim results, and the `UserMessenger` object prints these values to the cell output.  The output itself is the answer we obtained, expressed as a SciPy `OptimizerResult` object."
   ]
  },
  {
   "cell_type": "markdown",
   "metadata": {},
   "source": [
    "## Program metadata\n",
    "\n",
    "Program metadata is essentially the docstring for a runtime program.  It describes overall program information such as the program `name`, `description`, `version`, and the `max_execution_time` the program is allowed to run, as well as details the inputs and the outputs the program expects.  At a bare minimum the values described above are required:"
   ]
  },
  {
   "cell_type": "code",
   "execution_count": null,
   "metadata": {},
   "outputs": [],
   "source": [
    "meta = {\n",
    "  \"name\": \"sample-vqe\",\n",
    "  \"description\": \"A sample VQE program.\",\n",
    "  \"max_execution_time\": 100000,\n",
    "  \"version\": \"1.0\",\n",
    "}"
   ]
  },
  {
   "cell_type": "markdown",
   "metadata": {},
   "source": [
    "It is important to set the `max_execution_time` high enough so that your program does not get terminated unexpectedly.  Additionally, one should make sure that interim results are sent back to the user so that, if something does happen, the user can start where they left off.\n",
    "\n",
    "It is, however, good form to detail the parameters and return types, as well as interim results.  That being said, if making a runtime intended to be used by others, this information would also likely be mirrored in the signature of a function or class that the user would interact with directly; end users should not directly call runtime programs.  We will see why below.  Nevertheless, let us add to our metadata.  First, the `parameters` section details the inputs the user is able to pass:"
   ]
  },
  {
   "cell_type": "code",
   "execution_count": null,
   "metadata": {},
   "outputs": [],
   "source": [
    "meta[\"parameters\"] = [\n",
    "    {\"name\": \"hamiltonian\", \"description\": \"Hamiltonian whose ground state we want to find.\", \"type\": \"list\", \"required\": True},\n",
    "    {\"name\": \"ansatz\", \"description\": \"Name of ansatz quantum circuit to use, default='EfficientSU2'\", \"type\": \"str\", \"required\": False},\n",
    "    {\"name\": \"ansatz_config\", \"description\": \"Configuration parameters for the ansatz circuit.\", \"type\": \"dict\", \"required\": False},\n",
    "    {\"name\": \"x0\", \"description\": \"Initial vector of parameters.\", \"type\": \"ndarray\", \"required\": False},\n",
    "    {\"name\": \"optimizer\", \"description\": \"Classical optimizer to use, default='SPSA'.\", \"type\": \"str\", \"required\": False},\n",
    "    {\"name\": \"optimizer_config\", \"description\": \"Configuration parameters for the optimizer.\", \"type\": \"dict\", \"required\": False},\n",
    "    {\"name\": \"shots\", \"description\": \"Number of shots to take per circuit.\", \"type\": \"int\", \"required\": False},\n",
    "    {\"name\": \"use_measurement_mitigation\", \"description\": \"Use measurement mitigation, default=False.\", \"type\": \"bool\", \"required\": False}\n",
    "  ]"
   ]
  },
  {
   "cell_type": "markdown",
   "metadata": {},
   "source": [
    "Next, the `return_values` section tells about the return types:"
   ]
  },
  {
   "cell_type": "code",
   "execution_count": null,
   "metadata": {},
   "outputs": [],
   "source": [
    "meta['return_values'] = [\n",
    "    {\"name\": \"result\", \"description\": \"Final result in SciPy optimizer format.\", \"type\": \"OptimizeResult\"}\n",
    "  ]"
   ]
  },
  {
   "cell_type": "markdown",
   "metadata": {},
   "source": [
    "and finally let us specify what comes back when an interim result is returned:"
   ]
  },
  {
   "cell_type": "code",
   "execution_count": null,
   "metadata": {},
   "outputs": [],
   "source": [
    "meta[\"interim_results\"] = [\n",
    "    {\"name\": \"params\", \"description\": \"Parameter vector at current optimization step\", \"type\": \"ndarray\"},\n",
    "  ]"
   ]
  },
  {
   "cell_type": "markdown",
   "metadata": {},
   "source": [
    "## Uploading the program\n",
    "\n",
    "We now have all the ingredients needed to upload our program.  To do so we need to collect all of our code in one file, here called `sample_vqe.py` for uploading.  This limitation will be removed in later versions of Qiskit Runtime.  Alternatively, if the entire code is contained within a single Jupyter notebook cell, this can be done using the magic function\n",
    "\n",
    "```\n",
    "%%writefile my_program.py\n",
    "```\n",
    "\n",
    "To actually upload the program we need to get a Provider from our IBM Quantum account:"
   ]
  },
  {
   "cell_type": "code",
   "execution_count": null,
   "metadata": {},
   "outputs": [],
   "source": [
    "from qiskit import IBMQ\n",
    "IBMQ.load_account()"
   ]
  },
  {
   "cell_type": "code",
   "execution_count": null,
   "metadata": {},
   "outputs": [],
   "source": [
    "provider = IBMQ.get_provider(group='deployed')"
   ]
  },
  {
   "cell_type": "markdown",
   "metadata": {},
   "source": [
    "### Program upload\n",
    "\n",
    "The call to `program_upload` takes the target Python file as `data` and the metadata as inputs. **If you have already uploaded the program this will raise an error and you must delete it first to continue**."
   ]
  },
  {
   "cell_type": "code",
   "execution_count": null,
   "metadata": {},
   "outputs": [],
   "source": [
    "program_id = provider.runtime.upload_program(data='sample_vqe.py', metadata=meta)\n",
    "program_id"
   ]
  },
  {
   "cell_type": "markdown",
   "metadata": {},
   "source": [
    "Here the returned `program_id` is the same as the program `name` given in the metadata.  However, this need not be the case if there are multiple programs with the same name.  In that case, `program_id` is the unique identifier that needs to be used in calling the program later."
   ]
  },
  {
   "cell_type": "markdown",
   "metadata": {},
   "source": [
    "### Program information\n",
    "\n",
    "We can query the program for information and see that our metadata is correctly being attached:"
   ]
  },
  {
   "cell_type": "code",
   "execution_count": null,
   "metadata": {},
   "outputs": [],
   "source": [
    "prog = provider.runtime.program(program_id)\n",
    "print(prog)"
   ]
  },
  {
   "cell_type": "markdown",
   "metadata": {},
   "source": [
    "### Deleting a program\n",
    "\n",
    "If you make a mistake and need to delete and/or re-upload the program, you can run the following, passing the `program_id`:"
   ]
  },
  {
   "cell_type": "code",
   "execution_count": null,
   "metadata": {},
   "outputs": [],
   "source": [
    "#provider.runtime.delete_program(program_id)"
   ]
  },
  {
   "cell_type": "markdown",
   "metadata": {},
   "source": [
    "## Running the program\n",
    "\n",
    "### Specify parameters\n",
    "\n",
    "To run the program we need to specify the `options` that are used in the runtime environment (not the program variables).  At present, only the `backend_name` is required."
   ]
  },
  {
   "cell_type": "code",
   "execution_count": null,
   "metadata": {},
   "outputs": [],
   "source": [
    "backend = provider.backend.ibmq_qasm_simulator\n",
    "options = {'backend_name': backend.name()}"
   ]
  },
  {
   "cell_type": "markdown",
   "metadata": {},
   "source": [
    "The `inputs` dictionary is used to pass arguments to the `main` function itself.  For example:"
   ]
  },
  {
   "cell_type": "code",
   "execution_count": null,
   "metadata": {},
   "outputs": [],
   "source": [
    "inputs = {}\n",
    "inputs['hamiltonian'] = H\n",
    "inputs['optimizer_config']={'maxiter': 10}"
   ]
  },
  {
   "cell_type": "markdown",
   "metadata": {},
   "source": [
    "### Execute the program\n",
    "\n",
    "We now can execute the program and grab the result."
   ]
  },
  {
   "cell_type": "code",
   "execution_count": null,
   "metadata": {},
   "outputs": [],
   "source": [
    "job = provider.runtime.run(program_id, options=options, inputs=inputs)"
   ]
  },
  {
   "cell_type": "code",
   "execution_count": null,
   "metadata": {},
   "outputs": [],
   "source": [
    "job.result()"
   ]
  },
  {
   "cell_type": "markdown",
   "metadata": {},
   "source": [
    "A few things need to be pointed out. First, we did not get back any interim results, and second, the return object is a plain dictionary.  This is because we did not listen for the return results, and we did not tell the job how to format the return result."
   ]
  },
  {
   "cell_type": "markdown",
   "metadata": {},
   "source": [
    "### Listening for interim results\n",
    "\n",
    "To listen for interm results we need to pass a callback function to `provider.runtime.run` that stores the results.  The callback takes two arguments `job_id` and the returned data:"
   ]
  },
  {
   "cell_type": "code",
   "execution_count": null,
   "metadata": {},
   "outputs": [],
   "source": [
    "interm_results = []\n",
    "def vqe_callback(job_id, data):\n",
    "    interm_results.append(data)"
   ]
  },
  {
   "cell_type": "markdown",
   "metadata": {},
   "source": [
    "Executing again we get:"
   ]
  },
  {
   "cell_type": "code",
   "execution_count": null,
   "metadata": {},
   "outputs": [],
   "source": [
    "job2 = provider.runtime.run(program_id, options=options, inputs=inputs, callback=vqe_callback)"
   ]
  },
  {
   "cell_type": "code",
   "execution_count": null,
   "metadata": {},
   "outputs": [],
   "source": [
    "job2.result()"
   ]
  },
  {
   "cell_type": "code",
   "execution_count": null,
   "metadata": {},
   "outputs": [],
   "source": [
    "print(interm_results)"
   ]
  },
  {
   "cell_type": "markdown",
   "metadata": {},
   "source": [
    "### Formatting the returned results\n",
    "\n",
    "In order to format the return results into the desired format, we need to specify a decoder.  This decoder must have a `decode` method that gets called to do the actual conversion.  In our case `OptimizeResult` is a simple sub-class of `dict` so the formatting is simple."
   ]
  },
  {
   "cell_type": "code",
   "execution_count": null,
   "metadata": {},
   "outputs": [],
   "source": [
    "from qiskit.providers.ibmq.runtime import ResultDecoder\n",
    "from scipy.optimize import OptimizeResult\n",
    "\n",
    "class VQEResultDecoder(ResultDecoder):\n",
    "    @classmethod\n",
    "    def decode(cls, data):\n",
    "        data = super().decode(data)  # This is required to preformat the data returned.\n",
    "        return OptimizeResult(data)"
   ]
  },
  {
   "cell_type": "markdown",
   "metadata": {},
   "source": [
    "We can then use this when returning the job result:"
   ]
  },
  {
   "cell_type": "code",
   "execution_count": null,
   "metadata": {},
   "outputs": [],
   "source": [
    "job3 = provider.runtime.run(program_id, options=options, inputs=inputs)\n",
    "job3.result(decoder=VQEResultDecoder)"
   ]
  },
  {
   "cell_type": "markdown",
   "metadata": {},
   "source": [
    "## Simplifying program execution with wrapping functions\n",
    "\n",
    "While runtime programs are powerful and flexible, they are not the most friendly things to interact with.  Therefore, if your program is intended to be used by others, it is best to make wrapper functions and/or classes that simplify the user experience.  Moreover, such wrappers allow for validation of user inputs on the client side, which can quickly find errors that would otherwise be raised later during the execution process - something that might have taken hours waiting in queue to get to.\n",
    "\n",
    "Here we will make two helper routines.  First, a job wrapper that allows us to attach and retrieve the interim results directly from the job object itself, as well as decodes for us so that the end user need not worry about formatting the results themselves."
   ]
  },
  {
   "cell_type": "code",
   "execution_count": null,
   "metadata": {},
   "outputs": [],
   "source": [
    "class RuntimeJobWrapper():\n",
    "    \"\"\"A simple Job wrapper that attaches interm results directly to the job object itself\n",
    "    in the `interm_results attribute` via the `_callback` function.\n",
    "    \"\"\"\n",
    "    def __init__(self):\n",
    "        self._job = None\n",
    "        self._decoder = VQEResultDecoder\n",
    "        self.interm_results = []\n",
    "        \n",
    "    def _callback(self, job_id, xk):\n",
    "        \"\"\"The callback function that attaches interm results:\n",
    "        \n",
    "        Parameters:\n",
    "            job_id (str): The job ID.\n",
    "            xk (array_like): A list or NumPy array to attach.\n",
    "        \"\"\"\n",
    "        self.interm_results.append(xk)\n",
    "        \n",
    "    def __getattr__(self, attr):\n",
    "        if attr == 'result':\n",
    "            return self.result\n",
    "        else:\n",
    "            if attr in dir(self._job):\n",
    "                return getattr(self._job, attr)\n",
    "            raise AttributeError(\"Class does not have {}.\".format(attr))\n",
    "        \n",
    "    def result(self):\n",
    "        \"\"\"Get the result of the job as a SciPy OptimizerResult object.\n",
    "        \n",
    "        This blocks until job is done, cancelled, or errors.\n",
    "        \n",
    "        Returns:\n",
    "            OptimizerResult: A SciPy optimizer result object.\n",
    "        \"\"\"\n",
    "        return self._job.result(decoder=self._decoder)"
   ]
  },
  {
   "cell_type": "markdown",
   "metadata": {},
   "source": [
    "Next, we create the actual function we want users to call to execute our program.  To this function we will add a series of simple validation checks (not all checks will be done for simplicity), as well as use the job wrapper defined above to simply the output."
   ]
  },
  {
   "cell_type": "code",
   "execution_count": null,
   "metadata": {},
   "outputs": [],
   "source": [
    "import qiskit.circuit.library.n_local as lib_local\n",
    "\n",
    "def vqe_runner(backend, hamiltonian,\n",
    "               ansatz='EfficientSU2', ansatz_config={},\n",
    "               x0=None, optimizer='SPSA',\n",
    "               optimizer_config={'maxiter': 100},\n",
    "               shots = 8192,\n",
    "               use_measurement_mitigation=False):\n",
    "    \n",
    "    \"\"\"Routine that executes a given VQE problem via the sample-vqe program on the target backend.\n",
    "    \n",
    "    Parameters:\n",
    "        backend (ProgramBackend): Qiskit backend instance.\n",
    "        hamiltonian (list): Hamiltonian whose ground state we want to find.\n",
    "        ansatz (str): Optional, name of ansatz quantum circuit to use, default='EfficientSU2'\n",
    "        ansatz_config (dict): Optional, configuration parameters for the ansatz circuit.\n",
    "        x0 (array_like): Optional, initial vector of parameters.\n",
    "        optimizer (str): Optional, string specifying classical optimizer, default='SPSA'.\n",
    "        optimizer_config (dict): Optional, configuration parameters for the optimizer.\n",
    "        shots (int): Optional, number of shots to take per circuit.\n",
    "        use_measurement_mitigation (bool): Optional, use measurement mitigation, default=False.\n",
    "        \n",
    "    Returns:\n",
    "        OptimizeResult: The result in SciPy optimization format.  \n",
    "    \"\"\"\n",
    "    options = {'backend_name': backend.name()}\n",
    "    \n",
    "    inputs = {}\n",
    "    \n",
    "    # Validate Hamiltonian is correct\n",
    "    num_qubits = len(H[0][1])\n",
    "    for idx, ham in enumerate(hamiltonian):\n",
    "        if len(ham[1]) != num_qubits:\n",
    "            raise ValueError('Number of qubits in Hamiltonian term {} does not match {}'.format(idx,\n",
    "                                                                                                num_qubits))\n",
    "    inputs['hamiltonian'] = hamiltonian\n",
    "    \n",
    "    # Validate ansatz is in the module\n",
    "    ansatz_circ = getattr(lib_local, ansatz, None)\n",
    "    if not ansatz_circ:\n",
    "        raise ValueError('Ansatz {} not in n_local circuit library.'.format(ansatz))\n",
    "        \n",
    "    inputs['ansatz'] = ansatz\n",
    "    inputs['ansatz_config'] = ansatz_config\n",
    "    \n",
    "    # If given x0, validate its length against num_params in ansatz:\n",
    "    if x0:\n",
    "        x0 = np.asarray(x0)\n",
    "        ansatz_circ = ansatz_circ(num_qubits, **ansatz_config)\n",
    "        num_params = ansatz_circ.num_parameters\n",
    "        if x0.shape[0] != num_params:\n",
    "            raise ValueError('Length of x0 {} does not match number of params in ansatz {}'.format(x0.shape[0],\n",
    "                                                                                                   num_params))\n",
    "    inputs['x0'] = x0\n",
    "    \n",
    "    # Set the rest of the inputs\n",
    "    inputs['optimizer'] = optimizer\n",
    "    inputs['optimizer_config'] = optimizer_config\n",
    "    inputs['shots'] = shots\n",
    "    inputs['use_measurement_mitigation'] = use_measurement_mitigation\n",
    "    \n",
    "    rt_job = RuntimeJobWrapper()\n",
    "    job = provider.runtime.run('sample-vqe', options=options, inputs=inputs, callback=rt_job._callback)\n",
    "    rt_job._job = job\n",
    "    \n",
    "    return rt_job\n",
    "    "
   ]
  },
  {
   "cell_type": "markdown",
   "metadata": {},
   "source": [
    "We can now execute our runtime program via this runner function:"
   ]
  },
  {
   "cell_type": "code",
   "execution_count": null,
   "metadata": {},
   "outputs": [],
   "source": [
    "job4 = vqe_runner(backend, H, optimizer_config={'maxiter': 15})"
   ]
  },
  {
   "cell_type": "code",
   "execution_count": null,
   "metadata": {},
   "outputs": [],
   "source": [
    "job4.result()"
   ]
  },
  {
   "cell_type": "markdown",
   "metadata": {},
   "source": [
    "The interim results are now attached to the job `interm_results` attribute and, as expected, we see that the length matches the number of iterations performed."
   ]
  },
  {
   "cell_type": "code",
   "execution_count": null,
   "metadata": {},
   "outputs": [],
   "source": [
    "len(job4.interm_results)"
   ]
  },
  {
   "cell_type": "markdown",
   "metadata": {},
   "source": [
    "## Conclusion\n",
    "\n",
    "We have demonstrated how to create, upload, and use a custom Qiskit Runtime by creating our own VQE solver from scratch.  This tutorial was meant to touch upon every aspect of the process for a real-world example.  Within the current limitations of the runtime environment, this example should enable readers to develop their own single-file runtime program.  This program is also a good starting point for exploring additional flavors of VQE runtime.  For example, it is straightforward to vary the number of shots per iteration, increasing shots as the number of iterations increases.  Those looking to go deeper can consider implimenting an [adaptive VQE](https://doi.org/10.1038/s41467-019-10988-2), where the ansatz is not fixed at initialization."
   ]
  },
  {
   "cell_type": "markdown",
   "metadata": {},
   "source": [
    "## Appendix A\n",
    "\n",
    "Here we code a simple simultaneous perturbation stochastic approximation (SPSA) optimizer for use on noisy quantum systems.  Most optimizers do not handle fluctuating cost functions well, so this is a needed addition for executing on real quantum hardware."
   ]
  },
  {
   "cell_type": "code",
   "execution_count": null,
   "metadata": {},
   "outputs": [],
   "source": [
    "import numpy as np\n",
    "from scipy.optimize import OptimizeResult\n",
    "\n",
    "def fmin_spsa(func, x0, args=(), maxiter=100,\n",
    "              a=1.0, alpha=0.602, c=1.0, gamma=0.101,\n",
    "              callback=None):\n",
    "    \"\"\"\n",
    "    Minimization of scalar function of one or more variables using simultaneous\n",
    "    perturbation stochastic approximation (SPSA).\n",
    "\n",
    "    Parameters:\n",
    "        func (callable): The objective function to be minimized.\n",
    "\n",
    "                          ``fun(x, *args) -> float``\n",
    "\n",
    "                          where x is an 1-D array with shape (n,) and args is a\n",
    "                          tuple of the fixed parameters needed to completely \n",
    "                          specify the function.\n",
    "\n",
    "        x0 (ndarray): Initial guess. Array of real elements of size (n,), \n",
    "                      where ‘n’ is the number of independent variables.\n",
    "      \n",
    "        maxiter (int): Maximum number of iterations.  The number of function\n",
    "                       evaluations is twice as many. Optional.\n",
    "\n",
    "        a (float): SPSA gradient scaling parameter. Optional.\n",
    "\n",
    "        alpha (float): SPSA gradient scaling exponent. Optional.\n",
    "\n",
    "        c (float):  SPSA step size scaling parameter. Optional.\n",
    "        \n",
    "        gamma (float): SPSA step size scaling exponent. Optional.\n",
    "\n",
    "        callback (callable): Function that accepts the current parameter vector\n",
    "                             as input.\n",
    "\n",
    "    Returns:\n",
    "        OptimizeResult: Solution in SciPy Optimization format.\n",
    "\n",
    "    Notes:\n",
    "        See the `SPSA homepage <https://www.jhuapl.edu/SPSA/>`_ for usage and\n",
    "        additional extentions to the basic version implimented here.\n",
    "    \"\"\"\n",
    "    A = 0.01 * maxiter\n",
    "    x0 = np.asarray(x0)\n",
    "    x = x0\n",
    "\n",
    "    for kk in range(maxiter):\n",
    "        ak = a*(kk+1.0+A)**-alpha\n",
    "        ck = c*(kk+1.0)**-gamma\n",
    "        # Bernoulli distribution for randoms\n",
    "        deltak =  2*np.random.randint(2, size=x.shape[0])-1\n",
    "        grad = (func(x + ck*deltak, *args) - func(x - ck*deltak, *args))/(2*ck*deltak)\n",
    "        x -= ak*grad\n",
    "        \n",
    "        if callback is not None:\n",
    "            callback(x)\n",
    "\n",
    "    return OptimizeResult(fun=func(x, *args), x=x, nit=maxiter, nfev=2*maxiter, \n",
    "                          message='Optimization terminated successfully.',\n",
    "                          success=True)"
   ]
  },
  {
   "cell_type": "markdown",
   "metadata": {},
   "source": [
    "## Appendix B\n",
    "\n",
    "This is a helper function that converts the Pauli operators in the strings that define the Hamiltonian operators into the appropriate measurements at the end of the circuits.  For $X$ operators this involves adding an $H$ gate to the qubits to be measured, whereas a $Y$ operator needs $S^{+}$ followed by a $H$.  Other choices of Pauli operators require no additional gates prior to measurement."
   ]
  },
  {
   "cell_type": "code",
   "execution_count": null,
   "metadata": {},
   "outputs": [],
   "source": [
    "def opstr_to_meas_circ(op_str):\n",
    "    \"\"\"Takes a list of operator strings and makes circuit with the correct post-rotations for measurements.\n",
    "\n",
    "    Parameters:\n",
    "        op_str (list): List of strings representing the operators needed for measurements.\n",
    "\n",
    "    Returns:\n",
    "        list: List of circuits for measurement post-rotations\n",
    "    \"\"\"\n",
    "    num_qubits = len(op_str[0])\n",
    "    circs = []\n",
    "    for op in op_str:\n",
    "        qc = QuantumCircuit(num_qubits)\n",
    "        for idx, item in enumerate(op):\n",
    "            if item == 'X':\n",
    "                qc.h(num_qubits-idx-1)\n",
    "            elif item == 'Y':\n",
    "                qc.sdg(num_qubits-idx-1)\n",
    "                qc.h(num_qubits-idx-1)\n",
    "        circs.append(qc)\n",
    "    return circs"
   ]
  },
  {
   "cell_type": "code",
   "execution_count": null,
   "metadata": {},
   "outputs": [],
   "source": [
    "from qiskit.tools.jupyter import *\n",
    "%qiskit_copyright"
   ]
  },
  {
   "cell_type": "code",
   "execution_count": null,
   "metadata": {},
   "outputs": [],
   "source": []
  }
 ],
 "metadata": {
  "kernelspec": {
   "display_name": "Python 3",
   "language": "python",
   "name": "python3"
  },
  "language_info": {
   "codemirror_mode": {
    "name": "ipython",
    "version": 3
   },
   "file_extension": ".py",
   "mimetype": "text/x-python",
   "name": "python",
   "nbconvert_exporter": "python",
   "pygments_lexer": "ipython3",
   "version": "3.7.4"
  }
 },
 "nbformat": 4,
 "nbformat_minor": 5
}
