{
 "cells": [
  {
   "cell_type": "markdown",
   "id": "a51414c2",
   "metadata": {},
   "source": [
    "# Circuit Runner"
   ]
  },
  {
   "cell_type": "markdown",
   "id": "d3ff1098",
   "metadata": {},
   "source": [
    "This tutorial introduces the Qiskit Runtime program `circuit-runner`. "
   ]
  },
  {
   "cell_type": "markdown",
   "id": "3b88c4a3",
   "metadata": {},
   "source": [
    "<div class=\"alert alert-block alert-info\">\n",
    "<b>Note:</b> The current Qiskit runtime was designed for executing program scripts and is not tailored to large batches of quantum circuits. As such, there is a size limitation that translates into roughly a five circuit maximum per job.\"\n",
    "</div>"
   ]
  },
  {
   "cell_type": "markdown",
   "id": "3ec31be3",
   "metadata": {},
   "source": [
    "`circuit-runner` is a program that takes in one or more circuits, compiles them, executes them, and optionally applies measurement error mitigation. The program metadata tells you what the inputs and outputs are:"
   ]
  },
  {
   "cell_type": "code",
   "execution_count": 1,
   "id": "4ae1c365",
   "metadata": {},
   "outputs": [
    {
     "name": "stdout",
     "output_type": "stream",
     "text": [
      "circuit-runner:\n",
      "  Name: circuit-runner\n",
      "  Description: A runtime program that takes one or more circuits, compiles them, executes them, and optionally applies measurement error mitigation.\n",
      "  Version: 1\n",
      "  Creation date: 2021-05-07T00:17:07Z\n",
      "  Max execution time: 1800\n",
      "  Input parameters:\n",
      "    - circuits:\n",
      "      Description: A circuit or a list of circuits.\n",
      "      Type: A QuantumCircuit or a list of QuantumCircuits.\n",
      "      Required: True\n",
      "    - shots:\n",
      "      Description: Number of repetitions of each circuit, for sampling. Default: 1024.\n",
      "      Type: int\n",
      "      Required: False\n",
      "    - initial_layout:\n",
      "      Description: Initial position of virtual qubits on physical qubits.\n",
      "      Type: dict or list\n",
      "      Required: False\n",
      "    - layout_method:\n",
      "      Description: Name of layout selection pass ('trivial', 'dense', 'noise_adaptive', 'sabre')\n",
      "      Type: string\n",
      "      Required: False\n",
      "    - routing_method:\n",
      "      Description: Name of routing pass ('basic', 'lookahead', 'stochastic', 'sabre').\n",
      "      Type: string\n",
      "      Required: False\n",
      "    - translation_method:\n",
      "      Description: Name of translation pass ('unroller', 'translator', 'synthesis').\n",
      "      Type: string\n",
      "      Required: False\n",
      "    - seed_transpiler:\n",
      "      Description: Sets random seed for the stochastic parts of the transpiler.\n",
      "      Type: int\n",
      "      Required: False\n",
      "    - optimization_level:\n",
      "      Description: How much optimization to perform on the circuits (0-3). Higher levels generate more optimized circuits. Default is 1.\n",
      "      Type: int\n",
      "      Required: False\n",
      "    - init_qubits:\n",
      "      Description: Whether to reset the qubits to the ground state for each shot.\n",
      "      Type: bool\n",
      "      Required: False\n",
      "    - rep_delay:\n",
      "      Description: Delay between programs in seconds.\n",
      "      Type: float\n",
      "      Required: False\n",
      "    - transpiler_options:\n",
      "      Description: Additional compilation options.\n",
      "      Type: dict\n",
      "      Required: False\n",
      "    - measurement_error_mitigation:\n",
      "      Description: Whether to apply measurement error mitigation. Default is False.\n",
      "      Type: bool\n",
      "      Required: False\n",
      "  Interim results:\n",
      "    none\n",
      "  Returns:\n",
      "    - -:\n",
      "      Description: Circuit execution results.\n",
      "      Type: RunnerResult object\n"
     ]
    }
   ],
   "source": [
    "from qiskit import IBMQ\n",
    "\n",
    "IBMQ.load_account()\n",
    "provider = IBMQ.get_provider(project='qiskit-runtime')  # Change this to your provider.\n",
    "program = provider.runtime.program('circuit-runner')\n",
    "print(program)"
   ]
  },
  {
   "cell_type": "markdown",
   "id": "0a33eba8",
   "metadata": {},
   "source": [
    "The following is an example of running a circuit using `circuit-runner`. First we prepare the initial state:"
   ]
  },
  {
   "cell_type": "code",
   "execution_count": 2,
   "id": "42ace0e7",
   "metadata": {},
   "outputs": [],
   "source": [
    "import numpy as np\n",
    "\n",
    "k = 5\n",
    "state = (1/np.sqrt(8))*np.array([np.exp(-1j*2*np.pi*k*(0)/8),np.exp(-1j*2*np.pi*k*(1)/8),\n",
    "                                 np.exp(-1j*2*np.pi*k*(2)/8),\n",
    " np.exp(-1j*2*np.pi*k*3/8),np.exp(-1j*2*np.pi*k*4/8),np.exp(-1j*2*np.pi*k*5/8),\n",
    " np.exp(-1j*2*np.pi*k*6/8), np.exp(-1j*2*np.pi*k*7/8)])"
   ]
  },
  {
   "cell_type": "markdown",
   "id": "f8e57fd2",
   "metadata": {},
   "source": [
    "We then construct and show the circuit:"
   ]
  },
  {
   "cell_type": "code",
   "execution_count": 3,
   "id": "cb8c46a6",
   "metadata": {},
   "outputs": [
    {
     "data": {
      "text/plain": [
       "<qiskit.circuit.instructionset.InstructionSet at 0x105efffa0>"
      ]
     },
     "execution_count": 3,
     "metadata": {},
     "output_type": "execute_result"
    }
   ],
   "source": [
    "from qiskit import QuantumCircuit\n",
    "from qiskit.circuit.library import QFT\n",
    "from qiskit.quantum_info import Statevector\n",
    "\n",
    "qubits = 3 \n",
    "\n",
    "circuit = QuantumCircuit(qubits, qubits)\n",
    "circuit.initialize(state)\n",
    "circuit.append(QFT(qubits), range(qubits))\n",
    "circuit.measure(range(qubits), range(qubits))"
   ]
  },
  {
   "cell_type": "code",
   "execution_count": 4,
   "id": "4adabda3",
   "metadata": {},
   "outputs": [
    {
     "data": {
      "image/png": "[encoded data removed]",
      "text/plain": [
       "<Figure size 808.997x264.88 with 1 Axes>"
      ]
     },
     "execution_count": 4,
     "metadata": {},
     "output_type": "execute_result"
    }
   ],
   "source": [
    "circuit.draw(output=\"mpl\")"
   ]
  },
  {
   "cell_type": "markdown",
   "id": "a5c5cf81",
   "metadata": {},
   "source": [
    "Now let's run this circuit using the `circuit-runner` program. Note that `circuit-runner` has its own result decoder in `RunnerResult`, so you'll need to pass that when getting the job result: "
   ]
  },
  {
   "cell_type": "code",
   "execution_count": 5,
   "id": "ea16b057",
   "metadata": {},
   "outputs": [
    {
     "name": "stdout",
     "output_type": "stream",
     "text": [
      "job ID: c2a8epc18tu3tem8gdog\n"
     ]
    }
   ],
   "source": [
    "from qiskit.providers.ibmq import RunnerResult\n",
    "\n",
    "backend = provider.backend.ibmq_montreal\n",
    "\n",
    "program_inputs = {\n",
    "    'circuits': circuit,\n",
    "    'optimization_level': 3\n",
    "}\n",
    "options = {'backend_name': backend.name()}\n",
    "job = provider.runtime.run(program_id=\"circuit-runner\",\n",
    "                           options=options,\n",
    "                           inputs=program_inputs,\n",
    "                          )\n",
    "print(f\"job ID: {job.job_id()}\")\n",
    "result = job.result(decoder=RunnerResult)"
   ]
  },
  {
   "cell_type": "code",
   "execution_count": 6,
   "id": "7d937999",
   "metadata": {},
   "outputs": [
    {
     "data": {
      "image/png": "[encoded data removed]",
      "text/plain": [
       "<Figure size 504x360 with 1 Axes>"
      ]
     },
     "execution_count": 6,
     "metadata": {},
     "output_type": "execute_result"
    }
   ],
   "source": [
    "from qiskit.visualization import plot_histogram\n",
    "\n",
    "counts = result.get_counts()\n",
    "plot_histogram(counts)"
   ]
  },
  {
   "cell_type": "markdown",
   "id": "31eeefaf",
   "metadata": {},
   "source": [
    "You can also choose to have measurement error mitigation automatically applied when the circuit execution finishes:"
   ]
  },
  {
   "cell_type": "code",
   "execution_count": 7,
   "id": "6226662d",
   "metadata": {},
   "outputs": [
    {
     "name": "stdout",
     "output_type": "stream",
     "text": [
      "job ID: c29j4fc18tu3tem8ffog\n"
     ]
    }
   ],
   "source": [
    "from qiskit.providers.ibmq import RunnerResult\n",
    "\n",
    "backend = provider.backend.ibmq_montreal\n",
    "\n",
    "program_inputs = {\n",
    "    'circuits': circuit,\n",
    "    'optimization_level': 3,\n",
    "    'measurement_error_mitigation': True\n",
    "}\n",
    "options = {'backend_name': backend.name()}\n",
    "job = provider.runtime.run(program_id=\"circuit-runner\",\n",
    "                           options=options,\n",
    "                           inputs=program_inputs,\n",
    "                          )\n",
    "print(f\"job ID: {job.job_id()}\")\n",
    "result = job.result(decoder=RunnerResult)"
   ]
  },
  {
   "cell_type": "markdown",
   "id": "29a82cd4",
   "metadata": {},
   "source": [
    "Applying measurement error mitigation to the circuit execution output will result in a vector that does not correspond to a probability distribution. Because of this we call the mitigated probabilities *quasi-probabilities*:"
   ]
  },
  {
   "cell_type": "code",
   "execution_count": 8,
   "id": "25f16091",
   "metadata": {},
   "outputs": [
    {
     "data": {
      "image/png": "[encoded data removed]",
      "text/plain": [
       "<Figure size 504x360 with 1 Axes>"
      ]
     },
     "execution_count": 8,
     "metadata": {},
     "output_type": "execute_result"
    }
   ],
   "source": [
    "noisy = result.get_counts()\n",
    "mitigated = result.get_quasiprobabilities().nearest_probability_distribution()\n",
    "plot_histogram([noisy, mitigated], legend=['noisy', 'mitigated'])"
   ]
  },
  {
   "cell_type": "markdown",
   "id": "80bde4ff",
   "metadata": {},
   "source": [
    "In addition to using the `run()` method to invoke `circuit-runner`, there is also an `AccountProvider.run_circuits()` method that serves as a syntactic sugar:"
   ]
  },
  {
   "cell_type": "code",
   "execution_count": 9,
   "id": "5d40ae0a",
   "metadata": {},
   "outputs": [],
   "source": [
    "result = provider.run_circuits(circuit, backend=backend, optimization_level=3).result()"
   ]
  },
  {
   "cell_type": "code",
   "execution_count": 10,
   "id": "1e087b2e",
   "metadata": {},
   "outputs": [
    {
     "data": {
      "text/html": [
       "<h3>Version Information</h3><table><tr><th>Qiskit Software</th><th>Version</th></tr><tr><td>Qiskit</td><td>None</td></tr><tr><td>Terra</td><td>0.17.1</td></tr><tr><td>Aer</td><td>0.8.2</td></tr><tr><td>Ignis</td><td>None</td></tr><tr><td>Aqua</td><td>None</td></tr><tr><td>IBM Q Provider</td><td>0.13.0</td></tr><tr><th>System information</th></tr><tr><td>Python</td><td>3.9.1 (default, Feb  5 2021, 11:23:59) \n",
       "[Clang 12.0.0 (clang-1200.0.32.28)]</td></tr><tr><td>OS</td><td>Darwin</td></tr><tr><td>CPUs</td><td>8</td></tr><tr><td>Memory (Gb)</td><td>16.0</td></tr><tr><td colspan='2'>Thu May 06 20:22:55 2021 EDT</td></tr></table>"
      ],
      "text/plain": [
       "<IPython.core.display.HTML object>"
      ]
     },
     "metadata": {},
     "output_type": "display_data"
    }
   ],
   "source": [
    "import qiskit.tools.jupyter\n",
    "%qiskit_version_table"
   ]
  },
  {
   "cell_type": "code",
   "execution_count": null,
   "id": "3a362dcb",
   "metadata": {},
   "outputs": [],
   "source": []
  }
 ],
 "metadata": {
  "kernelspec": {
   "display_name": "Python 3",
   "language": "python",
   "name": "python3"
  },
  "language_info": {
   "codemirror_mode": {
    "name": "ipython",
    "version": 3
   },
   "file_extension": ".py",
   "mimetype": "text/x-python",
   "name": "python",
   "nbconvert_exporter": "python",
   "pygments_lexer": "ipython3",
   "version": "3.9.1"
  }
 },
 "nbformat": 4,
 "nbformat_minor": 5
}
