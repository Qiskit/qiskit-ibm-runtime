{
 "cells": [
  {
   "cell_type": "markdown",
   "id": "28ba7d77",
   "metadata": {},
   "source": [
    "# Qiskit Runtime"
   ]
  },
  {
   "cell_type": "markdown",
   "id": "1a870dc9",
   "metadata": {},
   "source": [
    "Qiskit Runtime is a new architecture offered by IBM Quantum that streamlines computations requiring many iterations. These experiments will execute significantly faster within this improved hybrid quantum/classical process.\n",
    "\n",
    "Using Qiskit Runtime, for example, a research team at IBM Quantum was able to achieve 120x speed \n",
    "up in their lithium hydride simulation (link to come). \n",
    "\n",
    "Qiskit Runtime allows authorized users to upload their Qiskit quantum programs for themselves or \n",
    "others to use. A Qiskit quantum program, also called a Qiskit runtime program, is a piece of Python code that takes certain inputs, performs\n",
    "quantum and maybe classical computation, and returns the processing results. The same or other\n",
    "authorized users can then invoke these quantum programs by simply passing in the required input parameters."
   ]
  },
  {
   "cell_type": "markdown",
   "id": "eefc8e33",
   "metadata": {},
   "source": [
    "<div class=\"alert alert-block alert-info\">\n",
    "<b>Note:</b> Qiskit Runtime is only available to select IBM Quantum providers. You can use the `has_service()` method to check if a provider has access:\n",
    "</div>"
   ]
  },
  {
   "cell_type": "code",
   "execution_count": 1,
   "id": "a0b2650e",
   "metadata": {},
   "outputs": [],
   "source": [
    "from qiskit import IBMQ\n",
    "\n",
    "IBMQ.load_account()\n",
    "provider = IBMQ.get_provider(project='qiskit-runtime')  # Change this to your provider.\n",
    "can_use_runtime = provider.has_service('runtime')"
   ]
  },
  {
   "cell_type": "markdown",
   "id": "e35e0ef5",
   "metadata": {},
   "source": [
    "\n",
    "If you don't have an IBM Quantum account, you can sign up for one on the [IBM Quantum](https://quantum-computing.ibm.com/) page."
   ]
  },
  {
   "cell_type": "markdown",
   "id": "63cf458e",
   "metadata": {},
   "source": [
    "## Listing programs <a name='listing_program'>"
   ]
  },
  {
   "cell_type": "markdown",
   "id": "48ab239c",
   "metadata": {},
   "source": [
    "The `provider.runtime` object is an instance of the [`IBMRuntimeService`](https://qiskit.org/documentation/stubs/qiskit.providers.ibmq.runtime.IBMRuntimeService.html#qiskit.providers.ibmq.runtime.IBMRuntimeService) class and serves as the main entry point to using the runtime service. It has three methods that can be used to find metadata of available programs:\n",
    "- `pprint_programs()`: pretty prints metadata of all available programs\n",
    "- `programs()`: returns a list of `RuntimeProgram` instances\n",
    "- `program()`: returns a single `RuntimeProgram` instance\n",
    "\n",
    "The metadata of a runtime program includes its ID, name, description, version, input parameters, return values, interim results, maximum execution time, and backend requirements. Maximum execution time is the maximum amount of time, in seconds, a program can run before being forcibly terminated."
   ]
  },
  {
   "cell_type": "markdown",
   "id": "8af412f3",
   "metadata": {},
   "source": [
    "To print the metadata of all available programs:"
   ]
  },
  {
   "cell_type": "code",
   "execution_count": 2,
   "id": "25b35716",
   "metadata": {},
   "outputs": [
    {
     "name": "stdout",
     "output_type": "stream",
     "text": [
      "==================================================\n",
      "circuit-runner:\n",
      "  Name: circuit-runner\n",
      "  Description: A runtime program that takes one or more circuits, compiles them, executes them, and optionally applies measurement error mitigation.\n",
      "  Version: 1\n",
      "  Creation date: 2021-05-07T00:17:07Z\n",
      "  Max execution time: 1800\n",
      "  Input parameters:\n",
      "    - circuits:\n",
      "      Description: A circuit or a list of circuits.\n",
      "      Type: A QuantumCircuit or a list of QuantumCircuits.\n",
      "      Required: True\n",
      "    - shots:\n",
      "      Description: Number of repetitions of each circuit, for sampling. Default: 1024.\n",
      "      Type: int\n",
      "      Required: False\n",
      "    - initial_layout:\n",
      "      Description: Initial position of virtual qubits on physical qubits.\n",
      "      Type: dict or list\n",
      "      Required: False\n",
      "    - layout_method:\n",
      "      Description: Name of layout selection pass ('trivial', 'dense', 'noise_adaptive', 'sabre')\n",
      "      Type: string\n",
      "      Required: False\n",
      "    - routing_method:\n",
      "      Description: Name of routing pass ('basic', 'lookahead', 'stochastic', 'sabre').\n",
      "      Type: string\n",
      "      Required: False\n",
      "    - translation_method:\n",
      "      Description: Name of translation pass ('unroller', 'translator', 'synthesis').\n",
      "      Type: string\n",
      "      Required: False\n",
      "    - seed_transpiler:\n",
      "      Description: Sets random seed for the stochastic parts of the transpiler.\n",
      "      Type: int\n",
      "      Required: False\n",
      "    - optimization_level:\n",
      "      Description: How much optimization to perform on the circuits (0-3). Higher levels generate more optimized circuits. Default is 1.\n",
      "      Type: int\n",
      "      Required: False\n",
      "    - init_qubits:\n",
      "      Description: Whether to reset the qubits to the ground state for each shot.\n",
      "      Type: bool\n",
      "      Required: False\n",
      "    - rep_delay:\n",
      "      Description: Delay between programs in seconds.\n",
      "      Type: float\n",
      "      Required: False\n",
      "    - transpiler_options:\n",
      "      Description: Additional compilation options.\n",
      "      Type: dict\n",
      "      Required: False\n",
      "    - measurement_error_mitigation:\n",
      "      Description: Whether to apply measurement error mitigation. Default is False.\n",
      "      Type: bool\n",
      "      Required: False\n",
      "  Interim results:\n",
      "    none\n",
      "  Returns:\n",
      "    - -:\n",
      "      Description: Circuit execution results.\n",
      "      Type: RunnerResult object\n",
      "==================================================\n",
      "quantum-kernel-alignment:\n",
      "  Name: quantum-kernel-alignment\n",
      "  Description: Quantum kernel alignment algorithm that learns, on a given dataset, a quantum kernel maximizing the SVM classification margin.\n",
      "  Version: 1\n",
      "  Creation date: 2021-05-06T14:56:53Z\n",
      "  Max execution time: 28800\n",
      "  Input parameters:\n",
      "    - feature_map:\n",
      "      Description: An instance of FeatureMap in dictionary format used to map classical data into a quantum state space.\n",
      "      Type: dict\n",
      "      Required: True\n",
      "    - data:\n",
      "      Description: NxD array of training data, where N is the number of samples and D is the feature dimension.\n",
      "      Type: numpy.ndarray\n",
      "      Required: True\n",
      "    - labels:\n",
      "      Description: Nx1 array of +/-1 labels of the N training samples.\n",
      "      Type: numpy.ndarray\n",
      "      Required: True\n",
      "    - initial_kernel_parameters:\n",
      "      Description: Initial parameters of the quantum kernel. If not specified, an array of randomly generated numbers is used.\n",
      "      Type: numpy.ndarray\n",
      "      Required: False\n",
      "    - maxiters:\n",
      "      Description: Number of SPSA optimization steps. Default is 1.\n",
      "      Type: int\n",
      "      Required: False\n",
      "    - C:\n",
      "      Description: Penalty parameter for the soft-margin support vector machine. Default is 1.\n",
      "      Type: float\n",
      "      Required: False\n",
      "    - initial_layout:\n",
      "      Description: Initial position of virtual qubits on the physical qubits of the quantum device. Default is None.\n",
      "      Type: list or dict\n",
      "      Required: False\n",
      "  Interim results:\n",
      "    none\n",
      "  Returns:\n",
      "    - aligned_kernel_parameters:\n",
      "      Description: The optimized kernel parameters found from quantum kernel alignment.\n",
      "      Type: numpy.ndarray\n",
      "    - aligned_kernel_matrix:\n",
      "      Description: The aligned quantum kernel matrix evaluated with the optimized kernel parameters on the training data.\n",
      "      Type: numpy.ndarray\n",
      "==================================================\n",
      "sample-program:\n",
      "  Name: sample-program\n",
      "  Description: A sample runtime program.\n",
      "  Version: 1\n",
      "  Creation date: 2021-06-04T14:11:19Z\n",
      "  Max execution time: 300\n",
      "  Input parameters:\n",
      "    - iterations:\n",
      "      Description: Number of iterations to run. Each iteration generates and runs a random circuit.\n",
      "      Type: int\n",
      "      Required: True\n",
      "  Interim results:\n",
      "    - iteration:\n",
      "      Description: Iteration number.\n",
      "      Type: int\n",
      "    - counts:\n",
      "      Description: Histogram data of the circuit result.\n",
      "      Type: dict\n",
      "  Returns:\n",
      "    - -:\n",
      "      Description: A string that says 'All done!'.\n",
      "      Type: string\n",
      "==================================================\n",
      "vqe:\n",
      "  Name: vqe\n",
      "  Description: Variational Quantum Eigensolver (VQE) to find the minimal eigenvalue of a Hamiltonian.\n",
      "  Version: 1\n",
      "  Creation date: 2021-05-06T20:43:52Z\n",
      "  Max execution time: 18000\n",
      "  Input parameters:\n",
      "    - ansatz:\n",
      "      Description: A parameterized quantum circuit preparing the ansatz wavefunction for the VQE. It is assumed that all qubits are initially in the 0 state.\n",
      "      Type: QuantumCircuit\n",
      "      Required: True\n",
      "    - operator:\n",
      "      Description: The Hamiltonian whose smallest eigenvalue we're trying to find.\n",
      "      Type: PauliSumOp\n",
      "      Required: True\n",
      "    - optimizer:\n",
      "      Description: The classical optimizer used in to update the parameters in each iteration. Currently, only SPSA and QN-SPSA are supported. This must be a dictionary specifying the name and options of the optimizer, e.g. ``{'name': 'SPSA', 'maxiter': 100}``.\n",
      "      Type: dict\n",
      "      Required: True\n",
      "    - initial_parameters:\n",
      "      Description: Initial parameters of the ansatz. Can be an array or the string ``'random'`` to choose random initial parameters.\n",
      "      Type: Union[numpy.ndarray, str]\n",
      "      Required: True\n",
      "    - aux_operators:\n",
      "      Description: A list of operators to be evaluated at the final, optimized state.\n",
      "      Type: List[PauliSumOp]\n",
      "      Required: False\n",
      "    - shots:\n",
      "      Description: The number of shots used for each circuit evaluation. Defaults to 1024.\n",
      "      Type: int\n",
      "      Required: False\n",
      "    - readout_error_mitigation:\n",
      "      Description: Whether to apply readout error mitigation in form of a complete measurement fitter to the measurements. Defaults to False.\n",
      "      Type: bool\n",
      "      Required: False\n",
      "    - initial_layout:\n",
      "      Description: Initial position of virtual qubits on the physical qubits of the quantum device. Default is None.\n",
      "      Type: list or dict\n",
      "      Required: False\n",
      "  Interim results:\n",
      "    none\n",
      "  Returns:\n",
      "    - optimizer_evals:\n",
      "      Description: The number of steps of the optimizer.\n",
      "      Type: int\n",
      "    - optimizer_time:\n",
      "      Description: The total time taken by the optimizer.\n",
      "      Type: float\n",
      "    - optimal_value:\n",
      "      Description: The smallest value found during the optimization. Equal to the ``eigenvalue`` attribute.\n",
      "      Type: float\n",
      "    - optimal_point:\n",
      "      Description: The optimal parameter values found during the optimization.\n",
      "      Type: np.ndarray\n",
      "    - optimal_parameters:\n",
      "      Description: Not supported at the moment, therefore ``None``.\n",
      "      Type: NoneType\n",
      "    - cost_function_evals:\n",
      "      Description: The number of cost function (energy) evaluations\n",
      "      Type: int\n",
      "    - eigenstate:\n",
      "      Description: The square root of sampling probabilities for each computational basis state of the circuit with optimal parameters.\n",
      "      Type: dict\n",
      "    - eigenvalue:\n",
      "      Description: The estimated eigenvalue.\n",
      "      Type: complex\n",
      "    - aux_operator_eigenvalues:\n",
      "      Description: The expectation values of the auxiliary operators at the optimal state.\n",
      "      Type: np.ndarray\n",
      "    - optimizer_history:\n",
      "      Description: A dictionary containing information about the optimization process: the value objective function, parameters, and a timestamp.\n",
      "      Type: dict\n"
     ]
    }
   ],
   "source": [
    "provider.runtime.pprint_programs()"
   ]
  },
  {
   "cell_type": "markdown",
   "id": "7090db0f",
   "metadata": {},
   "source": [
    "To print the metadata of the program `sample-program`:"
   ]
  },
  {
   "cell_type": "code",
   "execution_count": 3,
   "id": "276c3ebb",
   "metadata": {},
   "outputs": [
    {
     "name": "stdout",
     "output_type": "stream",
     "text": [
      "sample-program:\n",
      "  Name: sample-program\n",
      "  Description: A sample runtime program.\n",
      "  Version: 1\n",
      "  Creation date: 2021-06-04T14:11:19Z\n",
      "  Max execution time: 300\n",
      "  Input parameters:\n",
      "    - iterations:\n",
      "      Description: Number of iterations to run. Each iteration generates and runs a random circuit.\n",
      "      Type: int\n",
      "      Required: True\n",
      "  Interim results:\n",
      "    - iteration:\n",
      "      Description: Iteration number.\n",
      "      Type: int\n",
      "    - counts:\n",
      "      Description: Histogram data of the circuit result.\n",
      "      Type: dict\n",
      "  Returns:\n",
      "    - -:\n",
      "      Description: A string that says 'All done!'.\n",
      "      Type: string\n"
     ]
    }
   ],
   "source": [
    "program = provider.runtime.program('sample-program')\n",
    "print(program)"
   ]
  },
  {
   "cell_type": "markdown",
   "id": "dc4339b3",
   "metadata": {},
   "source": [
    "As you can see from above, the program `sample-program` is a simple program that has only 1 input parameter `iterations`, which indicates how many iterations to run. For each iteration it generates and runs a random 5-qubit circuit and returns the counts as well as the iteration number as the interim results. When the program finishes, it returns the sentence `All done!`. This program can only run for 300 seconds (5 minutes), and requires a backend that has at least 5 qubits."
   ]
  },
  {
   "cell_type": "markdown",
   "id": "21293c6f",
   "metadata": {},
   "source": [
    "## Invoking a runtime program <a name='invoking_program'>"
   ]
  },
  {
   "cell_type": "markdown",
   "id": "a77eeee3",
   "metadata": {},
   "source": [
    "You can use the [`IBMRuntimeService.run()`](https://qiskit.org/documentation/stubs/qiskit.providers.ibmq.runtime.IBMRuntimeService.html#qiskit.providers.ibmq.runtime.IBMRuntimeService.run) method to invoke a runtime program. This method takes the following parameters:\n",
    "\n",
    "- `program_id`: ID of the program to run\n",
    "- `inputs`: Program input parameters. These input values are passed to the runtime program.\n",
    "- `options`: Runtime options. These options control the execution environment. Currently the only available option is `backend_name`, which is required.\n",
    "- `callback`: Callback function to be invoked for any interim results. The callback function will receive 2 positional parameters: job ID and interim result.\n",
    "- `result_decoder`: Optional class used to decode job result."
   ]
  },
  {
   "cell_type": "markdown",
   "id": "82900e09",
   "metadata": {},
   "source": [
    "Before we run a quantum program, we may want to define a callback function that would process interim results, which are intermediate data provided by a program while its still running. \n",
    "\n",
    "As we saw earlier, the metadata of `sample-program` says that its interim results are the iteration number and the counts of the randomly generated circuit. Here we define a simple callback function that just prints these interim results:"
   ]
  },
  {
   "cell_type": "code",
   "execution_count": 4,
   "id": "573565bd",
   "metadata": {},
   "outputs": [],
   "source": [
    "def interim_result_callback(job_id, interim_result):\n",
    "    print(f\"interim result: {interim_result}\")"
   ]
  },
  {
   "cell_type": "markdown",
   "id": "e2a98178",
   "metadata": {},
   "source": [
    "The following example runs the `sample-program` program with 3 iterations on `ibmq_montreal` and waits for its result. You can also use a different backend that supports Qiskit Runtime:"
   ]
  },
  {
   "cell_type": "code",
   "execution_count": 5,
   "id": "acc94050",
   "metadata": {},
   "outputs": [
    {
     "name": "stdout",
     "output_type": "stream",
     "text": [
      "job id: c2ajo0m0lb0ph8orsprg\n",
      "interim result: {'iteration': 0, 'counts': {'00000': 92, '00001': 15, '10000': 194, '10001': 21, '10010': 181, '10011': 33, '10100': 50, '10101': 9, '10110': 68, '10111': 12, '11000': 11, '11001': 5, '11010': 14, '11011': 5, '11100': 13, '11101': 2, '11110': 14, '11111': 4, '00010': 128, '00011': 16, '00100': 33, '00101': 11, '00110': 46, '00111': 9, '01000': 6, '01001': 5, '01010': 10, '01011': 3, '01100': 10, '01110': 3, '01111': 1}}\n",
      "interim result: {'iteration': 1, 'counts': {'00000': 15, '00001': 9, '10000': 8, '10001': 9, '10010': 11, '10011': 6, '10100': 9, '10101': 9, '10110': 7, '10111': 3, '11000': 23, '11001': 26, '11010': 193, '11011': 113, '11100': 14, '11101': 13, '11110': 30, '11111': 25, '00010': 6, '00011': 4, '00100': 6, '00101': 2, '00110': 4, '00111': 3, '01000': 202, '01001': 97, '01010': 31, '01011': 23, '01100': 54, '01101': 45, '01110': 10, '01111': 14}}\n",
      "interim result: {'iteration': 2, 'counts': {'00000': 33, '00001': 46, '10000': 27, '10001': 33, '10010': 42, '10011': 38, '10100': 40, '10101': 35, '10110': 27, '10111': 33, '11000': 38, '11001': 26, '11010': 27, '11011': 24, '11100': 34, '11101': 25, '11110': 20, '11111': 19, '00010': 41, '00011': 29, '00100': 32, '00101': 36, '00110': 28, '00111': 28, '01000': 45, '01001': 27, '01010': 36, '01011': 44, '01100': 29, '01101': 34, '01110': 21, '01111': 27}}\n",
      "All done!\n"
     ]
    }
   ],
   "source": [
    "backend = provider.get_backend('ibmq_montreal')\n",
    "program_inputs = {\n",
    "    'iterations': 3\n",
    "}\n",
    "options = {'backend_name': backend.name()}\n",
    "job = provider.runtime.run(program_id=\"sample-program\",\n",
    "                           options=options,\n",
    "                           inputs=program_inputs,\n",
    "                           callback=interim_result_callback\n",
    "                          )\n",
    "print(f\"job id: {job.job_id()}\")\n",
    "result = job.result()\n",
    "print(result)"
   ]
  },
  {
   "cell_type": "markdown",
   "id": "e96067a1",
   "metadata": {},
   "source": [
    "The `run()` method returns a [`RuntimeJob`](https://qiskit.org/documentation/stubs/qiskit.providers.ibmq.runtime.RuntimeJob.html#qiskit.providers.ibmq.runtime.RuntimeJob) instace, which is similar to the `Job` instance returned by regular `backend.run()`. `RuntimeJob` supports the following methods:\n",
    "\n",
    "- `status()`: Return job status.\n",
    "- `result()`: Wait for the job to finish and return the final result.\n",
    "- `cancel()`: Cancel the job.\n",
    "- `wait_for_final_state()`: Wait for the job to finish.\n",
    "- `stream_results()`: Stream interim results. This can be used to start streaming the interim results if a `callback` function was not passed to the `run()` method.\n",
    "- `job_id()`: Return the job ID.\n",
    "- `backend()`: Return the backend where the job is run."
   ]
  },
  {
   "cell_type": "markdown",
   "id": "97da7ca3",
   "metadata": {},
   "source": [
    "## Retrieving old jobs"
   ]
  },
  {
   "cell_type": "markdown",
   "id": "d7d09960",
   "metadata": {},
   "source": [
    "You can use the [`IBMRuntimeService.job()`](https://qiskit.org/documentation/stubs/qiskit.providers.ibmq.runtime.IBMRuntimeService.html#qiskit.providers.ibmq.runtime.IBMRuntimeService.job) method to retrieve a previously executed runtime job. Attributes of this [`RuntimeJob`](https://qiskit.org/documentation/stubs/qiskit.providers.ibmq.runtime.RuntimeJob.html#qiskit.providers.ibmq.runtime.RuntimeJob) instace can tell you about the execution:"
   ]
  },
  {
   "cell_type": "code",
   "execution_count": 6,
   "id": "676f664b",
   "metadata": {},
   "outputs": [
    {
     "name": "stdout",
     "output_type": "stream",
     "text": [
      "Job c2ajo0m0lb0ph8orsprg is an execution instance of runtime program sample-program.\n",
      "This job ran on backend ibmq_montreal and had input parameters {'iterations': 3}\n"
     ]
    }
   ],
   "source": [
    "retrieved_job = provider.runtime.job(job.job_id())\n",
    "print(f\"Job {retrieved_job.job_id()} is an execution instance of runtime program {retrieved_job.program_id}.\")\n",
    "print(f\"This job ran on backend {retrieved_job.backend()} and had input parameters {retrieved_job.inputs}\")"
   ]
  },
  {
   "cell_type": "markdown",
   "id": "f672021d",
   "metadata": {},
   "source": [
    "Similarly, you can use [`IBMRuntimeService.jobs()`](https://qiskit.org/documentation/stubs/qiskit.providers.ibmq.runtime.IBMRuntimeService.html#qiskit.providers.ibmq.runtime.IBMRuntimeService.jobs) to get a list of jobs. You can specify a limit on how many jobs to return. The default limit is 10:"
   ]
  },
  {
   "cell_type": "code",
   "execution_count": 7,
   "id": "2e05256b",
   "metadata": {},
   "outputs": [
    {
     "name": "stdout",
     "output_type": "stream",
     "text": [
      "c2ajo0m0lb0ph8orsprg\n",
      "c2ajjgm0lb0ph8orspdg\n"
     ]
    }
   ],
   "source": [
    "retrieved_jobs = provider.runtime.jobs(limit=1)\n",
    "for rjob in retrieved_jobs:\n",
    "    print(rjob.job_id())"
   ]
  },
  {
   "cell_type": "markdown",
   "id": "c4ebd6d1",
   "metadata": {},
   "source": [
    "## Deleting a job"
   ]
  },
  {
   "cell_type": "markdown",
   "id": "90c9ab70",
   "metadata": {},
   "source": [
    "You can use the [`IBMRuntimeService.delete_job()`](https://qiskit.org/documentation/stubs/qiskit.providers.ibmq.runtime.IBMRuntimeService.html#qiskit.providers.ibmq.runtime.IBMRuntimeService.delete_job) method to delete a job. You can only delete your own jobs, and this action cannot be reversed. "
   ]
  },
  {
   "cell_type": "code",
   "execution_count": 8,
   "id": "3984de3d",
   "metadata": {},
   "outputs": [],
   "source": [
    "provider.runtime.delete_job(job.job_id())"
   ]
  },
  {
   "cell_type": "code",
   "execution_count": 9,
   "id": "8be9e46a",
   "metadata": {},
   "outputs": [
    {
     "data": {
      "text/html": [
       "<h3>Version Information</h3><table><tr><th>Qiskit Software</th><th>Version</th></tr><tr><td>Qiskit</td><td>None</td></tr><tr><td>Terra</td><td>0.17.1</td></tr><tr><td>Aer</td><td>0.8.2</td></tr><tr><td>Ignis</td><td>None</td></tr><tr><td>Aqua</td><td>None</td></tr><tr><td>IBM Q Provider</td><td>0.13.1</td></tr><tr><th>System information</th></tr><tr><td>Python</td><td>3.9.1 (default, Feb  5 2021, 11:23:59) \n",
       "[Clang 12.0.0 (clang-1200.0.32.28)]</td></tr><tr><td>OS</td><td>Darwin</td></tr><tr><td>CPUs</td><td>8</td></tr><tr><td>Memory (Gb)</td><td>16.0</td></tr><tr><td colspan='2'>Fri May 07 09:22:18 2021 EDT</td></tr></table>"
      ],
      "text/plain": [
       "<IPython.core.display.HTML object>"
      ]
     },
     "metadata": {},
     "output_type": "display_data"
    }
   ],
   "source": [
    "import qiskit.tools.jupyter\n",
    "%qiskit_version_table"
   ]
  }
 ],
 "metadata": {
  "kernelspec": {
   "display_name": "Python 3",
   "language": "python",
   "name": "python3"
  },
  "language_info": {
   "codemirror_mode": {
    "name": "ipython",
    "version": 3
   },
   "file_extension": ".py",
   "mimetype": "text/x-python",
   "name": "python",
   "nbconvert_exporter": "python",
   "pygments_lexer": "ipython3",
   "version": "3.9.1"
  }
 },
 "nbformat": 4,
 "nbformat_minor": 5
}
