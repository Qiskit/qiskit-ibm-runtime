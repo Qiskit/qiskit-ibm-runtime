{
 "cells": [
  {
   "cell_type": "markdown",
   "metadata": {},
   "source": [
    "# Qiskit Runtime API"
   ]
  },
  {
   "cell_type": "markdown",
   "metadata": {},
   "source": [
    "Qiskit Runtime is a cloud service that allow you upload and run Qiskit programs in a Qiskit Runtimes near to the QPUs. \n",
    "\n",
    "In this example we are going to explore how integrate this Qiskit Runtime in any app only using basic HTTP request and interact with a the program running in the service.\n",
    "\n"
   ]
  },
  {
   "cell_type": "markdown",
   "metadata": {},
   "source": [
    "<div class=\"alert alert-block alert-info\">\n",
    "<b>Note:</b> You need to have a IBM Quantum Computing API Token, you get it sign up in https://quantum-computing.ibm.com/\n",
    "</div>"
   ]
  },
  {
   "cell_type": "markdown",
   "metadata": {},
   "source": [
    "For this tutorial we are going to use que HTTP library requests to facilitate the API calls.\n",
    "\n",
    "You can have access to the online interactive documentation here: https://runtime-us-east.quantum-computing.ibm.com/openapi/"
   ]
  },
  {
   "cell_type": "code",
   "execution_count": 70,
   "metadata": {},
   "outputs": [],
   "source": [
    "import requests\n",
    "import json\n",
    "import time"
   ]
  },
  {
   "cell_type": "markdown",
   "metadata": {},
   "source": [
    "## authenticate in the service "
   ]
  },
  {
   "cell_type": "code",
   "execution_count": 51,
   "metadata": {},
   "outputs": [],
   "source": [
    "# you need to pass your API token in the header of every call\n",
    "\n",
    "headers = {\n",
    "  'Authorization': f'Bearer {Your_API_TOKEN}',\n",
    "  'Content-Type': 'application/json'\n",
    "}\n",
    "\n",
    "Runtime_API_URL = \"https://runtime-us-east.quantum-computing.ibm.com/\""
   ]
  },
  {
   "cell_type": "markdown",
   "metadata": {},
   "source": [
    "## Get the list of program that you can invoke "
   ]
  },
  {
   "cell_type": "code",
   "execution_count": 52,
   "metadata": {},
   "outputs": [
    {
     "name": "stdout",
     "output_type": "stream",
     "text": [
      "Qiskit Runtime Programs:\n",
      "- circuit-runner: A runtime program that takes one or more circuits, compiles them, executes them, and optionally applies measurement error mitigation. \n",
      "- mit-6:  \n",
      "- quantum-kernel-alignment: Quantum kernel alignment algorithm that learns, on a given dataset, a quantum kernel maximizing the SVM classification margin. \n",
      "- runtime-simple: Simple runtime program used for testing. \n",
      "- simple:  \n",
      "- vqe: Variational Quantum Eigensolver (VQE) to find the minimal eigenvalue of a Hamiltonian. \n"
     ]
    }
   ],
   "source": [
    "\n",
    "# Call the API passing the API Token and get the programs\n",
    "\n",
    "response = requests.get(Runtime_API_URL + 'programs' , headers = headers)\n",
    "\n",
    "list_of_programs = {}\n",
    "if response.status_code == 200:\n",
    "    list_of_programs = response.json()\n",
    "else:\n",
    "    print(f'Error:{response.status_code}')\n",
    "    exit()\n",
    "    \n",
    "print(f'Qiskit Runtime Programs:')\n",
    "\n",
    "for program in list_of_programs:\n",
    "    print(f'- {program[\"name\"]}: {program[\"description\"]} ')\n"
   ]
  },
  {
   "cell_type": "markdown",
   "metadata": {},
   "source": [
    "## show info from one of the programs"
   ]
  },
  {
   "cell_type": "code",
   "execution_count": 53,
   "metadata": {},
   "outputs": [
    {
     "name": "stdout",
     "output_type": "stream",
     "text": [
      "Qiskit Program details:\n",
      "\n",
      "{\n",
      "  \"id\": \"circuit-runner\",\n",
      "  \"name\": \"circuit-runner\",\n",
      "  \"cost\": 1800,\n",
      "  \"description\": \"A runtime program that takes one or more circuits, compiles them, executes them, and optionally applies measurement error mitigation.\",\n",
      "  \"creationDate\": \"2021-05-07T00:17:07Z\",\n",
      "  \"version\": \"1\",\n",
      "  \"parameters\": \"{\\\"doc\\\": [{\\\"name\\\": \\\"circuits\\\", \\\"description\\\": \\\"A circuit or a list of circuits.\\\", \\\"type\\\": \\\"A QuantumCircuit or a list of QuantumCircuits.\\\", \\\"required\\\": true}, {\\\"name\\\": \\\"shots\\\", \\\"description\\\": \\\"Number of repetitions of each circuit, for sampling. Default: 1024.\\\", \\\"type\\\": \\\"int\\\", \\\"required\\\": false}, {\\\"name\\\": \\\"initial_layout\\\", \\\"description\\\": \\\"Initial position of virtual qubits on physical qubits.\\\", \\\"type\\\": \\\"dict or list\\\", \\\"required\\\": false}, {\\\"name\\\": \\\"layout_method\\\", \\\"description\\\": \\\"Name of layout selection pass ('trivial', 'dense', 'noise_adaptive', 'sabre')\\\", \\\"type\\\": \\\"string\\\", \\\"required\\\": false}, {\\\"name\\\": \\\"routing_method\\\", \\\"description\\\": \\\"Name of routing pass ('basic', 'lookahead', 'stochastic', 'sabre').\\\", \\\"type\\\": \\\"string\\\", \\\"required\\\": false}, {\\\"name\\\": \\\"translation_method\\\", \\\"description\\\": \\\"Name of translation pass ('unroller', 'translator', 'synthesis').\\\", \\\"type\\\": \\\"string\\\", \\\"required\\\": false}, {\\\"name\\\": \\\"seed_transpiler\\\", \\\"description\\\": \\\"Sets random seed for the stochastic parts of the transpiler.\\\", \\\"type\\\": \\\"int\\\", \\\"required\\\": false}, {\\\"name\\\": \\\"optimization_level\\\", \\\"description\\\": \\\"How much optimization to perform on the circuits (0-3). Higher levels generate more optimized circuits. Default is 1.\\\", \\\"type\\\": \\\"int\\\", \\\"required\\\": false}, {\\\"name\\\": \\\"init_qubits\\\", \\\"description\\\": \\\"Whether to reset the qubits to the ground state for each shot.\\\", \\\"type\\\": \\\"bool\\\", \\\"required\\\": false}, {\\\"name\\\": \\\"rep_delay\\\", \\\"description\\\": \\\"Delay between programs in seconds.\\\", \\\"type\\\": \\\"float\\\", \\\"required\\\": false}, {\\\"name\\\": \\\"transpiler_options\\\", \\\"description\\\": \\\"Additional compilation options.\\\", \\\"type\\\": \\\"dict\\\", \\\"required\\\": false}, {\\\"name\\\": \\\"measurement_error_mitigation\\\", \\\"description\\\": \\\"Whether to apply measurement error mitigation. Default is False.\\\", \\\"type\\\": \\\"bool\\\", \\\"required\\\": false}]}\",\n",
      "  \"returnValues\": \"[{\\\"name\\\": \\\"-\\\", \\\"description\\\": \\\"Circuit execution results.\\\", \\\"type\\\": \\\"RunnerResult object\\\"}]\"\n",
      "}\n"
     ]
    }
   ],
   "source": [
    "print('Qiskit Program details:\\n')\n",
    "\n",
    "qiskit_runtime_program = json.dumps(list_of_programs[0], indent=2) \n",
    "                                    \n",
    "print(qiskit_runtime_program)"
   ]
  },
  {
   "cell_type": "markdown",
   "metadata": {},
   "source": [
    "## Run a Qiskit Runtime program on the Cloud"
   ]
  },
  {
   "cell_type": "code",
   "execution_count": 83,
   "metadata": {},
   "outputs": [
    {
     "name": "stdout",
     "output_type": "stream",
     "text": [
      " status: 200, Job: c2b04fot418h0qp0peh0\n"
     ]
    }
   ],
   "source": [
    "Runtime_program = \"runtime-simple\"\n",
    "\n",
    "program_input = {\"iterations\":2}   \n",
    "\n",
    "def run_runtime_program(program_name, program_input):\n",
    "    # configuing your IBM Provider data\n",
    "    params = json.dumps({\n",
    "      \"programId\": Runtime_program,\n",
    "      \"hub\": \"ibm-q-internal\",\n",
    "      \"group\": \"near-time\",\n",
    "      \"project\": \"qiskit-runtime\",\n",
    "      \"backend\": \"ibmq_montreal\",\n",
    "      \"params\": [\n",
    "        json.dumps(program_input)\n",
    "      ]\n",
    "    })\n",
    "\n",
    "    job_ID = ''\n",
    "\n",
    "    response = requests.post(Runtime_API_URL + 'jobs', data=params, headers=headers)\n",
    "\n",
    "    if response.status_code == 200:\n",
    "        job_ID =  response.json()['id']\n",
    "        return 200, job_ID\n",
    "    else:\n",
    "        return response.status_code, None\n",
    "\n",
    "    \n",
    "status, job_ID = run_runtime_program(Runtime_program, program_input)\n",
    "\n",
    "print(f' status: {status}, Job: {job_ID}')\n",
    "\n",
    "    "
   ]
  },
  {
   "cell_type": "markdown",
   "metadata": {},
   "source": [
    "## Getting the result"
   ]
  },
  {
   "cell_type": "code",
   "execution_count": 81,
   "metadata": {},
   "outputs": [
    {
     "name": "stdout",
     "output_type": "stream",
     "text": [
      "Waiting for the final result\n",
      "Waiting for the final result\n",
      "Waiting for the final result\n",
      "Waiting for the final result\n",
      "Waiting for the final result\n",
      "Waiting for the final result\n",
      "Waiting for the final result\n",
      "Waiting for the final result\n",
      "Waiting for the final result\n",
      "Waiting for the final result\n",
      "Waiting for the final result\n",
      "Waiting for the final result\n",
      "Waiting for the final result\n",
      "Waiting for the final result\n",
      "Waiting for the final result\n",
      "Waiting for the final result\n",
      "Waiting for the final result\n",
      "Waiting for the final result\n",
      "Waiting for the final result\n",
      "Waiting for the final result\n",
      "Waiting for the final result\n",
      "Waiting for the final result\n",
      "Waiting for the final result\n",
      "Final Result: All done!\n"
     ]
    }
   ],
   "source": [
    "# while the Qiskit Quantum program is executed, and is not the final result, you are going to obtain a 204 status code\n",
    "\n",
    "final_result = False\n",
    "\n",
    "while not final_result:\n",
    "    \n",
    "    response = requests.get(Runtime_API_URL + 'jobs/'+ job_ID +'/results', data=params, headers=headers)\n",
    "\n",
    "    if response.status_code == 200:\n",
    "        print(f'Final Result: {response.text}')\n",
    "        final_result = True\n",
    "        \n",
    "    elif response.status_code == 204:\n",
    "        print(f'Waiting for the final result')\n",
    "        time.sleep(2)\n",
    "        \n",
    "    else:\n",
    "        print(f'Error:{response.status_code}')\n",
    "        break"
   ]
  }
 ],
 "metadata": {
  "kernelspec": {
   "display_name": "Python 3",
   "language": "python",
   "name": "python3"
  },
  "language_info": {
   "codemirror_mode": {
    "name": "ipython",
    "version": 3
   },
   "file_extension": ".py",
   "mimetype": "text/x-python",
   "name": "python",
   "nbconvert_exporter": "python",
   "pygments_lexer": "ipython3",
   "version": "3.7.4"
  }
 },
 "nbformat": 4,
 "nbformat_minor": 5
}
