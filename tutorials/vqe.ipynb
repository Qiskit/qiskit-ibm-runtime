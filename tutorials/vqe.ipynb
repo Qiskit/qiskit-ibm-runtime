{
 "cells": [
  {
   "cell_type": "markdown",
   "metadata": {},
   "source": [
    "# VQE\n",
    "\n",
    "The Variational Quantum Eigensolver (VQE) is a central algorithm in many applications from e.g. quantum chemistry or optimization.\n",
    "This tutorial shows you how to run the VQE as a Qiskit Runtime program. We'll start off by defining the algorithm settings, such as the Hamiltonian and ansatz, and then run a VQE both locally, on your machine, and remotely, using the Qiskit Runtime.\n",
    "\n",
    "**Note:** You can find tutorials on solving more comprehensive problems, such as finding the ground state of the lithium hydride molecule, using the VQE (and Qiskit Runtime) within [the tutorials of Qiskit Nature](https://github.com/Qiskit/qiskit-nature/tree/main/docs/tutorials)."
   ]
  },
  {
   "cell_type": "markdown",
   "metadata": {},
   "source": [
    "## System Hamiltonian"
   ]
  },
  {
   "cell_type": "markdown",
   "metadata": {},
   "source": [
    "Let's start by defining the operator of which we want to determine the ground state. Here we'll chose a simple diagonal Hamiltonian $\\hat H$ acting with Pauli-Z operators on the first two qubits\n",
    "\n",
    "$$\n",
    "\\hat H = \\hat Z_0 \\otimes \\hat Z_1.\n",
    "$$\n",
    "\n",
    "We can construct this Hamiltonian with Qiskit's `opflow` module:"
   ]
  },
  {
   "cell_type": "code",
   "execution_count": 1,
   "metadata": {},
   "outputs": [],
   "source": [
    "from qiskit.opflow import Z, I\n",
    "\n",
    "num_qubits = 4\n",
    "hamiltonian = (Z ^ Z) ^ (I ^ (num_qubits - 2))"
   ]
  },
  {
   "cell_type": "markdown",
   "metadata": {},
   "source": [
    "This Hamiltonian has a ground state energy of -1."
   ]
  },
  {
   "cell_type": "code",
   "execution_count": 2,
   "metadata": {},
   "outputs": [],
   "source": [
    "target_energy = -1"
   ]
  },
  {
   "cell_type": "markdown",
   "metadata": {},
   "source": [
    "## Parameterized Ansatz Circuit"
   ]
  },
  {
   "cell_type": "markdown",
   "metadata": {},
   "source": [
    "Next, we choose a parameterized quantum circuit $\\hat U(\\theta)$ to prepare the ansatz wavefunction\n",
    "\n",
    "$$\n",
    "|\\psi(\\theta)\\rangle = \\hat U(\\theta)|0\\rangle.\n",
    "$$\n",
    "\n",
    "We'll use the `EfficientSU2` circuit from Qiskit's circuit library, which is a hardware efficient, heuristic ansatz with alternating rotation and entanglement layers."
   ]
  },
  {
   "cell_type": "code",
   "execution_count": 3,
   "metadata": {},
   "outputs": [
    {
     "data": {
      "image/png": "[encoded data removed]",
      "text/plain": [
       "<Figure size 628.397x264.88 with 1 Axes>"
      ]
     },
     "execution_count": 3,
     "metadata": {},
     "output_type": "execute_result"
    }
   ],
   "source": [
    "from qiskit.circuit.library import EfficientSU2\n",
    "\n",
    "# the rotation gates are chosen randomly, so we set a seed for reproducibility\n",
    "ansatz = EfficientSU2(num_qubits, reps=1, entanglement='linear', insert_barriers=True) \n",
    "ansatz.draw('mpl', style='iqx')"
   ]
  },
  {
   "cell_type": "markdown",
   "metadata": {},
   "source": [
    "## Solve with the VQE"
   ]
  },
  {
   "cell_type": "markdown",
   "metadata": {},
   "source": [
    "Now that we have the problem and ansatz specified we can use the Variational Quantum Eigensolver (VQE) to solve for the minimal eigenvalue of our Hamiltonian.\n",
    "\n",
    "The VQE requires a classical optimization routine, along with an initial point, to calculate the parameter updates."
   ]
  },
  {
   "cell_type": "code",
   "execution_count": 4,
   "metadata": {},
   "outputs": [],
   "source": [
    "import numpy as np\n",
    "from qiskit.algorithms.optimizers import SPSA\n",
    "\n",
    "optimizer = SPSA(maxiter=50)\n",
    "\n",
    "np.random.seed(10)  # seed for reproducibility\n",
    "initial_point = np.random.random(ansatz.num_parameters)"
   ]
  },
  {
   "cell_type": "markdown",
   "metadata": {},
   "source": [
    "To access intermediate information we can pass a callback into the VQE. The callback is given the current number of function evaluations, the current parameters, function values and standard deviation in the expectation evaluation. "
   ]
  },
  {
   "cell_type": "code",
   "execution_count": 5,
   "metadata": {},
   "outputs": [],
   "source": [
    "intermediate_info = {\n",
    "    'nfev': [],\n",
    "    'parameters': [],\n",
    "    'energy': [],\n",
    "    'stddev': []\n",
    "}\n",
    "\n",
    "def callback(nfev, parameters, energy, stddev):\n",
    "    intermediate_info['nfev'].append(nfev)\n",
    "    intermediate_info['parameters'].append(parameters)\n",
    "    intermediate_info['energy'].append(energy)\n",
    "    intermediate_info['stddev'].append(stddev)"
   ]
  },
  {
   "cell_type": "markdown",
   "metadata": {},
   "source": [
    "### Local VQE\n",
    "\n",
    "Before running the Qiskit Runtime VQE program, let's first simulate this system locally using Qiskit's `VQE` class."
   ]
  },
  {
   "cell_type": "code",
   "execution_count": 6,
   "metadata": {},
   "outputs": [],
   "source": [
    "from qiskit.providers.basicaer import QasmSimulatorPy  # local simulator\n",
    "from qiskit.algorithms import VQE\n",
    "\n",
    "local_vqe = VQE(ansatz=ansatz,\n",
    "                optimizer=optimizer,\n",
    "                initial_point=initial_point,\n",
    "                quantum_instance=QasmSimulatorPy(),\n",
    "                callback=callback)"
   ]
  },
  {
   "cell_type": "code",
   "execution_count": 7,
   "metadata": {},
   "outputs": [
    {
     "name": "stderr",
     "output_type": "stream",
     "text": [
      "/Users/jul/opt/miniconda3/envs/stable/lib/python3.7/site-packages/qiskit/utils/run_circuits.py:564: UserWarning: Option max_credits is not used by this backend\n",
      "  return backend.run(circuits, **backend_options, **noise_config, **run_config)\n"
     ]
    }
   ],
   "source": [
    "local_result = local_vqe.compute_minimum_eigenvalue(hamiltonian)"
   ]
  },
  {
   "cell_type": "code",
   "execution_count": 8,
   "metadata": {},
   "outputs": [
    {
     "name": "stdout",
     "output_type": "stream",
     "text": [
      "Eigenvalue: -1.0\n",
      "Target: -1\n"
     ]
    }
   ],
   "source": [
    "print('Eigenvalue:', local_result.eigenvalue)\n",
    "print('Target:', target_energy)"
   ]
  },
  {
   "cell_type": "markdown",
   "metadata": {},
   "source": [
    "With the information from the callback, we can for instance compute the average of the estimation errors in the expectation evaluations. For an exact (statevector) simulation this would be 0, but for a shot-based readout as we have on real hardware, this will be a small finite error."
   ]
  },
  {
   "cell_type": "code",
   "execution_count": 9,
   "metadata": {},
   "outputs": [
    {
     "name": "stdout",
     "output_type": "stream",
     "text": [
      "Mean error: 0.013757962876791466\n"
     ]
    }
   ],
   "source": [
    "print('Mean error:', np.mean(intermediate_info['stddev']))"
   ]
  },
  {
   "cell_type": "markdown",
   "metadata": {},
   "source": [
    "### Runtime VQE: ``VQEProgram``\n",
    "\n",
    "To run the VQE using Qiskit Runtime, we only have to do very few changes from the local VQE run and mainly have to replace the `VQE` class by the `VQEProgram` class. Both follow the same `MinimumEigensolver` interface and thus share the `compute_minimum_eigenvalue` method to execute the algorithm and return the same type of result object. Merely the signature of the initializer differs sligthly.\n",
    "\n",
    "We start by choosing the provider with access to the Qiskit Runtime service and the backend to execute the circuits on. \n",
    "\n",
    "**Note:** To run this tutorial, replace the provider by your provider."
   ]
  },
  {
   "cell_type": "code",
   "execution_count": 10,
   "metadata": {},
   "outputs": [],
   "source": [
    "from qiskit import IBMQ\n",
    "\n",
    "IBMQ.load_account()\n",
    "provider = IBMQ.get_provider(project='qiskit-runtime')  # replace by your designated provider"
   ]
  },
  {
   "cell_type": "markdown",
   "metadata": {},
   "source": [
    "We're using the IBM Montreal device, but you can replace this with another device that support the Qiskit Runtime."
   ]
  },
  {
   "cell_type": "code",
   "execution_count": 11,
   "metadata": {},
   "outputs": [],
   "source": [
    "backend = provider.get_backend('ibmq_montreal')"
   ]
  },
  {
   "cell_type": "markdown",
   "metadata": {},
   "source": [
    "Let's not forget to reset the callback!"
   ]
  },
  {
   "cell_type": "code",
   "execution_count": 12,
   "metadata": {},
   "outputs": [],
   "source": [
    "intermediate_info = {\n",
    "    'nfev': [],\n",
    "    'parameters': [],\n",
    "    'energy': [],\n",
    "    'stddev': []\n",
    "}\n",
    "\n",
    "def callback(nfev, parameters, energy, stddev):\n",
    "    intermediate_info['nfev'].append(nfev)\n",
    "    intermediate_info['parameters'].append(parameters)\n",
    "    intermediate_info['energy'].append(energy)\n",
    "    intermediate_info['stddev'].append(stddev)"
   ]
  },
  {
   "cell_type": "markdown",
   "metadata": {},
   "source": [
    "Since the Qiskit Runtime VQE runs on real hardware, we might want to do measurement error mitigation. For this purpose the `VQEProgram` supports a boolean flag `measurement_error_mitigation` that can be set to `True` to enable error mitigation with a complete measurement fitter."
   ]
  },
  {
   "cell_type": "code",
   "execution_count": 13,
   "metadata": {},
   "outputs": [],
   "source": [
    "measurement_error_mitigation = True"
   ]
  },
  {
   "cell_type": "code",
   "execution_count": 14,
   "metadata": {},
   "outputs": [],
   "source": [
    "from qiskit_nature.runtime import VQEProgram\n",
    "\n",
    "# in this first release, the optimizer must be specified as dictionary\n",
    "optimizer = {'name': 'SPSA',\n",
    "             'maxiter': 50}\n",
    "\n",
    "runtime_vqe = VQEProgram(ansatz=ansatz,\n",
    "                         optimizer=optimizer,\n",
    "                         initial_point=initial_point,\n",
    "                         provider=provider,\n",
    "                         backend=backend,\n",
    "                         shots=1024,\n",
    "                         measurement_error_mitigation=measurement_error_mitigation,\n",
    "                         callback=callback)"
   ]
  },
  {
   "cell_type": "code",
   "execution_count": 15,
   "metadata": {},
   "outputs": [],
   "source": [
    "runtime_result = runtime_vqe.compute_minimum_eigenvalue(hamiltonian)"
   ]
  },
  {
   "cell_type": "code",
   "execution_count": 16,
   "metadata": {},
   "outputs": [
    {
     "name": "stdout",
     "output_type": "stream",
     "text": [
      "Eigenvalue: -0.9756263578485963\n",
      "Target: -1\n"
     ]
    }
   ],
   "source": [
    "print('Eigenvalue:', runtime_result.eigenvalue)\n",
    "print('Target:', target_energy)"
   ]
  },
  {
   "cell_type": "code",
   "execution_count": 17,
   "metadata": {},
   "outputs": [
    {
     "name": "stdout",
     "output_type": "stream",
     "text": [
      "Mean error: (0.012858397132816049+0j)\n"
     ]
    }
   ],
   "source": [
    "print('Mean error:', np.mean(intermediate_info['stddev']))"
   ]
  },
  {
   "cell_type": "markdown",
   "metadata": {},
   "source": [
    "Additionally to final results, the `VQEProgram` also returns the history of the optimization, such that we can visualize the "
   ]
  },
  {
   "cell_type": "code",
   "execution_count": 18,
   "metadata": {},
   "outputs": [],
   "source": [
    "history = runtime_result.optimizer_history\n",
    "\n",
    "loss = history['loss']\n",
    "timestamps = history['time']\n",
    "\n",
    "runtimes = np.concatenate(([0], np.diff(timestamps)))\n",
    "runtimes_in_min = runtimes / 60"
   ]
  },
  {
   "cell_type": "markdown",
   "metadata": {},
   "source": [
    "From this, we can extract the times per iteration and statistics on it:"
   ]
  },
  {
   "cell_type": "code",
   "execution_count": 19,
   "metadata": {},
   "outputs": [
    {
     "name": "stdout",
     "output_type": "stream",
     "text": [
      "Total time taken: 23.09min\n",
      "\n",
      "Median time of the iterations: 27.12s\n",
      "Average time per iteration: 27.71s\n",
      "Standard deviation: 5.21s\n"
     ]
    }
   ],
   "source": [
    "print(f'Total time taken: {np.sum(runtimes_in_min):.2f}min\\n')\n",
    "\n",
    "# note that the median and average might differ, since the device get's calibrated every hour\n",
    "# resulting in some iteration times that are much larger than the rest\n",
    "print(f'Median time of the iterations: {np.median(runtimes):.2f}s')\n",
    "print(f'Average time per iteration: {np.mean(runtimes):.2f}s')\n",
    "print(f'Standard deviation: {np.std(runtimes):.2f}s')"
   ]
  },
  {
   "cell_type": "markdown",
   "metadata": {},
   "source": [
    "or plot the loss against the total time taken:"
   ]
  },
  {
   "cell_type": "code",
   "execution_count": 20,
   "metadata": {
    "scrolled": false
   },
   "outputs": [
    {
     "data": {
      "image/png": "[encoded data removed]",
      "text/plain": [
       "<Figure size 864x576 with 2 Axes>"
      ]
     },
     "metadata": {
      "needs_background": "light"
     },
     "output_type": "display_data"
    }
   ],
   "source": [
    "import matplotlib.pyplot as plt \n",
    "\n",
    "plt.rcParams['font.size'] = 14\n",
    "\n",
    "fig, (ax1, ax2) = plt.subplots(2, 1, sharex=True, figsize=(12,8))\n",
    "\n",
    "# plot loss and reference value\n",
    "ax1.plot(loss, label='Qiskit Runtime VQE')\n",
    "ax1.axhline(y=target_energy, color='tab:red', ls='--', label='Target energy')\n",
    "\n",
    "# plot time taken\n",
    "ax2.plot(np.cumsum(runtimes_in_min))\n",
    "\n",
    "# settings\n",
    "ax1.set_title('Qiskit Runtime VQE')\n",
    "ax1.set_ylabel('Eigenvalue')\n",
    "ax1.legend(loc='best')\n",
    "ax2.set_ylabel('Total Qiskit Runtime [min]')\n",
    "ax2.set_xlabel('Iteration')\n",
    "ax2.grid();\n"
   ]
  },
  {
   "cell_type": "markdown",
   "metadata": {},
   "source": [
    "### Qiskit Runtime VQE: Direct call\n",
    "\n",
    "Instead of interacting with the Qiskit Runtime via the `VQEProgram` we can also directly call the the Qiskit Program in the cloud  -- like running the Quantum Kernel Alignment (QKA) or Circuit Runner. Under the hood, `VQEProgram` is nothing but a proxy that takes care of creating the dictionaries interaction with the Qiskit Program running in the Qiskit Runtime on the cloud."
   ]
  },
  {
   "cell_type": "markdown",
   "metadata": {},
   "source": [
    "To call the VQE code on the Qiskit Runtime on the cloud, we interact with the `run` method of the provider\n",
    "```\n",
    "provider.run(progam_id, inputs, options, callback)\n",
    "```\n",
    "where \n",
    "* `program_id` determines the Qiskit Runtime program run, i.e. `'vqe'` for the VQE\n",
    "* `inputs` contains the input for the VQE algorithm\n",
    "* `options` specifies the backend\n",
    "* `callback` is the callback used inside the VQE"
   ]
  },
  {
   "cell_type": "markdown",
   "metadata": {},
   "source": [
    "Let's gather all the inputs to the VQE in a dictionary."
   ]
  },
  {
   "cell_type": "code",
   "execution_count": 21,
   "metadata": {},
   "outputs": [],
   "source": [
    "vqe_inputs = {\n",
    "    'ansatz': ansatz,\n",
    "    'operator': hamiltonian,\n",
    "    'optimizer': {'name': 'SPSA', 'maxiter': 5},  # let's only do a few iterations!\n",
    "    'initial_point': initial_point,\n",
    "    'measurement_error_mitigation': True,\n",
    "    'shots': 1024\n",
    "}"
   ]
  },
  {
   "cell_type": "markdown",
   "metadata": {},
   "source": [
    "The backend options only need to contain the name of the backend."
   ]
  },
  {
   "cell_type": "code",
   "execution_count": 22,
   "metadata": {},
   "outputs": [],
   "source": [
    "backend_options = {\n",
    "    'backend_name': backend.name()\n",
    "}"
   ]
  },
  {
   "cell_type": "markdown",
   "metadata": {},
   "source": [
    "The callback acts a little different than before. Instead of only being passed the VQE callback arguments, it is passed a tuple with the job ID as first argument, followed by the VQE arguments."
   ]
  },
  {
   "cell_type": "code",
   "execution_count": 23,
   "metadata": {},
   "outputs": [],
   "source": [
    "intermediate_info = {\n",
    "    'nfev': [],\n",
    "    'parameters': [],\n",
    "    'energy': [],\n",
    "    'stddev': []\n",
    "}\n",
    "\n",
    "def raw_callback(*args):\n",
    "    job_id, (nfev, parameters, energy, stddev) = args\n",
    "    intermediate_info['nfev'].append(nfev)\n",
    "    intermediate_info['parameters'].append(parameters)\n",
    "    intermediate_info['energy'].append(energy)\n",
    "    intermediate_info['stddev'].append(stddev)"
   ]
  },
  {
   "cell_type": "markdown",
   "metadata": {},
   "source": [
    "Now we can call the Qiskit Runtime VQE directly, without going through the convenience of the `VQEProgram`. \n",
    "Note, that the result will not be of the same type as `VQE` or `VQEProgram`, but a plain dictionary."
   ]
  },
  {
   "cell_type": "code",
   "execution_count": 24,
   "metadata": {},
   "outputs": [
    {
     "name": "stdout",
     "output_type": "stream",
     "text": [
      "Job ID: c2d4ut8likuqc7s4nqog\n"
     ]
    }
   ],
   "source": [
    "job = provider.runtime.run(\n",
    "    program_id='vqe',\n",
    "    inputs=vqe_inputs,\n",
    "    options=backend_options,\n",
    "    callback=raw_callback\n",
    ")\n",
    "print('Job ID:', job.job_id())"
   ]
  },
  {
   "cell_type": "code",
   "execution_count": 25,
   "metadata": {},
   "outputs": [],
   "source": [
    "result = job.result()"
   ]
  },
  {
   "cell_type": "code",
   "execution_count": 26,
   "metadata": {},
   "outputs": [
    {
     "name": "stdout",
     "output_type": "stream",
     "text": [
      "Reached -0.0805234521211203 after 16 evaluations.\n"
     ]
    }
   ],
   "source": [
    "print(f'Reached {result[\"optimal_value\"]} after {result[\"optimizer_evals\"]} evaluations.')"
   ]
  },
  {
   "cell_type": "code",
   "execution_count": 27,
   "metadata": {},
   "outputs": [
    {
     "name": "stdout",
     "output_type": "stream",
     "text": [
      "Available keys: ['optimizer_evals', 'optimizer_time', 'optimal_value', 'optimal_point', 'optimal_parameters', 'cost_function_evals', 'eigenstate', 'eigenvalue', 'aux_operator_eigenvalues', 'optimizer_history']\n"
     ]
    }
   ],
   "source": [
    "print('Available keys:', list(result.keys()))"
   ]
  },
  {
   "cell_type": "code",
   "execution_count": null,
   "metadata": {},
   "outputs": [],
   "source": []
  }
 ],
 "metadata": {
  "kernelspec": {
   "display_name": "Python 3",
   "language": "python",
   "name": "python3"
  },
  "language_info": {
   "codemirror_mode": {
    "name": "ipython",
    "version": 3
   },
   "file_extension": ".py",
   "mimetype": "text/x-python",
   "name": "python",
   "nbconvert_exporter": "python",
   "pygments_lexer": "ipython3",
   "version": "3.7.10"
  }
 },
 "nbformat": 4,
 "nbformat_minor": 4
}
