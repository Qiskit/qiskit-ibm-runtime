{
 "cells": [
  {
   "cell_type": "code",
   "execution_count": null,
   "id": "9f3d568e",
   "metadata": {},
   "outputs": [],
   "source": [
    "from qiskit import QuantumCircuit, QuantumRegister\n",
    "from qiskit_ibm_runtime import IBMRuntimeService\n",
    "staging = '05333ad550f6b1ddacd40e5f9f1c346e2e182d7b97c598e0dd0e58b79bbd02204104809b5885fb0f0de234621b08690b08fcb541b71af37d2872486716c362c6'\n",
    "prod = 'fbf673e11c4bbd3469d16f1600c49b36f8524542dd23d5beec91b4b2de02198a5365fd8fe432c140264e35939007c513751c4816c0a4ce99b07bf434cac28048'\n",
    "# IBMRuntimeService.save_account(token=staging, url='https://auth-dev.quantum-computing.ibm.com/api', auth='legacy')\n",
    "\n",
    "# from qiskit_ibm_runtime import IBMRuntimeService\n",
    "#service = IBMRuntimeService(token='3029f8a4877af34b9808cffd979da7c89f17c40a719be2088c8654f15ed017744d65b39ffc68df26019341fd93cebbd9e870cd11ce02bc7e9890dae8024e2ae1', url='https://auth-dev.quantum-computing.ibm.com/api', auth=\"legacy\")\n",
    "service = IBMRuntimeService(token=prod, auth=\"legacy\")\n"
   ]
  },
  {
   "cell_type": "code",
   "execution_count": null,
   "id": "04c37272",
   "metadata": {},
   "outputs": [],
   "source": [
    "# import json\n",
    "# from qiskit_ibm_runtime.utils import RuntimeEncoder, RuntimeDecoder\n",
    "# from qiskit.circuit.library import RYYGate, XGate, CXGate, CZGate, MCPhaseGate, C4XGate, MCXGate, PhaseGate, RXGate\n",
    "\n",
    "\n",
    "# gate = RYYGate(theta=0.1)\n",
    "# print(gate)\n",
    "# gate.num_qubits\n",
    "\n",
    "# x = json.dumps(gate, cls=RuntimeEncoder)\n",
    "# print(x, type(x))\n",
    "# res = json.loads(x, cls=RuntimeDecoder)\n",
    "# print(res, type(res))"
   ]
  },
  {
   "cell_type": "code",
   "execution_count": null,
   "id": "f8ebc7b0",
   "metadata": {},
   "outputs": [],
   "source": [
    "def resultCallback(job_id, interim_result):\n",
    "    print(interim_result)\n",
    "    print('hi')\n",
    "\n",
    "service = IBMRuntimeService()\n",
    "backend = service.backend('ibmq_qasm_simulator')\n",
    "\n",
    "# Create a circuit.\n",
    "qc = QuantumCircuit(2, 2)\n",
    "qc.h(0)\n",
    "qc.cx(0, 1)\n",
    "qc.measure_all()\n",
    "\n",
    "# Set the \"circuit-runner\" program parameters\n",
    "params = service.program(program_id=\"circuit-runner\").parameters()\n",
    "params.circuits = qc\n",
    "params.measurement_error_mitigation = True\n",
    "\n",
    "# Configure backend options\n",
    "options = {'backend_name': backend.name()}\n",
    "\n",
    "# Execute the circuit using the \"circuit-runner\" program.\n",
    "job = service.run(program_id=\"circuit-runner\",\n",
    "                  options=options,\n",
    "                  inputs=params, callback=resultCallback)\n",
    "job.stream_results(callback=resultCallback)"
   ]
  },
  {
   "cell_type": "code",
   "execution_count": null,
   "id": "403c5fa7",
   "metadata": {},
   "outputs": [],
   "source": [
    "job.wait_for_final_state()"
   ]
  },
  {
   "cell_type": "code",
   "execution_count": null,
   "id": "98ef2359",
   "metadata": {},
   "outputs": [],
   "source": [
    "job.result()"
   ]
  },
  {
   "cell_type": "code",
   "execution_count": null,
   "id": "0c903dfc",
   "metadata": {},
   "outputs": [],
   "source": [
    "from qiskit.opflow import Z, I\n",
    "\n",
    "num_qubits = 4\n",
    "hamiltonian = (Z ^ Z) ^ (I ^ (num_qubits - 2))"
   ]
  },
  {
   "cell_type": "code",
   "execution_count": null,
   "id": "16a18ca0",
   "metadata": {},
   "outputs": [],
   "source": [
    "from qiskit.circuit.library import EfficientSU2\n",
    "\n",
    "\n",
    "# ansatz = EfficientSU2()\n",
    "ansatz = EfficientSU2()\n",
    "backend = service.backend(\"ibmq_qasm_simulator\")\n",
    "vqe_inputs = {\n",
    "    \"ansatz\": ansatz,\n",
    "    \"operator\": hamiltonian,\n",
    "    \"optimizer\": {\"name\": \"SPSA\", \"maxiter\": 5},  # let's only do a few iterations!\n",
    "    \"measurement_error_mitigation\": True,\n",
    "    \"shots\": 1024,\n",
    "}\n",
    "\n",
    "\n",
    "backend_options = {\"backend_name\": backend.name()}\n",
    "intermediate_info = {\"nfev\": [], \"parameters\": [], \"energy\": [], \"stddev\": []}\n",
    "\n",
    "\n",
    "def raw_callback(*args):\n",
    "    job_id, (nfev, parameters, energy, stddev) = args\n",
    "    intermediate_info[\"nfev\"].append(nfev)\n",
    "    intermediate_info[\"parameters\"].append(parameters)\n",
    "    intermediate_info[\"energy\"].append(energy)\n",
    "    intermediate_info[\"stddev\"].append(stddev)\n",
    "    \n",
    "job = service.run(\n",
    "    program_id=\"vqe\", inputs=vqe_inputs, options=backend_options, callback=raw_callback\n",
    ")\n",
    "print(\"Job ID:\", job.job_id)\n"
   ]
  },
  {
   "cell_type": "code",
   "execution_count": 11,
   "id": "9486d48b",
   "metadata": {},
   "outputs": [
    {
     "name": "stdout",
     "output_type": "stream",
     "text": [
      "[[1 2 3]\n",
      " [2 5 6]] <class 'numpy.ndarray'>\n"
     ]
    }
   ],
   "source": [
    "import numpy as np\n",
    "\n",
    "arr = np.array([[ 1, 2, 3], [2,5,6]], dtype=object)\n",
    "print(arr, type(arr))\n",
    "\n",
    "\n",
    " \n",
    "# isinstance(arr.dtype, object)"
   ]
  },
  {
   "cell_type": "code",
   "execution_count": 12,
   "id": "78c7f402",
   "metadata": {},
   "outputs": [
    {
     "name": "stdout",
     "output_type": "stream",
     "text": [
      "[[1 2 3]\n",
      " [2 5 6]] object\n",
      "{\"__type__\": \"ndarray\", \"__value__\": [[1, 2, 3], [2, 5, 6]]}\n",
      "{'__type__': 'ndarray', '__value__': [[1, 2, 3], [2, 5, 6]]} <class 'dict'>\n",
      "[[1, 2, 3], [2, 5, 6]] <class 'list'>\n",
      "[[1 2 3]\n",
      " [2 5 6]]\n"
     ]
    }
   ],
   "source": [
    "from qiskit_ibm_runtime.utils import RuntimeEncoder, RuntimeDecoder\n",
    "import json\n",
    "\n",
    "\n",
    "x = json.dumps(arr, cls=RuntimeEncoder)\n",
    "print(x)\n",
    "z = json.loads(x, cls=RuntimeDecoder)\n",
    "print(z)"
   ]
  },
  {
   "cell_type": "code",
   "execution_count": 10,
   "id": "77420ac4",
   "metadata": {},
   "outputs": [
    {
     "data": {
      "text/plain": [
       "array([[ True,  True,  True],\n",
       "       [ True,  True,  True]])"
      ]
     },
     "execution_count": 10,
     "metadata": {},
     "output_type": "execute_result"
    }
   ],
   "source": [
    "arr == z"
   ]
  },
  {
   "cell_type": "code",
   "execution_count": null,
   "id": "693339b7",
   "metadata": {},
   "outputs": [],
   "source": []
  },
  {
   "cell_type": "code",
   "execution_count": null,
   "id": "ae884b56",
   "metadata": {},
   "outputs": [],
   "source": []
  },
  {
   "cell_type": "code",
   "execution_count": null,
   "id": "73fd2eb3",
   "metadata": {},
   "outputs": [],
   "source": []
  },
  {
   "cell_type": "code",
   "execution_count": null,
   "id": "11e249f8",
   "metadata": {},
   "outputs": [],
   "source": []
  }
 ],
 "metadata": {
  "kernelspec": {
   "display_name": "Python 3 (ipykernel)",
   "language": "python",
   "name": "python3"
  },
  "language_info": {
   "codemirror_mode": {
    "name": "ipython",
    "version": 3
   },
   "file_extension": ".py",
   "mimetype": "text/x-python",
   "name": "python",
   "nbconvert_exporter": "python",
   "pygments_lexer": "ipython3",
   "version": "3.7.11"
  }
 },
 "nbformat": 4,
 "nbformat_minor": 5
}
